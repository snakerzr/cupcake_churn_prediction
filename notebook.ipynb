{
 "cells": [
  {
   "cell_type": "markdown",
   "id": "3a59d61f-e3bd-4565-9954-0b6f026b8bd4",
   "metadata": {
    "tags": [],
    "toc-hr-collapsed": true
   },
   "source": [
    "# Описание проекта и данных"
   ]
  },
  {
   "cell_type": "markdown",
   "id": "0e918b3b-b82d-4491-a266-f1204a6a60aa",
   "metadata": {},
   "source": [
    "Для прогнозирования используются данные о покупках юзеров за период 2021 года. Всего доступно больше 2 млн. строк.\n",
    "\n",
    "Описание данных:\n",
    "data.csv\n",
    "* `'clnt_ID'` - уникальный айди юзера, str\n",
    "* `'timestamp'` - дата и время совершения покупки, datetime\n",
    "* `'gest_Sum'` - сумма покупки, float\n",
    "* `'gest_Discount'` - сумма скидки, float\n",
    "\n",
    "Флаг оттока проставляется, если после покупки юзера прошло больше 45 дней.\n",
    "См. раздел EDA про таргет о логике проставления таргета.\n",
    "\n",
    "target.csv\n",
    "* `'clnt_ID'` - уникальный айди юзера, str\n",
    "* `'target'` - флаг оттока, int: 1 если юзер ушел в отток | 0 если НЕ отток\n",
    "\n",
    "Поведение юзера описывается историей его покупок, суммой чека и размером скидки к чеку. В компании действует программа лояльности, участвуя в которой юзеры получают скидку на любую покупку и могут получать дополнительные скидки по разным промо-акциями."
   ]
  },
  {
   "cell_type": "markdown",
   "id": "7cfede5f-02e3-4b42-bbf2-48868e30b588",
   "metadata": {},
   "source": [
    "**Это задача бинарной классификации.**  \n",
    "Используем метрику: `roc auc`."
   ]
  },
  {
   "cell_type": "markdown",
   "id": "7bc638e5-67d1-4ee5-9866-c9d149e7272c",
   "metadata": {},
   "source": [
    "# Резюме\n",
    "\n",
    "К сожалению не было полной информации о логике построения таргета, поэтому не до конца ясны детали того, что должна предсказывать модель в итоге и нельзя было проверить таргет на корректность. Тем не менее в результате был достигнут скор ~0.77 ROC AUC на catboost с использованием дефолтных гиперпараметров. Данные были преобразованы из \"почековой\" информации в агрегированную - о клиентах. В данных было много клиентов с одной покупкой, которые были удалены из обучающего набора данных, т.к. предсказание оттока полезно бизнесу для возвращения \"лояльных\" клиентов, т.е. тех, кто какое-то время совершал регулярные покупки. А клиенты с 1 покупкой \"лояльными\" не являются и к ним стоит применять другой маркетинговый подход. Они, своего рода, не являются отточными. Более того эти же самые клиенты, судя по данным о сумме чека и скидке, были привлечены маркетинговой акцией, вероятно, купонами. И это были записи с около нулевым чеком и большой скидкой в 1000 руб. Таких клиентов было много и они искажали аналитическую картину. \n",
    "В итоге основными признаками обнаружились средний диапазон между ближайшими покупками (чеками) и общее кол-во покупок. Исключительно эти 2 признака давали ROC AUC ~0.7. Это видно и при сравнении распределений этих признаков по таргету.\n",
    "При использовании модели в продакшене нужно заранее отсекать всех новых клиентов с 1 покупкой и отдавать на предикт только тех, у кого как минимум 2 покупки. Соответсвенно первым по умолчанию ставить класс 0. Также, возможно, кол-во покупок, которые необходимо совершить клиенту, чтобы попасть в категорию \"лояльные\" и как следствие предсказывать отток - может быть больше 2х. "
   ]
  },
  {
   "cell_type": "markdown",
   "id": "c84a5095-84e0-48d0-86b1-8abf69d3a4e0",
   "metadata": {},
   "source": [
    "<!-- ## Что здесь можно сделать? - Заметки \n",
    "**Нужно помнить, что по сути это тайм серия.**  -- **Внимательно!**  \n",
    "Т.е. я предполагаю, что клиент покупает, покупает, покупает, потом фигак и перестал покупать. Один клиент - один вектор.\n",
    "А тут куча вектором принадлежат одному клиенту. \n",
    "\n",
    "Т.е. я бы даже сказал, что в том виде в котором оно есть, модель особо-то ничего не найдет. Как она сможет по дате, сумме покупки и скидке предсказать уйдет человек или нет, не зная его истории?\n",
    "---ОТВЕТ---\n",
    "Да, это последовательность событий, но прям как таймсерию использовать не можем, потому что нерегулярные сигналы и из-за этого много сложностей.\n",
    "Но! Можно использовать эти же строки, но к ним добавлять \"память\" о клиенте, т.е. его историю к конкретной сделке.\n",
    "\n",
    "**Что может говорить, что клиент собрался уйти и не вернуться?**  \n",
    "Т.е. гипотетически что может говорить о том, что клиент собирается уйти и не вернуться?\n",
    "1. Увеличивается интервал между покупками от покупки к покупке. Типа 1 день, потом 2, потом 5 и т.д.\n",
    "2. Как-то изменяется объем чека (уменьшается, увеличивается?) \n",
    "3. Как-то меняется ассортимент (типа вот он покупал одно и тоже, а тут вдруг перестал покупать одно и тоже (испортился товар на его вкус) и он либо сразу ушел, либо попробовал другое и остался, либо попробовал другое - ему не понравилось - ушел\n",
    "\n",
    "**Как должен работать предикт? Какие данные должны поступать на вход?**  -- **Есть пол-ответа**  \n",
    "~~Это видимо тоже относится к тому, что это своего рода таймсерия~~\n",
    "Вся инфа находится в БД, которая обновляется ночью. И модель будет работать ночью и может использовать всю бд. Как именно пока я не понимаю.\n",
    "\n",
    "\n",
    "**Если сейчас дать модели на вход просто дату, сумму чека и скидку...**  \n",
    "То она будет пытаться предсказать отток исключительно по дате, сумме чеку и скидке - врядли у нее что-то получится взразумительное.\n",
    "\n",
    "\n",
    "**Сумма в месяц стабильна для юзера, а отклонение может указывать на отток**  \n",
    "По результатам уже проведенного анализа есть такой вывод:\n",
    "сумма, которую готов тратить юзер в месяц,  достаточна стабильна и слабо меняется со временем. Потратив в этом месяце больше обычного, юзер скорее всего в следующем не будет покупать;\n",
    "\n",
    "По каждому клиенту взять средний чек, каким-то образом определить порог отклонения от этого среднего чека и посмотреть насколько факт этого отклонения коррелирует с оттоком. Может это будет хорошая фича. Но проблема в том, что для предсказания не достаточно \n",
    "\n",
    "**Самый простой и очевидный способ подготовки данных**  \n",
    "Это взять по каждому клиенту кол-во покупок, min,max,mean,median,stdev по gest_Sum, gest_Discount, и перерывом между покупками\n",
    "\n",
    "**Вариант еще лучше!**  \n",
    "Используем каждую строку как есть, не переводим ее в строку по уникальному клиенту, а точно также одна строка одна сделка.\n",
    "К каждой такой строке мы накопительно добавляем кумулятивную инфу о клиенте, т.е.:\n",
    "* Сколько дней на момент сделки прошло с момента первой сделки\n",
    "* Какой на текущий момент средний чек\n",
    "* Какая разница между среднем чеком и чеком сделки\n",
    "* Сколько сделок произошло на момент текущей сделки\n",
    "* Сколько сделок в месяц в среднем\n",
    "\n",
    "\n",
    "\n",
    "## Вопросы:\n",
    "**>>>Что значат 0 в gest_sum?<<<**\n",
    "\n",
    "**Как работают скидки? Это накопительные баллы или просто скидки? Почему основные скидки не больше 100 руб, но бывают аж в 3000 руб.?** -->"
   ]
  },
  {
   "cell_type": "markdown",
   "id": "6f763810",
   "metadata": {},
   "source": [
    "**План**\n",
    "\n",
    "0. Описание проекта и данных\n",
    "1. Резюме\n",
    "1. Импорты и настройки\n",
    "2. Предобработка \n",
    "3. EDA\n",
    "    * Исследование таргета\n",
    "    * Исследование признаков\n",
    "    * Сравнение признаков по целевым классам\n",
    "4. Baseline and model selection\n",
    "    * Baseline на датасете, где клиенты с одной покупкой находятся в классе 0\n",
    "    * Baseline на датасете, где клиенты с одной покупкой удалены\n",
    "4. Feature engineering\n",
    "    * Создание новых фичей\n",
    "    * Анализ новых фичей\n",
    "6. Model tuning and evaluation"
   ]
  },
  {
   "cell_type": "markdown",
   "id": "c4946a18-ef6f-44c0-a336-da9167ab77d9",
   "metadata": {
    "tags": []
   },
   "source": [
    "# Импорты и настройки"
   ]
  },
  {
   "cell_type": "code",
   "execution_count": 1,
   "id": "cf9e2794-3933-48dd-9665-87d7ea6f5f13",
   "metadata": {},
   "outputs": [],
   "source": [
    "import warnings\n",
    "\n",
    "import numpy as np\n",
    "import pandas as pd\n",
    "\n",
    "import statsmodels.api as sm\n",
    "\n",
    "import matplotlib.pyplot as plt\n",
    "import seaborn as sns\n",
    "\n",
    "# from pandas_profiling import ProfileReport\n",
    "\n",
    "from sklearn.preprocessing import StandardScaler\n",
    "\n",
    "from sklearn.linear_model import LogisticRegression\n",
    "from sklearn.tree import DecisionTreeClassifier\n",
    "from sklearn.ensemble import RandomForestClassifier\n",
    "\n",
    "from catboost import CatBoostClassifier, Pool, metrics, cv\n",
    "\n",
    "from sklearn.model_selection import ShuffleSplit\n",
    "from sklearn.model_selection import cross_val_score\n",
    "from sklearn.model_selection import cross_validate\n",
    "\n",
    "from sklearn.metrics import f1_score\n"
   ]
  },
  {
   "cell_type": "code",
   "execution_count": 2,
   "id": "f049c0bd-bb38-4983-8627-8f10200cd4f1",
   "metadata": {},
   "outputs": [],
   "source": [
    "# Настройки pandas\n",
    "# pd.set_option('display.max_rows', 100)\n",
    "pd.options.display.float_format = '{:.3f}'.format"
   ]
  },
  {
   "cell_type": "code",
   "execution_count": 3,
   "id": "e98fbb49-e769-4cc7-80f8-9a89d6932236",
   "metadata": {},
   "outputs": [],
   "source": [
    "# np set random seed\n",
    "rand_state = 777\n",
    "# rng = np.random.default_rng(rand_state)"
   ]
  },
  {
   "cell_type": "markdown",
   "id": "bee94788-bcf3-48c4-81d2-2a1cabebfab1",
   "metadata": {},
   "source": [
    "# Предобработка"
   ]
  },
  {
   "cell_type": "code",
   "execution_count": 4,
   "id": "4215629b-2bbb-424b-b874-7ce4c61f5c21",
   "metadata": {},
   "outputs": [],
   "source": [
    "df = pd.read_csv('data/data.csv', parse_dates=[1])\n",
    "df_target = pd.read_csv('data/target.csv')"
   ]
  },
  {
   "cell_type": "code",
   "execution_count": 5,
   "id": "a727e5a4-5600-4f31-acb2-68b05ebf84a5",
   "metadata": {
    "tags": []
   },
   "outputs": [
    {
     "data": {
      "text/html": [
       "<div>\n",
       "<style scoped>\n",
       "    .dataframe tbody tr th:only-of-type {\n",
       "        vertical-align: middle;\n",
       "    }\n",
       "\n",
       "    .dataframe tbody tr th {\n",
       "        vertical-align: top;\n",
       "    }\n",
       "\n",
       "    .dataframe thead th {\n",
       "        text-align: right;\n",
       "    }\n",
       "</style>\n",
       "<table border=\"1\" class=\"dataframe\">\n",
       "  <thead>\n",
       "    <tr style=\"text-align: right;\">\n",
       "      <th></th>\n",
       "      <th>clnt_ID</th>\n",
       "      <th>timestamp</th>\n",
       "      <th>gest_Sum</th>\n",
       "      <th>gest_Discount</th>\n",
       "    </tr>\n",
       "  </thead>\n",
       "  <tbody>\n",
       "    <tr>\n",
       "      <th>0</th>\n",
       "      <td>193B4268-0B4A-475E-B1D0-FF5515E29D29</td>\n",
       "      <td>2021-01-02 09:09:17.060</td>\n",
       "      <td>900.000</td>\n",
       "      <td>300.000</td>\n",
       "    </tr>\n",
       "    <tr>\n",
       "      <th>1</th>\n",
       "      <td>8DA65A37-C1D0-41D4-98E1-AB6C5BF1367F</td>\n",
       "      <td>2021-01-02 09:12:24.850</td>\n",
       "      <td>165.000</td>\n",
       "      <td>55.000</td>\n",
       "    </tr>\n",
       "    <tr>\n",
       "      <th>2</th>\n",
       "      <td>26ACF3C8-25C8-4345-ABC2-33DA15EA6454</td>\n",
       "      <td>2021-01-02 09:38:21.643</td>\n",
       "      <td>800.500</td>\n",
       "      <td>25.500</td>\n",
       "    </tr>\n",
       "    <tr>\n",
       "      <th>3</th>\n",
       "      <td>0F77DDB3-A9A7-44BE-AAAB-9DF59B66A695</td>\n",
       "      <td>2021-01-02 09:45:17.793</td>\n",
       "      <td>580.000</td>\n",
       "      <td>0.000</td>\n",
       "    </tr>\n",
       "    <tr>\n",
       "      <th>4</th>\n",
       "      <td>F16BCF77-FA5A-4093-B7E3-FA86E2B1EA31</td>\n",
       "      <td>2021-01-02 09:59:50.453</td>\n",
       "      <td>148.900</td>\n",
       "      <td>3.100</td>\n",
       "    </tr>\n",
       "  </tbody>\n",
       "</table>\n",
       "</div>"
      ],
      "text/plain": [
       "                                clnt_ID               timestamp  gest_Sum  \\\n",
       "0  193B4268-0B4A-475E-B1D0-FF5515E29D29 2021-01-02 09:09:17.060   900.000   \n",
       "1  8DA65A37-C1D0-41D4-98E1-AB6C5BF1367F 2021-01-02 09:12:24.850   165.000   \n",
       "2  26ACF3C8-25C8-4345-ABC2-33DA15EA6454 2021-01-02 09:38:21.643   800.500   \n",
       "3  0F77DDB3-A9A7-44BE-AAAB-9DF59B66A695 2021-01-02 09:45:17.793   580.000   \n",
       "4  F16BCF77-FA5A-4093-B7E3-FA86E2B1EA31 2021-01-02 09:59:50.453   148.900   \n",
       "\n",
       "   gest_Discount  \n",
       "0        300.000  \n",
       "1         55.000  \n",
       "2         25.500  \n",
       "3          0.000  \n",
       "4          3.100  "
      ]
     },
     "metadata": {},
     "output_type": "display_data"
    },
    {
     "data": {
      "text/html": [
       "<div>\n",
       "<style scoped>\n",
       "    .dataframe tbody tr th:only-of-type {\n",
       "        vertical-align: middle;\n",
       "    }\n",
       "\n",
       "    .dataframe tbody tr th {\n",
       "        vertical-align: top;\n",
       "    }\n",
       "\n",
       "    .dataframe thead th {\n",
       "        text-align: right;\n",
       "    }\n",
       "</style>\n",
       "<table border=\"1\" class=\"dataframe\">\n",
       "  <thead>\n",
       "    <tr style=\"text-align: right;\">\n",
       "      <th></th>\n",
       "      <th>clnt_ID</th>\n",
       "      <th>target</th>\n",
       "    </tr>\n",
       "  </thead>\n",
       "  <tbody>\n",
       "    <tr>\n",
       "      <th>0</th>\n",
       "      <td>000070A8-DB9E-4AB7-8C4D-6169D4AEBB2A</td>\n",
       "      <td>1</td>\n",
       "    </tr>\n",
       "    <tr>\n",
       "      <th>1</th>\n",
       "      <td>00007EB0-6331-438E-A917-E9840C260876</td>\n",
       "      <td>0</td>\n",
       "    </tr>\n",
       "    <tr>\n",
       "      <th>2</th>\n",
       "      <td>0000993D-A30E-4233-AB3F-D368D9A0D2C4</td>\n",
       "      <td>1</td>\n",
       "    </tr>\n",
       "    <tr>\n",
       "      <th>3</th>\n",
       "      <td>0000A724-7BC5-408F-9F16-6CC3AB16322F</td>\n",
       "      <td>0</td>\n",
       "    </tr>\n",
       "    <tr>\n",
       "      <th>4</th>\n",
       "      <td>0000B90C-56DE-43C2-A213-624AFBE36DB2</td>\n",
       "      <td>0</td>\n",
       "    </tr>\n",
       "  </tbody>\n",
       "</table>\n",
       "</div>"
      ],
      "text/plain": [
       "                                clnt_ID  target\n",
       "0  000070A8-DB9E-4AB7-8C4D-6169D4AEBB2A       1\n",
       "1  00007EB0-6331-438E-A917-E9840C260876       0\n",
       "2  0000993D-A30E-4233-AB3F-D368D9A0D2C4       1\n",
       "3  0000A724-7BC5-408F-9F16-6CC3AB16322F       0\n",
       "4  0000B90C-56DE-43C2-A213-624AFBE36DB2       0"
      ]
     },
     "execution_count": 5,
     "metadata": {},
     "output_type": "execute_result"
    }
   ],
   "source": [
    "display(df.head())\n",
    "df_target.head()"
   ]
  },
  {
   "cell_type": "code",
   "execution_count": 6,
   "id": "ff02bd9e-7e24-4993-9166-7b00c6c520d6",
   "metadata": {},
   "outputs": [
    {
     "name": "stdout",
     "output_type": "stream",
     "text": [
      "<class 'pandas.core.frame.DataFrame'>\n",
      "RangeIndex: 2371635 entries, 0 to 2371634\n",
      "Data columns (total 4 columns):\n",
      " #   Column         Dtype         \n",
      "---  ------         -----         \n",
      " 0   clnt_ID        object        \n",
      " 1   timestamp      datetime64[ns]\n",
      " 2   gest_Sum       float64       \n",
      " 3   gest_Discount  float64       \n",
      "dtypes: datetime64[ns](1), float64(2), object(1)\n",
      "memory usage: 72.4+ MB\n"
     ]
    }
   ],
   "source": [
    "df.info()"
   ]
  },
  {
   "cell_type": "code",
   "execution_count": 7,
   "id": "44769d36-e3d7-4d70-90bf-eca19c73db1a",
   "metadata": {},
   "outputs": [
    {
     "name": "stdout",
     "output_type": "stream",
     "text": [
      "<class 'pandas.core.frame.DataFrame'>\n",
      "RangeIndex: 255109 entries, 0 to 255108\n",
      "Data columns (total 2 columns):\n",
      " #   Column   Non-Null Count   Dtype \n",
      "---  ------   --------------   ----- \n",
      " 0   clnt_ID  255109 non-null  object\n",
      " 1   target   255109 non-null  int64 \n",
      "dtypes: int64(1), object(1)\n",
      "memory usage: 3.9+ MB\n"
     ]
    }
   ],
   "source": [
    "df_target.info()"
   ]
  },
  {
   "cell_type": "code",
   "execution_count": 8,
   "id": "781adff0-2e2b-4b8f-854f-e1117184d370",
   "metadata": {},
   "outputs": [],
   "source": [
    "# Изменим тип данных в timestamp на datetime\n",
    "# df['timestamp'] = pd.to_datetime(df['timestamp'], format='%Y-%m-%d %H:%M:%S.%f')\n",
    "# Добавим столбец с только датой.\n",
    "# df['date'] = df['timestamp'].dt.date"
   ]
  },
  {
   "cell_type": "markdown",
   "id": "49681f41-5d18-4b77-b609-55b3be247820",
   "metadata": {},
   "source": [
    "Проверим на дубликаты и пропуски."
   ]
  },
  {
   "cell_type": "code",
   "execution_count": 9,
   "id": "36c228d5-a5af-4969-a339-1f4a5618bab1",
   "metadata": {},
   "outputs": [
    {
     "data": {
      "text/plain": [
       "clnt_ID          0\n",
       "timestamp        0\n",
       "gest_Sum         0\n",
       "gest_Discount    0\n",
       "dtype: int64"
      ]
     },
     "execution_count": 9,
     "metadata": {},
     "output_type": "execute_result"
    }
   ],
   "source": [
    "df.isna().sum()"
   ]
  },
  {
   "cell_type": "markdown",
   "id": "c3441290-9e5d-4555-b62a-a45c0f1e90c8",
   "metadata": {},
   "source": [
    "Пропусков нет."
   ]
  },
  {
   "cell_type": "code",
   "execution_count": 10,
   "id": "ea49f18b-7ab0-43b3-a771-9902f773d3c4",
   "metadata": {},
   "outputs": [
    {
     "data": {
      "text/plain": [
       "129"
      ]
     },
     "execution_count": 10,
     "metadata": {},
     "output_type": "execute_result"
    }
   ],
   "source": [
    "df.duplicated().sum()"
   ]
  },
  {
   "cell_type": "markdown",
   "id": "fdc39adf-b1ad-4708-a276-5ea256cc29f9",
   "metadata": {},
   "source": [
    "Есть дубликаты, посмотрим на них."
   ]
  },
  {
   "cell_type": "code",
   "execution_count": 11,
   "id": "2b237787-c308-4d89-869d-8335098aa370",
   "metadata": {
    "tags": []
   },
   "outputs": [
    {
     "data": {
      "text/html": [
       "<div>\n",
       "<style scoped>\n",
       "    .dataframe tbody tr th:only-of-type {\n",
       "        vertical-align: middle;\n",
       "    }\n",
       "\n",
       "    .dataframe tbody tr th {\n",
       "        vertical-align: top;\n",
       "    }\n",
       "\n",
       "    .dataframe thead th {\n",
       "        text-align: right;\n",
       "    }\n",
       "</style>\n",
       "<table border=\"1\" class=\"dataframe\">\n",
       "  <thead>\n",
       "    <tr style=\"text-align: right;\">\n",
       "      <th></th>\n",
       "      <th>clnt_ID</th>\n",
       "      <th>timestamp</th>\n",
       "      <th>gest_Sum</th>\n",
       "      <th>gest_Discount</th>\n",
       "    </tr>\n",
       "  </thead>\n",
       "  <tbody>\n",
       "    <tr>\n",
       "      <th>639</th>\n",
       "      <td>1FA367BD-8E07-437E-AB6A-009D53533128</td>\n",
       "      <td>2021-01-02 12:00:00</td>\n",
       "      <td>982.200</td>\n",
       "      <td>0.000</td>\n",
       "    </tr>\n",
       "    <tr>\n",
       "      <th>663</th>\n",
       "      <td>1FA367BD-8E07-437E-AB6A-009D53533128</td>\n",
       "      <td>2021-01-02 12:00:00</td>\n",
       "      <td>982.200</td>\n",
       "      <td>0.000</td>\n",
       "    </tr>\n",
       "    <tr>\n",
       "      <th>85786</th>\n",
       "      <td>3319362D-F6AD-498B-9B53-F59D0418915E</td>\n",
       "      <td>2021-01-14 14:00:00</td>\n",
       "      <td>1189.000</td>\n",
       "      <td>0.000</td>\n",
       "    </tr>\n",
       "    <tr>\n",
       "      <th>85787</th>\n",
       "      <td>3319362D-F6AD-498B-9B53-F59D0418915E</td>\n",
       "      <td>2021-01-14 14:00:00</td>\n",
       "      <td>1189.000</td>\n",
       "      <td>0.000</td>\n",
       "    </tr>\n",
       "    <tr>\n",
       "      <th>133279</th>\n",
       "      <td>A145C6F8-EDCB-47B1-BF5D-B328F6AF97CA</td>\n",
       "      <td>2021-01-20 16:00:00</td>\n",
       "      <td>0.000</td>\n",
       "      <td>0.000</td>\n",
       "    </tr>\n",
       "    <tr>\n",
       "      <th>...</th>\n",
       "      <td>...</td>\n",
       "      <td>...</td>\n",
       "      <td>...</td>\n",
       "      <td>...</td>\n",
       "    </tr>\n",
       "    <tr>\n",
       "      <th>2165277</th>\n",
       "      <td>E99EFF35-01BE-49A9-8F61-641F752051E5</td>\n",
       "      <td>2021-11-08 15:00:00</td>\n",
       "      <td>0.000</td>\n",
       "      <td>0.000</td>\n",
       "    </tr>\n",
       "    <tr>\n",
       "      <th>2174627</th>\n",
       "      <td>1A4C0239-A7AB-4188-84DB-8F52FBF6E13C</td>\n",
       "      <td>2021-11-10 11:00:00</td>\n",
       "      <td>282.240</td>\n",
       "      <td>37.760</td>\n",
       "    </tr>\n",
       "    <tr>\n",
       "      <th>2174629</th>\n",
       "      <td>1A4C0239-A7AB-4188-84DB-8F52FBF6E13C</td>\n",
       "      <td>2021-11-10 11:00:00</td>\n",
       "      <td>282.240</td>\n",
       "      <td>37.760</td>\n",
       "    </tr>\n",
       "    <tr>\n",
       "      <th>2198034</th>\n",
       "      <td>C9D86AF9-373C-4531-92A4-8FC752DD5D75</td>\n",
       "      <td>2021-11-14 12:00:00</td>\n",
       "      <td>0.000</td>\n",
       "      <td>0.000</td>\n",
       "    </tr>\n",
       "    <tr>\n",
       "      <th>2198035</th>\n",
       "      <td>C9D86AF9-373C-4531-92A4-8FC752DD5D75</td>\n",
       "      <td>2021-11-14 12:00:00</td>\n",
       "      <td>0.000</td>\n",
       "      <td>0.000</td>\n",
       "    </tr>\n",
       "  </tbody>\n",
       "</table>\n",
       "<p>225 rows × 4 columns</p>\n",
       "</div>"
      ],
      "text/plain": [
       "                                      clnt_ID           timestamp  gest_Sum  \\\n",
       "639      1FA367BD-8E07-437E-AB6A-009D53533128 2021-01-02 12:00:00   982.200   \n",
       "663      1FA367BD-8E07-437E-AB6A-009D53533128 2021-01-02 12:00:00   982.200   \n",
       "85786    3319362D-F6AD-498B-9B53-F59D0418915E 2021-01-14 14:00:00  1189.000   \n",
       "85787    3319362D-F6AD-498B-9B53-F59D0418915E 2021-01-14 14:00:00  1189.000   \n",
       "133279   A145C6F8-EDCB-47B1-BF5D-B328F6AF97CA 2021-01-20 16:00:00     0.000   \n",
       "...                                       ...                 ...       ...   \n",
       "2165277  E99EFF35-01BE-49A9-8F61-641F752051E5 2021-11-08 15:00:00     0.000   \n",
       "2174627  1A4C0239-A7AB-4188-84DB-8F52FBF6E13C 2021-11-10 11:00:00   282.240   \n",
       "2174629  1A4C0239-A7AB-4188-84DB-8F52FBF6E13C 2021-11-10 11:00:00   282.240   \n",
       "2198034  C9D86AF9-373C-4531-92A4-8FC752DD5D75 2021-11-14 12:00:00     0.000   \n",
       "2198035  C9D86AF9-373C-4531-92A4-8FC752DD5D75 2021-11-14 12:00:00     0.000   \n",
       "\n",
       "         gest_Discount  \n",
       "639              0.000  \n",
       "663              0.000  \n",
       "85786            0.000  \n",
       "85787            0.000  \n",
       "133279           0.000  \n",
       "...                ...  \n",
       "2165277          0.000  \n",
       "2174627         37.760  \n",
       "2174629         37.760  \n",
       "2198034          0.000  \n",
       "2198035          0.000  \n",
       "\n",
       "[225 rows x 4 columns]"
      ]
     },
     "execution_count": 11,
     "metadata": {},
     "output_type": "execute_result"
    }
   ],
   "source": [
    "df.loc[df.duplicated(keep=False)]"
   ]
  },
  {
   "cell_type": "markdown",
   "id": "2de29057-8b9d-4684-98c0-f2ddaa928b70",
   "metadata": {
    "tags": []
   },
   "source": [
    "Удалим дубликаты."
   ]
  },
  {
   "cell_type": "code",
   "execution_count": 12,
   "id": "007ee042-2d7d-4634-9962-c9bdcd324388",
   "metadata": {},
   "outputs": [],
   "source": [
    "df = df.drop_duplicates()"
   ]
  },
  {
   "cell_type": "code",
   "execution_count": 13,
   "id": "a50807cf-6b8d-4eaa-9a06-5b244e7ceecd",
   "metadata": {},
   "outputs": [
    {
     "data": {
      "text/plain": [
       "0"
      ]
     },
     "execution_count": 13,
     "metadata": {},
     "output_type": "execute_result"
    }
   ],
   "source": [
    "df.duplicated().sum()"
   ]
  },
  {
   "cell_type": "markdown",
   "id": "05de76ac-875f-4136-a9a5-d11b4f27d9a5",
   "metadata": {},
   "source": [
    "Дубликаты удалили."
   ]
  },
  {
   "cell_type": "code",
   "execution_count": 14,
   "id": "2e09daf9-2bcd-4729-93f4-a287688d865b",
   "metadata": {},
   "outputs": [],
   "source": [
    "# Проверим кол-во строк, где сумма и скидка равны 0\n",
    "# mask = (df['gest_Sum'] == 0) & (df['gest_Discount'] == 0)\n",
    "# df[mask]\n",
    "# Будем считать, что это техническая ошибка. Удалим эти строки.\n",
    "# df = df.drop(index=df[mask].index)\n",
    "# df[mask]"
   ]
  },
  {
   "cell_type": "markdown",
   "id": "ec2ca3c1-7083-4808-ae88-14eaec3c373c",
   "metadata": {},
   "source": [
    "Проверим данные на дубликаты по пользователю и времени."
   ]
  },
  {
   "cell_type": "code",
   "execution_count": 15,
   "id": "92cba26c-2e56-402b-b3c4-9bb4c3b4aa59",
   "metadata": {},
   "outputs": [
    {
     "data": {
      "text/html": [
       "<div>\n",
       "<style scoped>\n",
       "    .dataframe tbody tr th:only-of-type {\n",
       "        vertical-align: middle;\n",
       "    }\n",
       "\n",
       "    .dataframe tbody tr th {\n",
       "        vertical-align: top;\n",
       "    }\n",
       "\n",
       "    .dataframe thead th {\n",
       "        text-align: right;\n",
       "    }\n",
       "</style>\n",
       "<table border=\"1\" class=\"dataframe\">\n",
       "  <thead>\n",
       "    <tr style=\"text-align: right;\">\n",
       "      <th></th>\n",
       "      <th>clnt_ID</th>\n",
       "      <th>timestamp</th>\n",
       "      <th>gest_Sum</th>\n",
       "      <th>gest_Discount</th>\n",
       "    </tr>\n",
       "  </thead>\n",
       "  <tbody>\n",
       "    <tr>\n",
       "      <th>657</th>\n",
       "      <td>94B60CD3-F08B-4BE5-9D8C-892E1A41D987</td>\n",
       "      <td>2021-01-02 12:00:00</td>\n",
       "      <td>1389.000</td>\n",
       "      <td>0.000</td>\n",
       "    </tr>\n",
       "    <tr>\n",
       "      <th>658</th>\n",
       "      <td>94B60CD3-F08B-4BE5-9D8C-892E1A41D987</td>\n",
       "      <td>2021-01-02 12:00:00</td>\n",
       "      <td>600.000</td>\n",
       "      <td>0.000</td>\n",
       "    </tr>\n",
       "    <tr>\n",
       "      <th>4036</th>\n",
       "      <td>4E292158-5A60-4B49-8DD0-97491A0E1B84</td>\n",
       "      <td>2021-01-02 17:00:00</td>\n",
       "      <td>211.200</td>\n",
       "      <td>0.000</td>\n",
       "    </tr>\n",
       "    <tr>\n",
       "      <th>4037</th>\n",
       "      <td>4E292158-5A60-4B49-8DD0-97491A0E1B84</td>\n",
       "      <td>2021-01-02 17:00:00</td>\n",
       "      <td>930.360</td>\n",
       "      <td>0.000</td>\n",
       "    </tr>\n",
       "    <tr>\n",
       "      <th>4649</th>\n",
       "      <td>99C70A79-745A-4E25-85AB-3E03BBE22F73</td>\n",
       "      <td>2021-01-02 18:00:00</td>\n",
       "      <td>189.160</td>\n",
       "      <td>0.000</td>\n",
       "    </tr>\n",
       "    <tr>\n",
       "      <th>...</th>\n",
       "      <td>...</td>\n",
       "      <td>...</td>\n",
       "      <td>...</td>\n",
       "      <td>...</td>\n",
       "    </tr>\n",
       "    <tr>\n",
       "      <th>2370292</th>\n",
       "      <td>1DFCF34F-F1ED-4B15-BCD2-11FC4BBC710E</td>\n",
       "      <td>2021-12-15 18:00:00</td>\n",
       "      <td>384.000</td>\n",
       "      <td>95.000</td>\n",
       "    </tr>\n",
       "    <tr>\n",
       "      <th>2371307</th>\n",
       "      <td>1DFCF34F-F1ED-4B15-BCD2-11FC4BBC710E</td>\n",
       "      <td>2021-12-15 20:30:00</td>\n",
       "      <td>339.000</td>\n",
       "      <td>80.000</td>\n",
       "    </tr>\n",
       "    <tr>\n",
       "      <th>2371314</th>\n",
       "      <td>1DFCF34F-F1ED-4B15-BCD2-11FC4BBC710E</td>\n",
       "      <td>2021-12-15 20:30:00</td>\n",
       "      <td>241.500</td>\n",
       "      <td>47.500</td>\n",
       "    </tr>\n",
       "    <tr>\n",
       "      <th>2371527</th>\n",
       "      <td>5C5D0F65-AC7E-44BA-807D-9A97F01B8CC6</td>\n",
       "      <td>2021-12-15 21:25:00</td>\n",
       "      <td>215.250</td>\n",
       "      <td>38.750</td>\n",
       "    </tr>\n",
       "    <tr>\n",
       "      <th>2371528</th>\n",
       "      <td>5C5D0F65-AC7E-44BA-807D-9A97F01B8CC6</td>\n",
       "      <td>2021-12-15 21:25:00</td>\n",
       "      <td>264.000</td>\n",
       "      <td>55.000</td>\n",
       "    </tr>\n",
       "  </tbody>\n",
       "</table>\n",
       "<p>1199 rows × 4 columns</p>\n",
       "</div>"
      ],
      "text/plain": [
       "                                      clnt_ID           timestamp  gest_Sum  \\\n",
       "657      94B60CD3-F08B-4BE5-9D8C-892E1A41D987 2021-01-02 12:00:00  1389.000   \n",
       "658      94B60CD3-F08B-4BE5-9D8C-892E1A41D987 2021-01-02 12:00:00   600.000   \n",
       "4036     4E292158-5A60-4B49-8DD0-97491A0E1B84 2021-01-02 17:00:00   211.200   \n",
       "4037     4E292158-5A60-4B49-8DD0-97491A0E1B84 2021-01-02 17:00:00   930.360   \n",
       "4649     99C70A79-745A-4E25-85AB-3E03BBE22F73 2021-01-02 18:00:00   189.160   \n",
       "...                                       ...                 ...       ...   \n",
       "2370292  1DFCF34F-F1ED-4B15-BCD2-11FC4BBC710E 2021-12-15 18:00:00   384.000   \n",
       "2371307  1DFCF34F-F1ED-4B15-BCD2-11FC4BBC710E 2021-12-15 20:30:00   339.000   \n",
       "2371314  1DFCF34F-F1ED-4B15-BCD2-11FC4BBC710E 2021-12-15 20:30:00   241.500   \n",
       "2371527  5C5D0F65-AC7E-44BA-807D-9A97F01B8CC6 2021-12-15 21:25:00   215.250   \n",
       "2371528  5C5D0F65-AC7E-44BA-807D-9A97F01B8CC6 2021-12-15 21:25:00   264.000   \n",
       "\n",
       "         gest_Discount  \n",
       "657              0.000  \n",
       "658              0.000  \n",
       "4036             0.000  \n",
       "4037             0.000  \n",
       "4649             0.000  \n",
       "...                ...  \n",
       "2370292         95.000  \n",
       "2371307         80.000  \n",
       "2371314         47.500  \n",
       "2371527         38.750  \n",
       "2371528         55.000  \n",
       "\n",
       "[1199 rows x 4 columns]"
      ]
     },
     "execution_count": 15,
     "metadata": {},
     "output_type": "execute_result"
    }
   ],
   "source": [
    "df[df.duplicated(['clnt_ID','timestamp'],keep=False)]"
   ]
  },
  {
   "cell_type": "markdown",
   "id": "b7f2710d-118a-4ad6-b4be-f970e0cc2652",
   "metadata": {},
   "source": [
    "Это разные сделки, которые записаны в идентичное время. Скорее всего это техническая ошибка, или особенность добавления информации в БД."
   ]
  },
  {
   "cell_type": "markdown",
   "id": "317e47bf-444a-43b7-beb8-4d7e897f8943",
   "metadata": {},
   "source": [
    "Объединение этих данных может повлиять на статистики, поэтому оставим как есть."
   ]
  },
  {
   "cell_type": "markdown",
   "id": "6b5d1b1a-94d1-4e46-a80f-4369c373bac7",
   "metadata": {},
   "source": [
    "Проверим отсортирован ли датасет по дате, сравнив его с отсортированным со стабильной сортировкой."
   ]
  },
  {
   "cell_type": "code",
   "execution_count": 16,
   "id": "d51917b9-3e9a-4a5e-bf57-2f86c3c0861c",
   "metadata": {},
   "outputs": [
    {
     "data": {
      "text/plain": [
       "True"
      ]
     },
     "execution_count": 16,
     "metadata": {},
     "output_type": "execute_result"
    }
   ],
   "source": [
    "df_temp = df.sort_values(by='timestamp',kind='stable')\n",
    "df.equals(df_temp)"
   ]
  },
  {
   "cell_type": "markdown",
   "id": "65e7b837-1aad-4383-8457-c0346c32bd72",
   "metadata": {},
   "source": [
    "Да, сортировать его дополнительно не имеет смысла."
   ]
  },
  {
   "cell_type": "code",
   "execution_count": 17,
   "id": "5ce70fef-fcd2-4c27-995b-4afd92518b0e",
   "metadata": {},
   "outputs": [],
   "source": [
    "# df = df.sort_values(by='timestamp',kind='stable')"
   ]
  },
  {
   "cell_type": "code",
   "execution_count": 18,
   "id": "e3606ec1-6788-4500-bdbe-eda0a228a2f7",
   "metadata": {
    "jupyter": {
     "source_hidden": true
    },
    "tags": []
   },
   "outputs": [],
   "source": [
    "# # # Проверяем как работает групбай.\n",
    "# # # Надо убедиться, что он сохраняет порядок дат.\n",
    "# # # В документации написано, что сохраняет, но нужно убедиться\n",
    "# # # Groupby preserves the order of rows within each group. - from pandas documentation\n",
    "\n",
    "# def time_delta_sorted(col):\n",
    "#     return col.sort_values().diff()\n",
    "\n",
    "# def time_delta_as_is(col):\n",
    "#     return col.diff()\n",
    "\n",
    "# time_delta_sorted = df.groupby('clnt_ID')['timestamp'].transform(time_delta_sorted)\n",
    "# time_delta_as_is = df.groupby('clnt_ID')['timestamp'].transform(time_delta_as_is)\n",
    "\n",
    "# display(time_delta_sorted.compare(time_delta_as_is))\n",
    "# # # Разница есть\n",
    "\n",
    "# # Возьмем одного клиента из того индекса, где несовпадение .loc[2023446]\n",
    "\n",
    "# df_test = df.copy()\n",
    "# df_test['time_delta_sorted'] = time_delta_sorted\n",
    "# df_test['time_delta_as_is'] = time_delta_as_is\n",
    "\n",
    "# display(df_test.loc[2023446])\n",
    "\n",
    "# # Это AE47EEE1-D3CA-4F80-967B-949F2228192B\n",
    "# test_client = df_test[df_test['clnt_ID'] == 'AE47EEE1-D3CA-4F80-967B-949F2228192B']\n",
    "\n",
    "# # Проверим отсортирован ли он по дате (даже после сортировки всего датафрейма)\n",
    "# test_client.reset_index(drop=True).compare(test_client.sort_values('timestamp').reset_index(drop=True))\n",
    "\n",
    "# test_client.iloc[93:97,]\n",
    "\n",
    "# # Отсортируем его по дате\n",
    "# test_client = test_client.sort_values(by='timestamp')\n",
    "\n",
    "# test_client.iloc[93:97,]\n",
    "\n",
    "# # Эти строки поменялись местами\n",
    "\n",
    "# # Еще раз отсортируем\n",
    "\n",
    "# test_client = test_client.sort_values(by='timestamp')\n",
    "# test_client.iloc[93:97,]\n",
    "\n",
    "# # Они снова поменялись местами\n",
    "\n",
    "# # Создадим реальный diff\n",
    "# test_client['real_timestamp_diff'] = test_client['timestamp'].diff()\n",
    "\n",
    "# # Сравним с трансформом с сортировкой - столбец 'time_delta_sorted'\n",
    "# test_client['real_timestamp_diff'].compare(test_client['time_delta_sorted'])\n",
    "\n",
    "# # Сравним с трансформом без сортировки - столбец 'time_delta_as_is'\n",
    "# test_client['real_timestamp_diff'].compare(test_client['time_delta_as_is'])\n",
    "\n",
    "# # >>>>>>>>>>>ВЫВОД<<<<<<<<<<<<<<\n",
    "# # Вывод: Если при сравнени сортированного и несортированного датасета несовпадают только те строки, \n",
    "# # в которых идентичное время, то групбай сохраняет последовательность строк. \n",
    "# # Проблема лишь в том, как сортировка обрабатывает идентичные значения. (неустойичвая сортировка)\n",
    "# # Поэтому достаточно лишь раз отсортировать (устойчивой сортировкой) изначальный датасет."
   ]
  },
  {
   "cell_type": "markdown",
   "id": "f50d0fef-8d83-4492-a93f-a209a24dc1a4",
   "metadata": {},
   "source": [
    "## Итог по предобработке\n",
    "* Удалили дубликаты\n",
    "* Проверили сохраняет ли groupby порядок строк в группах - сохраняет."
   ]
  },
  {
   "cell_type": "markdown",
   "id": "4b97a434-748a-4fa4-8262-8b304a6a4a8c",
   "metadata": {},
   "source": [
    "# EDA"
   ]
  },
  {
   "cell_type": "markdown",
   "id": "b331f231-e61a-452b-9fe3-896a8966e2a5",
   "metadata": {},
   "source": [
    "\n",
    "\n",
    "Исследуем таргет, признаки, сравним признаки по целевым классам.\n",
    "\n",
    "**Таргет:**\n",
    "\n",
    "- Исследуем логику построения таргета\n",
    "- Проверим на дисбаланс\n",
    "\n",
    "**Исследование признаков:**\n",
    "\n",
    "- `'timestamp'`\n",
    "- `'gest_Sum'`\n",
    "- `'gest_Discount'`\n",
    "    \n",
    "**Сравнение признаков по целевым классам:**\n",
    "\n",
    "- `'gest_Sum'`\n",
    "- `'gest_Discount'`\n",
    "- Общий размер чека = `'gest_Sum' - 'gest_Discount'`\n",
    "- Зависимость `'gest_Sum'` от `'gest_Discount'`\n",
    "- Сравнить кол-во чеков\n"
   ]
  },
  {
   "cell_type": "markdown",
   "id": "62b01a0e-db90-446e-9d51-803198774963",
   "metadata": {},
   "source": [
    "## Таргет"
   ]
  },
  {
   "cell_type": "markdown",
   "id": "5a13c0f3-9009-41e3-81ea-7859fa02d1b7",
   "metadata": {},
   "source": [
    "Заявлено, что таргет создавался по логике:\n",
    " - если дельта в днях между покупками >= 45, то это отток.  \n",
    " - и, *возможно*, что прошло 45 дней после последней покупки.\n",
    "\n",
    "Также, в классе 1 есть юзеры, у которых всего 1 покупка. Их нужно исключить из оттока (сделать класс 0)."
   ]
  },
  {
   "cell_type": "markdown",
   "id": "5a103901-0cdf-42bb-9cc9-c30275c61e5d",
   "metadata": {},
   "source": [
    "**Изменим класс на 0 (не-отток) у юзеров с одной покупкой.**\n",
    "1. Возьмем айдишники пользователей из класса 1\n",
    "2. Этот поднабор сгруппируем по пользователям с подсчетом кол-ва покупок\n",
    "3. Возьмем айдишники тех, у кого 1 покупка\n",
    "4. У этих айдишников изменим класс на 0 в таргете"
   ]
  },
  {
   "cell_type": "code",
   "execution_count": 19,
   "id": "e646978c-5dbb-4ade-babe-ec6e128a2b9f",
   "metadata": {},
   "outputs": [],
   "source": [
    "# Посмотрим у каких пользователей с таргетом 1 всего 1 покупка\n",
    "target_1 = df_target.loc[df_target['target'] == 1,'clnt_ID']\n",
    "# target_1"
   ]
  },
  {
   "cell_type": "code",
   "execution_count": 20,
   "id": "8f61501a-7f11-4c1b-8a16-ba9722963042",
   "metadata": {},
   "outputs": [],
   "source": [
    "# Сгруппируем по ним\n",
    "groupby_counts = df.loc[df['clnt_ID'].isin(target_1)].groupby('clnt_ID')['timestamp'].count()"
   ]
  },
  {
   "cell_type": "code",
   "execution_count": 21,
   "id": "8812be47-6189-4635-b410-123d8823528c",
   "metadata": {},
   "outputs": [],
   "source": [
    "# Отфильтруем тех, у кого 1 чек\n",
    "false_target_1 = groupby_counts[groupby_counts == 1]"
   ]
  },
  {
   "cell_type": "code",
   "execution_count": 22,
   "id": "2159f8f9-a97e-4a8c-87ad-8ac2fcfab8f1",
   "metadata": {},
   "outputs": [],
   "source": [
    "# Изменим класс у этих пользователей на 0\n",
    "df_target['target'] = df_target['target'].mask(df_target['clnt_ID'].isin(false_target_1.index),0)"
   ]
  },
  {
   "cell_type": "code",
   "execution_count": 23,
   "id": "9215d07b-0887-44d7-ac96-84958a96d698",
   "metadata": {},
   "outputs": [
    {
     "data": {
      "text/html": [
       "<div>\n",
       "<style scoped>\n",
       "    .dataframe tbody tr th:only-of-type {\n",
       "        vertical-align: middle;\n",
       "    }\n",
       "\n",
       "    .dataframe tbody tr th {\n",
       "        vertical-align: top;\n",
       "    }\n",
       "\n",
       "    .dataframe thead th {\n",
       "        text-align: right;\n",
       "    }\n",
       "</style>\n",
       "<table border=\"1\" class=\"dataframe\">\n",
       "  <thead>\n",
       "    <tr style=\"text-align: right;\">\n",
       "      <th></th>\n",
       "      <th>target</th>\n",
       "      <th>target</th>\n",
       "    </tr>\n",
       "  </thead>\n",
       "  <tbody>\n",
       "    <tr>\n",
       "      <th>0</th>\n",
       "      <td>172561</td>\n",
       "      <td>0.676</td>\n",
       "    </tr>\n",
       "    <tr>\n",
       "      <th>1</th>\n",
       "      <td>82548</td>\n",
       "      <td>0.324</td>\n",
       "    </tr>\n",
       "  </tbody>\n",
       "</table>\n",
       "</div>"
      ],
      "text/plain": [
       "   target  target\n",
       "0  172561   0.676\n",
       "1   82548   0.324"
      ]
     },
     "execution_count": 23,
     "metadata": {},
     "output_type": "execute_result"
    }
   ],
   "source": [
    "# Проверим кол-во значений таргета\n",
    "pd.concat([df_target['target'].value_counts(),df_target['target'].value_counts(normalize=True)],axis=1)"
   ]
  },
  {
   "cell_type": "markdown",
   "id": "f07aaf51-2a26-4a49-a7e5-2b430a543c63",
   "metadata": {},
   "source": [
    "**Отметим дисбаланс.**"
   ]
  },
  {
   "cell_type": "markdown",
   "id": "320b1915-ba9b-4a6a-b2d9-764df9c54168",
   "metadata": {},
   "source": [
    "**Попробуем проверить таргет на соответствие логике.**"
   ]
  },
  {
   "cell_type": "markdown",
   "id": "f7714f38-02a8-4c4f-a45f-d9ca0306aa89",
   "metadata": {},
   "source": [
    "Для этого: \n",
    "1. Создадим признак с кол-вом дней между покупками\n",
    "2. Создадим флаг, с проверкой на \"дельта в днях\" >= 45.\n",
    "3. Посчитаем кол-во `True` этого флага\n",
    "4. Сравним с таргетом"
   ]
  },
  {
   "cell_type": "code",
   "execution_count": 24,
   "id": "75beebc1-c27f-4bb4-b3dd-b60446630bf5",
   "metadata": {},
   "outputs": [],
   "source": [
    "# Создаем фичу с дельтой в днях между покупками по каждому клиенту\n",
    "def time_delta(col):\n",
    "    return col.diff()\n",
    "\n",
    "df['days_delta'] = df.groupby('clnt_ID')['timestamp'].transform(time_delta)\n",
    "df['days_delta'] = df['days_delta'].dt.days\n",
    "df['days_delta'] = df['days_delta'].fillna(-1) # Это делаем, чтобы значение \"вообще не было покупок ранее\" отличалось от \"прошло 0 дней с прошлой покупки\""
   ]
  },
  {
   "cell_type": "code",
   "execution_count": 25,
   "id": "58d10cde-c808-480c-ab83-ee59a433ab9a",
   "metadata": {},
   "outputs": [],
   "source": [
    "# Делаем признак больше или равна ли дельта 45\n",
    "df['delta>=45'] = df['days_delta'] >= 45"
   ]
  },
  {
   "cell_type": "code",
   "execution_count": 26,
   "id": "ed041a3c-d1e5-43dc-ae10-5873eac49883",
   "metadata": {},
   "outputs": [
    {
     "data": {
      "text/html": [
       "<div>\n",
       "<style scoped>\n",
       "    .dataframe tbody tr th:only-of-type {\n",
       "        vertical-align: middle;\n",
       "    }\n",
       "\n",
       "    .dataframe tbody tr th {\n",
       "        vertical-align: top;\n",
       "    }\n",
       "\n",
       "    .dataframe thead th {\n",
       "        text-align: right;\n",
       "    }\n",
       "</style>\n",
       "<table border=\"1\" class=\"dataframe\">\n",
       "  <thead>\n",
       "    <tr style=\"text-align: right;\">\n",
       "      <th></th>\n",
       "      <th>clnt_ID</th>\n",
       "      <th>timestamp</th>\n",
       "      <th>gest_Sum</th>\n",
       "      <th>gest_Discount</th>\n",
       "      <th>days_delta</th>\n",
       "      <th>delta&gt;=45</th>\n",
       "    </tr>\n",
       "  </thead>\n",
       "  <tbody>\n",
       "    <tr>\n",
       "      <th>0</th>\n",
       "      <td>193B4268-0B4A-475E-B1D0-FF5515E29D29</td>\n",
       "      <td>2021-01-02 09:09:17.060</td>\n",
       "      <td>900.000</td>\n",
       "      <td>300.000</td>\n",
       "      <td>-1.000</td>\n",
       "      <td>False</td>\n",
       "    </tr>\n",
       "    <tr>\n",
       "      <th>1</th>\n",
       "      <td>8DA65A37-C1D0-41D4-98E1-AB6C5BF1367F</td>\n",
       "      <td>2021-01-02 09:12:24.850</td>\n",
       "      <td>165.000</td>\n",
       "      <td>55.000</td>\n",
       "      <td>-1.000</td>\n",
       "      <td>False</td>\n",
       "    </tr>\n",
       "    <tr>\n",
       "      <th>2</th>\n",
       "      <td>26ACF3C8-25C8-4345-ABC2-33DA15EA6454</td>\n",
       "      <td>2021-01-02 09:38:21.643</td>\n",
       "      <td>800.500</td>\n",
       "      <td>25.500</td>\n",
       "      <td>-1.000</td>\n",
       "      <td>False</td>\n",
       "    </tr>\n",
       "    <tr>\n",
       "      <th>3</th>\n",
       "      <td>0F77DDB3-A9A7-44BE-AAAB-9DF59B66A695</td>\n",
       "      <td>2021-01-02 09:45:17.793</td>\n",
       "      <td>580.000</td>\n",
       "      <td>0.000</td>\n",
       "      <td>-1.000</td>\n",
       "      <td>False</td>\n",
       "    </tr>\n",
       "    <tr>\n",
       "      <th>4</th>\n",
       "      <td>F16BCF77-FA5A-4093-B7E3-FA86E2B1EA31</td>\n",
       "      <td>2021-01-02 09:59:50.453</td>\n",
       "      <td>148.900</td>\n",
       "      <td>3.100</td>\n",
       "      <td>-1.000</td>\n",
       "      <td>False</td>\n",
       "    </tr>\n",
       "  </tbody>\n",
       "</table>\n",
       "</div>"
      ],
      "text/plain": [
       "                                clnt_ID               timestamp  gest_Sum  \\\n",
       "0  193B4268-0B4A-475E-B1D0-FF5515E29D29 2021-01-02 09:09:17.060   900.000   \n",
       "1  8DA65A37-C1D0-41D4-98E1-AB6C5BF1367F 2021-01-02 09:12:24.850   165.000   \n",
       "2  26ACF3C8-25C8-4345-ABC2-33DA15EA6454 2021-01-02 09:38:21.643   800.500   \n",
       "3  0F77DDB3-A9A7-44BE-AAAB-9DF59B66A695 2021-01-02 09:45:17.793   580.000   \n",
       "4  F16BCF77-FA5A-4093-B7E3-FA86E2B1EA31 2021-01-02 09:59:50.453   148.900   \n",
       "\n",
       "   gest_Discount  days_delta  delta>=45  \n",
       "0        300.000      -1.000      False  \n",
       "1         55.000      -1.000      False  \n",
       "2         25.500      -1.000      False  \n",
       "3          0.000      -1.000      False  \n",
       "4          3.100      -1.000      False  "
      ]
     },
     "execution_count": 26,
     "metadata": {},
     "output_type": "execute_result"
    }
   ],
   "source": [
    "df.head()"
   ]
  },
  {
   "cell_type": "code",
   "execution_count": 27,
   "id": "6585657f-360f-44e5-919b-50f11ec168b1",
   "metadata": {},
   "outputs": [
    {
     "data": {
      "text/plain": [
       "False    250480\n",
       "True       4629\n",
       "Name: delta>=45, dtype: int64"
      ]
     },
     "execution_count": 27,
     "metadata": {},
     "output_type": "execute_result"
    }
   ],
   "source": [
    "df.groupby('clnt_ID')['delta>=45'].max().value_counts()"
   ]
  },
  {
   "cell_type": "code",
   "execution_count": 28,
   "id": "f34caeb5-f899-4529-b9d6-f4968ac96237",
   "metadata": {},
   "outputs": [],
   "source": [
    "# Проверка на кол-во флагов --- можно удалить\n",
    "# df[df['delta>=45'] == True].groupby('clnt_ID')['clnt_ID'].count()"
   ]
  },
  {
   "cell_type": "markdown",
   "id": "175a6cdc-b57a-4035-a4a4-9de5a5616d64",
   "metadata": {},
   "source": [
    "Здесь мы просчитали только дельту между покупками, но не учли, что после последней покупки могло пройти 45 дней и это тоже обозначается как отток.  "
   ]
  },
  {
   "cell_type": "markdown",
   "id": "f1293c36-3719-403f-9108-733886b6e219",
   "metadata": {},
   "source": [
    "Поэтому общая логика такая.  \n",
    "Оттоком помечается клиент совершивший больше **одной (1)** покупки и соответствует любому из условий: \n",
    "* дельта >= 45, \n",
    "* прошло больше 45 дней после последней покупки на условный текущий момент."
   ]
  },
  {
   "cell_type": "markdown",
   "id": "dd89cf02-9e81-4d8a-a27f-61c6f2a4934b",
   "metadata": {},
   "source": [
    "Было сказано, что **таргет проставлялся по всем данным с 2021 по 2022 март**, а мы имеем только за 2021.  \n",
    "Поэтому у нас нет возможности проверить предоставленный таргет на соответствие логике. (Мы не получим идентичные результаты)"
   ]
  },
  {
   "cell_type": "markdown",
   "id": "e050127e-a013-40f3-96aa-c392f38db79b",
   "metadata": {
    "jp-MarkdownHeadingCollapsed": true,
    "tags": []
   },
   "source": [
    "### Возможный подход к определению таргета (опционально)"
   ]
  },
  {
   "cell_type": "markdown",
   "id": "40a179d8-5336-48c9-934c-f60ed3ee0a78",
   "metadata": {},
   "source": [
    "Поскольку в целом это задача предсказания оттока, то можно определить следующие важные условия.\n",
    "\n",
    "Расширим эту логику следующим образом, учтя сочетания следующих вещей:\n",
    "1. Покупок было сделано 1 или больше\n",
    "2. При покупках больше 1, был ли хоть раз промежуток в днях между ближайшими покупками >=45?\n",
    "3. На условный текущий момент с момента последней сделки прошло ли 45 дней?\n",
    "\n",
    "И введем понятие условного текущего момента, которым будет являться либо последний день года (2021-12-31), либо последняя дата в данных, либо какая-то конкретная дата, по которую делали выгрузку данных (по какой-то причине).\n",
    "\n",
    "В соответствии с этим, разделим всех клиентов на типы:\n",
    "1. Те, кто сделал всего одну покупку за весь исследуемый период\n",
    "2. Те, кто сделал больше 1 покупки\n",
    "    * **ни разу** промежуток между покупками в днях не становился >= 45\n",
    "    * на условный текущий момент (2021-12-31) с момента последней сделки не прошло 45 дней\n",
    "3. Те, кто сделал больше 1 покупки \n",
    "    * и максимальная дельта в днях между двумя ближайшими хоть раз становилась >= 45.\n",
    "    * но с последней сделки не прошло 45 дней.\n",
    "4. Те, кто сделал больше 1 покупки \n",
    "    * максимальная дельта хоть раз становилась >= 45.\n",
    "    * и к условному текущему моменту (2021-12-31) после последней сделки прошло больше 45 дней\n",
    "5. Те, кто сделал больше 1 покупки, \n",
    "    * максимальная дельта была всегда < 45, \n",
    "    * к условному текущему моменту (2021-12-31) после последней сделки прошло больше 45 дней.\n",
    "\n",
    "Все, кроме типа 2, можно условно отнести к оттоку, но это ли нужно бизнесу? \n",
    "\n",
    "**Тип 1**: эти клиенты попробовали продукт, но не стали лояльными, поэтому к ним не стоит задача их *вернуть*. Работа с этим типом, я предполагаю, не вписывается в задачу возврата лояльных клиентов, которые ушли, потому что они изначально не были лояльными.\n",
    "\n",
    "**Тип 2**: Это лояльный тип клиентов, в отток не ушел. В нем можно поискать статистические признаки их лояльности, сравнив с другими.\n",
    "\n",
    "**Тип 3**: Это тоже условно лояльный тип клиентов, потому что с точки зрения обыденного представления, вполне вероятно, что лояльный регулярный клиент может пропустить месяц или больше в своих регулярных покупках по причинам, не связанным с бизнесом и продуктом. Ведь он же вернулся.\n",
    "\n",
    "**Тип 4**: Можно ли этот тип рассматривать, как отток? В их истории уже были длительные перерывы. Это может быть полу-регулярный сбив ритма покупок, т.е. не говорит о потери лояльности, а о личных регулярных причинах, либо это действительно окончательный отток. По личным ли причинам или из-за продукта/бизнеса? - это неизвестно.\n",
    "\n",
    "**Тип 5**: Можно ли этот тип также рассматривать, как отток? Возможно это отток, а возможно разовая личная причина, но клиент вернется.\n",
    "\n",
    "У нас здесь вырисовываются две переменные:  \n",
    "* кол-во дней, в которые были произведены покупки (напр., если в одном дне было сделано больше 1 покупки, то такой день все равно считается за один) \n",
    "* дельта в днях между покупками (почему она именно 45, звучит как слишком ровное число. Возможно есть какой-то другой порог, который будет ценнее для предсказаний)\n",
    "\n",
    "К этим переменным есть два вопроса?  \n",
    "* Сколько таких дней \"покупок\" должно быть достаточно, чтобы мы могли по ним описать поведение клиента? Чтобы впоследствии иметь основание определить порог аномального поведения?\n",
    "* Почему дельта устанавливается в 45 дней? Похоже на слишком ровное число. Возможно есть какой-то другой порог, который будет более полезен в определении оттока. Возможно, для каждого клиента он свой.\n",
    "\n",
    "И в итоге с одной стороны можно сравнить эти группы и попробовать найти в них уникальные характеристики. С другой стороны, еще более перспективным вариантом будет рассчитывать критерий оттока по каждому клиенту, опираясь на его характеристики регулярности покупок и как-то так определить таргет.\n",
    "\n",
    "**Но для гипотетического бейзлайна**, используем следующую логику.  \n",
    "Оттоком определим типы 3,4,5, т.е. оттоком помечается клиент совершивший больше **одной (1)** покупки и соответствует любому из условий: \n",
    "* дельта >= 45, \n",
    "* прошло больше 45 дней после последней покупки на условный текущий момент."
   ]
  },
  {
   "cell_type": "markdown",
   "id": "856f638f-967a-43c9-9f51-e924fc5cd86b",
   "metadata": {},
   "source": [
    "**Создадим такой таргет и сравним его с изначальным** \n",
    "\n",
    "1. Создадим фичу с дельтой в днях между покупками\n",
    "2. Создадим фичу с условием - дельта >= 45?\n",
    "3. Нужно создать фичу с условием \"единственная ли это покупка\"  \n",
    "\n",
    "    a. Создадим признак с номером покупки  \n",
    "    b. Создадим признак с максимальным номером покупки   \n",
    "    c. Создадим фичу, в которой сравниваем равен ли номер покупки с максимальным номером покупки этого юзера - это и есть \"единственная ли это покупка\"  \n",
    "    \n",
    "4. Создадим фичу, которая будет говорить последня ли это покупка, если всего покупок больше 1\n",
    "5. Создадим фичу, которая отсчитывает 45 дней назад с гипотетического сейчас (в нашем случае это будет 2021-12-31)\n",
    "6. Создадим таргет, который будет соответствовать условиям (**ИЛИ**):\n",
    "\n",
    "    a. Дельта >= 45  \n",
    "    b. Последняя покупка из серии покупок **И** прошло больше 45 на гипотетический текущий момент"
   ]
  },
  {
   "cell_type": "markdown",
   "id": "7879d6ea-bccd-4545-acad-0e00b7bb10e4",
   "metadata": {},
   "source": [
    "<!-- **Действительно ли таргет 1 там, где дельта между датами покупки >= 45 дней?**  \n",
    "Для этого создадим соответствующее условие, применим его к данным со сделками и сравним в таргетом.\n",
    "1. Создадим фичу с дельтой в днях между покупками по каждому клиенту\n",
    "2. Проверим, если максимальная дельта у клиента больше или равна 45 дням, то ставим флаг 1, в противном случае 0.\n",
    "3. Сравниваем получившиеся флаги с предоставленными данными по таргету. -->"
   ]
  },
  {
   "cell_type": "markdown",
   "id": "c7423498-15af-4f2b-ae15-2297d3a14c6d",
   "metadata": {},
   "source": [
    "<!-- <div class=\"alert alert-block alert-info\">\n",
    "<b>Комментарий студента: </b> Вот здесь мне пока не до конца ясно, что именно мы считаем. По каким условиям определяется таргет.  \n",
    "    \n",
    "* Я сначала сделал просто по одному условию, что дельта в днях между покупками >= 45 дням.  \n",
    "* Потом добавил еще условие, в котором те, кто сделал только одну покупку, они тоже бы флаговались. - но просто написал код, описание не давал.  \n",
    "* Потом понял, что бывают клиенты с несколькими покупками, между которыми расстояние меньше 45 дней, но с последней покупки они не делали новой в течении 45 дней - это тоже нужно учесть. Для этого пока код не написал.  \n",
    "\n",
    "* В конечном счете надо точно разобраться, что именно заказчик ожидает от таргета, что именно подразумевает под оттоком и какую логику флагования действительно стоит использовать.*\n",
    "</div> -->"
   ]
  },
  {
   "cell_type": "code",
   "execution_count": 29,
   "id": "21e27b33-07e6-4e7c-b97e-593573c01583",
   "metadata": {},
   "outputs": [],
   "source": [
    "# Создаем фичу с дельтой в днях между покупками по каждому клиенту\n",
    "# def time_delta(col):\n",
    "#     return col.diff()\n",
    "\n",
    "# df['days_delta'] = df.groupby('clnt_ID')['timestamp'].transform(time_delta)\n",
    "# df['days_delta'] = df['days_delta'].dt.days\n",
    "# df['days_delta'] = df['days_delta'].fillna(-1) # Это делаем, чтобы значение \"вообще не было покупок ранее\" отличалось от \"прошло 0 дней с прошлой покупки\""
   ]
  },
  {
   "cell_type": "code",
   "execution_count": 30,
   "id": "1c8c192b-d701-4bec-9a5b-7d14fc122536",
   "metadata": {
    "tags": []
   },
   "outputs": [],
   "source": [
    "# df.head()"
   ]
  },
  {
   "cell_type": "code",
   "execution_count": 31,
   "id": "2ed1ea14-839b-439d-a951-ca392f544bb3",
   "metadata": {
    "tags": []
   },
   "outputs": [],
   "source": [
    "# df.tail()"
   ]
  },
  {
   "cell_type": "code",
   "execution_count": 32,
   "id": "c09a2865-68db-43f7-9b51-3bdbc14bf9b8",
   "metadata": {},
   "outputs": [],
   "source": [
    "# Делаем признак больше или равна ли дельта 45\n",
    "# df['delta>=45'] = df['days_delta'] >= 45"
   ]
  },
  {
   "cell_type": "code",
   "execution_count": 33,
   "id": "9a2a2cdf-8de5-487b-8ca6-db2f7f9fcef8",
   "metadata": {},
   "outputs": [],
   "source": [
    "# df.head()"
   ]
  },
  {
   "cell_type": "code",
   "execution_count": 34,
   "id": "309f37dc-ab2b-4d98-a4bb-9cb7c1be6b1f",
   "metadata": {},
   "outputs": [],
   "source": [
    "# df.tail()"
   ]
  },
  {
   "cell_type": "code",
   "execution_count": 35,
   "id": "a1225cae-0f82-47f4-ade7-5b45e1c03f3f",
   "metadata": {},
   "outputs": [],
   "source": [
    "# df[df['delta>=45'] == True].head()"
   ]
  },
  {
   "cell_type": "code",
   "execution_count": 36,
   "id": "ea278e5a-12b4-4c0b-b713-df6d0a04a02c",
   "metadata": {},
   "outputs": [],
   "source": [
    "# df[df['delta>=45'] == True].tail()"
   ]
  },
  {
   "cell_type": "code",
   "execution_count": 37,
   "id": "3a9650f6-c1b5-49c0-b516-abcbfd13eafa",
   "metadata": {},
   "outputs": [],
   "source": [
    "# Нам нужно понять единственная ли это покупка\n",
    "# И последняя ли это покупка, чтобы посмотреть прошло ли с последней покупки 45 дней\n",
    "\n",
    "# Создадим признак с номером покупки\n",
    "# def expand_count(col):\n",
    "#     return col.expanding().count()\n",
    "\n",
    "# df['clnt_buys_count'] = df.groupby('clnt_ID')['timestamp'].transform(expand_count)"
   ]
  },
  {
   "cell_type": "code",
   "execution_count": 38,
   "id": "290174ce-c54f-4420-b4ff-1037b8aa1568",
   "metadata": {},
   "outputs": [],
   "source": [
    "# df.head()"
   ]
  },
  {
   "cell_type": "code",
   "execution_count": 39,
   "id": "734414a8-2d90-4792-9394-abb9ca42cbe8",
   "metadata": {},
   "outputs": [],
   "source": [
    "# df.tail()"
   ]
  },
  {
   "cell_type": "code",
   "execution_count": 40,
   "id": "dd821aa9-4dcf-479f-9b9a-0198cadfcaae",
   "metadata": {},
   "outputs": [],
   "source": [
    "# Нам нужно понять единственная ли это покупка 2\n",
    "\n",
    "# Для этого создадим столбец с максимальным кол-вом покупок клиента\n",
    "# df['max_buys_count'] = df.groupby('clnt_ID')['clnt_buys_count'].transform('max')\n",
    "\n",
    "# Если он равен 1, то покупок было всего 1\n",
    "# df['just_1_buy'] = df['max_buys_count'] == 1"
   ]
  },
  {
   "cell_type": "code",
   "execution_count": 41,
   "id": "ab519b20-58e2-4ab2-9c7f-e9934b742e46",
   "metadata": {},
   "outputs": [],
   "source": [
    "# df[df['max_buys_count'] == 1]"
   ]
  },
  {
   "cell_type": "code",
   "execution_count": 42,
   "id": "2f552a88-1113-4622-8a7e-b09cdeb15f4f",
   "metadata": {},
   "outputs": [],
   "source": [
    "# Здесь нужно понять последняя ли покупка текущая и не единственная ли она\n",
    "# df['last_buy_out_of_more_than_1'] = (df['just_1_buy'] == False)&(df['clnt_buys_count'] == df['max_buys_count'])"
   ]
  },
  {
   "cell_type": "code",
   "execution_count": 43,
   "id": "14935d2b-24ff-4ca9-abf0-e3ee2f7af57f",
   "metadata": {},
   "outputs": [],
   "source": [
    "# df[df['clnt_buys_count'] == df['max_buys_count']]"
   ]
  },
  {
   "cell_type": "code",
   "execution_count": 44,
   "id": "a0e928c5-27c1-48ed-ab29-48414556cad6",
   "metadata": {},
   "outputs": [],
   "source": [
    "# # Теперь представим, что мы в конце года. 2021-12-31\n",
    "# # И отсечем все сделки, которые произошли на текущий день минус 45 дней.\n",
    "# hypothetical_now = pd.Timestamp('2021-12-31')\n",
    "# hypothetical_45_days_before = hypothetical_now - pd.Timedelta(value=45,unit='days')\n",
    "# df['more_than_45_till_now'] = df['timestamp'] < hypothetical_45_days_before"
   ]
  },
  {
   "cell_type": "code",
   "execution_count": 45,
   "id": "5a6c30d0-9bf7-4514-99dd-d44cc2f7d177",
   "metadata": {},
   "outputs": [],
   "source": [
    "# hypothetical_45_days_before"
   ]
  },
  {
   "cell_type": "code",
   "execution_count": 46,
   "id": "9741103f-f189-4c24-8621-bf40ae1038d6",
   "metadata": {},
   "outputs": [],
   "source": [
    "# df[~(df['timestamp'] < hypothetical_45_days_before)]"
   ]
  },
  {
   "cell_type": "code",
   "execution_count": 47,
   "id": "ea7528bc-7898-4c7f-9655-8fd68a0787a0",
   "metadata": {},
   "outputs": [],
   "source": [
    "# # Теперь делаем таргет\n",
    "# # Ставим 1 в тех сделках, в которых дельта >= 45\n",
    "# # И в тех, в которых это последняя покупка и прошло больше 45 дней (на условный текущий момент)\n",
    "# df_target_extracted = df['delta>=45'] | (df['last_buy_out_of_more_than_1']&df['more_than_45_till_now'])\n",
    "# df_target_extracted.name = 'target'"
   ]
  },
  {
   "cell_type": "markdown",
   "id": "1546a14a-27b1-4f8a-9054-306641bdd124",
   "metadata": {},
   "source": [
    "Посмотрим на распределение таргета в текущем датасете (по сделкам)."
   ]
  },
  {
   "cell_type": "code",
   "execution_count": 48,
   "id": "6ca3f65e-f351-4307-abbd-a87245625443",
   "metadata": {},
   "outputs": [],
   "source": [
    "# pd.concat([df_target_extracted.value_counts(),df_target_extracted.value_counts(normalize=True)],axis=1)"
   ]
  },
  {
   "cell_type": "markdown",
   "id": "921b11a1-a406-4297-a0dd-460aea6c6de2",
   "metadata": {},
   "source": [
    "Посмотрим на баланс таргета по клиентам."
   ]
  },
  {
   "cell_type": "code",
   "execution_count": 49,
   "id": "54c1c70f-d178-442e-8d1a-864c945360ae",
   "metadata": {},
   "outputs": [],
   "source": [
    "# temp_df = pd.concat([df.iloc[:,0],df_target_extracted],axis=1).groupby('clnt_ID').max()\n",
    "# pd.concat([temp_df.value_counts(),temp_df.value_counts(normalize=True)],axis=1)"
   ]
  },
  {
   "cell_type": "markdown",
   "id": "63c0e64f-f516-45a8-bf79-7b5e7d7b245f",
   "metadata": {},
   "source": [
    "И сравним его с таргетом заказчика."
   ]
  },
  {
   "cell_type": "code",
   "execution_count": 50,
   "id": "3413ff31-251b-41b3-a6ba-df8ebbe5aac3",
   "metadata": {},
   "outputs": [],
   "source": [
    "# Посмотрим и сравним с таргетом, который был даден заказчиком\n",
    "# pd.concat([df_target['target'].value_counts(),df_target['target'].value_counts(normalize=True)],axis=1)"
   ]
  },
  {
   "cell_type": "markdown",
   "id": "9c1dae5b-8ef5-4175-9b0f-2d1991bd0727",
   "metadata": {},
   "source": [
    "### Вывод по таргету\n",
    "\n",
    "* Пользователи со всего одной покупкой выведены из класса 1 в класс 0\n",
    "    > Определение оттока в этой задаче подразумевает определение тех клиентов, которые могут вернуться, т.е. были *лояльными*. А пользователи с 1 покупкой лояльными не были изначально.\n",
    "* Есть дисбаланс классов: 0.68 у класса 0, 0.32 у класса 1.\n",
    "* Не хватает данных для проверки логики построения таргета\n",
    "    > Возможно, не были обозначены все условия для этого. Т.е. не только расстояние в днях между покупками, а что-то еще влияет на отнесение к классу 1.\n",
    "* Идея для улучшения предсказаний: оценивать порог ухода для каждого клиента отдельно. (Использовать не 45 дней как общий критерий, а каким-то образом рассчитывать индивидуальный)\n"
   ]
  },
  {
   "cell_type": "markdown",
   "id": "86197657-b849-4e40-93c1-17973a52d0bb",
   "metadata": {},
   "source": [
    "## Исследование признаков"
   ]
  },
  {
   "cell_type": "markdown",
   "id": "a72238d1-e4b3-48cf-a71a-3e7a4aec32a2",
   "metadata": {},
   "source": [
    "Для исследования и поиска аномалий воспользуемся собственной функцией подсчета статистик числовых признаков (но не даты)."
   ]
  },
  {
   "cell_type": "code",
   "execution_count": 51,
   "id": "7338be18-7e2b-4b92-994b-60eece8e8671",
   "metadata": {
    "tags": []
   },
   "outputs": [],
   "source": [
    "def describe(col):\n",
    "    \"\"\"\n",
    "    Функция выводит подробное числовое описание данных.\n",
    "    \"\"\"\n",
    "\n",
    "#     Подсчет количества значений\n",
    "    count_ = col.count()\n",
    "    \n",
    "#     Меры центральной тенденции:\n",
    "#     Среднее\n",
    "    mean = col.mean()\n",
    "#     Медиана\n",
    "    median = col.median()\n",
    "#     Мода\n",
    "    mode = col.mode()\n",
    "\n",
    "#     Меры разброса\n",
    "#     Дисперсия\n",
    "    var = col.var()\n",
    "#     Стандартное отклонение\n",
    "    stddev = col.std()\n",
    "#     Межквартильный размах\n",
    "    quartile_1 = col.quantile(0.25)\n",
    "    quartile_3 = col.quantile(0.75)\n",
    "    iqr = quartile_3 - quartile_1\n",
    "#     Мин, макс, размах\n",
    "    min_ = col.min()\n",
    "    max_ = col.max()\n",
    "    range_ = max_ - min_\n",
    "\n",
    "#     Левая граница ящика с усами\n",
    "    outlier_border_left = quartile_1 - 1.5 * iqr\n",
    "#     Правая граница ящика с усами\n",
    "    outlier_border_right = quartile_3 + 1.5 * iqr\n",
    "    \n",
    "#    Количество выбросов\n",
    "    outliers_mask = (col <= outlier_border_left) | (col >= outlier_border_right)\n",
    "    outliers_count = col.loc[outliers_mask].count()\n",
    "    outliers_proportion = outliers_count / count_\n",
    "    \n",
    "#     Создание и вывод таблицы с числовым описанием данных\n",
    "    describe_ = {\"count\": count_,\n",
    "                 \"mean\": mean,\n",
    "                 \"mode\": mode,\n",
    "                 \"var\": var,\n",
    "                 \"stddev\": stddev,\n",
    "                 \"min\": min_,\n",
    "                 \"25%\": quartile_1,\n",
    "                 \"50%\": median,\n",
    "                 \"75%\": quartile_3,\n",
    "                 \"max\": max_,\n",
    "                 \"total_range\": range_,\n",
    "                 \"interquartile_range\": iqr,\n",
    "                 \"outlier_border_left\": outlier_border_left,\n",
    "                 \"outlier_border_right\": outlier_border_right,\n",
    "                 \"outliers_count\": outliers_count,\n",
    "                 \"outliers_proportion\": outliers_proportion}\n",
    "    describe_ = pd.DataFrame(describe_).transpose()\n",
    "    describe_.columns = [col.name]\n",
    "    return describe_\n",
    "\n",
    "# describe(t_0)"
   ]
  },
  {
   "cell_type": "markdown",
   "id": "2f93a88f-eb68-4390-84f6-5e4253c47783",
   "metadata": {},
   "source": [
    "**timestamp**"
   ]
  },
  {
   "cell_type": "code",
   "execution_count": 52,
   "id": "1fc373c8-a858-4101-b54c-73ac7782e9e7",
   "metadata": {},
   "outputs": [
    {
     "data": {
      "text/plain": [
       "count                          2371506\n",
       "mean        2021-06-09 07:33:53.499232\n",
       "min         2021-01-02 09:09:17.060000\n",
       "25%      2021-03-15 21:59:01.061499904\n",
       "50%         2021-05-27 16:38:57.212000\n",
       "75%      2021-09-01 18:12:35.844999936\n",
       "max         2021-12-15 22:45:31.087000\n",
       "Name: timestamp, dtype: object"
      ]
     },
     "execution_count": 52,
     "metadata": {},
     "output_type": "execute_result"
    }
   ],
   "source": [
    "df['timestamp'].describe(datetime_is_numeric=True)"
   ]
  },
  {
   "cell_type": "code",
   "execution_count": 53,
   "id": "c6396d75-eaf6-48c1-a5e5-bcb2a503742c",
   "metadata": {},
   "outputs": [
    {
     "data": {
      "image/png": "[encoded data removed]",
      "text/plain": [
       "<Figure size 1080x576 with 1 Axes>"
      ]
     },
     "metadata": {
      "needs_background": "light"
     },
     "output_type": "display_data"
    }
   ],
   "source": [
    "fig,ax = plt.subplots(figsize=(15,8))\n",
    "sns.histplot(x=df['timestamp'].dt.date,ax=ax)\n",
    "plt.show()\n"
   ]
  },
  {
   "cell_type": "markdown",
   "id": "827ad54b-49d4-4d77-abdb-54761d5503c8",
   "metadata": {},
   "source": [
    "* Есть пик в районе 2021-05\n",
    "* \"Яма\" - 2021-11"
   ]
  },
  {
   "cell_type": "markdown",
   "id": "7727741d-b903-4454-8600-8f055980bac7",
   "metadata": {},
   "source": [
    "**gest_Sum**"
   ]
  },
  {
   "cell_type": "code",
   "execution_count": 54,
   "id": "24f47211-aa19-4460-9cab-10f2ad68da55",
   "metadata": {},
   "outputs": [
    {
     "data": {
      "text/html": [
       "<div>\n",
       "<style scoped>\n",
       "    .dataframe tbody tr th:only-of-type {\n",
       "        vertical-align: middle;\n",
       "    }\n",
       "\n",
       "    .dataframe tbody tr th {\n",
       "        vertical-align: top;\n",
       "    }\n",
       "\n",
       "    .dataframe thead th {\n",
       "        text-align: right;\n",
       "    }\n",
       "</style>\n",
       "<table border=\"1\" class=\"dataframe\">\n",
       "  <thead>\n",
       "    <tr style=\"text-align: right;\">\n",
       "      <th></th>\n",
       "      <th>gest_Sum</th>\n",
       "    </tr>\n",
       "  </thead>\n",
       "  <tbody>\n",
       "    <tr>\n",
       "      <th>count</th>\n",
       "      <td>2371506.000</td>\n",
       "    </tr>\n",
       "    <tr>\n",
       "      <th>mean</th>\n",
       "      <td>452.622</td>\n",
       "    </tr>\n",
       "    <tr>\n",
       "      <th>mode</th>\n",
       "      <td>201.600</td>\n",
       "    </tr>\n",
       "    <tr>\n",
       "      <th>var</th>\n",
       "      <td>172042.693</td>\n",
       "    </tr>\n",
       "    <tr>\n",
       "      <th>stddev</th>\n",
       "      <td>414.780</td>\n",
       "    </tr>\n",
       "    <tr>\n",
       "      <th>min</th>\n",
       "      <td>0.000</td>\n",
       "    </tr>\n",
       "    <tr>\n",
       "      <th>25%</th>\n",
       "      <td>195.300</td>\n",
       "    </tr>\n",
       "    <tr>\n",
       "      <th>50%</th>\n",
       "      <td>340.800</td>\n",
       "    </tr>\n",
       "    <tr>\n",
       "      <th>75%</th>\n",
       "      <td>578.200</td>\n",
       "    </tr>\n",
       "    <tr>\n",
       "      <th>max</th>\n",
       "      <td>23500.000</td>\n",
       "    </tr>\n",
       "    <tr>\n",
       "      <th>total_range</th>\n",
       "      <td>23500.000</td>\n",
       "    </tr>\n",
       "    <tr>\n",
       "      <th>interquartile_range</th>\n",
       "      <td>382.900</td>\n",
       "    </tr>\n",
       "    <tr>\n",
       "      <th>outlier_border_left</th>\n",
       "      <td>-379.050</td>\n",
       "    </tr>\n",
       "    <tr>\n",
       "      <th>outlier_border_right</th>\n",
       "      <td>1152.550</td>\n",
       "    </tr>\n",
       "    <tr>\n",
       "      <th>outliers_count</th>\n",
       "      <td>139329.000</td>\n",
       "    </tr>\n",
       "    <tr>\n",
       "      <th>outliers_proportion</th>\n",
       "      <td>0.059</td>\n",
       "    </tr>\n",
       "  </tbody>\n",
       "</table>\n",
       "</div>"
      ],
      "text/plain": [
       "                        gest_Sum\n",
       "count                2371506.000\n",
       "mean                     452.622\n",
       "mode                     201.600\n",
       "var                   172042.693\n",
       "stddev                   414.780\n",
       "min                        0.000\n",
       "25%                      195.300\n",
       "50%                      340.800\n",
       "75%                      578.200\n",
       "max                    23500.000\n",
       "total_range            23500.000\n",
       "interquartile_range      382.900\n",
       "outlier_border_left     -379.050\n",
       "outlier_border_right    1152.550\n",
       "outliers_count        139329.000\n",
       "outliers_proportion        0.059"
      ]
     },
     "execution_count": 54,
     "metadata": {},
     "output_type": "execute_result"
    }
   ],
   "source": [
    "describe(df['gest_Sum'])"
   ]
  },
  {
   "cell_type": "markdown",
   "id": "cf02fe08-073d-41c0-a308-8a2f73cfaff8",
   "metadata": {},
   "source": [
    "* Есть 0. Что они значат?\n",
    "* Есть ~6% выборосов."
   ]
  },
  {
   "cell_type": "markdown",
   "id": "f327b8c4-52b0-4fcc-aacd-c0c341e19660",
   "metadata": {},
   "source": [
    "Сколько нулей?"
   ]
  },
  {
   "cell_type": "code",
   "execution_count": 55,
   "id": "d38cf951-bbb9-4220-b0f9-daa96d3d02f4",
   "metadata": {},
   "outputs": [
    {
     "name": "stdout",
     "output_type": "stream",
     "text": [
      "Нулей в \"gest_Sum\": 3702\n"
     ]
    }
   ],
   "source": [
    "# df['gest_Sum'].value_counts().sort_index()[0:10]\n",
    "gest_Sum_zeros_count = df['gest_Sum'].value_counts().sort_index()[0]\n",
    "print(f'Нулей в \"gest_Sum\": {gest_Sum_zeros_count}')\n"
   ]
  },
  {
   "cell_type": "code",
   "execution_count": 56,
   "id": "de98faa8-3cd5-41af-8eea-0131d8b31f38",
   "metadata": {},
   "outputs": [
    {
     "data": {
      "text/html": [
       "<div>\n",
       "<style scoped>\n",
       "    .dataframe tbody tr th:only-of-type {\n",
       "        vertical-align: middle;\n",
       "    }\n",
       "\n",
       "    .dataframe tbody tr th {\n",
       "        vertical-align: top;\n",
       "    }\n",
       "\n",
       "    .dataframe thead th {\n",
       "        text-align: right;\n",
       "    }\n",
       "</style>\n",
       "<table border=\"1\" class=\"dataframe\">\n",
       "  <thead>\n",
       "    <tr style=\"text-align: right;\">\n",
       "      <th></th>\n",
       "      <th>gest_Sum</th>\n",
       "      <th>gest_Discount</th>\n",
       "      <th>days_delta</th>\n",
       "    </tr>\n",
       "  </thead>\n",
       "  <tbody>\n",
       "    <tr>\n",
       "      <th>count</th>\n",
       "      <td>3702.000</td>\n",
       "      <td>3702.000</td>\n",
       "      <td>3702.000</td>\n",
       "    </tr>\n",
       "    <tr>\n",
       "      <th>mean</th>\n",
       "      <td>0.000</td>\n",
       "      <td>0.000</td>\n",
       "      <td>1.988</td>\n",
       "    </tr>\n",
       "    <tr>\n",
       "      <th>std</th>\n",
       "      <td>0.000</td>\n",
       "      <td>0.000</td>\n",
       "      <td>8.182</td>\n",
       "    </tr>\n",
       "    <tr>\n",
       "      <th>min</th>\n",
       "      <td>0.000</td>\n",
       "      <td>0.000</td>\n",
       "      <td>-1.000</td>\n",
       "    </tr>\n",
       "    <tr>\n",
       "      <th>25%</th>\n",
       "      <td>0.000</td>\n",
       "      <td>0.000</td>\n",
       "      <td>0.000</td>\n",
       "    </tr>\n",
       "    <tr>\n",
       "      <th>50%</th>\n",
       "      <td>0.000</td>\n",
       "      <td>0.000</td>\n",
       "      <td>0.000</td>\n",
       "    </tr>\n",
       "    <tr>\n",
       "      <th>75%</th>\n",
       "      <td>0.000</td>\n",
       "      <td>0.000</td>\n",
       "      <td>0.000</td>\n",
       "    </tr>\n",
       "    <tr>\n",
       "      <th>max</th>\n",
       "      <td>0.000</td>\n",
       "      <td>0.000</td>\n",
       "      <td>196.000</td>\n",
       "    </tr>\n",
       "  </tbody>\n",
       "</table>\n",
       "</div>"
      ],
      "text/plain": [
       "       gest_Sum  gest_Discount  days_delta\n",
       "count  3702.000       3702.000    3702.000\n",
       "mean      0.000          0.000       1.988\n",
       "std       0.000          0.000       8.182\n",
       "min       0.000          0.000      -1.000\n",
       "25%       0.000          0.000       0.000\n",
       "50%       0.000          0.000       0.000\n",
       "75%       0.000          0.000       0.000\n",
       "max       0.000          0.000     196.000"
      ]
     },
     "execution_count": 56,
     "metadata": {},
     "output_type": "execute_result"
    }
   ],
   "source": [
    "df.loc[df['gest_Sum'] == 0,:].describe()"
   ]
  },
  {
   "cell_type": "markdown",
   "id": "7088b8d7-ec6c-4d38-8844-5e6e304fe757",
   "metadata": {},
   "source": [
    "* У всех записей где `'gest_Sum' == 0`, `'gest_Discount'` тоже равен 0.\n",
    "* Есть даже уникальные клиенты, которые никак в базе не отмечены, кроме такой вот записи с нулями. Об этом говорит значение  `min('days_delta') = -1`, т.е. что это их единственная сделка.\n",
    "\n",
    "Поскольку эти строки неизвестной природы (отмена заказа ли это, или по какой-то другой причине), то для обучения модели их удалим."
   ]
  },
  {
   "cell_type": "code",
   "execution_count": 57,
   "id": "35b19a4d-5bd8-41a6-a22b-edd95af3d8c4",
   "metadata": {},
   "outputs": [],
   "source": [
    "df = df.drop(index=df.loc[df['gest_Sum'] == 0].index)"
   ]
  },
  {
   "cell_type": "code",
   "execution_count": 58,
   "id": "cd23be9b-4e41-4e51-baa0-6809652625ff",
   "metadata": {},
   "outputs": [
    {
     "data": {
      "text/html": [
       "<div>\n",
       "<style scoped>\n",
       "    .dataframe tbody tr th:only-of-type {\n",
       "        vertical-align: middle;\n",
       "    }\n",
       "\n",
       "    .dataframe tbody tr th {\n",
       "        vertical-align: top;\n",
       "    }\n",
       "\n",
       "    .dataframe thead th {\n",
       "        text-align: right;\n",
       "    }\n",
       "</style>\n",
       "<table border=\"1\" class=\"dataframe\">\n",
       "  <thead>\n",
       "    <tr style=\"text-align: right;\">\n",
       "      <th></th>\n",
       "      <th>clnt_ID</th>\n",
       "      <th>timestamp</th>\n",
       "      <th>gest_Sum</th>\n",
       "      <th>gest_Discount</th>\n",
       "      <th>days_delta</th>\n",
       "      <th>delta&gt;=45</th>\n",
       "    </tr>\n",
       "  </thead>\n",
       "  <tbody>\n",
       "  </tbody>\n",
       "</table>\n",
       "</div>"
      ],
      "text/plain": [
       "Empty DataFrame\n",
       "Columns: [clnt_ID, timestamp, gest_Sum, gest_Discount, days_delta, delta>=45]\n",
       "Index: []"
      ]
     },
     "execution_count": 58,
     "metadata": {},
     "output_type": "execute_result"
    }
   ],
   "source": [
    "df.loc[df['gest_Sum'] == 0]"
   ]
  },
  {
   "cell_type": "markdown",
   "id": "8ffa8381-86ad-4b25-9635-3c3319a2f415",
   "metadata": {},
   "source": [
    "Построим гистограмму."
   ]
  },
  {
   "cell_type": "code",
   "execution_count": 59,
   "id": "140398f9-3fe1-4439-9a75-532e22486803",
   "metadata": {
    "tags": []
   },
   "outputs": [
    {
     "data": {
      "image/png": "[encoded data removed]",
      "text/plain": [
       "<Figure size 1080x576 with 2 Axes>"
      ]
     },
     "metadata": {
      "needs_background": "light"
     },
     "output_type": "display_data"
    }
   ],
   "source": [
    "fig,ax = plt.subplots(2,1,figsize=(15,8))\n",
    "sns.histplot(x=df['gest_Sum'],ax=ax[0],binwidth=10)\n",
    "sns.boxplot(x=df['gest_Sum'],ax=ax[1])\n",
    "\n",
    "xlabel = 'Сумма чека за вычетом скидки в руб.'\n",
    "\n",
    "ax[0].set_ylabel('Кол-во')\n",
    "ax[0].set_xlabel(xlabel)\n",
    "\n",
    "ax[1].set_xlabel(xlabel)\n",
    "\n",
    "plt.show()\n"
   ]
  },
  {
   "cell_type": "markdown",
   "id": "e856a186-9192-4bcb-aa98-ce4f19890359",
   "metadata": {},
   "source": [
    "Ограничим гистограмму 1500 руб."
   ]
  },
  {
   "cell_type": "code",
   "execution_count": 60,
   "id": "6a4af79c-3e3a-49ba-9c09-74a12322e604",
   "metadata": {},
   "outputs": [
    {
     "data": {
      "image/png": "[encoded data removed]",
      "text/plain": [
       "<Figure size 1080x360 with 1 Axes>"
      ]
     },
     "metadata": {
      "needs_background": "light"
     },
     "output_type": "display_data"
    }
   ],
   "source": [
    "fig,ax = plt.subplots(1,1,figsize=(15,5))\n",
    "sns.histplot(x=df['gest_Sum'],ax=ax,binwidth=10,binrange=(0,1500))\n",
    "ax.set_ylabel('Кол-во')\n",
    "ax.set_xlabel(xlabel)\n",
    "plt.show()"
   ]
  },
  {
   "cell_type": "markdown",
   "id": "f590f374-5f6e-4013-892f-9ee913aa310e",
   "metadata": {},
   "source": [
    "* Есть пик в районе 100 руб. Кофе?"
   ]
  },
  {
   "cell_type": "code",
   "execution_count": 61,
   "id": "5ec05714-690f-4d86-a5a8-1fb4a0f6489b",
   "metadata": {
    "tags": []
   },
   "outputs": [],
   "source": [
    "# Логарифмирование, пока не понимаю зачем оно нужно, и можно ли его как-то интерпретировать\n",
    "# temp_log = np.log(df['gest_Sum'] + 1)\n",
    "\n",
    "# fig,ax = plt.subplots(2,1,figsize=(15,8))\n",
    "# sns.histplot(x=test_log,ax=ax[0])\n",
    "# sns.boxplot(x=test_log,ax=ax[1])\n",
    "\n",
    "# xlabel = 'Сумма чека за вычетом скидки в руб.'\n",
    "\n",
    "# ax[0].set_ylabel('Кол-во')\n",
    "# ax[0].set_xlabel(xlabel)\n",
    "\n",
    "# ax[1].set_xlabel(xlabel)\n",
    "\n",
    "# plt.show()"
   ]
  },
  {
   "cell_type": "markdown",
   "id": "124d6f97-f49d-4123-88ab-1b2578fa4eec",
   "metadata": {},
   "source": [
    "**gest_Discount**"
   ]
  },
  {
   "cell_type": "code",
   "execution_count": 62,
   "id": "95b28e07-7a9d-42b9-a66d-7d3c7e122ba8",
   "metadata": {},
   "outputs": [
    {
     "data": {
      "text/html": [
       "<div>\n",
       "<style scoped>\n",
       "    .dataframe tbody tr th:only-of-type {\n",
       "        vertical-align: middle;\n",
       "    }\n",
       "\n",
       "    .dataframe tbody tr th {\n",
       "        vertical-align: top;\n",
       "    }\n",
       "\n",
       "    .dataframe thead th {\n",
       "        text-align: right;\n",
       "    }\n",
       "</style>\n",
       "<table border=\"1\" class=\"dataframe\">\n",
       "  <thead>\n",
       "    <tr style=\"text-align: right;\">\n",
       "      <th></th>\n",
       "      <th>gest_Discount</th>\n",
       "    </tr>\n",
       "  </thead>\n",
       "  <tbody>\n",
       "    <tr>\n",
       "      <th>count</th>\n",
       "      <td>2367804.000</td>\n",
       "    </tr>\n",
       "    <tr>\n",
       "      <th>mean</th>\n",
       "      <td>41.533</td>\n",
       "    </tr>\n",
       "    <tr>\n",
       "      <th>mode</th>\n",
       "      <td>0.000</td>\n",
       "    </tr>\n",
       "    <tr>\n",
       "      <th>var</th>\n",
       "      <td>7154.001</td>\n",
       "    </tr>\n",
       "    <tr>\n",
       "      <th>stddev</th>\n",
       "      <td>84.581</td>\n",
       "    </tr>\n",
       "    <tr>\n",
       "      <th>min</th>\n",
       "      <td>0.000</td>\n",
       "    </tr>\n",
       "    <tr>\n",
       "      <th>25%</th>\n",
       "      <td>3.200</td>\n",
       "    </tr>\n",
       "    <tr>\n",
       "      <th>50%</th>\n",
       "      <td>14.100</td>\n",
       "    </tr>\n",
       "    <tr>\n",
       "      <th>75%</th>\n",
       "      <td>44.800</td>\n",
       "    </tr>\n",
       "    <tr>\n",
       "      <th>max</th>\n",
       "      <td>3957.500</td>\n",
       "    </tr>\n",
       "    <tr>\n",
       "      <th>total_range</th>\n",
       "      <td>3957.500</td>\n",
       "    </tr>\n",
       "    <tr>\n",
       "      <th>interquartile_range</th>\n",
       "      <td>41.600</td>\n",
       "    </tr>\n",
       "    <tr>\n",
       "      <th>outlier_border_left</th>\n",
       "      <td>-59.200</td>\n",
       "    </tr>\n",
       "    <tr>\n",
       "      <th>outlier_border_right</th>\n",
       "      <td>107.200</td>\n",
       "    </tr>\n",
       "    <tr>\n",
       "      <th>outliers_count</th>\n",
       "      <td>229830.000</td>\n",
       "    </tr>\n",
       "    <tr>\n",
       "      <th>outliers_proportion</th>\n",
       "      <td>0.097</td>\n",
       "    </tr>\n",
       "  </tbody>\n",
       "</table>\n",
       "</div>"
      ],
      "text/plain": [
       "                      gest_Discount\n",
       "count                   2367804.000\n",
       "mean                         41.533\n",
       "mode                          0.000\n",
       "var                        7154.001\n",
       "stddev                       84.581\n",
       "min                           0.000\n",
       "25%                           3.200\n",
       "50%                          14.100\n",
       "75%                          44.800\n",
       "max                        3957.500\n",
       "total_range                3957.500\n",
       "interquartile_range          41.600\n",
       "outlier_border_left         -59.200\n",
       "outlier_border_right        107.200\n",
       "outliers_count           229830.000\n",
       "outliers_proportion           0.097"
      ]
     },
     "execution_count": 62,
     "metadata": {},
     "output_type": "execute_result"
    }
   ],
   "source": [
    "describe(df['gest_Discount'])"
   ]
  },
  {
   "cell_type": "markdown",
   "id": "8b611590-5e63-4ff4-b54f-6caa83d05c49",
   "metadata": {},
   "source": [
    "* Почти 10% выбросов."
   ]
  },
  {
   "cell_type": "code",
   "execution_count": 63,
   "id": "ff06cd01-1f50-4bc8-9aea-2cafdecca114",
   "metadata": {},
   "outputs": [
    {
     "data": {
      "image/png": "[encoded data removed]",
      "text/plain": [
       "<Figure size 1080x576 with 2 Axes>"
      ]
     },
     "metadata": {
      "needs_background": "light"
     },
     "output_type": "display_data"
    }
   ],
   "source": [
    "fig,ax = plt.subplots(2,1,figsize=(15,8))\n",
    "sns.histplot(x=df['gest_Discount'],ax=ax[0],binwidth=1)\n",
    "sns.boxplot(x=df['gest_Discount'],ax=ax[1])\n",
    "\n",
    "xlabel = 'Сумма скидки в руб.'\n",
    "\n",
    "ax[0].set_ylabel('Кол-во')\n",
    "ax[0].set_xlabel(xlabel)\n",
    "\n",
    "ax[1].set_xlabel(xlabel)\n",
    "\n",
    "plt.show()"
   ]
  },
  {
   "cell_type": "code",
   "execution_count": 64,
   "id": "73e35894-43f4-4a88-923a-a2b31c75a168",
   "metadata": {},
   "outputs": [
    {
     "data": {
      "image/png": "[encoded data removed]",
      "text/plain": [
       "<Figure size 1080x360 with 1 Axes>"
      ]
     },
     "metadata": {
      "needs_background": "light"
     },
     "output_type": "display_data"
    }
   ],
   "source": [
    "fig,ax = plt.subplots(1,1,figsize=(15,5))\n",
    "sns.histplot(x=df['gest_Discount'],ax=ax,binwidth=1,binrange=(0,100))\n",
    "ax.set_ylabel('Кол-во')\n",
    "ax.set_xlabel(xlabel)\n",
    "plt.show()"
   ]
  },
  {
   "cell_type": "markdown",
   "id": "529adb5f-7708-4bc3-bc0d-fceeee741d41",
   "metadata": {},
   "source": [
    "Посчитаем кол-во скидок равных 0."
   ]
  },
  {
   "cell_type": "code",
   "execution_count": 65,
   "id": "36987f03-9d24-4935-b7f4-9372fd8b9e7d",
   "metadata": {},
   "outputs": [
    {
     "data": {
      "text/html": [
       "<div>\n",
       "<style scoped>\n",
       "    .dataframe tbody tr th:only-of-type {\n",
       "        vertical-align: middle;\n",
       "    }\n",
       "\n",
       "    .dataframe tbody tr th {\n",
       "        vertical-align: top;\n",
       "    }\n",
       "\n",
       "    .dataframe thead th {\n",
       "        text-align: right;\n",
       "    }\n",
       "</style>\n",
       "<table border=\"1\" class=\"dataframe\">\n",
       "  <thead>\n",
       "    <tr style=\"text-align: right;\">\n",
       "      <th></th>\n",
       "      <th>gest_Discount</th>\n",
       "      <th>gest_Discount</th>\n",
       "    </tr>\n",
       "  </thead>\n",
       "  <tbody>\n",
       "    <tr>\n",
       "      <th>0.000</th>\n",
       "      <td>506969</td>\n",
       "      <td>0.214</td>\n",
       "    </tr>\n",
       "    <tr>\n",
       "      <th>8.400</th>\n",
       "      <td>22558</td>\n",
       "      <td>0.010</td>\n",
       "    </tr>\n",
       "    <tr>\n",
       "      <th>9.600</th>\n",
       "      <td>18969</td>\n",
       "      <td>0.008</td>\n",
       "    </tr>\n",
       "    <tr>\n",
       "      <th>7.200</th>\n",
       "      <td>18342</td>\n",
       "      <td>0.008</td>\n",
       "    </tr>\n",
       "    <tr>\n",
       "      <th>8.800</th>\n",
       "      <td>14287</td>\n",
       "      <td>0.006</td>\n",
       "    </tr>\n",
       "  </tbody>\n",
       "</table>\n",
       "</div>"
      ],
      "text/plain": [
       "       gest_Discount  gest_Discount\n",
       "0.000         506969          0.214\n",
       "8.400          22558          0.010\n",
       "9.600          18969          0.008\n",
       "7.200          18342          0.008\n",
       "8.800          14287          0.006"
      ]
     },
     "execution_count": 65,
     "metadata": {},
     "output_type": "execute_result"
    }
   ],
   "source": [
    "pd.concat([df['gest_Discount'].value_counts().iloc[0:5],df['gest_Discount'].value_counts(normalize=True).iloc[0:5]],axis=1)"
   ]
  },
  {
   "cell_type": "code",
   "execution_count": 66,
   "id": "09fff699-6472-4621-8673-7b5495ff001b",
   "metadata": {},
   "outputs": [
    {
     "name": "stdout",
     "output_type": "stream",
     "text": [
      "Кол-во нулей в \"gest_Discount\": 506969\n",
      "Процентов нулей в \"gest_Discount\" от общего числа: 21.41%\n"
     ]
    }
   ],
   "source": [
    "gest_Discount_zeros_count = df['gest_Discount'].value_counts()[0]\n",
    "print(f'Кол-во нулей в \"gest_Discount\": {gest_Discount_zeros_count}')\n",
    "gest_Discount_zeros_count = df['gest_Discount'].value_counts(normalize=True)[0]\n",
    "print(f'Процентов нулей в \"gest_Discount\" от общего числа: {gest_Discount_zeros_count:.02%}')"
   ]
  },
  {
   "cell_type": "markdown",
   "id": "f90257b0-eacf-40ef-8d1c-6a8b2d16726a",
   "metadata": {},
   "source": [
    "Посмотрим на записи, где скидки равны 0."
   ]
  },
  {
   "cell_type": "code",
   "execution_count": 67,
   "id": "34118efa-6515-4a27-876d-bf927da2fd6b",
   "metadata": {},
   "outputs": [
    {
     "data": {
      "text/html": [
       "<div>\n",
       "<style scoped>\n",
       "    .dataframe tbody tr th:only-of-type {\n",
       "        vertical-align: middle;\n",
       "    }\n",
       "\n",
       "    .dataframe tbody tr th {\n",
       "        vertical-align: top;\n",
       "    }\n",
       "\n",
       "    .dataframe thead th {\n",
       "        text-align: right;\n",
       "    }\n",
       "</style>\n",
       "<table border=\"1\" class=\"dataframe\">\n",
       "  <thead>\n",
       "    <tr style=\"text-align: right;\">\n",
       "      <th></th>\n",
       "      <th>gest_Sum</th>\n",
       "      <th>gest_Discount</th>\n",
       "      <th>days_delta</th>\n",
       "    </tr>\n",
       "  </thead>\n",
       "  <tbody>\n",
       "    <tr>\n",
       "      <th>count</th>\n",
       "      <td>506969.000</td>\n",
       "      <td>506969.000</td>\n",
       "      <td>506969.000</td>\n",
       "    </tr>\n",
       "    <tr>\n",
       "      <th>mean</th>\n",
       "      <td>541.902</td>\n",
       "      <td>0.000</td>\n",
       "      <td>6.990</td>\n",
       "    </tr>\n",
       "    <tr>\n",
       "      <th>std</th>\n",
       "      <td>534.755</td>\n",
       "      <td>0.000</td>\n",
       "      <td>12.417</td>\n",
       "    </tr>\n",
       "    <tr>\n",
       "      <th>min</th>\n",
       "      <td>8.000</td>\n",
       "      <td>0.000</td>\n",
       "      <td>-1.000</td>\n",
       "    </tr>\n",
       "    <tr>\n",
       "      <th>25%</th>\n",
       "      <td>210.000</td>\n",
       "      <td>0.000</td>\n",
       "      <td>-1.000</td>\n",
       "    </tr>\n",
       "    <tr>\n",
       "      <th>50%</th>\n",
       "      <td>385.000</td>\n",
       "      <td>0.000</td>\n",
       "      <td>2.000</td>\n",
       "    </tr>\n",
       "    <tr>\n",
       "      <th>75%</th>\n",
       "      <td>698.000</td>\n",
       "      <td>0.000</td>\n",
       "      <td>10.000</td>\n",
       "    </tr>\n",
       "    <tr>\n",
       "      <th>max</th>\n",
       "      <td>23500.000</td>\n",
       "      <td>0.000</td>\n",
       "      <td>339.000</td>\n",
       "    </tr>\n",
       "  </tbody>\n",
       "</table>\n",
       "</div>"
      ],
      "text/plain": [
       "        gest_Sum  gest_Discount  days_delta\n",
       "count 506969.000     506969.000  506969.000\n",
       "mean     541.902          0.000       6.990\n",
       "std      534.755          0.000      12.417\n",
       "min        8.000          0.000      -1.000\n",
       "25%      210.000          0.000      -1.000\n",
       "50%      385.000          0.000       2.000\n",
       "75%      698.000          0.000      10.000\n",
       "max    23500.000          0.000     339.000"
      ]
     },
     "execution_count": 67,
     "metadata": {},
     "output_type": "execute_result"
    }
   ],
   "source": [
    "df.loc[df['gest_Discount'] == 0].describe()"
   ]
  },
  {
   "cell_type": "markdown",
   "id": "676011f4-10c3-420b-8085-0a9753113057",
   "metadata": {},
   "source": [
    "Ничего необычного, кроме минимальной суммы чек равной 8 рублям (?!)."
   ]
  },
  {
   "cell_type": "markdown",
   "id": "8cb41359-6739-406d-986e-cf987e77255a",
   "metadata": {
    "tags": []
   },
   "source": [
    "### Вывод по исследованию признаков\n",
    "* Неравноемерное кол-во чеков по датам. В первой половине года больше, чем во второй.\n",
    "* Обнаружены чеки с 0 суммой и 0 скидкой даже с уникальными пользователями (у тех, у кого всего 1 запись в базе с чеками).\n",
    "    * Эти записи удалены  \n",
    "    \n",
    "    > Что они означают, не известно. Нужно уточнять у заказчика."
   ]
  },
  {
   "cell_type": "markdown",
   "id": "3015cb9d-1cda-4702-94a2-e482b3772600",
   "metadata": {},
   "source": [
    "## Сравнение признаков по целевым классам"
   ]
  },
  {
   "cell_type": "markdown",
   "id": "e9c38f2d-5abf-4a31-9d1d-24d29d383acb",
   "metadata": {},
   "source": [
    "Таргет нам дается по клиентам. Айди - класс.  \n",
    "Анализировать нам нужно чеки, т.е. в чеках должна быть отметка отточный ли чек или нет. (Соответствует ли он логике отнесения к классу 1 или нет)  \n",
    "Мы не можем воспроизвести эту логику на чеках.  \n",
    "Поэтому придется пометить оттоком все сделки клиента, который отмечен как отточный в датасете с таргетами."
   ]
  },
  {
   "cell_type": "code",
   "execution_count": 68,
   "id": "5aef71c8-e17c-4e3b-98ca-f5bb9baca89a",
   "metadata": {},
   "outputs": [
    {
     "data": {
      "text/html": [
       "<div>\n",
       "<style scoped>\n",
       "    .dataframe tbody tr th:only-of-type {\n",
       "        vertical-align: middle;\n",
       "    }\n",
       "\n",
       "    .dataframe tbody tr th {\n",
       "        vertical-align: top;\n",
       "    }\n",
       "\n",
       "    .dataframe thead th {\n",
       "        text-align: right;\n",
       "    }\n",
       "</style>\n",
       "<table border=\"1\" class=\"dataframe\">\n",
       "  <thead>\n",
       "    <tr style=\"text-align: right;\">\n",
       "      <th></th>\n",
       "      <th>clnt_ID</th>\n",
       "      <th>timestamp</th>\n",
       "      <th>gest_Sum</th>\n",
       "      <th>gest_Discount</th>\n",
       "      <th>days_delta</th>\n",
       "      <th>delta&gt;=45</th>\n",
       "      <th>target</th>\n",
       "    </tr>\n",
       "  </thead>\n",
       "  <tbody>\n",
       "    <tr>\n",
       "      <th>0</th>\n",
       "      <td>193B4268-0B4A-475E-B1D0-FF5515E29D29</td>\n",
       "      <td>2021-01-02 09:09:17.060</td>\n",
       "      <td>900.000</td>\n",
       "      <td>300.000</td>\n",
       "      <td>-1.000</td>\n",
       "      <td>False</td>\n",
       "      <td>0</td>\n",
       "    </tr>\n",
       "    <tr>\n",
       "      <th>1</th>\n",
       "      <td>193B4268-0B4A-475E-B1D0-FF5515E29D29</td>\n",
       "      <td>2021-01-07 17:09:04.120</td>\n",
       "      <td>393.700</td>\n",
       "      <td>131.300</td>\n",
       "      <td>5.000</td>\n",
       "      <td>False</td>\n",
       "      <td>0</td>\n",
       "    </tr>\n",
       "    <tr>\n",
       "      <th>2</th>\n",
       "      <td>193B4268-0B4A-475E-B1D0-FF5515E29D29</td>\n",
       "      <td>2021-01-09 11:49:13.163</td>\n",
       "      <td>817.500</td>\n",
       "      <td>272.500</td>\n",
       "      <td>1.000</td>\n",
       "      <td>False</td>\n",
       "      <td>0</td>\n",
       "    </tr>\n",
       "    <tr>\n",
       "      <th>3</th>\n",
       "      <td>193B4268-0B4A-475E-B1D0-FF5515E29D29</td>\n",
       "      <td>2021-01-11 18:38:07.737</td>\n",
       "      <td>337.500</td>\n",
       "      <td>112.500</td>\n",
       "      <td>2.000</td>\n",
       "      <td>False</td>\n",
       "      <td>0</td>\n",
       "    </tr>\n",
       "    <tr>\n",
       "      <th>4</th>\n",
       "      <td>193B4268-0B4A-475E-B1D0-FF5515E29D29</td>\n",
       "      <td>2021-01-12 14:53:53.847</td>\n",
       "      <td>180.000</td>\n",
       "      <td>60.000</td>\n",
       "      <td>0.000</td>\n",
       "      <td>False</td>\n",
       "      <td>0</td>\n",
       "    </tr>\n",
       "  </tbody>\n",
       "</table>\n",
       "</div>"
      ],
      "text/plain": [
       "                                clnt_ID               timestamp  gest_Sum  \\\n",
       "0  193B4268-0B4A-475E-B1D0-FF5515E29D29 2021-01-02 09:09:17.060   900.000   \n",
       "1  193B4268-0B4A-475E-B1D0-FF5515E29D29 2021-01-07 17:09:04.120   393.700   \n",
       "2  193B4268-0B4A-475E-B1D0-FF5515E29D29 2021-01-09 11:49:13.163   817.500   \n",
       "3  193B4268-0B4A-475E-B1D0-FF5515E29D29 2021-01-11 18:38:07.737   337.500   \n",
       "4  193B4268-0B4A-475E-B1D0-FF5515E29D29 2021-01-12 14:53:53.847   180.000   \n",
       "\n",
       "   gest_Discount  days_delta  delta>=45  target  \n",
       "0        300.000      -1.000      False       0  \n",
       "1        131.300       5.000      False       0  \n",
       "2        272.500       1.000      False       0  \n",
       "3        112.500       2.000      False       0  \n",
       "4         60.000       0.000      False       0  "
      ]
     },
     "metadata": {},
     "output_type": "display_data"
    }
   ],
   "source": [
    "df_eda = df.merge(df_target,on='clnt_ID')\n",
    "display(df_eda.head())"
   ]
  },
  {
   "cell_type": "markdown",
   "id": "e1a4511b-6ee6-4fd2-a898-74ba9bb7a805",
   "metadata": {},
   "source": [
    "**Сравнение по стоимости покупки за вычетом скидки: `'gest_Sum'`**"
   ]
  },
  {
   "cell_type": "code",
   "execution_count": 69,
   "id": "c332ee2a-e807-4773-a223-cc10f0688904",
   "metadata": {},
   "outputs": [
    {
     "data": {
      "image/png": "[encoded data removed]",
      "text/plain": [
       "<Figure size 720x288 with 1 Axes>"
      ]
     },
     "metadata": {
      "needs_background": "light"
     },
     "output_type": "display_data"
    }
   ],
   "source": [
    "fig, ax = plt.subplots(1, 1, figsize=(10, 4))\n",
    "sns.boxplot(x='gest_Sum', y='target', data=df_eda, ax=ax, orient='h')\n",
    "ax.set_xlim(0,1500)\n",
    "\n",
    "xlabel = 'Сумма чека за вычетом скидки в руб.'\n",
    "\n",
    "ax.set_ylabel('Отток')\n",
    "ax.set_xlabel(xlabel)\n",
    "\n",
    "plt.show()"
   ]
  },
  {
   "cell_type": "markdown",
   "id": "d559abec-2bd5-4709-930e-15bed959ee10",
   "metadata": {},
   "source": [
    "* Сумма чека за вычетом скидки чуть больше у тех, кто уходит в отток, судя по графику. Но нужны статистические тесты для проверки."
   ]
  },
  {
   "cell_type": "markdown",
   "id": "e4b16c20-b954-4f04-bbe1-4032b3bcd964",
   "metadata": {},
   "source": [
    "**Сравнение по скидке 'gest_Discount'**"
   ]
  },
  {
   "cell_type": "code",
   "execution_count": 70,
   "id": "c3d5043c-c078-4698-b26f-1b2c66f36974",
   "metadata": {},
   "outputs": [
    {
     "data": {
      "image/png": "[encoded data removed]",
      "text/plain": [
       "<Figure size 720x288 with 1 Axes>"
      ]
     },
     "metadata": {
      "needs_background": "light"
     },
     "output_type": "display_data"
    }
   ],
   "source": [
    "fig, ax = plt.subplots(1, 1, figsize=(10, 4))\n",
    "sns.boxplot(x='gest_Discount', y='target', data=df_eda, ax=ax,orient='h')\n",
    "ax.set_xlim(0,200)\n",
    "\n",
    "xlabel = 'Сумма скидки в руб.'\n",
    "\n",
    "ax.set_ylabel('Отток')\n",
    "ax.set_xlabel(xlabel)\n",
    "\n",
    "plt.show()"
   ]
  },
  {
   "cell_type": "markdown",
   "id": "a6ead380-9f43-47a8-87f7-4471a3902324",
   "metadata": {},
   "source": [
    "* У тех, кто остается скидка скорее есть и больше, чем у тех кто уходит в отток.\n",
    "* У тех, кто уходит в отток - может не быть никакой скидки и она в целом меньше чем у тех, кто остается."
   ]
  },
  {
   "cell_type": "markdown",
   "id": "47a61fc2-2a66-4f33-92e9-651dd8c649fe",
   "metadata": {},
   "source": [
    "**Сравнение по общей стоимости чека ('gest_Sum'+'gest_Discount')**"
   ]
  },
  {
   "cell_type": "markdown",
   "id": "3a11e0ba-4e6b-4618-b268-3113704b2fd8",
   "metadata": {},
   "source": [
    "Здесь нужно создать столбец с общей стоимостью чека."
   ]
  },
  {
   "cell_type": "code",
   "execution_count": 71,
   "id": "d429d34e-ea0e-4914-b0fa-dc7b1bdde27b",
   "metadata": {
    "tags": []
   },
   "outputs": [
    {
     "data": {
      "text/html": [
       "<div>\n",
       "<style scoped>\n",
       "    .dataframe tbody tr th:only-of-type {\n",
       "        vertical-align: middle;\n",
       "    }\n",
       "\n",
       "    .dataframe tbody tr th {\n",
       "        vertical-align: top;\n",
       "    }\n",
       "\n",
       "    .dataframe thead th {\n",
       "        text-align: right;\n",
       "    }\n",
       "</style>\n",
       "<table border=\"1\" class=\"dataframe\">\n",
       "  <thead>\n",
       "    <tr style=\"text-align: right;\">\n",
       "      <th></th>\n",
       "      <th>clnt_ID</th>\n",
       "      <th>timestamp</th>\n",
       "      <th>gest_Sum</th>\n",
       "      <th>gest_Discount</th>\n",
       "      <th>days_delta</th>\n",
       "      <th>delta&gt;=45</th>\n",
       "      <th>target</th>\n",
       "      <th>gest_Total</th>\n",
       "    </tr>\n",
       "  </thead>\n",
       "  <tbody>\n",
       "    <tr>\n",
       "      <th>0</th>\n",
       "      <td>193B4268-0B4A-475E-B1D0-FF5515E29D29</td>\n",
       "      <td>2021-01-02 09:09:17.060</td>\n",
       "      <td>900.000</td>\n",
       "      <td>300.000</td>\n",
       "      <td>-1.000</td>\n",
       "      <td>False</td>\n",
       "      <td>0</td>\n",
       "      <td>1200.000</td>\n",
       "    </tr>\n",
       "    <tr>\n",
       "      <th>1</th>\n",
       "      <td>193B4268-0B4A-475E-B1D0-FF5515E29D29</td>\n",
       "      <td>2021-01-07 17:09:04.120</td>\n",
       "      <td>393.700</td>\n",
       "      <td>131.300</td>\n",
       "      <td>5.000</td>\n",
       "      <td>False</td>\n",
       "      <td>0</td>\n",
       "      <td>525.000</td>\n",
       "    </tr>\n",
       "    <tr>\n",
       "      <th>2</th>\n",
       "      <td>193B4268-0B4A-475E-B1D0-FF5515E29D29</td>\n",
       "      <td>2021-01-09 11:49:13.163</td>\n",
       "      <td>817.500</td>\n",
       "      <td>272.500</td>\n",
       "      <td>1.000</td>\n",
       "      <td>False</td>\n",
       "      <td>0</td>\n",
       "      <td>1090.000</td>\n",
       "    </tr>\n",
       "    <tr>\n",
       "      <th>3</th>\n",
       "      <td>193B4268-0B4A-475E-B1D0-FF5515E29D29</td>\n",
       "      <td>2021-01-11 18:38:07.737</td>\n",
       "      <td>337.500</td>\n",
       "      <td>112.500</td>\n",
       "      <td>2.000</td>\n",
       "      <td>False</td>\n",
       "      <td>0</td>\n",
       "      <td>450.000</td>\n",
       "    </tr>\n",
       "    <tr>\n",
       "      <th>4</th>\n",
       "      <td>193B4268-0B4A-475E-B1D0-FF5515E29D29</td>\n",
       "      <td>2021-01-12 14:53:53.847</td>\n",
       "      <td>180.000</td>\n",
       "      <td>60.000</td>\n",
       "      <td>0.000</td>\n",
       "      <td>False</td>\n",
       "      <td>0</td>\n",
       "      <td>240.000</td>\n",
       "    </tr>\n",
       "  </tbody>\n",
       "</table>\n",
       "</div>"
      ],
      "text/plain": [
       "                                clnt_ID               timestamp  gest_Sum  \\\n",
       "0  193B4268-0B4A-475E-B1D0-FF5515E29D29 2021-01-02 09:09:17.060   900.000   \n",
       "1  193B4268-0B4A-475E-B1D0-FF5515E29D29 2021-01-07 17:09:04.120   393.700   \n",
       "2  193B4268-0B4A-475E-B1D0-FF5515E29D29 2021-01-09 11:49:13.163   817.500   \n",
       "3  193B4268-0B4A-475E-B1D0-FF5515E29D29 2021-01-11 18:38:07.737   337.500   \n",
       "4  193B4268-0B4A-475E-B1D0-FF5515E29D29 2021-01-12 14:53:53.847   180.000   \n",
       "\n",
       "   gest_Discount  days_delta  delta>=45  target  gest_Total  \n",
       "0        300.000      -1.000      False       0    1200.000  \n",
       "1        131.300       5.000      False       0     525.000  \n",
       "2        272.500       1.000      False       0    1090.000  \n",
       "3        112.500       2.000      False       0     450.000  \n",
       "4         60.000       0.000      False       0     240.000  "
      ]
     },
     "execution_count": 71,
     "metadata": {},
     "output_type": "execute_result"
    }
   ],
   "source": [
    "df_eda['gest_Total'] = df_eda['gest_Sum'] + df_eda['gest_Discount']\n",
    "df_eda.head()"
   ]
  },
  {
   "cell_type": "code",
   "execution_count": 72,
   "id": "87b766f7-f759-4d81-95bc-37fdebfc931b",
   "metadata": {},
   "outputs": [
    {
     "data": {
      "image/png": "[encoded data removed]",
      "text/plain": [
       "<Figure size 720x288 with 1 Axes>"
      ]
     },
     "metadata": {
      "needs_background": "light"
     },
     "output_type": "display_data"
    }
   ],
   "source": [
    "fig, ax = plt.subplots(1, 1, figsize=(10, 4))\n",
    "sns.boxplot(x='gest_Total', y='target', data=df_eda, ax=ax,orient='h')\n",
    "\n",
    "xlabel = 'Общая сумма чека в руб.'\n",
    "\n",
    "ax.set_ylabel('Отток')\n",
    "ax.set_xlabel(xlabel)\n",
    "\n",
    "ax.set_xlim(0,1500)\n",
    "plt.show()"
   ]
  },
  {
   "cell_type": "markdown",
   "id": "61035b38-7335-4b3d-9bd5-858691ddabab",
   "metadata": {},
   "source": [
    "* Здесь картина чуть более размазанная, но в целом наблюдаются те же признаки, что и при анализе 'gest_Sum' по таргету."
   ]
  },
  {
   "cell_type": "markdown",
   "id": "dff73bb7-4b27-41c2-9ae2-7801598d4e90",
   "metadata": {},
   "source": [
    "**Сравнение зависимости gest_Sum от gest_Discount с разделением по таргету**"
   ]
  },
  {
   "cell_type": "code",
   "execution_count": 73,
   "id": "b5b71685-c291-453d-93c9-0ccff10f718b",
   "metadata": {},
   "outputs": [
    {
     "data": {
      "image/png": "[encoded data removed]",
      "text/plain": [
       "<Figure size 1440x720 with 2 Axes>"
      ]
     },
     "metadata": {
      "needs_background": "light"
     },
     "output_type": "display_data"
    }
   ],
   "source": [
    "fig, ax = plt.subplots(1, 2, figsize=(20, 10))\n",
    "sns.scatterplot(x=\"gest_Sum\", y=\"gest_Discount\", data=df_eda.loc[df_eda['target'] == 1], alpha=0.3,ax=ax[0],color='orange')\n",
    "sns.scatterplot(x=\"gest_Sum\", y=\"gest_Discount\", data=df_eda.loc[df_eda['target'] == 0], alpha=0.3,ax=ax[1],color='blue')\n",
    "ax[0].set_title('Клиенты ушедшие в отток')\n",
    "ax[0].set_xlabel('Сумма чека за вычетом скидки в руб.')\n",
    "ax[0].set_ylabel('Размер скидки в руб.')\n",
    "ax[1].set_title('Клиенты не ушедшие в отток')\n",
    "ax[1].set_xlabel('Сумма чека за вычетом скидки в руб.')\n",
    "ax[1].set_ylabel('Размер скидки в руб.')\n",
    "plt.show()"
   ]
  },
  {
   "cell_type": "markdown",
   "id": "63247f09-c94f-4758-8a3a-39064623a62b",
   "metadata": {},
   "source": [
    "Похоже есть три типа скидок:\n",
    "* Фиксированные скидки в % (это прямые линии исходящие из нуля)\n",
    "* Фиксированные скидки в руб. (акции, купоны или подарочные сертификаты)\n",
    "* Накопительные баллы (все остальное между)"
   ]
  },
  {
   "cell_type": "markdown",
   "id": "85419954-234b-48ff-9f4d-740263df9c5d",
   "metadata": {},
   "source": [
    "* У клиентов не ушедших в отток ярко выражены фиксированные скидки в руб. (1000 руб, 500). Возможно, это результат недавней маркетинговой деятельности."
   ]
  },
  {
   "cell_type": "markdown",
   "id": "f4c80b01-40ec-4c8c-a8cb-814489b40cb7",
   "metadata": {},
   "source": [
    "**Сравним кол-во чеков у юзера по таргету**"
   ]
  },
  {
   "cell_type": "code",
   "execution_count": 74,
   "id": "0ee08139-7775-45e4-a063-19fef7b558f7",
   "metadata": {},
   "outputs": [],
   "source": [
    "# pd.concat([df_eda['target'].value_counts(),df_eda['target'].value_counts(normalize=True)],axis=1)\n",
    "# sns.countplot(x='target',data=df_eda);"
   ]
  },
  {
   "cell_type": "code",
   "execution_count": 75,
   "id": "7d080d00-6493-4f94-bdff-4e9995a8bd7f",
   "metadata": {
    "tags": []
   },
   "outputs": [],
   "source": [
    "buys_count = df_eda.groupby(by=['target','clnt_ID'],as_index=False)['timestamp'].count().loc[:,['target','timestamp']]"
   ]
  },
  {
   "cell_type": "code",
   "execution_count": 76,
   "id": "50e70cee-75b6-457a-94a3-dc181fe68f1d",
   "metadata": {},
   "outputs": [
    {
     "data": {
      "image/png": "[encoded data removed]",
      "text/plain": [
       "<Figure size 720x288 with 1 Axes>"
      ]
     },
     "metadata": {
      "needs_background": "light"
     },
     "output_type": "display_data"
    }
   ],
   "source": [
    "fig, ax = plt.subplots(1, 1, figsize=(10, 4))\n",
    "sns.boxplot(x='timestamp', y='target', data=buys_count, ax=ax,orient='h')\n",
    "ax.set_xlim(0,25)\n",
    "\n",
    "xlabel = 'Кол-во покупок пользователей за 2021'\n",
    "\n",
    "ax.set_ylabel('Отток')\n",
    "ax.set_xlabel(xlabel)\n",
    "\n",
    "plt.show()"
   ]
  },
  {
   "cell_type": "markdown",
   "id": "98c3d724-24c5-45af-9f39-322493e638dd",
   "metadata": {},
   "source": [
    "Те кто ушли в отток, еще не \"насытились\" продуктом?"
   ]
  },
  {
   "cell_type": "markdown",
   "id": "6e989b2d-36cc-48f2-a56a-3f3c3cc52e6d",
   "metadata": {},
   "source": [
    "### Вывод по сравнению признаков по целевым классам\n",
    "* Визуально заметны различия в распределении 'gest_Sum','gest_Discount','gest_Total' по таргету, но необходимы статистические тесты.\n",
    "* Обнаружены разные типы скидок:\n",
    "    * Фиксированные скидки в % \n",
    "    * Фиксированные скидки в руб. (акции, купоны или подарочные сертификаты)\n",
    "    * Накопительные баллы \n",
    "* У клиентов не ушедших в отток (пока) есть фиксированные скидки в рублях, у ушедших - нет.\n",
    "    > Вероятно, это говорит о какой-то маркетинговой акции.\n",
    "* Обнаружена **существенная** разница в кол-ве покупок у разных классов.\n",
    "    > Те, кто не ушел в отток - у них в большинстве покупок от 0 до 4.\n",
    "    > У тех, кто ушел - от 2 до 9."
   ]
  },
  {
   "cell_type": "markdown",
   "id": "c0a7a0c7-db20-4c1e-9ee0-a7438228040c",
   "metadata": {},
   "source": [
    "**Корреляция**"
   ]
  },
  {
   "cell_type": "code",
   "execution_count": 77,
   "id": "a1c5d327-149f-4724-92d8-4bc8490065ce",
   "metadata": {},
   "outputs": [],
   "source": [
    "corr = df_eda.corr()"
   ]
  },
  {
   "cell_type": "code",
   "execution_count": 78,
   "id": "6390b309-ba3d-4bf4-ac87-350dea4f8f2d",
   "metadata": {},
   "outputs": [
    {
     "data": {
      "image/png": "[encoded data removed]",
      "text/plain": [
       "<Figure size 504x504 with 2 Axes>"
      ]
     },
     "metadata": {
      "needs_background": "light"
     },
     "output_type": "display_data"
    }
   ],
   "source": [
    "fig,ax = plt.subplots(figsize=(7,7))\n",
    "sns.heatmap(corr, annot=True,ax=ax,vmin=-1,vmax=1,linewidth=.5,cmap=\"PiYG\",center=0,fmt='.2%')\n",
    "plt.show()"
   ]
  },
  {
   "cell_type": "markdown",
   "id": "fbe4452b-19ef-4803-b2db-0031a8c66fef",
   "metadata": {},
   "source": [
    "Чего-то особого, кроме очевидного, здесь не обнаружено."
   ]
  },
  {
   "cell_type": "markdown",
   "id": "913bd686-9f3a-415d-a530-87776309c9c5",
   "metadata": {},
   "source": [
    "## Общий вывод по EDA\n",
    "**Таргет:**\n",
    "\n",
    "* Пользователи со всего одной покупкой выведены из класса 1 в класс 0\n",
    "* Есть дисбаланс классов: 0.68 у класса 0, 0.32 у класса 1.\n",
    "* Не хватает данных для проверки логики построения таргета\n",
    "\n",
    "**Исследование признаков:**\n",
    "\n",
    "* Удалены чеки, в которых сумма = 0 и скидка = 0 одновременно. Даже с уникальными пользователями (у тех, у кого всего 1 запись в базе с чеками).\n",
    "\n",
    "**Сравнение признаков по целевым классам:**\n",
    "\n",
    "* Обнаружены разные типы скидок:\n",
    "    * Фиксированные скидки в % \n",
    "    * Фиксированные скидки в руб. (акции, купоны или подарочные сертификаты)\n",
    "    * Накопительные баллы \n",
    "* У клиентов не ушедших в отток (пока) есть фиксированные скидки в рублях, у ушедших - нет.\n",
    "* Обнаружена **существенная** разница в кол-ве покупок у разных классов.\n"
   ]
  },
  {
   "cell_type": "markdown",
   "id": "f11d820e-a5e7-4663-a421-b265cd4ccff2",
   "metadata": {
    "tags": []
   },
   "source": [
    "# BASELINE и model selection"
   ]
  },
  {
   "cell_type": "markdown",
   "id": "b685fc19-caa6-4d0d-b4ac-64bc1220091a",
   "metadata": {},
   "source": [
    "Для бейслайна используем данные в таком виде:  \n",
    "* Удаляем чеки, где с последней покупки прошло >= 45 дней, (это может быть источником лика при агрегации)\n",
    "* группируем по клиенту,\n",
    "* берем мин, макс, медиану, среднее по `gest_Sum`, `gest_Discount`, \n",
    "\n",
    "-->> Также будем проверять результативность моделей по датасету с клиентами, у которых 1 покупка, и без них.\n",
    "\n",
    "Модели:\n",
    "* логистическая регрессия\n",
    "* дерево решений\n",
    "* случайный лес\n",
    "* catboost\n",
    "\n",
    "Оцениваем `roc auc` по кроссвалидации на 5 фолдах."
   ]
  },
  {
   "cell_type": "code",
   "execution_count": 79,
   "id": "f50627ea-abef-4dc1-9303-93c9ed24e097",
   "metadata": {
    "tags": []
   },
   "outputs": [
    {
     "data": {
      "text/html": [
       "<div>\n",
       "<style scoped>\n",
       "    .dataframe tbody tr th:only-of-type {\n",
       "        vertical-align: middle;\n",
       "    }\n",
       "\n",
       "    .dataframe tbody tr th {\n",
       "        vertical-align: top;\n",
       "    }\n",
       "\n",
       "    .dataframe thead th {\n",
       "        text-align: right;\n",
       "    }\n",
       "</style>\n",
       "<table border=\"1\" class=\"dataframe\">\n",
       "  <thead>\n",
       "    <tr style=\"text-align: right;\">\n",
       "      <th></th>\n",
       "      <th>clnt_ID</th>\n",
       "      <th>gest_Sum</th>\n",
       "      <th>gest_Discount</th>\n",
       "      <th>days_delta</th>\n",
       "      <th>delta&gt;=45</th>\n",
       "    </tr>\n",
       "  </thead>\n",
       "  <tbody>\n",
       "    <tr>\n",
       "      <th>0</th>\n",
       "      <td>193B4268-0B4A-475E-B1D0-FF5515E29D29</td>\n",
       "      <td>900.000</td>\n",
       "      <td>300.000</td>\n",
       "      <td>-1.000</td>\n",
       "      <td>False</td>\n",
       "    </tr>\n",
       "    <tr>\n",
       "      <th>1</th>\n",
       "      <td>8DA65A37-C1D0-41D4-98E1-AB6C5BF1367F</td>\n",
       "      <td>165.000</td>\n",
       "      <td>55.000</td>\n",
       "      <td>-1.000</td>\n",
       "      <td>False</td>\n",
       "    </tr>\n",
       "    <tr>\n",
       "      <th>2</th>\n",
       "      <td>26ACF3C8-25C8-4345-ABC2-33DA15EA6454</td>\n",
       "      <td>800.500</td>\n",
       "      <td>25.500</td>\n",
       "      <td>-1.000</td>\n",
       "      <td>False</td>\n",
       "    </tr>\n",
       "    <tr>\n",
       "      <th>3</th>\n",
       "      <td>0F77DDB3-A9A7-44BE-AAAB-9DF59B66A695</td>\n",
       "      <td>580.000</td>\n",
       "      <td>0.000</td>\n",
       "      <td>-1.000</td>\n",
       "      <td>False</td>\n",
       "    </tr>\n",
       "    <tr>\n",
       "      <th>4</th>\n",
       "      <td>F16BCF77-FA5A-4093-B7E3-FA86E2B1EA31</td>\n",
       "      <td>148.900</td>\n",
       "      <td>3.100</td>\n",
       "      <td>-1.000</td>\n",
       "      <td>False</td>\n",
       "    </tr>\n",
       "  </tbody>\n",
       "</table>\n",
       "</div>"
      ],
      "text/plain": [
       "                                clnt_ID  gest_Sum  gest_Discount  days_delta  \\\n",
       "0  193B4268-0B4A-475E-B1D0-FF5515E29D29   900.000        300.000      -1.000   \n",
       "1  8DA65A37-C1D0-41D4-98E1-AB6C5BF1367F   165.000         55.000      -1.000   \n",
       "2  26ACF3C8-25C8-4345-ABC2-33DA15EA6454   800.500         25.500      -1.000   \n",
       "3  0F77DDB3-A9A7-44BE-AAAB-9DF59B66A695   580.000          0.000      -1.000   \n",
       "4  F16BCF77-FA5A-4093-B7E3-FA86E2B1EA31   148.900          3.100      -1.000   \n",
       "\n",
       "   delta>=45  \n",
       "0      False  \n",
       "1      False  \n",
       "2      False  \n",
       "3      False  \n",
       "4      False  "
      ]
     },
     "execution_count": 79,
     "metadata": {},
     "output_type": "execute_result"
    }
   ],
   "source": [
    "# Будем использовать копию датасета для бейзлайна\n",
    "df_baseline = df.copy()\n",
    "df_baseline = df_baseline.drop(columns=['timestamp'])\n",
    "df_baseline.head()"
   ]
  },
  {
   "cell_type": "code",
   "execution_count": 80,
   "id": "844a8952-40c3-4806-8953-4240284c5961",
   "metadata": {},
   "outputs": [],
   "source": [
    "# Напишем ф-цию, которая удаляет строки, где с последней покупки прошло >= 45 дней\n",
    "def cut_45(df):\n",
    "    df = df.drop(index=df[df['delta>=45']].index)\n",
    "    return df"
   ]
  },
  {
   "cell_type": "code",
   "execution_count": 81,
   "id": "2b26f109-2e17-4480-88b1-dfa9f05224ac",
   "metadata": {},
   "outputs": [],
   "source": [
    "# Напишем функцию подготовки данных для модели\n",
    "def data_prep(data:pd.DataFrame,target:pd.DataFrame,aggfunc_dict:dict,drop_1_buys=True) -> pd.DataFrame:\n",
    "    \"\"\"\n",
    "    Ф-ция для подготовки данных для модели.\n",
    "\n",
    "\n",
    "    1. Удаляем из чеков строки, , где с последней покупки прошло >= 45 дней (они должны быть подготовлены заранее)\n",
    "    2. Группируем по clnt_ID и агрегируем столбцы по функциям указанным в aggfunc_dict\n",
    "    3. Убираем мульти-уровни в столбцах\n",
    "    4. (Опционально if drop_1_buys=True) Убираем клиентов с одной покупкой. (В aggfunc_dict должна быть пара \"gest_Discount\":\"count\")\n",
    "    4a. Дропаем столбец, по которому считали кол-во чеков у клиента ('gest_Discount_count')\n",
    "    5. Объединяем получившийся датасет с таргетом\n",
    "    6. Дропаем 'clnt_ID' \n",
    "    7. Делим на X и y и возвращаем их.\n",
    "    \"\"\"\n",
    "    df = data.copy()\n",
    "    df_target = target.copy()\n",
    "#     1.\n",
    "    df = cut_45(df)\n",
    "#     2.\n",
    "    df = df.pivot_table(index='clnt_ID', \n",
    "                        # values=cols,\n",
    "                        aggfunc=aggfunc_dict, \n",
    "                        # fill_value=0 # Пропуски будут в стандартном отклонении любых признаков, где только 1 покупка\n",
    "                        )\n",
    "#     3.\n",
    "    df.columns = ['_'.join(column) for column in df.columns]\n",
    "#     4.\n",
    "    if drop_1_buys:\n",
    "        df = df.drop(index=df[df['gest_Discount_count'] == 1].index)\n",
    "        df = df.drop(columns=['gest_Discount_count'])\n",
    "#     5.\n",
    "    df = df.merge(df_target,on='clnt_ID')\n",
    "#     6.\n",
    "    df = df.drop(columns=['clnt_ID'])\n",
    "#     7.\n",
    "    X = df.drop(columns=['target'])\n",
    "    y = df['target']\n",
    "    return X,y\n",
    "    "
   ]
  },
  {
   "cell_type": "markdown",
   "id": "7277ebbc-6bb7-41f0-803a-2e7a98ca2e8e",
   "metadata": {},
   "source": [
    "## Baseline на датасете, где клиенты с одной покупкой находятся в классе 0\n",
    " \n",
    "Изменять ничего не нужно. Мы изначально переместили их в класс 0."
   ]
  },
  {
   "cell_type": "code",
   "execution_count": 82,
   "id": "c868cabc-8d99-495a-966a-2ac31d555db9",
   "metadata": {
    "jupyter": {
     "source_hidden": true
    },
    "tags": []
   },
   "outputs": [],
   "source": [
    "# Старый код для проверки того, что получается в процессе.\n",
    "# df_baseline = cut_45(df_baseline)\n",
    "\n",
    "# # Проверим\n",
    "# df_baseline[df_baseline['delta>=45']]\n",
    "\n",
    "# # Создадим словарь для функция агрегирования по необходимым столбцам\n",
    "# aggfunc_dict = {'gest_Sum': ['min','max','median','mean'], \n",
    "#                 'gest_Discount': ['min','max','median','mean'], \n",
    "#                } \n",
    "\n",
    "# # Сгруппируем по клиентам применим агрегирующие функции из словаря\n",
    "# pivot_baseline = df_baseline.pivot_table(index='clnt_ID', values=['gest_Sum','gest_Discount'],aggfunc=aggfunc_dict, \n",
    "#                                          # fill_value=0\n",
    "#                                         )\n",
    "\n",
    "# pivot_baseline.isna().sum()\n",
    "\n",
    "# # Уберем мульти-уровни в столбцах\n",
    "# pivot_baseline.columns = ['_'.join(column) for column in pivot_baseline.columns]\n",
    "\n",
    "# pivot_baseline.describe()\n",
    "\n",
    "# # Создадим датафрейм с присоединенными таргетами\n",
    "# pivot_baseline_full_new = pivot_baseline.merge(df_target,on='clnt_ID')\n",
    "\n",
    "# pivot_baseline_full_new.head()\n",
    "\n",
    "# # Уберем айдишники клиентов. Модели они только помешают\n",
    "# pivot_baseline_full_new = pivot_baseline_full_new.drop(columns=['clnt_ID'])\n",
    "\n",
    "\n",
    "# # Создадим фичи и таргет\n",
    "\n",
    "# X = pivot_baseline_full_new.drop(columns=['target'])\n",
    "# y = pivot_baseline_full_new['target']\n",
    "\n",
    "# display(X.head())\n",
    "# y.head()"
   ]
  },
  {
   "cell_type": "code",
   "execution_count": 83,
   "id": "7d4ce68c-f391-4c1c-9904-8623bf26e9f6",
   "metadata": {
    "jupyter": {
     "source_hidden": true
    },
    "tags": []
   },
   "outputs": [],
   "source": [
    "# fig,ax = plt.subplots(figsize=(10,10))\n",
    "# sns.heatmap(X.corr(), annot=True,ax=ax,vmin=-1,vmax=1,linewidth=.5,cmap=\"PiYG\",center=0,fmt='.2%')\n",
    "# plt.show()"
   ]
  },
  {
   "cell_type": "code",
   "execution_count": 84,
   "id": "da685b66-1ff7-4339-a648-6a6ed502bddb",
   "metadata": {},
   "outputs": [],
   "source": [
    "# Словарь с агрегирующими функциями\n",
    "aggfunc_dict = {'gest_Sum': ['min','max','median','mean'], \n",
    "                'gest_Discount': ['min','max','median','mean'], \n",
    "               } "
   ]
  },
  {
   "cell_type": "code",
   "execution_count": 85,
   "id": "7eceeec5-42f3-4a7c-b139-78615f95addc",
   "metadata": {},
   "outputs": [],
   "source": [
    "X,y = data_prep(df_baseline,df_target,aggfunc_dict=aggfunc_dict,drop_1_buys=False)"
   ]
  },
  {
   "cell_type": "markdown",
   "id": "9c10505d-4d7e-42dd-944a-3273681a3cd1",
   "metadata": {},
   "source": [
    "Для каждой модели сделаем фолды разными, чтобы внести больше вариантивности моделям."
   ]
  },
  {
   "cell_type": "code",
   "execution_count": 86,
   "id": "091fabbb-3a78-47f0-9f4e-351ed3addd09",
   "metadata": {},
   "outputs": [],
   "source": [
    "cv_shuffle = ShuffleSplit(n_splits=5, test_size=0.3)"
   ]
  },
  {
   "cell_type": "code",
   "execution_count": 87,
   "id": "60fb5f2f-6b90-46ab-bc64-3ebc1b6c1587",
   "metadata": {
    "tags": []
   },
   "outputs": [],
   "source": [
    "# Логистическая регрессия\n",
    "with warnings.catch_warnings():\n",
    "    warnings.simplefilter('ignore')\n",
    "    log_reg = LogisticRegression()\n",
    "    log_reg_cv = cross_validate(log_reg, X, y, cv=cv_shuffle, scoring='roc_auc',return_estimator=True)\n",
    "    \n",
    "# Здесь ошибки несходимости - убрал"
   ]
  },
  {
   "cell_type": "code",
   "execution_count": 88,
   "id": "bc199100-56db-4eb2-a4e3-167a78f65fc1",
   "metadata": {},
   "outputs": [],
   "source": [
    "# Дерево решений\n",
    "tree = DecisionTreeClassifier()\n",
    "tree_cv = cross_validate(tree,X,y,cv=cv_shuffle,scoring='roc_auc',return_estimator=True)"
   ]
  },
  {
   "cell_type": "code",
   "execution_count": 89,
   "id": "0c281d87-dae3-4f7b-abd9-42ec653c2e43",
   "metadata": {},
   "outputs": [],
   "source": [
    "# Случайный лес\n",
    "forest = RandomForestClassifier()\n",
    "forest_cv = cross_validate(forest,X,y,cv=cv_shuffle,scoring='roc_auc',return_estimator=True)"
   ]
  },
  {
   "cell_type": "code",
   "execution_count": 90,
   "id": "5923d7ee-989f-4d7c-8852-1cabb5828afe",
   "metadata": {},
   "outputs": [],
   "source": [
    "# Функция для кроссвалидации катбуста\n",
    "def catboost_cv(X,y):\n",
    "    # Catboost\n",
    "    model = CatBoostClassifier(\n",
    "        custom_loss=[metrics.AUC()],\n",
    "        random_seed=42,\n",
    "        logging_level='Silent',\n",
    "        # task_type=\"GPU\" # С этим параметром не хочет кросс валидироваться: Saved model's learn and test checksum is different from current model's learn and test checksum\n",
    "    )\n",
    "    cv_params = model.get_params()\n",
    "    cv_params.update({\n",
    "        'loss_function': metrics.Logloss()\n",
    "    })\n",
    "    cv_data, catboost_models = cv(\n",
    "        Pool(X, y),\n",
    "        cv_params,\n",
    "        plot=False,\n",
    "        fold_count=5, \n",
    "        shuffle=True, # Перемешаем наши данные\n",
    "        return_models=True\n",
    "    )\n",
    "\n",
    "    # display(cv_data.head())\n",
    "\n",
    "    print('Best validation Logloss score: {:.2f}±{:.2f} on step {}'.format(\n",
    "        np.max(cv_data['test-Logloss-mean']),\n",
    "        cv_data['test-Logloss-std'][np.argmax(cv_data['test-Logloss-mean'])],\n",
    "        np.argmax(cv_data['test-Logloss-mean'])\n",
    "    ))\n",
    "\n",
    "    print('Precise validation Logloss score: {}'.format(np.max(cv_data['test-Logloss-mean'])))\n",
    "    return cv_data, catboost_models"
   ]
  },
  {
   "cell_type": "code",
   "execution_count": 91,
   "id": "5ae77242-762a-480f-9ba5-8a4635a0fbac",
   "metadata": {},
   "outputs": [
    {
     "name": "stdout",
     "output_type": "stream",
     "text": [
      "Best validation Logloss score: 0.68±0.00 on step 0\n",
      "Precise validation Logloss score: 0.6811746311020872\n"
     ]
    }
   ],
   "source": [
    "cv_data,_ = catboost_cv(X,y)"
   ]
  },
  {
   "cell_type": "code",
   "execution_count": 92,
   "id": "e105b64c-fec6-4241-bd79-44a8891509ea",
   "metadata": {},
   "outputs": [
    {
     "data": {
      "text/html": [
       "<div>\n",
       "<style scoped>\n",
       "    .dataframe tbody tr th:only-of-type {\n",
       "        vertical-align: middle;\n",
       "    }\n",
       "\n",
       "    .dataframe tbody tr th {\n",
       "        vertical-align: top;\n",
       "    }\n",
       "\n",
       "    .dataframe thead th {\n",
       "        text-align: right;\n",
       "    }\n",
       "</style>\n",
       "<table border=\"1\" class=\"dataframe\">\n",
       "  <thead>\n",
       "    <tr style=\"text-align: right;\">\n",
       "      <th></th>\n",
       "      <th>mean</th>\n",
       "      <th>std</th>\n",
       "    </tr>\n",
       "  </thead>\n",
       "  <tbody>\n",
       "    <tr>\n",
       "      <th>logreg roc auc</th>\n",
       "      <td>0.781</td>\n",
       "      <td>0.006</td>\n",
       "    </tr>\n",
       "    <tr>\n",
       "      <th>tree roc auc</th>\n",
       "      <td>0.652</td>\n",
       "      <td>0.002</td>\n",
       "    </tr>\n",
       "    <tr>\n",
       "      <th>forest roc auc</th>\n",
       "      <td>0.852</td>\n",
       "      <td>0.001</td>\n",
       "    </tr>\n",
       "    <tr>\n",
       "      <th>catboost roc auc</th>\n",
       "      <td>0.858</td>\n",
       "      <td>0.002</td>\n",
       "    </tr>\n",
       "  </tbody>\n",
       "</table>\n",
       "</div>"
      ],
      "text/plain": [
       "                  mean   std\n",
       "logreg roc auc   0.781 0.006\n",
       "tree roc auc     0.652 0.002\n",
       "forest roc auc   0.852 0.001\n",
       "catboost roc auc 0.858 0.002"
      ]
     },
     "execution_count": 92,
     "metadata": {},
     "output_type": "execute_result"
    }
   ],
   "source": [
    "# Подсчет и вывод метрик\n",
    "\n",
    "lr_roc_auc = log_reg_cv['test_score']\n",
    "tree_roc_auc = tree_cv['test_score']\n",
    "forest_roc_auc = forest_cv['test_score']\n",
    "catboost_roc_auc = np.max(cv_data['test-AUC-mean']) \n",
    "catboost_roc_auc_std = cv_data['test-AUC-std'][np.argmax(cv_data['test-AUC-mean'])]\n",
    "                                                                            \n",
    "scores = {\n",
    "         'logreg roc auc': [lr_roc_auc.mean(),lr_roc_auc.std()],\n",
    "         'tree roc auc': [tree_roc_auc.mean(),tree_roc_auc.std()],\n",
    "         'forest roc auc': [forest_roc_auc.mean(),forest_roc_auc.std()],\n",
    "         'catboost roc auc': [catboost_roc_auc,catboost_roc_auc_std],}\n",
    "\n",
    "# for key,value in scores.items():\n",
    "#     print(f'{key} mean: {value[0]:.03f}, roc auc std {value[1]:.03f}')\n",
    "\n",
    "pd.DataFrame(scores,index=['mean','std']).T"
   ]
  },
  {
   "cell_type": "markdown",
   "id": "7a9f7e02-1d4f-4ccf-98ca-87f6b524fc49",
   "metadata": {},
   "source": [
    "Достаточно высокие скоры и на логистической регресии, и на случайном лесе c катбустом.  \n",
    "Посмотрим веса и важность признаков."
   ]
  },
  {
   "cell_type": "code",
   "execution_count": 93,
   "id": "366b49dd-2aa4-4376-8ab9-505ae97f7882",
   "metadata": {},
   "outputs": [
    {
     "data": {
      "text/html": [
       "<div>\n",
       "<style scoped>\n",
       "    .dataframe tbody tr th:only-of-type {\n",
       "        vertical-align: middle;\n",
       "    }\n",
       "\n",
       "    .dataframe tbody tr th {\n",
       "        vertical-align: top;\n",
       "    }\n",
       "\n",
       "    .dataframe thead th {\n",
       "        text-align: right;\n",
       "    }\n",
       "</style>\n",
       "<table border=\"1\" class=\"dataframe\">\n",
       "  <thead>\n",
       "    <tr style=\"text-align: right;\">\n",
       "      <th></th>\n",
       "      <th>index</th>\n",
       "      <th>1</th>\n",
       "      <th>2</th>\n",
       "      <th>3</th>\n",
       "      <th>4</th>\n",
       "      <th>5</th>\n",
       "    </tr>\n",
       "  </thead>\n",
       "  <tbody>\n",
       "    <tr>\n",
       "      <th>0</th>\n",
       "      <td>gest_Discount_max</td>\n",
       "      <td>-0.007</td>\n",
       "      <td>-0.007</td>\n",
       "      <td>-0.006</td>\n",
       "      <td>-0.006</td>\n",
       "      <td>-0.006</td>\n",
       "    </tr>\n",
       "    <tr>\n",
       "      <th>1</th>\n",
       "      <td>gest_Discount_mean</td>\n",
       "      <td>0.043</td>\n",
       "      <td>0.040</td>\n",
       "      <td>0.036</td>\n",
       "      <td>0.037</td>\n",
       "      <td>0.033</td>\n",
       "    </tr>\n",
       "    <tr>\n",
       "      <th>2</th>\n",
       "      <td>gest_Discount_median</td>\n",
       "      <td>-0.027</td>\n",
       "      <td>-0.025</td>\n",
       "      <td>-0.023</td>\n",
       "      <td>-0.024</td>\n",
       "      <td>-0.021</td>\n",
       "    </tr>\n",
       "    <tr>\n",
       "      <th>3</th>\n",
       "      <td>gest_Discount_min</td>\n",
       "      <td>-0.018</td>\n",
       "      <td>-0.019</td>\n",
       "      <td>-0.015</td>\n",
       "      <td>-0.013</td>\n",
       "      <td>-0.014</td>\n",
       "    </tr>\n",
       "    <tr>\n",
       "      <th>4</th>\n",
       "      <td>gest_Sum_max</td>\n",
       "      <td>-0.001</td>\n",
       "      <td>-0.001</td>\n",
       "      <td>-0.001</td>\n",
       "      <td>-0.001</td>\n",
       "      <td>-0.001</td>\n",
       "    </tr>\n",
       "    <tr>\n",
       "      <th>5</th>\n",
       "      <td>gest_Sum_mean</td>\n",
       "      <td>0.008</td>\n",
       "      <td>0.006</td>\n",
       "      <td>0.008</td>\n",
       "      <td>0.008</td>\n",
       "      <td>0.009</td>\n",
       "    </tr>\n",
       "    <tr>\n",
       "      <th>6</th>\n",
       "      <td>gest_Sum_median</td>\n",
       "      <td>-0.003</td>\n",
       "      <td>-0.002</td>\n",
       "      <td>-0.003</td>\n",
       "      <td>-0.003</td>\n",
       "      <td>-0.004</td>\n",
       "    </tr>\n",
       "    <tr>\n",
       "      <th>7</th>\n",
       "      <td>gest_Sum_min</td>\n",
       "      <td>-0.006</td>\n",
       "      <td>-0.006</td>\n",
       "      <td>-0.006</td>\n",
       "      <td>-0.006</td>\n",
       "      <td>-0.006</td>\n",
       "    </tr>\n",
       "  </tbody>\n",
       "</table>\n",
       "</div>"
      ],
      "text/plain": [
       "                  index      1      2      3      4      5\n",
       "0     gest_Discount_max -0.007 -0.007 -0.006 -0.006 -0.006\n",
       "1    gest_Discount_mean  0.043  0.040  0.036  0.037  0.033\n",
       "2  gest_Discount_median -0.027 -0.025 -0.023 -0.024 -0.021\n",
       "3     gest_Discount_min -0.018 -0.019 -0.015 -0.013 -0.014\n",
       "4          gest_Sum_max -0.001 -0.001 -0.001 -0.001 -0.001\n",
       "5         gest_Sum_mean  0.008  0.006  0.008  0.008  0.009\n",
       "6       gest_Sum_median -0.003 -0.002 -0.003 -0.003 -0.004\n",
       "7          gest_Sum_min -0.006 -0.006 -0.006 -0.006 -0.006"
      ]
     },
     "metadata": {},
     "output_type": "display_data"
    },
    {
     "data": {
      "image/png": "[encoded data removed]",
      "text/plain": [
       "<Figure size 648x288 with 1 Axes>"
      ]
     },
     "metadata": {
      "needs_background": "light"
     },
     "output_type": "display_data"
    }
   ],
   "source": [
    "lr_coef = {}\n",
    "for n, model in enumerate(log_reg_cv['estimator']):   \n",
    "    lr_coef[n+1] = model.coef_[0]\n",
    "lr_coef\n",
    "lr_coef = pd.DataFrame(lr_coef,index=X.columns).reset_index()\n",
    "display(lr_coef)\n",
    "lr_coef.plot(x='index', y=[1,2,3,4,5], kind=\"bar\",figsize=(9,4))\n",
    "plt.show()"
   ]
  },
  {
   "cell_type": "code",
   "execution_count": 94,
   "id": "c266bc51-f380-4bf8-b56e-2e0171daebac",
   "metadata": {},
   "outputs": [
    {
     "data": {
      "text/html": [
       "<div>\n",
       "<style scoped>\n",
       "    .dataframe tbody tr th:only-of-type {\n",
       "        vertical-align: middle;\n",
       "    }\n",
       "\n",
       "    .dataframe tbody tr th {\n",
       "        vertical-align: top;\n",
       "    }\n",
       "\n",
       "    .dataframe thead th {\n",
       "        text-align: right;\n",
       "    }\n",
       "</style>\n",
       "<table border=\"1\" class=\"dataframe\">\n",
       "  <thead>\n",
       "    <tr style=\"text-align: right;\">\n",
       "      <th></th>\n",
       "      <th>index</th>\n",
       "      <th>1</th>\n",
       "      <th>2</th>\n",
       "      <th>3</th>\n",
       "      <th>4</th>\n",
       "      <th>5</th>\n",
       "    </tr>\n",
       "  </thead>\n",
       "  <tbody>\n",
       "    <tr>\n",
       "      <th>0</th>\n",
       "      <td>gest_Discount_max</td>\n",
       "      <td>0.119</td>\n",
       "      <td>0.119</td>\n",
       "      <td>0.122</td>\n",
       "      <td>0.120</td>\n",
       "      <td>0.123</td>\n",
       "    </tr>\n",
       "    <tr>\n",
       "      <th>1</th>\n",
       "      <td>gest_Discount_mean</td>\n",
       "      <td>0.101</td>\n",
       "      <td>0.106</td>\n",
       "      <td>0.106</td>\n",
       "      <td>0.104</td>\n",
       "      <td>0.104</td>\n",
       "    </tr>\n",
       "    <tr>\n",
       "      <th>2</th>\n",
       "      <td>gest_Discount_median</td>\n",
       "      <td>0.065</td>\n",
       "      <td>0.065</td>\n",
       "      <td>0.065</td>\n",
       "      <td>0.067</td>\n",
       "      <td>0.066</td>\n",
       "    </tr>\n",
       "    <tr>\n",
       "      <th>3</th>\n",
       "      <td>gest_Discount_min</td>\n",
       "      <td>0.076</td>\n",
       "      <td>0.077</td>\n",
       "      <td>0.077</td>\n",
       "      <td>0.077</td>\n",
       "      <td>0.079</td>\n",
       "    </tr>\n",
       "    <tr>\n",
       "      <th>4</th>\n",
       "      <td>gest_Sum_max</td>\n",
       "      <td>0.179</td>\n",
       "      <td>0.175</td>\n",
       "      <td>0.178</td>\n",
       "      <td>0.177</td>\n",
       "      <td>0.175</td>\n",
       "    </tr>\n",
       "    <tr>\n",
       "      <th>5</th>\n",
       "      <td>gest_Sum_mean</td>\n",
       "      <td>0.143</td>\n",
       "      <td>0.142</td>\n",
       "      <td>0.138</td>\n",
       "      <td>0.141</td>\n",
       "      <td>0.139</td>\n",
       "    </tr>\n",
       "    <tr>\n",
       "      <th>6</th>\n",
       "      <td>gest_Sum_median</td>\n",
       "      <td>0.127</td>\n",
       "      <td>0.127</td>\n",
       "      <td>0.127</td>\n",
       "      <td>0.125</td>\n",
       "      <td>0.126</td>\n",
       "    </tr>\n",
       "    <tr>\n",
       "      <th>7</th>\n",
       "      <td>gest_Sum_min</td>\n",
       "      <td>0.190</td>\n",
       "      <td>0.189</td>\n",
       "      <td>0.188</td>\n",
       "      <td>0.189</td>\n",
       "      <td>0.187</td>\n",
       "    </tr>\n",
       "  </tbody>\n",
       "</table>\n",
       "</div>"
      ],
      "text/plain": [
       "                  index     1     2     3     4     5\n",
       "0     gest_Discount_max 0.119 0.119 0.122 0.120 0.123\n",
       "1    gest_Discount_mean 0.101 0.106 0.106 0.104 0.104\n",
       "2  gest_Discount_median 0.065 0.065 0.065 0.067 0.066\n",
       "3     gest_Discount_min 0.076 0.077 0.077 0.077 0.079\n",
       "4          gest_Sum_max 0.179 0.175 0.178 0.177 0.175\n",
       "5         gest_Sum_mean 0.143 0.142 0.138 0.141 0.139\n",
       "6       gest_Sum_median 0.127 0.127 0.127 0.125 0.126\n",
       "7          gest_Sum_min 0.190 0.189 0.188 0.189 0.187"
      ]
     },
     "metadata": {},
     "output_type": "display_data"
    },
    {
     "data": {
      "image/png": "[encoded data removed]",
      "text/plain": [
       "<Figure size 648x288 with 1 Axes>"
      ]
     },
     "metadata": {
      "needs_background": "light"
     },
     "output_type": "display_data"
    }
   ],
   "source": [
    "rf_fi = {}\n",
    "for n, model in enumerate(forest_cv['estimator']):   \n",
    "    rf_fi[n+1] = model.feature_importances_\n",
    "rf_fi\n",
    "rf_fi = pd.DataFrame(rf_fi,index=X.columns).reset_index()\n",
    "display(rf_fi)\n",
    "rf_fi.plot(x='index', y=[1,2,3,4,5], kind=\"bar\",figsize=(9,4))\n",
    "plt.show()"
   ]
  },
  {
   "cell_type": "code",
   "execution_count": 95,
   "id": "be14f4f9-43b9-41e1-8e13-03592da28ab2",
   "metadata": {},
   "outputs": [
    {
     "data": {
      "text/plain": [
       "<AxesSubplot:>"
      ]
     },
     "execution_count": 95,
     "metadata": {},
     "output_type": "execute_result"
    },
    {
     "data": {
      "image/png": "[encoded data removed]",
      "text/plain": [
       "<Figure size 648x288 with 1 Axes>"
      ]
     },
     "metadata": {
      "needs_background": "light"
     },
     "output_type": "display_data"
    }
   ],
   "source": [
    "# К сожалению, чтобы посмотреть важность фичей для catboost, \n",
    "# пока нужно пользоваться костылями: \n",
    "# зафитим модель на всех данных и от них уже посмотрим важность фичей.\n",
    "model = CatBoostClassifier(\n",
    "    custom_loss=[metrics.AUC()],\n",
    "    random_seed=42,\n",
    "    logging_level='Silent',\n",
    "    # task_type=\"GPU\" # С этим параметром не хочет кросс валидироваться: Saved model's learn and test checksum is different from current model's learn and test checksum\n",
    ")\n",
    "\n",
    "model.fit(X,y)\n",
    "pd.DataFrame(model.feature_importances_,index=X.columns).plot(y=[0], kind=\"bar\",figsize=(9,4))"
   ]
  },
  {
   "cell_type": "markdown",
   "id": "0d82b035-a64f-4d04-ace3-cf776bf0ad60",
   "metadata": {},
   "source": [
    "Логистическая регрессия и случайный лес с катбустом придают важность разным признакам. Но высокий скор логистической регрессии указывает на линейную зависимость между признаками и таргетом."
   ]
  },
  {
   "cell_type": "markdown",
   "id": "3f776642-8e62-4c6a-8aaa-19c5b590b5fa",
   "metadata": {},
   "source": [
    "## Baseline на датасете, где клиенты с одной покупкой удалены"
   ]
  },
  {
   "cell_type": "code",
   "execution_count": 96,
   "id": "f52e39b5-57dc-44c2-ba2a-7346d1876008",
   "metadata": {},
   "outputs": [],
   "source": [
    "# Создадим словарь для функция агрегирования по необходимым столбцам + столбец с кол-вом чеков у клиента\n",
    "aggfunc_dict = {'gest_Sum': ['min','max','median','mean',\n",
    "                             # 'std'\n",
    "                            ], \n",
    "                'gest_Discount': ['min','max','median','mean',\n",
    "                                  'count',\n",
    "                                  # 'std'\n",
    "                                 ], \n",
    "               } "
   ]
  },
  {
   "cell_type": "code",
   "execution_count": 97,
   "id": "08f45351-d8a5-49d8-9bb0-5c2afd480a88",
   "metadata": {},
   "outputs": [],
   "source": [
    "X,y = data_prep(df_baseline,df_target,aggfunc_dict=aggfunc_dict,drop_1_buys=True)"
   ]
  },
  {
   "cell_type": "code",
   "execution_count": 98,
   "id": "0e9fb3d3-eabf-4867-b536-49363c622146",
   "metadata": {
    "jupyter": {
     "source_hidden": true
    },
    "tags": []
   },
   "outputs": [],
   "source": [
    "# Старый код для проверки\n",
    "# # Сгруппируем по клиентам применим агрегирующие функции из словаря\n",
    "# pivot_baseline = df_baseline.pivot_table(index='clnt_ID', values=['gest_Sum','gest_Discount'],aggfunc=aggfunc_dict, \n",
    "#                                          # fill_value=0 # Пропуски будут в стандартном отклонении любых признаков, где только 1 покупка\n",
    "#                                         )\n",
    "\n",
    "# # Уберем мульти-уровни в столбцах\n",
    "# pivot_baseline.columns = ['_'.join(column) for column in pivot_baseline.columns]\n",
    "\n",
    "# pivot_baseline.head()\n",
    "\n",
    "# # Удалим клиентов с 1 покупкой\n",
    "# pivot_baseline = pivot_baseline.drop(index=pivot_baseline[pivot_baseline['gest_Discount_count'] == 1].index)\n",
    "# # Удалим столбец с кол-вом покупок\n",
    "# pivot_baseline = pivot_baseline.drop(columns=['gest_Discount_count'])\n",
    "\n",
    "# # Создадим датафрейм с присоединенными таргетами\n",
    "# pivot_baseline_full_new = pivot_baseline.merge(df_target,on='clnt_ID')\n",
    "\n",
    "# # Уберем айдишники клиентов. Модели они только помешают\n",
    "# pivot_baseline_full_new = pivot_baseline_full_new.drop(columns=['clnt_ID'])\n",
    "\n",
    "\n",
    "# # Создадим фичи и таргет\n",
    "\n",
    "# X = pivot_baseline_full_new.drop(columns=['target'])\n",
    "# y = pivot_baseline_full_new['target']"
   ]
  },
  {
   "cell_type": "code",
   "execution_count": 99,
   "id": "9af4b38a-6af4-4e1c-83dc-41302a0ede1f",
   "metadata": {},
   "outputs": [],
   "source": [
    "# Логистическая регрессия\n",
    "with warnings.catch_warnings():\n",
    "    warnings.simplefilter('ignore')\n",
    "    log_reg = LogisticRegression()\n",
    "    log_reg_cv = cross_validate(log_reg, X, y, cv=cv_shuffle, scoring='roc_auc',return_estimator=True)\n",
    "    \n",
    "# Здесь ошибки несходимости - убрал"
   ]
  },
  {
   "cell_type": "code",
   "execution_count": 100,
   "id": "5303e008-23ad-495c-8802-119b2cfd48b0",
   "metadata": {},
   "outputs": [],
   "source": [
    "# Дерево решений\n",
    "tree = DecisionTreeClassifier()\n",
    "tree_cv = cross_validate(tree,X,y,cv=cv_shuffle,scoring='roc_auc',return_estimator=True)"
   ]
  },
  {
   "cell_type": "code",
   "execution_count": 101,
   "id": "76311c1b-eb30-4b13-a61b-656fcab58ca8",
   "metadata": {},
   "outputs": [],
   "source": [
    "# Случайный лес\n",
    "forest = RandomForestClassifier()\n",
    "forest_cv = cross_validate(forest,X,y,cv=cv_shuffle,scoring='roc_auc',return_estimator=True)"
   ]
  },
  {
   "cell_type": "code",
   "execution_count": 102,
   "id": "9ccfb8da-0a47-4bad-b8c9-c516d4fc0b07",
   "metadata": {},
   "outputs": [
    {
     "name": "stdout",
     "output_type": "stream",
     "text": [
      "Best validation Logloss score: 0.69±0.00 on step 0\n",
      "Precise validation Logloss score: 0.6905658260185994\n"
     ]
    }
   ],
   "source": [
    "cv_data,_ = catboost_cv(X,y)"
   ]
  },
  {
   "cell_type": "code",
   "execution_count": 103,
   "id": "7f9c52bf-9e81-4bdc-a61d-54bdd3c36324",
   "metadata": {},
   "outputs": [
    {
     "data": {
      "text/html": [
       "<div>\n",
       "<style scoped>\n",
       "    .dataframe tbody tr th:only-of-type {\n",
       "        vertical-align: middle;\n",
       "    }\n",
       "\n",
       "    .dataframe tbody tr th {\n",
       "        vertical-align: top;\n",
       "    }\n",
       "\n",
       "    .dataframe thead th {\n",
       "        text-align: right;\n",
       "    }\n",
       "</style>\n",
       "<table border=\"1\" class=\"dataframe\">\n",
       "  <thead>\n",
       "    <tr style=\"text-align: right;\">\n",
       "      <th></th>\n",
       "      <th>mean</th>\n",
       "      <th>std</th>\n",
       "    </tr>\n",
       "  </thead>\n",
       "  <tbody>\n",
       "    <tr>\n",
       "      <th>logreg roc auc</th>\n",
       "      <td>0.640</td>\n",
       "      <td>0.003</td>\n",
       "    </tr>\n",
       "    <tr>\n",
       "      <th>tree roc auc</th>\n",
       "      <td>0.570</td>\n",
       "      <td>0.002</td>\n",
       "    </tr>\n",
       "    <tr>\n",
       "      <th>forest roc auc</th>\n",
       "      <td>0.663</td>\n",
       "      <td>0.003</td>\n",
       "    </tr>\n",
       "    <tr>\n",
       "      <th>catboost roc auc</th>\n",
       "      <td>0.699</td>\n",
       "      <td>0.001</td>\n",
       "    </tr>\n",
       "  </tbody>\n",
       "</table>\n",
       "</div>"
      ],
      "text/plain": [
       "                  mean   std\n",
       "logreg roc auc   0.640 0.003\n",
       "tree roc auc     0.570 0.002\n",
       "forest roc auc   0.663 0.003\n",
       "catboost roc auc 0.699 0.001"
      ]
     },
     "execution_count": 103,
     "metadata": {},
     "output_type": "execute_result"
    }
   ],
   "source": [
    "# Подсчет и вывод метрик\n",
    "\n",
    "lr_roc_auc = log_reg_cv['test_score']\n",
    "tree_roc_auc = tree_cv['test_score']\n",
    "forest_roc_auc = forest_cv['test_score']\n",
    "catboost_roc_auc = np.max(cv_data['test-AUC-mean']) \n",
    "catboost_roc_auc_std = cv_data['test-AUC-std'][np.argmax(cv_data['test-AUC-mean'])]\n",
    "                                                                            \n",
    "scores = {\n",
    "         'logreg roc auc': [lr_roc_auc.mean(),lr_roc_auc.std()],\n",
    "         'tree roc auc': [tree_roc_auc.mean(),tree_roc_auc.std()],\n",
    "         'forest roc auc': [forest_roc_auc.mean(),forest_roc_auc.std()],\n",
    "         'catboost roc auc': [catboost_roc_auc,catboost_roc_auc_std],}\n",
    "\n",
    "# for key,value in scores.items():\n",
    "#     print(f'{key} mean: {value[0]:.03f}, roc auc std {value[1]:.03f}')\n",
    "\n",
    "pd.DataFrame(scores,index=['mean','std']).T"
   ]
  },
  {
   "cell_type": "markdown",
   "id": "99ba1829-e673-4698-9127-aabc04cc72b9",
   "metadata": {},
   "source": [
    "Скор достаточно большой во всех моделях.  \n",
    "Посмотрим важность фичей."
   ]
  },
  {
   "cell_type": "code",
   "execution_count": 104,
   "id": "b5a47656-19c7-4f3a-bdcb-591d0274be3f",
   "metadata": {},
   "outputs": [
    {
     "data": {
      "text/html": [
       "<div>\n",
       "<style scoped>\n",
       "    .dataframe tbody tr th:only-of-type {\n",
       "        vertical-align: middle;\n",
       "    }\n",
       "\n",
       "    .dataframe tbody tr th {\n",
       "        vertical-align: top;\n",
       "    }\n",
       "\n",
       "    .dataframe thead th {\n",
       "        text-align: right;\n",
       "    }\n",
       "</style>\n",
       "<table border=\"1\" class=\"dataframe\">\n",
       "  <thead>\n",
       "    <tr style=\"text-align: right;\">\n",
       "      <th></th>\n",
       "      <th>index</th>\n",
       "      <th>1</th>\n",
       "      <th>2</th>\n",
       "      <th>3</th>\n",
       "      <th>4</th>\n",
       "      <th>5</th>\n",
       "    </tr>\n",
       "  </thead>\n",
       "  <tbody>\n",
       "    <tr>\n",
       "      <th>0</th>\n",
       "      <td>gest_Discount_max</td>\n",
       "      <td>-0.004</td>\n",
       "      <td>-0.005</td>\n",
       "      <td>-0.005</td>\n",
       "      <td>-0.004</td>\n",
       "      <td>-0.004</td>\n",
       "    </tr>\n",
       "    <tr>\n",
       "      <th>1</th>\n",
       "      <td>gest_Discount_mean</td>\n",
       "      <td>0.026</td>\n",
       "      <td>0.030</td>\n",
       "      <td>0.030</td>\n",
       "      <td>0.024</td>\n",
       "      <td>0.023</td>\n",
       "    </tr>\n",
       "    <tr>\n",
       "      <th>2</th>\n",
       "      <td>gest_Discount_median</td>\n",
       "      <td>-0.020</td>\n",
       "      <td>-0.021</td>\n",
       "      <td>-0.024</td>\n",
       "      <td>-0.018</td>\n",
       "      <td>-0.018</td>\n",
       "    </tr>\n",
       "    <tr>\n",
       "      <th>3</th>\n",
       "      <td>gest_Discount_min</td>\n",
       "      <td>0.013</td>\n",
       "      <td>0.012</td>\n",
       "      <td>0.012</td>\n",
       "      <td>0.008</td>\n",
       "      <td>0.011</td>\n",
       "    </tr>\n",
       "    <tr>\n",
       "      <th>4</th>\n",
       "      <td>gest_Sum_max</td>\n",
       "      <td>-0.001</td>\n",
       "      <td>-0.001</td>\n",
       "      <td>-0.001</td>\n",
       "      <td>-0.001</td>\n",
       "      <td>-0.001</td>\n",
       "    </tr>\n",
       "    <tr>\n",
       "      <th>5</th>\n",
       "      <td>gest_Sum_mean</td>\n",
       "      <td>0.005</td>\n",
       "      <td>0.005</td>\n",
       "      <td>0.004</td>\n",
       "      <td>0.004</td>\n",
       "      <td>0.004</td>\n",
       "    </tr>\n",
       "    <tr>\n",
       "      <th>6</th>\n",
       "      <td>gest_Sum_median</td>\n",
       "      <td>-0.002</td>\n",
       "      <td>-0.002</td>\n",
       "      <td>-0.002</td>\n",
       "      <td>-0.002</td>\n",
       "      <td>-0.002</td>\n",
       "    </tr>\n",
       "    <tr>\n",
       "      <th>7</th>\n",
       "      <td>gest_Sum_min</td>\n",
       "      <td>-0.002</td>\n",
       "      <td>-0.002</td>\n",
       "      <td>-0.001</td>\n",
       "      <td>-0.001</td>\n",
       "      <td>-0.002</td>\n",
       "    </tr>\n",
       "  </tbody>\n",
       "</table>\n",
       "</div>"
      ],
      "text/plain": [
       "                  index      1      2      3      4      5\n",
       "0     gest_Discount_max -0.004 -0.005 -0.005 -0.004 -0.004\n",
       "1    gest_Discount_mean  0.026  0.030  0.030  0.024  0.023\n",
       "2  gest_Discount_median -0.020 -0.021 -0.024 -0.018 -0.018\n",
       "3     gest_Discount_min  0.013  0.012  0.012  0.008  0.011\n",
       "4          gest_Sum_max -0.001 -0.001 -0.001 -0.001 -0.001\n",
       "5         gest_Sum_mean  0.005  0.005  0.004  0.004  0.004\n",
       "6       gest_Sum_median -0.002 -0.002 -0.002 -0.002 -0.002\n",
       "7          gest_Sum_min -0.002 -0.002 -0.001 -0.001 -0.002"
      ]
     },
     "metadata": {},
     "output_type": "display_data"
    },
    {
     "data": {
      "image/png": "[encoded data removed]",
      "text/plain": [
       "<Figure size 648x288 with 1 Axes>"
      ]
     },
     "metadata": {
      "needs_background": "light"
     },
     "output_type": "display_data"
    }
   ],
   "source": [
    "lr_coef = {}\n",
    "for n, model in enumerate(log_reg_cv['estimator']):   \n",
    "    lr_coef[n+1] = model.coef_[0]\n",
    "lr_coef\n",
    "lr_coef = pd.DataFrame(lr_coef,index=X.columns).reset_index()\n",
    "display(lr_coef)\n",
    "lr_coef.plot(x='index', y=[1,2,3,4,5], kind=\"bar\",figsize=(9,4))\n",
    "plt.show()"
   ]
  },
  {
   "cell_type": "code",
   "execution_count": 105,
   "id": "d27861fb-9517-488b-b072-4306d3a72b94",
   "metadata": {},
   "outputs": [
    {
     "data": {
      "text/html": [
       "<div>\n",
       "<style scoped>\n",
       "    .dataframe tbody tr th:only-of-type {\n",
       "        vertical-align: middle;\n",
       "    }\n",
       "\n",
       "    .dataframe tbody tr th {\n",
       "        vertical-align: top;\n",
       "    }\n",
       "\n",
       "    .dataframe thead th {\n",
       "        text-align: right;\n",
       "    }\n",
       "</style>\n",
       "<table border=\"1\" class=\"dataframe\">\n",
       "  <thead>\n",
       "    <tr style=\"text-align: right;\">\n",
       "      <th></th>\n",
       "      <th>index</th>\n",
       "      <th>1</th>\n",
       "      <th>2</th>\n",
       "      <th>3</th>\n",
       "      <th>4</th>\n",
       "      <th>5</th>\n",
       "    </tr>\n",
       "  </thead>\n",
       "  <tbody>\n",
       "    <tr>\n",
       "      <th>0</th>\n",
       "      <td>gest_Discount_max</td>\n",
       "      <td>0.123</td>\n",
       "      <td>0.121</td>\n",
       "      <td>0.123</td>\n",
       "      <td>0.123</td>\n",
       "      <td>0.123</td>\n",
       "    </tr>\n",
       "    <tr>\n",
       "      <th>1</th>\n",
       "      <td>gest_Discount_mean</td>\n",
       "      <td>0.109</td>\n",
       "      <td>0.108</td>\n",
       "      <td>0.108</td>\n",
       "      <td>0.108</td>\n",
       "      <td>0.109</td>\n",
       "    </tr>\n",
       "    <tr>\n",
       "      <th>2</th>\n",
       "      <td>gest_Discount_median</td>\n",
       "      <td>0.076</td>\n",
       "      <td>0.077</td>\n",
       "      <td>0.076</td>\n",
       "      <td>0.076</td>\n",
       "      <td>0.076</td>\n",
       "    </tr>\n",
       "    <tr>\n",
       "      <th>3</th>\n",
       "      <td>gest_Discount_min</td>\n",
       "      <td>0.048</td>\n",
       "      <td>0.050</td>\n",
       "      <td>0.050</td>\n",
       "      <td>0.049</td>\n",
       "      <td>0.048</td>\n",
       "    </tr>\n",
       "    <tr>\n",
       "      <th>4</th>\n",
       "      <td>gest_Sum_max</td>\n",
       "      <td>0.165</td>\n",
       "      <td>0.164</td>\n",
       "      <td>0.164</td>\n",
       "      <td>0.165</td>\n",
       "      <td>0.164</td>\n",
       "    </tr>\n",
       "    <tr>\n",
       "      <th>5</th>\n",
       "      <td>gest_Sum_mean</td>\n",
       "      <td>0.165</td>\n",
       "      <td>0.165</td>\n",
       "      <td>0.165</td>\n",
       "      <td>0.165</td>\n",
       "      <td>0.165</td>\n",
       "    </tr>\n",
       "    <tr>\n",
       "      <th>6</th>\n",
       "      <td>gest_Sum_median</td>\n",
       "      <td>0.155</td>\n",
       "      <td>0.154</td>\n",
       "      <td>0.154</td>\n",
       "      <td>0.154</td>\n",
       "      <td>0.154</td>\n",
       "    </tr>\n",
       "    <tr>\n",
       "      <th>7</th>\n",
       "      <td>gest_Sum_min</td>\n",
       "      <td>0.160</td>\n",
       "      <td>0.160</td>\n",
       "      <td>0.160</td>\n",
       "      <td>0.159</td>\n",
       "      <td>0.161</td>\n",
       "    </tr>\n",
       "  </tbody>\n",
       "</table>\n",
       "</div>"
      ],
      "text/plain": [
       "                  index     1     2     3     4     5\n",
       "0     gest_Discount_max 0.123 0.121 0.123 0.123 0.123\n",
       "1    gest_Discount_mean 0.109 0.108 0.108 0.108 0.109\n",
       "2  gest_Discount_median 0.076 0.077 0.076 0.076 0.076\n",
       "3     gest_Discount_min 0.048 0.050 0.050 0.049 0.048\n",
       "4          gest_Sum_max 0.165 0.164 0.164 0.165 0.164\n",
       "5         gest_Sum_mean 0.165 0.165 0.165 0.165 0.165\n",
       "6       gest_Sum_median 0.155 0.154 0.154 0.154 0.154\n",
       "7          gest_Sum_min 0.160 0.160 0.160 0.159 0.161"
      ]
     },
     "metadata": {},
     "output_type": "display_data"
    },
    {
     "data": {
      "image/png": "[encoded data removed]",
      "text/plain": [
       "<Figure size 648x288 with 1 Axes>"
      ]
     },
     "metadata": {
      "needs_background": "light"
     },
     "output_type": "display_data"
    }
   ],
   "source": [
    "rf_fi = {}\n",
    "for n, model in enumerate(forest_cv['estimator']):   \n",
    "    rf_fi[n+1] = model.feature_importances_\n",
    "rf_fi\n",
    "rf_fi = pd.DataFrame(rf_fi,index=X.columns).reset_index()\n",
    "display(rf_fi)\n",
    "rf_fi.plot(x='index', y=[1,2,3,4,5], kind=\"bar\",figsize=(9,4))\n",
    "plt.show()"
   ]
  },
  {
   "cell_type": "code",
   "execution_count": 106,
   "id": "db1d5597-47b1-44ed-97b4-551c2efaa476",
   "metadata": {},
   "outputs": [
    {
     "data": {
      "text/plain": [
       "<catboost.core.CatBoostClassifier at 0x1d585a67a90>"
      ]
     },
     "execution_count": 106,
     "metadata": {},
     "output_type": "execute_result"
    }
   ],
   "source": [
    "# К сожалению, чтобы посмотреть важность фичей для catboost, \n",
    "# пока нужно пользоваться костылями: \n",
    "# зафитим модель на всех данных и от них уже посмотрим важность фичей.\n",
    "model = CatBoostClassifier(\n",
    "    custom_loss=[metrics.AUC()],\n",
    "    random_seed=42,\n",
    "    logging_level='Silent',\n",
    "    # task_type=\"GPU\" # С этим параметром не хочет кросс валидироваться: Saved model's learn and test checksum is different from current model's learn and test checksum\n",
    ")\n",
    "\n",
    "model.fit(X,y)"
   ]
  },
  {
   "cell_type": "code",
   "execution_count": 107,
   "id": "3cf666b5-6935-46d0-a94e-eab25c9efbea",
   "metadata": {},
   "outputs": [
    {
     "data": {
      "text/plain": [
       "<AxesSubplot:>"
      ]
     },
     "execution_count": 107,
     "metadata": {},
     "output_type": "execute_result"
    },
    {
     "data": {
      "image/png": "[encoded data removed]",
      "text/plain": [
       "<Figure size 648x288 with 1 Axes>"
      ]
     },
     "metadata": {
      "needs_background": "light"
     },
     "output_type": "display_data"
    }
   ],
   "source": [
    "pd.DataFrame(model.feature_importances_,index=X.columns).plot(y=[0], kind=\"bar\",figsize=(9,4))"
   ]
  },
  {
   "cell_type": "markdown",
   "id": "7249b3b0-798a-41e9-a5f5-2218ce16b2f9",
   "metadata": {},
   "source": [
    "## Вывод по Baseline\n",
    "* Используем датасет, где клиенты с 1 покупкой удалены\n",
    "> Кажется, что предпочтительнее обучать модель на данных, в которых нет клиентов с 1 покупкой. А при работе с реальными данными, подавая данные на предикт, отсекать всех, у кого 1 покупка, просто ставить им 0.\n",
    "* Используем catboost\n",
    "* Вероятно, существует какая-то линейная зависимость между признаками и таргетом"
   ]
  },
  {
   "cell_type": "markdown",
   "id": "739afd3e-619f-4dba-abfb-a91a3679d060",
   "metadata": {
    "tags": []
   },
   "source": [
    "# Feature engineering"
   ]
  },
  {
   "cell_type": "markdown",
   "id": "8140bd56-4e11-4470-905b-5fd1593fd08a",
   "metadata": {},
   "source": [
    "Уже созданы:\n",
    "* Дельта в днях между ближайшими сделками (-1, если сделка первая)\n",
    "* Флаг дельта >= 45\n",
    "<!-- * Номер покупки клиента\n",
    "* Максимальный номер покупки клиента\n",
    "* Флаг \"Клиент сделал всего 1 покупку за всю историю\"\n",
    "* Флаг \"Последняя сделка клиента в этих данных при условии, что покупок было больше 1\" -->"
   ]
  },
  {
   "cell_type": "markdown",
   "id": "2a55cbb5-9227-4111-abdf-f4826f09b8e2",
   "metadata": {},
   "source": [
    "Новые фичи.  \n",
    "Что может помочь лучше предсказать отток клиентов?\n",
    "\n",
    "* Общая стоимость заказа без скидки\n",
    "* Сколько дней на момент сделки прошло с момента первой сделки (сколько дней клиенту)\n",
    "* Какой на текущий момент средний чек, средняя скидка, средний общая стоимость\n",
    "* Какая разница между среднем чеком и чеком сделки\n",
    "* Сколько сделок произошло на момент текущей сделки\n",
    "* Сколько сделок в месяц в среднем\n"
   ]
  },
  {
   "cell_type": "markdown",
   "id": "29cc2aa8-25ee-40a5-9a00-c54d9ea64bdf",
   "metadata": {},
   "source": [
    "Сначала создадим новые фичи, затем проанализируем их с разбиением по таргету."
   ]
  },
  {
   "cell_type": "markdown",
   "id": "0d962728-3824-41d8-9083-8a1afa5b1cbc",
   "metadata": {},
   "source": [
    "## Создание новых фичей"
   ]
  },
  {
   "cell_type": "markdown",
   "id": "78d6e01b-2a20-4020-a391-cf42910f9545",
   "metadata": {},
   "source": [
    "**Как создавать сложные фичи?**\n",
    "\n",
    "* Нужно группировать датасет по клиентам\n",
    "* К этим группам применять разные методы с помощью `.groupby().transform()`\n",
    "\n",
    "`df.groupby('cnlt_ID').transform(func)`"
   ]
  },
  {
   "cell_type": "markdown",
   "id": "be61da38-43d3-450b-8ce3-5aaf7ebf5b16",
   "metadata": {},
   "source": [
    "**Общая стоимость заказа без скидки** = `gest_Sum + gest_Discount`"
   ]
  },
  {
   "cell_type": "code",
   "execution_count": 108,
   "id": "9bbc80bc-bfbe-4671-9b10-aba979e31aff",
   "metadata": {},
   "outputs": [],
   "source": [
    "df['gest_Total'] = df['gest_Sum'] + df['gest_Discount']"
   ]
  },
  {
   "cell_type": "markdown",
   "id": "630a3913-a154-4d5e-8ac4-6c96dc2390d3",
   "metadata": {},
   "source": [
    "**Сколько дней прошло с первой сделки**\n",
    "\n",
    "1. Берем min(date)\n",
    "2. Вычитаем из текущей data min(date) (`df['date'] - df['first_buy_date']`)"
   ]
  },
  {
   "cell_type": "code",
   "execution_count": 109,
   "id": "a68f01ea-cc57-4a6a-b3b3-210fa0da07d7",
   "metadata": {},
   "outputs": [],
   "source": [
    "def first_buy_date_delta(col):\n",
    "    return col - col.min()\n",
    "\n",
    "df['first_buy_days_delta'] = df.groupby('clnt_ID')['timestamp'].transform(first_buy_date_delta).dt.days"
   ]
  },
  {
   "cell_type": "code",
   "execution_count": 110,
   "id": "d32ed18e-5b2b-419f-add7-58a9d31fa43e",
   "metadata": {
    "tags": []
   },
   "outputs": [
    {
     "data": {
      "text/html": [
       "<div>\n",
       "<style scoped>\n",
       "    .dataframe tbody tr th:only-of-type {\n",
       "        vertical-align: middle;\n",
       "    }\n",
       "\n",
       "    .dataframe tbody tr th {\n",
       "        vertical-align: top;\n",
       "    }\n",
       "\n",
       "    .dataframe thead th {\n",
       "        text-align: right;\n",
       "    }\n",
       "</style>\n",
       "<table border=\"1\" class=\"dataframe\">\n",
       "  <thead>\n",
       "    <tr style=\"text-align: right;\">\n",
       "      <th></th>\n",
       "      <th>clnt_ID</th>\n",
       "      <th>timestamp</th>\n",
       "      <th>gest_Sum</th>\n",
       "      <th>gest_Discount</th>\n",
       "      <th>days_delta</th>\n",
       "      <th>delta&gt;=45</th>\n",
       "      <th>gest_Total</th>\n",
       "      <th>first_buy_days_delta</th>\n",
       "    </tr>\n",
       "  </thead>\n",
       "  <tbody>\n",
       "    <tr>\n",
       "      <th>2371630</th>\n",
       "      <td>6A41E569-CE78-47F3-A671-357000336B67</td>\n",
       "      <td>2021-12-15 22:27:59.033</td>\n",
       "      <td>630.000</td>\n",
       "      <td>210.000</td>\n",
       "      <td>0.000</td>\n",
       "      <td>False</td>\n",
       "      <td>840.000</td>\n",
       "      <td>179</td>\n",
       "    </tr>\n",
       "    <tr>\n",
       "      <th>2371631</th>\n",
       "      <td>9ABC36A1-BA7D-4145-A25B-609945E1B50F</td>\n",
       "      <td>2021-12-15 22:34:49.327</td>\n",
       "      <td>76.000</td>\n",
       "      <td>19.000</td>\n",
       "      <td>0.000</td>\n",
       "      <td>False</td>\n",
       "      <td>95.000</td>\n",
       "      <td>6</td>\n",
       "    </tr>\n",
       "    <tr>\n",
       "      <th>2371632</th>\n",
       "      <td>565D07CD-6B1C-4F17-988E-313C2E5C6798</td>\n",
       "      <td>2021-12-15 22:42:54.540</td>\n",
       "      <td>346.400</td>\n",
       "      <td>153.600</td>\n",
       "      <td>7.000</td>\n",
       "      <td>False</td>\n",
       "      <td>500.000</td>\n",
       "      <td>347</td>\n",
       "    </tr>\n",
       "    <tr>\n",
       "      <th>2371633</th>\n",
       "      <td>F9953B4A-FADB-4213-82EB-6E2B7D1565C7</td>\n",
       "      <td>2021-12-15 22:44:54.387</td>\n",
       "      <td>52.500</td>\n",
       "      <td>17.500</td>\n",
       "      <td>0.000</td>\n",
       "      <td>False</td>\n",
       "      <td>70.000</td>\n",
       "      <td>148</td>\n",
       "    </tr>\n",
       "    <tr>\n",
       "      <th>2371634</th>\n",
       "      <td>6E719B78-61E2-4F03-BF63-D83AE5DE5629</td>\n",
       "      <td>2021-12-15 22:45:31.087</td>\n",
       "      <td>661.600</td>\n",
       "      <td>43.400</td>\n",
       "      <td>1.000</td>\n",
       "      <td>False</td>\n",
       "      <td>705.000</td>\n",
       "      <td>216</td>\n",
       "    </tr>\n",
       "  </tbody>\n",
       "</table>\n",
       "</div>"
      ],
      "text/plain": [
       "                                      clnt_ID               timestamp  \\\n",
       "2371630  6A41E569-CE78-47F3-A671-357000336B67 2021-12-15 22:27:59.033   \n",
       "2371631  9ABC36A1-BA7D-4145-A25B-609945E1B50F 2021-12-15 22:34:49.327   \n",
       "2371632  565D07CD-6B1C-4F17-988E-313C2E5C6798 2021-12-15 22:42:54.540   \n",
       "2371633  F9953B4A-FADB-4213-82EB-6E2B7D1565C7 2021-12-15 22:44:54.387   \n",
       "2371634  6E719B78-61E2-4F03-BF63-D83AE5DE5629 2021-12-15 22:45:31.087   \n",
       "\n",
       "         gest_Sum  gest_Discount  days_delta  delta>=45  gest_Total  \\\n",
       "2371630   630.000        210.000       0.000      False     840.000   \n",
       "2371631    76.000         19.000       0.000      False      95.000   \n",
       "2371632   346.400        153.600       7.000      False     500.000   \n",
       "2371633    52.500         17.500       0.000      False      70.000   \n",
       "2371634   661.600         43.400       1.000      False     705.000   \n",
       "\n",
       "         first_buy_days_delta  \n",
       "2371630                   179  \n",
       "2371631                     6  \n",
       "2371632                   347  \n",
       "2371633                   148  \n",
       "2371634                   216  "
      ]
     },
     "execution_count": 110,
     "metadata": {},
     "output_type": "execute_result"
    }
   ],
   "source": [
    "df.tail()"
   ]
  },
  {
   "cell_type": "markdown",
   "id": "742a0fe1-0070-40c3-b4a4-d03a57345617",
   "metadata": {},
   "source": [
    "**Какой на текущий момент средний чек, средняя скидка, средний общая стоимость**\n",
    "\n",
    "Используем `series.expanding().mean()` через `df.groupby('clnt_ID').transform()`."
   ]
  },
  {
   "cell_type": "code",
   "execution_count": 111,
   "id": "64b76c6b-ef28-4105-b50a-633f399e0dfe",
   "metadata": {},
   "outputs": [],
   "source": [
    "def expand_mean(col):\n",
    "    return col.expanding().mean()\n",
    "\n",
    "df['clnt_gest_Sum_avg_ongoing'] = df.groupby('clnt_ID')['gest_Sum'].transform(expand_mean)\n",
    "df['clnt_gest_Discount_avg_ongoing'] = df.groupby('clnt_ID')['gest_Discount'].transform(expand_mean)\n",
    "df['clnt_gest_Total_avg_ongoing'] = df.groupby('clnt_ID')['gest_Total'].transform(expand_mean)"
   ]
  },
  {
   "cell_type": "code",
   "execution_count": 112,
   "id": "f9805abe-9866-4252-861b-7dc67d44bfcf",
   "metadata": {},
   "outputs": [
    {
     "data": {
      "text/html": [
       "<div>\n",
       "<style scoped>\n",
       "    .dataframe tbody tr th:only-of-type {\n",
       "        vertical-align: middle;\n",
       "    }\n",
       "\n",
       "    .dataframe tbody tr th {\n",
       "        vertical-align: top;\n",
       "    }\n",
       "\n",
       "    .dataframe thead th {\n",
       "        text-align: right;\n",
       "    }\n",
       "</style>\n",
       "<table border=\"1\" class=\"dataframe\">\n",
       "  <thead>\n",
       "    <tr style=\"text-align: right;\">\n",
       "      <th></th>\n",
       "      <th>clnt_ID</th>\n",
       "      <th>timestamp</th>\n",
       "      <th>gest_Sum</th>\n",
       "      <th>gest_Discount</th>\n",
       "      <th>days_delta</th>\n",
       "      <th>delta&gt;=45</th>\n",
       "      <th>gest_Total</th>\n",
       "      <th>first_buy_days_delta</th>\n",
       "      <th>clnt_gest_Sum_avg_ongoing</th>\n",
       "      <th>clnt_gest_Discount_avg_ongoing</th>\n",
       "      <th>clnt_gest_Total_avg_ongoing</th>\n",
       "    </tr>\n",
       "  </thead>\n",
       "  <tbody>\n",
       "    <tr>\n",
       "      <th>0</th>\n",
       "      <td>193B4268-0B4A-475E-B1D0-FF5515E29D29</td>\n",
       "      <td>2021-01-02 09:09:17.060</td>\n",
       "      <td>900.000</td>\n",
       "      <td>300.000</td>\n",
       "      <td>-1.000</td>\n",
       "      <td>False</td>\n",
       "      <td>1200.000</td>\n",
       "      <td>0</td>\n",
       "      <td>900.000</td>\n",
       "      <td>300.000</td>\n",
       "      <td>1200.000</td>\n",
       "    </tr>\n",
       "    <tr>\n",
       "      <th>1</th>\n",
       "      <td>8DA65A37-C1D0-41D4-98E1-AB6C5BF1367F</td>\n",
       "      <td>2021-01-02 09:12:24.850</td>\n",
       "      <td>165.000</td>\n",
       "      <td>55.000</td>\n",
       "      <td>-1.000</td>\n",
       "      <td>False</td>\n",
       "      <td>220.000</td>\n",
       "      <td>0</td>\n",
       "      <td>165.000</td>\n",
       "      <td>55.000</td>\n",
       "      <td>220.000</td>\n",
       "    </tr>\n",
       "    <tr>\n",
       "      <th>2</th>\n",
       "      <td>26ACF3C8-25C8-4345-ABC2-33DA15EA6454</td>\n",
       "      <td>2021-01-02 09:38:21.643</td>\n",
       "      <td>800.500</td>\n",
       "      <td>25.500</td>\n",
       "      <td>-1.000</td>\n",
       "      <td>False</td>\n",
       "      <td>826.000</td>\n",
       "      <td>0</td>\n",
       "      <td>800.500</td>\n",
       "      <td>25.500</td>\n",
       "      <td>826.000</td>\n",
       "    </tr>\n",
       "    <tr>\n",
       "      <th>3</th>\n",
       "      <td>0F77DDB3-A9A7-44BE-AAAB-9DF59B66A695</td>\n",
       "      <td>2021-01-02 09:45:17.793</td>\n",
       "      <td>580.000</td>\n",
       "      <td>0.000</td>\n",
       "      <td>-1.000</td>\n",
       "      <td>False</td>\n",
       "      <td>580.000</td>\n",
       "      <td>0</td>\n",
       "      <td>580.000</td>\n",
       "      <td>0.000</td>\n",
       "      <td>580.000</td>\n",
       "    </tr>\n",
       "    <tr>\n",
       "      <th>4</th>\n",
       "      <td>F16BCF77-FA5A-4093-B7E3-FA86E2B1EA31</td>\n",
       "      <td>2021-01-02 09:59:50.453</td>\n",
       "      <td>148.900</td>\n",
       "      <td>3.100</td>\n",
       "      <td>-1.000</td>\n",
       "      <td>False</td>\n",
       "      <td>152.000</td>\n",
       "      <td>0</td>\n",
       "      <td>148.900</td>\n",
       "      <td>3.100</td>\n",
       "      <td>152.000</td>\n",
       "    </tr>\n",
       "  </tbody>\n",
       "</table>\n",
       "</div>"
      ],
      "text/plain": [
       "                                clnt_ID               timestamp  gest_Sum  \\\n",
       "0  193B4268-0B4A-475E-B1D0-FF5515E29D29 2021-01-02 09:09:17.060   900.000   \n",
       "1  8DA65A37-C1D0-41D4-98E1-AB6C5BF1367F 2021-01-02 09:12:24.850   165.000   \n",
       "2  26ACF3C8-25C8-4345-ABC2-33DA15EA6454 2021-01-02 09:38:21.643   800.500   \n",
       "3  0F77DDB3-A9A7-44BE-AAAB-9DF59B66A695 2021-01-02 09:45:17.793   580.000   \n",
       "4  F16BCF77-FA5A-4093-B7E3-FA86E2B1EA31 2021-01-02 09:59:50.453   148.900   \n",
       "\n",
       "   gest_Discount  days_delta  delta>=45  gest_Total  first_buy_days_delta  \\\n",
       "0        300.000      -1.000      False    1200.000                     0   \n",
       "1         55.000      -1.000      False     220.000                     0   \n",
       "2         25.500      -1.000      False     826.000                     0   \n",
       "3          0.000      -1.000      False     580.000                     0   \n",
       "4          3.100      -1.000      False     152.000                     0   \n",
       "\n",
       "   clnt_gest_Sum_avg_ongoing  clnt_gest_Discount_avg_ongoing  \\\n",
       "0                    900.000                         300.000   \n",
       "1                    165.000                          55.000   \n",
       "2                    800.500                          25.500   \n",
       "3                    580.000                           0.000   \n",
       "4                    148.900                           3.100   \n",
       "\n",
       "   clnt_gest_Total_avg_ongoing  \n",
       "0                     1200.000  \n",
       "1                      220.000  \n",
       "2                      826.000  \n",
       "3                      580.000  \n",
       "4                      152.000  "
      ]
     },
     "execution_count": 112,
     "metadata": {},
     "output_type": "execute_result"
    }
   ],
   "source": [
    "df.head()"
   ]
  },
  {
   "cell_type": "markdown",
   "id": "2a2bd924-eb6b-427b-a97e-c5d4c5325241",
   "metadata": {},
   "source": [
    "**Какая разница между средним значением и значением сделки**\n",
    "Считаем для:\n",
    "* 'gest_Sum'\n",
    "* 'gest_Discount'\n",
    "* 'gest_Total'\n",
    "\n",
    "`df['gest_Sum'] - df['clnt_gest_Sum_avg_ongoing']`  \n",
    "`df['gest_Discount'] - df['clnt_gest_Discount_avg_ongoing']`  \n",
    "`df['gest_Total'] - df['clnt_gest_total_avg_ongoing']`"
   ]
  },
  {
   "cell_type": "code",
   "execution_count": 113,
   "id": "0c8f15c2-8679-4dd3-b572-27b9f205ad6a",
   "metadata": {},
   "outputs": [],
   "source": [
    "df['gest_Sum_delta_from_avg'] = df['gest_Sum'] - df['clnt_gest_Sum_avg_ongoing']\n",
    "df['gest_Discount_delta_from_avg'] = df['gest_Discount'] - df['clnt_gest_Discount_avg_ongoing']\n",
    "df['gest_total_delta_from_avg'] = df['gest_Total'] - df['clnt_gest_Total_avg_ongoing']"
   ]
  },
  {
   "cell_type": "code",
   "execution_count": 114,
   "id": "82f2e281-bf63-4ed9-911b-588c8cb82fd1",
   "metadata": {},
   "outputs": [
    {
     "data": {
      "text/html": [
       "<div>\n",
       "<style scoped>\n",
       "    .dataframe tbody tr th:only-of-type {\n",
       "        vertical-align: middle;\n",
       "    }\n",
       "\n",
       "    .dataframe tbody tr th {\n",
       "        vertical-align: top;\n",
       "    }\n",
       "\n",
       "    .dataframe thead th {\n",
       "        text-align: right;\n",
       "    }\n",
       "</style>\n",
       "<table border=\"1\" class=\"dataframe\">\n",
       "  <thead>\n",
       "    <tr style=\"text-align: right;\">\n",
       "      <th></th>\n",
       "      <th>clnt_ID</th>\n",
       "      <th>timestamp</th>\n",
       "      <th>gest_Sum</th>\n",
       "      <th>gest_Discount</th>\n",
       "      <th>days_delta</th>\n",
       "      <th>delta&gt;=45</th>\n",
       "      <th>gest_Total</th>\n",
       "      <th>first_buy_days_delta</th>\n",
       "      <th>clnt_gest_Sum_avg_ongoing</th>\n",
       "      <th>clnt_gest_Discount_avg_ongoing</th>\n",
       "      <th>clnt_gest_Total_avg_ongoing</th>\n",
       "      <th>gest_Sum_delta_from_avg</th>\n",
       "      <th>gest_Discount_delta_from_avg</th>\n",
       "      <th>gest_total_delta_from_avg</th>\n",
       "    </tr>\n",
       "  </thead>\n",
       "  <tbody>\n",
       "    <tr>\n",
       "      <th>2371630</th>\n",
       "      <td>6A41E569-CE78-47F3-A671-357000336B67</td>\n",
       "      <td>2021-12-15 22:27:59.033</td>\n",
       "      <td>630.000</td>\n",
       "      <td>210.000</td>\n",
       "      <td>0.000</td>\n",
       "      <td>False</td>\n",
       "      <td>840.000</td>\n",
       "      <td>179</td>\n",
       "      <td>317.399</td>\n",
       "      <td>108.050</td>\n",
       "      <td>425.449</td>\n",
       "      <td>312.601</td>\n",
       "      <td>101.950</td>\n",
       "      <td>414.551</td>\n",
       "    </tr>\n",
       "    <tr>\n",
       "      <th>2371631</th>\n",
       "      <td>9ABC36A1-BA7D-4145-A25B-609945E1B50F</td>\n",
       "      <td>2021-12-15 22:34:49.327</td>\n",
       "      <td>76.000</td>\n",
       "      <td>19.000</td>\n",
       "      <td>0.000</td>\n",
       "      <td>False</td>\n",
       "      <td>95.000</td>\n",
       "      <td>6</td>\n",
       "      <td>499.400</td>\n",
       "      <td>42.200</td>\n",
       "      <td>541.600</td>\n",
       "      <td>-423.400</td>\n",
       "      <td>-23.200</td>\n",
       "      <td>-446.600</td>\n",
       "    </tr>\n",
       "    <tr>\n",
       "      <th>2371632</th>\n",
       "      <td>565D07CD-6B1C-4F17-988E-313C2E5C6798</td>\n",
       "      <td>2021-12-15 22:42:54.540</td>\n",
       "      <td>346.400</td>\n",
       "      <td>153.600</td>\n",
       "      <td>7.000</td>\n",
       "      <td>False</td>\n",
       "      <td>500.000</td>\n",
       "      <td>347</td>\n",
       "      <td>263.470</td>\n",
       "      <td>87.703</td>\n",
       "      <td>351.173</td>\n",
       "      <td>82.930</td>\n",
       "      <td>65.897</td>\n",
       "      <td>148.827</td>\n",
       "    </tr>\n",
       "    <tr>\n",
       "      <th>2371633</th>\n",
       "      <td>F9953B4A-FADB-4213-82EB-6E2B7D1565C7</td>\n",
       "      <td>2021-12-15 22:44:54.387</td>\n",
       "      <td>52.500</td>\n",
       "      <td>17.500</td>\n",
       "      <td>0.000</td>\n",
       "      <td>False</td>\n",
       "      <td>70.000</td>\n",
       "      <td>148</td>\n",
       "      <td>372.368</td>\n",
       "      <td>161.253</td>\n",
       "      <td>533.621</td>\n",
       "      <td>-319.868</td>\n",
       "      <td>-143.753</td>\n",
       "      <td>-463.621</td>\n",
       "    </tr>\n",
       "    <tr>\n",
       "      <th>2371634</th>\n",
       "      <td>6E719B78-61E2-4F03-BF63-D83AE5DE5629</td>\n",
       "      <td>2021-12-15 22:45:31.087</td>\n",
       "      <td>661.600</td>\n",
       "      <td>43.400</td>\n",
       "      <td>1.000</td>\n",
       "      <td>False</td>\n",
       "      <td>705.000</td>\n",
       "      <td>216</td>\n",
       "      <td>377.047</td>\n",
       "      <td>36.438</td>\n",
       "      <td>413.486</td>\n",
       "      <td>284.553</td>\n",
       "      <td>6.962</td>\n",
       "      <td>291.514</td>\n",
       "    </tr>\n",
       "  </tbody>\n",
       "</table>\n",
       "</div>"
      ],
      "text/plain": [
       "                                      clnt_ID               timestamp  \\\n",
       "2371630  6A41E569-CE78-47F3-A671-357000336B67 2021-12-15 22:27:59.033   \n",
       "2371631  9ABC36A1-BA7D-4145-A25B-609945E1B50F 2021-12-15 22:34:49.327   \n",
       "2371632  565D07CD-6B1C-4F17-988E-313C2E5C6798 2021-12-15 22:42:54.540   \n",
       "2371633  F9953B4A-FADB-4213-82EB-6E2B7D1565C7 2021-12-15 22:44:54.387   \n",
       "2371634  6E719B78-61E2-4F03-BF63-D83AE5DE5629 2021-12-15 22:45:31.087   \n",
       "\n",
       "         gest_Sum  gest_Discount  days_delta  delta>=45  gest_Total  \\\n",
       "2371630   630.000        210.000       0.000      False     840.000   \n",
       "2371631    76.000         19.000       0.000      False      95.000   \n",
       "2371632   346.400        153.600       7.000      False     500.000   \n",
       "2371633    52.500         17.500       0.000      False      70.000   \n",
       "2371634   661.600         43.400       1.000      False     705.000   \n",
       "\n",
       "         first_buy_days_delta  clnt_gest_Sum_avg_ongoing  \\\n",
       "2371630                   179                    317.399   \n",
       "2371631                     6                    499.400   \n",
       "2371632                   347                    263.470   \n",
       "2371633                   148                    372.368   \n",
       "2371634                   216                    377.047   \n",
       "\n",
       "         clnt_gest_Discount_avg_ongoing  clnt_gest_Total_avg_ongoing  \\\n",
       "2371630                         108.050                      425.449   \n",
       "2371631                          42.200                      541.600   \n",
       "2371632                          87.703                      351.173   \n",
       "2371633                         161.253                      533.621   \n",
       "2371634                          36.438                      413.486   \n",
       "\n",
       "         gest_Sum_delta_from_avg  gest_Discount_delta_from_avg  \\\n",
       "2371630                  312.601                       101.950   \n",
       "2371631                 -423.400                       -23.200   \n",
       "2371632                   82.930                        65.897   \n",
       "2371633                 -319.868                      -143.753   \n",
       "2371634                  284.553                         6.962   \n",
       "\n",
       "         gest_total_delta_from_avg  \n",
       "2371630                    414.551  \n",
       "2371631                   -446.600  \n",
       "2371632                    148.827  \n",
       "2371633                   -463.621  \n",
       "2371634                    291.514  "
      ]
     },
     "execution_count": 114,
     "metadata": {},
     "output_type": "execute_result"
    }
   ],
   "source": [
    "df.tail()"
   ]
  },
  {
   "cell_type": "markdown",
   "id": "529352ff-cbe9-45e9-b1db-e70011fc3594",
   "metadata": {},
   "source": [
    "**Сколько сделок произошло на момент текущей сделки**  \n",
    "`series.expanding().count()`"
   ]
  },
  {
   "cell_type": "code",
   "execution_count": 115,
   "id": "ebc27545-6703-4c6c-91ab-07ba038ae831",
   "metadata": {},
   "outputs": [],
   "source": [
    "def expand_count(col):\n",
    "    return col.expanding().count()\n",
    "\n",
    "df['clnt_buys_count'] = df.groupby('clnt_ID')['timestamp'].transform(expand_count)"
   ]
  },
  {
   "cell_type": "code",
   "execution_count": 116,
   "id": "c77bc0db-7986-4174-b54e-5c72d8eda70b",
   "metadata": {},
   "outputs": [
    {
     "data": {
      "text/html": [
       "<div>\n",
       "<style scoped>\n",
       "    .dataframe tbody tr th:only-of-type {\n",
       "        vertical-align: middle;\n",
       "    }\n",
       "\n",
       "    .dataframe tbody tr th {\n",
       "        vertical-align: top;\n",
       "    }\n",
       "\n",
       "    .dataframe thead th {\n",
       "        text-align: right;\n",
       "    }\n",
       "</style>\n",
       "<table border=\"1\" class=\"dataframe\">\n",
       "  <thead>\n",
       "    <tr style=\"text-align: right;\">\n",
       "      <th></th>\n",
       "      <th>clnt_ID</th>\n",
       "      <th>timestamp</th>\n",
       "      <th>gest_Sum</th>\n",
       "      <th>gest_Discount</th>\n",
       "      <th>days_delta</th>\n",
       "      <th>delta&gt;=45</th>\n",
       "      <th>gest_Total</th>\n",
       "      <th>first_buy_days_delta</th>\n",
       "      <th>clnt_gest_Sum_avg_ongoing</th>\n",
       "      <th>clnt_gest_Discount_avg_ongoing</th>\n",
       "      <th>clnt_gest_Total_avg_ongoing</th>\n",
       "      <th>gest_Sum_delta_from_avg</th>\n",
       "      <th>gest_Discount_delta_from_avg</th>\n",
       "      <th>gest_total_delta_from_avg</th>\n",
       "      <th>clnt_buys_count</th>\n",
       "    </tr>\n",
       "  </thead>\n",
       "  <tbody>\n",
       "    <tr>\n",
       "      <th>2371630</th>\n",
       "      <td>6A41E569-CE78-47F3-A671-357000336B67</td>\n",
       "      <td>2021-12-15 22:27:59.033</td>\n",
       "      <td>630.000</td>\n",
       "      <td>210.000</td>\n",
       "      <td>0.000</td>\n",
       "      <td>False</td>\n",
       "      <td>840.000</td>\n",
       "      <td>179</td>\n",
       "      <td>317.399</td>\n",
       "      <td>108.050</td>\n",
       "      <td>425.449</td>\n",
       "      <td>312.601</td>\n",
       "      <td>101.950</td>\n",
       "      <td>414.551</td>\n",
       "      <td>332.000</td>\n",
       "    </tr>\n",
       "    <tr>\n",
       "      <th>2371631</th>\n",
       "      <td>9ABC36A1-BA7D-4145-A25B-609945E1B50F</td>\n",
       "      <td>2021-12-15 22:34:49.327</td>\n",
       "      <td>76.000</td>\n",
       "      <td>19.000</td>\n",
       "      <td>0.000</td>\n",
       "      <td>False</td>\n",
       "      <td>95.000</td>\n",
       "      <td>6</td>\n",
       "      <td>499.400</td>\n",
       "      <td>42.200</td>\n",
       "      <td>541.600</td>\n",
       "      <td>-423.400</td>\n",
       "      <td>-23.200</td>\n",
       "      <td>-446.600</td>\n",
       "      <td>5.000</td>\n",
       "    </tr>\n",
       "    <tr>\n",
       "      <th>2371632</th>\n",
       "      <td>565D07CD-6B1C-4F17-988E-313C2E5C6798</td>\n",
       "      <td>2021-12-15 22:42:54.540</td>\n",
       "      <td>346.400</td>\n",
       "      <td>153.600</td>\n",
       "      <td>7.000</td>\n",
       "      <td>False</td>\n",
       "      <td>500.000</td>\n",
       "      <td>347</td>\n",
       "      <td>263.470</td>\n",
       "      <td>87.703</td>\n",
       "      <td>351.173</td>\n",
       "      <td>82.930</td>\n",
       "      <td>65.897</td>\n",
       "      <td>148.827</td>\n",
       "      <td>246.000</td>\n",
       "    </tr>\n",
       "    <tr>\n",
       "      <th>2371633</th>\n",
       "      <td>F9953B4A-FADB-4213-82EB-6E2B7D1565C7</td>\n",
       "      <td>2021-12-15 22:44:54.387</td>\n",
       "      <td>52.500</td>\n",
       "      <td>17.500</td>\n",
       "      <td>0.000</td>\n",
       "      <td>False</td>\n",
       "      <td>70.000</td>\n",
       "      <td>148</td>\n",
       "      <td>372.368</td>\n",
       "      <td>161.253</td>\n",
       "      <td>533.621</td>\n",
       "      <td>-319.868</td>\n",
       "      <td>-143.753</td>\n",
       "      <td>-463.621</td>\n",
       "      <td>116.000</td>\n",
       "    </tr>\n",
       "    <tr>\n",
       "      <th>2371634</th>\n",
       "      <td>6E719B78-61E2-4F03-BF63-D83AE5DE5629</td>\n",
       "      <td>2021-12-15 22:45:31.087</td>\n",
       "      <td>661.600</td>\n",
       "      <td>43.400</td>\n",
       "      <td>1.000</td>\n",
       "      <td>False</td>\n",
       "      <td>705.000</td>\n",
       "      <td>216</td>\n",
       "      <td>377.047</td>\n",
       "      <td>36.438</td>\n",
       "      <td>413.486</td>\n",
       "      <td>284.553</td>\n",
       "      <td>6.962</td>\n",
       "      <td>291.514</td>\n",
       "      <td>175.000</td>\n",
       "    </tr>\n",
       "  </tbody>\n",
       "</table>\n",
       "</div>"
      ],
      "text/plain": [
       "                                      clnt_ID               timestamp  \\\n",
       "2371630  6A41E569-CE78-47F3-A671-357000336B67 2021-12-15 22:27:59.033   \n",
       "2371631  9ABC36A1-BA7D-4145-A25B-609945E1B50F 2021-12-15 22:34:49.327   \n",
       "2371632  565D07CD-6B1C-4F17-988E-313C2E5C6798 2021-12-15 22:42:54.540   \n",
       "2371633  F9953B4A-FADB-4213-82EB-6E2B7D1565C7 2021-12-15 22:44:54.387   \n",
       "2371634  6E719B78-61E2-4F03-BF63-D83AE5DE5629 2021-12-15 22:45:31.087   \n",
       "\n",
       "         gest_Sum  gest_Discount  days_delta  delta>=45  gest_Total  \\\n",
       "2371630   630.000        210.000       0.000      False     840.000   \n",
       "2371631    76.000         19.000       0.000      False      95.000   \n",
       "2371632   346.400        153.600       7.000      False     500.000   \n",
       "2371633    52.500         17.500       0.000      False      70.000   \n",
       "2371634   661.600         43.400       1.000      False     705.000   \n",
       "\n",
       "         first_buy_days_delta  clnt_gest_Sum_avg_ongoing  \\\n",
       "2371630                   179                    317.399   \n",
       "2371631                     6                    499.400   \n",
       "2371632                   347                    263.470   \n",
       "2371633                   148                    372.368   \n",
       "2371634                   216                    377.047   \n",
       "\n",
       "         clnt_gest_Discount_avg_ongoing  clnt_gest_Total_avg_ongoing  \\\n",
       "2371630                         108.050                      425.449   \n",
       "2371631                          42.200                      541.600   \n",
       "2371632                          87.703                      351.173   \n",
       "2371633                         161.253                      533.621   \n",
       "2371634                          36.438                      413.486   \n",
       "\n",
       "         gest_Sum_delta_from_avg  gest_Discount_delta_from_avg  \\\n",
       "2371630                  312.601                       101.950   \n",
       "2371631                 -423.400                       -23.200   \n",
       "2371632                   82.930                        65.897   \n",
       "2371633                 -319.868                      -143.753   \n",
       "2371634                  284.553                         6.962   \n",
       "\n",
       "         gest_total_delta_from_avg  clnt_buys_count  \n",
       "2371630                    414.551          332.000  \n",
       "2371631                   -446.600            5.000  \n",
       "2371632                    148.827          246.000  \n",
       "2371633                   -463.621          116.000  \n",
       "2371634                    291.514          175.000  "
      ]
     },
     "execution_count": 116,
     "metadata": {},
     "output_type": "execute_result"
    }
   ],
   "source": [
    "df.tail()"
   ]
  },
  {
   "cell_type": "markdown",
   "id": "94fcaf5d-4bd7-4a39-a607-dadd0556db70",
   "metadata": {},
   "source": [
    "## Анализ новых фичей"
   ]
  },
  {
   "cell_type": "markdown",
   "id": "8860597f-29c0-4171-bb1c-5eb852521966",
   "metadata": {},
   "source": [
    "Создадим временный датасет для анализа новых фичей по таргету"
   ]
  },
  {
   "cell_type": "code",
   "execution_count": 117,
   "id": "bc966c72-b4f4-464c-8230-b65140d77817",
   "metadata": {},
   "outputs": [],
   "source": [
    "df_eda = df.merge(df_target,on='clnt_ID')\n",
    "# display(df_eda.head())"
   ]
  },
  {
   "cell_type": "markdown",
   "id": "fd3689d6-c111-4fef-957c-cd106bfa55c6",
   "metadata": {},
   "source": [
    "Поскольку мы будем обучать модель на данных, где клиенты с одной покупкой удалены, то и анализировать нужно тот же самый датасет."
   ]
  },
  {
   "cell_type": "markdown",
   "id": "c4059c79-58a9-48cf-b7f5-214162149022",
   "metadata": {},
   "source": [
    "Удалим клиентов с 1 покупкой."
   ]
  },
  {
   "cell_type": "code",
   "execution_count": 118,
   "id": "221e0a7a-f2a0-4751-b584-a0ecd109dc15",
   "metadata": {},
   "outputs": [],
   "source": [
    "# Для этого создадим столбец с максимальным кол-вом покупок клиента\n",
    "df_eda['max_buys_count'] = df_eda.groupby('clnt_ID')['clnt_buys_count'].transform('max')\n",
    "\n",
    "# Если он равен 1, то покупок было всего 1\n",
    "df_eda['just_1_buy'] = df_eda['max_buys_count'] == 1"
   ]
  },
  {
   "cell_type": "code",
   "execution_count": 119,
   "id": "7066c715-8db1-4f9b-905b-6f9bb3852ace",
   "metadata": {},
   "outputs": [
    {
     "data": {
      "text/plain": [
       "(2367804, 18)"
      ]
     },
     "execution_count": 119,
     "metadata": {},
     "output_type": "execute_result"
    }
   ],
   "source": [
    "df_eda.shape"
   ]
  },
  {
   "cell_type": "code",
   "execution_count": 120,
   "id": "e8c97bea-70d5-4482-9c76-6f9a050d4e65",
   "metadata": {},
   "outputs": [],
   "source": [
    "df_eda = df_eda.drop(index=df_eda[df_eda['just_1_buy']].index)"
   ]
  },
  {
   "cell_type": "code",
   "execution_count": 121,
   "id": "e4fbbdb4-66d6-4d66-8335-815014f2fe5b",
   "metadata": {},
   "outputs": [
    {
     "data": {
      "text/plain": [
       "(2262867, 18)"
      ]
     },
     "execution_count": 121,
     "metadata": {},
     "output_type": "execute_result"
    }
   ],
   "source": [
    "df_eda.shape"
   ]
  },
  {
   "cell_type": "markdown",
   "id": "89126c0b-21e6-4cee-b4e5-f847cdd05472",
   "metadata": {},
   "source": [
    "**first_buy_days_delta**  \n",
    "Кол-во дней прошедших с первой сделки."
   ]
  },
  {
   "cell_type": "markdown",
   "id": "f19aa8c9-4aa4-4dff-8b74-e47eb0cd2598",
   "metadata": {},
   "source": [
    "Нужно группировать по клиентам и взять последнее значение этого столбца, чтобы сравнить \"возраст\" клиента c его первой по последнюю сделку."
   ]
  },
  {
   "cell_type": "code",
   "execution_count": 122,
   "id": "4d02d5b3-d68e-44f6-ad6b-3277cfb0eb0e",
   "metadata": {},
   "outputs": [],
   "source": [
    "temp_df = df_eda.groupby(by=['target','clnt_ID'],as_index=False)['first_buy_days_delta'].last()"
   ]
  },
  {
   "cell_type": "code",
   "execution_count": 123,
   "id": "12a23060-5e7c-4eff-b80a-74740e9fab65",
   "metadata": {},
   "outputs": [
    {
     "data": {
      "image/png": "[encoded data removed]",
      "text/plain": [
       "<Figure size 720x288 with 1 Axes>"
      ]
     },
     "metadata": {
      "needs_background": "light"
     },
     "output_type": "display_data"
    }
   ],
   "source": [
    "fig, ax = plt.subplots(1, 1, figsize=(10, 4))\n",
    "sns.boxplot(x='first_buy_days_delta', y='target', data=temp_df, ax=ax, orient='h')\n",
    "# ax.set_xlim(0,1500)\n",
    "\n",
    "xlabel = 'Кол-во дней прошедших с первой сделки.'\n",
    "\n",
    "ax.set_ylabel('Отток')\n",
    "ax.set_xlabel(xlabel)\n",
    "\n",
    "plt.show()"
   ]
  },
  {
   "cell_type": "markdown",
   "id": "97b230ba-e94a-4c71-8fc2-0a06407cc0d6",
   "metadata": {},
   "source": [
    "* Без клиентов с одной покупкой, картина меняется на противоположную по сравнению с той, что мы видели при анализе всех клиентов по кол-ву покупок с разделением по таргету\n",
    "* Диапазон у не-оттока шире, чем у оттока."
   ]
  },
  {
   "cell_type": "markdown",
   "id": "884c3843-7fb4-49b1-bb75-62cc26f36aba",
   "metadata": {},
   "source": [
    "**clnt_buys_count**"
   ]
  },
  {
   "cell_type": "markdown",
   "id": "54a7ecdf-6c62-4838-87e7-f2083395bc90",
   "metadata": {},
   "source": [
    "Сравним кол-во покупок на этот раз без клиентов с 1."
   ]
  },
  {
   "cell_type": "code",
   "execution_count": 124,
   "id": "6aa9ae2c-2a7c-4500-b2b6-8f59d083a964",
   "metadata": {},
   "outputs": [],
   "source": [
    "buys_count = df_eda.groupby(by=['target','clnt_ID'],as_index=False)['timestamp'].count().loc[:,['target','timestamp']]"
   ]
  },
  {
   "cell_type": "code",
   "execution_count": 125,
   "id": "c06c527a-7798-46f6-84bb-bc1785f99a3e",
   "metadata": {},
   "outputs": [
    {
     "data": {
      "image/png": "[encoded data removed]",
      "text/plain": [
       "<Figure size 720x288 with 1 Axes>"
      ]
     },
     "metadata": {
      "needs_background": "light"
     },
     "output_type": "display_data"
    }
   ],
   "source": [
    "fig, ax = plt.subplots(1, 1, figsize=(10, 4))\n",
    "sns.boxplot(x='timestamp', y='target', data=buys_count, ax=ax,orient='h')\n",
    "ax.set_xlim(0,100)\n",
    "\n",
    "xlabel = 'Кол-во покупок пользователей за 2021'\n",
    "\n",
    "ax.set_ylabel('Отток')\n",
    "ax.set_xlabel(xlabel)\n",
    "\n",
    "plt.show()"
   ]
  },
  {
   "cell_type": "markdown",
   "id": "9e83615f-2016-476b-858d-856c935dec52",
   "metadata": {},
   "source": [
    "Картина меняется на противоположную.\n",
    "* Здесь сильная разница в распределениях."
   ]
  },
  {
   "cell_type": "markdown",
   "id": "ace06c21-f937-44cb-a25b-b7234a8e8b5f",
   "metadata": {},
   "source": [
    "**clnt_gest_Sum_avg_ongoing**"
   ]
  },
  {
   "cell_type": "code",
   "execution_count": 126,
   "id": "a2b81831-bbb5-4d84-a3f8-0c525e62abc9",
   "metadata": {},
   "outputs": [
    {
     "data": {
      "image/png": "[encoded data removed]",
      "text/plain": [
       "<Figure size 720x288 with 1 Axes>"
      ]
     },
     "metadata": {
      "needs_background": "light"
     },
     "output_type": "display_data"
    }
   ],
   "source": [
    "fig, ax = plt.subplots(1, 1, figsize=(10, 4))\n",
    "sns.boxplot(x='clnt_gest_Sum_avg_ongoing', y='target', data=df_eda, ax=ax, orient='h')\n",
    "ax.set_xlim(-100,1500)\n",
    "\n",
    "# xlabel = 'Сумма чека за вычетом скидки в руб.'\n",
    "\n",
    "ax.set_ylabel('Отток')\n",
    "# ax.set_xlabel(xlabel)\n",
    "\n",
    "plt.show()"
   ]
  },
  {
   "cell_type": "markdown",
   "id": "4f5e9d9e-afa0-4c05-b83a-5b595f665eac",
   "metadata": {},
   "source": [
    "Странно, что левые границы отличаются у групп."
   ]
  },
  {
   "cell_type": "code",
   "execution_count": 127,
   "id": "11733405-06c1-42b8-bc22-eef830cea235",
   "metadata": {},
   "outputs": [
    {
     "data": {
      "text/html": [
       "<div>\n",
       "<style scoped>\n",
       "    .dataframe tbody tr th:only-of-type {\n",
       "        vertical-align: middle;\n",
       "    }\n",
       "\n",
       "    .dataframe tbody tr th {\n",
       "        vertical-align: top;\n",
       "    }\n",
       "\n",
       "    .dataframe thead th {\n",
       "        text-align: right;\n",
       "    }\n",
       "</style>\n",
       "<table border=\"1\" class=\"dataframe\">\n",
       "  <thead>\n",
       "    <tr style=\"text-align: right;\">\n",
       "      <th></th>\n",
       "      <th>clnt_ID</th>\n",
       "      <th>timestamp</th>\n",
       "      <th>gest_Sum</th>\n",
       "      <th>gest_Discount</th>\n",
       "      <th>days_delta</th>\n",
       "      <th>delta&gt;=45</th>\n",
       "      <th>gest_Total</th>\n",
       "      <th>first_buy_days_delta</th>\n",
       "      <th>clnt_gest_Sum_avg_ongoing</th>\n",
       "      <th>clnt_gest_Discount_avg_ongoing</th>\n",
       "      <th>clnt_gest_Total_avg_ongoing</th>\n",
       "      <th>gest_Sum_delta_from_avg</th>\n",
       "      <th>gest_Discount_delta_from_avg</th>\n",
       "      <th>gest_total_delta_from_avg</th>\n",
       "      <th>clnt_buys_count</th>\n",
       "      <th>target</th>\n",
       "      <th>max_buys_count</th>\n",
       "      <th>just_1_buy</th>\n",
       "    </tr>\n",
       "  </thead>\n",
       "  <tbody>\n",
       "    <tr>\n",
       "      <th>2359444</th>\n",
       "      <td>F14F7170-4C27-4C57-8355-7034B01C1677</td>\n",
       "      <td>2021-11-27 20:08:49.467</td>\n",
       "      <td>8.000</td>\n",
       "      <td>0.000</td>\n",
       "      <td>-1.000</td>\n",
       "      <td>False</td>\n",
       "      <td>8.000</td>\n",
       "      <td>0</td>\n",
       "      <td>8.000</td>\n",
       "      <td>0.000</td>\n",
       "      <td>8.000</td>\n",
       "      <td>0.000</td>\n",
       "      <td>0.000</td>\n",
       "      <td>0.000</td>\n",
       "      <td>1.000</td>\n",
       "      <td>0</td>\n",
       "      <td>2.000</td>\n",
       "      <td>False</td>\n",
       "    </tr>\n",
       "  </tbody>\n",
       "</table>\n",
       "</div>"
      ],
      "text/plain": [
       "                                      clnt_ID               timestamp  \\\n",
       "2359444  F14F7170-4C27-4C57-8355-7034B01C1677 2021-11-27 20:08:49.467   \n",
       "\n",
       "         gest_Sum  gest_Discount  days_delta  delta>=45  gest_Total  \\\n",
       "2359444     8.000          0.000      -1.000      False       8.000   \n",
       "\n",
       "         first_buy_days_delta  clnt_gest_Sum_avg_ongoing  \\\n",
       "2359444                     0                      8.000   \n",
       "\n",
       "         clnt_gest_Discount_avg_ongoing  clnt_gest_Total_avg_ongoing  \\\n",
       "2359444                           0.000                        8.000   \n",
       "\n",
       "         gest_Sum_delta_from_avg  gest_Discount_delta_from_avg  \\\n",
       "2359444                    0.000                         0.000   \n",
       "\n",
       "         gest_total_delta_from_avg  clnt_buys_count  target  max_buys_count  \\\n",
       "2359444                      0.000            1.000       0           2.000   \n",
       "\n",
       "         just_1_buy  \n",
       "2359444       False  "
      ]
     },
     "execution_count": 127,
     "metadata": {},
     "output_type": "execute_result"
    }
   ],
   "source": [
    "df_eda.loc[df_eda['clnt_gest_Sum_avg_ongoing'] < 10]"
   ]
  },
  {
   "cell_type": "markdown",
   "id": "8a0e7b51-9a8d-499d-aa94-ba72bc831bb7",
   "metadata": {},
   "source": [
    "Это просто выброс."
   ]
  },
  {
   "cell_type": "markdown",
   "id": "a5890194-7290-4e76-a4a3-1b1311ea8a55",
   "metadata": {},
   "source": [
    "**clnt_gest_Discount_avg_ongoing**"
   ]
  },
  {
   "cell_type": "code",
   "execution_count": 128,
   "id": "4ddcaeb9-500a-4a53-a8cc-a487cab2e447",
   "metadata": {},
   "outputs": [
    {
     "data": {
      "image/png": "[encoded data removed]",
      "text/plain": [
       "<Figure size 720x288 with 1 Axes>"
      ]
     },
     "metadata": {
      "needs_background": "light"
     },
     "output_type": "display_data"
    }
   ],
   "source": [
    "fig, ax = plt.subplots(1, 1, figsize=(10, 4))\n",
    "sns.boxplot(x='clnt_gest_Sum_avg_ongoing', y='target', data=df_eda, ax=ax, orient='h')\n",
    "ax.set_xlim(0,1500)\n",
    "\n",
    "# xlabel = 'Сумма чека за вычетом скидки в руб.'\n",
    "\n",
    "ax.set_ylabel('Отток')\n",
    "# ax.set_xlabel(xlabel)\n",
    "\n",
    "plt.show()"
   ]
  },
  {
   "cell_type": "markdown",
   "id": "04642901-0c95-434e-8e44-471ad25b9b87",
   "metadata": {},
   "source": [
    "**clnt_gest_Total_avg_ongoing**"
   ]
  },
  {
   "cell_type": "code",
   "execution_count": 129,
   "id": "7aba2cc4-9ff8-4d16-bb21-d38a6ae46ade",
   "metadata": {},
   "outputs": [
    {
     "data": {
      "image/png": "[encoded data removed]",
      "text/plain": [
       "<Figure size 720x288 with 1 Axes>"
      ]
     },
     "metadata": {
      "needs_background": "light"
     },
     "output_type": "display_data"
    }
   ],
   "source": [
    "fig, ax = plt.subplots(1, 1, figsize=(10, 4))\n",
    "sns.boxplot(x='clnt_gest_Total_avg_ongoing', y='target', data=df_eda, ax=ax, orient='h')\n",
    "ax.set_xlim(0,1500)\n",
    "\n",
    "# xlabel = 'Сумма чека за вычетом скидки в руб.'\n",
    "\n",
    "ax.set_ylabel('Отток')\n",
    "# ax.set_xlabel(xlabel)\n",
    "\n",
    "plt.show()"
   ]
  },
  {
   "cell_type": "markdown",
   "id": "efb8361a-88b4-4b75-a8f2-bb1b26c897f7",
   "metadata": {},
   "source": [
    "**gest_Sum_delta_from_avg**"
   ]
  },
  {
   "cell_type": "code",
   "execution_count": 130,
   "id": "9312bcad-d314-42f7-a026-1bfba82be5d2",
   "metadata": {},
   "outputs": [
    {
     "data": {
      "image/png": "[encoded data removed]",
      "text/plain": [
       "<Figure size 720x288 with 1 Axes>"
      ]
     },
     "metadata": {
      "needs_background": "light"
     },
     "output_type": "display_data"
    }
   ],
   "source": [
    "fig, ax = plt.subplots(1, 1, figsize=(10, 4))\n",
    "sns.boxplot(x='gest_Sum_delta_from_avg', y='target', data=df_eda, ax=ax, orient='h')\n",
    "ax.set_xlim(-500,500)\n",
    "\n",
    "# xlabel = 'Сумма чека за вычетом скидки в руб.'\n",
    "\n",
    "ax.set_ylabel('Отток')\n",
    "# ax.set_xlabel(xlabel)\n",
    "\n",
    "plt.show()"
   ]
  },
  {
   "cell_type": "markdown",
   "id": "c7c38a99-8936-4af6-90fc-47dde9208058",
   "metadata": {},
   "source": [
    "* Условное стандартное отклонение у тех, кто не уходит в отток - \"шире\", чем у оттока."
   ]
  },
  {
   "cell_type": "markdown",
   "id": "ea13068e-af16-4125-a9dd-4f393cb4d696",
   "metadata": {},
   "source": [
    "**gest_Discount_delta_from_avg**"
   ]
  },
  {
   "cell_type": "code",
   "execution_count": 131,
   "id": "64373652-a77c-4670-a163-2ab282b33931",
   "metadata": {},
   "outputs": [
    {
     "data": {
      "image/png": "[encoded data removed]",
      "text/plain": [
       "<Figure size 720x288 with 1 Axes>"
      ]
     },
     "metadata": {
      "needs_background": "light"
     },
     "output_type": "display_data"
    }
   ],
   "source": [
    "fig, ax = plt.subplots(1, 1, figsize=(10, 4))\n",
    "sns.boxplot(x='gest_Discount_delta_from_avg', y='target', data=df_eda, ax=ax, orient='h')\n",
    "ax.set_xlim(-100,100)\n",
    "\n",
    "# xlabel = 'Сумма чека за вычетом скидки в руб.'\n",
    "\n",
    "ax.set_ylabel('Отток')\n",
    "# ax.set_xlabel(xlabel)\n",
    "\n",
    "plt.show()"
   ]
  },
  {
   "cell_type": "markdown",
   "id": "a184c106-9db1-4907-a3ef-614bbcc7f869",
   "metadata": {},
   "source": [
    "* Здесь мы видим ту же картинку, что и в предыдущем графике."
   ]
  },
  {
   "cell_type": "markdown",
   "id": "13a441ca-6e08-49ae-90a3-2b7a5dfceb95",
   "metadata": {},
   "source": [
    "**gest_total_delta_from_avg**"
   ]
  },
  {
   "cell_type": "code",
   "execution_count": 132,
   "id": "8c8de408-0963-4525-b120-35d49026f5d3",
   "metadata": {},
   "outputs": [
    {
     "data": {
      "image/png": "[encoded data removed]",
      "text/plain": [
       "<Figure size 720x288 with 1 Axes>"
      ]
     },
     "metadata": {
      "needs_background": "light"
     },
     "output_type": "display_data"
    }
   ],
   "source": [
    "fig, ax = plt.subplots(1, 1, figsize=(10, 4))\n",
    "sns.boxplot(x='gest_total_delta_from_avg', y='target', data=df_eda, ax=ax, orient='h')\n",
    "ax.set_xlim(-600,500)\n",
    "\n",
    "# xlabel = 'Сумма чека за вычетом скидки в руб.'\n",
    "\n",
    "ax.set_ylabel('Отток')\n",
    "# ax.set_xlabel(xlabel)\n",
    "\n",
    "plt.show()"
   ]
  },
  {
   "cell_type": "code",
   "execution_count": 133,
   "id": "e1869305-cc9c-40ed-8398-bbccfd0ec0ef",
   "metadata": {},
   "outputs": [
    {
     "data": {
      "text/plain": [
       "Index(['clnt_ID', 'timestamp', 'gest_Sum', 'gest_Discount', 'days_delta',\n",
       "       'delta>=45', 'gest_Total', 'first_buy_days_delta',\n",
       "       'clnt_gest_Sum_avg_ongoing', 'clnt_gest_Discount_avg_ongoing',\n",
       "       'clnt_gest_Total_avg_ongoing', 'gest_Sum_delta_from_avg',\n",
       "       'gest_Discount_delta_from_avg', 'gest_total_delta_from_avg',\n",
       "       'clnt_buys_count'],\n",
       "      dtype='object')"
      ]
     },
     "execution_count": 133,
     "metadata": {},
     "output_type": "execute_result"
    }
   ],
   "source": [
    "df.columns"
   ]
  },
  {
   "cell_type": "markdown",
   "id": "330e039f-b18b-4d82-8104-1cb9c3cb6eaf",
   "metadata": {},
   "source": [
    "## Итог по Feature Engineering\n",
    "Новые фичи добавлялись в датасет по чекам (изначальный)  \n",
    "Новые фичи:\n",
    "* 'gest_Total' - Общий чек без учета скидки ('gest_Sum' + 'gest_Discount')\n",
    "* 'first_buy_days_delta' - Кол-во дней с первой покупки\n",
    "* 'clnt_gest_Sum_avg_ongoing' - Среднее накопительное по 'gest_Sum'\n",
    "* 'clnt_gest_Discount_avg_ongoing' - Среднее накопительное по 'gest_Discount'\n",
    "* 'clnt_gest_Total_avg_ongoing' - Среднее накопительное по 'gest_Total'\n",
    "* 'gest_Sum_delta_from_avg' - Разница между 'gest_Sum' текущей сделки и среднего накопительного к текущему моменту\n",
    "* 'gest_Discount_delta_from_avg' - Разница между 'gest_Discount' текущей сделки и среднего накопительного к текущему моменту\n",
    "* 'gest_total_delta_from_avg' - Разница между 'gest_Total' текущей сделки и среднего накопительного к текущему моменту\n",
    "* 'clnt_buys_count' - Кол-во чеков к текущему моменту\n",
    "\n",
    "Выводы по анализу новых фичей:\n",
    "* Распределение \"возраста\" клиента сильно отличается у групп оттока и не-оттока. У последней диапазон значительно шире, что говорит о большей вероятности клиента не уходить в отток при достижение какого-то кол-ва покупок.\n",
    "* При сравнении кол-ва покупок по таргету вывод примерной такой же, и отличия в распределениях примерно повторяют ситуацию выше."
   ]
  },
  {
   "cell_type": "markdown",
   "id": "0e88bd38-d3ed-4100-ac43-f676195a5139",
   "metadata": {
    "tags": []
   },
   "source": [
    "# Model tuning and evaluation"
   ]
  },
  {
   "cell_type": "markdown",
   "id": "8c993cb6-7f9d-49c0-84b2-0caab99d5455",
   "metadata": {},
   "source": [
    "Мы используем catboost на датасете без клиентов с только 1 покупкой.  \n",
    "Подбирать параметры не будем, выясним как фичи влияют на скор."
   ]
  },
  {
   "cell_type": "markdown",
   "id": "51f4a157-f13e-4eb0-8103-55ae85806b47",
   "metadata": {},
   "source": [
    "2 фичи дают .7 скор: среднее клиента по `'days_delta'` и последнее значение `'clnt_buys_count'`."
   ]
  },
  {
   "cell_type": "markdown",
   "id": "5f942d6b-4d60-4b34-b556-04fca04e3069",
   "metadata": {},
   "source": [
    "С остальными фичами скор можно довести до .77."
   ]
  },
  {
   "cell_type": "markdown",
   "id": "cc0c3770-a1f1-45d1-ae99-588089b599e3",
   "metadata": {},
   "source": [
    "Мы будем использовать следующие фичи:\n",
    "Мин, макс, медиану и среднее для 'gest_Sum','gest_Discount'\n",
    "Среднее по 'days_delta'\n",
    "Последнее значение по 'clnt_buys_count'.\n",
    "`count` для 'gest_Discount' - это техническая инфа для обработки датасета. При обучении не используется.\n",
    "\n",
    "Остальные фичи сильно коррелируются с уже имеющимися, поэтому особого смысла их добавлять в обучение - нет.\n"
   ]
  },
  {
   "cell_type": "code",
   "execution_count": 134,
   "id": "a9b07783-9a17-4f23-9eea-7b9ea063d604",
   "metadata": {},
   "outputs": [],
   "source": [
    "# Словарь с агрегирующими функциями\n",
    "\n",
    "aggfunc_dict = {\n",
    "                'gest_Sum': ['min','max','median','mean',], \n",
    "                'gest_Discount': [\n",
    "                                    'min','max','median','mean',\n",
    "                                  'count'\n",
    "                                ], \n",
    "                'days_delta': ['mean'],\n",
    "                # 'first_buy_days_delta': ['last'],\n",
    "                # 'clnt_gest_Sum_avg_ongoing': ['mean'],\n",
    "                # 'clnt_gest_Discount_avg_ongoing': ['mean'],\n",
    "                # 'gest_Sum_delta_from_avg': ['min','max','median','mean'],\n",
    "                'clnt_buys_count': ['last']\n",
    "\n",
    "               } "
   ]
  },
  {
   "cell_type": "code",
   "execution_count": 135,
   "id": "2ae67df2-657d-490d-804b-6397254d9e9c",
   "metadata": {},
   "outputs": [],
   "source": [
    "X,y = data_prep(df,df_target,aggfunc_dict=aggfunc_dict,drop_1_buys=True)"
   ]
  },
  {
   "cell_type": "code",
   "execution_count": 136,
   "id": "4587b09f-8d8d-46ff-bc7d-7676265060e3",
   "metadata": {
    "tags": []
   },
   "outputs": [
    {
     "data": {
      "image/png": "[encoded data removed]",
      "text/plain": [
       "<Figure size 1440x1440 with 2 Axes>"
      ]
     },
     "metadata": {
      "needs_background": "light"
     },
     "output_type": "display_data"
    }
   ],
   "source": [
    "# Хитмап корреляции признаков\n",
    "fig,ax = plt.subplots(figsize=(20,20))\n",
    "sns.heatmap(X.corr(), annot=True,ax=ax,vmin=-1,vmax=1,linewidth=.5,cmap=\"PiYG\",center=0,fmt='.2%')\n",
    "plt.show()\n",
    "    "
   ]
  },
  {
   "cell_type": "code",
   "execution_count": 137,
   "id": "85adf82e-044f-4d56-b730-573a2241e3e6",
   "metadata": {},
   "outputs": [
    {
     "data": {
      "application/vnd.jupyter.widget-view+json": {
       "model_id": "751369f7835f4d909ec974573c02159a",
       "version_major": 2,
       "version_minor": 0
      },
      "text/plain": [
       "MetricVisualizer(layout=Layout(align_self='stretch', height='500px'))"
      ]
     },
     "metadata": {},
     "output_type": "display_data"
    },
    {
     "name": "stdout",
     "output_type": "stream",
     "text": [
      "Best validation Logloss score: 0.69±0.00 on step 0\n",
      "Precise validation Logloss score: 0.6856570809725323\n"
     ]
    }
   ],
   "source": [
    "# Проверка скора на данных с новыми фичами.\n",
    "# Catboost \n",
    "model = CatBoostClassifier(\n",
    "    custom_loss=[metrics.AUC()],\n",
    "    random_seed=42,\n",
    "    logging_level='Silent',\n",
    "    # task_type=\"GPU\" # С этим параметром не хочет кросс валидироваться: Saved model's learn and test checksum is different from current model's learn and test checksum\n",
    ")\n",
    "cv_params = model.get_params()\n",
    "cv_params.update({\n",
    "    'loss_function': metrics.Logloss()\n",
    "})\n",
    "cv_data, catboost_models = cv(\n",
    "    Pool(X, y),\n",
    "    cv_params,\n",
    "    plot=True,\n",
    "    fold_count=5, \n",
    "    shuffle=True, # Перемешаем данные\n",
    "    return_models=True,\n",
    ")\n",
    "\n",
    "# display(cv_data.head())\n",
    "\n",
    "print('Best validation Logloss score: {:.2f}±{:.2f} on step {}'.format(\n",
    "    np.max(cv_data['test-Logloss-mean']),\n",
    "    cv_data['test-Logloss-std'][np.argmax(cv_data['test-Logloss-mean'])],\n",
    "    np.argmax(cv_data['test-Logloss-mean'])\n",
    "))\n",
    "\n",
    "print('Precise validation Logloss score: {}'.format(np.max(cv_data['test-Logloss-mean'])))"
   ]
  },
  {
   "cell_type": "markdown",
   "id": "a8dae5da-a874-405c-a7a1-749de19ab5f9",
   "metadata": {},
   "source": [
    "На всех фолдах получаем скор в районе .77."
   ]
  },
  {
   "cell_type": "code",
   "execution_count": 138,
   "id": "d933e6cf-88b9-419d-8899-e83204516ec6",
   "metadata": {},
   "outputs": [
    {
     "data": {
      "text/plain": [
       "<AxesSubplot:>"
      ]
     },
     "execution_count": 138,
     "metadata": {},
     "output_type": "execute_result"
    },
    {
     "data": {
      "image/png": "[encoded data removed]",
      "text/plain": [
       "<Figure size 648x288 with 1 Axes>"
      ]
     },
     "metadata": {
      "needs_background": "light"
     },
     "output_type": "display_data"
    }
   ],
   "source": [
    "# Фит модели на всех данных, чтобы потом ее сохранить\n",
    "model = CatBoostClassifier(\n",
    "    custom_loss=[metrics.AUC()],\n",
    "    random_seed=42,\n",
    "    logging_level='Silent',\n",
    "    task_type=\"GPU\" \n",
    ")\n",
    "\n",
    "model.fit(X,y)\n",
    "# И посмотрим важность фичей\n",
    "pd.DataFrame(model.feature_importances_,index=X.columns).plot(y=[0], kind=\"bar\",figsize=(9,4))"
   ]
  },
  {
   "cell_type": "code",
   "execution_count": 139,
   "id": "b5a7a3e1-6193-4112-bc42-28b2a6061cac",
   "metadata": {},
   "outputs": [],
   "source": [
    "# Сохранить модель в файл\n",
    "# TO DO"
   ]
  }
 ],
 "metadata": {
  "kernelspec": {
   "display_name": "Python 3 (ipykernel)",
   "language": "python",
   "name": "python3"
  },
  "language_info": {
   "codemirror_mode": {
    "name": "ipython",
    "version": 3
   },
   "file_extension": ".py",
   "mimetype": "text/x-python",
   "name": "python",
   "nbconvert_exporter": "python",
   "pygments_lexer": "ipython3",
   "version": "3.10.2"
  }
 },
 "nbformat": 4,
 "nbformat_minor": 5
}
