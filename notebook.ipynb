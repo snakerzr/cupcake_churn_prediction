{
 "cells": [
  {
   "cell_type": "markdown",
   "id": "3a59d61f-e3bd-4565-9954-0b6f026b8bd4",
   "metadata": {
    "tags": [],
    "toc-hr-collapsed": true
   },
   "source": [
    "# Описание, заметки, размышления"
   ]
  },
  {
   "cell_type": "markdown",
   "id": "0e918b3b-b82d-4491-a266-f1204a6a60aa",
   "metadata": {},
   "source": [
    "Для прогнозирования используются данные о покупках юзеров за период 2021 года. Всего доступно больше 2 млн. строк.\n",
    "\n",
    "Флаг оттока проставляется, если после покупки юзера прошло больше 45 дней.\n",
    "\n",
    "Поведение юзера описывается историей его покупок, суммой чека и размером скидки к чеку. В компании действует программа лояльности, участвуя в которой юзеры получают скидку на любую покупку и могут получать дополнительные скидки по разным промо-акциями.\n",
    "\n",
    "Описание данных:\n",
    "data.csv\n",
    "* `'clnt_ID'` - уникальный айди юзера, str\n",
    "* `'timestamp'` - дата и время совершения покупки, datetime\n",
    "* `'gest_Sum'` - сумма покупки, float\n",
    "* `'gest_Discount'` - сумма скидки, float\n",
    "\n",
    "target.csv\n",
    "* `'clnt_ID'` - уникальный айди юзера, str\n",
    "* `'target'` - флаг оттока, int: 1 если юзер ушел в отток | 0 если НЕ отток"
   ]
  },
  {
   "cell_type": "markdown",
   "id": "7cfede5f-02e3-4b42-bbf2-48868e30b588",
   "metadata": {},
   "source": [
    "Это задача бинарной классификации. Используем метрику: `roc auc`."
   ]
  },
  {
   "cell_type": "markdown",
   "id": "c84a5095-84e0-48d0-86b1-8abf69d3a4e0",
   "metadata": {},
   "source": [
    "<!-- ## Что здесь можно сделать? - Заметки \n",
    "**Нужно помнить, что по сути это тайм серия.**  -- **Внимательно!**  \n",
    "Т.е. я предполагаю, что клиент покупает, покупает, покупает, потом фигак и перестал покупать. Один клиент - один вектор.\n",
    "А тут куча вектором принадлежат одному клиенту. \n",
    "\n",
    "Т.е. я бы даже сказал, что в том виде в котором оно есть, модель особо-то ничего не найдет. Как она сможет по дате, сумме покупки и скидке предсказать уйдет человек или нет, не зная его истории?\n",
    "---ОТВЕТ---\n",
    "Да, это последовательность событий, но прям как таймсерию использовать не можем, потому что нерегулярные сигналы и из-за этого много сложностей.\n",
    "Но! Можно использовать эти же строки, но к ним добавлять \"память\" о клиенте, т.е. его историю к конкретной сделке.\n",
    "\n",
    "**Что может говорить, что клиент собрался уйти и не вернуться?**  \n",
    "Т.е. гипотетически что может говорить о том, что клиент собирается уйти и не вернуться?\n",
    "1. Увеличивается интервал между покупками от покупки к покупке. Типа 1 день, потом 2, потом 5 и т.д.\n",
    "2. Как-то изменяется объем чека (уменьшается, увеличивается?) \n",
    "3. Как-то меняется ассортимент (типа вот он покупал одно и тоже, а тут вдруг перестал покупать одно и тоже (испортился товар на его вкус) и он либо сразу ушел, либо попробовал другое и остался, либо попробовал другое - ему не понравилось - ушел\n",
    "\n",
    "**Как должен работать предикт? Какие данные должны поступать на вход?**  -- **Есть пол-ответа**  \n",
    "~~Это видимо тоже относится к тому, что это своего рода таймсерия~~\n",
    "Вся инфа находится в БД, которая обновляется ночью. И модель будет работать ночью и может использовать всю бд. Как именно пока я не понимаю.\n",
    "\n",
    "\n",
    "**Если сейчас дать модели на вход просто дату, сумму чека и скидку...**  \n",
    "То она будет пытаться предсказать отток исключительно по дате, сумме чеку и скидке - врядли у нее что-то получится взразумительное.\n",
    "\n",
    "\n",
    "**Сумма в месяц стабильна для юзера, а отклонение может указывать на отток**  \n",
    "По результатам уже проведенного анализа есть такой вывод:\n",
    "сумма, которую готов тратить юзер в месяц,  достаточна стабильна и слабо меняется со временем. Потратив в этом месяце больше обычного, юзер скорее всего в следующем не будет покупать;\n",
    "\n",
    "По каждому клиенту взять средний чек, каким-то образом определить порог отклонения от этого среднего чека и посмотреть насколько факт этого отклонения коррелирует с оттоком. Может это будет хорошая фича. Но проблема в том, что для предсказания не достаточно \n",
    "\n",
    "**Самый простой и очевидный способ подготовки данных**  \n",
    "Это взять по каждому клиенту кол-во покупок, min,max,mean,median,stdev по gest_Sum, gest_Discount, и перерывом между покупками\n",
    "\n",
    "**Вариант еще лучше!**  \n",
    "Используем каждую строку как есть, не переводим ее в строку по уникальному клиенту, а точно также одна строка одна сделка.\n",
    "К каждой такой строке мы накопительно добавляем кумулятивную инфу о клиенте, т.е.:\n",
    "* Сколько дней на момент сделки прошло с момента первой сделки\n",
    "* Какой на текущий момент средний чек\n",
    "* Какая разница между среднем чеком и чеком сделки\n",
    "* Сколько сделок произошло на момент текущей сделки\n",
    "* Сколько сделок в месяц в среднем\n",
    "\n",
    "\n",
    "\n",
    "## Вопросы:\n",
    "**>>>Что значат 0 в gest_sum?<<<**\n",
    "\n",
    "**Как работают скидки? Это накопительные баллы или просто скидки? Почему основные скидки не больше 100 руб, но бывают аж в 3000 руб.?** -->"
   ]
  },
  {
   "cell_type": "markdown",
   "id": "6f763810",
   "metadata": {},
   "source": [
    "# Структура:  \n",
    "\n",
    "0. Описание, заметки, размышления\n",
    "1. Импорты и настройки\n",
    "2. [x] Предобработка \n",
    "    * [x] Удаляем дубликаты\n",
    "    * [x] Проверим, что датасет отсортирован по `'timestamp'`\n",
    "3. EDA\n",
    "    * [ ] Проверка таргета\n",
    "        * [ ] О том, как определялся таргет\n",
    "            * [х] Написать, что нам известно\n",
    "                * [х] Про дельта >= 45\n",
    "                * [х] Те, у кого 1 покупка - их исключаем из класса 1\n",
    "        * [х] Проверка на соблюдение известного формального условия\n",
    "            * [х] Обнаружить, что недостаточно данных для проверки.\n",
    "        * [х] Описать возможные подходы к определению оттока\n",
    "            * [х] Код\n",
    "        * [ ] Проверка на дисбаланс\n",
    "        * [ ] Написать, что все равно используем предоставленный таргет, т.к. нет возможности выяснить логику построения\n",
    "    * [ ] Исследование признаков\n",
    "        * [ ] `'timestamp'`\n",
    "        * [ ] `'gest_Sum'`\n",
    "            * [ ] Обнаружить нули, обнаружить записи с 0 по сумме и скидке, обозначить это и убрать, т.к. не поможет модели.\n",
    "        * [ ] `'gest_Discount'`\n",
    "    * Сравнение целевых классов\n",
    "        * [ ] `'gest_Sum'`\n",
    "        * [ ] `'gest_Discount'`\n",
    "        * [ ] Общий размер чека = `'gest_Sum' - 'gest_Discount'`\n",
    "        * [ ] Зависимость `'gest_Sum'` от `'gest_Discount'`\n",
    "        * [ ] Сравнить кол-во чеков\n",
    "    * Корреляции \n",
    "4. Baseline and model selection\n",
    "    * [ ] Удалить чеки, где дельта >= 45, чтобы не допускать ликов\n",
    "4. Feature engineering\n",
    "    * [ ] Описать уже созданные фичи, если они есть   \n",
    "    * [ ] Сравнить время жизни юзеров разных классов\n",
    "        * [ ] Создать фичу с днями с последней покупки\n",
    "6. Model tuning"
   ]
  },
  {
   "cell_type": "markdown",
   "id": "c4946a18-ef6f-44c0-a336-da9167ab77d9",
   "metadata": {
    "tags": []
   },
   "source": [
    "# Импорты и настройки"
   ]
  },
  {
   "cell_type": "code",
   "execution_count": 1,
   "id": "cf9e2794-3933-48dd-9665-87d7ea6f5f13",
   "metadata": {},
   "outputs": [],
   "source": [
    "import warnings\n",
    "\n",
    "import numpy as np\n",
    "import pandas as pd\n",
    "\n",
    "import statsmodels.api as sm\n",
    "\n",
    "import matplotlib.pyplot as plt\n",
    "import seaborn as sns\n",
    "\n",
    "# from pandas_profiling import ProfileReport\n",
    "\n",
    "from sklearn.preprocessing import StandardScaler\n",
    "\n",
    "from sklearn.linear_model import LogisticRegression\n",
    "from sklearn.tree import DecisionTreeClassifier\n",
    "from sklearn.ensemble import RandomForestClassifier\n",
    "\n",
    "from catboost import CatBoostClassifier, Pool\n",
    "\n",
    "from sklearn.model_selection import cross_val_score\n",
    "from sklearn.model_selection import cross_validate\n",
    "\n",
    "from sklearn.metrics import f1_score\n"
   ]
  },
  {
   "cell_type": "code",
   "execution_count": 2,
   "id": "f049c0bd-bb38-4983-8627-8f10200cd4f1",
   "metadata": {},
   "outputs": [],
   "source": [
    "# Настройки pandas\n",
    "# pd.set_option('display.max_rows', 100)\n",
    "pd.options.display.float_format = '{:.3f}'.format"
   ]
  },
  {
   "cell_type": "code",
   "execution_count": 3,
   "id": "e98fbb49-e769-4cc7-80f8-9a89d6932236",
   "metadata": {},
   "outputs": [],
   "source": [
    "# np set random seed\n",
    "rand_state = 777\n",
    "# rng = np.random.default_rng(rand_state)"
   ]
  },
  {
   "cell_type": "markdown",
   "id": "bee94788-bcf3-48c4-81d2-2a1cabebfab1",
   "metadata": {},
   "source": [
    "# Предобработка"
   ]
  },
  {
   "cell_type": "code",
   "execution_count": 4,
   "id": "4215629b-2bbb-424b-b874-7ce4c61f5c21",
   "metadata": {},
   "outputs": [],
   "source": [
    "df = pd.read_csv('data/data.csv', parse_dates=[1])\n",
    "df_target = pd.read_csv('data/target.csv')"
   ]
  },
  {
   "cell_type": "code",
   "execution_count": 5,
   "id": "a727e5a4-5600-4f31-acb2-68b05ebf84a5",
   "metadata": {
    "tags": []
   },
   "outputs": [
    {
     "data": {
      "text/html": [
       "<div>\n",
       "<style scoped>\n",
       "    .dataframe tbody tr th:only-of-type {\n",
       "        vertical-align: middle;\n",
       "    }\n",
       "\n",
       "    .dataframe tbody tr th {\n",
       "        vertical-align: top;\n",
       "    }\n",
       "\n",
       "    .dataframe thead th {\n",
       "        text-align: right;\n",
       "    }\n",
       "</style>\n",
       "<table border=\"1\" class=\"dataframe\">\n",
       "  <thead>\n",
       "    <tr style=\"text-align: right;\">\n",
       "      <th></th>\n",
       "      <th>clnt_ID</th>\n",
       "      <th>timestamp</th>\n",
       "      <th>gest_Sum</th>\n",
       "      <th>gest_Discount</th>\n",
       "    </tr>\n",
       "  </thead>\n",
       "  <tbody>\n",
       "    <tr>\n",
       "      <th>0</th>\n",
       "      <td>193B4268-0B4A-475E-B1D0-FF5515E29D29</td>\n",
       "      <td>2021-01-02 09:09:17.060</td>\n",
       "      <td>900.000</td>\n",
       "      <td>300.000</td>\n",
       "    </tr>\n",
       "    <tr>\n",
       "      <th>1</th>\n",
       "      <td>8DA65A37-C1D0-41D4-98E1-AB6C5BF1367F</td>\n",
       "      <td>2021-01-02 09:12:24.850</td>\n",
       "      <td>165.000</td>\n",
       "      <td>55.000</td>\n",
       "    </tr>\n",
       "    <tr>\n",
       "      <th>2</th>\n",
       "      <td>26ACF3C8-25C8-4345-ABC2-33DA15EA6454</td>\n",
       "      <td>2021-01-02 09:38:21.643</td>\n",
       "      <td>800.500</td>\n",
       "      <td>25.500</td>\n",
       "    </tr>\n",
       "    <tr>\n",
       "      <th>3</th>\n",
       "      <td>0F77DDB3-A9A7-44BE-AAAB-9DF59B66A695</td>\n",
       "      <td>2021-01-02 09:45:17.793</td>\n",
       "      <td>580.000</td>\n",
       "      <td>0.000</td>\n",
       "    </tr>\n",
       "    <tr>\n",
       "      <th>4</th>\n",
       "      <td>F16BCF77-FA5A-4093-B7E3-FA86E2B1EA31</td>\n",
       "      <td>2021-01-02 09:59:50.453</td>\n",
       "      <td>148.900</td>\n",
       "      <td>3.100</td>\n",
       "    </tr>\n",
       "  </tbody>\n",
       "</table>\n",
       "</div>"
      ],
      "text/plain": [
       "                                clnt_ID               timestamp  gest_Sum  \\\n",
       "0  193B4268-0B4A-475E-B1D0-FF5515E29D29 2021-01-02 09:09:17.060   900.000   \n",
       "1  8DA65A37-C1D0-41D4-98E1-AB6C5BF1367F 2021-01-02 09:12:24.850   165.000   \n",
       "2  26ACF3C8-25C8-4345-ABC2-33DA15EA6454 2021-01-02 09:38:21.643   800.500   \n",
       "3  0F77DDB3-A9A7-44BE-AAAB-9DF59B66A695 2021-01-02 09:45:17.793   580.000   \n",
       "4  F16BCF77-FA5A-4093-B7E3-FA86E2B1EA31 2021-01-02 09:59:50.453   148.900   \n",
       "\n",
       "   gest_Discount  \n",
       "0        300.000  \n",
       "1         55.000  \n",
       "2         25.500  \n",
       "3          0.000  \n",
       "4          3.100  "
      ]
     },
     "metadata": {},
     "output_type": "display_data"
    },
    {
     "data": {
      "text/html": [
       "<div>\n",
       "<style scoped>\n",
       "    .dataframe tbody tr th:only-of-type {\n",
       "        vertical-align: middle;\n",
       "    }\n",
       "\n",
       "    .dataframe tbody tr th {\n",
       "        vertical-align: top;\n",
       "    }\n",
       "\n",
       "    .dataframe thead th {\n",
       "        text-align: right;\n",
       "    }\n",
       "</style>\n",
       "<table border=\"1\" class=\"dataframe\">\n",
       "  <thead>\n",
       "    <tr style=\"text-align: right;\">\n",
       "      <th></th>\n",
       "      <th>clnt_ID</th>\n",
       "      <th>target</th>\n",
       "    </tr>\n",
       "  </thead>\n",
       "  <tbody>\n",
       "    <tr>\n",
       "      <th>0</th>\n",
       "      <td>000070A8-DB9E-4AB7-8C4D-6169D4AEBB2A</td>\n",
       "      <td>1</td>\n",
       "    </tr>\n",
       "    <tr>\n",
       "      <th>1</th>\n",
       "      <td>00007EB0-6331-438E-A917-E9840C260876</td>\n",
       "      <td>0</td>\n",
       "    </tr>\n",
       "    <tr>\n",
       "      <th>2</th>\n",
       "      <td>0000993D-A30E-4233-AB3F-D368D9A0D2C4</td>\n",
       "      <td>1</td>\n",
       "    </tr>\n",
       "    <tr>\n",
       "      <th>3</th>\n",
       "      <td>0000A724-7BC5-408F-9F16-6CC3AB16322F</td>\n",
       "      <td>0</td>\n",
       "    </tr>\n",
       "    <tr>\n",
       "      <th>4</th>\n",
       "      <td>0000B90C-56DE-43C2-A213-624AFBE36DB2</td>\n",
       "      <td>0</td>\n",
       "    </tr>\n",
       "  </tbody>\n",
       "</table>\n",
       "</div>"
      ],
      "text/plain": [
       "                                clnt_ID  target\n",
       "0  000070A8-DB9E-4AB7-8C4D-6169D4AEBB2A       1\n",
       "1  00007EB0-6331-438E-A917-E9840C260876       0\n",
       "2  0000993D-A30E-4233-AB3F-D368D9A0D2C4       1\n",
       "3  0000A724-7BC5-408F-9F16-6CC3AB16322F       0\n",
       "4  0000B90C-56DE-43C2-A213-624AFBE36DB2       0"
      ]
     },
     "execution_count": 5,
     "metadata": {},
     "output_type": "execute_result"
    }
   ],
   "source": [
    "display(df.head())\n",
    "df_target.head()"
   ]
  },
  {
   "cell_type": "code",
   "execution_count": 6,
   "id": "ff02bd9e-7e24-4993-9166-7b00c6c520d6",
   "metadata": {},
   "outputs": [
    {
     "name": "stdout",
     "output_type": "stream",
     "text": [
      "<class 'pandas.core.frame.DataFrame'>\n",
      "RangeIndex: 2371635 entries, 0 to 2371634\n",
      "Data columns (total 4 columns):\n",
      " #   Column         Dtype         \n",
      "---  ------         -----         \n",
      " 0   clnt_ID        object        \n",
      " 1   timestamp      datetime64[ns]\n",
      " 2   gest_Sum       float64       \n",
      " 3   gest_Discount  float64       \n",
      "dtypes: datetime64[ns](1), float64(2), object(1)\n",
      "memory usage: 72.4+ MB\n"
     ]
    }
   ],
   "source": [
    "df.info()"
   ]
  },
  {
   "cell_type": "code",
   "execution_count": 7,
   "id": "44769d36-e3d7-4d70-90bf-eca19c73db1a",
   "metadata": {},
   "outputs": [
    {
     "name": "stdout",
     "output_type": "stream",
     "text": [
      "<class 'pandas.core.frame.DataFrame'>\n",
      "RangeIndex: 255109 entries, 0 to 255108\n",
      "Data columns (total 2 columns):\n",
      " #   Column   Non-Null Count   Dtype \n",
      "---  ------   --------------   ----- \n",
      " 0   clnt_ID  255109 non-null  object\n",
      " 1   target   255109 non-null  int64 \n",
      "dtypes: int64(1), object(1)\n",
      "memory usage: 3.9+ MB\n"
     ]
    }
   ],
   "source": [
    "df_target.info()"
   ]
  },
  {
   "cell_type": "code",
   "execution_count": 8,
   "id": "781adff0-2e2b-4b8f-854f-e1117184d370",
   "metadata": {},
   "outputs": [],
   "source": [
    "# Изменим тип данных в timestamp на datetime\n",
    "# df['timestamp'] = pd.to_datetime(df['timestamp'], format='%Y-%m-%d %H:%M:%S.%f')\n",
    "# Добавим столбец с только датой.\n",
    "# df['date'] = df['timestamp'].dt.date"
   ]
  },
  {
   "cell_type": "markdown",
   "id": "49681f41-5d18-4b77-b609-55b3be247820",
   "metadata": {},
   "source": [
    "Проверим на дубликаты и пропуски."
   ]
  },
  {
   "cell_type": "code",
   "execution_count": 9,
   "id": "36c228d5-a5af-4969-a339-1f4a5618bab1",
   "metadata": {},
   "outputs": [
    {
     "data": {
      "text/plain": [
       "clnt_ID          0\n",
       "timestamp        0\n",
       "gest_Sum         0\n",
       "gest_Discount    0\n",
       "dtype: int64"
      ]
     },
     "execution_count": 9,
     "metadata": {},
     "output_type": "execute_result"
    }
   ],
   "source": [
    "df.isna().sum()"
   ]
  },
  {
   "cell_type": "markdown",
   "id": "c3441290-9e5d-4555-b62a-a45c0f1e90c8",
   "metadata": {},
   "source": [
    "Пропусков нет."
   ]
  },
  {
   "cell_type": "code",
   "execution_count": 10,
   "id": "ea49f18b-7ab0-43b3-a771-9902f773d3c4",
   "metadata": {},
   "outputs": [
    {
     "data": {
      "text/plain": [
       "129"
      ]
     },
     "execution_count": 10,
     "metadata": {},
     "output_type": "execute_result"
    }
   ],
   "source": [
    "df.duplicated().sum()"
   ]
  },
  {
   "cell_type": "markdown",
   "id": "fdc39adf-b1ad-4708-a276-5ea256cc29f9",
   "metadata": {},
   "source": [
    "Есть дубликаты, посмотрим на них."
   ]
  },
  {
   "cell_type": "code",
   "execution_count": 11,
   "id": "2b237787-c308-4d89-869d-8335098aa370",
   "metadata": {
    "tags": []
   },
   "outputs": [
    {
     "data": {
      "text/html": [
       "<div>\n",
       "<style scoped>\n",
       "    .dataframe tbody tr th:only-of-type {\n",
       "        vertical-align: middle;\n",
       "    }\n",
       "\n",
       "    .dataframe tbody tr th {\n",
       "        vertical-align: top;\n",
       "    }\n",
       "\n",
       "    .dataframe thead th {\n",
       "        text-align: right;\n",
       "    }\n",
       "</style>\n",
       "<table border=\"1\" class=\"dataframe\">\n",
       "  <thead>\n",
       "    <tr style=\"text-align: right;\">\n",
       "      <th></th>\n",
       "      <th>clnt_ID</th>\n",
       "      <th>timestamp</th>\n",
       "      <th>gest_Sum</th>\n",
       "      <th>gest_Discount</th>\n",
       "    </tr>\n",
       "  </thead>\n",
       "  <tbody>\n",
       "    <tr>\n",
       "      <th>639</th>\n",
       "      <td>1FA367BD-8E07-437E-AB6A-009D53533128</td>\n",
       "      <td>2021-01-02 12:00:00</td>\n",
       "      <td>982.200</td>\n",
       "      <td>0.000</td>\n",
       "    </tr>\n",
       "    <tr>\n",
       "      <th>663</th>\n",
       "      <td>1FA367BD-8E07-437E-AB6A-009D53533128</td>\n",
       "      <td>2021-01-02 12:00:00</td>\n",
       "      <td>982.200</td>\n",
       "      <td>0.000</td>\n",
       "    </tr>\n",
       "    <tr>\n",
       "      <th>85786</th>\n",
       "      <td>3319362D-F6AD-498B-9B53-F59D0418915E</td>\n",
       "      <td>2021-01-14 14:00:00</td>\n",
       "      <td>1189.000</td>\n",
       "      <td>0.000</td>\n",
       "    </tr>\n",
       "    <tr>\n",
       "      <th>85787</th>\n",
       "      <td>3319362D-F6AD-498B-9B53-F59D0418915E</td>\n",
       "      <td>2021-01-14 14:00:00</td>\n",
       "      <td>1189.000</td>\n",
       "      <td>0.000</td>\n",
       "    </tr>\n",
       "    <tr>\n",
       "      <th>133279</th>\n",
       "      <td>A145C6F8-EDCB-47B1-BF5D-B328F6AF97CA</td>\n",
       "      <td>2021-01-20 16:00:00</td>\n",
       "      <td>0.000</td>\n",
       "      <td>0.000</td>\n",
       "    </tr>\n",
       "    <tr>\n",
       "      <th>...</th>\n",
       "      <td>...</td>\n",
       "      <td>...</td>\n",
       "      <td>...</td>\n",
       "      <td>...</td>\n",
       "    </tr>\n",
       "    <tr>\n",
       "      <th>2165277</th>\n",
       "      <td>E99EFF35-01BE-49A9-8F61-641F752051E5</td>\n",
       "      <td>2021-11-08 15:00:00</td>\n",
       "      <td>0.000</td>\n",
       "      <td>0.000</td>\n",
       "    </tr>\n",
       "    <tr>\n",
       "      <th>2174627</th>\n",
       "      <td>1A4C0239-A7AB-4188-84DB-8F52FBF6E13C</td>\n",
       "      <td>2021-11-10 11:00:00</td>\n",
       "      <td>282.240</td>\n",
       "      <td>37.760</td>\n",
       "    </tr>\n",
       "    <tr>\n",
       "      <th>2174629</th>\n",
       "      <td>1A4C0239-A7AB-4188-84DB-8F52FBF6E13C</td>\n",
       "      <td>2021-11-10 11:00:00</td>\n",
       "      <td>282.240</td>\n",
       "      <td>37.760</td>\n",
       "    </tr>\n",
       "    <tr>\n",
       "      <th>2198034</th>\n",
       "      <td>C9D86AF9-373C-4531-92A4-8FC752DD5D75</td>\n",
       "      <td>2021-11-14 12:00:00</td>\n",
       "      <td>0.000</td>\n",
       "      <td>0.000</td>\n",
       "    </tr>\n",
       "    <tr>\n",
       "      <th>2198035</th>\n",
       "      <td>C9D86AF9-373C-4531-92A4-8FC752DD5D75</td>\n",
       "      <td>2021-11-14 12:00:00</td>\n",
       "      <td>0.000</td>\n",
       "      <td>0.000</td>\n",
       "    </tr>\n",
       "  </tbody>\n",
       "</table>\n",
       "<p>225 rows × 4 columns</p>\n",
       "</div>"
      ],
      "text/plain": [
       "                                      clnt_ID           timestamp  gest_Sum  \\\n",
       "639      1FA367BD-8E07-437E-AB6A-009D53533128 2021-01-02 12:00:00   982.200   \n",
       "663      1FA367BD-8E07-437E-AB6A-009D53533128 2021-01-02 12:00:00   982.200   \n",
       "85786    3319362D-F6AD-498B-9B53-F59D0418915E 2021-01-14 14:00:00  1189.000   \n",
       "85787    3319362D-F6AD-498B-9B53-F59D0418915E 2021-01-14 14:00:00  1189.000   \n",
       "133279   A145C6F8-EDCB-47B1-BF5D-B328F6AF97CA 2021-01-20 16:00:00     0.000   \n",
       "...                                       ...                 ...       ...   \n",
       "2165277  E99EFF35-01BE-49A9-8F61-641F752051E5 2021-11-08 15:00:00     0.000   \n",
       "2174627  1A4C0239-A7AB-4188-84DB-8F52FBF6E13C 2021-11-10 11:00:00   282.240   \n",
       "2174629  1A4C0239-A7AB-4188-84DB-8F52FBF6E13C 2021-11-10 11:00:00   282.240   \n",
       "2198034  C9D86AF9-373C-4531-92A4-8FC752DD5D75 2021-11-14 12:00:00     0.000   \n",
       "2198035  C9D86AF9-373C-4531-92A4-8FC752DD5D75 2021-11-14 12:00:00     0.000   \n",
       "\n",
       "         gest_Discount  \n",
       "639              0.000  \n",
       "663              0.000  \n",
       "85786            0.000  \n",
       "85787            0.000  \n",
       "133279           0.000  \n",
       "...                ...  \n",
       "2165277          0.000  \n",
       "2174627         37.760  \n",
       "2174629         37.760  \n",
       "2198034          0.000  \n",
       "2198035          0.000  \n",
       "\n",
       "[225 rows x 4 columns]"
      ]
     },
     "execution_count": 11,
     "metadata": {},
     "output_type": "execute_result"
    }
   ],
   "source": [
    "df.loc[df.duplicated(keep=False)]"
   ]
  },
  {
   "cell_type": "markdown",
   "id": "2de29057-8b9d-4684-98c0-f2ddaa928b70",
   "metadata": {
    "tags": []
   },
   "source": [
    "Удалим дубликаты."
   ]
  },
  {
   "cell_type": "code",
   "execution_count": 12,
   "id": "007ee042-2d7d-4634-9962-c9bdcd324388",
   "metadata": {},
   "outputs": [],
   "source": [
    "df = df.drop_duplicates()"
   ]
  },
  {
   "cell_type": "code",
   "execution_count": 13,
   "id": "a50807cf-6b8d-4eaa-9a06-5b244e7ceecd",
   "metadata": {},
   "outputs": [
    {
     "data": {
      "text/plain": [
       "0"
      ]
     },
     "execution_count": 13,
     "metadata": {},
     "output_type": "execute_result"
    }
   ],
   "source": [
    "df.duplicated().sum()"
   ]
  },
  {
   "cell_type": "markdown",
   "id": "05de76ac-875f-4136-a9a5-d11b4f27d9a5",
   "metadata": {},
   "source": [
    "Дубликаты удалили."
   ]
  },
  {
   "cell_type": "code",
   "execution_count": 14,
   "id": "2e09daf9-2bcd-4729-93f4-a287688d865b",
   "metadata": {},
   "outputs": [],
   "source": [
    "# Проверим кол-во строк, где сумма и скидка равны 0\n",
    "# mask = (df['gest_Sum'] == 0) & (df['gest_Discount'] == 0)\n",
    "# df[mask]\n",
    "# Будем считать, что это техническая ошибка. Удалим эти строки.\n",
    "# df = df.drop(index=df[mask].index)\n",
    "# df[mask]"
   ]
  },
  {
   "cell_type": "markdown",
   "id": "ec2ca3c1-7083-4808-ae88-14eaec3c373c",
   "metadata": {},
   "source": [
    "Проверим данные на дубликаты по пользователю и времени."
   ]
  },
  {
   "cell_type": "code",
   "execution_count": 15,
   "id": "92cba26c-2e56-402b-b3c4-9bb4c3b4aa59",
   "metadata": {},
   "outputs": [
    {
     "data": {
      "text/html": [
       "<div>\n",
       "<style scoped>\n",
       "    .dataframe tbody tr th:only-of-type {\n",
       "        vertical-align: middle;\n",
       "    }\n",
       "\n",
       "    .dataframe tbody tr th {\n",
       "        vertical-align: top;\n",
       "    }\n",
       "\n",
       "    .dataframe thead th {\n",
       "        text-align: right;\n",
       "    }\n",
       "</style>\n",
       "<table border=\"1\" class=\"dataframe\">\n",
       "  <thead>\n",
       "    <tr style=\"text-align: right;\">\n",
       "      <th></th>\n",
       "      <th>clnt_ID</th>\n",
       "      <th>timestamp</th>\n",
       "      <th>gest_Sum</th>\n",
       "      <th>gest_Discount</th>\n",
       "    </tr>\n",
       "  </thead>\n",
       "  <tbody>\n",
       "    <tr>\n",
       "      <th>657</th>\n",
       "      <td>94B60CD3-F08B-4BE5-9D8C-892E1A41D987</td>\n",
       "      <td>2021-01-02 12:00:00</td>\n",
       "      <td>1389.000</td>\n",
       "      <td>0.000</td>\n",
       "    </tr>\n",
       "    <tr>\n",
       "      <th>658</th>\n",
       "      <td>94B60CD3-F08B-4BE5-9D8C-892E1A41D987</td>\n",
       "      <td>2021-01-02 12:00:00</td>\n",
       "      <td>600.000</td>\n",
       "      <td>0.000</td>\n",
       "    </tr>\n",
       "    <tr>\n",
       "      <th>4036</th>\n",
       "      <td>4E292158-5A60-4B49-8DD0-97491A0E1B84</td>\n",
       "      <td>2021-01-02 17:00:00</td>\n",
       "      <td>211.200</td>\n",
       "      <td>0.000</td>\n",
       "    </tr>\n",
       "    <tr>\n",
       "      <th>4037</th>\n",
       "      <td>4E292158-5A60-4B49-8DD0-97491A0E1B84</td>\n",
       "      <td>2021-01-02 17:00:00</td>\n",
       "      <td>930.360</td>\n",
       "      <td>0.000</td>\n",
       "    </tr>\n",
       "    <tr>\n",
       "      <th>4649</th>\n",
       "      <td>99C70A79-745A-4E25-85AB-3E03BBE22F73</td>\n",
       "      <td>2021-01-02 18:00:00</td>\n",
       "      <td>189.160</td>\n",
       "      <td>0.000</td>\n",
       "    </tr>\n",
       "    <tr>\n",
       "      <th>...</th>\n",
       "      <td>...</td>\n",
       "      <td>...</td>\n",
       "      <td>...</td>\n",
       "      <td>...</td>\n",
       "    </tr>\n",
       "    <tr>\n",
       "      <th>2370292</th>\n",
       "      <td>1DFCF34F-F1ED-4B15-BCD2-11FC4BBC710E</td>\n",
       "      <td>2021-12-15 18:00:00</td>\n",
       "      <td>384.000</td>\n",
       "      <td>95.000</td>\n",
       "    </tr>\n",
       "    <tr>\n",
       "      <th>2371307</th>\n",
       "      <td>1DFCF34F-F1ED-4B15-BCD2-11FC4BBC710E</td>\n",
       "      <td>2021-12-15 20:30:00</td>\n",
       "      <td>339.000</td>\n",
       "      <td>80.000</td>\n",
       "    </tr>\n",
       "    <tr>\n",
       "      <th>2371314</th>\n",
       "      <td>1DFCF34F-F1ED-4B15-BCD2-11FC4BBC710E</td>\n",
       "      <td>2021-12-15 20:30:00</td>\n",
       "      <td>241.500</td>\n",
       "      <td>47.500</td>\n",
       "    </tr>\n",
       "    <tr>\n",
       "      <th>2371527</th>\n",
       "      <td>5C5D0F65-AC7E-44BA-807D-9A97F01B8CC6</td>\n",
       "      <td>2021-12-15 21:25:00</td>\n",
       "      <td>215.250</td>\n",
       "      <td>38.750</td>\n",
       "    </tr>\n",
       "    <tr>\n",
       "      <th>2371528</th>\n",
       "      <td>5C5D0F65-AC7E-44BA-807D-9A97F01B8CC6</td>\n",
       "      <td>2021-12-15 21:25:00</td>\n",
       "      <td>264.000</td>\n",
       "      <td>55.000</td>\n",
       "    </tr>\n",
       "  </tbody>\n",
       "</table>\n",
       "<p>1199 rows × 4 columns</p>\n",
       "</div>"
      ],
      "text/plain": [
       "                                      clnt_ID           timestamp  gest_Sum  \\\n",
       "657      94B60CD3-F08B-4BE5-9D8C-892E1A41D987 2021-01-02 12:00:00  1389.000   \n",
       "658      94B60CD3-F08B-4BE5-9D8C-892E1A41D987 2021-01-02 12:00:00   600.000   \n",
       "4036     4E292158-5A60-4B49-8DD0-97491A0E1B84 2021-01-02 17:00:00   211.200   \n",
       "4037     4E292158-5A60-4B49-8DD0-97491A0E1B84 2021-01-02 17:00:00   930.360   \n",
       "4649     99C70A79-745A-4E25-85AB-3E03BBE22F73 2021-01-02 18:00:00   189.160   \n",
       "...                                       ...                 ...       ...   \n",
       "2370292  1DFCF34F-F1ED-4B15-BCD2-11FC4BBC710E 2021-12-15 18:00:00   384.000   \n",
       "2371307  1DFCF34F-F1ED-4B15-BCD2-11FC4BBC710E 2021-12-15 20:30:00   339.000   \n",
       "2371314  1DFCF34F-F1ED-4B15-BCD2-11FC4BBC710E 2021-12-15 20:30:00   241.500   \n",
       "2371527  5C5D0F65-AC7E-44BA-807D-9A97F01B8CC6 2021-12-15 21:25:00   215.250   \n",
       "2371528  5C5D0F65-AC7E-44BA-807D-9A97F01B8CC6 2021-12-15 21:25:00   264.000   \n",
       "\n",
       "         gest_Discount  \n",
       "657              0.000  \n",
       "658              0.000  \n",
       "4036             0.000  \n",
       "4037             0.000  \n",
       "4649             0.000  \n",
       "...                ...  \n",
       "2370292         95.000  \n",
       "2371307         80.000  \n",
       "2371314         47.500  \n",
       "2371527         38.750  \n",
       "2371528         55.000  \n",
       "\n",
       "[1199 rows x 4 columns]"
      ]
     },
     "execution_count": 15,
     "metadata": {},
     "output_type": "execute_result"
    }
   ],
   "source": [
    "df[df.duplicated(['clnt_ID','timestamp'],keep=False)]"
   ]
  },
  {
   "cell_type": "markdown",
   "id": "317e47bf-444a-43b7-beb8-4d7e897f8943",
   "metadata": {},
   "source": [
    "Объединение этих данных может повлиять на статистики, поэтому оставим как есть."
   ]
  },
  {
   "cell_type": "markdown",
   "id": "6b5d1b1a-94d1-4e46-a80f-4369c373bac7",
   "metadata": {},
   "source": [
    "Проверим отсортирован ли датасет по дате, сравнив его с отсортированным со стабильной сортировкой."
   ]
  },
  {
   "cell_type": "code",
   "execution_count": 16,
   "id": "d51917b9-3e9a-4a5e-bf57-2f86c3c0861c",
   "metadata": {},
   "outputs": [
    {
     "data": {
      "text/plain": [
       "True"
      ]
     },
     "execution_count": 16,
     "metadata": {},
     "output_type": "execute_result"
    }
   ],
   "source": [
    "df_temp = df.sort_values(by='timestamp',kind='stable')\n",
    "df.equals(df_temp)"
   ]
  },
  {
   "cell_type": "markdown",
   "id": "65e7b837-1aad-4383-8457-c0346c32bd72",
   "metadata": {},
   "source": [
    "Да, сортировать его дополнительно не имеет смысла."
   ]
  },
  {
   "cell_type": "code",
   "execution_count": 17,
   "id": "5ce70fef-fcd2-4c27-995b-4afd92518b0e",
   "metadata": {},
   "outputs": [],
   "source": [
    "# df = df.sort_values(by='timestamp',kind='stable')"
   ]
  },
  {
   "cell_type": "code",
   "execution_count": 18,
   "id": "e3606ec1-6788-4500-bdbe-eda0a228a2f7",
   "metadata": {
    "tags": []
   },
   "outputs": [],
   "source": [
    "# # # Проверяем как работает групбай.\n",
    "# # # Надо убедиться, что он сохраняет порядок дат.\n",
    "# # # В документации написано, что сохраняет, но нужно убедиться\n",
    "# # # Groupby preserves the order of rows within each group. - from pandas documentation\n",
    "\n",
    "# def time_delta_sorted(col):\n",
    "#     return col.sort_values().diff()\n",
    "\n",
    "# def time_delta_as_is(col):\n",
    "#     return col.diff()\n",
    "\n",
    "# time_delta_sorted = df.groupby('clnt_ID')['timestamp'].transform(time_delta_sorted)\n",
    "# time_delta_as_is = df.groupby('clnt_ID')['timestamp'].transform(time_delta_as_is)\n",
    "\n",
    "# display(time_delta_sorted.compare(time_delta_as_is))\n",
    "# # # Разница есть\n",
    "\n",
    "# # Возьмем одного клиента из того индекса, где несовпадение .loc[2023446]\n",
    "\n",
    "# df_test = df.copy()\n",
    "# df_test['time_delta_sorted'] = time_delta_sorted\n",
    "# df_test['time_delta_as_is'] = time_delta_as_is\n",
    "\n",
    "# display(df_test.loc[2023446])\n",
    "\n",
    "# # Это AE47EEE1-D3CA-4F80-967B-949F2228192B\n",
    "# test_client = df_test[df_test['clnt_ID'] == 'AE47EEE1-D3CA-4F80-967B-949F2228192B']\n",
    "\n",
    "# # Проверим отсортирован ли он по дате (даже после сортировки всего датафрейма)\n",
    "# test_client.reset_index(drop=True).compare(test_client.sort_values('timestamp').reset_index(drop=True))\n",
    "\n",
    "# test_client.iloc[93:97,]\n",
    "\n",
    "# # Отсортируем его по дате\n",
    "# test_client = test_client.sort_values(by='timestamp')\n",
    "\n",
    "# test_client.iloc[93:97,]\n",
    "\n",
    "# # Эти строки поменялись местами\n",
    "\n",
    "# # Еще раз отсортируем\n",
    "\n",
    "# test_client = test_client.sort_values(by='timestamp')\n",
    "# test_client.iloc[93:97,]\n",
    "\n",
    "# # Они снова поменялись местами\n",
    "\n",
    "# # Создадим реальный diff\n",
    "# test_client['real_timestamp_diff'] = test_client['timestamp'].diff()\n",
    "\n",
    "# # Сравним с трансформом с сортировкой - столбец 'time_delta_sorted'\n",
    "# test_client['real_timestamp_diff'].compare(test_client['time_delta_sorted'])\n",
    "\n",
    "# # Сравним с трансформом без сортировки - столбец 'time_delta_as_is'\n",
    "# test_client['real_timestamp_diff'].compare(test_client['time_delta_as_is'])\n",
    "\n",
    "# # >>>>>>>>>>>ВЫВОД<<<<<<<<<<<<<<\n",
    "# # Вывод: Если при сравнени сортированного и несортированного датасета несовпадают только те строки, \n",
    "# # в которых идентичное время, то групбай сохраняет последовательность строк. \n",
    "# # Проблема лишь в том, как сортировка обрабатывает идентичные значения. (неустойичвая сортировка)\n",
    "# # Поэтому достаточно лишь раз отсортировать (устойчивой сортировкой) изначальный датасет."
   ]
  },
  {
   "cell_type": "markdown",
   "id": "4b97a434-748a-4fa4-8262-8b304a6a4a8c",
   "metadata": {},
   "source": [
    "# EDA"
   ]
  },
  {
   "cell_type": "markdown",
   "id": "b331f231-e61a-452b-9fe3-896a8966e2a5",
   "metadata": {},
   "source": [
    "    * Проверка таргета\n",
    "        * О том, как определялся таргет\n",
    "        * Проверка на соблюдение известного формального условия\n",
    "        * Проверка на дисбаланс\n",
    "    * Исследование признаков\n",
    "    * Сравнение целевых классов\n",
    "    * Корреляции \n",
    "\n",
    "Вопросы к данным?\n",
    "Таргет:\n",
    "    * Действительно ли таргет 1 там, где дельта между датами покупки >= 45 дней? И такой ли должен быть таргет?\n",
    "    * Есть ли дисбаланс классов (по сделкам и по клиентам)\n",
    "    \n",
    "Исследование признаков:    \n",
    "3. Есть ли какие-то аномалии (неожиданные значения) в \n",
    "    * датах,\n",
    "    * сумме чека за вычетом скидки\n",
    "    * в размере скидки\n",
    "\n",
    "Сравнение по таргету:  \n",
    "4. Отличаются ли клиенты, которые ушли в отток от тех, которые не ушли по:  \n",
    "\n",
    "    * чеку за вычетом скидки,  \n",
    "    * по скидке,  \n",
    "    * по общей стоимости (без учета скидки),   \n",
    "    * по длительности в днях между покупками  \n",
    "    \n",
    "5. Корреляции в данных по сделкам и по клиентам\n",
    "\n",
    "<!-- 6. Исследование типов клиентов, о которых речь пойдет ниже. -->"
   ]
  },
  {
   "cell_type": "markdown",
   "id": "62b01a0e-db90-446e-9d51-803198774963",
   "metadata": {},
   "source": [
    "## Таргет"
   ]
  },
  {
   "cell_type": "markdown",
   "id": "5a13c0f3-9009-41e3-81ea-7859fa02d1b7",
   "metadata": {},
   "source": [
    "Заявлено, что таргет создавался по логике, если дельта в днях между покупками >= 45, то это отток.  \n",
    "И, возможно, что прошло 45 дней после последней покупки.\n",
    "\n",
    "Также, в классе 1 есть юзеры, у которых всего 1 покупка. Их нужно исключить из оттока (сделать класс 0)."
   ]
  },
  {
   "cell_type": "markdown",
   "id": "5a103901-0cdf-42bb-9cc9-c30275c61e5d",
   "metadata": {},
   "source": [
    "Изменим класс на 0 (не-отток) у юзеров с одной покупкой."
   ]
  },
  {
   "cell_type": "code",
   "execution_count": 34,
   "id": "2395e1f8-78d8-43cb-bb67-b5e71d441925",
   "metadata": {},
   "outputs": [],
   "source": [
    "# Посмотрим у каких пользователей с таргетом 1 всего 1 покупка\n",
    "target_1 = df_target.loc[df_target['target'] == 1,'clnt_ID']\n",
    "# Сгруппируем по ним\n",
    "groupby_counts = df.loc[df['clnt_ID'].isin(target_1)].groupby('clnt_ID')['gest_Sum'].count()\n",
    "# Отфильтруем тех, у кого 1 чек\n",
    "false_target_1 = groupby_counts[groupby_counts == 1]"
   ]
  },
  {
   "cell_type": "code",
   "execution_count": 39,
   "id": "040c854c-0322-40ad-a4c6-1ed057303001",
   "metadata": {},
   "outputs": [
    {
     "data": {
      "text/plain": [
       "(43704,)"
      ]
     },
     "execution_count": 39,
     "metadata": {},
     "output_type": "execute_result"
    }
   ],
   "source": [
    "false_target_1.shape"
   ]
  },
  {
   "cell_type": "code",
   "execution_count": 44,
   "id": "f15feefd-524b-443a-a4f1-4f0177f8ddf8",
   "metadata": {},
   "outputs": [],
   "source": [
    "temp_1 = df_target['target'].where(~df_target['clnt_ID'].isin(false_target_1.index),0)"
   ]
  },
  {
   "cell_type": "code",
   "execution_count": 46,
   "id": "5a665203-d5e3-4071-8457-71df76fff045",
   "metadata": {},
   "outputs": [
    {
     "data": {
      "text/plain": [
       "0         1\n",
       "1         0\n",
       "2         0\n",
       "3         0\n",
       "4         0\n",
       "         ..\n",
       "255104    0\n",
       "255105    0\n",
       "255106    1\n",
       "255107    0\n",
       "255108    1\n",
       "Name: target, Length: 255109, dtype: int64"
      ]
     },
     "execution_count": 46,
     "metadata": {},
     "output_type": "execute_result"
    }
   ],
   "source": [
    "temp_1"
   ]
  },
  {
   "cell_type": "code",
   "execution_count": 45,
   "id": "e068932b-b83c-46ef-8dc0-61efdb9df4a1",
   "metadata": {},
   "outputs": [
    {
     "ename": "KeyError",
     "evalue": "'target'",
     "output_type": "error",
     "traceback": [
      "\u001b[1;31m---------------------------------------------------------------------------\u001b[0m",
      "\u001b[1;31mKeyError\u001b[0m                                  Traceback (most recent call last)",
      "Input \u001b[1;32mIn [45]\u001b[0m, in \u001b[0;36m<cell line: 1>\u001b[1;34m()\u001b[0m\n\u001b[1;32m----> 1\u001b[0m temp_1\u001b[38;5;241m.\u001b[39mloc[\u001b[43mtemp_1\u001b[49m\u001b[43m[\u001b[49m\u001b[38;5;124;43m'\u001b[39;49m\u001b[38;5;124;43mtarget\u001b[39;49m\u001b[38;5;124;43m'\u001b[39;49m\u001b[43m]\u001b[49m\u001b[38;5;241m==\u001b[39m\u001b[38;5;241m1\u001b[39m,\u001b[38;5;124m'\u001b[39m\u001b[38;5;124mclnt_ID\u001b[39m\u001b[38;5;124m'\u001b[39m]\n",
      "File \u001b[1;32m~\\Desktop\\projects\\bushe_churn_prediction_workshop\\env\\lib\\site-packages\\pandas\\core\\series.py:958\u001b[0m, in \u001b[0;36mSeries.__getitem__\u001b[1;34m(self, key)\u001b[0m\n\u001b[0;32m    955\u001b[0m     \u001b[38;5;28;01mreturn\u001b[39;00m \u001b[38;5;28mself\u001b[39m\u001b[38;5;241m.\u001b[39m_values[key]\n\u001b[0;32m    957\u001b[0m \u001b[38;5;28;01melif\u001b[39;00m key_is_scalar:\n\u001b[1;32m--> 958\u001b[0m     \u001b[38;5;28;01mreturn\u001b[39;00m \u001b[38;5;28;43mself\u001b[39;49m\u001b[38;5;241;43m.\u001b[39;49m\u001b[43m_get_value\u001b[49m\u001b[43m(\u001b[49m\u001b[43mkey\u001b[49m\u001b[43m)\u001b[49m\n\u001b[0;32m    960\u001b[0m \u001b[38;5;28;01mif\u001b[39;00m is_hashable(key):\n\u001b[0;32m    961\u001b[0m     \u001b[38;5;66;03m# Otherwise index.get_value will raise InvalidIndexError\u001b[39;00m\n\u001b[0;32m    962\u001b[0m     \u001b[38;5;28;01mtry\u001b[39;00m:\n\u001b[0;32m    963\u001b[0m         \u001b[38;5;66;03m# For labels that don't resolve as scalars like tuples and frozensets\u001b[39;00m\n",
      "File \u001b[1;32m~\\Desktop\\projects\\bushe_churn_prediction_workshop\\env\\lib\\site-packages\\pandas\\core\\series.py:1069\u001b[0m, in \u001b[0;36mSeries._get_value\u001b[1;34m(self, label, takeable)\u001b[0m\n\u001b[0;32m   1066\u001b[0m     \u001b[38;5;28;01mreturn\u001b[39;00m \u001b[38;5;28mself\u001b[39m\u001b[38;5;241m.\u001b[39m_values[label]\n\u001b[0;32m   1068\u001b[0m \u001b[38;5;66;03m# Similar to Index.get_value, but we do not fall back to positional\u001b[39;00m\n\u001b[1;32m-> 1069\u001b[0m loc \u001b[38;5;241m=\u001b[39m \u001b[38;5;28;43mself\u001b[39;49m\u001b[38;5;241;43m.\u001b[39;49m\u001b[43mindex\u001b[49m\u001b[38;5;241;43m.\u001b[39;49m\u001b[43mget_loc\u001b[49m\u001b[43m(\u001b[49m\u001b[43mlabel\u001b[49m\u001b[43m)\u001b[49m\n\u001b[0;32m   1070\u001b[0m \u001b[38;5;28;01mreturn\u001b[39;00m \u001b[38;5;28mself\u001b[39m\u001b[38;5;241m.\u001b[39mindex\u001b[38;5;241m.\u001b[39m_get_values_for_loc(\u001b[38;5;28mself\u001b[39m, loc, label)\n",
      "File \u001b[1;32m~\\Desktop\\projects\\bushe_churn_prediction_workshop\\env\\lib\\site-packages\\pandas\\core\\indexes\\range.py:389\u001b[0m, in \u001b[0;36mRangeIndex.get_loc\u001b[1;34m(self, key, method, tolerance)\u001b[0m\n\u001b[0;32m    387\u001b[0m             \u001b[38;5;28;01mraise\u001b[39;00m \u001b[38;5;167;01mKeyError\u001b[39;00m(key) \u001b[38;5;28;01mfrom\u001b[39;00m \u001b[38;5;21;01merr\u001b[39;00m\n\u001b[0;32m    388\u001b[0m     \u001b[38;5;28mself\u001b[39m\u001b[38;5;241m.\u001b[39m_check_indexing_error(key)\n\u001b[1;32m--> 389\u001b[0m     \u001b[38;5;28;01mraise\u001b[39;00m \u001b[38;5;167;01mKeyError\u001b[39;00m(key)\n\u001b[0;32m    390\u001b[0m \u001b[38;5;28;01mreturn\u001b[39;00m \u001b[38;5;28msuper\u001b[39m()\u001b[38;5;241m.\u001b[39mget_loc(key, method\u001b[38;5;241m=\u001b[39mmethod, tolerance\u001b[38;5;241m=\u001b[39mtolerance)\n",
      "\u001b[1;31mKeyError\u001b[0m: 'target'"
     ]
    }
   ],
   "source": [
    "temp_1.loc[temp_1['target']==1,'clnt_ID']"
   ]
  },
  {
   "cell_type": "code",
   "execution_count": 38,
   "id": "9046e85b-5eee-4fc3-86ab-39d8edd52470",
   "metadata": {},
   "outputs": [
    {
     "data": {
      "text/plain": [
       "0    128857\n",
       "1    126252\n",
       "Name: target, dtype: int64"
      ]
     },
     "execution_count": 38,
     "metadata": {},
     "output_type": "execute_result"
    }
   ],
   "source": [
    "df_target['target'].value_counts()"
   ]
  },
  {
   "cell_type": "code",
   "execution_count": 19,
   "id": "34368dbb-8864-47f4-b79b-1818b668b399",
   "metadata": {},
   "outputs": [],
   "source": [
    "# Сделаем агрегацию по кол-ву чеков по юзерам\n",
    "df_count = df.groupby('clnt_ID')['timestamp'].count()"
   ]
  },
  {
   "cell_type": "code",
   "execution_count": 20,
   "id": "c1db0ad3-4c68-494e-a866-a121ee980b4a",
   "metadata": {},
   "outputs": [],
   "source": [
    "# Возьмем те айдишники, в которых всего 1 покупка\n",
    "just_1_buy = df_count[df_count == 1]"
   ]
  },
  {
   "cell_type": "code",
   "execution_count": 24,
   "id": "edd0906d-8f45-49ae-bd79-f6fb1f58f9fc",
   "metadata": {},
   "outputs": [
    {
     "data": {
      "text/plain": [
       "1      105165\n",
       "2       38442\n",
       "3       20519\n",
       "4       12983\n",
       "5        8974\n",
       "        ...  \n",
       "495         1\n",
       "941         1\n",
       "302         1\n",
       "434         1\n",
       "522         1\n",
       "Name: timestamp, Length: 391, dtype: int64"
      ]
     },
     "execution_count": 24,
     "metadata": {},
     "output_type": "execute_result"
    }
   ],
   "source": [
    "df_count.value_counts(sort=True)"
   ]
  },
  {
   "cell_type": "code",
   "execution_count": null,
   "id": "f6030792-87d4-494c-a050-69e724625531",
   "metadata": {},
   "outputs": [],
   "source": [
    "# Сколько было\n",
    "df_target['target'].value_counts()"
   ]
  },
  {
   "cell_type": "code",
   "execution_count": null,
   "id": "0c8d6799-ac14-42c0-bacb-f2d41869fca7",
   "metadata": {},
   "outputs": [],
   "source": [
    "# Сколько стало\n",
    "df_target['target'].where(df_target['clnt_ID'].isin(just_1_buy.index),0).value_counts()"
   ]
  },
  {
   "cell_type": "code",
   "execution_count": null,
   "id": "420d1894-969c-4619-95db-e0f67136e4a7",
   "metadata": {},
   "outputs": [],
   "source": [
    "# Проверка, что правильно нашли айдишники тех, у кого 1 покупка -- можно удалить\n",
    "# def expand_count(col):\n",
    "#     return col.expanding().count()\n",
    "\n",
    "# df['clnt_buys_count'] = df.groupby('clnt_ID')['timestamp'].transform(expand_count)\n",
    "# # Для этого создадим столбец с максимальным кол-вом покупок клиента\n",
    "# df['max_buys_count'] = df.groupby('clnt_ID')['clnt_buys_count'].transform('max')\n",
    "\n",
    "# # Если он равен 1, то покупок было всего 1\n",
    "# df['just_1_buy'] = df['max_buys_count'] == 1\n",
    "# df[df['just_1_buy'] == 1].groupby('clnt_ID')['just_1_buy'].count()"
   ]
  },
  {
   "cell_type": "code",
   "execution_count": null,
   "id": "f5335263-80c9-4f60-8e70-f278dffd082d",
   "metadata": {},
   "outputs": [],
   "source": [
    "# Изменим таргет\n",
    "df_target['target'] = df_target['target'].where(df_target['clnt_ID'].isin(just_1_buy.index),0)"
   ]
  },
  {
   "cell_type": "markdown",
   "id": "320b1915-ba9b-4a6a-b2d9-764df9c54168",
   "metadata": {},
   "source": [
    "Попробуем проверить таргет на соответствие логике."
   ]
  },
  {
   "cell_type": "markdown",
   "id": "f7714f38-02a8-4c4f-a45f-d9ca0306aa89",
   "metadata": {},
   "source": [
    "Для этого: \n",
    "1. Создадим признак с кол-во дней между покупками\n",
    "2. Создадим флаг, с проверкой на дельта в днях >= 45.\n",
    "3. Посчитаем кол-во `True` этого флага\n",
    "4. Сравним с таргетом"
   ]
  },
  {
   "cell_type": "code",
   "execution_count": null,
   "id": "75beebc1-c27f-4bb4-b3dd-b60446630bf5",
   "metadata": {},
   "outputs": [],
   "source": [
    "# Создаем фичу с дельтой в днях между покупками по каждому клиенту\n",
    "def time_delta(col):\n",
    "    return col.diff()\n",
    "\n",
    "df['days_delta'] = df.groupby('clnt_ID')['timestamp'].transform(time_delta)\n",
    "df['days_delta'] = df['days_delta'].dt.days\n",
    "df['days_delta'] = df['days_delta'].fillna(-1) # Это делаем, чтобы значение \"вообще не было покупок ранее\" отличалось от \"прошло 0 дней с прошлой покупки\""
   ]
  },
  {
   "cell_type": "code",
   "execution_count": null,
   "id": "58d10cde-c808-480c-ab83-ee59a433ab9a",
   "metadata": {},
   "outputs": [],
   "source": [
    "# Делаем признак больше или равна ли дельта 45\n",
    "df['delta>=45'] = df['days_delta'] >= 45"
   ]
  },
  {
   "cell_type": "code",
   "execution_count": null,
   "id": "ed041a3c-d1e5-43dc-ae10-5873eac49883",
   "metadata": {},
   "outputs": [],
   "source": [
    "df.head()"
   ]
  },
  {
   "cell_type": "code",
   "execution_count": null,
   "id": "6585657f-360f-44e5-919b-50f11ec168b1",
   "metadata": {},
   "outputs": [],
   "source": [
    "df.groupby('clnt_ID')['delta>=45'].max().value_counts()"
   ]
  },
  {
   "cell_type": "code",
   "execution_count": null,
   "id": "f34caeb5-f899-4529-b9d6-f4968ac96237",
   "metadata": {},
   "outputs": [],
   "source": [
    "# Проверка на кол-во флагов --- можно удалить\n",
    "# df[df['delta>=45'] == True].groupby('clnt_ID')['clnt_ID'].count()"
   ]
  },
  {
   "cell_type": "markdown",
   "id": "175a6cdc-b57a-4035-a4a4-9de5a5616d64",
   "metadata": {},
   "source": [
    "Здесь мы просчитали только дельту между покупками, но не учли, что после последней покупки могло пройти 45 дней и это тоже обозначается как отток.  "
   ]
  },
  {
   "cell_type": "markdown",
   "id": "f1293c36-3719-403f-9108-733886b6e219",
   "metadata": {},
   "source": [
    "Поэтому общая логика такая.  \n",
    "Оттоком помечается клиент совершивший больше **одной (1)** покупки и соответствует любому из условий: \n",
    "* дельта >= 45, \n",
    "* прошло больше 45 дней после последней покупки на условный текущий момент."
   ]
  },
  {
   "cell_type": "markdown",
   "id": "dd89cf02-9e81-4d8a-a27f-61c6f2a4934b",
   "metadata": {},
   "source": [
    "Было сказано, что таргет проставлялся по всем данным с 2021 по 2022 март, а мы имеем только за 2021.  \n",
    "Поэтому у нас нет возможности проверить предоставленный таргет на соответствие логике."
   ]
  },
  {
   "cell_type": "markdown",
   "id": "e050127e-a013-40f3-96aa-c392f38db79b",
   "metadata": {
    "jp-MarkdownHeadingCollapsed": true,
    "tags": []
   },
   "source": [
    "### Возможный подход к определению таргета (опционально)"
   ]
  },
  {
   "cell_type": "markdown",
   "id": "40a179d8-5336-48c9-934c-f60ed3ee0a78",
   "metadata": {},
   "source": [
    "Поскольку в целом это задача предсказания оттока, то можно определить следующие важные условия.\n",
    "\n",
    "Расширим эту логику следующим образом, учтя сочетания следующих вещей:\n",
    "1. Покупок было сделано 1 или больше\n",
    "2. При покупках больше 1, был ли хоть раз промежуток в днях между ближайшими покупками >=45?\n",
    "3. На условный текущий момент с момента последней сделки прошло ли 45 дней?\n",
    "\n",
    "И введем понятие условного текущего момента, которым будет являться либо последний день года (2021-12-31), либо последняя дата в данных, либо какая-то конкретная дата, по которую делали выгрузку данных (по какой-то причине).\n",
    "\n",
    "В соответствии с этим, разделим всех клиентов на типы:\n",
    "1. Те, кто сделал всего одну покупку за весь исследуемый период\n",
    "2. Те, кто сделал больше 1 покупки\n",
    "    * **ни разу** промежуток между покупками в днях не становился >= 45\n",
    "    * на условный текущий момент (2021-12-31) с момента последней сделки не прошло 45 дней\n",
    "3. Те, кто сделал больше 1 покупки \n",
    "    * и максимальная дельта в днях между двумя ближайшими хоть раз становилась >= 45.\n",
    "    * но с последней сделки не прошло 45 дней.\n",
    "4. Те, кто сделал больше 1 покупки \n",
    "    * максимальная дельта хоть раз становилась >= 45.\n",
    "    * и к условному текущему моменту (2021-12-31) после последней сделки прошло больше 45 дней\n",
    "5. Те, кто сделал больше 1 покупки, \n",
    "    * максимальная дельта была всегда < 45, \n",
    "    * к условному текущему моменту (2021-12-31) после последней сделки прошло больше 45 дней.\n",
    "\n",
    "Все, кроме типа 2, можно условно отнести к оттоку, но это ли нужно бизнесу? \n",
    "\n",
    "**Тип 1**: эти клиенты попробовали продукт, но не стали лояльными, поэтому к ним не стоит задача их *вернуть*. Работа с этим типом, я предполагаю, не вписывается в задачу возврата лояльных клиентов, которые ушли, потому что они изначально не были лояльными.\n",
    "\n",
    "**Тип 2**: Это лояльный тип клиентов, в отток не ушел. В нем можно поискать статистические признаки их лояльности, сравнив с другими.\n",
    "\n",
    "**Тип 3**: Это тоже условно лояльный тип клиентов, потому что с точки зрения обыденного представления, вполне вероятно, что лояльный регулярный клиент может пропустить месяц или больше в своих регулярных покупках по причинам, не связанным с бизнесом и продуктом. Ведь он же вернулся.\n",
    "\n",
    "**Тип 4**: Можно ли этот тип рассматривать, как отток? В их истории уже были длительные перерывы. Это может быть полу-регулярный сбив ритма покупок, т.е. не говорит о потери лояльности, а о личных регулярных причинах, либо это действительно окончательный отток. По личным ли причинам или из-за продукта/бизнеса? - это неизвестно.\n",
    "\n",
    "**Тип 5**: Можно ли этот тип также рассматривать, как отток? Возможно это отток, а возможно разовая личная причина, но клиент вернется.\n",
    "\n",
    "У нас здесь вырисовываются две переменные:  \n",
    "* кол-во дней, в которые были произведены покупки (напр., если в одном дне было сделано больше 1 покупки, то такой день все равно считается за один) \n",
    "* дельта в днях между покупками (почему она именно 45, звучит как слишком ровное число. Возможно есть какой-то другой порог, который будет ценнее для предсказаний)\n",
    "\n",
    "К этим переменным есть два вопроса?  \n",
    "* Сколько таких дней \"покупок\" должно быть достаточно, чтобы мы могли по ним описать поведение клиента? Чтобы впоследствии иметь основание определить порог аномального поведения?\n",
    "* Почему дельта устанавливается в 45 дней? Похоже на слишком ровное число. Возможно есть какой-то другой порог, который будет более полезен в определении оттока. Возможно, для каждого клиента он свой.\n",
    "\n",
    "И в итоге с одной стороны можно сравнить эти группы и попробовать найти в них уникальные характеристики. С другой стороны, еще более перспективным вариантом будет рассчитывать критерий оттока по каждому клиенту, опираясь на его характеристики регулярности покупок и как-то так определить таргет.\n",
    "\n",
    "**Но для гипотетического бейзлайна**, используем следующую логику.  \n",
    "Оттоком определим типы 3,4,5, т.е. оттоком помечается клиент совершивший больше **одной (1)** покупки и соответствует любому из условий: \n",
    "* дельта >= 45, \n",
    "* прошло больше 45 дней после последней покупки на условный текущий момент."
   ]
  },
  {
   "cell_type": "markdown",
   "id": "856f638f-967a-43c9-9f51-e924fc5cd86b",
   "metadata": {},
   "source": [
    "**Создадим такой таргет и сравним его с изначальным** \n",
    "\n",
    "1. Создадим фичу с дельтой в днях между покупками\n",
    "2. Создадим фичу с условием - дельта >= 45?\n",
    "3. Нужно создать фичу с условием \"единственная ли это покупка\"  \n",
    "\n",
    "    a. Создадим признак с номером покупки  \n",
    "    b. Создадим признак с максимальным номером покупки   \n",
    "    c. Создадим фичу, в которой сравниваем равен ли номер покупки с максимальным номером покупки этого юзера - это и есть \"единственная ли это покупка\"  \n",
    "    \n",
    "4. Создадим фичу, которая будет говорить последня ли это покупка, если всего покупок больше 1\n",
    "5. Создадим фичу, которая отсчитывает 45 дней назад с гипотетического сейчас (в нашем случае это будет 2021-12-31)\n",
    "6. Создадим таргет, который будет соответствовать условиям (**ИЛИ**):\n",
    "\n",
    "    a. Дельта >= 45  \n",
    "    b. Последняя покупка из серии покупок **И** прошло больше 45 на гипотетический текущий момент"
   ]
  },
  {
   "cell_type": "markdown",
   "id": "7879d6ea-bccd-4545-acad-0e00b7bb10e4",
   "metadata": {},
   "source": [
    "<!-- **Действительно ли таргет 1 там, где дельта между датами покупки >= 45 дней?**  \n",
    "Для этого создадим соответствующее условие, применим его к данным со сделками и сравним в таргетом.\n",
    "1. Создадим фичу с дельтой в днях между покупками по каждому клиенту\n",
    "2. Проверим, если максимальная дельта у клиента больше или равна 45 дням, то ставим флаг 1, в противном случае 0.\n",
    "3. Сравниваем получившиеся флаги с предоставленными данными по таргету. -->"
   ]
  },
  {
   "cell_type": "markdown",
   "id": "c7423498-15af-4f2b-ae15-2297d3a14c6d",
   "metadata": {},
   "source": [
    "<!-- <div class=\"alert alert-block alert-info\">\n",
    "<b>Комментарий студента: </b> Вот здесь мне пока не до конца ясно, что именно мы считаем. По каким условиям определяется таргет.  \n",
    "    \n",
    "* Я сначала сделал просто по одному условию, что дельта в днях между покупками >= 45 дням.  \n",
    "* Потом добавил еще условие, в котором те, кто сделал только одну покупку, они тоже бы флаговались. - но просто написал код, описание не давал.  \n",
    "* Потом понял, что бывают клиенты с несколькими покупками, между которыми расстояние меньше 45 дней, но с последней покупки они не делали новой в течении 45 дней - это тоже нужно учесть. Для этого пока код не написал.  \n",
    "\n",
    "* В конечном счете надо точно разобраться, что именно заказчик ожидает от таргета, что именно подразумевает под оттоком и какую логику флагования действительно стоит использовать.*\n",
    "</div> -->"
   ]
  },
  {
   "cell_type": "code",
   "execution_count": null,
   "id": "21e27b33-07e6-4e7c-b97e-593573c01583",
   "metadata": {},
   "outputs": [],
   "source": [
    "# Создаем фичу с дельтой в днях между покупками по каждому клиенту\n",
    "# def time_delta(col):\n",
    "#     return col.diff()\n",
    "\n",
    "# df['days_delta'] = df.groupby('clnt_ID')['timestamp'].transform(time_delta)\n",
    "# df['days_delta'] = df['days_delta'].dt.days\n",
    "# df['days_delta'] = df['days_delta'].fillna(-1) # Это делаем, чтобы значение \"вообще не было покупок ранее\" отличалось от \"прошло 0 дней с прошлой покупки\""
   ]
  },
  {
   "cell_type": "code",
   "execution_count": null,
   "id": "1c8c192b-d701-4bec-9a5b-7d14fc122536",
   "metadata": {
    "tags": []
   },
   "outputs": [],
   "source": [
    "# df.head()"
   ]
  },
  {
   "cell_type": "code",
   "execution_count": null,
   "id": "2ed1ea14-839b-439d-a951-ca392f544bb3",
   "metadata": {
    "tags": []
   },
   "outputs": [],
   "source": [
    "# df.tail()"
   ]
  },
  {
   "cell_type": "code",
   "execution_count": null,
   "id": "c09a2865-68db-43f7-9b51-3bdbc14bf9b8",
   "metadata": {},
   "outputs": [],
   "source": [
    "# Делаем признак больше или равна ли дельта 45\n",
    "# df['delta>=45'] = df['days_delta'] >= 45"
   ]
  },
  {
   "cell_type": "code",
   "execution_count": null,
   "id": "9a2a2cdf-8de5-487b-8ca6-db2f7f9fcef8",
   "metadata": {},
   "outputs": [],
   "source": [
    "# df.head()"
   ]
  },
  {
   "cell_type": "code",
   "execution_count": null,
   "id": "309f37dc-ab2b-4d98-a4bb-9cb7c1be6b1f",
   "metadata": {},
   "outputs": [],
   "source": [
    "# df.tail()"
   ]
  },
  {
   "cell_type": "code",
   "execution_count": null,
   "id": "a1225cae-0f82-47f4-ade7-5b45e1c03f3f",
   "metadata": {},
   "outputs": [],
   "source": [
    "# df[df['delta>=45'] == True].head()"
   ]
  },
  {
   "cell_type": "code",
   "execution_count": null,
   "id": "ea278e5a-12b4-4c0b-b713-df6d0a04a02c",
   "metadata": {},
   "outputs": [],
   "source": [
    "# df[df['delta>=45'] == True].tail()"
   ]
  },
  {
   "cell_type": "code",
   "execution_count": null,
   "id": "3a9650f6-c1b5-49c0-b516-abcbfd13eafa",
   "metadata": {},
   "outputs": [],
   "source": [
    "# Нам нужно понять единственная ли это покупка\n",
    "# И последняя ли это покупка, чтобы посмотреть прошло ли с последней покупки 45 дней\n",
    "\n",
    "# Создадим признак с номером покупки\n",
    "# def expand_count(col):\n",
    "#     return col.expanding().count()\n",
    "\n",
    "# df['clnt_buys_count'] = df.groupby('clnt_ID')['timestamp'].transform(expand_count)"
   ]
  },
  {
   "cell_type": "code",
   "execution_count": null,
   "id": "290174ce-c54f-4420-b4ff-1037b8aa1568",
   "metadata": {},
   "outputs": [],
   "source": [
    "# df.head()"
   ]
  },
  {
   "cell_type": "code",
   "execution_count": null,
   "id": "734414a8-2d90-4792-9394-abb9ca42cbe8",
   "metadata": {},
   "outputs": [],
   "source": [
    "# df.tail()"
   ]
  },
  {
   "cell_type": "code",
   "execution_count": null,
   "id": "dd821aa9-4dcf-479f-9b9a-0198cadfcaae",
   "metadata": {},
   "outputs": [],
   "source": [
    "# Нам нужно понять единственная ли это покупка 2\n",
    "\n",
    "# Для этого создадим столбец с максимальным кол-вом покупок клиента\n",
    "# df['max_buys_count'] = df.groupby('clnt_ID')['clnt_buys_count'].transform('max')\n",
    "\n",
    "# Если он равен 1, то покупок было всего 1\n",
    "# df['just_1_buy'] = df['max_buys_count'] == 1"
   ]
  },
  {
   "cell_type": "code",
   "execution_count": null,
   "id": "ab519b20-58e2-4ab2-9c7f-e9934b742e46",
   "metadata": {},
   "outputs": [],
   "source": [
    "# df[df['max_buys_count'] == 1]"
   ]
  },
  {
   "cell_type": "code",
   "execution_count": null,
   "id": "2f552a88-1113-4622-8a7e-b09cdeb15f4f",
   "metadata": {},
   "outputs": [],
   "source": [
    "# Здесь нужно понять последняя ли покупка текущая и не единственная ли она\n",
    "# df['last_buy_out_of_more_than_1'] = (df['just_1_buy'] == False)&(df['clnt_buys_count'] == df['max_buys_count'])"
   ]
  },
  {
   "cell_type": "code",
   "execution_count": null,
   "id": "14935d2b-24ff-4ca9-abf0-e3ee2f7af57f",
   "metadata": {},
   "outputs": [],
   "source": [
    "# df[df['clnt_buys_count'] == df['max_buys_count']]"
   ]
  },
  {
   "cell_type": "code",
   "execution_count": null,
   "id": "a0e928c5-27c1-48ed-ab29-48414556cad6",
   "metadata": {},
   "outputs": [],
   "source": [
    "# # Теперь представим, что мы в конце года. 2021-12-31\n",
    "# # И отсечем все сделки, которые произошли на текущий день минус 45 дней.\n",
    "# hypothetical_now = pd.Timestamp('2021-12-31')\n",
    "# hypothetical_45_days_before = hypothetical_now - pd.Timedelta(value=45,unit='days')\n",
    "# df['more_than_45_till_now'] = df['timestamp'] < hypothetical_45_days_before"
   ]
  },
  {
   "cell_type": "code",
   "execution_count": null,
   "id": "5a6c30d0-9bf7-4514-99dd-d44cc2f7d177",
   "metadata": {},
   "outputs": [],
   "source": [
    "# hypothetical_45_days_before"
   ]
  },
  {
   "cell_type": "code",
   "execution_count": null,
   "id": "9741103f-f189-4c24-8621-bf40ae1038d6",
   "metadata": {},
   "outputs": [],
   "source": [
    "# df[~(df['timestamp'] < hypothetical_45_days_before)]"
   ]
  },
  {
   "cell_type": "code",
   "execution_count": null,
   "id": "ea7528bc-7898-4c7f-9655-8fd68a0787a0",
   "metadata": {},
   "outputs": [],
   "source": [
    "# # Теперь делаем таргет\n",
    "# # Ставим 1 в тех сделках, в которых дельта >= 45\n",
    "# # И в тех, в которых это последняя покупка и прошло больше 45 дней (на условный текущий момент)\n",
    "# df_target_extracted = df['delta>=45'] | (df['last_buy_out_of_more_than_1']&df['more_than_45_till_now'])\n",
    "# df_target_extracted.name = 'target'"
   ]
  },
  {
   "cell_type": "markdown",
   "id": "1546a14a-27b1-4f8a-9054-306641bdd124",
   "metadata": {},
   "source": [
    "Посмотрим на распределение таргета в текущем датасете (по сделкам)."
   ]
  },
  {
   "cell_type": "code",
   "execution_count": null,
   "id": "6ca3f65e-f351-4307-abbd-a87245625443",
   "metadata": {},
   "outputs": [],
   "source": [
    "# pd.concat([df_target_extracted.value_counts(),df_target_extracted.value_counts(normalize=True)],axis=1)"
   ]
  },
  {
   "cell_type": "markdown",
   "id": "921b11a1-a406-4297-a0dd-460aea6c6de2",
   "metadata": {},
   "source": [
    "Посмотрим на баланс таргета по клиентам."
   ]
  },
  {
   "cell_type": "code",
   "execution_count": null,
   "id": "54c1c70f-d178-442e-8d1a-864c945360ae",
   "metadata": {},
   "outputs": [],
   "source": [
    "# temp_df = pd.concat([df.iloc[:,0],df_target_extracted],axis=1).groupby('clnt_ID').max()\n",
    "# pd.concat([temp_df.value_counts(),temp_df.value_counts(normalize=True)],axis=1)"
   ]
  },
  {
   "cell_type": "markdown",
   "id": "63c0e64f-f516-45a8-bf79-7b5e7d7b245f",
   "metadata": {},
   "source": [
    "И сравним его с таргетом заказчика."
   ]
  },
  {
   "cell_type": "code",
   "execution_count": null,
   "id": "3413ff31-251b-41b3-a6ba-df8ebbe5aac3",
   "metadata": {},
   "outputs": [],
   "source": [
    "# Посмотрим и сравним с таргетом, который был даден заказчиком\n",
    "# pd.concat([df_target['target'].value_counts(),df_target['target'].value_counts(normalize=True)],axis=1)"
   ]
  },
  {
   "cell_type": "markdown",
   "id": "be41c7dd-6b6f-4e3d-9a91-cacff4efb010",
   "metadata": {},
   "source": [
    "### Проверка на дисбаланс"
   ]
  },
  {
   "cell_type": "code",
   "execution_count": 25,
   "id": "1d4a37bc-ac34-45db-b82c-485032cdbd5e",
   "metadata": {},
   "outputs": [
    {
     "data": {
      "text/plain": [
       "0    128857\n",
       "1    126252\n",
       "Name: target, dtype: int64"
      ]
     },
     "execution_count": 25,
     "metadata": {},
     "output_type": "execute_result"
    }
   ],
   "source": [
    "df_target['target'].value_counts()"
   ]
  },
  {
   "cell_type": "code",
   "execution_count": 26,
   "id": "a5288039-3c88-4dba-8513-194045bfcdd5",
   "metadata": {},
   "outputs": [
    {
     "data": {
      "text/html": [
       "<div>\n",
       "<style scoped>\n",
       "    .dataframe tbody tr th:only-of-type {\n",
       "        vertical-align: middle;\n",
       "    }\n",
       "\n",
       "    .dataframe tbody tr th {\n",
       "        vertical-align: top;\n",
       "    }\n",
       "\n",
       "    .dataframe thead th {\n",
       "        text-align: right;\n",
       "    }\n",
       "</style>\n",
       "<table border=\"1\" class=\"dataframe\">\n",
       "  <thead>\n",
       "    <tr style=\"text-align: right;\">\n",
       "      <th></th>\n",
       "      <th>clnt_ID</th>\n",
       "      <th>target</th>\n",
       "    </tr>\n",
       "  </thead>\n",
       "  <tbody>\n",
       "    <tr>\n",
       "      <th>0</th>\n",
       "      <td>000070A8-DB9E-4AB7-8C4D-6169D4AEBB2A</td>\n",
       "      <td>1</td>\n",
       "    </tr>\n",
       "    <tr>\n",
       "      <th>2</th>\n",
       "      <td>0000993D-A30E-4233-AB3F-D368D9A0D2C4</td>\n",
       "      <td>1</td>\n",
       "    </tr>\n",
       "    <tr>\n",
       "      <th>7</th>\n",
       "      <td>00016D70-0C71-43C8-ABE7-392529EFE726</td>\n",
       "      <td>1</td>\n",
       "    </tr>\n",
       "    <tr>\n",
       "      <th>8</th>\n",
       "      <td>00017942-E555-4792-B5AF-F24991EF2F2F</td>\n",
       "      <td>1</td>\n",
       "    </tr>\n",
       "    <tr>\n",
       "      <th>9</th>\n",
       "      <td>000179CF-780B-4BC7-B356-021843E7F8B3</td>\n",
       "      <td>1</td>\n",
       "    </tr>\n",
       "    <tr>\n",
       "      <th>...</th>\n",
       "      <td>...</td>\n",
       "      <td>...</td>\n",
       "    </tr>\n",
       "    <tr>\n",
       "      <th>255102</th>\n",
       "      <td>FFFE6368-2CD1-421B-A086-8937D2CEC47A</td>\n",
       "      <td>1</td>\n",
       "    </tr>\n",
       "    <tr>\n",
       "      <th>255105</th>\n",
       "      <td>FFFF364C-972B-4F77-9A75-AF62F01E6B7B</td>\n",
       "      <td>1</td>\n",
       "    </tr>\n",
       "    <tr>\n",
       "      <th>255106</th>\n",
       "      <td>FFFF3BC7-D0FB-4630-8D09-1D4088C5A297</td>\n",
       "      <td>1</td>\n",
       "    </tr>\n",
       "    <tr>\n",
       "      <th>255107</th>\n",
       "      <td>FFFF788D-F1CF-4A74-B825-FAF05BC062C1</td>\n",
       "      <td>1</td>\n",
       "    </tr>\n",
       "    <tr>\n",
       "      <th>255108</th>\n",
       "      <td>FFFFBA18-758F-4CAF-8437-1E0A73670F7D</td>\n",
       "      <td>1</td>\n",
       "    </tr>\n",
       "  </tbody>\n",
       "</table>\n",
       "<p>126252 rows × 2 columns</p>\n",
       "</div>"
      ],
      "text/plain": [
       "                                     clnt_ID  target\n",
       "0       000070A8-DB9E-4AB7-8C4D-6169D4AEBB2A       1\n",
       "2       0000993D-A30E-4233-AB3F-D368D9A0D2C4       1\n",
       "7       00016D70-0C71-43C8-ABE7-392529EFE726       1\n",
       "8       00017942-E555-4792-B5AF-F24991EF2F2F       1\n",
       "9       000179CF-780B-4BC7-B356-021843E7F8B3       1\n",
       "...                                      ...     ...\n",
       "255102  FFFE6368-2CD1-421B-A086-8937D2CEC47A       1\n",
       "255105  FFFF364C-972B-4F77-9A75-AF62F01E6B7B       1\n",
       "255106  FFFF3BC7-D0FB-4630-8D09-1D4088C5A297       1\n",
       "255107  FFFF788D-F1CF-4A74-B825-FAF05BC062C1       1\n",
       "255108  FFFFBA18-758F-4CAF-8437-1E0A73670F7D       1\n",
       "\n",
       "[126252 rows x 2 columns]"
      ]
     },
     "execution_count": 26,
     "metadata": {},
     "output_type": "execute_result"
    }
   ],
   "source": [
    "df_target[df_target['target'] == 1]"
   ]
  },
  {
   "cell_type": "code",
   "execution_count": 27,
   "id": "1e3bec3b-a91a-48f3-8557-896532cd4d19",
   "metadata": {},
   "outputs": [
    {
     "data": {
      "text/html": [
       "<div>\n",
       "<style scoped>\n",
       "    .dataframe tbody tr th:only-of-type {\n",
       "        vertical-align: middle;\n",
       "    }\n",
       "\n",
       "    .dataframe tbody tr th {\n",
       "        vertical-align: top;\n",
       "    }\n",
       "\n",
       "    .dataframe thead th {\n",
       "        text-align: right;\n",
       "    }\n",
       "</style>\n",
       "<table border=\"1\" class=\"dataframe\">\n",
       "  <thead>\n",
       "    <tr style=\"text-align: right;\">\n",
       "      <th></th>\n",
       "      <th>timestamp</th>\n",
       "      <th>gest_Sum</th>\n",
       "      <th>gest_Discount</th>\n",
       "    </tr>\n",
       "    <tr>\n",
       "      <th>clnt_ID</th>\n",
       "      <th></th>\n",
       "      <th></th>\n",
       "      <th></th>\n",
       "    </tr>\n",
       "  </thead>\n",
       "  <tbody>\n",
       "    <tr>\n",
       "      <th>000070A8-DB9E-4AB7-8C4D-6169D4AEBB2A</th>\n",
       "      <td>3</td>\n",
       "      <td>3</td>\n",
       "      <td>3</td>\n",
       "    </tr>\n",
       "    <tr>\n",
       "      <th>0000993D-A30E-4233-AB3F-D368D9A0D2C4</th>\n",
       "      <td>1</td>\n",
       "      <td>1</td>\n",
       "      <td>1</td>\n",
       "    </tr>\n",
       "    <tr>\n",
       "      <th>00016D70-0C71-43C8-ABE7-392529EFE726</th>\n",
       "      <td>30</td>\n",
       "      <td>30</td>\n",
       "      <td>30</td>\n",
       "    </tr>\n",
       "    <tr>\n",
       "      <th>00017942-E555-4792-B5AF-F24991EF2F2F</th>\n",
       "      <td>12</td>\n",
       "      <td>12</td>\n",
       "      <td>12</td>\n",
       "    </tr>\n",
       "    <tr>\n",
       "      <th>000179CF-780B-4BC7-B356-021843E7F8B3</th>\n",
       "      <td>1</td>\n",
       "      <td>1</td>\n",
       "      <td>1</td>\n",
       "    </tr>\n",
       "    <tr>\n",
       "      <th>...</th>\n",
       "      <td>...</td>\n",
       "      <td>...</td>\n",
       "      <td>...</td>\n",
       "    </tr>\n",
       "    <tr>\n",
       "      <th>FFFE6368-2CD1-421B-A086-8937D2CEC47A</th>\n",
       "      <td>3</td>\n",
       "      <td>3</td>\n",
       "      <td>3</td>\n",
       "    </tr>\n",
       "    <tr>\n",
       "      <th>FFFF364C-972B-4F77-9A75-AF62F01E6B7B</th>\n",
       "      <td>1</td>\n",
       "      <td>1</td>\n",
       "      <td>1</td>\n",
       "    </tr>\n",
       "    <tr>\n",
       "      <th>FFFF3BC7-D0FB-4630-8D09-1D4088C5A297</th>\n",
       "      <td>2</td>\n",
       "      <td>2</td>\n",
       "      <td>2</td>\n",
       "    </tr>\n",
       "    <tr>\n",
       "      <th>FFFF788D-F1CF-4A74-B825-FAF05BC062C1</th>\n",
       "      <td>1</td>\n",
       "      <td>1</td>\n",
       "      <td>1</td>\n",
       "    </tr>\n",
       "    <tr>\n",
       "      <th>FFFFBA18-758F-4CAF-8437-1E0A73670F7D</th>\n",
       "      <td>26</td>\n",
       "      <td>26</td>\n",
       "      <td>26</td>\n",
       "    </tr>\n",
       "  </tbody>\n",
       "</table>\n",
       "<p>126252 rows × 3 columns</p>\n",
       "</div>"
      ],
      "text/plain": [
       "                                      timestamp  gest_Sum  gest_Discount\n",
       "clnt_ID                                                                 \n",
       "000070A8-DB9E-4AB7-8C4D-6169D4AEBB2A          3         3              3\n",
       "0000993D-A30E-4233-AB3F-D368D9A0D2C4          1         1              1\n",
       "00016D70-0C71-43C8-ABE7-392529EFE726         30        30             30\n",
       "00017942-E555-4792-B5AF-F24991EF2F2F         12        12             12\n",
       "000179CF-780B-4BC7-B356-021843E7F8B3          1         1              1\n",
       "...                                         ...       ...            ...\n",
       "FFFE6368-2CD1-421B-A086-8937D2CEC47A          3         3              3\n",
       "FFFF364C-972B-4F77-9A75-AF62F01E6B7B          1         1              1\n",
       "FFFF3BC7-D0FB-4630-8D09-1D4088C5A297          2         2              2\n",
       "FFFF788D-F1CF-4A74-B825-FAF05BC062C1          1         1              1\n",
       "FFFFBA18-758F-4CAF-8437-1E0A73670F7D         26        26             26\n",
       "\n",
       "[126252 rows x 3 columns]"
      ]
     },
     "execution_count": 27,
     "metadata": {},
     "output_type": "execute_result"
    }
   ],
   "source": [
    "df[df['clnt_ID'].isin(df_target[df_target['target'] == 1]['clnt_ID'])].groupby('clnt_ID').count()"
   ]
  },
  {
   "cell_type": "markdown",
   "id": "86197657-b849-4e40-93c1-17973a52d0bb",
   "metadata": {},
   "source": [
    "## Поиск аномалий в данных"
   ]
  },
  {
   "cell_type": "markdown",
   "id": "a72238d1-e4b3-48cf-a71a-3e7a4aec32a2",
   "metadata": {},
   "source": [
    "Для поиска аномалий воспользуемся собственной функцией подсчета статистик числовых признаков (но не даты)."
   ]
  },
  {
   "cell_type": "code",
   "execution_count": null,
   "id": "7338be18-7e2b-4b92-994b-60eece8e8671",
   "metadata": {
    "jupyter": {
     "source_hidden": true
    },
    "tags": []
   },
   "outputs": [],
   "source": [
    "def describe(col):\n",
    "    \"\"\"\n",
    "    Функция выводит подробное числовое описание данных.\n",
    "    \"\"\"\n",
    "\n",
    "#     Подсчет количества значений\n",
    "    count_ = col.count()\n",
    "    \n",
    "#     Меры центральной тенденции:\n",
    "#     Среднее\n",
    "    mean = col.mean()\n",
    "#     Медиана\n",
    "    median = col.median()\n",
    "#     Мода\n",
    "    mode = col.mode()\n",
    "\n",
    "#     Меры разброса\n",
    "#     Дисперсия\n",
    "    var = col.var()\n",
    "#     Стандартное отклонение\n",
    "    stddev = col.std()\n",
    "#     Межквартильный размах\n",
    "    quartile_1 = col.quantile(0.25)\n",
    "    quartile_3 = col.quantile(0.75)\n",
    "    iqr = quartile_3 - quartile_1\n",
    "#     Мин, макс, размах\n",
    "    min_ = col.min()\n",
    "    max_ = col.max()\n",
    "    range_ = max_ - min_\n",
    "\n",
    "#     Левая граница ящика с усами\n",
    "    outlier_border_left = quartile_1 - 1.5 * iqr\n",
    "#     Правая граница ящика с усами\n",
    "    outlier_border_right = quartile_3 + 1.5 * iqr\n",
    "    \n",
    "#    Количество выбросов\n",
    "    outliers_mask = (col <= outlier_border_left) | (col >= outlier_border_right)\n",
    "    outliers_count = col.loc[outliers_mask].count()\n",
    "    outliers_proportion = outliers_count / count_\n",
    "    \n",
    "#     Создание и вывод таблицы с числовым описанием данных\n",
    "    describe_ = {\"count\": count_,\n",
    "                 \"mean\": mean,\n",
    "                 \"mode\": mode,\n",
    "                 \"var\": var,\n",
    "                 \"stddev\": stddev,\n",
    "                 \"min\": min_,\n",
    "                 \"25%\": quartile_1,\n",
    "                 \"50%\": median,\n",
    "                 \"75%\": quartile_3,\n",
    "                 \"max\": max_,\n",
    "                 \"total_range\": range_,\n",
    "                 \"interquartile_range\": iqr,\n",
    "                 \"outlier_border_left\": outlier_border_left,\n",
    "                 \"outlier_border_right\": outlier_border_right,\n",
    "                 \"outliers_count\": outliers_count,\n",
    "                 \"outliers_proportion\": outliers_proportion}\n",
    "    describe_ = pd.DataFrame(describe_).transpose()\n",
    "    describe_.columns = [col.name]\n",
    "    return describe_\n",
    "\n",
    "# describe(t_0)"
   ]
  },
  {
   "cell_type": "markdown",
   "id": "2f93a88f-eb68-4390-84f6-5e4253c47783",
   "metadata": {},
   "source": [
    "**timestamp**"
   ]
  },
  {
   "cell_type": "code",
   "execution_count": null,
   "id": "1fc373c8-a858-4101-b54c-73ac7782e9e7",
   "metadata": {},
   "outputs": [],
   "source": [
    "df['timestamp'].describe(datetime_is_numeric=True)"
   ]
  },
  {
   "cell_type": "code",
   "execution_count": null,
   "id": "c6396d75-eaf6-48c1-a5e5-bcb2a503742c",
   "metadata": {},
   "outputs": [],
   "source": [
    "fig,ax = plt.subplots(figsize=(15,8))\n",
    "sns.histplot(x=df['timestamp'].dt.date,ax=ax)\n",
    "plt.show()\n"
   ]
  },
  {
   "cell_type": "markdown",
   "id": "827ad54b-49d4-4d77-abdb-54761d5503c8",
   "metadata": {},
   "source": [
    "* Есть пик в районе 2021-05\n",
    "* \"Яма\" - 2021-11"
   ]
  },
  {
   "cell_type": "markdown",
   "id": "7727741d-b903-4454-8600-8f055980bac7",
   "metadata": {},
   "source": [
    "**gest_Sum**"
   ]
  },
  {
   "cell_type": "code",
   "execution_count": null,
   "id": "24f47211-aa19-4460-9cab-10f2ad68da55",
   "metadata": {},
   "outputs": [],
   "source": [
    "describe(df['gest_Sum'])"
   ]
  },
  {
   "cell_type": "markdown",
   "id": "cf02fe08-073d-41c0-a308-8a2f73cfaff8",
   "metadata": {},
   "source": [
    "<!-- * Есть 0. Что они значат? -->\n",
    "* Есть ~6% выборосов."
   ]
  },
  {
   "cell_type": "markdown",
   "id": "f327b8c4-52b0-4fcc-aacd-c0c341e19660",
   "metadata": {},
   "source": [
    "Сколько нулей?"
   ]
  },
  {
   "cell_type": "markdown",
   "id": "be274cb5-5568-48b3-ad0a-94969e3b2af6",
   "metadata": {},
   "source": [
    "**Нужно здесь обнаружить нули и убрать их.** **<<<<<<<<<<<<<<<<<<**"
   ]
  },
  {
   "cell_type": "code",
   "execution_count": null,
   "id": "d38cf951-bbb9-4220-b0f9-daa96d3d02f4",
   "metadata": {},
   "outputs": [],
   "source": [
    "# df['gest_Sum'].value_counts().sort_index()[0:10]\n",
    "# gest_Sum_zeros_count = df['gest_Sum'].value_counts().sort_index()[0]\n",
    "# print(f'Нулей в \"gest_Sum\": {gest_Sum_zeros_count}')\n"
   ]
  },
  {
   "cell_type": "code",
   "execution_count": null,
   "id": "140398f9-3fe1-4439-9a75-532e22486803",
   "metadata": {
    "tags": []
   },
   "outputs": [],
   "source": [
    "fig,ax = plt.subplots(2,1,figsize=(15,8))\n",
    "sns.histplot(x=df['gest_Sum'],ax=ax[0],binwidth=10)\n",
    "sns.boxplot(x=df['gest_Sum'],ax=ax[1])\n",
    "# ax.set_xlim(0,1200)\n",
    "plt.show()\n",
    "# ДОБАВИТЬ НАЗВАНИЕ ГРАФИКОВ И ОСЕЙ"
   ]
  },
  {
   "cell_type": "code",
   "execution_count": null,
   "id": "6a4af79c-3e3a-49ba-9c09-74a12322e604",
   "metadata": {},
   "outputs": [],
   "source": [
    "fig,ax = plt.subplots(1,1,figsize=(15,5))\n",
    "sns.histplot(x=df['gest_Sum'],ax=ax,binwidth=10,binrange=(0,1500))\n",
    "\n",
    "plt.show()\n",
    "# ДОБАВИТЬ НАЗВАНИЕ ГРАФИКОВ И ОСЕЙ"
   ]
  },
  {
   "cell_type": "markdown",
   "id": "f590f374-5f6e-4013-892f-9ee913aa310e",
   "metadata": {},
   "source": [
    "* Есть пик в районе 100 руб. Кофе?"
   ]
  },
  {
   "cell_type": "markdown",
   "id": "124d6f97-f49d-4123-88ab-1b2578fa4eec",
   "metadata": {},
   "source": [
    "**gest_Discount**"
   ]
  },
  {
   "cell_type": "code",
   "execution_count": null,
   "id": "95b28e07-7a9d-42b9-a66d-7d3c7e122ba8",
   "metadata": {},
   "outputs": [],
   "source": [
    "describe(df['gest_Discount'])"
   ]
  },
  {
   "cell_type": "markdown",
   "id": "8b611590-5e63-4ff4-b54f-6caa83d05c49",
   "metadata": {},
   "source": [
    "* Почти 10% выбросов."
   ]
  },
  {
   "cell_type": "code",
   "execution_count": null,
   "id": "ff06cd01-1f50-4bc8-9aea-2cafdecca114",
   "metadata": {},
   "outputs": [],
   "source": [
    "fig,ax = plt.subplots(2,1,figsize=(15,8))\n",
    "sns.histplot(x=df['gest_Discount'],ax=ax[0],binwidth=1)\n",
    "sns.boxplot(x=df['gest_Discount'],ax=ax[1])\n",
    "# ax.set_xlim(0,1200)\n",
    "plt.show()\n",
    "# ДОБАВИТЬ НАЗВАНИЕ ГРАФИКОВ И ОСЕЙ"
   ]
  },
  {
   "cell_type": "code",
   "execution_count": null,
   "id": "73e35894-43f4-4a88-923a-a2b31c75a168",
   "metadata": {},
   "outputs": [],
   "source": [
    "fig,ax = plt.subplots(1,1,figsize=(15,5))\n",
    "sns.histplot(x=df['gest_Discount'],ax=ax,binwidth=1,binrange=(0,100))\n",
    "\n",
    "plt.show()\n",
    "# ДОБАВИТЬ НАЗВАНИЕ ГРАФИКОВ И ОСЕЙ"
   ]
  },
  {
   "cell_type": "markdown",
   "id": "529adb5f-7708-4bc3-bc0d-fceeee741d41",
   "metadata": {},
   "source": [
    "Посчитаем кол-во скидок равных 0."
   ]
  },
  {
   "cell_type": "code",
   "execution_count": null,
   "id": "36987f03-9d24-4935-b7f4-9372fd8b9e7d",
   "metadata": {},
   "outputs": [],
   "source": [
    "pd.concat([df['gest_Discount'].value_counts().iloc[0:5],df['gest_Discount'].value_counts(normalize=True).iloc[0:5]],axis=1)"
   ]
  },
  {
   "cell_type": "code",
   "execution_count": null,
   "id": "09fff699-6472-4621-8673-7b5495ff001b",
   "metadata": {},
   "outputs": [],
   "source": [
    "gest_Discount_zeros_count = df['gest_Discount'].value_counts()[0]\n",
    "print(f'Кол-во нулей в \"gest_Discount\": {gest_Discount_zeros_count}')\n",
    "gest_Discount_zeros_count = df['gest_Discount'].value_counts(normalize=True)[0]\n",
    "print(f'Процентов нулей в \"gest_Discount\" от общего числа: {gest_Discount_zeros_count:.02%}')"
   ]
  },
  {
   "cell_type": "markdown",
   "id": "3015cb9d-1cda-4702-94a2-e482b3772600",
   "metadata": {},
   "source": [
    "## Сравнение признаков с разделение по целевому классу"
   ]
  },
  {
   "cell_type": "markdown",
   "id": "e1a4511b-6ee6-4fd2-a898-74ba9bb7a805",
   "metadata": {},
   "source": [
    "**Сравнение по стоимости покупки за вычетом скидки 'gest_Sum'**"
   ]
  },
  {
   "cell_type": "code",
   "execution_count": null,
   "id": "5aef71c8-e17c-4e3b-98ca-f5bb9baca89a",
   "metadata": {},
   "outputs": [],
   "source": [
    "# df_eda_orig = df.merge(df_target,on='clnt_ID')\n",
    "df_eda_new = df.merge(df_target_extracted,on='clnt_ID')\n",
    "# display(df_eda_orig.head())\n",
    "df_eda_new.head()"
   ]
  },
  {
   "cell_type": "code",
   "execution_count": null,
   "id": "c332ee2a-e807-4773-a223-cc10f0688904",
   "metadata": {},
   "outputs": [],
   "source": [
    "# # По оригинальному таргету\n",
    "# fig, ax = plt.subplots(1, 1, figsize=(10, 4))\n",
    "# sns.boxplot(x='gest_Sum', y='target', data=df_eda_orig, ax=ax,orient='h')\n",
    "# ax.set_xlim(0,1500)\n",
    "# plt.show()\n",
    "# # ДОБАВИТЬ НАЗВАНИЕ ГРАФИКОВ И ОСЕЙ"
   ]
  },
  {
   "cell_type": "code",
   "execution_count": null,
   "id": "1b598334-007e-42bb-9429-8b5f8fe505d6",
   "metadata": {},
   "outputs": [],
   "source": [
    "# По новому таргету\n",
    "fig, ax = plt.subplots(1, 1, figsize=(10, 4))\n",
    "sns.boxplot(x='gest_Sum', y='target_ext', data=df_eda_new, ax=ax,orient='h')\n",
    "ax.set_xlim(0,1500)\n",
    "plt.show()\n",
    "# ДОБАВИТЬ НАЗВАНИЕ ГРАФИКОВ И ОСЕЙ"
   ]
  },
  {
   "cell_type": "markdown",
   "id": "d559abec-2bd5-4709-930e-15bed959ee10",
   "metadata": {},
   "source": [
    "* Напоминает разовые крупные покупки. Типа в день рождения купить большой торт - это редкие клиенты.\n",
    "* А те, кто в отток не попадает, покупает переодично и поменьше."
   ]
  },
  {
   "cell_type": "markdown",
   "id": "e4b16c20-b954-4f04-bbe1-4032b3bcd964",
   "metadata": {},
   "source": [
    "**Сравнение по скидке 'gest_Discount'**"
   ]
  },
  {
   "cell_type": "code",
   "execution_count": null,
   "id": "5d50be66-3778-4adb-ae3c-e79110e81fa0",
   "metadata": {},
   "outputs": [],
   "source": [
    "# # По оригинальному таргету\n",
    "# fig, ax = plt.subplots(1, 1, figsize=(10, 4))\n",
    "# sns.boxplot(x='gest_Discount', y='target', data=df_eda_orig, ax=ax,orient='h')\n",
    "# ax.set_xlim(0,200)\n",
    "# plt.show()\n",
    "# # ДОБАВИТЬ НАЗВАНИЕ ГРАФИКОВ И ОСЕЙ"
   ]
  },
  {
   "cell_type": "code",
   "execution_count": null,
   "id": "c3d5043c-c078-4698-b26f-1b2c66f36974",
   "metadata": {},
   "outputs": [],
   "source": [
    "# По новому таргету\n",
    "fig, ax = plt.subplots(1, 1, figsize=(10, 4))\n",
    "sns.boxplot(x='gest_Discount', y='target_ext', data=df_eda_new, ax=ax,orient='h')\n",
    "ax.set_xlim(0,200)\n",
    "plt.show()\n",
    "# ДОБАВИТЬ НАЗВАНИЕ ГРАФИКОВ И ОСЕЙ"
   ]
  },
  {
   "cell_type": "markdown",
   "id": "a6ead380-9f43-47a8-87f7-4471a3902324",
   "metadata": {},
   "source": [
    "* У тех, кто остается есть какая-то скидка\n",
    "* У тех, кто уходит в отток - никакой скидки нет."
   ]
  },
  {
   "cell_type": "markdown",
   "id": "47a61fc2-2a66-4f33-92e9-651dd8c649fe",
   "metadata": {},
   "source": [
    "**Сравнение по общей стоимости чека ('gest_Sum'+'gest_Discount')**"
   ]
  },
  {
   "cell_type": "markdown",
   "id": "3a11e0ba-4e6b-4618-b268-3113704b2fd8",
   "metadata": {},
   "source": [
    "Здесь нужно создать столбец с общей стоимостью чека."
   ]
  },
  {
   "cell_type": "code",
   "execution_count": null,
   "id": "f8258693-cbe7-48fb-853c-50b6d2e9fa5f",
   "metadata": {
    "tags": []
   },
   "outputs": [],
   "source": [
    "# df_eda_orig['gest_Total'] = df_eda_orig['gest_Sum'] + df_eda_orig['gest_Discount'] \n",
    "# df_eda_orig.head()"
   ]
  },
  {
   "cell_type": "code",
   "execution_count": null,
   "id": "d429d34e-ea0e-4914-b0fa-dc7b1bdde27b",
   "metadata": {
    "tags": []
   },
   "outputs": [],
   "source": [
    "df_eda_new['gest_Total'] = df_eda_new['gest_Sum'] + df_eda_new['gest_Discount']\n",
    "df_eda_new.head()"
   ]
  },
  {
   "cell_type": "code",
   "execution_count": null,
   "id": "4f095bc1-0906-4ff1-861e-86b4d8d554f1",
   "metadata": {},
   "outputs": [],
   "source": [
    "# # По оригинальному таргету\n",
    "# fig, ax = plt.subplots(1, 1, figsize=(10, 4))\n",
    "# sns.boxplot(x='gest_Total', y='target', data=df_eda_orig, ax=ax,orient='h')\n",
    "# ax.set_xlim(0,1500)\n",
    "# plt.show()\n",
    "# # ДОБАВИТЬ НАЗВАНИЕ ГРАФИКОВ И ОСЕЙ"
   ]
  },
  {
   "cell_type": "code",
   "execution_count": null,
   "id": "87b766f7-f759-4d81-95bc-37fdebfc931b",
   "metadata": {},
   "outputs": [],
   "source": [
    "# По новому таргету\n",
    "fig, ax = plt.subplots(1, 1, figsize=(10, 4))\n",
    "sns.boxplot(x='gest_Total', y='target_ext', data=df_eda_new, ax=ax,orient='h')\n",
    "ax.set_xlim(0,1500)\n",
    "plt.show()\n",
    "# ДОБАВИТЬ НАЗВАНИЕ ГРАФИКОВ И ОСЕЙ"
   ]
  },
  {
   "cell_type": "markdown",
   "id": "61035b38-7335-4b3d-9bd5-858691ddabab",
   "metadata": {},
   "source": [
    "* Здесь боксплот говорит примерно о том же, что в gest_Sum выше."
   ]
  },
  {
   "cell_type": "markdown",
   "id": "dff73bb7-4b27-41c2-9ae2-7801598d4e90",
   "metadata": {},
   "source": [
    "**Сравнение зависимости gest_Sum от gest_Discount с разделением по таргету**"
   ]
  },
  {
   "cell_type": "code",
   "execution_count": null,
   "id": "16b3e02e-20a6-4609-aadd-e6b93475b7f1",
   "metadata": {},
   "outputs": [],
   "source": [
    "# sns.relplot(x=\"gest_Sum\", y=\"gest_Discount\", hue=\"target\", data=df_eda_orig);\n",
    "# # ДОБАВИТЬ НАЗВАНИЕ ГРАФИКОВ И ОСЕЙ"
   ]
  },
  {
   "cell_type": "markdown",
   "id": "63247f09-c94f-4758-8a3a-39064623a62b",
   "metadata": {},
   "source": [
    "Похоже на то, что есть система фиксированных скидок и есть накопительные баллы или акции. Прямые линии это фиксированные скидки."
   ]
  },
  {
   "cell_type": "code",
   "execution_count": null,
   "id": "5cb949d8-982b-4765-af1b-85e60de61975",
   "metadata": {},
   "outputs": [],
   "source": [
    "sns.relplot(x=\"gest_Sum\", y=\"gest_Discount\", hue=\"target_ext\", data=df_eda_new);\n",
    "# ДОБАВИТЬ НАЗВАНИЕ ГРАФИКОВ И ОСЕЙ"
   ]
  },
  {
   "cell_type": "markdown",
   "id": "85419954-234b-48ff-9f4d-740263df9c5d",
   "metadata": {},
   "source": [
    "* Видим много оттока при скидке = 0\n",
    "* Видим какую-то акцию, где скидка была 1000 руб.\n",
    "* Видим оставшихся с фиксированной скидкой (линия больше 45 градусов)"
   ]
  },
  {
   "cell_type": "markdown",
   "id": "c0a7a0c7-db20-4c1e-9ee0-a7438228040c",
   "metadata": {},
   "source": [
    "**Корреляция**"
   ]
  },
  {
   "cell_type": "code",
   "execution_count": null,
   "id": "a1c5d327-149f-4724-92d8-4bc8490065ce",
   "metadata": {},
   "outputs": [],
   "source": [
    "# orig_corr = df_eda_orig.corr()\n",
    "new_corr = df_eda_new.corr()"
   ]
  },
  {
   "cell_type": "code",
   "execution_count": null,
   "id": "eef158c1-7944-4053-b0c4-35322e3b7deb",
   "metadata": {},
   "outputs": [],
   "source": [
    "# fig,ax = plt.subplots(figsize=(7,7))\n",
    "# sns.heatmap(orig_corr, annot=True,ax=ax,vmin=-1,vmax=1,linewidth=.5,cmap=\"PiYG\",center=0,fmt='.2%')\n",
    "# plt.show()"
   ]
  },
  {
   "cell_type": "code",
   "execution_count": null,
   "id": "6390b309-ba3d-4bf4-ac87-350dea4f8f2d",
   "metadata": {},
   "outputs": [],
   "source": [
    "fig,ax = plt.subplots(figsize=(7,7))\n",
    "sns.heatmap(new_corr, annot=True,ax=ax,vmin=-1,vmax=1,linewidth=.5,cmap=\"PiYG\",center=0,fmt='.2%')\n",
    "plt.show()"
   ]
  },
  {
   "cell_type": "markdown",
   "id": "fbe4452b-19ef-4803-b2db-0031a8c66fef",
   "metadata": {},
   "source": [
    "Чего-то особого, кроме очевидного, здесь не обнаружено."
   ]
  },
  {
   "cell_type": "markdown",
   "id": "739afd3e-619f-4dba-abfb-a91a3679d060",
   "metadata": {
    "tags": []
   },
   "source": [
    "# Feature engineering"
   ]
  },
  {
   "cell_type": "markdown",
   "id": "8140bd56-4e11-4470-905b-5fd1593fd08a",
   "metadata": {},
   "source": [
    "Уже созданы:\n",
    "* Дельта в днях между ближайшими сделками (-1, если сделка первая) (Исследовать)\n",
    "* Флаг дельта >= 45 (Исследовать)\n",
    "* Номер покупки клиента\n",
    "* Максимальный номер покупки клиента\n",
    "* Флаг \"Клиент сделал всего 1 покупку за всю историю\"\n",
    "* Флаг \"Последняя сделка клиента в этих данных при условии, что покупок было больше 1\""
   ]
  },
  {
   "cell_type": "markdown",
   "id": "2a55cbb5-9227-4111-abdf-f4826f09b8e2",
   "metadata": {},
   "source": [
    "Новые фичи.  \n",
    "Что может помочь лучше предсказать отток клиентов? --ДОПОЛНЯЕТСЯ--\n",
    "\n",
    "* Общая стоимость заказа без скидки\n",
    "* Сколько дней на момент сделки прошло с момента первой сделки (сколько дней клиенту)\n",
    "* Какой на текущий момент средний чек, средняя скидка, средний общая стоимость\n",
    "* Какая разница между среднем чеком и чеком сделки\n",
    "* Сколько сделок произошло на момент текущей сделки\n",
    "* Сколько сделок в месяц в среднем\n"
   ]
  },
  {
   "cell_type": "markdown",
   "id": "78d6e01b-2a20-4020-a391-cf42910f9545",
   "metadata": {},
   "source": [
    "**Как создавать сложные фичи?**\n",
    "\n",
    "* Нужно группировать датасет по клиентам\n",
    "* К этим группам применять разные методы с помощью `.groupby().transform()`\n",
    "\n",
    "`df.groupby('cnlt_ID').transform(func)`"
   ]
  },
  {
   "cell_type": "markdown",
   "id": "be61da38-43d3-450b-8ce3-5aaf7ebf5b16",
   "metadata": {},
   "source": [
    "**Общая стоимость заказа без скидки** = `gest_Sum + gest_Discount`"
   ]
  },
  {
   "cell_type": "code",
   "execution_count": null,
   "id": "9bbc80bc-bfbe-4671-9b10-aba979e31aff",
   "metadata": {},
   "outputs": [],
   "source": [
    "df['gest_Total'] = df['gest_Sum'] + df['gest_Discount']"
   ]
  },
  {
   "cell_type": "markdown",
   "id": "630a3913-a154-4d5e-8ac4-6c96dc2390d3",
   "metadata": {},
   "source": [
    "**Сколько дней прошло с первой сделки**\n",
    "\n",
    "1. Берем min(date)\n",
    "2. Вычитаем из текущей data min(date) (`df['date'] - df['first_buy_date']`)"
   ]
  },
  {
   "cell_type": "code",
   "execution_count": null,
   "id": "a68f01ea-cc57-4a6a-b3b3-210fa0da07d7",
   "metadata": {},
   "outputs": [],
   "source": [
    "def first_buy_date_delta(col):\n",
    "    return col - col.min()\n",
    "\n",
    "df['first_buy_days_delta'] = df.groupby('clnt_ID')['timestamp'].transform(first_buy_date_delta).dt.days"
   ]
  },
  {
   "cell_type": "code",
   "execution_count": null,
   "id": "d32ed18e-5b2b-419f-add7-58a9d31fa43e",
   "metadata": {
    "tags": []
   },
   "outputs": [],
   "source": [
    "df.tail()"
   ]
  },
  {
   "cell_type": "markdown",
   "id": "85657745-ee5d-40c5-afad-6e9478ab1ae2",
   "metadata": {},
   "source": [
    "**TO DO: ИЗУЧИТЬ**"
   ]
  },
  {
   "cell_type": "code",
   "execution_count": null,
   "id": "36bb87a6-26fb-4da6-b924-d30b0bfc1d72",
   "metadata": {},
   "outputs": [],
   "source": [
    "# df['first_buy_date_delta'].dt.days.astype('int').hist(bins=100)"
   ]
  },
  {
   "cell_type": "code",
   "execution_count": null,
   "id": "fccf5ddd-b4da-4db1-89da-deff339bc2d4",
   "metadata": {},
   "outputs": [],
   "source": [
    "# df['first_buy_timestamp_delta'].dt.total_seconds().astype('int').hist(bins=100)"
   ]
  },
  {
   "cell_type": "markdown",
   "id": "742a0fe1-0070-40c3-b4a4-d03a57345617",
   "metadata": {},
   "source": [
    "**Какой на текущий момент средний чек, средняя скидка, средний общая стоимость**\n",
    "\n",
    "Используем `series.expanding().mean()` через `df.groupby('clnt_ID').transform()`."
   ]
  },
  {
   "cell_type": "code",
   "execution_count": null,
   "id": "64b76c6b-ef28-4105-b50a-633f399e0dfe",
   "metadata": {},
   "outputs": [],
   "source": [
    "def expand_mean(col):\n",
    "    return col.expanding().mean()\n",
    "\n",
    "df['clnt_gest_Sum_avg_ongoing'] = df.groupby('clnt_ID')['gest_Sum'].transform(expand_mean)\n",
    "df['clnt_gest_Discount_avg_ongoing'] = df.groupby('clnt_ID')['gest_Discount'].transform(expand_mean)\n",
    "df['clnt_gest_Total_avg_ongoing'] = df.groupby('clnt_ID')['gest_Total'].transform(expand_mean)"
   ]
  },
  {
   "cell_type": "code",
   "execution_count": null,
   "id": "f9805abe-9866-4252-861b-7dc67d44bfcf",
   "metadata": {},
   "outputs": [],
   "source": [
    "df.head()"
   ]
  },
  {
   "cell_type": "markdown",
   "id": "94b99c2b-91f8-45d4-9f79-7d0ce05f23be",
   "metadata": {},
   "source": [
    "**TO DO: ИЗУЧИТЬ**"
   ]
  },
  {
   "cell_type": "code",
   "execution_count": null,
   "id": "91148ff7-9348-4abe-a846-310259e07208",
   "metadata": {},
   "outputs": [],
   "source": [
    "# df['clnt_gest_Sum_avg'].hist(bins=100)"
   ]
  },
  {
   "cell_type": "markdown",
   "id": "2a2bd924-eb6b-427b-a97e-c5d4c5325241",
   "metadata": {},
   "source": [
    "**Какая разница между средним значением и значением сделки**\n",
    "Считаем для:\n",
    "* 'gest_Sum'\n",
    "* 'gest_Discount'\n",
    "* 'gest_Total'\n",
    "\n",
    "`df['gest_Sum'] - df['clnt_gest_Sum_avg_ongoing']`  \n",
    "`df['gest_Discount'] - df['clnt_gest_Discount_avg_ongoing']`  \n",
    "`df['gest_Total'] - df['clnt_gest_total_avg_ongoing']`"
   ]
  },
  {
   "cell_type": "code",
   "execution_count": null,
   "id": "0c8f15c2-8679-4dd3-b572-27b9f205ad6a",
   "metadata": {},
   "outputs": [],
   "source": [
    "df['gest_Sum_delta_from_avg'] = df['gest_Sum'] - df['clnt_gest_Sum_avg_ongoing']\n",
    "df['gest_Discount_delta_from_avg'] = df['gest_Discount'] - df['clnt_gest_Discount_avg_ongoing']\n",
    "df['gest_total_delta_from_avg'] = df['gest_Total'] - df['clnt_gest_Total_avg_ongoing']"
   ]
  },
  {
   "cell_type": "code",
   "execution_count": null,
   "id": "82f2e281-bf63-4ed9-911b-588c8cb82fd1",
   "metadata": {},
   "outputs": [],
   "source": [
    "df.tail()"
   ]
  },
  {
   "cell_type": "markdown",
   "id": "f24d4c88-cc73-4f01-8419-6e91b1cb840c",
   "metadata": {},
   "source": [
    "**TO DO: ИЗУЧИТЬ**"
   ]
  },
  {
   "cell_type": "code",
   "execution_count": null,
   "id": "1fdb9f36-6287-403a-97da-7c65c25188c8",
   "metadata": {},
   "outputs": [],
   "source": [
    "# df['gest_total_delta_from_avg'].hist(bins=100)"
   ]
  },
  {
   "cell_type": "markdown",
   "id": "529352ff-cbe9-45e9-b1db-e70011fc3594",
   "metadata": {},
   "source": [
    "**Сколько сделок произошло на момент текущей сделки**  \n",
    "`series.expanding().count()`"
   ]
  },
  {
   "cell_type": "code",
   "execution_count": null,
   "id": "ebc27545-6703-4c6c-91ab-07ba038ae831",
   "metadata": {},
   "outputs": [],
   "source": [
    "def expand_count(col):\n",
    "    return col.expanding().count()\n",
    "\n",
    "df['clnt_buys_count'] = df.groupby('clnt_ID')['timestamp'].transform(expand_count)"
   ]
  },
  {
   "cell_type": "code",
   "execution_count": null,
   "id": "c77bc0db-7986-4174-b54e-5c72d8eda70b",
   "metadata": {},
   "outputs": [],
   "source": [
    "df.tail()"
   ]
  },
  {
   "cell_type": "markdown",
   "id": "9ddcc176-1cd8-4b84-8caf-3d859eda1406",
   "metadata": {},
   "source": [
    "**TO DO: ИЗУЧИТЬ**"
   ]
  },
  {
   "cell_type": "code",
   "execution_count": null,
   "id": "d56aca0c-24db-428a-99ba-142eeb1a552f",
   "metadata": {},
   "outputs": [],
   "source": [
    "# df['clnt_buys_count'].describe()"
   ]
  },
  {
   "cell_type": "code",
   "execution_count": null,
   "id": "8c47b6c3-8503-4629-b6a2-5967426c8c4b",
   "metadata": {},
   "outputs": [],
   "source": [
    "# df['clnt_buys_count'].hist(bins=100)"
   ]
  },
  {
   "cell_type": "markdown",
   "id": "f11d820e-a5e7-4663-a421-b265cd4ccff2",
   "metadata": {
    "tags": []
   },
   "source": [
    "# BASELINE и model selection"
   ]
  },
  {
   "cell_type": "markdown",
   "id": "b685fc19-caa6-4d0d-b4ac-64bc1220091a",
   "metadata": {},
   "source": [
    "<!-- <div class=\"alert alert-block alert-info\">\n",
    "<b>Комментарий студента: </b> Здесь у меня пока возникает оверфит.\n",
    "    \n",
    "Первое предположение было о том, что кол-во дней между покупками фактически описывает таргет. Убрал эту фичу совсем, но оверфит остался.\n",
    "Теперь думаю попробовать следующее:\n",
    "* Посчитать статистики не за всю историю, а за последние 30 дней или около того. (Распределение кол-ва дней между покупками может подсказать порог в днях получше. Может больше 30, может меньше, но не более 45)\n",
    "* Использовать не агрегированный по юзерам датасет, а изначальный по сделкам и добавить в каждой сделке накопительную статистику истории пользователя. \n",
    "</div>\n",
    "\n",
    "Для бейслайна используем данные в таком виде:\n",
    "* Группируем по клиенту,\n",
    "* берем общее число покупок\n",
    "* мин, макс, медиана, среднее, стд отклонение по `gest_Sum`, `gest_Discount`, \n",
    "* ~~кол-во дней между покупками, медиана, среднее, стд. отклонение.~~ Кол-во дней между покупками использовать нельзя, потому что это утечка. По среднему и стандартному отклонению можно точно определить был ли хоть раз промежуток в 45 дней между покупками. (И у меня был тут скор ~0.98 из-за этих фичей)\n",
    "\n",
    "Модели:\n",
    "* логистическая регрессия\n",
    "* дерево решений\n",
    "* случайный лес\n",
    "\n",
    "Оцениваем `roc auc` по кроссвалидации на 5 фолдах.\n",
    "\n",
    "Проверять будем по новому таргету. -->"
   ]
  },
  {
   "cell_type": "code",
   "execution_count": null,
   "id": "5002ed7b-bc76-46cc-986e-00a0ac976fce",
   "metadata": {},
   "outputs": [],
   "source": [
    "df.head()"
   ]
  },
  {
   "cell_type": "code",
   "execution_count": null,
   "id": "f50627ea-abef-4dc1-9303-93c9ed24e097",
   "metadata": {
    "tags": []
   },
   "outputs": [],
   "source": [
    "# Скопируем датасет\n",
    "df_baseline = df.copy()\n",
    "df_baseline = df_baseline.drop(columns=['timestamp'])\n",
    "df_baseline.head()"
   ]
  },
  {
   "cell_type": "code",
   "execution_count": null,
   "id": "66f83d0a-071d-404d-a39e-669fbde07ae2",
   "metadata": {},
   "outputs": [],
   "source": [
    "# Создадим словарь для функция агрегирования по необходимым столбцам\n",
    "aggfunc_dict = {'gest_Sum': ['min','max','median','mean',\n",
    "                             # 'std'\n",
    "                            ], \n",
    "                'gest_Discount': ['min','max','median','mean',\n",
    "                                  # 'std'\n",
    "                                 ], \n",
    "                # 'clnt_buys_count': ['max','median','mean','std'] # здесь min не нужен, т.к. везде будут 1\n",
    "               } "
   ]
  },
  {
   "cell_type": "code",
   "execution_count": null,
   "id": "81f42f90-13eb-4146-babf-341b2afd250c",
   "metadata": {},
   "outputs": [],
   "source": [
    "# Сгруппируем по клиентам применим агрегирующие функции из словаря\n",
    "pivot_baseline = df_baseline.pivot_table(index='clnt_ID', values=['gest_Sum','gest_Discount','clnt_buys_count'],aggfunc=aggfunc_dict, \n",
    "                                         fill_value=0 # Пропуски будут в стандартном отклонении любых признаков, где только 1 покупка\n",
    "                                        )"
   ]
  },
  {
   "cell_type": "code",
   "execution_count": null,
   "id": "7da08761-4487-42ef-a6d7-aa03c112b49c",
   "metadata": {},
   "outputs": [],
   "source": [
    "# Уберем мульти-уровни в столбцах\n",
    "pivot_baseline.columns = ['_'.join(column) for column in pivot_baseline.columns]"
   ]
  },
  {
   "cell_type": "code",
   "execution_count": null,
   "id": "8bd5e6dd-5012-4575-ac9f-b017e2a4f5f9",
   "metadata": {},
   "outputs": [],
   "source": [
    "pivot_baseline.describe()"
   ]
  },
  {
   "cell_type": "code",
   "execution_count": null,
   "id": "d2c6f7a6-7d9b-48c0-b8af-b535002c05aa",
   "metadata": {},
   "outputs": [],
   "source": [
    "# Создадим датафрейм с присоединенными таргетами\n",
    "# pivot_baseline_full_orig = pivot_baseline.merge(df_target,on='clnt_ID')\n",
    "pivot_baseline_full_new = pivot_baseline.merge(df_target_extracted,on='clnt_ID').reset_index()"
   ]
  },
  {
   "cell_type": "code",
   "execution_count": null,
   "id": "a6ddd06d-dc2e-46c7-98c0-09a640cfdba3",
   "metadata": {
    "tags": []
   },
   "outputs": [],
   "source": [
    "# pivot_baseline_full_orig.head()"
   ]
  },
  {
   "cell_type": "code",
   "execution_count": null,
   "id": "f812a31e-7ef1-4687-9195-3556f7430d79",
   "metadata": {
    "tags": []
   },
   "outputs": [],
   "source": [
    "pivot_baseline_full_new.head()"
   ]
  },
  {
   "cell_type": "code",
   "execution_count": null,
   "id": "f5e483ce-023a-4509-a4ba-be9888c19cc7",
   "metadata": {},
   "outputs": [],
   "source": [
    "# Уберем айдишники клиентов. Модели они только помешают\n",
    "# pivot_baseline_full_orig = pivot_baseline_full_orig.drop(columns=['clnt_ID'])\n",
    "pivot_baseline_full_new = pivot_baseline_full_new.drop(columns=['clnt_ID'])\n"
   ]
  },
  {
   "cell_type": "code",
   "execution_count": null,
   "id": "d01b9c33-6260-4ea6-9f1d-6f8b95926dda",
   "metadata": {},
   "outputs": [],
   "source": [
    "# Создадим фичи и таргет\n",
    "\n",
    "# # Оригинальный\n",
    "# X_orig = pivot_baseline_full_orig.drop(columns=['target'])\n",
    "# y_orig = pivot_baseline_full_orig['target']\n",
    "\n",
    "# Новый\n",
    "X_new = pivot_baseline_full_new.drop(columns=['target_ext'])\n",
    "y_new = pivot_baseline_full_new['target_ext']"
   ]
  },
  {
   "cell_type": "code",
   "execution_count": null,
   "id": "f80c3966-2bfc-4afc-8b59-74ac8b8dad36",
   "metadata": {
    "tags": []
   },
   "outputs": [],
   "source": [
    "# display(X_orig.head())\n",
    "# y_orig.head()"
   ]
  },
  {
   "cell_type": "code",
   "execution_count": null,
   "id": "634430ba-ea7a-4350-a224-2aea6b0fdc0d",
   "metadata": {},
   "outputs": [],
   "source": [
    "display(X_new.head())\n",
    "y_new.head()"
   ]
  },
  {
   "cell_type": "code",
   "execution_count": null,
   "id": "60fb5f2f-6b90-46ab-bc64-3ebc1b6c1587",
   "metadata": {
    "tags": []
   },
   "outputs": [],
   "source": [
    "# Логистическая регрессия\n",
    "with warnings.catch_warnings():\n",
    "    warnings.simplefilter('ignore')\n",
    "    log_reg = LogisticRegression()\n",
    "    # log_reg_cv_orig = cross_validate(log_reg, X_orig, y_orig, cv=5, scoring='roc_auc')\n",
    "    log_reg_cv_new = cross_validate(log_reg, X_new, y_new, cv=5, scoring='roc_auc')\n",
    "    \n",
    "# Здесь ошибки несходимости - убрал"
   ]
  },
  {
   "cell_type": "code",
   "execution_count": null,
   "id": "bc199100-56db-4eb2-a4e3-167a78f65fc1",
   "metadata": {},
   "outputs": [],
   "source": [
    "# Дерево решений\n",
    "tree = DecisionTreeClassifier()\n",
    "# tree_cv_orig = cross_validate(tree,X_orig,y_orig,cv=5,scoring='roc_auc')\n",
    "tree_cv_new = cross_validate(tree,X_new,y_new,cv=5,scoring='roc_auc')"
   ]
  },
  {
   "cell_type": "code",
   "execution_count": null,
   "id": "0c281d87-dae3-4f7b-abd9-42ec653c2e43",
   "metadata": {},
   "outputs": [],
   "source": [
    "# Случайный лес\n",
    "forest = RandomForestClassifier()\n",
    "# forest_cv_orig = cross_validate(forest,X_orig,y_orig,cv=5,scoring='roc_auc')\n",
    "forest_cv_new = cross_validate(forest,X_new,y_new,cv=5,scoring='roc_auc')"
   ]
  },
  {
   "cell_type": "code",
   "execution_count": null,
   "id": "e105b64c-fec6-4241-bd79-44a8891509ea",
   "metadata": {},
   "outputs": [],
   "source": [
    "# Подсчет и вывод метрик\n",
    "\n",
    "# # Оригинальный\n",
    "# lr_roc_auc_orig = log_reg_cv_orig['test_score'].mean()\n",
    "# tree_roc_auc_orig = tree_cv_orig['test_score'].mean()\n",
    "# forest_roc_auc_orig = forest_cv_orig['test_score'].mean()\n",
    "\n",
    "# Новый\n",
    "lr_roc_auc_new = log_reg_cv_new['test_score'].mean()\n",
    "tree_roc_auc_new = tree_cv_new['test_score'].mean()\n",
    "forest_roc_auc_new = forest_cv_new['test_score'].mean()\n",
    "\n",
    "scores = {\n",
    "        # 'ORIG logreg roc auc': lr_roc_auc_orig,\n",
    "        #  'ORIG tree roc auc': tree_roc_auc_orig,\n",
    "        #  'ORIG forest roc auc': forest_roc_auc_orig,\n",
    "         'NEW logreg roc auc': lr_roc_auc_new,\n",
    "         'NEW tree roc auc': tree_roc_auc_new,\n",
    "         'NEW forest roc auc': forest_roc_auc_new}\n",
    "\n",
    "for key,value in scores.items():\n",
    "    print(f'{key} {value:.03f}')"
   ]
  },
  {
   "cell_type": "markdown",
   "id": "7a9f7e02-1d4f-4ccf-98ca-87f6b524fc49",
   "metadata": {},
   "source": [
    "Подозрительно высокий скор на всех моделях."
   ]
  },
  {
   "cell_type": "code",
   "execution_count": null,
   "id": "32de4d74-a660-4d50-a331-80443eb9f5cd",
   "metadata": {},
   "outputs": [],
   "source": [
    "# with warnings.catch_warnings():\n",
    "#     warnings.simplefilter('ignore')\n",
    "#     log_reg = LogisticRegression().fit(X_new,y_new)\n",
    "# log_reg.coef_"
   ]
  },
  {
   "cell_type": "code",
   "execution_count": null,
   "id": "7f229646-b96c-4f17-80e9-da10a75fac84",
   "metadata": {},
   "outputs": [],
   "source": [
    "forest = RandomForestClassifier(random_state=rand_state).fit(X_new,y_new)"
   ]
  },
  {
   "cell_type": "code",
   "execution_count": null,
   "id": "f3a8f499-a5ae-4790-aa54-189e71051dcf",
   "metadata": {},
   "outputs": [],
   "source": [
    "list(zip(X_new.columns,forest.feature_importances_))"
   ]
  },
  {
   "cell_type": "code",
   "execution_count": null,
   "id": "fa77b443-4844-4140-b1a1-87a6cf15d847",
   "metadata": {},
   "outputs": [],
   "source": [
    "plt.bar(x=X_new.columns,height=forest.feature_importances_)\n",
    "plt.xticks(rotation=90)\n",
    "plt.show()"
   ]
  },
  {
   "cell_type": "markdown",
   "id": "a8427ea2-e532-4998-9b9d-7bdc120ed973",
   "metadata": {
    "tags": []
   },
   "source": [
    "### catboost -- ON HOLD"
   ]
  },
  {
   "cell_type": "code",
   "execution_count": null,
   "id": "0dd4be17-eec5-40c1-9818-ccc755abc0de",
   "metadata": {},
   "outputs": [],
   "source": [
    "# ON HOLD\n",
    "\n",
    "# test_data = catboost_pool = Pool(train_data, \n",
    "#                                  train_labels)\n",
    "\n",
    "# model = CatBoostClassifier(iterations=2,\n",
    "#                            depth=2,\n",
    "#                            learning_rate=1,\n",
    "#                            loss_function='Logloss',\n",
    "#                            verbose=True)\n",
    "# # train the model\n",
    "# model.fit(train_data, train_labels)\n",
    "# # make the prediction using the resulting model\n",
    "# preds_class = model.predict(test_data)\n",
    "# preds_proba = model.predict_proba(test_data)\n",
    "# print(\"class = \", preds_class)\n",
    "# print(\"proba = \", preds_proba)"
   ]
  },
  {
   "cell_type": "markdown",
   "id": "0e88bd38-d3ed-4100-ac43-f676195a5139",
   "metadata": {
    "tags": []
   },
   "source": [
    "# Model tuning"
   ]
  },
  {
   "cell_type": "markdown",
   "id": "d9f30751-f067-425f-8b71-60a96ff23cc4",
   "metadata": {},
   "source": [
    "EMPTY"
   ]
  }
 ],
 "metadata": {
  "kernelspec": {
   "display_name": "Python 3 (ipykernel)",
   "language": "python",
   "name": "python3"
  },
  "language_info": {
   "codemirror_mode": {
    "name": "ipython",
    "version": 3
   },
   "file_extension": ".py",
   "mimetype": "text/x-python",
   "name": "python",
   "nbconvert_exporter": "python",
   "pygments_lexer": "ipython3",
   "version": "3.10.2"
  }
 },
 "nbformat": 4,
 "nbformat_minor": 5
}
