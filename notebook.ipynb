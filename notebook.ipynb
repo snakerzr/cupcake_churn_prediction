{
 "cells": [
  {
   "cell_type": "markdown",
   "id": "3a59d61f-e3bd-4565-9954-0b6f026b8bd4",
   "metadata": {
    "tags": [],
    "toc-hr-collapsed": true
   },
   "source": [
    "# Описание, заметки, размышления"
   ]
  },
  {
   "cell_type": "markdown",
   "id": "0e918b3b-b82d-4491-a266-f1204a6a60aa",
   "metadata": {},
   "source": [
    "Для прогнозирования используются данные о покупках юзеров за период 2021 года. Всего доступно больше 2 млн. строк.\n",
    "\n",
    "Флаг оттока проставляется, если после покупки юзера прошло больше 45 дней.\n",
    "\n",
    "Поведение юзера описывается историей его покупок, суммой чека и размером скидки к чеку. В компании действует программа лояльности, участвуя в которой юзеры получают скидку на любую покупку и могут получать дополнительные скидки по разным промо-акциями.\n",
    "\n",
    "Описание данных:\n",
    "data.csv\n",
    "* `'clnt_ID'` - уникальный айди юзера, str\n",
    "* `'timestamp'` - дата и время совершения покупки, datetime\n",
    "* `'gest_Sum'` - сумма покупки, float\n",
    "* `'gest_Discount'` - сумма скидки, float\n",
    "\n",
    "target.csv\n",
    "* `'clnt_ID'` - уникальный айди юзера, str\n",
    "* `'target'` - флаг оттока, int: 1 если юзер ушел в отток | 0 если НЕ отток"
   ]
  },
  {
   "cell_type": "markdown",
   "id": "7cfede5f-02e3-4b42-bbf2-48868e30b588",
   "metadata": {},
   "source": [
    "Это задача бинарной классификации. Используем метрику: `roc auc`."
   ]
  },
  {
   "cell_type": "markdown",
   "id": "c84a5095-84e0-48d0-86b1-8abf69d3a4e0",
   "metadata": {},
   "source": [
    "<!-- ## Что здесь можно сделать? - Заметки \n",
    "**Нужно помнить, что по сути это тайм серия.**  -- **Внимательно!**  \n",
    "Т.е. я предполагаю, что клиент покупает, покупает, покупает, потом фигак и перестал покупать. Один клиент - один вектор.\n",
    "А тут куча вектором принадлежат одному клиенту. \n",
    "\n",
    "Т.е. я бы даже сказал, что в том виде в котором оно есть, модель особо-то ничего не найдет. Как она сможет по дате, сумме покупки и скидке предсказать уйдет человек или нет, не зная его истории?\n",
    "---ОТВЕТ---\n",
    "Да, это последовательность событий, но прям как таймсерию использовать не можем, потому что нерегулярные сигналы и из-за этого много сложностей.\n",
    "Но! Можно использовать эти же строки, но к ним добавлять \"память\" о клиенте, т.е. его историю к конкретной сделке.\n",
    "\n",
    "**Что может говорить, что клиент собрался уйти и не вернуться?**  \n",
    "Т.е. гипотетически что может говорить о том, что клиент собирается уйти и не вернуться?\n",
    "1. Увеличивается интервал между покупками от покупки к покупке. Типа 1 день, потом 2, потом 5 и т.д.\n",
    "2. Как-то изменяется объем чека (уменьшается, увеличивается?) \n",
    "3. Как-то меняется ассортимент (типа вот он покупал одно и тоже, а тут вдруг перестал покупать одно и тоже (испортился товар на его вкус) и он либо сразу ушел, либо попробовал другое и остался, либо попробовал другое - ему не понравилось - ушел\n",
    "\n",
    "**Как должен работать предикт? Какие данные должны поступать на вход?**  -- **Есть пол-ответа**  \n",
    "~~Это видимо тоже относится к тому, что это своего рода таймсерия~~\n",
    "Вся инфа находится в БД, которая обновляется ночью. И модель будет работать ночью и может использовать всю бд. Как именно пока я не понимаю.\n",
    "\n",
    "\n",
    "**Если сейчас дать модели на вход просто дату, сумму чека и скидку...**  \n",
    "То она будет пытаться предсказать отток исключительно по дате, сумме чеку и скидке - врядли у нее что-то получится взразумительное.\n",
    "\n",
    "\n",
    "**Сумма в месяц стабильна для юзера, а отклонение может указывать на отток**  \n",
    "По результатам уже проведенного анализа есть такой вывод:\n",
    "сумма, которую готов тратить юзер в месяц,  достаточна стабильна и слабо меняется со временем. Потратив в этом месяце больше обычного, юзер скорее всего в следующем не будет покупать;\n",
    "\n",
    "По каждому клиенту взять средний чек, каким-то образом определить порог отклонения от этого среднего чека и посмотреть насколько факт этого отклонения коррелирует с оттоком. Может это будет хорошая фича. Но проблема в том, что для предсказания не достаточно \n",
    "\n",
    "**Самый простой и очевидный способ подготовки данных**  \n",
    "Это взять по каждому клиенту кол-во покупок, min,max,mean,median,stdev по gest_Sum, gest_Discount, и перерывом между покупками\n",
    "\n",
    "**Вариант еще лучше!**  \n",
    "Используем каждую строку как есть, не переводим ее в строку по уникальному клиенту, а точно также одна строка одна сделка.\n",
    "К каждой такой строке мы накопительно добавляем кумулятивную инфу о клиенте, т.е.:\n",
    "* Сколько дней на момент сделки прошло с момента первой сделки\n",
    "* Какой на текущий момент средний чек\n",
    "* Какая разница между среднем чеком и чеком сделки\n",
    "* Сколько сделок произошло на момент текущей сделки\n",
    "* Сколько сделок в месяц в среднем\n",
    "\n",
    "\n",
    "\n",
    "## Вопросы:\n",
    "**>>>Что значат 0 в gest_sum?<<<**\n",
    "\n",
    "**Как работают скидки? Это накопительные баллы или просто скидки? Почему основные скидки не больше 100 руб, но бывают аж в 3000 руб.?** -->"
   ]
  },
  {
   "cell_type": "markdown",
   "id": "6f763810",
   "metadata": {},
   "source": [
    "Структура:  \n",
    "\n",
    "0. Описание, заметки, размышления\n",
    "1. Импорты и настройки\n",
    "2. Предобработка\n",
    "3. EDA\n",
    "4. Feature engineering\n",
    "5. Baseline and model selection\n",
    "6. Model tuning"
   ]
  },
  {
   "cell_type": "markdown",
   "id": "c4946a18-ef6f-44c0-a336-da9167ab77d9",
   "metadata": {
    "tags": []
   },
   "source": [
    "# Импорты и настройки"
   ]
  },
  {
   "cell_type": "code",
   "execution_count": 1,
   "id": "cf9e2794-3933-48dd-9665-87d7ea6f5f13",
   "metadata": {},
   "outputs": [],
   "source": [
    "import warnings\n",
    "\n",
    "import numpy as np\n",
    "import pandas as pd\n",
    "\n",
    "import statsmodels.api as sm\n",
    "\n",
    "import matplotlib.pyplot as plt\n",
    "import seaborn as sns\n",
    "\n",
    "# from pandas_profiling import ProfileReport\n",
    "\n",
    "from sklearn.preprocessing import StandardScaler\n",
    "\n",
    "from sklearn.linear_model import LogisticRegression\n",
    "from sklearn.tree import DecisionTreeClassifier\n",
    "from sklearn.ensemble import RandomForestClassifier\n",
    "\n",
    "from catboost import CatBoostClassifier, Pool\n",
    "\n",
    "from sklearn.model_selection import cross_val_score\n",
    "from sklearn.model_selection import cross_validate\n",
    "\n",
    "from sklearn.metrics import f1_score\n"
   ]
  },
  {
   "cell_type": "code",
   "execution_count": 2,
   "id": "f049c0bd-bb38-4983-8627-8f10200cd4f1",
   "metadata": {},
   "outputs": [],
   "source": [
    "# Настройки pandas\n",
    "# pd.set_option('display.max_rows', 100)\n",
    "pd.options.display.float_format = '{:.3f}'.format"
   ]
  },
  {
   "cell_type": "code",
   "execution_count": 3,
   "id": "e98fbb49-e769-4cc7-80f8-9a89d6932236",
   "metadata": {},
   "outputs": [],
   "source": [
    "# np set random seed\n",
    "rand_state = 777\n",
    "# rng = np.random.default_rng(rand_state)"
   ]
  },
  {
   "cell_type": "markdown",
   "id": "bee94788-bcf3-48c4-81d2-2a1cabebfab1",
   "metadata": {},
   "source": [
    "# Предобработка"
   ]
  },
  {
   "cell_type": "code",
   "execution_count": 4,
   "id": "4215629b-2bbb-424b-b874-7ce4c61f5c21",
   "metadata": {},
   "outputs": [],
   "source": [
    "df = pd.read_csv('data/data.csv', parse_dates=[1])\n",
    "df_target = pd.read_csv('data/target.csv')"
   ]
  },
  {
   "cell_type": "code",
   "execution_count": 5,
   "id": "a727e5a4-5600-4f31-acb2-68b05ebf84a5",
   "metadata": {
    "tags": []
   },
   "outputs": [
    {
     "data": {
      "text/html": [
       "<div>\n",
       "<style scoped>\n",
       "    .dataframe tbody tr th:only-of-type {\n",
       "        vertical-align: middle;\n",
       "    }\n",
       "\n",
       "    .dataframe tbody tr th {\n",
       "        vertical-align: top;\n",
       "    }\n",
       "\n",
       "    .dataframe thead th {\n",
       "        text-align: right;\n",
       "    }\n",
       "</style>\n",
       "<table border=\"1\" class=\"dataframe\">\n",
       "  <thead>\n",
       "    <tr style=\"text-align: right;\">\n",
       "      <th></th>\n",
       "      <th>clnt_ID</th>\n",
       "      <th>timestamp</th>\n",
       "      <th>gest_Sum</th>\n",
       "      <th>gest_Discount</th>\n",
       "    </tr>\n",
       "  </thead>\n",
       "  <tbody>\n",
       "    <tr>\n",
       "      <th>0</th>\n",
       "      <td>193B4268-0B4A-475E-B1D0-FF5515E29D29</td>\n",
       "      <td>2021-01-02 09:09:17.060</td>\n",
       "      <td>900.000</td>\n",
       "      <td>300.000</td>\n",
       "    </tr>\n",
       "    <tr>\n",
       "      <th>1</th>\n",
       "      <td>8DA65A37-C1D0-41D4-98E1-AB6C5BF1367F</td>\n",
       "      <td>2021-01-02 09:12:24.850</td>\n",
       "      <td>165.000</td>\n",
       "      <td>55.000</td>\n",
       "    </tr>\n",
       "    <tr>\n",
       "      <th>2</th>\n",
       "      <td>26ACF3C8-25C8-4345-ABC2-33DA15EA6454</td>\n",
       "      <td>2021-01-02 09:38:21.643</td>\n",
       "      <td>800.500</td>\n",
       "      <td>25.500</td>\n",
       "    </tr>\n",
       "    <tr>\n",
       "      <th>3</th>\n",
       "      <td>0F77DDB3-A9A7-44BE-AAAB-9DF59B66A695</td>\n",
       "      <td>2021-01-02 09:45:17.793</td>\n",
       "      <td>580.000</td>\n",
       "      <td>0.000</td>\n",
       "    </tr>\n",
       "    <tr>\n",
       "      <th>4</th>\n",
       "      <td>F16BCF77-FA5A-4093-B7E3-FA86E2B1EA31</td>\n",
       "      <td>2021-01-02 09:59:50.453</td>\n",
       "      <td>148.900</td>\n",
       "      <td>3.100</td>\n",
       "    </tr>\n",
       "  </tbody>\n",
       "</table>\n",
       "</div>"
      ],
      "text/plain": [
       "                                clnt_ID               timestamp  gest_Sum  \\\n",
       "0  193B4268-0B4A-475E-B1D0-FF5515E29D29 2021-01-02 09:09:17.060   900.000   \n",
       "1  8DA65A37-C1D0-41D4-98E1-AB6C5BF1367F 2021-01-02 09:12:24.850   165.000   \n",
       "2  26ACF3C8-25C8-4345-ABC2-33DA15EA6454 2021-01-02 09:38:21.643   800.500   \n",
       "3  0F77DDB3-A9A7-44BE-AAAB-9DF59B66A695 2021-01-02 09:45:17.793   580.000   \n",
       "4  F16BCF77-FA5A-4093-B7E3-FA86E2B1EA31 2021-01-02 09:59:50.453   148.900   \n",
       "\n",
       "   gest_Discount  \n",
       "0        300.000  \n",
       "1         55.000  \n",
       "2         25.500  \n",
       "3          0.000  \n",
       "4          3.100  "
      ]
     },
     "metadata": {},
     "output_type": "display_data"
    },
    {
     "data": {
      "text/html": [
       "<div>\n",
       "<style scoped>\n",
       "    .dataframe tbody tr th:only-of-type {\n",
       "        vertical-align: middle;\n",
       "    }\n",
       "\n",
       "    .dataframe tbody tr th {\n",
       "        vertical-align: top;\n",
       "    }\n",
       "\n",
       "    .dataframe thead th {\n",
       "        text-align: right;\n",
       "    }\n",
       "</style>\n",
       "<table border=\"1\" class=\"dataframe\">\n",
       "  <thead>\n",
       "    <tr style=\"text-align: right;\">\n",
       "      <th></th>\n",
       "      <th>clnt_ID</th>\n",
       "      <th>target</th>\n",
       "    </tr>\n",
       "  </thead>\n",
       "  <tbody>\n",
       "    <tr>\n",
       "      <th>0</th>\n",
       "      <td>000070A8-DB9E-4AB7-8C4D-6169D4AEBB2A</td>\n",
       "      <td>1</td>\n",
       "    </tr>\n",
       "    <tr>\n",
       "      <th>1</th>\n",
       "      <td>00007EB0-6331-438E-A917-E9840C260876</td>\n",
       "      <td>0</td>\n",
       "    </tr>\n",
       "    <tr>\n",
       "      <th>2</th>\n",
       "      <td>0000993D-A30E-4233-AB3F-D368D9A0D2C4</td>\n",
       "      <td>1</td>\n",
       "    </tr>\n",
       "    <tr>\n",
       "      <th>3</th>\n",
       "      <td>0000A724-7BC5-408F-9F16-6CC3AB16322F</td>\n",
       "      <td>0</td>\n",
       "    </tr>\n",
       "    <tr>\n",
       "      <th>4</th>\n",
       "      <td>0000B90C-56DE-43C2-A213-624AFBE36DB2</td>\n",
       "      <td>0</td>\n",
       "    </tr>\n",
       "  </tbody>\n",
       "</table>\n",
       "</div>"
      ],
      "text/plain": [
       "                                clnt_ID  target\n",
       "0  000070A8-DB9E-4AB7-8C4D-6169D4AEBB2A       1\n",
       "1  00007EB0-6331-438E-A917-E9840C260876       0\n",
       "2  0000993D-A30E-4233-AB3F-D368D9A0D2C4       1\n",
       "3  0000A724-7BC5-408F-9F16-6CC3AB16322F       0\n",
       "4  0000B90C-56DE-43C2-A213-624AFBE36DB2       0"
      ]
     },
     "execution_count": 5,
     "metadata": {},
     "output_type": "execute_result"
    }
   ],
   "source": [
    "display(df.head())\n",
    "df_target.head()"
   ]
  },
  {
   "cell_type": "code",
   "execution_count": 6,
   "id": "ff02bd9e-7e24-4993-9166-7b00c6c520d6",
   "metadata": {},
   "outputs": [
    {
     "name": "stdout",
     "output_type": "stream",
     "text": [
      "<class 'pandas.core.frame.DataFrame'>\n",
      "RangeIndex: 2371635 entries, 0 to 2371634\n",
      "Data columns (total 4 columns):\n",
      " #   Column         Dtype         \n",
      "---  ------         -----         \n",
      " 0   clnt_ID        object        \n",
      " 1   timestamp      datetime64[ns]\n",
      " 2   gest_Sum       float64       \n",
      " 3   gest_Discount  float64       \n",
      "dtypes: datetime64[ns](1), float64(2), object(1)\n",
      "memory usage: 72.4+ MB\n"
     ]
    }
   ],
   "source": [
    "df.info()"
   ]
  },
  {
   "cell_type": "code",
   "execution_count": 7,
   "id": "44769d36-e3d7-4d70-90bf-eca19c73db1a",
   "metadata": {},
   "outputs": [
    {
     "name": "stdout",
     "output_type": "stream",
     "text": [
      "<class 'pandas.core.frame.DataFrame'>\n",
      "RangeIndex: 255109 entries, 0 to 255108\n",
      "Data columns (total 2 columns):\n",
      " #   Column   Non-Null Count   Dtype \n",
      "---  ------   --------------   ----- \n",
      " 0   clnt_ID  255109 non-null  object\n",
      " 1   target   255109 non-null  int64 \n",
      "dtypes: int64(1), object(1)\n",
      "memory usage: 3.9+ MB\n"
     ]
    }
   ],
   "source": [
    "df_target.info()"
   ]
  },
  {
   "cell_type": "code",
   "execution_count": 8,
   "id": "781adff0-2e2b-4b8f-854f-e1117184d370",
   "metadata": {},
   "outputs": [],
   "source": [
    "# Изменим тип данных в timestamp на datetime\n",
    "# df['timestamp'] = pd.to_datetime(df['timestamp'], format='%Y-%m-%d %H:%M:%S.%f')\n",
    "# Добавим столбец с только датой.\n",
    "# df['date'] = df['timestamp'].dt.date"
   ]
  },
  {
   "cell_type": "markdown",
   "id": "49681f41-5d18-4b77-b609-55b3be247820",
   "metadata": {},
   "source": [
    "Проверим на дубликаты и пропуски."
   ]
  },
  {
   "cell_type": "code",
   "execution_count": 9,
   "id": "36c228d5-a5af-4969-a339-1f4a5618bab1",
   "metadata": {},
   "outputs": [
    {
     "data": {
      "text/plain": [
       "clnt_ID          0\n",
       "timestamp        0\n",
       "gest_Sum         0\n",
       "gest_Discount    0\n",
       "dtype: int64"
      ]
     },
     "execution_count": 9,
     "metadata": {},
     "output_type": "execute_result"
    }
   ],
   "source": [
    "df.isna().sum()"
   ]
  },
  {
   "cell_type": "markdown",
   "id": "c3441290-9e5d-4555-b62a-a45c0f1e90c8",
   "metadata": {},
   "source": [
    "Пропусков нет."
   ]
  },
  {
   "cell_type": "code",
   "execution_count": 10,
   "id": "ea49f18b-7ab0-43b3-a771-9902f773d3c4",
   "metadata": {},
   "outputs": [
    {
     "data": {
      "text/plain": [
       "129"
      ]
     },
     "execution_count": 10,
     "metadata": {},
     "output_type": "execute_result"
    }
   ],
   "source": [
    "df.duplicated().sum()"
   ]
  },
  {
   "cell_type": "markdown",
   "id": "fdc39adf-b1ad-4708-a276-5ea256cc29f9",
   "metadata": {},
   "source": [
    "Есть дубликаты, посмотрим на них."
   ]
  },
  {
   "cell_type": "code",
   "execution_count": 11,
   "id": "2b237787-c308-4d89-869d-8335098aa370",
   "metadata": {
    "tags": []
   },
   "outputs": [
    {
     "data": {
      "text/html": [
       "<div>\n",
       "<style scoped>\n",
       "    .dataframe tbody tr th:only-of-type {\n",
       "        vertical-align: middle;\n",
       "    }\n",
       "\n",
       "    .dataframe tbody tr th {\n",
       "        vertical-align: top;\n",
       "    }\n",
       "\n",
       "    .dataframe thead th {\n",
       "        text-align: right;\n",
       "    }\n",
       "</style>\n",
       "<table border=\"1\" class=\"dataframe\">\n",
       "  <thead>\n",
       "    <tr style=\"text-align: right;\">\n",
       "      <th></th>\n",
       "      <th>clnt_ID</th>\n",
       "      <th>timestamp</th>\n",
       "      <th>gest_Sum</th>\n",
       "      <th>gest_Discount</th>\n",
       "    </tr>\n",
       "  </thead>\n",
       "  <tbody>\n",
       "    <tr>\n",
       "      <th>639</th>\n",
       "      <td>1FA367BD-8E07-437E-AB6A-009D53533128</td>\n",
       "      <td>2021-01-02 12:00:00</td>\n",
       "      <td>982.200</td>\n",
       "      <td>0.000</td>\n",
       "    </tr>\n",
       "    <tr>\n",
       "      <th>663</th>\n",
       "      <td>1FA367BD-8E07-437E-AB6A-009D53533128</td>\n",
       "      <td>2021-01-02 12:00:00</td>\n",
       "      <td>982.200</td>\n",
       "      <td>0.000</td>\n",
       "    </tr>\n",
       "    <tr>\n",
       "      <th>85786</th>\n",
       "      <td>3319362D-F6AD-498B-9B53-F59D0418915E</td>\n",
       "      <td>2021-01-14 14:00:00</td>\n",
       "      <td>1189.000</td>\n",
       "      <td>0.000</td>\n",
       "    </tr>\n",
       "    <tr>\n",
       "      <th>85787</th>\n",
       "      <td>3319362D-F6AD-498B-9B53-F59D0418915E</td>\n",
       "      <td>2021-01-14 14:00:00</td>\n",
       "      <td>1189.000</td>\n",
       "      <td>0.000</td>\n",
       "    </tr>\n",
       "    <tr>\n",
       "      <th>133279</th>\n",
       "      <td>A145C6F8-EDCB-47B1-BF5D-B328F6AF97CA</td>\n",
       "      <td>2021-01-20 16:00:00</td>\n",
       "      <td>0.000</td>\n",
       "      <td>0.000</td>\n",
       "    </tr>\n",
       "    <tr>\n",
       "      <th>...</th>\n",
       "      <td>...</td>\n",
       "      <td>...</td>\n",
       "      <td>...</td>\n",
       "      <td>...</td>\n",
       "    </tr>\n",
       "    <tr>\n",
       "      <th>2165277</th>\n",
       "      <td>E99EFF35-01BE-49A9-8F61-641F752051E5</td>\n",
       "      <td>2021-11-08 15:00:00</td>\n",
       "      <td>0.000</td>\n",
       "      <td>0.000</td>\n",
       "    </tr>\n",
       "    <tr>\n",
       "      <th>2174627</th>\n",
       "      <td>1A4C0239-A7AB-4188-84DB-8F52FBF6E13C</td>\n",
       "      <td>2021-11-10 11:00:00</td>\n",
       "      <td>282.240</td>\n",
       "      <td>37.760</td>\n",
       "    </tr>\n",
       "    <tr>\n",
       "      <th>2174629</th>\n",
       "      <td>1A4C0239-A7AB-4188-84DB-8F52FBF6E13C</td>\n",
       "      <td>2021-11-10 11:00:00</td>\n",
       "      <td>282.240</td>\n",
       "      <td>37.760</td>\n",
       "    </tr>\n",
       "    <tr>\n",
       "      <th>2198034</th>\n",
       "      <td>C9D86AF9-373C-4531-92A4-8FC752DD5D75</td>\n",
       "      <td>2021-11-14 12:00:00</td>\n",
       "      <td>0.000</td>\n",
       "      <td>0.000</td>\n",
       "    </tr>\n",
       "    <tr>\n",
       "      <th>2198035</th>\n",
       "      <td>C9D86AF9-373C-4531-92A4-8FC752DD5D75</td>\n",
       "      <td>2021-11-14 12:00:00</td>\n",
       "      <td>0.000</td>\n",
       "      <td>0.000</td>\n",
       "    </tr>\n",
       "  </tbody>\n",
       "</table>\n",
       "<p>225 rows × 4 columns</p>\n",
       "</div>"
      ],
      "text/plain": [
       "                                      clnt_ID           timestamp  gest_Sum  \\\n",
       "639      1FA367BD-8E07-437E-AB6A-009D53533128 2021-01-02 12:00:00   982.200   \n",
       "663      1FA367BD-8E07-437E-AB6A-009D53533128 2021-01-02 12:00:00   982.200   \n",
       "85786    3319362D-F6AD-498B-9B53-F59D0418915E 2021-01-14 14:00:00  1189.000   \n",
       "85787    3319362D-F6AD-498B-9B53-F59D0418915E 2021-01-14 14:00:00  1189.000   \n",
       "133279   A145C6F8-EDCB-47B1-BF5D-B328F6AF97CA 2021-01-20 16:00:00     0.000   \n",
       "...                                       ...                 ...       ...   \n",
       "2165277  E99EFF35-01BE-49A9-8F61-641F752051E5 2021-11-08 15:00:00     0.000   \n",
       "2174627  1A4C0239-A7AB-4188-84DB-8F52FBF6E13C 2021-11-10 11:00:00   282.240   \n",
       "2174629  1A4C0239-A7AB-4188-84DB-8F52FBF6E13C 2021-11-10 11:00:00   282.240   \n",
       "2198034  C9D86AF9-373C-4531-92A4-8FC752DD5D75 2021-11-14 12:00:00     0.000   \n",
       "2198035  C9D86AF9-373C-4531-92A4-8FC752DD5D75 2021-11-14 12:00:00     0.000   \n",
       "\n",
       "         gest_Discount  \n",
       "639              0.000  \n",
       "663              0.000  \n",
       "85786            0.000  \n",
       "85787            0.000  \n",
       "133279           0.000  \n",
       "...                ...  \n",
       "2165277          0.000  \n",
       "2174627         37.760  \n",
       "2174629         37.760  \n",
       "2198034          0.000  \n",
       "2198035          0.000  \n",
       "\n",
       "[225 rows x 4 columns]"
      ]
     },
     "execution_count": 11,
     "metadata": {},
     "output_type": "execute_result"
    }
   ],
   "source": [
    "df.loc[df.duplicated(keep=False)]"
   ]
  },
  {
   "cell_type": "markdown",
   "id": "2de29057-8b9d-4684-98c0-f2ddaa928b70",
   "metadata": {
    "tags": []
   },
   "source": [
    "Удалим дубликаты."
   ]
  },
  {
   "cell_type": "code",
   "execution_count": 12,
   "id": "007ee042-2d7d-4634-9962-c9bdcd324388",
   "metadata": {},
   "outputs": [],
   "source": [
    "df = df.drop_duplicates()"
   ]
  },
  {
   "cell_type": "code",
   "execution_count": 13,
   "id": "a50807cf-6b8d-4eaa-9a06-5b244e7ceecd",
   "metadata": {},
   "outputs": [
    {
     "data": {
      "text/plain": [
       "0"
      ]
     },
     "execution_count": 13,
     "metadata": {},
     "output_type": "execute_result"
    }
   ],
   "source": [
    "df.duplicated().sum()"
   ]
  },
  {
   "cell_type": "markdown",
   "id": "05de76ac-875f-4136-a9a5-d11b4f27d9a5",
   "metadata": {},
   "source": [
    "Дубликаты удалили."
   ]
  },
  {
   "cell_type": "markdown",
   "id": "4b97a434-748a-4fa4-8262-8b304a6a4a8c",
   "metadata": {},
   "source": [
    "# EDA"
   ]
  },
  {
   "cell_type": "markdown",
   "id": "b331f231-e61a-452b-9fe3-896a8966e2a5",
   "metadata": {},
   "source": [
    "Вопросы к данным?\n",
    "1. Действительно ли таргет 1 там, где дельта между датами покупки >= 45 дней?\n",
    "2. Есть ли дисбаланс классов (по сделкам и по клиентам)\n",
    "3. Есть ли какие-то аномалии (неожиданные значения) в \n",
    "    * датах,\n",
    "    * сумме чека за вычетом скидки\n",
    "    * в размере скидки\n",
    "\n",
    "Сравнение по таргету:\n",
    "4. Отличаются ли клиенты, которые ушли в отток от тех, которые не ушли по:\n",
    "    * чеку за вычетом скидки, \n",
    "    * по скидке, \n",
    "    * по общей стоимости (без учета скидки), \n",
    "    * по длительности в днях между покупками\n",
    "    \n",
    "5. Корреляции в данных по сделкам и по клиентам\n"
   ]
  },
  {
   "cell_type": "markdown",
   "id": "62b01a0e-db90-446e-9d51-803198774963",
   "metadata": {},
   "source": [
    "## Проверка таргета"
   ]
  },
  {
   "cell_type": "markdown",
   "id": "7879d6ea-bccd-4545-acad-0e00b7bb10e4",
   "metadata": {},
   "source": [
    "**Действительно ли таргет 1 там, где дельта между датами покупки >= 45 дней?**  \n",
    "Для этого создадим соответствующее условие, применим его к данным со сделками и сравним в таргетом.\n",
    "1. Создадим фичу с дельтой в днях между покупками по каждому клиенту\n",
    "2. Проверим, если максимальная дельта у клиента больше или равна 45 дням, то ставим флаг 1, в противном случае 0.\n",
    "3. Сравниваем получившиеся флаги с предоставленными данными по таргету."
   ]
  },
  {
   "cell_type": "code",
   "execution_count": 14,
   "id": "21e27b33-07e6-4e7c-b97e-593573c01583",
   "metadata": {},
   "outputs": [],
   "source": [
    "# Создаем фичу с дельтой в днях между покупками по каждому клиенту\n",
    "def time_delta(col):\n",
    "    return col.diff()\n",
    "\n",
    "df['days_after_last_buy'] = df.groupby('clnt_ID')['timestamp'].transform(time_delta)\n",
    "df['days_after_last_buy'] = df['days_after_last_buy'].dt.days\n",
    "df['days_after_last_buy'] = df['days_after_last_buy'].fillna(-1) # Это делаем, чтобы значение \"вообще не было покупок ранее\" отличалось от \"прошло 0 дней с прошлой покупки\""
   ]
  },
  {
   "cell_type": "code",
   "execution_count": 15,
   "id": "1c8c192b-d701-4bec-9a5b-7d14fc122536",
   "metadata": {
    "tags": []
   },
   "outputs": [
    {
     "data": {
      "text/html": [
       "<div>\n",
       "<style scoped>\n",
       "    .dataframe tbody tr th:only-of-type {\n",
       "        vertical-align: middle;\n",
       "    }\n",
       "\n",
       "    .dataframe tbody tr th {\n",
       "        vertical-align: top;\n",
       "    }\n",
       "\n",
       "    .dataframe thead th {\n",
       "        text-align: right;\n",
       "    }\n",
       "</style>\n",
       "<table border=\"1\" class=\"dataframe\">\n",
       "  <thead>\n",
       "    <tr style=\"text-align: right;\">\n",
       "      <th></th>\n",
       "      <th>clnt_ID</th>\n",
       "      <th>timestamp</th>\n",
       "      <th>gest_Sum</th>\n",
       "      <th>gest_Discount</th>\n",
       "      <th>days_after_last_buy</th>\n",
       "    </tr>\n",
       "  </thead>\n",
       "  <tbody>\n",
       "    <tr>\n",
       "      <th>0</th>\n",
       "      <td>193B4268-0B4A-475E-B1D0-FF5515E29D29</td>\n",
       "      <td>2021-01-02 09:09:17.060</td>\n",
       "      <td>900.000</td>\n",
       "      <td>300.000</td>\n",
       "      <td>-1.000</td>\n",
       "    </tr>\n",
       "    <tr>\n",
       "      <th>1</th>\n",
       "      <td>8DA65A37-C1D0-41D4-98E1-AB6C5BF1367F</td>\n",
       "      <td>2021-01-02 09:12:24.850</td>\n",
       "      <td>165.000</td>\n",
       "      <td>55.000</td>\n",
       "      <td>-1.000</td>\n",
       "    </tr>\n",
       "    <tr>\n",
       "      <th>2</th>\n",
       "      <td>26ACF3C8-25C8-4345-ABC2-33DA15EA6454</td>\n",
       "      <td>2021-01-02 09:38:21.643</td>\n",
       "      <td>800.500</td>\n",
       "      <td>25.500</td>\n",
       "      <td>-1.000</td>\n",
       "    </tr>\n",
       "    <tr>\n",
       "      <th>3</th>\n",
       "      <td>0F77DDB3-A9A7-44BE-AAAB-9DF59B66A695</td>\n",
       "      <td>2021-01-02 09:45:17.793</td>\n",
       "      <td>580.000</td>\n",
       "      <td>0.000</td>\n",
       "      <td>-1.000</td>\n",
       "    </tr>\n",
       "    <tr>\n",
       "      <th>4</th>\n",
       "      <td>F16BCF77-FA5A-4093-B7E3-FA86E2B1EA31</td>\n",
       "      <td>2021-01-02 09:59:50.453</td>\n",
       "      <td>148.900</td>\n",
       "      <td>3.100</td>\n",
       "      <td>-1.000</td>\n",
       "    </tr>\n",
       "  </tbody>\n",
       "</table>\n",
       "</div>"
      ],
      "text/plain": [
       "                                clnt_ID               timestamp  gest_Sum  \\\n",
       "0  193B4268-0B4A-475E-B1D0-FF5515E29D29 2021-01-02 09:09:17.060   900.000   \n",
       "1  8DA65A37-C1D0-41D4-98E1-AB6C5BF1367F 2021-01-02 09:12:24.850   165.000   \n",
       "2  26ACF3C8-25C8-4345-ABC2-33DA15EA6454 2021-01-02 09:38:21.643   800.500   \n",
       "3  0F77DDB3-A9A7-44BE-AAAB-9DF59B66A695 2021-01-02 09:45:17.793   580.000   \n",
       "4  F16BCF77-FA5A-4093-B7E3-FA86E2B1EA31 2021-01-02 09:59:50.453   148.900   \n",
       "\n",
       "   gest_Discount  days_after_last_buy  \n",
       "0        300.000               -1.000  \n",
       "1         55.000               -1.000  \n",
       "2         25.500               -1.000  \n",
       "3          0.000               -1.000  \n",
       "4          3.100               -1.000  "
      ]
     },
     "execution_count": 15,
     "metadata": {},
     "output_type": "execute_result"
    }
   ],
   "source": [
    "df.head()"
   ]
  },
  {
   "cell_type": "code",
   "execution_count": 16,
   "id": "2ed1ea14-839b-439d-a951-ca392f544bb3",
   "metadata": {
    "tags": []
   },
   "outputs": [
    {
     "data": {
      "text/html": [
       "<div>\n",
       "<style scoped>\n",
       "    .dataframe tbody tr th:only-of-type {\n",
       "        vertical-align: middle;\n",
       "    }\n",
       "\n",
       "    .dataframe tbody tr th {\n",
       "        vertical-align: top;\n",
       "    }\n",
       "\n",
       "    .dataframe thead th {\n",
       "        text-align: right;\n",
       "    }\n",
       "</style>\n",
       "<table border=\"1\" class=\"dataframe\">\n",
       "  <thead>\n",
       "    <tr style=\"text-align: right;\">\n",
       "      <th></th>\n",
       "      <th>clnt_ID</th>\n",
       "      <th>timestamp</th>\n",
       "      <th>gest_Sum</th>\n",
       "      <th>gest_Discount</th>\n",
       "      <th>days_after_last_buy</th>\n",
       "    </tr>\n",
       "  </thead>\n",
       "  <tbody>\n",
       "    <tr>\n",
       "      <th>2371630</th>\n",
       "      <td>6A41E569-CE78-47F3-A671-357000336B67</td>\n",
       "      <td>2021-12-15 22:27:59.033</td>\n",
       "      <td>630.000</td>\n",
       "      <td>210.000</td>\n",
       "      <td>0.000</td>\n",
       "    </tr>\n",
       "    <tr>\n",
       "      <th>2371631</th>\n",
       "      <td>9ABC36A1-BA7D-4145-A25B-609945E1B50F</td>\n",
       "      <td>2021-12-15 22:34:49.327</td>\n",
       "      <td>76.000</td>\n",
       "      <td>19.000</td>\n",
       "      <td>0.000</td>\n",
       "    </tr>\n",
       "    <tr>\n",
       "      <th>2371632</th>\n",
       "      <td>565D07CD-6B1C-4F17-988E-313C2E5C6798</td>\n",
       "      <td>2021-12-15 22:42:54.540</td>\n",
       "      <td>346.400</td>\n",
       "      <td>153.600</td>\n",
       "      <td>7.000</td>\n",
       "    </tr>\n",
       "    <tr>\n",
       "      <th>2371633</th>\n",
       "      <td>F9953B4A-FADB-4213-82EB-6E2B7D1565C7</td>\n",
       "      <td>2021-12-15 22:44:54.387</td>\n",
       "      <td>52.500</td>\n",
       "      <td>17.500</td>\n",
       "      <td>0.000</td>\n",
       "    </tr>\n",
       "    <tr>\n",
       "      <th>2371634</th>\n",
       "      <td>6E719B78-61E2-4F03-BF63-D83AE5DE5629</td>\n",
       "      <td>2021-12-15 22:45:31.087</td>\n",
       "      <td>661.600</td>\n",
       "      <td>43.400</td>\n",
       "      <td>1.000</td>\n",
       "    </tr>\n",
       "  </tbody>\n",
       "</table>\n",
       "</div>"
      ],
      "text/plain": [
       "                                      clnt_ID               timestamp  \\\n",
       "2371630  6A41E569-CE78-47F3-A671-357000336B67 2021-12-15 22:27:59.033   \n",
       "2371631  9ABC36A1-BA7D-4145-A25B-609945E1B50F 2021-12-15 22:34:49.327   \n",
       "2371632  565D07CD-6B1C-4F17-988E-313C2E5C6798 2021-12-15 22:42:54.540   \n",
       "2371633  F9953B4A-FADB-4213-82EB-6E2B7D1565C7 2021-12-15 22:44:54.387   \n",
       "2371634  6E719B78-61E2-4F03-BF63-D83AE5DE5629 2021-12-15 22:45:31.087   \n",
       "\n",
       "         gest_Sum  gest_Discount  days_after_last_buy  \n",
       "2371630   630.000        210.000                0.000  \n",
       "2371631    76.000         19.000                0.000  \n",
       "2371632   346.400        153.600                7.000  \n",
       "2371633    52.500         17.500                0.000  \n",
       "2371634   661.600         43.400                1.000  "
      ]
     },
     "execution_count": 16,
     "metadata": {},
     "output_type": "execute_result"
    }
   ],
   "source": [
    "df.tail()"
   ]
  },
  {
   "cell_type": "code",
   "execution_count": 17,
   "id": "b1af2b6a-85c4-4e5e-96f5-e5d04c67afba",
   "metadata": {
    "tags": []
   },
   "outputs": [
    {
     "data": {
      "text/html": [
       "<div>\n",
       "<style scoped>\n",
       "    .dataframe tbody tr th:only-of-type {\n",
       "        vertical-align: middle;\n",
       "    }\n",
       "\n",
       "    .dataframe tbody tr th {\n",
       "        vertical-align: top;\n",
       "    }\n",
       "\n",
       "    .dataframe thead th {\n",
       "        text-align: right;\n",
       "    }\n",
       "</style>\n",
       "<table border=\"1\" class=\"dataframe\">\n",
       "  <thead>\n",
       "    <tr style=\"text-align: right;\">\n",
       "      <th></th>\n",
       "      <th>days_after_last_buy</th>\n",
       "    </tr>\n",
       "    <tr>\n",
       "      <th>clnt_ID</th>\n",
       "      <th></th>\n",
       "    </tr>\n",
       "  </thead>\n",
       "  <tbody>\n",
       "    <tr>\n",
       "      <th>000070A8-DB9E-4AB7-8C4D-6169D4AEBB2A</th>\n",
       "      <td>28.000</td>\n",
       "    </tr>\n",
       "    <tr>\n",
       "      <th>00007EB0-6331-438E-A917-E9840C260876</th>\n",
       "      <td>-1.000</td>\n",
       "    </tr>\n",
       "    <tr>\n",
       "      <th>0000993D-A30E-4233-AB3F-D368D9A0D2C4</th>\n",
       "      <td>-1.000</td>\n",
       "    </tr>\n",
       "    <tr>\n",
       "      <th>0000A724-7BC5-408F-9F16-6CC3AB16322F</th>\n",
       "      <td>40.000</td>\n",
       "    </tr>\n",
       "    <tr>\n",
       "      <th>0000B90C-56DE-43C2-A213-624AFBE36DB2</th>\n",
       "      <td>-1.000</td>\n",
       "    </tr>\n",
       "    <tr>\n",
       "      <th>...</th>\n",
       "      <td>...</td>\n",
       "    </tr>\n",
       "    <tr>\n",
       "      <th>FFFF1629-85B6-9DD3-994C-5E21A88A5BFF</th>\n",
       "      <td>-1.000</td>\n",
       "    </tr>\n",
       "    <tr>\n",
       "      <th>FFFF364C-972B-4F77-9A75-AF62F01E6B7B</th>\n",
       "      <td>-1.000</td>\n",
       "    </tr>\n",
       "    <tr>\n",
       "      <th>FFFF3BC7-D0FB-4630-8D09-1D4088C5A297</th>\n",
       "      <td>10.000</td>\n",
       "    </tr>\n",
       "    <tr>\n",
       "      <th>FFFF788D-F1CF-4A74-B825-FAF05BC062C1</th>\n",
       "      <td>-1.000</td>\n",
       "    </tr>\n",
       "    <tr>\n",
       "      <th>FFFFBA18-758F-4CAF-8437-1E0A73670F7D</th>\n",
       "      <td>24.000</td>\n",
       "    </tr>\n",
       "  </tbody>\n",
       "</table>\n",
       "<p>255109 rows × 1 columns</p>\n",
       "</div>"
      ],
      "text/plain": [
       "                                      days_after_last_buy\n",
       "clnt_ID                                                  \n",
       "000070A8-DB9E-4AB7-8C4D-6169D4AEBB2A               28.000\n",
       "00007EB0-6331-438E-A917-E9840C260876               -1.000\n",
       "0000993D-A30E-4233-AB3F-D368D9A0D2C4               -1.000\n",
       "0000A724-7BC5-408F-9F16-6CC3AB16322F               40.000\n",
       "0000B90C-56DE-43C2-A213-624AFBE36DB2               -1.000\n",
       "...                                                   ...\n",
       "FFFF1629-85B6-9DD3-994C-5E21A88A5BFF               -1.000\n",
       "FFFF364C-972B-4F77-9A75-AF62F01E6B7B               -1.000\n",
       "FFFF3BC7-D0FB-4630-8D09-1D4088C5A297               10.000\n",
       "FFFF788D-F1CF-4A74-B825-FAF05BC062C1               -1.000\n",
       "FFFFBA18-758F-4CAF-8437-1E0A73670F7D               24.000\n",
       "\n",
       "[255109 rows x 1 columns]"
      ]
     },
     "execution_count": 17,
     "metadata": {},
     "output_type": "execute_result"
    }
   ],
   "source": [
    "# Проверим равна или больше 45 кол-во дней с прошлой покупки по каждому клиенту\n",
    "\n",
    "# Сгруппируем данные\n",
    "df_eda_temp = df.pivot_table(index='clnt_ID',values=['days_after_last_buy'],aggfunc='max')\n",
    "df_eda_temp"
   ]
  },
  {
   "cell_type": "code",
   "execution_count": 18,
   "id": "83870298-87c7-4f6d-8fe6-ed9d64222b45",
   "metadata": {},
   "outputs": [],
   "source": [
    "# Создадим столбец с условием\n",
    "df_eda_temp['>=45'] = df_eda_temp['days_after_last_buy'] >= 45"
   ]
  },
  {
   "cell_type": "code",
   "execution_count": 19,
   "id": "08d63d52-12f6-48eb-97ca-466a5b6e7a20",
   "metadata": {
    "tags": []
   },
   "outputs": [
    {
     "data": {
      "text/html": [
       "<div>\n",
       "<style scoped>\n",
       "    .dataframe tbody tr th:only-of-type {\n",
       "        vertical-align: middle;\n",
       "    }\n",
       "\n",
       "    .dataframe tbody tr th {\n",
       "        vertical-align: top;\n",
       "    }\n",
       "\n",
       "    .dataframe thead th {\n",
       "        text-align: right;\n",
       "    }\n",
       "</style>\n",
       "<table border=\"1\" class=\"dataframe\">\n",
       "  <thead>\n",
       "    <tr style=\"text-align: right;\">\n",
       "      <th></th>\n",
       "      <th>days_after_last_buy</th>\n",
       "      <th>&gt;=45</th>\n",
       "    </tr>\n",
       "    <tr>\n",
       "      <th>clnt_ID</th>\n",
       "      <th></th>\n",
       "      <th></th>\n",
       "    </tr>\n",
       "  </thead>\n",
       "  <tbody>\n",
       "    <tr>\n",
       "      <th>000070A8-DB9E-4AB7-8C4D-6169D4AEBB2A</th>\n",
       "      <td>28.000</td>\n",
       "      <td>False</td>\n",
       "    </tr>\n",
       "    <tr>\n",
       "      <th>00007EB0-6331-438E-A917-E9840C260876</th>\n",
       "      <td>-1.000</td>\n",
       "      <td>False</td>\n",
       "    </tr>\n",
       "    <tr>\n",
       "      <th>0000993D-A30E-4233-AB3F-D368D9A0D2C4</th>\n",
       "      <td>-1.000</td>\n",
       "      <td>False</td>\n",
       "    </tr>\n",
       "    <tr>\n",
       "      <th>0000A724-7BC5-408F-9F16-6CC3AB16322F</th>\n",
       "      <td>40.000</td>\n",
       "      <td>False</td>\n",
       "    </tr>\n",
       "    <tr>\n",
       "      <th>0000B90C-56DE-43C2-A213-624AFBE36DB2</th>\n",
       "      <td>-1.000</td>\n",
       "      <td>False</td>\n",
       "    </tr>\n",
       "    <tr>\n",
       "      <th>...</th>\n",
       "      <td>...</td>\n",
       "      <td>...</td>\n",
       "    </tr>\n",
       "    <tr>\n",
       "      <th>FFFF1629-85B6-9DD3-994C-5E21A88A5BFF</th>\n",
       "      <td>-1.000</td>\n",
       "      <td>False</td>\n",
       "    </tr>\n",
       "    <tr>\n",
       "      <th>FFFF364C-972B-4F77-9A75-AF62F01E6B7B</th>\n",
       "      <td>-1.000</td>\n",
       "      <td>False</td>\n",
       "    </tr>\n",
       "    <tr>\n",
       "      <th>FFFF3BC7-D0FB-4630-8D09-1D4088C5A297</th>\n",
       "      <td>10.000</td>\n",
       "      <td>False</td>\n",
       "    </tr>\n",
       "    <tr>\n",
       "      <th>FFFF788D-F1CF-4A74-B825-FAF05BC062C1</th>\n",
       "      <td>-1.000</td>\n",
       "      <td>False</td>\n",
       "    </tr>\n",
       "    <tr>\n",
       "      <th>FFFFBA18-758F-4CAF-8437-1E0A73670F7D</th>\n",
       "      <td>24.000</td>\n",
       "      <td>False</td>\n",
       "    </tr>\n",
       "  </tbody>\n",
       "</table>\n",
       "<p>255109 rows × 2 columns</p>\n",
       "</div>"
      ],
      "text/plain": [
       "                                      days_after_last_buy   >=45\n",
       "clnt_ID                                                         \n",
       "000070A8-DB9E-4AB7-8C4D-6169D4AEBB2A               28.000  False\n",
       "00007EB0-6331-438E-A917-E9840C260876               -1.000  False\n",
       "0000993D-A30E-4233-AB3F-D368D9A0D2C4               -1.000  False\n",
       "0000A724-7BC5-408F-9F16-6CC3AB16322F               40.000  False\n",
       "0000B90C-56DE-43C2-A213-624AFBE36DB2               -1.000  False\n",
       "...                                                   ...    ...\n",
       "FFFF1629-85B6-9DD3-994C-5E21A88A5BFF               -1.000  False\n",
       "FFFF364C-972B-4F77-9A75-AF62F01E6B7B               -1.000  False\n",
       "FFFF3BC7-D0FB-4630-8D09-1D4088C5A297               10.000  False\n",
       "FFFF788D-F1CF-4A74-B825-FAF05BC062C1               -1.000  False\n",
       "FFFFBA18-758F-4CAF-8437-1E0A73670F7D               24.000  False\n",
       "\n",
       "[255109 rows x 2 columns]"
      ]
     },
     "execution_count": 19,
     "metadata": {},
     "output_type": "execute_result"
    }
   ],
   "source": [
    "df_eda_temp"
   ]
  },
  {
   "cell_type": "code",
   "execution_count": 20,
   "id": "5a2873c6-bb7b-408c-a3dc-b69fe3d46488",
   "metadata": {},
   "outputs": [
    {
     "data": {
      "text/plain": [
       "count     255109\n",
       "unique         2\n",
       "top        False\n",
       "freq      250480\n",
       "Name: >=45, dtype: object"
      ]
     },
     "metadata": {},
     "output_type": "display_data"
    },
    {
     "data": {
      "text/plain": [
       "False    250480\n",
       "True       4629\n",
       "Name: >=45, dtype: int64"
      ]
     },
     "execution_count": 20,
     "metadata": {},
     "output_type": "execute_result"
    }
   ],
   "source": [
    "# Посмотрим что получилось\n",
    "display(df_eda_temp['>=45'].describe())\n",
    "df_eda_temp['>=45'].value_counts()"
   ]
  },
  {
   "cell_type": "code",
   "execution_count": 21,
   "id": "3413ff31-251b-41b3-a6ba-df8ebbe5aac3",
   "metadata": {},
   "outputs": [
    {
     "data": {
      "text/plain": [
       "0    128857\n",
       "1    126252\n",
       "Name: target, dtype: int64"
      ]
     },
     "execution_count": 21,
     "metadata": {},
     "output_type": "execute_result"
    }
   ],
   "source": [
    "# Посмотрим и сравним с таргетом, который был даден заказчиком\n",
    "df_target['target'].value_counts()"
   ]
  },
  {
   "cell_type": "markdown",
   "id": "7fb46884-c303-4c4f-8e64-c9ef69641521",
   "metadata": {},
   "source": [
    "На лицо очень сильная разница:  \n",
    "В моем скрипте в оттоке 4629 (True),  \n",
    "В предоставленных данных 126252."
   ]
  },
  {
   "cell_type": "code",
   "execution_count": 22,
   "id": "17d336c6-6209-41f2-989c-fe511cfe90c6",
   "metadata": {},
   "outputs": [],
   "source": [
    "# df_eda_temp['>=45'].to_csv('data/target_generated_on_data.csv')"
   ]
  },
  {
   "cell_type": "code",
   "execution_count": 23,
   "id": "0dc2bef7-4049-4048-943a-954baa87a11c",
   "metadata": {},
   "outputs": [],
   "source": [
    "df_target_extracted = df_eda_temp['>=45'].astype('int8')\n",
    "df_target_extracted.name = 'target_ext'"
   ]
  },
  {
   "cell_type": "markdown",
   "id": "d849632d-29d7-428c-afd1-a9af605bd925",
   "metadata": {},
   "source": [
    "**Есть ли дисбаланс классов?**"
   ]
  },
  {
   "cell_type": "markdown",
   "id": "89e26770-ade2-4e2e-afc2-46448a0297f6",
   "metadata": {},
   "source": [
    "Посмотрим по новым и старым таргетам."
   ]
  },
  {
   "cell_type": "code",
   "execution_count": 24,
   "id": "a00c49d6-0b6c-4967-b510-f7b55995cc89",
   "metadata": {},
   "outputs": [
    {
     "name": "stdout",
     "output_type": "stream",
     "text": [
      "Таргет по клиентам, старый таргет\n"
     ]
    },
    {
     "data": {
      "text/plain": [
       "0    128857\n",
       "1    126252\n",
       "Name: target, dtype: int64"
      ]
     },
     "metadata": {},
     "output_type": "display_data"
    },
    {
     "name": "stdout",
     "output_type": "stream",
     "text": [
      "\n",
      "Таргет по сделкам, старый таргет\n"
     ]
    },
    {
     "data": {
      "text/plain": [
       "0    1699701\n",
       "1     671805\n",
       "Name: target, dtype: int64"
      ]
     },
     "execution_count": 24,
     "metadata": {},
     "output_type": "execute_result"
    }
   ],
   "source": [
    "print('Таргет по клиентам, старый таргет')\n",
    "display(df_target['target'].value_counts())\n",
    "print()\n",
    "# Проверим дисбаланс по таргету на сделках\n",
    "print('Таргет по сделкам, старый таргет')\n",
    "df.merge(df_target,on='clnt_ID')['target'].value_counts()"
   ]
  },
  {
   "cell_type": "markdown",
   "id": "41a60671-9954-4c1a-9b6d-fb9e2bd36ba0",
   "metadata": {},
   "source": [
    "Дисбаланса по клиентам *нет*(*?*).  \n",
    "Дисбаланс по сделкам *есть*(*?*)."
   ]
  },
  {
   "cell_type": "code",
   "execution_count": 25,
   "id": "7f725fde-f5d2-4e68-af06-df9f566b0219",
   "metadata": {},
   "outputs": [
    {
     "name": "stdout",
     "output_type": "stream",
     "text": [
      "Таргет по клиентам, новый таргет\n"
     ]
    },
    {
     "data": {
      "text/html": [
       "<div>\n",
       "<style scoped>\n",
       "    .dataframe tbody tr th:only-of-type {\n",
       "        vertical-align: middle;\n",
       "    }\n",
       "\n",
       "    .dataframe tbody tr th {\n",
       "        vertical-align: top;\n",
       "    }\n",
       "\n",
       "    .dataframe thead th {\n",
       "        text-align: right;\n",
       "    }\n",
       "</style>\n",
       "<table border=\"1\" class=\"dataframe\">\n",
       "  <thead>\n",
       "    <tr style=\"text-align: right;\">\n",
       "      <th></th>\n",
       "      <th>target_ext</th>\n",
       "      <th>target_ext</th>\n",
       "    </tr>\n",
       "  </thead>\n",
       "  <tbody>\n",
       "    <tr>\n",
       "      <th>0</th>\n",
       "      <td>0.982</td>\n",
       "      <td>250480</td>\n",
       "    </tr>\n",
       "    <tr>\n",
       "      <th>1</th>\n",
       "      <td>0.018</td>\n",
       "      <td>4629</td>\n",
       "    </tr>\n",
       "  </tbody>\n",
       "</table>\n",
       "</div>"
      ],
      "text/plain": [
       "   target_ext  target_ext\n",
       "0       0.982      250480\n",
       "1       0.018        4629"
      ]
     },
     "metadata": {},
     "output_type": "display_data"
    },
    {
     "name": "stdout",
     "output_type": "stream",
     "text": [
      "\n",
      "Таргет по сделкам, новый таргет\n"
     ]
    },
    {
     "data": {
      "text/plain": [
       "0    2339855\n",
       "1      31651\n",
       "Name: target_ext, dtype: int64"
      ]
     },
     "execution_count": 25,
     "metadata": {},
     "output_type": "execute_result"
    }
   ],
   "source": [
    "print('Таргет по клиентам, новый таргет')\n",
    "display(pd.concat([df_target_extracted.value_counts(normalize=True),df_target_extracted.value_counts()],axis=1))\n",
    "print()\n",
    "print('Таргет по сделкам, новый таргет')\n",
    "df.merge(df_target_extracted,on='clnt_ID')['target_ext'].value_counts()"
   ]
  },
  {
   "cell_type": "markdown",
   "id": "688cdd8f-f4c6-4eed-ae7f-ad167476b059",
   "metadata": {},
   "source": [
    "Дисбаланс по новому таргету по клиентам есть.  \n",
    "Дисбаланс по новому таргету по сделкам тож есть."
   ]
  },
  {
   "cell_type": "markdown",
   "id": "86197657-b849-4e40-93c1-17973a52d0bb",
   "metadata": {},
   "source": [
    "## Поиск аномалий в данных"
   ]
  },
  {
   "cell_type": "markdown",
   "id": "a72238d1-e4b3-48cf-a71a-3e7a4aec32a2",
   "metadata": {},
   "source": [
    "Для поиска аномалий воспользуемся собственной функцией подсчета статистик числовых признаков (но не даты)."
   ]
  },
  {
   "cell_type": "code",
   "execution_count": 26,
   "id": "7338be18-7e2b-4b92-994b-60eece8e8671",
   "metadata": {
    "jupyter": {
     "source_hidden": true
    },
    "tags": []
   },
   "outputs": [],
   "source": [
    "def describe(col):\n",
    "    \"\"\"\n",
    "    Функция выводит подробное числовое описание данных.\n",
    "    \"\"\"\n",
    "\n",
    "#     Подсчет количества значений\n",
    "    count_ = col.count()\n",
    "    \n",
    "#     Меры центральной тенденции:\n",
    "#     Среднее\n",
    "    mean = col.mean()\n",
    "#     Медиана\n",
    "    median = col.median()\n",
    "#     Мода\n",
    "    mode = col.mode()\n",
    "\n",
    "#     Меры разброса\n",
    "#     Дисперсия\n",
    "    var = col.var()\n",
    "#     Стандартное отклонение\n",
    "    stddev = col.std()\n",
    "#     Межквартильный размах\n",
    "    quartile_1 = col.quantile(0.25)\n",
    "    quartile_3 = col.quantile(0.75)\n",
    "    iqr = quartile_3 - quartile_1\n",
    "#     Мин, макс, размах\n",
    "    min_ = col.min()\n",
    "    max_ = col.max()\n",
    "    range_ = max_ - min_\n",
    "\n",
    "#     Левая граница ящика с усами\n",
    "    outlier_border_left = quartile_1 - 1.5 * iqr\n",
    "#     Правая граница ящика с усами\n",
    "    outlier_border_right = quartile_3 + 1.5 * iqr\n",
    "    \n",
    "#    Количество выбросов\n",
    "    outliers_mask = (col <= outlier_border_left) | (col >= outlier_border_right)\n",
    "    outliers_count = col.loc[outliers_mask].count()\n",
    "    outliers_proportion = outliers_count / count_\n",
    "    \n",
    "#     Создание и вывод таблицы с числовым описанием данных\n",
    "    describe_ = {\"count\": count_,\n",
    "                 \"mean\": mean,\n",
    "                 \"mode\": mode,\n",
    "                 \"var\": var,\n",
    "                 \"stddev\": stddev,\n",
    "                 \"min\": min_,\n",
    "                 \"25%\": quartile_1,\n",
    "                 \"50%\": median,\n",
    "                 \"75%\": quartile_3,\n",
    "                 \"max\": max_,\n",
    "                 \"total_range\": range_,\n",
    "                 \"interquartile_range\": iqr,\n",
    "                 \"outlier_border_left\": outlier_border_left,\n",
    "                 \"outlier_border_right\": outlier_border_right,\n",
    "                 \"outliers_count\": outliers_count,\n",
    "                 \"outliers_proportion\": outliers_proportion}\n",
    "    describe_ = pd.DataFrame(describe_).transpose()\n",
    "    describe_.columns = [col.name]\n",
    "    return describe_\n",
    "\n",
    "# describe(t_0)"
   ]
  },
  {
   "cell_type": "markdown",
   "id": "2f93a88f-eb68-4390-84f6-5e4253c47783",
   "metadata": {},
   "source": [
    "**timestamp**"
   ]
  },
  {
   "cell_type": "code",
   "execution_count": 27,
   "id": "1fc373c8-a858-4101-b54c-73ac7782e9e7",
   "metadata": {},
   "outputs": [
    {
     "data": {
      "text/plain": [
       "count                          2371506\n",
       "mean        2021-06-09 07:33:53.499232\n",
       "min         2021-01-02 09:09:17.060000\n",
       "25%      2021-03-15 21:59:01.061499904\n",
       "50%         2021-05-27 16:38:57.212000\n",
       "75%      2021-09-01 18:12:35.844999936\n",
       "max         2021-12-15 22:45:31.087000\n",
       "Name: timestamp, dtype: object"
      ]
     },
     "execution_count": 27,
     "metadata": {},
     "output_type": "execute_result"
    }
   ],
   "source": [
    "df['timestamp'].describe(datetime_is_numeric=True)"
   ]
  },
  {
   "cell_type": "code",
   "execution_count": 28,
   "id": "c6396d75-eaf6-48c1-a5e5-bcb2a503742c",
   "metadata": {},
   "outputs": [
    {
     "data": {
      "image/png": "[encoded data removed]",
      "text/plain": [
       "<Figure size 1080x576 with 1 Axes>"
      ]
     },
     "metadata": {
      "needs_background": "light"
     },
     "output_type": "display_data"
    }
   ],
   "source": [
    "fig,ax = plt.subplots(figsize=(15,8))\n",
    "sns.histplot(x=df['timestamp'].dt.date,ax=ax)\n",
    "plt.show()\n"
   ]
  },
  {
   "cell_type": "markdown",
   "id": "827ad54b-49d4-4d77-abdb-54761d5503c8",
   "metadata": {},
   "source": [
    "* Есть пик в районе 2021-05\n",
    "* \"Яма\" - 2021-11"
   ]
  },
  {
   "cell_type": "markdown",
   "id": "7727741d-b903-4454-8600-8f055980bac7",
   "metadata": {},
   "source": [
    "**gest_Sum**"
   ]
  },
  {
   "cell_type": "code",
   "execution_count": 29,
   "id": "24f47211-aa19-4460-9cab-10f2ad68da55",
   "metadata": {},
   "outputs": [
    {
     "data": {
      "text/html": [
       "<div>\n",
       "<style scoped>\n",
       "    .dataframe tbody tr th:only-of-type {\n",
       "        vertical-align: middle;\n",
       "    }\n",
       "\n",
       "    .dataframe tbody tr th {\n",
       "        vertical-align: top;\n",
       "    }\n",
       "\n",
       "    .dataframe thead th {\n",
       "        text-align: right;\n",
       "    }\n",
       "</style>\n",
       "<table border=\"1\" class=\"dataframe\">\n",
       "  <thead>\n",
       "    <tr style=\"text-align: right;\">\n",
       "      <th></th>\n",
       "      <th>gest_Sum</th>\n",
       "    </tr>\n",
       "  </thead>\n",
       "  <tbody>\n",
       "    <tr>\n",
       "      <th>count</th>\n",
       "      <td>2371506.000</td>\n",
       "    </tr>\n",
       "    <tr>\n",
       "      <th>mean</th>\n",
       "      <td>452.622</td>\n",
       "    </tr>\n",
       "    <tr>\n",
       "      <th>mode</th>\n",
       "      <td>201.600</td>\n",
       "    </tr>\n",
       "    <tr>\n",
       "      <th>var</th>\n",
       "      <td>172042.693</td>\n",
       "    </tr>\n",
       "    <tr>\n",
       "      <th>stddev</th>\n",
       "      <td>414.780</td>\n",
       "    </tr>\n",
       "    <tr>\n",
       "      <th>min</th>\n",
       "      <td>0.000</td>\n",
       "    </tr>\n",
       "    <tr>\n",
       "      <th>25%</th>\n",
       "      <td>195.300</td>\n",
       "    </tr>\n",
       "    <tr>\n",
       "      <th>50%</th>\n",
       "      <td>340.800</td>\n",
       "    </tr>\n",
       "    <tr>\n",
       "      <th>75%</th>\n",
       "      <td>578.200</td>\n",
       "    </tr>\n",
       "    <tr>\n",
       "      <th>max</th>\n",
       "      <td>23500.000</td>\n",
       "    </tr>\n",
       "    <tr>\n",
       "      <th>total_range</th>\n",
       "      <td>23500.000</td>\n",
       "    </tr>\n",
       "    <tr>\n",
       "      <th>interquartile_range</th>\n",
       "      <td>382.900</td>\n",
       "    </tr>\n",
       "    <tr>\n",
       "      <th>outlier_border_left</th>\n",
       "      <td>-379.050</td>\n",
       "    </tr>\n",
       "    <tr>\n",
       "      <th>outlier_border_right</th>\n",
       "      <td>1152.550</td>\n",
       "    </tr>\n",
       "    <tr>\n",
       "      <th>outliers_count</th>\n",
       "      <td>139329.000</td>\n",
       "    </tr>\n",
       "    <tr>\n",
       "      <th>outliers_proportion</th>\n",
       "      <td>0.059</td>\n",
       "    </tr>\n",
       "  </tbody>\n",
       "</table>\n",
       "</div>"
      ],
      "text/plain": [
       "                        gest_Sum\n",
       "count                2371506.000\n",
       "mean                     452.622\n",
       "mode                     201.600\n",
       "var                   172042.693\n",
       "stddev                   414.780\n",
       "min                        0.000\n",
       "25%                      195.300\n",
       "50%                      340.800\n",
       "75%                      578.200\n",
       "max                    23500.000\n",
       "total_range            23500.000\n",
       "interquartile_range      382.900\n",
       "outlier_border_left     -379.050\n",
       "outlier_border_right    1152.550\n",
       "outliers_count        139329.000\n",
       "outliers_proportion        0.059"
      ]
     },
     "execution_count": 29,
     "metadata": {},
     "output_type": "execute_result"
    }
   ],
   "source": [
    "describe(df['gest_Sum'])"
   ]
  },
  {
   "cell_type": "markdown",
   "id": "cf02fe08-073d-41c0-a308-8a2f73cfaff8",
   "metadata": {},
   "source": [
    "* Есть 0. Что они значат?\n",
    "* Есть ~6% выборосов."
   ]
  },
  {
   "cell_type": "markdown",
   "id": "f327b8c4-52b0-4fcc-aacd-c0c341e19660",
   "metadata": {},
   "source": [
    "Сколько нулей?"
   ]
  },
  {
   "cell_type": "code",
   "execution_count": 30,
   "id": "d38cf951-bbb9-4220-b0f9-daa96d3d02f4",
   "metadata": {},
   "outputs": [
    {
     "data": {
      "text/plain": [
       "0.000     3702\n",
       "0.010        1\n",
       "0.030        1\n",
       "0.100       97\n",
       "0.200        5\n",
       "          ... \n",
       "9.700       12\n",
       "9.800        2\n",
       "9.800       14\n",
       "9.900       14\n",
       "10.000       4\n",
       "Name: gest_Sum, Length: 92, dtype: int64"
      ]
     },
     "execution_count": 30,
     "metadata": {},
     "output_type": "execute_result"
    }
   ],
   "source": [
    "df['gest_Sum'].value_counts().sort_index()[0:10]"
   ]
  },
  {
   "cell_type": "code",
   "execution_count": 31,
   "id": "2d27838b-404b-4fc1-86e2-71fd2e73df9a",
   "metadata": {},
   "outputs": [
    {
     "name": "stdout",
     "output_type": "stream",
     "text": [
      "Нулей в \"gest_Sum\": 3702\n"
     ]
    }
   ],
   "source": [
    "gest_Sum_zeros_count = df['gest_Sum'].value_counts().sort_index()[0]\n",
    "print(f'Нулей в \"gest_Sum\": {gest_Sum_zeros_count}')"
   ]
  },
  {
   "cell_type": "code",
   "execution_count": 32,
   "id": "140398f9-3fe1-4439-9a75-532e22486803",
   "metadata": {
    "tags": []
   },
   "outputs": [
    {
     "data": {
      "image/png": "[encoded data removed]",
      "text/plain": [
       "<Figure size 1080x576 with 2 Axes>"
      ]
     },
     "metadata": {
      "needs_background": "light"
     },
     "output_type": "display_data"
    }
   ],
   "source": [
    "fig,ax = plt.subplots(2,1,figsize=(15,8))\n",
    "sns.histplot(x=df['gest_Sum'],ax=ax[0],binwidth=10)\n",
    "sns.boxplot(x=df['gest_Sum'],ax=ax[1])\n",
    "# ax.set_xlim(0,1200)\n",
    "plt.show()\n",
    "# ДОБАВИТЬ НАЗВАНИЕ ГРАФИКОВ И ОСЕЙ"
   ]
  },
  {
   "cell_type": "code",
   "execution_count": 33,
   "id": "6a4af79c-3e3a-49ba-9c09-74a12322e604",
   "metadata": {},
   "outputs": [
    {
     "data": {
      "image/png": "[encoded data removed]",
      "text/plain": [
       "<Figure size 1080x360 with 1 Axes>"
      ]
     },
     "metadata": {
      "needs_background": "light"
     },
     "output_type": "display_data"
    }
   ],
   "source": [
    "fig,ax = plt.subplots(1,1,figsize=(15,5))\n",
    "sns.histplot(x=df['gest_Sum'],ax=ax,binwidth=10,binrange=(0,1500))\n",
    "\n",
    "plt.show()\n",
    "# ДОБАВИТЬ НАЗВАНИЕ ГРАФИКОВ И ОСЕЙ"
   ]
  },
  {
   "cell_type": "markdown",
   "id": "f590f374-5f6e-4013-892f-9ee913aa310e",
   "metadata": {},
   "source": [
    "* Есть пик в районе 100 руб. Кофе?"
   ]
  },
  {
   "cell_type": "markdown",
   "id": "124d6f97-f49d-4123-88ab-1b2578fa4eec",
   "metadata": {},
   "source": [
    "**gest_Discount**"
   ]
  },
  {
   "cell_type": "code",
   "execution_count": 34,
   "id": "95b28e07-7a9d-42b9-a66d-7d3c7e122ba8",
   "metadata": {},
   "outputs": [
    {
     "data": {
      "text/html": [
       "<div>\n",
       "<style scoped>\n",
       "    .dataframe tbody tr th:only-of-type {\n",
       "        vertical-align: middle;\n",
       "    }\n",
       "\n",
       "    .dataframe tbody tr th {\n",
       "        vertical-align: top;\n",
       "    }\n",
       "\n",
       "    .dataframe thead th {\n",
       "        text-align: right;\n",
       "    }\n",
       "</style>\n",
       "<table border=\"1\" class=\"dataframe\">\n",
       "  <thead>\n",
       "    <tr style=\"text-align: right;\">\n",
       "      <th></th>\n",
       "      <th>gest_Discount</th>\n",
       "    </tr>\n",
       "  </thead>\n",
       "  <tbody>\n",
       "    <tr>\n",
       "      <th>count</th>\n",
       "      <td>2371506.000</td>\n",
       "    </tr>\n",
       "    <tr>\n",
       "      <th>mean</th>\n",
       "      <td>41.469</td>\n",
       "    </tr>\n",
       "    <tr>\n",
       "      <th>mode</th>\n",
       "      <td>0.000</td>\n",
       "    </tr>\n",
       "    <tr>\n",
       "      <th>var</th>\n",
       "      <td>7145.522</td>\n",
       "    </tr>\n",
       "    <tr>\n",
       "      <th>stddev</th>\n",
       "      <td>84.531</td>\n",
       "    </tr>\n",
       "    <tr>\n",
       "      <th>min</th>\n",
       "      <td>0.000</td>\n",
       "    </tr>\n",
       "    <tr>\n",
       "      <th>25%</th>\n",
       "      <td>3.100</td>\n",
       "    </tr>\n",
       "    <tr>\n",
       "      <th>50%</th>\n",
       "      <td>14.000</td>\n",
       "    </tr>\n",
       "    <tr>\n",
       "      <th>75%</th>\n",
       "      <td>44.700</td>\n",
       "    </tr>\n",
       "    <tr>\n",
       "      <th>max</th>\n",
       "      <td>3957.500</td>\n",
       "    </tr>\n",
       "    <tr>\n",
       "      <th>total_range</th>\n",
       "      <td>3957.500</td>\n",
       "    </tr>\n",
       "    <tr>\n",
       "      <th>interquartile_range</th>\n",
       "      <td>41.600</td>\n",
       "    </tr>\n",
       "    <tr>\n",
       "      <th>outlier_border_left</th>\n",
       "      <td>-59.300</td>\n",
       "    </tr>\n",
       "    <tr>\n",
       "      <th>outlier_border_right</th>\n",
       "      <td>107.100</td>\n",
       "    </tr>\n",
       "    <tr>\n",
       "      <th>outliers_count</th>\n",
       "      <td>230523.000</td>\n",
       "    </tr>\n",
       "    <tr>\n",
       "      <th>outliers_proportion</th>\n",
       "      <td>0.097</td>\n",
       "    </tr>\n",
       "  </tbody>\n",
       "</table>\n",
       "</div>"
      ],
      "text/plain": [
       "                      gest_Discount\n",
       "count                   2371506.000\n",
       "mean                         41.469\n",
       "mode                          0.000\n",
       "var                        7145.522\n",
       "stddev                       84.531\n",
       "min                           0.000\n",
       "25%                           3.100\n",
       "50%                          14.000\n",
       "75%                          44.700\n",
       "max                        3957.500\n",
       "total_range                3957.500\n",
       "interquartile_range          41.600\n",
       "outlier_border_left         -59.300\n",
       "outlier_border_right        107.100\n",
       "outliers_count           230523.000\n",
       "outliers_proportion           0.097"
      ]
     },
     "execution_count": 34,
     "metadata": {},
     "output_type": "execute_result"
    }
   ],
   "source": [
    "describe(df['gest_Discount'])"
   ]
  },
  {
   "cell_type": "markdown",
   "id": "8b611590-5e63-4ff4-b54f-6caa83d05c49",
   "metadata": {},
   "source": [
    "* Почти 10% выбросов."
   ]
  },
  {
   "cell_type": "code",
   "execution_count": 35,
   "id": "ff06cd01-1f50-4bc8-9aea-2cafdecca114",
   "metadata": {},
   "outputs": [
    {
     "data": {
      "image/png": "[encoded data removed]",
      "text/plain": [
       "<Figure size 1080x576 with 2 Axes>"
      ]
     },
     "metadata": {
      "needs_background": "light"
     },
     "output_type": "display_data"
    }
   ],
   "source": [
    "fig,ax = plt.subplots(2,1,figsize=(15,8))\n",
    "sns.histplot(x=df['gest_Discount'],ax=ax[0],binwidth=1)\n",
    "sns.boxplot(x=df['gest_Discount'],ax=ax[1])\n",
    "# ax.set_xlim(0,1200)\n",
    "plt.show()\n",
    "# ДОБАВИТЬ НАЗВАНИЕ ГРАФИКОВ И ОСЕЙ"
   ]
  },
  {
   "cell_type": "code",
   "execution_count": 36,
   "id": "73e35894-43f4-4a88-923a-a2b31c75a168",
   "metadata": {},
   "outputs": [
    {
     "data": {
      "image/png": "[encoded data removed]",
      "text/plain": [
       "<Figure size 1080x360 with 1 Axes>"
      ]
     },
     "metadata": {
      "needs_background": "light"
     },
     "output_type": "display_data"
    }
   ],
   "source": [
    "fig,ax = plt.subplots(1,1,figsize=(15,5))\n",
    "sns.histplot(x=df['gest_Discount'],ax=ax,binwidth=1,binrange=(0,100))\n",
    "\n",
    "plt.show()\n",
    "# ДОБАВИТЬ НАЗВАНИЕ ГРАФИКОВ И ОСЕЙ"
   ]
  },
  {
   "cell_type": "markdown",
   "id": "529adb5f-7708-4bc3-bc0d-fceeee741d41",
   "metadata": {},
   "source": [
    "Посчитаем кол-во скидок равных 0."
   ]
  },
  {
   "cell_type": "code",
   "execution_count": 37,
   "id": "36987f03-9d24-4935-b7f4-9372fd8b9e7d",
   "metadata": {},
   "outputs": [
    {
     "data": {
      "text/html": [
       "<div>\n",
       "<style scoped>\n",
       "    .dataframe tbody tr th:only-of-type {\n",
       "        vertical-align: middle;\n",
       "    }\n",
       "\n",
       "    .dataframe tbody tr th {\n",
       "        vertical-align: top;\n",
       "    }\n",
       "\n",
       "    .dataframe thead th {\n",
       "        text-align: right;\n",
       "    }\n",
       "</style>\n",
       "<table border=\"1\" class=\"dataframe\">\n",
       "  <thead>\n",
       "    <tr style=\"text-align: right;\">\n",
       "      <th></th>\n",
       "      <th>gest_Discount</th>\n",
       "      <th>gest_Discount</th>\n",
       "    </tr>\n",
       "  </thead>\n",
       "  <tbody>\n",
       "    <tr>\n",
       "      <th>0.000</th>\n",
       "      <td>510671</td>\n",
       "      <td>0.215</td>\n",
       "    </tr>\n",
       "    <tr>\n",
       "      <th>8.400</th>\n",
       "      <td>22558</td>\n",
       "      <td>0.010</td>\n",
       "    </tr>\n",
       "    <tr>\n",
       "      <th>9.600</th>\n",
       "      <td>18969</td>\n",
       "      <td>0.008</td>\n",
       "    </tr>\n",
       "    <tr>\n",
       "      <th>7.200</th>\n",
       "      <td>18342</td>\n",
       "      <td>0.008</td>\n",
       "    </tr>\n",
       "    <tr>\n",
       "      <th>8.800</th>\n",
       "      <td>14287</td>\n",
       "      <td>0.006</td>\n",
       "    </tr>\n",
       "  </tbody>\n",
       "</table>\n",
       "</div>"
      ],
      "text/plain": [
       "       gest_Discount  gest_Discount\n",
       "0.000         510671          0.215\n",
       "8.400          22558          0.010\n",
       "9.600          18969          0.008\n",
       "7.200          18342          0.008\n",
       "8.800          14287          0.006"
      ]
     },
     "execution_count": 37,
     "metadata": {},
     "output_type": "execute_result"
    }
   ],
   "source": [
    "pd.concat([df['gest_Discount'].value_counts().iloc[0:5],df['gest_Discount'].value_counts(normalize=True).iloc[0:5]],axis=1)"
   ]
  },
  {
   "cell_type": "code",
   "execution_count": 38,
   "id": "09fff699-6472-4621-8673-7b5495ff001b",
   "metadata": {},
   "outputs": [
    {
     "name": "stdout",
     "output_type": "stream",
     "text": [
      "Кол-во нулей в \"gest_Discount\": 510671\n",
      "Процентов нулей в \"gest_Discount\" от общего числа: 21.53%\n"
     ]
    }
   ],
   "source": [
    "gest_Discount_zeros_count = df['gest_Discount'].value_counts()[0]\n",
    "print(f'Кол-во нулей в \"gest_Discount\": {gest_Discount_zeros_count}')\n",
    "gest_Discount_zeros_count = df['gest_Discount'].value_counts(normalize=True)[0]\n",
    "print(f'Процентов нулей в \"gest_Discount\" от общего числа: {gest_Discount_zeros_count:.02%}')"
   ]
  },
  {
   "cell_type": "markdown",
   "id": "3015cb9d-1cda-4702-94a2-e482b3772600",
   "metadata": {},
   "source": [
    "## Сравнение признаков с разделение по целевому классу"
   ]
  },
  {
   "cell_type": "markdown",
   "id": "c59349cd-6398-40c8-8702-ec2f5628bb56",
   "metadata": {},
   "source": [
    "Будем сравнивать и по тому таргету, который был даден и по тому, который был сгенерирован здесь."
   ]
  },
  {
   "cell_type": "markdown",
   "id": "e1a4511b-6ee6-4fd2-a898-74ba9bb7a805",
   "metadata": {},
   "source": [
    "**Сравнение по стоимости покупки за вычетом скидки 'gest_Sum'**"
   ]
  },
  {
   "cell_type": "code",
   "execution_count": 39,
   "id": "5aef71c8-e17c-4e3b-98ca-f5bb9baca89a",
   "metadata": {},
   "outputs": [
    {
     "data": {
      "text/html": [
       "<div>\n",
       "<style scoped>\n",
       "    .dataframe tbody tr th:only-of-type {\n",
       "        vertical-align: middle;\n",
       "    }\n",
       "\n",
       "    .dataframe tbody tr th {\n",
       "        vertical-align: top;\n",
       "    }\n",
       "\n",
       "    .dataframe thead th {\n",
       "        text-align: right;\n",
       "    }\n",
       "</style>\n",
       "<table border=\"1\" class=\"dataframe\">\n",
       "  <thead>\n",
       "    <tr style=\"text-align: right;\">\n",
       "      <th></th>\n",
       "      <th>clnt_ID</th>\n",
       "      <th>timestamp</th>\n",
       "      <th>gest_Sum</th>\n",
       "      <th>gest_Discount</th>\n",
       "      <th>days_after_last_buy</th>\n",
       "      <th>target</th>\n",
       "    </tr>\n",
       "  </thead>\n",
       "  <tbody>\n",
       "    <tr>\n",
       "      <th>0</th>\n",
       "      <td>193B4268-0B4A-475E-B1D0-FF5515E29D29</td>\n",
       "      <td>2021-01-02 09:09:17.060</td>\n",
       "      <td>900.000</td>\n",
       "      <td>300.000</td>\n",
       "      <td>-1.000</td>\n",
       "      <td>0</td>\n",
       "    </tr>\n",
       "    <tr>\n",
       "      <th>1</th>\n",
       "      <td>193B4268-0B4A-475E-B1D0-FF5515E29D29</td>\n",
       "      <td>2021-01-07 17:09:04.120</td>\n",
       "      <td>393.700</td>\n",
       "      <td>131.300</td>\n",
       "      <td>5.000</td>\n",
       "      <td>0</td>\n",
       "    </tr>\n",
       "    <tr>\n",
       "      <th>2</th>\n",
       "      <td>193B4268-0B4A-475E-B1D0-FF5515E29D29</td>\n",
       "      <td>2021-01-09 11:49:13.163</td>\n",
       "      <td>817.500</td>\n",
       "      <td>272.500</td>\n",
       "      <td>1.000</td>\n",
       "      <td>0</td>\n",
       "    </tr>\n",
       "    <tr>\n",
       "      <th>3</th>\n",
       "      <td>193B4268-0B4A-475E-B1D0-FF5515E29D29</td>\n",
       "      <td>2021-01-11 18:38:07.737</td>\n",
       "      <td>337.500</td>\n",
       "      <td>112.500</td>\n",
       "      <td>2.000</td>\n",
       "      <td>0</td>\n",
       "    </tr>\n",
       "    <tr>\n",
       "      <th>4</th>\n",
       "      <td>193B4268-0B4A-475E-B1D0-FF5515E29D29</td>\n",
       "      <td>2021-01-12 14:53:53.847</td>\n",
       "      <td>180.000</td>\n",
       "      <td>60.000</td>\n",
       "      <td>0.000</td>\n",
       "      <td>0</td>\n",
       "    </tr>\n",
       "  </tbody>\n",
       "</table>\n",
       "</div>"
      ],
      "text/plain": [
       "                                clnt_ID               timestamp  gest_Sum  \\\n",
       "0  193B4268-0B4A-475E-B1D0-FF5515E29D29 2021-01-02 09:09:17.060   900.000   \n",
       "1  193B4268-0B4A-475E-B1D0-FF5515E29D29 2021-01-07 17:09:04.120   393.700   \n",
       "2  193B4268-0B4A-475E-B1D0-FF5515E29D29 2021-01-09 11:49:13.163   817.500   \n",
       "3  193B4268-0B4A-475E-B1D0-FF5515E29D29 2021-01-11 18:38:07.737   337.500   \n",
       "4  193B4268-0B4A-475E-B1D0-FF5515E29D29 2021-01-12 14:53:53.847   180.000   \n",
       "\n",
       "   gest_Discount  days_after_last_buy  target  \n",
       "0        300.000               -1.000       0  \n",
       "1        131.300                5.000       0  \n",
       "2        272.500                1.000       0  \n",
       "3        112.500                2.000       0  \n",
       "4         60.000                0.000       0  "
      ]
     },
     "metadata": {},
     "output_type": "display_data"
    },
    {
     "data": {
      "text/html": [
       "<div>\n",
       "<style scoped>\n",
       "    .dataframe tbody tr th:only-of-type {\n",
       "        vertical-align: middle;\n",
       "    }\n",
       "\n",
       "    .dataframe tbody tr th {\n",
       "        vertical-align: top;\n",
       "    }\n",
       "\n",
       "    .dataframe thead th {\n",
       "        text-align: right;\n",
       "    }\n",
       "</style>\n",
       "<table border=\"1\" class=\"dataframe\">\n",
       "  <thead>\n",
       "    <tr style=\"text-align: right;\">\n",
       "      <th></th>\n",
       "      <th>clnt_ID</th>\n",
       "      <th>timestamp</th>\n",
       "      <th>gest_Sum</th>\n",
       "      <th>gest_Discount</th>\n",
       "      <th>days_after_last_buy</th>\n",
       "      <th>target_ext</th>\n",
       "    </tr>\n",
       "  </thead>\n",
       "  <tbody>\n",
       "    <tr>\n",
       "      <th>0</th>\n",
       "      <td>193B4268-0B4A-475E-B1D0-FF5515E29D29</td>\n",
       "      <td>2021-01-02 09:09:17.060</td>\n",
       "      <td>900.000</td>\n",
       "      <td>300.000</td>\n",
       "      <td>-1.000</td>\n",
       "      <td>0</td>\n",
       "    </tr>\n",
       "    <tr>\n",
       "      <th>1</th>\n",
       "      <td>193B4268-0B4A-475E-B1D0-FF5515E29D29</td>\n",
       "      <td>2021-01-07 17:09:04.120</td>\n",
       "      <td>393.700</td>\n",
       "      <td>131.300</td>\n",
       "      <td>5.000</td>\n",
       "      <td>0</td>\n",
       "    </tr>\n",
       "    <tr>\n",
       "      <th>2</th>\n",
       "      <td>193B4268-0B4A-475E-B1D0-FF5515E29D29</td>\n",
       "      <td>2021-01-09 11:49:13.163</td>\n",
       "      <td>817.500</td>\n",
       "      <td>272.500</td>\n",
       "      <td>1.000</td>\n",
       "      <td>0</td>\n",
       "    </tr>\n",
       "    <tr>\n",
       "      <th>3</th>\n",
       "      <td>193B4268-0B4A-475E-B1D0-FF5515E29D29</td>\n",
       "      <td>2021-01-11 18:38:07.737</td>\n",
       "      <td>337.500</td>\n",
       "      <td>112.500</td>\n",
       "      <td>2.000</td>\n",
       "      <td>0</td>\n",
       "    </tr>\n",
       "    <tr>\n",
       "      <th>4</th>\n",
       "      <td>193B4268-0B4A-475E-B1D0-FF5515E29D29</td>\n",
       "      <td>2021-01-12 14:53:53.847</td>\n",
       "      <td>180.000</td>\n",
       "      <td>60.000</td>\n",
       "      <td>0.000</td>\n",
       "      <td>0</td>\n",
       "    </tr>\n",
       "  </tbody>\n",
       "</table>\n",
       "</div>"
      ],
      "text/plain": [
       "                                clnt_ID               timestamp  gest_Sum  \\\n",
       "0  193B4268-0B4A-475E-B1D0-FF5515E29D29 2021-01-02 09:09:17.060   900.000   \n",
       "1  193B4268-0B4A-475E-B1D0-FF5515E29D29 2021-01-07 17:09:04.120   393.700   \n",
       "2  193B4268-0B4A-475E-B1D0-FF5515E29D29 2021-01-09 11:49:13.163   817.500   \n",
       "3  193B4268-0B4A-475E-B1D0-FF5515E29D29 2021-01-11 18:38:07.737   337.500   \n",
       "4  193B4268-0B4A-475E-B1D0-FF5515E29D29 2021-01-12 14:53:53.847   180.000   \n",
       "\n",
       "   gest_Discount  days_after_last_buy  target_ext  \n",
       "0        300.000               -1.000           0  \n",
       "1        131.300                5.000           0  \n",
       "2        272.500                1.000           0  \n",
       "3        112.500                2.000           0  \n",
       "4         60.000                0.000           0  "
      ]
     },
     "execution_count": 39,
     "metadata": {},
     "output_type": "execute_result"
    }
   ],
   "source": [
    "df_eda_orig = df.merge(df_target,on='clnt_ID')\n",
    "df_eda_new = df.merge(df_target_extracted,on='clnt_ID')\n",
    "display(df_eda_orig.head())\n",
    "df_eda_new.head()"
   ]
  },
  {
   "cell_type": "code",
   "execution_count": 40,
   "id": "c332ee2a-e807-4773-a223-cc10f0688904",
   "metadata": {},
   "outputs": [
    {
     "data": {
      "image/png": "[encoded data removed]",
      "text/plain": [
       "<Figure size 720x288 with 1 Axes>"
      ]
     },
     "metadata": {
      "needs_background": "light"
     },
     "output_type": "display_data"
    }
   ],
   "source": [
    "# По оригинальному таргету\n",
    "fig, ax = plt.subplots(1, 1, figsize=(10, 4))\n",
    "sns.boxplot(x='gest_Sum', y='target', data=df_eda_orig, ax=ax,orient='h')\n",
    "ax.set_xlim(0,1500)\n",
    "plt.show()\n",
    "# ДОБАВИТЬ НАЗВАНИЕ ГРАФИКОВ И ОСЕЙ"
   ]
  },
  {
   "cell_type": "code",
   "execution_count": 41,
   "id": "1b598334-007e-42bb-9429-8b5f8fe505d6",
   "metadata": {},
   "outputs": [
    {
     "data": {
      "image/png": "[encoded data removed]",
      "text/plain": [
       "<Figure size 720x288 with 1 Axes>"
      ]
     },
     "metadata": {
      "needs_background": "light"
     },
     "output_type": "display_data"
    }
   ],
   "source": [
    "# По новому таргету\n",
    "fig, ax = plt.subplots(1, 1, figsize=(10, 4))\n",
    "sns.boxplot(x='gest_Sum', y='target_ext', data=df_eda_new, ax=ax,orient='h')\n",
    "ax.set_xlim(0,1500)\n",
    "plt.show()\n",
    "# ДОБАВИТЬ НАЗВАНИЕ ГРАФИКОВ И ОСЕЙ"
   ]
  },
  {
   "cell_type": "markdown",
   "id": "e4b16c20-b954-4f04-bbe1-4032b3bcd964",
   "metadata": {},
   "source": [
    "**Сравнение по скидке 'gest_Discount'**"
   ]
  },
  {
   "cell_type": "code",
   "execution_count": 42,
   "id": "5d50be66-3778-4adb-ae3c-e79110e81fa0",
   "metadata": {},
   "outputs": [
    {
     "data": {
      "image/png": "[encoded data removed]",
      "text/plain": [
       "<Figure size 720x288 with 1 Axes>"
      ]
     },
     "metadata": {
      "needs_background": "light"
     },
     "output_type": "display_data"
    }
   ],
   "source": [
    "# По оригинальному таргету\n",
    "fig, ax = plt.subplots(1, 1, figsize=(10, 4))\n",
    "sns.boxplot(x='gest_Discount', y='target', data=df_eda_orig, ax=ax,orient='h')\n",
    "ax.set_xlim(0,200)\n",
    "plt.show()\n",
    "# ДОБАВИТЬ НАЗВАНИЕ ГРАФИКОВ И ОСЕЙ"
   ]
  },
  {
   "cell_type": "code",
   "execution_count": 43,
   "id": "c3d5043c-c078-4698-b26f-1b2c66f36974",
   "metadata": {},
   "outputs": [
    {
     "data": {
      "image/png": "[encoded data removed]",
      "text/plain": [
       "<Figure size 720x288 with 1 Axes>"
      ]
     },
     "metadata": {
      "needs_background": "light"
     },
     "output_type": "display_data"
    }
   ],
   "source": [
    "# По новому таргету\n",
    "fig, ax = plt.subplots(1, 1, figsize=(10, 4))\n",
    "sns.boxplot(x='gest_Discount', y='target_ext', data=df_eda_new, ax=ax,orient='h')\n",
    "ax.set_xlim(0,200)\n",
    "plt.show()\n",
    "# ДОБАВИТЬ НАЗВАНИЕ ГРАФИКОВ И ОСЕЙ"
   ]
  },
  {
   "cell_type": "markdown",
   "id": "47a61fc2-2a66-4f33-92e9-651dd8c649fe",
   "metadata": {},
   "source": [
    "**Сравнение по общей стоимости чека ('gest_Sum'+'gest_Discount')**"
   ]
  },
  {
   "cell_type": "markdown",
   "id": "3a11e0ba-4e6b-4618-b268-3113704b2fd8",
   "metadata": {},
   "source": [
    "Здесь нужно создать столбец с общей стоимостью чека."
   ]
  },
  {
   "cell_type": "code",
   "execution_count": 44,
   "id": "f8258693-cbe7-48fb-853c-50b6d2e9fa5f",
   "metadata": {
    "tags": []
   },
   "outputs": [
    {
     "data": {
      "text/html": [
       "<div>\n",
       "<style scoped>\n",
       "    .dataframe tbody tr th:only-of-type {\n",
       "        vertical-align: middle;\n",
       "    }\n",
       "\n",
       "    .dataframe tbody tr th {\n",
       "        vertical-align: top;\n",
       "    }\n",
       "\n",
       "    .dataframe thead th {\n",
       "        text-align: right;\n",
       "    }\n",
       "</style>\n",
       "<table border=\"1\" class=\"dataframe\">\n",
       "  <thead>\n",
       "    <tr style=\"text-align: right;\">\n",
       "      <th></th>\n",
       "      <th>clnt_ID</th>\n",
       "      <th>timestamp</th>\n",
       "      <th>gest_Sum</th>\n",
       "      <th>gest_Discount</th>\n",
       "      <th>days_after_last_buy</th>\n",
       "      <th>target</th>\n",
       "      <th>gest_Total</th>\n",
       "    </tr>\n",
       "  </thead>\n",
       "  <tbody>\n",
       "    <tr>\n",
       "      <th>0</th>\n",
       "      <td>193B4268-0B4A-475E-B1D0-FF5515E29D29</td>\n",
       "      <td>2021-01-02 09:09:17.060</td>\n",
       "      <td>900.000</td>\n",
       "      <td>300.000</td>\n",
       "      <td>-1.000</td>\n",
       "      <td>0</td>\n",
       "      <td>1200.000</td>\n",
       "    </tr>\n",
       "    <tr>\n",
       "      <th>1</th>\n",
       "      <td>193B4268-0B4A-475E-B1D0-FF5515E29D29</td>\n",
       "      <td>2021-01-07 17:09:04.120</td>\n",
       "      <td>393.700</td>\n",
       "      <td>131.300</td>\n",
       "      <td>5.000</td>\n",
       "      <td>0</td>\n",
       "      <td>525.000</td>\n",
       "    </tr>\n",
       "    <tr>\n",
       "      <th>2</th>\n",
       "      <td>193B4268-0B4A-475E-B1D0-FF5515E29D29</td>\n",
       "      <td>2021-01-09 11:49:13.163</td>\n",
       "      <td>817.500</td>\n",
       "      <td>272.500</td>\n",
       "      <td>1.000</td>\n",
       "      <td>0</td>\n",
       "      <td>1090.000</td>\n",
       "    </tr>\n",
       "    <tr>\n",
       "      <th>3</th>\n",
       "      <td>193B4268-0B4A-475E-B1D0-FF5515E29D29</td>\n",
       "      <td>2021-01-11 18:38:07.737</td>\n",
       "      <td>337.500</td>\n",
       "      <td>112.500</td>\n",
       "      <td>2.000</td>\n",
       "      <td>0</td>\n",
       "      <td>450.000</td>\n",
       "    </tr>\n",
       "    <tr>\n",
       "      <th>4</th>\n",
       "      <td>193B4268-0B4A-475E-B1D0-FF5515E29D29</td>\n",
       "      <td>2021-01-12 14:53:53.847</td>\n",
       "      <td>180.000</td>\n",
       "      <td>60.000</td>\n",
       "      <td>0.000</td>\n",
       "      <td>0</td>\n",
       "      <td>240.000</td>\n",
       "    </tr>\n",
       "  </tbody>\n",
       "</table>\n",
       "</div>"
      ],
      "text/plain": [
       "                                clnt_ID               timestamp  gest_Sum  \\\n",
       "0  193B4268-0B4A-475E-B1D0-FF5515E29D29 2021-01-02 09:09:17.060   900.000   \n",
       "1  193B4268-0B4A-475E-B1D0-FF5515E29D29 2021-01-07 17:09:04.120   393.700   \n",
       "2  193B4268-0B4A-475E-B1D0-FF5515E29D29 2021-01-09 11:49:13.163   817.500   \n",
       "3  193B4268-0B4A-475E-B1D0-FF5515E29D29 2021-01-11 18:38:07.737   337.500   \n",
       "4  193B4268-0B4A-475E-B1D0-FF5515E29D29 2021-01-12 14:53:53.847   180.000   \n",
       "\n",
       "   gest_Discount  days_after_last_buy  target  gest_Total  \n",
       "0        300.000               -1.000       0    1200.000  \n",
       "1        131.300                5.000       0     525.000  \n",
       "2        272.500                1.000       0    1090.000  \n",
       "3        112.500                2.000       0     450.000  \n",
       "4         60.000                0.000       0     240.000  "
      ]
     },
     "execution_count": 44,
     "metadata": {},
     "output_type": "execute_result"
    }
   ],
   "source": [
    "df_eda_orig['gest_Total'] = df_eda_orig['gest_Sum'] + df_eda_orig['gest_Discount'] \n",
    "df_eda_orig.head()"
   ]
  },
  {
   "cell_type": "code",
   "execution_count": 45,
   "id": "d429d34e-ea0e-4914-b0fa-dc7b1bdde27b",
   "metadata": {
    "tags": []
   },
   "outputs": [
    {
     "data": {
      "text/html": [
       "<div>\n",
       "<style scoped>\n",
       "    .dataframe tbody tr th:only-of-type {\n",
       "        vertical-align: middle;\n",
       "    }\n",
       "\n",
       "    .dataframe tbody tr th {\n",
       "        vertical-align: top;\n",
       "    }\n",
       "\n",
       "    .dataframe thead th {\n",
       "        text-align: right;\n",
       "    }\n",
       "</style>\n",
       "<table border=\"1\" class=\"dataframe\">\n",
       "  <thead>\n",
       "    <tr style=\"text-align: right;\">\n",
       "      <th></th>\n",
       "      <th>clnt_ID</th>\n",
       "      <th>timestamp</th>\n",
       "      <th>gest_Sum</th>\n",
       "      <th>gest_Discount</th>\n",
       "      <th>days_after_last_buy</th>\n",
       "      <th>target_ext</th>\n",
       "      <th>gest_Total</th>\n",
       "    </tr>\n",
       "  </thead>\n",
       "  <tbody>\n",
       "    <tr>\n",
       "      <th>0</th>\n",
       "      <td>193B4268-0B4A-475E-B1D0-FF5515E29D29</td>\n",
       "      <td>2021-01-02 09:09:17.060</td>\n",
       "      <td>900.000</td>\n",
       "      <td>300.000</td>\n",
       "      <td>-1.000</td>\n",
       "      <td>0</td>\n",
       "      <td>1200.000</td>\n",
       "    </tr>\n",
       "    <tr>\n",
       "      <th>1</th>\n",
       "      <td>193B4268-0B4A-475E-B1D0-FF5515E29D29</td>\n",
       "      <td>2021-01-07 17:09:04.120</td>\n",
       "      <td>393.700</td>\n",
       "      <td>131.300</td>\n",
       "      <td>5.000</td>\n",
       "      <td>0</td>\n",
       "      <td>525.000</td>\n",
       "    </tr>\n",
       "    <tr>\n",
       "      <th>2</th>\n",
       "      <td>193B4268-0B4A-475E-B1D0-FF5515E29D29</td>\n",
       "      <td>2021-01-09 11:49:13.163</td>\n",
       "      <td>817.500</td>\n",
       "      <td>272.500</td>\n",
       "      <td>1.000</td>\n",
       "      <td>0</td>\n",
       "      <td>1090.000</td>\n",
       "    </tr>\n",
       "    <tr>\n",
       "      <th>3</th>\n",
       "      <td>193B4268-0B4A-475E-B1D0-FF5515E29D29</td>\n",
       "      <td>2021-01-11 18:38:07.737</td>\n",
       "      <td>337.500</td>\n",
       "      <td>112.500</td>\n",
       "      <td>2.000</td>\n",
       "      <td>0</td>\n",
       "      <td>450.000</td>\n",
       "    </tr>\n",
       "    <tr>\n",
       "      <th>4</th>\n",
       "      <td>193B4268-0B4A-475E-B1D0-FF5515E29D29</td>\n",
       "      <td>2021-01-12 14:53:53.847</td>\n",
       "      <td>180.000</td>\n",
       "      <td>60.000</td>\n",
       "      <td>0.000</td>\n",
       "      <td>0</td>\n",
       "      <td>240.000</td>\n",
       "    </tr>\n",
       "  </tbody>\n",
       "</table>\n",
       "</div>"
      ],
      "text/plain": [
       "                                clnt_ID               timestamp  gest_Sum  \\\n",
       "0  193B4268-0B4A-475E-B1D0-FF5515E29D29 2021-01-02 09:09:17.060   900.000   \n",
       "1  193B4268-0B4A-475E-B1D0-FF5515E29D29 2021-01-07 17:09:04.120   393.700   \n",
       "2  193B4268-0B4A-475E-B1D0-FF5515E29D29 2021-01-09 11:49:13.163   817.500   \n",
       "3  193B4268-0B4A-475E-B1D0-FF5515E29D29 2021-01-11 18:38:07.737   337.500   \n",
       "4  193B4268-0B4A-475E-B1D0-FF5515E29D29 2021-01-12 14:53:53.847   180.000   \n",
       "\n",
       "   gest_Discount  days_after_last_buy  target_ext  gest_Total  \n",
       "0        300.000               -1.000           0    1200.000  \n",
       "1        131.300                5.000           0     525.000  \n",
       "2        272.500                1.000           0    1090.000  \n",
       "3        112.500                2.000           0     450.000  \n",
       "4         60.000                0.000           0     240.000  "
      ]
     },
     "execution_count": 45,
     "metadata": {},
     "output_type": "execute_result"
    }
   ],
   "source": [
    "df_eda_new['gest_Total'] = df_eda_new['gest_Sum'] + df_eda_new['gest_Discount']\n",
    "df_eda_new.head()"
   ]
  },
  {
   "cell_type": "code",
   "execution_count": 46,
   "id": "4f095bc1-0906-4ff1-861e-86b4d8d554f1",
   "metadata": {},
   "outputs": [
    {
     "data": {
      "image/png": "[encoded data removed]",
      "text/plain": [
       "<Figure size 720x288 with 1 Axes>"
      ]
     },
     "metadata": {
      "needs_background": "light"
     },
     "output_type": "display_data"
    }
   ],
   "source": [
    "# По оригинальному таргету\n",
    "fig, ax = plt.subplots(1, 1, figsize=(10, 4))\n",
    "sns.boxplot(x='gest_Total', y='target', data=df_eda_orig, ax=ax,orient='h')\n",
    "ax.set_xlim(0,1500)\n",
    "plt.show()\n",
    "# ДОБАВИТЬ НАЗВАНИЕ ГРАФИКОВ И ОСЕЙ"
   ]
  },
  {
   "cell_type": "code",
   "execution_count": 47,
   "id": "87b766f7-f759-4d81-95bc-37fdebfc931b",
   "metadata": {},
   "outputs": [
    {
     "data": {
      "image/png": "[encoded data removed]",
      "text/plain": [
       "<Figure size 720x288 with 1 Axes>"
      ]
     },
     "metadata": {
      "needs_background": "light"
     },
     "output_type": "display_data"
    }
   ],
   "source": [
    "# По новому таргету\n",
    "fig, ax = plt.subplots(1, 1, figsize=(10, 4))\n",
    "sns.boxplot(x='gest_Total', y='target_ext', data=df_eda_new, ax=ax,orient='h')\n",
    "ax.set_xlim(0,1500)\n",
    "plt.show()\n",
    "# ДОБАВИТЬ НАЗВАНИЕ ГРАФИКОВ И ОСЕЙ"
   ]
  },
  {
   "cell_type": "markdown",
   "id": "61035b38-7335-4b3d-9bd5-858691ddabab",
   "metadata": {},
   "source": [
    "* Распределения видимо отличаются в каждых случаях."
   ]
  },
  {
   "cell_type": "markdown",
   "id": "dff73bb7-4b27-41c2-9ae2-7801598d4e90",
   "metadata": {},
   "source": [
    "**Сравнение зависимости gest_Sum от gest_Discount с разделем по таргету**"
   ]
  },
  {
   "cell_type": "code",
   "execution_count": 48,
   "id": "16b3e02e-20a6-4609-aadd-e6b93475b7f1",
   "metadata": {},
   "outputs": [
    {
     "data": {
      "image/png": "[encoded data removed]",
      "text/plain": [
       "<Figure size 402.375x360 with 1 Axes>"
      ]
     },
     "metadata": {
      "needs_background": "light"
     },
     "output_type": "display_data"
    }
   ],
   "source": [
    "sns.relplot(x=\"gest_Sum\", y=\"gest_Discount\", hue=\"target\", data=df_eda_orig);\n",
    "# ДОБАВИТЬ НАЗВАНИЕ ГРАФИКОВ И ОСЕЙ"
   ]
  },
  {
   "cell_type": "markdown",
   "id": "63247f09-c94f-4758-8a3a-39064623a62b",
   "metadata": {},
   "source": [
    "Похоже на то, что есть система фиксированных скидок и есть накопительные баллы или акции. Прямые линии это фиксированные скидки."
   ]
  },
  {
   "cell_type": "code",
   "execution_count": 49,
   "id": "5cb949d8-982b-4765-af1b-85e60de61975",
   "metadata": {},
   "outputs": [
    {
     "data": {
      "image/png": "[encoded data removed]",
      "text/plain": [
       "<Figure size 419.125x360 with 1 Axes>"
      ]
     },
     "metadata": {
      "needs_background": "light"
     },
     "output_type": "display_data"
    }
   ],
   "source": [
    "sns.relplot(x=\"gest_Sum\", y=\"gest_Discount\", hue=\"target_ext\", data=df_eda_new);\n",
    "# ДОБАВИТЬ НАЗВАНИЕ ГРАФИКОВ И ОСЕЙ"
   ]
  },
  {
   "cell_type": "markdown",
   "id": "c0a7a0c7-db20-4c1e-9ee0-a7438228040c",
   "metadata": {},
   "source": [
    "**Корреляция**"
   ]
  },
  {
   "cell_type": "code",
   "execution_count": 50,
   "id": "a1c5d327-149f-4724-92d8-4bc8490065ce",
   "metadata": {},
   "outputs": [],
   "source": [
    "orig_corr = df_eda_orig.corr()\n",
    "new_corr = df_eda_new.corr()"
   ]
  },
  {
   "cell_type": "code",
   "execution_count": 51,
   "id": "eef158c1-7944-4053-b0c4-35322e3b7deb",
   "metadata": {},
   "outputs": [
    {
     "data": {
      "image/png": "[encoded data removed]",
      "text/plain": [
       "<Figure size 504x504 with 2 Axes>"
      ]
     },
     "metadata": {
      "needs_background": "light"
     },
     "output_type": "display_data"
    }
   ],
   "source": [
    "fig,ax = plt.subplots(figsize=(7,7))\n",
    "sns.heatmap(orig_corr, annot=True,ax=ax,vmin=-1,vmax=1,linewidth=.5,cmap=\"PiYG\",center=0,fmt='.2%')\n",
    "plt.show()"
   ]
  },
  {
   "cell_type": "code",
   "execution_count": 52,
   "id": "6390b309-ba3d-4bf4-ac87-350dea4f8f2d",
   "metadata": {},
   "outputs": [
    {
     "data": {
      "image/png": "[encoded data removed]",
      "text/plain": [
       "<Figure size 504x504 with 2 Axes>"
      ]
     },
     "metadata": {
      "needs_background": "light"
     },
     "output_type": "display_data"
    }
   ],
   "source": [
    "fig,ax = plt.subplots(figsize=(7,7))\n",
    "sns.heatmap(new_corr, annot=True,ax=ax,vmin=-1,vmax=1,linewidth=.5,cmap=\"PiYG\",center=0,fmt='.2%')\n",
    "plt.show()"
   ]
  },
  {
   "cell_type": "markdown",
   "id": "fbe4452b-19ef-4803-b2db-0031a8c66fef",
   "metadata": {},
   "source": [
    "Чего-то особого, кроме очевидного, здесь не обнаружено."
   ]
  },
  {
   "cell_type": "markdown",
   "id": "739afd3e-619f-4dba-abfb-a91a3679d060",
   "metadata": {
    "tags": []
   },
   "source": [
    "# Feature engineering"
   ]
  },
  {
   "cell_type": "markdown",
   "id": "8140bd56-4e11-4470-905b-5fd1593fd08a",
   "metadata": {},
   "source": [
    "Уже созданы:\n",
    "* Кол-во дней прошедших с последней сделки (-1, если сделка первая)"
   ]
  },
  {
   "cell_type": "markdown",
   "id": "2a55cbb5-9227-4111-abdf-f4826f09b8e2",
   "metadata": {},
   "source": [
    "Новые фичи.  \n",
    "Что может помочь лучше предсказать отток клиентов? --ДОПОЛНЯЕТСЯ--\n",
    "\n",
    "* Общая стоимость заказа без скидки\n",
    "* Сколько дней на момент сделки прошло с момента первой сделки (сколько дней клиенту)\n",
    "* Какой на текущий момент средний чек, средняя скидка, средний общая стоимость\n",
    "* Какая разница между среднем чеком и чеком сделки\n",
    "* Сколько сделок произошло на момент текущей сделки\n",
    "* Сколько сделок в месяц в среднем\n"
   ]
  },
  {
   "cell_type": "markdown",
   "id": "78d6e01b-2a20-4020-a391-cf42910f9545",
   "metadata": {},
   "source": [
    "**Как создавать сложные фичи?**\n",
    "\n",
    "* Нужно группировать датасет по клиентам\n",
    "* К этим группам применять разные методы с помощью `.groupby().transform()`\n",
    "\n",
    "`df.groupby('cnlt_ID').transform(func)`"
   ]
  },
  {
   "cell_type": "markdown",
   "id": "be61da38-43d3-450b-8ce3-5aaf7ebf5b16",
   "metadata": {},
   "source": [
    "**Общая стоимость заказа без скидки** = `gest_Sum + gest_Discount`"
   ]
  },
  {
   "cell_type": "code",
   "execution_count": 53,
   "id": "9bbc80bc-bfbe-4671-9b10-aba979e31aff",
   "metadata": {},
   "outputs": [],
   "source": [
    "df['gest_Total'] = df['gest_Sum'] + df['gest_Discount']"
   ]
  },
  {
   "cell_type": "markdown",
   "id": "630a3913-a154-4d5e-8ac4-6c96dc2390d3",
   "metadata": {},
   "source": [
    "**Сколько дней прошло с первой сделки**\n",
    "\n",
    "1. Берем min(date)\n",
    "2. Вычитаем из текущей data min(date) (`df['date'] - df['first_buy_date']`)"
   ]
  },
  {
   "cell_type": "code",
   "execution_count": 54,
   "id": "a68f01ea-cc57-4a6a-b3b3-210fa0da07d7",
   "metadata": {},
   "outputs": [],
   "source": [
    "def first_buy_date_delta(col):\n",
    "    return col - col.min()\n",
    "\n",
    "df['first_buy_days_delta'] = df.groupby('clnt_ID')['timestamp'].transform(first_buy_date_delta).dt.days"
   ]
  },
  {
   "cell_type": "code",
   "execution_count": 55,
   "id": "d32ed18e-5b2b-419f-add7-58a9d31fa43e",
   "metadata": {
    "tags": []
   },
   "outputs": [
    {
     "data": {
      "text/html": [
       "<div>\n",
       "<style scoped>\n",
       "    .dataframe tbody tr th:only-of-type {\n",
       "        vertical-align: middle;\n",
       "    }\n",
       "\n",
       "    .dataframe tbody tr th {\n",
       "        vertical-align: top;\n",
       "    }\n",
       "\n",
       "    .dataframe thead th {\n",
       "        text-align: right;\n",
       "    }\n",
       "</style>\n",
       "<table border=\"1\" class=\"dataframe\">\n",
       "  <thead>\n",
       "    <tr style=\"text-align: right;\">\n",
       "      <th></th>\n",
       "      <th>clnt_ID</th>\n",
       "      <th>timestamp</th>\n",
       "      <th>gest_Sum</th>\n",
       "      <th>gest_Discount</th>\n",
       "      <th>days_after_last_buy</th>\n",
       "      <th>gest_Total</th>\n",
       "      <th>first_buy_days_delta</th>\n",
       "    </tr>\n",
       "  </thead>\n",
       "  <tbody>\n",
       "    <tr>\n",
       "      <th>2371630</th>\n",
       "      <td>6A41E569-CE78-47F3-A671-357000336B67</td>\n",
       "      <td>2021-12-15 22:27:59.033</td>\n",
       "      <td>630.000</td>\n",
       "      <td>210.000</td>\n",
       "      <td>0.000</td>\n",
       "      <td>840.000</td>\n",
       "      <td>179</td>\n",
       "    </tr>\n",
       "    <tr>\n",
       "      <th>2371631</th>\n",
       "      <td>9ABC36A1-BA7D-4145-A25B-609945E1B50F</td>\n",
       "      <td>2021-12-15 22:34:49.327</td>\n",
       "      <td>76.000</td>\n",
       "      <td>19.000</td>\n",
       "      <td>0.000</td>\n",
       "      <td>95.000</td>\n",
       "      <td>6</td>\n",
       "    </tr>\n",
       "    <tr>\n",
       "      <th>2371632</th>\n",
       "      <td>565D07CD-6B1C-4F17-988E-313C2E5C6798</td>\n",
       "      <td>2021-12-15 22:42:54.540</td>\n",
       "      <td>346.400</td>\n",
       "      <td>153.600</td>\n",
       "      <td>7.000</td>\n",
       "      <td>500.000</td>\n",
       "      <td>347</td>\n",
       "    </tr>\n",
       "    <tr>\n",
       "      <th>2371633</th>\n",
       "      <td>F9953B4A-FADB-4213-82EB-6E2B7D1565C7</td>\n",
       "      <td>2021-12-15 22:44:54.387</td>\n",
       "      <td>52.500</td>\n",
       "      <td>17.500</td>\n",
       "      <td>0.000</td>\n",
       "      <td>70.000</td>\n",
       "      <td>148</td>\n",
       "    </tr>\n",
       "    <tr>\n",
       "      <th>2371634</th>\n",
       "      <td>6E719B78-61E2-4F03-BF63-D83AE5DE5629</td>\n",
       "      <td>2021-12-15 22:45:31.087</td>\n",
       "      <td>661.600</td>\n",
       "      <td>43.400</td>\n",
       "      <td>1.000</td>\n",
       "      <td>705.000</td>\n",
       "      <td>216</td>\n",
       "    </tr>\n",
       "  </tbody>\n",
       "</table>\n",
       "</div>"
      ],
      "text/plain": [
       "                                      clnt_ID               timestamp  \\\n",
       "2371630  6A41E569-CE78-47F3-A671-357000336B67 2021-12-15 22:27:59.033   \n",
       "2371631  9ABC36A1-BA7D-4145-A25B-609945E1B50F 2021-12-15 22:34:49.327   \n",
       "2371632  565D07CD-6B1C-4F17-988E-313C2E5C6798 2021-12-15 22:42:54.540   \n",
       "2371633  F9953B4A-FADB-4213-82EB-6E2B7D1565C7 2021-12-15 22:44:54.387   \n",
       "2371634  6E719B78-61E2-4F03-BF63-D83AE5DE5629 2021-12-15 22:45:31.087   \n",
       "\n",
       "         gest_Sum  gest_Discount  days_after_last_buy  gest_Total  \\\n",
       "2371630   630.000        210.000                0.000     840.000   \n",
       "2371631    76.000         19.000                0.000      95.000   \n",
       "2371632   346.400        153.600                7.000     500.000   \n",
       "2371633    52.500         17.500                0.000      70.000   \n",
       "2371634   661.600         43.400                1.000     705.000   \n",
       "\n",
       "         first_buy_days_delta  \n",
       "2371630                   179  \n",
       "2371631                     6  \n",
       "2371632                   347  \n",
       "2371633                   148  \n",
       "2371634                   216  "
      ]
     },
     "execution_count": 55,
     "metadata": {},
     "output_type": "execute_result"
    }
   ],
   "source": [
    "df.tail()"
   ]
  },
  {
   "cell_type": "markdown",
   "id": "85657745-ee5d-40c5-afad-6e9478ab1ae2",
   "metadata": {},
   "source": [
    "**TO DO: ИЗУЧИТЬ**"
   ]
  },
  {
   "cell_type": "code",
   "execution_count": 56,
   "id": "36bb87a6-26fb-4da6-b924-d30b0bfc1d72",
   "metadata": {},
   "outputs": [],
   "source": [
    "# df['first_buy_date_delta'].dt.days.astype('int').hist(bins=100)"
   ]
  },
  {
   "cell_type": "code",
   "execution_count": 57,
   "id": "fccf5ddd-b4da-4db1-89da-deff339bc2d4",
   "metadata": {},
   "outputs": [],
   "source": [
    "# df['first_buy_timestamp_delta'].dt.total_seconds().astype('int').hist(bins=100)"
   ]
  },
  {
   "cell_type": "markdown",
   "id": "742a0fe1-0070-40c3-b4a4-d03a57345617",
   "metadata": {},
   "source": [
    "**Какой на текущий момент средний чек, средняя скидка, средний общая стоимость**\n",
    "\n",
    "Используем `series.expanding().mean()` через `df.groupby('clnt_ID').transform()`."
   ]
  },
  {
   "cell_type": "code",
   "execution_count": 58,
   "id": "64b76c6b-ef28-4105-b50a-633f399e0dfe",
   "metadata": {},
   "outputs": [],
   "source": [
    "def expand_mean(col):\n",
    "    return col.expanding().mean()\n",
    "df['clnt_gest_Sum_avg_ongoing'] = df.groupby('clnt_ID')['gest_Sum'].transform(expand_mean)\n",
    "df['clnt_gest_Discount_avg_ongoing'] = df.groupby('clnt_ID')['gest_Discount'].transform(expand_mean)\n",
    "df['clnt_gest_Total_avg_ongoing'] = df.groupby('clnt_ID')['gest_Total'].transform(expand_mean)"
   ]
  },
  {
   "cell_type": "code",
   "execution_count": 59,
   "id": "f9805abe-9866-4252-861b-7dc67d44bfcf",
   "metadata": {},
   "outputs": [
    {
     "data": {
      "text/html": [
       "<div>\n",
       "<style scoped>\n",
       "    .dataframe tbody tr th:only-of-type {\n",
       "        vertical-align: middle;\n",
       "    }\n",
       "\n",
       "    .dataframe tbody tr th {\n",
       "        vertical-align: top;\n",
       "    }\n",
       "\n",
       "    .dataframe thead th {\n",
       "        text-align: right;\n",
       "    }\n",
       "</style>\n",
       "<table border=\"1\" class=\"dataframe\">\n",
       "  <thead>\n",
       "    <tr style=\"text-align: right;\">\n",
       "      <th></th>\n",
       "      <th>clnt_ID</th>\n",
       "      <th>timestamp</th>\n",
       "      <th>gest_Sum</th>\n",
       "      <th>gest_Discount</th>\n",
       "      <th>days_after_last_buy</th>\n",
       "      <th>gest_Total</th>\n",
       "      <th>first_buy_days_delta</th>\n",
       "      <th>clnt_gest_Sum_avg_ongoing</th>\n",
       "      <th>clnt_gest_Discount_avg_ongoing</th>\n",
       "      <th>clnt_gest_Total_avg_ongoing</th>\n",
       "    </tr>\n",
       "  </thead>\n",
       "  <tbody>\n",
       "    <tr>\n",
       "      <th>0</th>\n",
       "      <td>193B4268-0B4A-475E-B1D0-FF5515E29D29</td>\n",
       "      <td>2021-01-02 09:09:17.060</td>\n",
       "      <td>900.000</td>\n",
       "      <td>300.000</td>\n",
       "      <td>-1.000</td>\n",
       "      <td>1200.000</td>\n",
       "      <td>0</td>\n",
       "      <td>900.000</td>\n",
       "      <td>300.000</td>\n",
       "      <td>1200.000</td>\n",
       "    </tr>\n",
       "    <tr>\n",
       "      <th>1</th>\n",
       "      <td>8DA65A37-C1D0-41D4-98E1-AB6C5BF1367F</td>\n",
       "      <td>2021-01-02 09:12:24.850</td>\n",
       "      <td>165.000</td>\n",
       "      <td>55.000</td>\n",
       "      <td>-1.000</td>\n",
       "      <td>220.000</td>\n",
       "      <td>0</td>\n",
       "      <td>165.000</td>\n",
       "      <td>55.000</td>\n",
       "      <td>220.000</td>\n",
       "    </tr>\n",
       "    <tr>\n",
       "      <th>2</th>\n",
       "      <td>26ACF3C8-25C8-4345-ABC2-33DA15EA6454</td>\n",
       "      <td>2021-01-02 09:38:21.643</td>\n",
       "      <td>800.500</td>\n",
       "      <td>25.500</td>\n",
       "      <td>-1.000</td>\n",
       "      <td>826.000</td>\n",
       "      <td>0</td>\n",
       "      <td>800.500</td>\n",
       "      <td>25.500</td>\n",
       "      <td>826.000</td>\n",
       "    </tr>\n",
       "    <tr>\n",
       "      <th>3</th>\n",
       "      <td>0F77DDB3-A9A7-44BE-AAAB-9DF59B66A695</td>\n",
       "      <td>2021-01-02 09:45:17.793</td>\n",
       "      <td>580.000</td>\n",
       "      <td>0.000</td>\n",
       "      <td>-1.000</td>\n",
       "      <td>580.000</td>\n",
       "      <td>0</td>\n",
       "      <td>580.000</td>\n",
       "      <td>0.000</td>\n",
       "      <td>580.000</td>\n",
       "    </tr>\n",
       "    <tr>\n",
       "      <th>4</th>\n",
       "      <td>F16BCF77-FA5A-4093-B7E3-FA86E2B1EA31</td>\n",
       "      <td>2021-01-02 09:59:50.453</td>\n",
       "      <td>148.900</td>\n",
       "      <td>3.100</td>\n",
       "      <td>-1.000</td>\n",
       "      <td>152.000</td>\n",
       "      <td>0</td>\n",
       "      <td>148.900</td>\n",
       "      <td>3.100</td>\n",
       "      <td>152.000</td>\n",
       "    </tr>\n",
       "  </tbody>\n",
       "</table>\n",
       "</div>"
      ],
      "text/plain": [
       "                                clnt_ID               timestamp  gest_Sum  \\\n",
       "0  193B4268-0B4A-475E-B1D0-FF5515E29D29 2021-01-02 09:09:17.060   900.000   \n",
       "1  8DA65A37-C1D0-41D4-98E1-AB6C5BF1367F 2021-01-02 09:12:24.850   165.000   \n",
       "2  26ACF3C8-25C8-4345-ABC2-33DA15EA6454 2021-01-02 09:38:21.643   800.500   \n",
       "3  0F77DDB3-A9A7-44BE-AAAB-9DF59B66A695 2021-01-02 09:45:17.793   580.000   \n",
       "4  F16BCF77-FA5A-4093-B7E3-FA86E2B1EA31 2021-01-02 09:59:50.453   148.900   \n",
       "\n",
       "   gest_Discount  days_after_last_buy  gest_Total  first_buy_days_delta  \\\n",
       "0        300.000               -1.000    1200.000                     0   \n",
       "1         55.000               -1.000     220.000                     0   \n",
       "2         25.500               -1.000     826.000                     0   \n",
       "3          0.000               -1.000     580.000                     0   \n",
       "4          3.100               -1.000     152.000                     0   \n",
       "\n",
       "   clnt_gest_Sum_avg_ongoing  clnt_gest_Discount_avg_ongoing  \\\n",
       "0                    900.000                         300.000   \n",
       "1                    165.000                          55.000   \n",
       "2                    800.500                          25.500   \n",
       "3                    580.000                           0.000   \n",
       "4                    148.900                           3.100   \n",
       "\n",
       "   clnt_gest_Total_avg_ongoing  \n",
       "0                     1200.000  \n",
       "1                      220.000  \n",
       "2                      826.000  \n",
       "3                      580.000  \n",
       "4                      152.000  "
      ]
     },
     "execution_count": 59,
     "metadata": {},
     "output_type": "execute_result"
    }
   ],
   "source": [
    "df.head()"
   ]
  },
  {
   "cell_type": "markdown",
   "id": "94b99c2b-91f8-45d4-9f79-7d0ce05f23be",
   "metadata": {},
   "source": [
    "**TO DO: ИЗУЧИТЬ**"
   ]
  },
  {
   "cell_type": "code",
   "execution_count": 60,
   "id": "91148ff7-9348-4abe-a846-310259e07208",
   "metadata": {},
   "outputs": [],
   "source": [
    "# df['clnt_gest_Sum_avg'].hist(bins=100)"
   ]
  },
  {
   "cell_type": "markdown",
   "id": "2a2bd924-eb6b-427b-a97e-c5d4c5325241",
   "metadata": {},
   "source": [
    "**Какая разница между средним значением и значением сделки**\n",
    "Считаем для:\n",
    "* 'gest_Sum'\n",
    "* 'gest_Discount'\n",
    "* 'gest_Total'\n",
    "\n",
    "`df['gest_Sum'] - df['clnt_gest_Sum_avg_ongoing']`  \n",
    "`df['gest_Discount'] - df['clnt_gest_Discount_avg_ongoing']`  \n",
    "`df['gest_Total'] - df['clnt_gest_total_avg_ongoing']`"
   ]
  },
  {
   "cell_type": "code",
   "execution_count": 61,
   "id": "0c8f15c2-8679-4dd3-b572-27b9f205ad6a",
   "metadata": {},
   "outputs": [],
   "source": [
    "df['gest_Sum_delta_from_avg'] = df['gest_Sum'] - df['clnt_gest_Sum_avg_ongoing']\n",
    "df['gest_Discount_delta_from_avg'] = df['gest_Discount'] - df['clnt_gest_Discount_avg_ongoing']\n",
    "df['gest_total_delta_from_avg'] = df['gest_Total'] - df['clnt_gest_Total_avg_ongoing']"
   ]
  },
  {
   "cell_type": "code",
   "execution_count": 62,
   "id": "82f2e281-bf63-4ed9-911b-588c8cb82fd1",
   "metadata": {},
   "outputs": [
    {
     "data": {
      "text/html": [
       "<div>\n",
       "<style scoped>\n",
       "    .dataframe tbody tr th:only-of-type {\n",
       "        vertical-align: middle;\n",
       "    }\n",
       "\n",
       "    .dataframe tbody tr th {\n",
       "        vertical-align: top;\n",
       "    }\n",
       "\n",
       "    .dataframe thead th {\n",
       "        text-align: right;\n",
       "    }\n",
       "</style>\n",
       "<table border=\"1\" class=\"dataframe\">\n",
       "  <thead>\n",
       "    <tr style=\"text-align: right;\">\n",
       "      <th></th>\n",
       "      <th>clnt_ID</th>\n",
       "      <th>timestamp</th>\n",
       "      <th>gest_Sum</th>\n",
       "      <th>gest_Discount</th>\n",
       "      <th>days_after_last_buy</th>\n",
       "      <th>gest_Total</th>\n",
       "      <th>first_buy_days_delta</th>\n",
       "      <th>clnt_gest_Sum_avg_ongoing</th>\n",
       "      <th>clnt_gest_Discount_avg_ongoing</th>\n",
       "      <th>clnt_gest_Total_avg_ongoing</th>\n",
       "      <th>gest_Sum_delta_from_avg</th>\n",
       "      <th>gest_Discount_delta_from_avg</th>\n",
       "      <th>gest_total_delta_from_avg</th>\n",
       "    </tr>\n",
       "  </thead>\n",
       "  <tbody>\n",
       "    <tr>\n",
       "      <th>2371630</th>\n",
       "      <td>6A41E569-CE78-47F3-A671-357000336B67</td>\n",
       "      <td>2021-12-15 22:27:59.033</td>\n",
       "      <td>630.000</td>\n",
       "      <td>210.000</td>\n",
       "      <td>0.000</td>\n",
       "      <td>840.000</td>\n",
       "      <td>179</td>\n",
       "      <td>315.499</td>\n",
       "      <td>107.403</td>\n",
       "      <td>422.901</td>\n",
       "      <td>314.501</td>\n",
       "      <td>102.597</td>\n",
       "      <td>417.099</td>\n",
       "    </tr>\n",
       "    <tr>\n",
       "      <th>2371631</th>\n",
       "      <td>9ABC36A1-BA7D-4145-A25B-609945E1B50F</td>\n",
       "      <td>2021-12-15 22:34:49.327</td>\n",
       "      <td>76.000</td>\n",
       "      <td>19.000</td>\n",
       "      <td>0.000</td>\n",
       "      <td>95.000</td>\n",
       "      <td>6</td>\n",
       "      <td>499.400</td>\n",
       "      <td>42.200</td>\n",
       "      <td>541.600</td>\n",
       "      <td>-423.400</td>\n",
       "      <td>-23.200</td>\n",
       "      <td>-446.600</td>\n",
       "    </tr>\n",
       "    <tr>\n",
       "      <th>2371632</th>\n",
       "      <td>565D07CD-6B1C-4F17-988E-313C2E5C6798</td>\n",
       "      <td>2021-12-15 22:42:54.540</td>\n",
       "      <td>346.400</td>\n",
       "      <td>153.600</td>\n",
       "      <td>7.000</td>\n",
       "      <td>500.000</td>\n",
       "      <td>347</td>\n",
       "      <td>260.295</td>\n",
       "      <td>86.646</td>\n",
       "      <td>346.942</td>\n",
       "      <td>86.105</td>\n",
       "      <td>66.954</td>\n",
       "      <td>153.058</td>\n",
       "    </tr>\n",
       "    <tr>\n",
       "      <th>2371633</th>\n",
       "      <td>F9953B4A-FADB-4213-82EB-6E2B7D1565C7</td>\n",
       "      <td>2021-12-15 22:44:54.387</td>\n",
       "      <td>52.500</td>\n",
       "      <td>17.500</td>\n",
       "      <td>0.000</td>\n",
       "      <td>70.000</td>\n",
       "      <td>148</td>\n",
       "      <td>369.185</td>\n",
       "      <td>159.875</td>\n",
       "      <td>529.060</td>\n",
       "      <td>-316.685</td>\n",
       "      <td>-142.375</td>\n",
       "      <td>-459.060</td>\n",
       "    </tr>\n",
       "    <tr>\n",
       "      <th>2371634</th>\n",
       "      <td>6E719B78-61E2-4F03-BF63-D83AE5DE5629</td>\n",
       "      <td>2021-12-15 22:45:31.087</td>\n",
       "      <td>661.600</td>\n",
       "      <td>43.400</td>\n",
       "      <td>1.000</td>\n",
       "      <td>705.000</td>\n",
       "      <td>216</td>\n",
       "      <td>374.905</td>\n",
       "      <td>36.231</td>\n",
       "      <td>411.136</td>\n",
       "      <td>286.695</td>\n",
       "      <td>7.169</td>\n",
       "      <td>293.864</td>\n",
       "    </tr>\n",
       "  </tbody>\n",
       "</table>\n",
       "</div>"
      ],
      "text/plain": [
       "                                      clnt_ID               timestamp  \\\n",
       "2371630  6A41E569-CE78-47F3-A671-357000336B67 2021-12-15 22:27:59.033   \n",
       "2371631  9ABC36A1-BA7D-4145-A25B-609945E1B50F 2021-12-15 22:34:49.327   \n",
       "2371632  565D07CD-6B1C-4F17-988E-313C2E5C6798 2021-12-15 22:42:54.540   \n",
       "2371633  F9953B4A-FADB-4213-82EB-6E2B7D1565C7 2021-12-15 22:44:54.387   \n",
       "2371634  6E719B78-61E2-4F03-BF63-D83AE5DE5629 2021-12-15 22:45:31.087   \n",
       "\n",
       "         gest_Sum  gest_Discount  days_after_last_buy  gest_Total  \\\n",
       "2371630   630.000        210.000                0.000     840.000   \n",
       "2371631    76.000         19.000                0.000      95.000   \n",
       "2371632   346.400        153.600                7.000     500.000   \n",
       "2371633    52.500         17.500                0.000      70.000   \n",
       "2371634   661.600         43.400                1.000     705.000   \n",
       "\n",
       "         first_buy_days_delta  clnt_gest_Sum_avg_ongoing  \\\n",
       "2371630                   179                    315.499   \n",
       "2371631                     6                    499.400   \n",
       "2371632                   347                    260.295   \n",
       "2371633                   148                    369.185   \n",
       "2371634                   216                    374.905   \n",
       "\n",
       "         clnt_gest_Discount_avg_ongoing  clnt_gest_Total_avg_ongoing  \\\n",
       "2371630                         107.403                      422.901   \n",
       "2371631                          42.200                      541.600   \n",
       "2371632                          86.646                      346.942   \n",
       "2371633                         159.875                      529.060   \n",
       "2371634                          36.231                      411.136   \n",
       "\n",
       "         gest_Sum_delta_from_avg  gest_Discount_delta_from_avg  \\\n",
       "2371630                  314.501                       102.597   \n",
       "2371631                 -423.400                       -23.200   \n",
       "2371632                   86.105                        66.954   \n",
       "2371633                 -316.685                      -142.375   \n",
       "2371634                  286.695                         7.169   \n",
       "\n",
       "         gest_total_delta_from_avg  \n",
       "2371630                    417.099  \n",
       "2371631                   -446.600  \n",
       "2371632                    153.058  \n",
       "2371633                   -459.060  \n",
       "2371634                    293.864  "
      ]
     },
     "execution_count": 62,
     "metadata": {},
     "output_type": "execute_result"
    }
   ],
   "source": [
    "df.tail()"
   ]
  },
  {
   "cell_type": "markdown",
   "id": "f24d4c88-cc73-4f01-8419-6e91b1cb840c",
   "metadata": {},
   "source": [
    "**TO DO: ИЗУЧИТЬ**"
   ]
  },
  {
   "cell_type": "code",
   "execution_count": 63,
   "id": "1fdb9f36-6287-403a-97da-7c65c25188c8",
   "metadata": {},
   "outputs": [],
   "source": [
    "# df['gest_total_delta_from_avg'].hist(bins=100)"
   ]
  },
  {
   "cell_type": "markdown",
   "id": "529352ff-cbe9-45e9-b1db-e70011fc3594",
   "metadata": {},
   "source": [
    "**Сколько сделок произошло на момент текущей сделки**  \n",
    "`series.expanding().count()`"
   ]
  },
  {
   "cell_type": "code",
   "execution_count": 64,
   "id": "ebc27545-6703-4c6c-91ab-07ba038ae831",
   "metadata": {},
   "outputs": [],
   "source": [
    "def expand_count(col):\n",
    "    return col.expanding().count()\n",
    "\n",
    "df['clnt_buys_count'] = df.groupby('clnt_ID')['timestamp'].transform(expand_count)"
   ]
  },
  {
   "cell_type": "code",
   "execution_count": 65,
   "id": "c77bc0db-7986-4174-b54e-5c72d8eda70b",
   "metadata": {},
   "outputs": [
    {
     "data": {
      "text/html": [
       "<div>\n",
       "<style scoped>\n",
       "    .dataframe tbody tr th:only-of-type {\n",
       "        vertical-align: middle;\n",
       "    }\n",
       "\n",
       "    .dataframe tbody tr th {\n",
       "        vertical-align: top;\n",
       "    }\n",
       "\n",
       "    .dataframe thead th {\n",
       "        text-align: right;\n",
       "    }\n",
       "</style>\n",
       "<table border=\"1\" class=\"dataframe\">\n",
       "  <thead>\n",
       "    <tr style=\"text-align: right;\">\n",
       "      <th></th>\n",
       "      <th>clnt_ID</th>\n",
       "      <th>timestamp</th>\n",
       "      <th>gest_Sum</th>\n",
       "      <th>gest_Discount</th>\n",
       "      <th>days_after_last_buy</th>\n",
       "      <th>gest_Total</th>\n",
       "      <th>first_buy_days_delta</th>\n",
       "      <th>clnt_gest_Sum_avg_ongoing</th>\n",
       "      <th>clnt_gest_Discount_avg_ongoing</th>\n",
       "      <th>clnt_gest_Total_avg_ongoing</th>\n",
       "      <th>gest_Sum_delta_from_avg</th>\n",
       "      <th>gest_Discount_delta_from_avg</th>\n",
       "      <th>gest_total_delta_from_avg</th>\n",
       "      <th>clnt_buys_count</th>\n",
       "    </tr>\n",
       "  </thead>\n",
       "  <tbody>\n",
       "    <tr>\n",
       "      <th>2371630</th>\n",
       "      <td>6A41E569-CE78-47F3-A671-357000336B67</td>\n",
       "      <td>2021-12-15 22:27:59.033</td>\n",
       "      <td>630.000</td>\n",
       "      <td>210.000</td>\n",
       "      <td>0.000</td>\n",
       "      <td>840.000</td>\n",
       "      <td>179</td>\n",
       "      <td>315.499</td>\n",
       "      <td>107.403</td>\n",
       "      <td>422.901</td>\n",
       "      <td>314.501</td>\n",
       "      <td>102.597</td>\n",
       "      <td>417.099</td>\n",
       "      <td>334.000</td>\n",
       "    </tr>\n",
       "    <tr>\n",
       "      <th>2371631</th>\n",
       "      <td>9ABC36A1-BA7D-4145-A25B-609945E1B50F</td>\n",
       "      <td>2021-12-15 22:34:49.327</td>\n",
       "      <td>76.000</td>\n",
       "      <td>19.000</td>\n",
       "      <td>0.000</td>\n",
       "      <td>95.000</td>\n",
       "      <td>6</td>\n",
       "      <td>499.400</td>\n",
       "      <td>42.200</td>\n",
       "      <td>541.600</td>\n",
       "      <td>-423.400</td>\n",
       "      <td>-23.200</td>\n",
       "      <td>-446.600</td>\n",
       "      <td>5.000</td>\n",
       "    </tr>\n",
       "    <tr>\n",
       "      <th>2371632</th>\n",
       "      <td>565D07CD-6B1C-4F17-988E-313C2E5C6798</td>\n",
       "      <td>2021-12-15 22:42:54.540</td>\n",
       "      <td>346.400</td>\n",
       "      <td>153.600</td>\n",
       "      <td>7.000</td>\n",
       "      <td>500.000</td>\n",
       "      <td>347</td>\n",
       "      <td>260.295</td>\n",
       "      <td>86.646</td>\n",
       "      <td>346.942</td>\n",
       "      <td>86.105</td>\n",
       "      <td>66.954</td>\n",
       "      <td>153.058</td>\n",
       "      <td>249.000</td>\n",
       "    </tr>\n",
       "    <tr>\n",
       "      <th>2371633</th>\n",
       "      <td>F9953B4A-FADB-4213-82EB-6E2B7D1565C7</td>\n",
       "      <td>2021-12-15 22:44:54.387</td>\n",
       "      <td>52.500</td>\n",
       "      <td>17.500</td>\n",
       "      <td>0.000</td>\n",
       "      <td>70.000</td>\n",
       "      <td>148</td>\n",
       "      <td>369.185</td>\n",
       "      <td>159.875</td>\n",
       "      <td>529.060</td>\n",
       "      <td>-316.685</td>\n",
       "      <td>-142.375</td>\n",
       "      <td>-459.060</td>\n",
       "      <td>117.000</td>\n",
       "    </tr>\n",
       "    <tr>\n",
       "      <th>2371634</th>\n",
       "      <td>6E719B78-61E2-4F03-BF63-D83AE5DE5629</td>\n",
       "      <td>2021-12-15 22:45:31.087</td>\n",
       "      <td>661.600</td>\n",
       "      <td>43.400</td>\n",
       "      <td>1.000</td>\n",
       "      <td>705.000</td>\n",
       "      <td>216</td>\n",
       "      <td>374.905</td>\n",
       "      <td>36.231</td>\n",
       "      <td>411.136</td>\n",
       "      <td>286.695</td>\n",
       "      <td>7.169</td>\n",
       "      <td>293.864</td>\n",
       "      <td>176.000</td>\n",
       "    </tr>\n",
       "  </tbody>\n",
       "</table>\n",
       "</div>"
      ],
      "text/plain": [
       "                                      clnt_ID               timestamp  \\\n",
       "2371630  6A41E569-CE78-47F3-A671-357000336B67 2021-12-15 22:27:59.033   \n",
       "2371631  9ABC36A1-BA7D-4145-A25B-609945E1B50F 2021-12-15 22:34:49.327   \n",
       "2371632  565D07CD-6B1C-4F17-988E-313C2E5C6798 2021-12-15 22:42:54.540   \n",
       "2371633  F9953B4A-FADB-4213-82EB-6E2B7D1565C7 2021-12-15 22:44:54.387   \n",
       "2371634  6E719B78-61E2-4F03-BF63-D83AE5DE5629 2021-12-15 22:45:31.087   \n",
       "\n",
       "         gest_Sum  gest_Discount  days_after_last_buy  gest_Total  \\\n",
       "2371630   630.000        210.000                0.000     840.000   \n",
       "2371631    76.000         19.000                0.000      95.000   \n",
       "2371632   346.400        153.600                7.000     500.000   \n",
       "2371633    52.500         17.500                0.000      70.000   \n",
       "2371634   661.600         43.400                1.000     705.000   \n",
       "\n",
       "         first_buy_days_delta  clnt_gest_Sum_avg_ongoing  \\\n",
       "2371630                   179                    315.499   \n",
       "2371631                     6                    499.400   \n",
       "2371632                   347                    260.295   \n",
       "2371633                   148                    369.185   \n",
       "2371634                   216                    374.905   \n",
       "\n",
       "         clnt_gest_Discount_avg_ongoing  clnt_gest_Total_avg_ongoing  \\\n",
       "2371630                         107.403                      422.901   \n",
       "2371631                          42.200                      541.600   \n",
       "2371632                          86.646                      346.942   \n",
       "2371633                         159.875                      529.060   \n",
       "2371634                          36.231                      411.136   \n",
       "\n",
       "         gest_Sum_delta_from_avg  gest_Discount_delta_from_avg  \\\n",
       "2371630                  314.501                       102.597   \n",
       "2371631                 -423.400                       -23.200   \n",
       "2371632                   86.105                        66.954   \n",
       "2371633                 -316.685                      -142.375   \n",
       "2371634                  286.695                         7.169   \n",
       "\n",
       "         gest_total_delta_from_avg  clnt_buys_count  \n",
       "2371630                    417.099          334.000  \n",
       "2371631                   -446.600            5.000  \n",
       "2371632                    153.058          249.000  \n",
       "2371633                   -459.060          117.000  \n",
       "2371634                    293.864          176.000  "
      ]
     },
     "execution_count": 65,
     "metadata": {},
     "output_type": "execute_result"
    }
   ],
   "source": [
    "df.tail()"
   ]
  },
  {
   "cell_type": "markdown",
   "id": "9ddcc176-1cd8-4b84-8caf-3d859eda1406",
   "metadata": {},
   "source": [
    "**TO DO: ИЗУЧИТЬ**"
   ]
  },
  {
   "cell_type": "code",
   "execution_count": 66,
   "id": "d56aca0c-24db-428a-99ba-142eeb1a552f",
   "metadata": {},
   "outputs": [],
   "source": [
    "# df['clnt_buys_count'].describe()"
   ]
  },
  {
   "cell_type": "code",
   "execution_count": 67,
   "id": "8c47b6c3-8503-4629-b6a2-5967426c8c4b",
   "metadata": {},
   "outputs": [],
   "source": [
    "# df['clnt_buys_count'].hist(bins=100)"
   ]
  },
  {
   "cell_type": "markdown",
   "id": "f11d820e-a5e7-4663-a421-b265cd4ccff2",
   "metadata": {
    "tags": []
   },
   "source": [
    "# BASELINE и model selection"
   ]
  },
  {
   "cell_type": "markdown",
   "id": "93b53c26-e672-4b0b-a56e-240d90880748",
   "metadata": {},
   "source": [
    "Для бейслайна используем данные в таком виде:\n",
    "* Группируем по клиенту,\n",
    "* берем общее число покупок\n",
    "* мин, макс, медиана, среднее, стд отклонение по `gest_Sum`, `gest_Discount`, \n",
    "* кол-во дней между покупками, медиана, среднее, стд. отклонение.\n",
    "\n",
    "Модели:\n",
    "* логистическая регрессия\n",
    "* дерево решений\n",
    "* случайный лес\n",
    "\n",
    "Оцениваем `roc auc` по кроссвалидации на 5 фолдах.\n",
    "\n",
    "Проверим на всякий случай по оригинальному и новому таргету."
   ]
  },
  {
   "cell_type": "code",
   "execution_count": 68,
   "id": "f50627ea-abef-4dc1-9303-93c9ed24e097",
   "metadata": {},
   "outputs": [
    {
     "data": {
      "text/html": [
       "<div>\n",
       "<style scoped>\n",
       "    .dataframe tbody tr th:only-of-type {\n",
       "        vertical-align: middle;\n",
       "    }\n",
       "\n",
       "    .dataframe tbody tr th {\n",
       "        vertical-align: top;\n",
       "    }\n",
       "\n",
       "    .dataframe thead th {\n",
       "        text-align: right;\n",
       "    }\n",
       "</style>\n",
       "<table border=\"1\" class=\"dataframe\">\n",
       "  <thead>\n",
       "    <tr style=\"text-align: right;\">\n",
       "      <th></th>\n",
       "      <th>clnt_ID</th>\n",
       "      <th>gest_Sum</th>\n",
       "      <th>gest_Discount</th>\n",
       "      <th>days_after_last_buy</th>\n",
       "      <th>gest_Total</th>\n",
       "      <th>first_buy_days_delta</th>\n",
       "      <th>clnt_gest_Sum_avg_ongoing</th>\n",
       "      <th>clnt_gest_Discount_avg_ongoing</th>\n",
       "      <th>clnt_gest_Total_avg_ongoing</th>\n",
       "      <th>gest_Sum_delta_from_avg</th>\n",
       "      <th>gest_Discount_delta_from_avg</th>\n",
       "      <th>gest_total_delta_from_avg</th>\n",
       "      <th>clnt_buys_count</th>\n",
       "    </tr>\n",
       "  </thead>\n",
       "  <tbody>\n",
       "    <tr>\n",
       "      <th>0</th>\n",
       "      <td>193B4268-0B4A-475E-B1D0-FF5515E29D29</td>\n",
       "      <td>900.000</td>\n",
       "      <td>300.000</td>\n",
       "      <td>-1.000</td>\n",
       "      <td>1200.000</td>\n",
       "      <td>0</td>\n",
       "      <td>900.000</td>\n",
       "      <td>300.000</td>\n",
       "      <td>1200.000</td>\n",
       "      <td>0.000</td>\n",
       "      <td>0.000</td>\n",
       "      <td>0.000</td>\n",
       "      <td>1.000</td>\n",
       "    </tr>\n",
       "    <tr>\n",
       "      <th>1</th>\n",
       "      <td>8DA65A37-C1D0-41D4-98E1-AB6C5BF1367F</td>\n",
       "      <td>165.000</td>\n",
       "      <td>55.000</td>\n",
       "      <td>-1.000</td>\n",
       "      <td>220.000</td>\n",
       "      <td>0</td>\n",
       "      <td>165.000</td>\n",
       "      <td>55.000</td>\n",
       "      <td>220.000</td>\n",
       "      <td>0.000</td>\n",
       "      <td>0.000</td>\n",
       "      <td>0.000</td>\n",
       "      <td>1.000</td>\n",
       "    </tr>\n",
       "    <tr>\n",
       "      <th>2</th>\n",
       "      <td>26ACF3C8-25C8-4345-ABC2-33DA15EA6454</td>\n",
       "      <td>800.500</td>\n",
       "      <td>25.500</td>\n",
       "      <td>-1.000</td>\n",
       "      <td>826.000</td>\n",
       "      <td>0</td>\n",
       "      <td>800.500</td>\n",
       "      <td>25.500</td>\n",
       "      <td>826.000</td>\n",
       "      <td>0.000</td>\n",
       "      <td>0.000</td>\n",
       "      <td>0.000</td>\n",
       "      <td>1.000</td>\n",
       "    </tr>\n",
       "    <tr>\n",
       "      <th>3</th>\n",
       "      <td>0F77DDB3-A9A7-44BE-AAAB-9DF59B66A695</td>\n",
       "      <td>580.000</td>\n",
       "      <td>0.000</td>\n",
       "      <td>-1.000</td>\n",
       "      <td>580.000</td>\n",
       "      <td>0</td>\n",
       "      <td>580.000</td>\n",
       "      <td>0.000</td>\n",
       "      <td>580.000</td>\n",
       "      <td>0.000</td>\n",
       "      <td>0.000</td>\n",
       "      <td>0.000</td>\n",
       "      <td>1.000</td>\n",
       "    </tr>\n",
       "    <tr>\n",
       "      <th>4</th>\n",
       "      <td>F16BCF77-FA5A-4093-B7E3-FA86E2B1EA31</td>\n",
       "      <td>148.900</td>\n",
       "      <td>3.100</td>\n",
       "      <td>-1.000</td>\n",
       "      <td>152.000</td>\n",
       "      <td>0</td>\n",
       "      <td>148.900</td>\n",
       "      <td>3.100</td>\n",
       "      <td>152.000</td>\n",
       "      <td>0.000</td>\n",
       "      <td>0.000</td>\n",
       "      <td>0.000</td>\n",
       "      <td>1.000</td>\n",
       "    </tr>\n",
       "  </tbody>\n",
       "</table>\n",
       "</div>"
      ],
      "text/plain": [
       "                                clnt_ID  gest_Sum  gest_Discount  \\\n",
       "0  193B4268-0B4A-475E-B1D0-FF5515E29D29   900.000        300.000   \n",
       "1  8DA65A37-C1D0-41D4-98E1-AB6C5BF1367F   165.000         55.000   \n",
       "2  26ACF3C8-25C8-4345-ABC2-33DA15EA6454   800.500         25.500   \n",
       "3  0F77DDB3-A9A7-44BE-AAAB-9DF59B66A695   580.000          0.000   \n",
       "4  F16BCF77-FA5A-4093-B7E3-FA86E2B1EA31   148.900          3.100   \n",
       "\n",
       "   days_after_last_buy  gest_Total  first_buy_days_delta  \\\n",
       "0               -1.000    1200.000                     0   \n",
       "1               -1.000     220.000                     0   \n",
       "2               -1.000     826.000                     0   \n",
       "3               -1.000     580.000                     0   \n",
       "4               -1.000     152.000                     0   \n",
       "\n",
       "   clnt_gest_Sum_avg_ongoing  clnt_gest_Discount_avg_ongoing  \\\n",
       "0                    900.000                         300.000   \n",
       "1                    165.000                          55.000   \n",
       "2                    800.500                          25.500   \n",
       "3                    580.000                           0.000   \n",
       "4                    148.900                           3.100   \n",
       "\n",
       "   clnt_gest_Total_avg_ongoing  gest_Sum_delta_from_avg  \\\n",
       "0                     1200.000                    0.000   \n",
       "1                      220.000                    0.000   \n",
       "2                      826.000                    0.000   \n",
       "3                      580.000                    0.000   \n",
       "4                      152.000                    0.000   \n",
       "\n",
       "   gest_Discount_delta_from_avg  gest_total_delta_from_avg  clnt_buys_count  \n",
       "0                         0.000                      0.000            1.000  \n",
       "1                         0.000                      0.000            1.000  \n",
       "2                         0.000                      0.000            1.000  \n",
       "3                         0.000                      0.000            1.000  \n",
       "4                         0.000                      0.000            1.000  "
      ]
     },
     "execution_count": 68,
     "metadata": {},
     "output_type": "execute_result"
    }
   ],
   "source": [
    "# Скопируем датасет\n",
    "df_baseline = df.copy()\n",
    "df_baseline = df_baseline.drop(columns=['timestamp'])\n",
    "df_baseline.head()"
   ]
  },
  {
   "cell_type": "code",
   "execution_count": 69,
   "id": "66f83d0a-071d-404d-a39e-669fbde07ae2",
   "metadata": {},
   "outputs": [],
   "source": [
    "# Создадим словарь для функция агрегирования по необходимым столбцам\n",
    "aggfunc_dict = {'gest_Sum': ['min','max','median','mean','std'], \n",
    "                'gest_Discount': ['min','max','median','mean','std'], \n",
    "                'clnt_buys_count': ['max','median','mean','std']} # здесь min не нужен, т.к. везде будут 1"
   ]
  },
  {
   "cell_type": "code",
   "execution_count": 70,
   "id": "81f42f90-13eb-4146-babf-341b2afd250c",
   "metadata": {},
   "outputs": [],
   "source": [
    "# Сгруппируем по клиентам применим агрегирующие функции из словаря\n",
    "pivot_baseline = df_baseline.pivot_table(index='clnt_ID', values=['gest_Sum','gest_Discount','clnt_buys_count'],aggfunc=aggfunc_dict, \n",
    "                                         fill_value=0 # Пропуски будут в стандартном отклонении любых признаков, где только 1 покупка\n",
    "                                        )"
   ]
  },
  {
   "cell_type": "code",
   "execution_count": 71,
   "id": "7da08761-4487-42ef-a6d7-aa03c112b49c",
   "metadata": {},
   "outputs": [],
   "source": [
    "# Уберем мульти-уровни в столбцах\n",
    "pivot_baseline.columns = ['_'.join(column) for column in pivot_baseline.columns]"
   ]
  },
  {
   "cell_type": "code",
   "execution_count": 72,
   "id": "8bd5e6dd-5012-4575-ac9f-b017e2a4f5f9",
   "metadata": {},
   "outputs": [
    {
     "data": {
      "text/html": [
       "<div>\n",
       "<style scoped>\n",
       "    .dataframe tbody tr th:only-of-type {\n",
       "        vertical-align: middle;\n",
       "    }\n",
       "\n",
       "    .dataframe tbody tr th {\n",
       "        vertical-align: top;\n",
       "    }\n",
       "\n",
       "    .dataframe thead th {\n",
       "        text-align: right;\n",
       "    }\n",
       "</style>\n",
       "<table border=\"1\" class=\"dataframe\">\n",
       "  <thead>\n",
       "    <tr style=\"text-align: right;\">\n",
       "      <th></th>\n",
       "      <th>clnt_buys_count_max</th>\n",
       "      <th>clnt_buys_count_mean</th>\n",
       "      <th>clnt_buys_count_median</th>\n",
       "      <th>clnt_buys_count_std</th>\n",
       "      <th>gest_Discount_max</th>\n",
       "      <th>gest_Discount_mean</th>\n",
       "      <th>gest_Discount_median</th>\n",
       "      <th>gest_Discount_min</th>\n",
       "      <th>gest_Discount_std</th>\n",
       "      <th>gest_Sum_max</th>\n",
       "      <th>gest_Sum_mean</th>\n",
       "      <th>gest_Sum_median</th>\n",
       "      <th>gest_Sum_min</th>\n",
       "      <th>gest_Sum_std</th>\n",
       "    </tr>\n",
       "  </thead>\n",
       "  <tbody>\n",
       "    <tr>\n",
       "      <th>count</th>\n",
       "      <td>255109.000</td>\n",
       "      <td>255109.000</td>\n",
       "      <td>255109.000</td>\n",
       "      <td>255109.000</td>\n",
       "      <td>255109.000</td>\n",
       "      <td>255109.000</td>\n",
       "      <td>255109.000</td>\n",
       "      <td>255109.000</td>\n",
       "      <td>255109.000</td>\n",
       "      <td>255109.000</td>\n",
       "      <td>255109.000</td>\n",
       "      <td>255109.000</td>\n",
       "      <td>255109.000</td>\n",
       "      <td>255109.000</td>\n",
       "    </tr>\n",
       "    <tr>\n",
       "      <th>mean</th>\n",
       "      <td>9.296</td>\n",
       "      <td>5.148</td>\n",
       "      <td>5.148</td>\n",
       "      <td>2.645</td>\n",
       "      <td>96.011</td>\n",
       "      <td>46.174</td>\n",
       "      <td>40.298</td>\n",
       "      <td>30.937</td>\n",
       "      <td>21.568</td>\n",
       "      <td>885.385</td>\n",
       "      <td>609.003</td>\n",
       "      <td>586.838</td>\n",
       "      <td>449.685</td>\n",
       "      <td>161.768</td>\n",
       "    </tr>\n",
       "    <tr>\n",
       "      <th>std</th>\n",
       "      <td>23.156</td>\n",
       "      <td>11.578</td>\n",
       "      <td>11.578</td>\n",
       "      <td>6.752</td>\n",
       "      <td>185.499</td>\n",
       "      <td>138.910</td>\n",
       "      <td>139.234</td>\n",
       "      <td>137.689</td>\n",
       "      <td>46.447</td>\n",
       "      <td>724.995</td>\n",
       "      <td>538.335</td>\n",
       "      <td>543.737</td>\n",
       "      <td>553.309</td>\n",
       "      <td>244.786</td>\n",
       "    </tr>\n",
       "    <tr>\n",
       "      <th>min</th>\n",
       "      <td>1.000</td>\n",
       "      <td>1.000</td>\n",
       "      <td>1.000</td>\n",
       "      <td>0.000</td>\n",
       "      <td>0.000</td>\n",
       "      <td>0.000</td>\n",
       "      <td>0.000</td>\n",
       "      <td>0.000</td>\n",
       "      <td>0.000</td>\n",
       "      <td>0.000</td>\n",
       "      <td>0.000</td>\n",
       "      <td>0.000</td>\n",
       "      <td>0.000</td>\n",
       "      <td>0.000</td>\n",
       "    </tr>\n",
       "    <tr>\n",
       "      <th>25%</th>\n",
       "      <td>1.000</td>\n",
       "      <td>1.000</td>\n",
       "      <td>1.000</td>\n",
       "      <td>0.000</td>\n",
       "      <td>0.000</td>\n",
       "      <td>0.000</td>\n",
       "      <td>0.000</td>\n",
       "      <td>0.000</td>\n",
       "      <td>0.000</td>\n",
       "      <td>408.900</td>\n",
       "      <td>295.000</td>\n",
       "      <td>268.000</td>\n",
       "      <td>118.000</td>\n",
       "      <td>0.000</td>\n",
       "    </tr>\n",
       "    <tr>\n",
       "      <th>50%</th>\n",
       "      <td>2.000</td>\n",
       "      <td>1.500</td>\n",
       "      <td>1.500</td>\n",
       "      <td>0.707</td>\n",
       "      <td>26.800</td>\n",
       "      <td>11.213</td>\n",
       "      <td>0.000</td>\n",
       "      <td>0.000</td>\n",
       "      <td>0.000</td>\n",
       "      <td>728.000</td>\n",
       "      <td>470.171</td>\n",
       "      <td>438.000</td>\n",
       "      <td>260.000</td>\n",
       "      <td>77.737</td>\n",
       "    </tr>\n",
       "    <tr>\n",
       "      <th>75%</th>\n",
       "      <td>6.000</td>\n",
       "      <td>3.500</td>\n",
       "      <td>3.500</td>\n",
       "      <td>1.871</td>\n",
       "      <td>103.400</td>\n",
       "      <td>39.200</td>\n",
       "      <td>26.400</td>\n",
       "      <td>5.200</td>\n",
       "      <td>29.506</td>\n",
       "      <td>1189.000</td>\n",
       "      <td>760.000</td>\n",
       "      <td>737.500</td>\n",
       "      <td>582.000</td>\n",
       "      <td>254.650</td>\n",
       "    </tr>\n",
       "    <tr>\n",
       "      <th>max</th>\n",
       "      <td>1314.000</td>\n",
       "      <td>657.500</td>\n",
       "      <td>657.500</td>\n",
       "      <td>379.463</td>\n",
       "      <td>3957.500</td>\n",
       "      <td>2780.500</td>\n",
       "      <td>2780.500</td>\n",
       "      <td>2780.500</td>\n",
       "      <td>1463.401</td>\n",
       "      <td>23500.000</td>\n",
       "      <td>23500.000</td>\n",
       "      <td>23500.000</td>\n",
       "      <td>23500.000</td>\n",
       "      <td>15247.626</td>\n",
       "    </tr>\n",
       "  </tbody>\n",
       "</table>\n",
       "</div>"
      ],
      "text/plain": [
       "       clnt_buys_count_max  clnt_buys_count_mean  clnt_buys_count_median  \\\n",
       "count           255109.000            255109.000              255109.000   \n",
       "mean                 9.296                 5.148                   5.148   \n",
       "std                 23.156                11.578                  11.578   \n",
       "min                  1.000                 1.000                   1.000   \n",
       "25%                  1.000                 1.000                   1.000   \n",
       "50%                  2.000                 1.500                   1.500   \n",
       "75%                  6.000                 3.500                   3.500   \n",
       "max               1314.000               657.500                 657.500   \n",
       "\n",
       "       clnt_buys_count_std  gest_Discount_max  gest_Discount_mean  \\\n",
       "count           255109.000         255109.000          255109.000   \n",
       "mean                 2.645             96.011              46.174   \n",
       "std                  6.752            185.499             138.910   \n",
       "min                  0.000              0.000               0.000   \n",
       "25%                  0.000              0.000               0.000   \n",
       "50%                  0.707             26.800              11.213   \n",
       "75%                  1.871            103.400              39.200   \n",
       "max                379.463           3957.500            2780.500   \n",
       "\n",
       "       gest_Discount_median  gest_Discount_min  gest_Discount_std  \\\n",
       "count            255109.000         255109.000         255109.000   \n",
       "mean                 40.298             30.937             21.568   \n",
       "std                 139.234            137.689             46.447   \n",
       "min                   0.000              0.000              0.000   \n",
       "25%                   0.000              0.000              0.000   \n",
       "50%                   0.000              0.000              0.000   \n",
       "75%                  26.400              5.200             29.506   \n",
       "max                2780.500           2780.500           1463.401   \n",
       "\n",
       "       gest_Sum_max  gest_Sum_mean  gest_Sum_median  gest_Sum_min  \\\n",
       "count    255109.000     255109.000       255109.000    255109.000   \n",
       "mean        885.385        609.003          586.838       449.685   \n",
       "std         724.995        538.335          543.737       553.309   \n",
       "min           0.000          0.000            0.000         0.000   \n",
       "25%         408.900        295.000          268.000       118.000   \n",
       "50%         728.000        470.171          438.000       260.000   \n",
       "75%        1189.000        760.000          737.500       582.000   \n",
       "max       23500.000      23500.000        23500.000     23500.000   \n",
       "\n",
       "       gest_Sum_std  \n",
       "count    255109.000  \n",
       "mean        161.768  \n",
       "std         244.786  \n",
       "min           0.000  \n",
       "25%           0.000  \n",
       "50%          77.737  \n",
       "75%         254.650  \n",
       "max       15247.626  "
      ]
     },
     "execution_count": 72,
     "metadata": {},
     "output_type": "execute_result"
    }
   ],
   "source": [
    "pivot_baseline.describe()"
   ]
  },
  {
   "cell_type": "code",
   "execution_count": 73,
   "id": "d2c6f7a6-7d9b-48c0-b8af-b535002c05aa",
   "metadata": {},
   "outputs": [],
   "source": [
    "# Создадим два датафрейма с присоединенными таргетами (оригинальным и новым)\n",
    "pivot_baseline_full_orig = pivot_baseline.merge(df_target,on='clnt_ID')\n",
    "pivot_baseline_full_new = pivot_baseline.merge(df_target_extracted,on='clnt_ID').reset_index()"
   ]
  },
  {
   "cell_type": "code",
   "execution_count": 74,
   "id": "a6ddd06d-dc2e-46c7-98c0-09a640cfdba3",
   "metadata": {
    "tags": []
   },
   "outputs": [
    {
     "data": {
      "text/html": [
       "<div>\n",
       "<style scoped>\n",
       "    .dataframe tbody tr th:only-of-type {\n",
       "        vertical-align: middle;\n",
       "    }\n",
       "\n",
       "    .dataframe tbody tr th {\n",
       "        vertical-align: top;\n",
       "    }\n",
       "\n",
       "    .dataframe thead th {\n",
       "        text-align: right;\n",
       "    }\n",
       "</style>\n",
       "<table border=\"1\" class=\"dataframe\">\n",
       "  <thead>\n",
       "    <tr style=\"text-align: right;\">\n",
       "      <th></th>\n",
       "      <th>clnt_ID</th>\n",
       "      <th>clnt_buys_count_max</th>\n",
       "      <th>clnt_buys_count_mean</th>\n",
       "      <th>clnt_buys_count_median</th>\n",
       "      <th>clnt_buys_count_std</th>\n",
       "      <th>gest_Discount_max</th>\n",
       "      <th>gest_Discount_mean</th>\n",
       "      <th>gest_Discount_median</th>\n",
       "      <th>gest_Discount_min</th>\n",
       "      <th>gest_Discount_std</th>\n",
       "      <th>gest_Sum_max</th>\n",
       "      <th>gest_Sum_mean</th>\n",
       "      <th>gest_Sum_median</th>\n",
       "      <th>gest_Sum_min</th>\n",
       "      <th>gest_Sum_std</th>\n",
       "      <th>target</th>\n",
       "    </tr>\n",
       "  </thead>\n",
       "  <tbody>\n",
       "    <tr>\n",
       "      <th>0</th>\n",
       "      <td>000070A8-DB9E-4AB7-8C4D-6169D4AEBB2A</td>\n",
       "      <td>3</td>\n",
       "      <td>2.000</td>\n",
       "      <td>2.000</td>\n",
       "      <td>1.000</td>\n",
       "      <td>44.800</td>\n",
       "      <td>21.800</td>\n",
       "      <td>10.600</td>\n",
       "      <td>10.000</td>\n",
       "      <td>19.921</td>\n",
       "      <td>566.200</td>\n",
       "      <td>525.200</td>\n",
       "      <td>519.400</td>\n",
       "      <td>490.000</td>\n",
       "      <td>38.430</td>\n",
       "      <td>1</td>\n",
       "    </tr>\n",
       "    <tr>\n",
       "      <th>1</th>\n",
       "      <td>00007EB0-6331-438E-A917-E9840C260876</td>\n",
       "      <td>1</td>\n",
       "      <td>1.000</td>\n",
       "      <td>1.000</td>\n",
       "      <td>0.000</td>\n",
       "      <td>6.000</td>\n",
       "      <td>6.000</td>\n",
       "      <td>6.000</td>\n",
       "      <td>6.000</td>\n",
       "      <td>0.000</td>\n",
       "      <td>214.000</td>\n",
       "      <td>214.000</td>\n",
       "      <td>214.000</td>\n",
       "      <td>214.000</td>\n",
       "      <td>0.000</td>\n",
       "      <td>0</td>\n",
       "    </tr>\n",
       "    <tr>\n",
       "      <th>2</th>\n",
       "      <td>0000993D-A30E-4233-AB3F-D368D9A0D2C4</td>\n",
       "      <td>1</td>\n",
       "      <td>1.000</td>\n",
       "      <td>1.000</td>\n",
       "      <td>0.000</td>\n",
       "      <td>0.000</td>\n",
       "      <td>0.000</td>\n",
       "      <td>0.000</td>\n",
       "      <td>0.000</td>\n",
       "      <td>0.000</td>\n",
       "      <td>470.000</td>\n",
       "      <td>470.000</td>\n",
       "      <td>470.000</td>\n",
       "      <td>470.000</td>\n",
       "      <td>0.000</td>\n",
       "      <td>1</td>\n",
       "    </tr>\n",
       "    <tr>\n",
       "      <th>3</th>\n",
       "      <td>0000A724-7BC5-408F-9F16-6CC3AB16322F</td>\n",
       "      <td>64</td>\n",
       "      <td>32.500</td>\n",
       "      <td>32.500</td>\n",
       "      <td>18.619</td>\n",
       "      <td>280.800</td>\n",
       "      <td>31.162</td>\n",
       "      <td>8.550</td>\n",
       "      <td>0.000</td>\n",
       "      <td>62.320</td>\n",
       "      <td>562.600</td>\n",
       "      <td>274.228</td>\n",
       "      <td>260.550</td>\n",
       "      <td>0.000</td>\n",
       "      <td>118.275</td>\n",
       "      <td>0</td>\n",
       "    </tr>\n",
       "    <tr>\n",
       "      <th>4</th>\n",
       "      <td>0000B90C-56DE-43C2-A213-624AFBE36DB2</td>\n",
       "      <td>1</td>\n",
       "      <td>1.000</td>\n",
       "      <td>1.000</td>\n",
       "      <td>0.000</td>\n",
       "      <td>0.000</td>\n",
       "      <td>0.000</td>\n",
       "      <td>0.000</td>\n",
       "      <td>0.000</td>\n",
       "      <td>0.000</td>\n",
       "      <td>549.000</td>\n",
       "      <td>549.000</td>\n",
       "      <td>549.000</td>\n",
       "      <td>549.000</td>\n",
       "      <td>0.000</td>\n",
       "      <td>0</td>\n",
       "    </tr>\n",
       "  </tbody>\n",
       "</table>\n",
       "</div>"
      ],
      "text/plain": [
       "                                clnt_ID  clnt_buys_count_max  \\\n",
       "0  000070A8-DB9E-4AB7-8C4D-6169D4AEBB2A                    3   \n",
       "1  00007EB0-6331-438E-A917-E9840C260876                    1   \n",
       "2  0000993D-A30E-4233-AB3F-D368D9A0D2C4                    1   \n",
       "3  0000A724-7BC5-408F-9F16-6CC3AB16322F                   64   \n",
       "4  0000B90C-56DE-43C2-A213-624AFBE36DB2                    1   \n",
       "\n",
       "   clnt_buys_count_mean  clnt_buys_count_median  clnt_buys_count_std  \\\n",
       "0                 2.000                   2.000                1.000   \n",
       "1                 1.000                   1.000                0.000   \n",
       "2                 1.000                   1.000                0.000   \n",
       "3                32.500                  32.500               18.619   \n",
       "4                 1.000                   1.000                0.000   \n",
       "\n",
       "   gest_Discount_max  gest_Discount_mean  gest_Discount_median  \\\n",
       "0             44.800              21.800                10.600   \n",
       "1              6.000               6.000                 6.000   \n",
       "2              0.000               0.000                 0.000   \n",
       "3            280.800              31.162                 8.550   \n",
       "4              0.000               0.000                 0.000   \n",
       "\n",
       "   gest_Discount_min  gest_Discount_std  gest_Sum_max  gest_Sum_mean  \\\n",
       "0             10.000             19.921       566.200        525.200   \n",
       "1              6.000              0.000       214.000        214.000   \n",
       "2              0.000              0.000       470.000        470.000   \n",
       "3              0.000             62.320       562.600        274.228   \n",
       "4              0.000              0.000       549.000        549.000   \n",
       "\n",
       "   gest_Sum_median  gest_Sum_min  gest_Sum_std  target  \n",
       "0          519.400       490.000        38.430       1  \n",
       "1          214.000       214.000         0.000       0  \n",
       "2          470.000       470.000         0.000       1  \n",
       "3          260.550         0.000       118.275       0  \n",
       "4          549.000       549.000         0.000       0  "
      ]
     },
     "execution_count": 74,
     "metadata": {},
     "output_type": "execute_result"
    }
   ],
   "source": [
    "pivot_baseline_full_orig.head()"
   ]
  },
  {
   "cell_type": "code",
   "execution_count": 75,
   "id": "f812a31e-7ef1-4687-9195-3556f7430d79",
   "metadata": {
    "tags": []
   },
   "outputs": [
    {
     "data": {
      "text/html": [
       "<div>\n",
       "<style scoped>\n",
       "    .dataframe tbody tr th:only-of-type {\n",
       "        vertical-align: middle;\n",
       "    }\n",
       "\n",
       "    .dataframe tbody tr th {\n",
       "        vertical-align: top;\n",
       "    }\n",
       "\n",
       "    .dataframe thead th {\n",
       "        text-align: right;\n",
       "    }\n",
       "</style>\n",
       "<table border=\"1\" class=\"dataframe\">\n",
       "  <thead>\n",
       "    <tr style=\"text-align: right;\">\n",
       "      <th></th>\n",
       "      <th>clnt_ID</th>\n",
       "      <th>clnt_buys_count_max</th>\n",
       "      <th>clnt_buys_count_mean</th>\n",
       "      <th>clnt_buys_count_median</th>\n",
       "      <th>clnt_buys_count_std</th>\n",
       "      <th>gest_Discount_max</th>\n",
       "      <th>gest_Discount_mean</th>\n",
       "      <th>gest_Discount_median</th>\n",
       "      <th>gest_Discount_min</th>\n",
       "      <th>gest_Discount_std</th>\n",
       "      <th>gest_Sum_max</th>\n",
       "      <th>gest_Sum_mean</th>\n",
       "      <th>gest_Sum_median</th>\n",
       "      <th>gest_Sum_min</th>\n",
       "      <th>gest_Sum_std</th>\n",
       "      <th>target_ext</th>\n",
       "    </tr>\n",
       "  </thead>\n",
       "  <tbody>\n",
       "    <tr>\n",
       "      <th>0</th>\n",
       "      <td>000070A8-DB9E-4AB7-8C4D-6169D4AEBB2A</td>\n",
       "      <td>3</td>\n",
       "      <td>2.000</td>\n",
       "      <td>2.000</td>\n",
       "      <td>1.000</td>\n",
       "      <td>44.800</td>\n",
       "      <td>21.800</td>\n",
       "      <td>10.600</td>\n",
       "      <td>10.000</td>\n",
       "      <td>19.921</td>\n",
       "      <td>566.200</td>\n",
       "      <td>525.200</td>\n",
       "      <td>519.400</td>\n",
       "      <td>490.000</td>\n",
       "      <td>38.430</td>\n",
       "      <td>0</td>\n",
       "    </tr>\n",
       "    <tr>\n",
       "      <th>1</th>\n",
       "      <td>00007EB0-6331-438E-A917-E9840C260876</td>\n",
       "      <td>1</td>\n",
       "      <td>1.000</td>\n",
       "      <td>1.000</td>\n",
       "      <td>0.000</td>\n",
       "      <td>6.000</td>\n",
       "      <td>6.000</td>\n",
       "      <td>6.000</td>\n",
       "      <td>6.000</td>\n",
       "      <td>0.000</td>\n",
       "      <td>214.000</td>\n",
       "      <td>214.000</td>\n",
       "      <td>214.000</td>\n",
       "      <td>214.000</td>\n",
       "      <td>0.000</td>\n",
       "      <td>0</td>\n",
       "    </tr>\n",
       "    <tr>\n",
       "      <th>2</th>\n",
       "      <td>0000993D-A30E-4233-AB3F-D368D9A0D2C4</td>\n",
       "      <td>1</td>\n",
       "      <td>1.000</td>\n",
       "      <td>1.000</td>\n",
       "      <td>0.000</td>\n",
       "      <td>0.000</td>\n",
       "      <td>0.000</td>\n",
       "      <td>0.000</td>\n",
       "      <td>0.000</td>\n",
       "      <td>0.000</td>\n",
       "      <td>470.000</td>\n",
       "      <td>470.000</td>\n",
       "      <td>470.000</td>\n",
       "      <td>470.000</td>\n",
       "      <td>0.000</td>\n",
       "      <td>0</td>\n",
       "    </tr>\n",
       "    <tr>\n",
       "      <th>3</th>\n",
       "      <td>0000A724-7BC5-408F-9F16-6CC3AB16322F</td>\n",
       "      <td>64</td>\n",
       "      <td>32.500</td>\n",
       "      <td>32.500</td>\n",
       "      <td>18.619</td>\n",
       "      <td>280.800</td>\n",
       "      <td>31.162</td>\n",
       "      <td>8.550</td>\n",
       "      <td>0.000</td>\n",
       "      <td>62.320</td>\n",
       "      <td>562.600</td>\n",
       "      <td>274.228</td>\n",
       "      <td>260.550</td>\n",
       "      <td>0.000</td>\n",
       "      <td>118.275</td>\n",
       "      <td>0</td>\n",
       "    </tr>\n",
       "    <tr>\n",
       "      <th>4</th>\n",
       "      <td>0000B90C-56DE-43C2-A213-624AFBE36DB2</td>\n",
       "      <td>1</td>\n",
       "      <td>1.000</td>\n",
       "      <td>1.000</td>\n",
       "      <td>0.000</td>\n",
       "      <td>0.000</td>\n",
       "      <td>0.000</td>\n",
       "      <td>0.000</td>\n",
       "      <td>0.000</td>\n",
       "      <td>0.000</td>\n",
       "      <td>549.000</td>\n",
       "      <td>549.000</td>\n",
       "      <td>549.000</td>\n",
       "      <td>549.000</td>\n",
       "      <td>0.000</td>\n",
       "      <td>0</td>\n",
       "    </tr>\n",
       "  </tbody>\n",
       "</table>\n",
       "</div>"
      ],
      "text/plain": [
       "                                clnt_ID  clnt_buys_count_max  \\\n",
       "0  000070A8-DB9E-4AB7-8C4D-6169D4AEBB2A                    3   \n",
       "1  00007EB0-6331-438E-A917-E9840C260876                    1   \n",
       "2  0000993D-A30E-4233-AB3F-D368D9A0D2C4                    1   \n",
       "3  0000A724-7BC5-408F-9F16-6CC3AB16322F                   64   \n",
       "4  0000B90C-56DE-43C2-A213-624AFBE36DB2                    1   \n",
       "\n",
       "   clnt_buys_count_mean  clnt_buys_count_median  clnt_buys_count_std  \\\n",
       "0                 2.000                   2.000                1.000   \n",
       "1                 1.000                   1.000                0.000   \n",
       "2                 1.000                   1.000                0.000   \n",
       "3                32.500                  32.500               18.619   \n",
       "4                 1.000                   1.000                0.000   \n",
       "\n",
       "   gest_Discount_max  gest_Discount_mean  gest_Discount_median  \\\n",
       "0             44.800              21.800                10.600   \n",
       "1              6.000               6.000                 6.000   \n",
       "2              0.000               0.000                 0.000   \n",
       "3            280.800              31.162                 8.550   \n",
       "4              0.000               0.000                 0.000   \n",
       "\n",
       "   gest_Discount_min  gest_Discount_std  gest_Sum_max  gest_Sum_mean  \\\n",
       "0             10.000             19.921       566.200        525.200   \n",
       "1              6.000              0.000       214.000        214.000   \n",
       "2              0.000              0.000       470.000        470.000   \n",
       "3              0.000             62.320       562.600        274.228   \n",
       "4              0.000              0.000       549.000        549.000   \n",
       "\n",
       "   gest_Sum_median  gest_Sum_min  gest_Sum_std  target_ext  \n",
       "0          519.400       490.000        38.430           0  \n",
       "1          214.000       214.000         0.000           0  \n",
       "2          470.000       470.000         0.000           0  \n",
       "3          260.550         0.000       118.275           0  \n",
       "4          549.000       549.000         0.000           0  "
      ]
     },
     "execution_count": 75,
     "metadata": {},
     "output_type": "execute_result"
    }
   ],
   "source": [
    "pivot_baseline_full_new.head()"
   ]
  },
  {
   "cell_type": "code",
   "execution_count": 76,
   "id": "f5e483ce-023a-4509-a4ba-be9888c19cc7",
   "metadata": {},
   "outputs": [],
   "source": [
    "# Уберем айдишники клиентов. Модели они только помешают\n",
    "pivot_baseline_full_orig = pivot_baseline_full_orig.drop(columns=['clnt_ID'])\n",
    "pivot_baseline_full_new = pivot_baseline_full_new.drop(columns=['clnt_ID'])\n"
   ]
  },
  {
   "cell_type": "code",
   "execution_count": 77,
   "id": "d01b9c33-6260-4ea6-9f1d-6f8b95926dda",
   "metadata": {},
   "outputs": [],
   "source": [
    "# Создадим фичи и таргет\n",
    "\n",
    "# Оригинальный\n",
    "X_orig = pivot_baseline_full_orig.drop(columns=['target'])\n",
    "y_orig = pivot_baseline_full_orig['target']\n",
    "\n",
    "# Новый\n",
    "X_new = pivot_baseline_full_new.drop(columns=['target_ext'])\n",
    "y_new = pivot_baseline_full_new['target_ext']"
   ]
  },
  {
   "cell_type": "code",
   "execution_count": 78,
   "id": "f80c3966-2bfc-4afc-8b59-74ac8b8dad36",
   "metadata": {
    "tags": []
   },
   "outputs": [
    {
     "data": {
      "text/html": [
       "<div>\n",
       "<style scoped>\n",
       "    .dataframe tbody tr th:only-of-type {\n",
       "        vertical-align: middle;\n",
       "    }\n",
       "\n",
       "    .dataframe tbody tr th {\n",
       "        vertical-align: top;\n",
       "    }\n",
       "\n",
       "    .dataframe thead th {\n",
       "        text-align: right;\n",
       "    }\n",
       "</style>\n",
       "<table border=\"1\" class=\"dataframe\">\n",
       "  <thead>\n",
       "    <tr style=\"text-align: right;\">\n",
       "      <th></th>\n",
       "      <th>clnt_buys_count_max</th>\n",
       "      <th>clnt_buys_count_mean</th>\n",
       "      <th>clnt_buys_count_median</th>\n",
       "      <th>clnt_buys_count_std</th>\n",
       "      <th>gest_Discount_max</th>\n",
       "      <th>gest_Discount_mean</th>\n",
       "      <th>gest_Discount_median</th>\n",
       "      <th>gest_Discount_min</th>\n",
       "      <th>gest_Discount_std</th>\n",
       "      <th>gest_Sum_max</th>\n",
       "      <th>gest_Sum_mean</th>\n",
       "      <th>gest_Sum_median</th>\n",
       "      <th>gest_Sum_min</th>\n",
       "      <th>gest_Sum_std</th>\n",
       "    </tr>\n",
       "  </thead>\n",
       "  <tbody>\n",
       "    <tr>\n",
       "      <th>0</th>\n",
       "      <td>3</td>\n",
       "      <td>2.000</td>\n",
       "      <td>2.000</td>\n",
       "      <td>1.000</td>\n",
       "      <td>44.800</td>\n",
       "      <td>21.800</td>\n",
       "      <td>10.600</td>\n",
       "      <td>10.000</td>\n",
       "      <td>19.921</td>\n",
       "      <td>566.200</td>\n",
       "      <td>525.200</td>\n",
       "      <td>519.400</td>\n",
       "      <td>490.000</td>\n",
       "      <td>38.430</td>\n",
       "    </tr>\n",
       "    <tr>\n",
       "      <th>1</th>\n",
       "      <td>1</td>\n",
       "      <td>1.000</td>\n",
       "      <td>1.000</td>\n",
       "      <td>0.000</td>\n",
       "      <td>6.000</td>\n",
       "      <td>6.000</td>\n",
       "      <td>6.000</td>\n",
       "      <td>6.000</td>\n",
       "      <td>0.000</td>\n",
       "      <td>214.000</td>\n",
       "      <td>214.000</td>\n",
       "      <td>214.000</td>\n",
       "      <td>214.000</td>\n",
       "      <td>0.000</td>\n",
       "    </tr>\n",
       "    <tr>\n",
       "      <th>2</th>\n",
       "      <td>1</td>\n",
       "      <td>1.000</td>\n",
       "      <td>1.000</td>\n",
       "      <td>0.000</td>\n",
       "      <td>0.000</td>\n",
       "      <td>0.000</td>\n",
       "      <td>0.000</td>\n",
       "      <td>0.000</td>\n",
       "      <td>0.000</td>\n",
       "      <td>470.000</td>\n",
       "      <td>470.000</td>\n",
       "      <td>470.000</td>\n",
       "      <td>470.000</td>\n",
       "      <td>0.000</td>\n",
       "    </tr>\n",
       "    <tr>\n",
       "      <th>3</th>\n",
       "      <td>64</td>\n",
       "      <td>32.500</td>\n",
       "      <td>32.500</td>\n",
       "      <td>18.619</td>\n",
       "      <td>280.800</td>\n",
       "      <td>31.162</td>\n",
       "      <td>8.550</td>\n",
       "      <td>0.000</td>\n",
       "      <td>62.320</td>\n",
       "      <td>562.600</td>\n",
       "      <td>274.228</td>\n",
       "      <td>260.550</td>\n",
       "      <td>0.000</td>\n",
       "      <td>118.275</td>\n",
       "    </tr>\n",
       "    <tr>\n",
       "      <th>4</th>\n",
       "      <td>1</td>\n",
       "      <td>1.000</td>\n",
       "      <td>1.000</td>\n",
       "      <td>0.000</td>\n",
       "      <td>0.000</td>\n",
       "      <td>0.000</td>\n",
       "      <td>0.000</td>\n",
       "      <td>0.000</td>\n",
       "      <td>0.000</td>\n",
       "      <td>549.000</td>\n",
       "      <td>549.000</td>\n",
       "      <td>549.000</td>\n",
       "      <td>549.000</td>\n",
       "      <td>0.000</td>\n",
       "    </tr>\n",
       "  </tbody>\n",
       "</table>\n",
       "</div>"
      ],
      "text/plain": [
       "   clnt_buys_count_max  clnt_buys_count_mean  clnt_buys_count_median  \\\n",
       "0                    3                 2.000                   2.000   \n",
       "1                    1                 1.000                   1.000   \n",
       "2                    1                 1.000                   1.000   \n",
       "3                   64                32.500                  32.500   \n",
       "4                    1                 1.000                   1.000   \n",
       "\n",
       "   clnt_buys_count_std  gest_Discount_max  gest_Discount_mean  \\\n",
       "0                1.000             44.800              21.800   \n",
       "1                0.000              6.000               6.000   \n",
       "2                0.000              0.000               0.000   \n",
       "3               18.619            280.800              31.162   \n",
       "4                0.000              0.000               0.000   \n",
       "\n",
       "   gest_Discount_median  gest_Discount_min  gest_Discount_std  gest_Sum_max  \\\n",
       "0                10.600             10.000             19.921       566.200   \n",
       "1                 6.000              6.000              0.000       214.000   \n",
       "2                 0.000              0.000              0.000       470.000   \n",
       "3                 8.550              0.000             62.320       562.600   \n",
       "4                 0.000              0.000              0.000       549.000   \n",
       "\n",
       "   gest_Sum_mean  gest_Sum_median  gest_Sum_min  gest_Sum_std  \n",
       "0        525.200          519.400       490.000        38.430  \n",
       "1        214.000          214.000       214.000         0.000  \n",
       "2        470.000          470.000       470.000         0.000  \n",
       "3        274.228          260.550         0.000       118.275  \n",
       "4        549.000          549.000       549.000         0.000  "
      ]
     },
     "metadata": {},
     "output_type": "display_data"
    },
    {
     "data": {
      "text/plain": [
       "0    1\n",
       "1    0\n",
       "2    1\n",
       "3    0\n",
       "4    0\n",
       "Name: target, dtype: int64"
      ]
     },
     "execution_count": 78,
     "metadata": {},
     "output_type": "execute_result"
    }
   ],
   "source": [
    "display(X_orig.head())\n",
    "y_orig.head()"
   ]
  },
  {
   "cell_type": "code",
   "execution_count": 79,
   "id": "634430ba-ea7a-4350-a224-2aea6b0fdc0d",
   "metadata": {},
   "outputs": [
    {
     "data": {
      "text/html": [
       "<div>\n",
       "<style scoped>\n",
       "    .dataframe tbody tr th:only-of-type {\n",
       "        vertical-align: middle;\n",
       "    }\n",
       "\n",
       "    .dataframe tbody tr th {\n",
       "        vertical-align: top;\n",
       "    }\n",
       "\n",
       "    .dataframe thead th {\n",
       "        text-align: right;\n",
       "    }\n",
       "</style>\n",
       "<table border=\"1\" class=\"dataframe\">\n",
       "  <thead>\n",
       "    <tr style=\"text-align: right;\">\n",
       "      <th></th>\n",
       "      <th>clnt_buys_count_max</th>\n",
       "      <th>clnt_buys_count_mean</th>\n",
       "      <th>clnt_buys_count_median</th>\n",
       "      <th>clnt_buys_count_std</th>\n",
       "      <th>gest_Discount_max</th>\n",
       "      <th>gest_Discount_mean</th>\n",
       "      <th>gest_Discount_median</th>\n",
       "      <th>gest_Discount_min</th>\n",
       "      <th>gest_Discount_std</th>\n",
       "      <th>gest_Sum_max</th>\n",
       "      <th>gest_Sum_mean</th>\n",
       "      <th>gest_Sum_median</th>\n",
       "      <th>gest_Sum_min</th>\n",
       "      <th>gest_Sum_std</th>\n",
       "    </tr>\n",
       "  </thead>\n",
       "  <tbody>\n",
       "    <tr>\n",
       "      <th>0</th>\n",
       "      <td>3</td>\n",
       "      <td>2.000</td>\n",
       "      <td>2.000</td>\n",
       "      <td>1.000</td>\n",
       "      <td>44.800</td>\n",
       "      <td>21.800</td>\n",
       "      <td>10.600</td>\n",
       "      <td>10.000</td>\n",
       "      <td>19.921</td>\n",
       "      <td>566.200</td>\n",
       "      <td>525.200</td>\n",
       "      <td>519.400</td>\n",
       "      <td>490.000</td>\n",
       "      <td>38.430</td>\n",
       "    </tr>\n",
       "    <tr>\n",
       "      <th>1</th>\n",
       "      <td>1</td>\n",
       "      <td>1.000</td>\n",
       "      <td>1.000</td>\n",
       "      <td>0.000</td>\n",
       "      <td>6.000</td>\n",
       "      <td>6.000</td>\n",
       "      <td>6.000</td>\n",
       "      <td>6.000</td>\n",
       "      <td>0.000</td>\n",
       "      <td>214.000</td>\n",
       "      <td>214.000</td>\n",
       "      <td>214.000</td>\n",
       "      <td>214.000</td>\n",
       "      <td>0.000</td>\n",
       "    </tr>\n",
       "    <tr>\n",
       "      <th>2</th>\n",
       "      <td>1</td>\n",
       "      <td>1.000</td>\n",
       "      <td>1.000</td>\n",
       "      <td>0.000</td>\n",
       "      <td>0.000</td>\n",
       "      <td>0.000</td>\n",
       "      <td>0.000</td>\n",
       "      <td>0.000</td>\n",
       "      <td>0.000</td>\n",
       "      <td>470.000</td>\n",
       "      <td>470.000</td>\n",
       "      <td>470.000</td>\n",
       "      <td>470.000</td>\n",
       "      <td>0.000</td>\n",
       "    </tr>\n",
       "    <tr>\n",
       "      <th>3</th>\n",
       "      <td>64</td>\n",
       "      <td>32.500</td>\n",
       "      <td>32.500</td>\n",
       "      <td>18.619</td>\n",
       "      <td>280.800</td>\n",
       "      <td>31.162</td>\n",
       "      <td>8.550</td>\n",
       "      <td>0.000</td>\n",
       "      <td>62.320</td>\n",
       "      <td>562.600</td>\n",
       "      <td>274.228</td>\n",
       "      <td>260.550</td>\n",
       "      <td>0.000</td>\n",
       "      <td>118.275</td>\n",
       "    </tr>\n",
       "    <tr>\n",
       "      <th>4</th>\n",
       "      <td>1</td>\n",
       "      <td>1.000</td>\n",
       "      <td>1.000</td>\n",
       "      <td>0.000</td>\n",
       "      <td>0.000</td>\n",
       "      <td>0.000</td>\n",
       "      <td>0.000</td>\n",
       "      <td>0.000</td>\n",
       "      <td>0.000</td>\n",
       "      <td>549.000</td>\n",
       "      <td>549.000</td>\n",
       "      <td>549.000</td>\n",
       "      <td>549.000</td>\n",
       "      <td>0.000</td>\n",
       "    </tr>\n",
       "  </tbody>\n",
       "</table>\n",
       "</div>"
      ],
      "text/plain": [
       "   clnt_buys_count_max  clnt_buys_count_mean  clnt_buys_count_median  \\\n",
       "0                    3                 2.000                   2.000   \n",
       "1                    1                 1.000                   1.000   \n",
       "2                    1                 1.000                   1.000   \n",
       "3                   64                32.500                  32.500   \n",
       "4                    1                 1.000                   1.000   \n",
       "\n",
       "   clnt_buys_count_std  gest_Discount_max  gest_Discount_mean  \\\n",
       "0                1.000             44.800              21.800   \n",
       "1                0.000              6.000               6.000   \n",
       "2                0.000              0.000               0.000   \n",
       "3               18.619            280.800              31.162   \n",
       "4                0.000              0.000               0.000   \n",
       "\n",
       "   gest_Discount_median  gest_Discount_min  gest_Discount_std  gest_Sum_max  \\\n",
       "0                10.600             10.000             19.921       566.200   \n",
       "1                 6.000              6.000              0.000       214.000   \n",
       "2                 0.000              0.000              0.000       470.000   \n",
       "3                 8.550              0.000             62.320       562.600   \n",
       "4                 0.000              0.000              0.000       549.000   \n",
       "\n",
       "   gest_Sum_mean  gest_Sum_median  gest_Sum_min  gest_Sum_std  \n",
       "0        525.200          519.400       490.000        38.430  \n",
       "1        214.000          214.000       214.000         0.000  \n",
       "2        470.000          470.000       470.000         0.000  \n",
       "3        274.228          260.550         0.000       118.275  \n",
       "4        549.000          549.000       549.000         0.000  "
      ]
     },
     "metadata": {},
     "output_type": "display_data"
    },
    {
     "data": {
      "text/plain": [
       "0    0\n",
       "1    0\n",
       "2    0\n",
       "3    0\n",
       "4    0\n",
       "Name: target_ext, dtype: int8"
      ]
     },
     "execution_count": 79,
     "metadata": {},
     "output_type": "execute_result"
    }
   ],
   "source": [
    "display(X_new.head())\n",
    "y_new.head()"
   ]
  },
  {
   "cell_type": "code",
   "execution_count": 80,
   "id": "60fb5f2f-6b90-46ab-bc64-3ebc1b6c1587",
   "metadata": {
    "tags": []
   },
   "outputs": [],
   "source": [
    "# Логистическая регрессия\n",
    "with warnings.catch_warnings():\n",
    "    warnings.simplefilter('ignore')\n",
    "    log_reg = LogisticRegression()\n",
    "    log_reg_cv_orig = cross_validate(log_reg, X_orig, y_orig, cv=5, scoring='roc_auc')\n",
    "    log_reg_cv_new = cross_validate(log_reg, X_new, y_new, cv=5, scoring='roc_auc')\n",
    "    \n",
    "# Здесь ошибки несходимости - убрал"
   ]
  },
  {
   "cell_type": "code",
   "execution_count": 81,
   "id": "bc199100-56db-4eb2-a4e3-167a78f65fc1",
   "metadata": {},
   "outputs": [],
   "source": [
    "# Дерево решений\n",
    "tree = DecisionTreeClassifier()\n",
    "tree_cv_orig = cross_validate(tree,X_orig,y_orig,cv=5,scoring='roc_auc')\n",
    "tree_cv_new = cross_validate(tree,X_new,y_new,cv=5,scoring='roc_auc')"
   ]
  },
  {
   "cell_type": "code",
   "execution_count": 82,
   "id": "0c281d87-dae3-4f7b-abd9-42ec653c2e43",
   "metadata": {},
   "outputs": [],
   "source": [
    "# Случайный лес\n",
    "forest = RandomForestClassifier()\n",
    "forest_cv_orig = cross_validate(forest,X_orig,y_orig,cv=5,scoring='roc_auc')\n",
    "forest_cv_new = cross_validate(forest,X_new,y_new,cv=5,scoring='roc_auc')"
   ]
  },
  {
   "cell_type": "code",
   "execution_count": 83,
   "id": "e105b64c-fec6-4241-bd79-44a8891509ea",
   "metadata": {},
   "outputs": [
    {
     "name": "stdout",
     "output_type": "stream",
     "text": [
      "ORIG logreg roc auc 0.669\n",
      "ORIG tree roc auc 0.617\n",
      "ORIG forest roc auc 0.707\n",
      "NEW logreg roc auc 0.619\n",
      "NEW tree roc auc 0.513\n",
      "NEW forest roc auc 0.721\n"
     ]
    }
   ],
   "source": [
    "# Подсчет и вывод метрик\n",
    "\n",
    "# Оригинальный\n",
    "lr_roc_auc_orig = log_reg_cv_orig['test_score'].mean()\n",
    "tree_roc_auc_orig = tree_cv_orig['test_score'].mean()\n",
    "forest_roc_auc_orig = forest_cv_orig['test_score'].mean()\n",
    "\n",
    "# Новый\n",
    "lr_roc_auc_new = log_reg_cv_new['test_score'].mean()\n",
    "tree_roc_auc_new = tree_cv_new['test_score'].mean()\n",
    "forest_roc_auc_new = forest_cv_new['test_score'].mean()\n",
    "\n",
    "scores = {'ORIG logreg roc auc': lr_roc_auc_orig,\n",
    "         'ORIG tree roc auc': tree_roc_auc_orig,\n",
    "         'ORIG forest roc auc': forest_roc_auc_orig,\n",
    "         'NEW logreg roc auc': lr_roc_auc_new,\n",
    "         'NEW tree roc auc': tree_roc_auc_new,\n",
    "         'NEW forest roc auc': forest_roc_auc_new}\n",
    "\n",
    "for key,value in scores.items():\n",
    "    print(f'{key} {value:.03f}')"
   ]
  },
  {
   "cell_type": "markdown",
   "id": "7a9f7e02-1d4f-4ccf-98ca-87f6b524fc49",
   "metadata": {},
   "source": [
    "В обоих случаях лучше всего себя показывает случайный лес."
   ]
  },
  {
   "cell_type": "markdown",
   "id": "a8427ea2-e532-4998-9b9d-7bdc120ed973",
   "metadata": {
    "tags": []
   },
   "source": [
    "### catboost -- ON HOLD"
   ]
  },
  {
   "cell_type": "code",
   "execution_count": 84,
   "id": "0dd4be17-eec5-40c1-9818-ccc755abc0de",
   "metadata": {},
   "outputs": [],
   "source": [
    "# ON HOLD\n",
    "\n",
    "# test_data = catboost_pool = Pool(train_data, \n",
    "#                                  train_labels)\n",
    "\n",
    "# model = CatBoostClassifier(iterations=2,\n",
    "#                            depth=2,\n",
    "#                            learning_rate=1,\n",
    "#                            loss_function='Logloss',\n",
    "#                            verbose=True)\n",
    "# # train the model\n",
    "# model.fit(train_data, train_labels)\n",
    "# # make the prediction using the resulting model\n",
    "# preds_class = model.predict(test_data)\n",
    "# preds_proba = model.predict_proba(test_data)\n",
    "# print(\"class = \", preds_class)\n",
    "# print(\"proba = \", preds_proba)"
   ]
  },
  {
   "cell_type": "markdown",
   "id": "0e88bd38-d3ed-4100-ac43-f676195a5139",
   "metadata": {
    "tags": []
   },
   "source": [
    "# Model tuning"
   ]
  },
  {
   "cell_type": "markdown",
   "id": "d9f30751-f067-425f-8b71-60a96ff23cc4",
   "metadata": {},
   "source": [
    "EMPTY"
   ]
  }
 ],
 "metadata": {
  "kernelspec": {
   "display_name": "Python 3 (ipykernel)",
   "language": "python",
   "name": "python3"
  },
  "language_info": {
   "codemirror_mode": {
    "name": "ipython",
    "version": 3
   },
   "file_extension": ".py",
   "mimetype": "text/x-python",
   "name": "python",
   "nbconvert_exporter": "python",
   "pygments_lexer": "ipython3",
   "version": "3.10.2"
  }
 },
 "nbformat": 4,
 "nbformat_minor": 5
}
