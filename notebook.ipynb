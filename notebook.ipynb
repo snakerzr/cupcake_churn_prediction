{
 "cells": [
  {
   "cell_type": "markdown",
   "id": "0e918b3b-b82d-4491-a266-f1204a6a60aa",
   "metadata": {},
   "source": [
    "Для прогнозирования используются данные о покупках юзеров за период 2021 года. Всего доступно больше 2 млн. строк.\n",
    "\n",
    "Флаг оттока проставляется, если после покупки юзера прошло больше 45 дней.\n",
    "\n",
    "Поведение юзера описывается историей его покупок, суммой чека и размером скидки к чеку. В компании действует программа лояльности, участвуя в которой юзеры получают скидку на любую покупку и могут получать дополнительные скидки по разным промо-акциями.\n",
    "\n",
    "Описание данных:\n",
    "data.csv\n",
    "* `'clnt_ID'` - уникальный айди юзера, str\n",
    "* `'timestamp'` - дата и время совершения покупки, datetime\n",
    "* `'gest_Sum'` - сумма покупки, float\n",
    "* `'gest_Discount'` - сумма скидки, float\n",
    "\n",
    "target.csv\n",
    "* `'clnt_ID'` - уникальный айди юзера, str\n",
    "* `'target'` - флаг оттока, int: 1 если юзер ушел в отток | 0 если НЕ отток"
   ]
  },
  {
   "cell_type": "markdown",
   "id": "c84a5095-84e0-48d0-86b1-8abf69d3a4e0",
   "metadata": {},
   "source": [
    "## Что здесь можно сделать? - Заметки \n",
    "**Нужно помнить, что по сути это тайм серия.**  -- **Внимательно!**  \n",
    "Т.е. я предполагаю, что клиент покупает, покупает, покупает, потом фигак и перестал покупать. Один клиент - один вектор.\n",
    "А тут куча вектором принадлежат одному клиенту. \n",
    "\n",
    "Т.е. я бы даже сказал, что в том виде в котором оно есть, модель особо-то ничего не найдет. Как она сможет по дате, сумме покупки и скидке предсказать уйдет человек или нет, не зная его истории?\n",
    "---ОТВЕТ---\n",
    "Да, это последовательность событий, но прям как таймсерию использовать не можем, потому что нерегулярные сигналы и из-за этого много сложностей.\n",
    "Но! Можно использовать эти же строки, но к ним добавлять \"память\" о клиенте, т.е. его историю к конкретной сделке.\n",
    "\n",
    "**Что может говорить, что клиент собрался уйти и не вернуться?**  \n",
    "Т.е. гипотетически что может говорить о том, что клиент собирается уйти и не вернуться?\n",
    "1. Увеличивается интервал между покупками от покупки к покупке. Типа 1 день, потом 2, потом 5 и т.д.\n",
    "2. Как-то изменяется объем чека (уменьшается, увеличивается?) \n",
    "3. Как-то меняется ассортимент (типа вот он покупал одно и тоже, а тут вдруг перестал покупать одно и тоже (испортился товар на его вкус) и он либо сразу ушел, либо попробовал другое и остался, либо попробовал другое - ему не понравилось - ушел\n",
    "\n",
    "**Как должен работать предикт? Какие данные должны поступать на вход?**  -- **Есть пол-ответа**  \n",
    "~~Это видимо тоже относится к тому, что это своего рода таймсерия~~\n",
    "Вся инфа находится в БД, которая обновляется ночью. И модель будет работать ночью и может использовать всю бд. Как именно пока я не понимаю.\n",
    "\n",
    "\n",
    "**Если сейчас дать модели на вход просто дату, сумму чека и скидку...**  \n",
    "То она будет пытаться предсказать отток исключительно по дате, сумме чеку и скидке - врядли у нее что-то получится взразумительное.\n",
    "\n",
    "\n",
    "**Сумма в месяц стабильна для юзера, а отклонение может указывать на отток**  \n",
    "По результатам уже проведенного анализа есть такой вывод:\n",
    "сумма, которую готов тратить юзер в месяц,  достаточна стабильна и слабо меняется со временем. Потратив в этом месяце больше обычного, юзер скорее всего в следующем не будет покупать;\n",
    "\n",
    "По каждому клиенту взять средний чек, каким-то образом определить порог отклонения от этого среднего чека и посмотреть насколько факт этого отклонения коррелирует с оттоком. Может это будет хорошая фича. Но проблема в том, что для предсказания не достаточно \n",
    "\n",
    "**Самый простой и очевидный способ подготовки данных**  \n",
    "Это взять по каждому клиенту кол-во покупок, min,max,mean,median,stdev по gest_Sum, gest_Discount, и перерывом между покупками\n",
    "\n",
    "**Вариант еще лучше!**  \n",
    "Используем каждую строку как есть, не переводим ее в строку по уникальному клиенту, а точно также одна строка одна сделка.\n",
    "К каждой такой строке мы накопительно добавляем кумулятивную инфу о клиенте, т.е.:\n",
    "* Сколько дней на момент сделки прошло с момента первой сделки\n",
    "* Какой на текущий момент средний чек\n",
    "* Какая разница между среднем чеком и чеком сделки\n",
    "* Сколько сделок произошло на момент текущей сделки\n",
    "* Сколько сделок в месяц в среднем\n",
    "\n",
    "\n",
    "\n",
    "# Вопросы:\n",
    "**>>>Что значат 0 в gest_sum?<<<**\n",
    "\n",
    "**Как работают скидки? Это накопительные баллы или просто скидки? Почему основные скидки не больше 100 руб, но бывают аж в 3000 руб.?**"
   ]
  },
  {
   "cell_type": "markdown",
   "id": "4f798059-214a-43dc-b358-7a4af5c73f6a",
   "metadata": {},
   "source": [
    "## Описание общего подхода - not actual\n",
    "\n",
    "Я вот вижу 3 общих подхода:\n",
    "1. Рассматривать покупки клиентов как таймсерию, и исходя из прошлого поведения прогнозировать будущее. \n",
    "    * Мы таймсерии не проходили, плюс задача оттока традиционно не решается предсказанием таймсерии, поэтому от этого варианта скорее откажемся. Даже несмотря на то, что можно как-то обучить модель на скользящем окне (я точно не знаю как).\n",
    "2. Преобразовать данные так, чтобы получилось по одной строке на каждого клиента, в которой будет какая-то агрегированная информация о покупках. В надежде, что модель найдет какие-то закономерности именно в общей репрезентации истории. \n",
    "3. Использовать данные в том виде, в котором они уже есть. Т.е. каждая строка это одна сделка. Но добавить к ним накопительную информацию об истории клиента. (Спасибо нашему ментору, который подсказал этот подход)\n",
    "    * Т.е. к каждой сделке добавить инфу о кол-ве уже совершенных покупок, кол-во прошедших дней с предыдущей покупки, и другое.\n",
    "    * Такой подход позволит модели сравнивать историю с текущей сделкой, что повышает ценность информации по сравнению с предыдущим подходом.\n",
    "    \n",
    "    \n",
    "Наверное, главный мой вопрос для всех: какие есть еще подходы к решению задачи?\n",
    "\n",
    "И перейдя на уровень ниже, предполагаю, что эффективность любого подхода зависит от того, какие фичи мы создадим/добавим.\n",
    "А какие фичи нужно добавить зависит от того, как мы себе представляем механику и причины оттока клиентов.\n",
    "\n",
    "Здесь можно как-то самостоятельно (коллективно) очертить эту механику, составить список фичей и уже отдать на откуп модели, чтобы она там сама определила какие фичи важны - какие нет.\n",
    "Либо воспользоваться уже какой-то готовой теорией, например тот же RFM-анализ, о котором говорил Родион.\n",
    "Не ясно какой подход эффективнее, т.е. стоит ли погружаться в теорию и если стоит то ради чего (только ради списка фичей, например)?\n",
    "Это вот второй вопрос, который хотел бы обсудить.\n",
    "\n",
    "\n",
    "И третий вопрос: про то, в каком виде будут приходить данные на предикт.\n",
    "Это может повлиять на то, как нужно будет обучать модель.\n",
    "Например, если предикт будет происходить исключительно по данным за последний месяц и только, то какой-то условный скрипт предобработки, который будет, например, считать средний чек может сильно ошибиться, т.к. ему будет не хватать данных. А модель мы обучали на целом годе и там статистики будут поточнее. И так возникает расхождение.\n",
    "Вот такого рода ограничения. Я, к сожалению, другие примеры придумать не могу, но это все может сильно повлиять на архитектуру обработки данных и как следствие на то, что стоит ожидать от модели.\n",
    "\n",
    "**not actual - end**"
   ]
  },
  {
   "cell_type": "code",
   "execution_count": 194,
   "id": "cf9e2794-3933-48dd-9665-87d7ea6f5f13",
   "metadata": {},
   "outputs": [],
   "source": [
    "import numpy as np\n",
    "import pandas as pd\n",
    "\n",
    "import statsmodels.api as sm\n",
    "\n",
    "import matplotlib.pyplot as plt\n",
    "import seaborn as sns\n",
    "\n",
    "from sklearn.preprocessing import StandardScaler\n",
    "\n",
    "from sklearn.linear_model import LogisticRegression\n",
    "from sklearn.tree import DecisionTreeClassifier\n",
    "from sklearn.ensemble import RandomForestClassifier\n",
    "\n",
    "from sklearn.model_selection import cross_val_score\n",
    "from sklearn.model_selection import cross_validate\n",
    "\n",
    "from sklearn.metrics import f1_score\n"
   ]
  },
  {
   "cell_type": "code",
   "execution_count": 2,
   "id": "f049c0bd-bb38-4983-8627-8f10200cd4f1",
   "metadata": {},
   "outputs": [],
   "source": [
    "# pd.set_option('display.max_rows', 100)\n",
    "pd.options.display.float_format = '{:.3f}'.format"
   ]
  },
  {
   "cell_type": "code",
   "execution_count": 3,
   "id": "4215629b-2bbb-424b-b874-7ce4c61f5c21",
   "metadata": {},
   "outputs": [],
   "source": [
    "df = pd.read_csv('data/data.csv')\n",
    "df_target = pd.read_csv('data/target.csv')"
   ]
  },
  {
   "cell_type": "code",
   "execution_count": 4,
   "id": "a727e5a4-5600-4f31-acb2-68b05ebf84a5",
   "metadata": {},
   "outputs": [
    {
     "data": {
      "text/html": [
       "<div>\n",
       "<style scoped>\n",
       "    .dataframe tbody tr th:only-of-type {\n",
       "        vertical-align: middle;\n",
       "    }\n",
       "\n",
       "    .dataframe tbody tr th {\n",
       "        vertical-align: top;\n",
       "    }\n",
       "\n",
       "    .dataframe thead th {\n",
       "        text-align: right;\n",
       "    }\n",
       "</style>\n",
       "<table border=\"1\" class=\"dataframe\">\n",
       "  <thead>\n",
       "    <tr style=\"text-align: right;\">\n",
       "      <th></th>\n",
       "      <th>clnt_ID</th>\n",
       "      <th>timestamp</th>\n",
       "      <th>gest_Sum</th>\n",
       "      <th>gest_Discount</th>\n",
       "    </tr>\n",
       "  </thead>\n",
       "  <tbody>\n",
       "    <tr>\n",
       "      <th>0</th>\n",
       "      <td>193B4268-0B4A-475E-B1D0-FF5515E29D29</td>\n",
       "      <td>2021-01-02 09:09:17.060</td>\n",
       "      <td>900.000000</td>\n",
       "      <td>300.0</td>\n",
       "    </tr>\n",
       "    <tr>\n",
       "      <th>1</th>\n",
       "      <td>8DA65A37-C1D0-41D4-98E1-AB6C5BF1367F</td>\n",
       "      <td>2021-01-02 09:12:24.850</td>\n",
       "      <td>165.000000</td>\n",
       "      <td>55.0</td>\n",
       "    </tr>\n",
       "    <tr>\n",
       "      <th>2</th>\n",
       "      <td>26ACF3C8-25C8-4345-ABC2-33DA15EA6454</td>\n",
       "      <td>2021-01-02 09:38:21.643</td>\n",
       "      <td>800.500000</td>\n",
       "      <td>25.5</td>\n",
       "    </tr>\n",
       "    <tr>\n",
       "      <th>3</th>\n",
       "      <td>0F77DDB3-A9A7-44BE-AAAB-9DF59B66A695</td>\n",
       "      <td>2021-01-02 09:45:17.793</td>\n",
       "      <td>580.000000</td>\n",
       "      <td>0.0</td>\n",
       "    </tr>\n",
       "    <tr>\n",
       "      <th>4</th>\n",
       "      <td>F16BCF77-FA5A-4093-B7E3-FA86E2B1EA31</td>\n",
       "      <td>2021-01-02 09:59:50.453</td>\n",
       "      <td>148.899994</td>\n",
       "      <td>3.1</td>\n",
       "    </tr>\n",
       "  </tbody>\n",
       "</table>\n",
       "</div>"
      ],
      "text/plain": [
       "                                clnt_ID                timestamp    gest_Sum  \\\n",
       "0  193B4268-0B4A-475E-B1D0-FF5515E29D29  2021-01-02 09:09:17.060  900.000000   \n",
       "1  8DA65A37-C1D0-41D4-98E1-AB6C5BF1367F  2021-01-02 09:12:24.850  165.000000   \n",
       "2  26ACF3C8-25C8-4345-ABC2-33DA15EA6454  2021-01-02 09:38:21.643  800.500000   \n",
       "3  0F77DDB3-A9A7-44BE-AAAB-9DF59B66A695  2021-01-02 09:45:17.793  580.000000   \n",
       "4  F16BCF77-FA5A-4093-B7E3-FA86E2B1EA31  2021-01-02 09:59:50.453  148.899994   \n",
       "\n",
       "   gest_Discount  \n",
       "0          300.0  \n",
       "1           55.0  \n",
       "2           25.5  \n",
       "3            0.0  \n",
       "4            3.1  "
      ]
     },
     "metadata": {},
     "output_type": "display_data"
    },
    {
     "data": {
      "text/html": [
       "<div>\n",
       "<style scoped>\n",
       "    .dataframe tbody tr th:only-of-type {\n",
       "        vertical-align: middle;\n",
       "    }\n",
       "\n",
       "    .dataframe tbody tr th {\n",
       "        vertical-align: top;\n",
       "    }\n",
       "\n",
       "    .dataframe thead th {\n",
       "        text-align: right;\n",
       "    }\n",
       "</style>\n",
       "<table border=\"1\" class=\"dataframe\">\n",
       "  <thead>\n",
       "    <tr style=\"text-align: right;\">\n",
       "      <th></th>\n",
       "      <th>clnt_ID</th>\n",
       "      <th>target</th>\n",
       "    </tr>\n",
       "  </thead>\n",
       "  <tbody>\n",
       "    <tr>\n",
       "      <th>0</th>\n",
       "      <td>000070A8-DB9E-4AB7-8C4D-6169D4AEBB2A</td>\n",
       "      <td>1</td>\n",
       "    </tr>\n",
       "    <tr>\n",
       "      <th>1</th>\n",
       "      <td>00007EB0-6331-438E-A917-E9840C260876</td>\n",
       "      <td>0</td>\n",
       "    </tr>\n",
       "    <tr>\n",
       "      <th>2</th>\n",
       "      <td>0000993D-A30E-4233-AB3F-D368D9A0D2C4</td>\n",
       "      <td>1</td>\n",
       "    </tr>\n",
       "    <tr>\n",
       "      <th>3</th>\n",
       "      <td>0000A724-7BC5-408F-9F16-6CC3AB16322F</td>\n",
       "      <td>0</td>\n",
       "    </tr>\n",
       "    <tr>\n",
       "      <th>4</th>\n",
       "      <td>0000B90C-56DE-43C2-A213-624AFBE36DB2</td>\n",
       "      <td>0</td>\n",
       "    </tr>\n",
       "  </tbody>\n",
       "</table>\n",
       "</div>"
      ],
      "text/plain": [
       "                                clnt_ID  target\n",
       "0  000070A8-DB9E-4AB7-8C4D-6169D4AEBB2A       1\n",
       "1  00007EB0-6331-438E-A917-E9840C260876       0\n",
       "2  0000993D-A30E-4233-AB3F-D368D9A0D2C4       1\n",
       "3  0000A724-7BC5-408F-9F16-6CC3AB16322F       0\n",
       "4  0000B90C-56DE-43C2-A213-624AFBE36DB2       0"
      ]
     },
     "execution_count": 4,
     "metadata": {},
     "output_type": "execute_result"
    }
   ],
   "source": [
    "display(df.head())\n",
    "df_target.head()"
   ]
  },
  {
   "cell_type": "markdown",
   "id": "bee94788-bcf3-48c4-81d2-2a1cabebfab1",
   "metadata": {},
   "source": [
    "## Предобработка датасетов"
   ]
  },
  {
   "cell_type": "code",
   "execution_count": 5,
   "id": "ff02bd9e-7e24-4993-9166-7b00c6c520d6",
   "metadata": {},
   "outputs": [
    {
     "name": "stdout",
     "output_type": "stream",
     "text": [
      "<class 'pandas.core.frame.DataFrame'>\n",
      "RangeIndex: 2371635 entries, 0 to 2371634\n",
      "Data columns (total 4 columns):\n",
      " #   Column         Dtype  \n",
      "---  ------         -----  \n",
      " 0   clnt_ID        object \n",
      " 1   timestamp      object \n",
      " 2   gest_Sum       float64\n",
      " 3   gest_Discount  float64\n",
      "dtypes: float64(2), object(2)\n",
      "memory usage: 72.4+ MB\n"
     ]
    }
   ],
   "source": [
    "df.info()"
   ]
  },
  {
   "cell_type": "code",
   "execution_count": 6,
   "id": "44769d36-e3d7-4d70-90bf-eca19c73db1a",
   "metadata": {},
   "outputs": [
    {
     "name": "stdout",
     "output_type": "stream",
     "text": [
      "<class 'pandas.core.frame.DataFrame'>\n",
      "RangeIndex: 255109 entries, 0 to 255108\n",
      "Data columns (total 2 columns):\n",
      " #   Column   Non-Null Count   Dtype \n",
      "---  ------   --------------   ----- \n",
      " 0   clnt_ID  255109 non-null  object\n",
      " 1   target   255109 non-null  int64 \n",
      "dtypes: int64(1), object(1)\n",
      "memory usage: 3.9+ MB\n"
     ]
    }
   ],
   "source": [
    "df_target.info()"
   ]
  },
  {
   "cell_type": "markdown",
   "id": "b579359f-9b1a-4616-aa45-8dff88f146de",
   "metadata": {},
   "source": [
    "* timestamp - object, а не datetime"
   ]
  },
  {
   "cell_type": "markdown",
   "id": "073a832f-489b-41a0-96fa-3ab2843406f9",
   "metadata": {},
   "source": [
    "Изменим тип данных в timestamp на datetime"
   ]
  },
  {
   "cell_type": "code",
   "execution_count": 7,
   "id": "781adff0-2e2b-4b8f-854f-e1117184d370",
   "metadata": {},
   "outputs": [],
   "source": [
    "df['timestamp'] = pd.to_datetime(df['timestamp'], format='%Y-%m-%d %H:%M:%S.%f')"
   ]
  },
  {
   "cell_type": "markdown",
   "id": "16f1c17b-9769-46c2-84c4-05e499f77fca",
   "metadata": {},
   "source": [
    "Добавим столбец с только датой."
   ]
  },
  {
   "cell_type": "code",
   "execution_count": 8,
   "id": "7cb51e48-ecff-40b6-92e5-788f28b9042a",
   "metadata": {},
   "outputs": [],
   "source": [
    "df['date'] = df['timestamp'].dt.date"
   ]
  },
  {
   "cell_type": "markdown",
   "id": "49681f41-5d18-4b77-b609-55b3be247820",
   "metadata": {},
   "source": [
    "Проверим на дубликаты и пропуски."
   ]
  },
  {
   "cell_type": "code",
   "execution_count": 9,
   "id": "36c228d5-a5af-4969-a339-1f4a5618bab1",
   "metadata": {},
   "outputs": [
    {
     "data": {
      "text/plain": [
       "clnt_ID          0\n",
       "timestamp        0\n",
       "gest_Sum         0\n",
       "gest_Discount    0\n",
       "date             0\n",
       "dtype: int64"
      ]
     },
     "execution_count": 9,
     "metadata": {},
     "output_type": "execute_result"
    }
   ],
   "source": [
    "df.isna().sum()"
   ]
  },
  {
   "cell_type": "markdown",
   "id": "c3441290-9e5d-4555-b62a-a45c0f1e90c8",
   "metadata": {},
   "source": [
    "Пропусков нет."
   ]
  },
  {
   "cell_type": "code",
   "execution_count": 10,
   "id": "ea49f18b-7ab0-43b3-a771-9902f773d3c4",
   "metadata": {},
   "outputs": [
    {
     "data": {
      "text/plain": [
       "129"
      ]
     },
     "execution_count": 10,
     "metadata": {},
     "output_type": "execute_result"
    }
   ],
   "source": [
    "df.duplicated().sum()"
   ]
  },
  {
   "cell_type": "markdown",
   "id": "fdc39adf-b1ad-4708-a276-5ea256cc29f9",
   "metadata": {},
   "source": [
    "Есть дубликаты, посмотрим на них."
   ]
  },
  {
   "cell_type": "code",
   "execution_count": 11,
   "id": "2b237787-c308-4d89-869d-8335098aa370",
   "metadata": {
    "tags": []
   },
   "outputs": [
    {
     "data": {
      "text/html": [
       "<div>\n",
       "<style scoped>\n",
       "    .dataframe tbody tr th:only-of-type {\n",
       "        vertical-align: middle;\n",
       "    }\n",
       "\n",
       "    .dataframe tbody tr th {\n",
       "        vertical-align: top;\n",
       "    }\n",
       "\n",
       "    .dataframe thead th {\n",
       "        text-align: right;\n",
       "    }\n",
       "</style>\n",
       "<table border=\"1\" class=\"dataframe\">\n",
       "  <thead>\n",
       "    <tr style=\"text-align: right;\">\n",
       "      <th></th>\n",
       "      <th>clnt_ID</th>\n",
       "      <th>timestamp</th>\n",
       "      <th>gest_Sum</th>\n",
       "      <th>gest_Discount</th>\n",
       "      <th>date</th>\n",
       "    </tr>\n",
       "  </thead>\n",
       "  <tbody>\n",
       "    <tr>\n",
       "      <th>639</th>\n",
       "      <td>1FA367BD-8E07-437E-AB6A-009D53533128</td>\n",
       "      <td>2021-01-02 12:00:00</td>\n",
       "      <td>982.200012</td>\n",
       "      <td>0.000000</td>\n",
       "      <td>2021-01-02</td>\n",
       "    </tr>\n",
       "    <tr>\n",
       "      <th>663</th>\n",
       "      <td>1FA367BD-8E07-437E-AB6A-009D53533128</td>\n",
       "      <td>2021-01-02 12:00:00</td>\n",
       "      <td>982.200012</td>\n",
       "      <td>0.000000</td>\n",
       "      <td>2021-01-02</td>\n",
       "    </tr>\n",
       "    <tr>\n",
       "      <th>85786</th>\n",
       "      <td>3319362D-F6AD-498B-9B53-F59D0418915E</td>\n",
       "      <td>2021-01-14 14:00:00</td>\n",
       "      <td>1189.000000</td>\n",
       "      <td>0.000000</td>\n",
       "      <td>2021-01-14</td>\n",
       "    </tr>\n",
       "    <tr>\n",
       "      <th>85787</th>\n",
       "      <td>3319362D-F6AD-498B-9B53-F59D0418915E</td>\n",
       "      <td>2021-01-14 14:00:00</td>\n",
       "      <td>1189.000000</td>\n",
       "      <td>0.000000</td>\n",
       "      <td>2021-01-14</td>\n",
       "    </tr>\n",
       "    <tr>\n",
       "      <th>133279</th>\n",
       "      <td>A145C6F8-EDCB-47B1-BF5D-B328F6AF97CA</td>\n",
       "      <td>2021-01-20 16:00:00</td>\n",
       "      <td>0.000000</td>\n",
       "      <td>0.000000</td>\n",
       "      <td>2021-01-20</td>\n",
       "    </tr>\n",
       "    <tr>\n",
       "      <th>...</th>\n",
       "      <td>...</td>\n",
       "      <td>...</td>\n",
       "      <td>...</td>\n",
       "      <td>...</td>\n",
       "      <td>...</td>\n",
       "    </tr>\n",
       "    <tr>\n",
       "      <th>2165277</th>\n",
       "      <td>E99EFF35-01BE-49A9-8F61-641F752051E5</td>\n",
       "      <td>2021-11-08 15:00:00</td>\n",
       "      <td>0.000000</td>\n",
       "      <td>0.000000</td>\n",
       "      <td>2021-11-08</td>\n",
       "    </tr>\n",
       "    <tr>\n",
       "      <th>2174627</th>\n",
       "      <td>1A4C0239-A7AB-4188-84DB-8F52FBF6E13C</td>\n",
       "      <td>2021-11-10 11:00:00</td>\n",
       "      <td>282.239990</td>\n",
       "      <td>37.759998</td>\n",
       "      <td>2021-11-10</td>\n",
       "    </tr>\n",
       "    <tr>\n",
       "      <th>2174629</th>\n",
       "      <td>1A4C0239-A7AB-4188-84DB-8F52FBF6E13C</td>\n",
       "      <td>2021-11-10 11:00:00</td>\n",
       "      <td>282.239990</td>\n",
       "      <td>37.759998</td>\n",
       "      <td>2021-11-10</td>\n",
       "    </tr>\n",
       "    <tr>\n",
       "      <th>2198034</th>\n",
       "      <td>C9D86AF9-373C-4531-92A4-8FC752DD5D75</td>\n",
       "      <td>2021-11-14 12:00:00</td>\n",
       "      <td>0.000000</td>\n",
       "      <td>0.000000</td>\n",
       "      <td>2021-11-14</td>\n",
       "    </tr>\n",
       "    <tr>\n",
       "      <th>2198035</th>\n",
       "      <td>C9D86AF9-373C-4531-92A4-8FC752DD5D75</td>\n",
       "      <td>2021-11-14 12:00:00</td>\n",
       "      <td>0.000000</td>\n",
       "      <td>0.000000</td>\n",
       "      <td>2021-11-14</td>\n",
       "    </tr>\n",
       "  </tbody>\n",
       "</table>\n",
       "<p>225 rows × 5 columns</p>\n",
       "</div>"
      ],
      "text/plain": [
       "                                      clnt_ID           timestamp  \\\n",
       "639      1FA367BD-8E07-437E-AB6A-009D53533128 2021-01-02 12:00:00   \n",
       "663      1FA367BD-8E07-437E-AB6A-009D53533128 2021-01-02 12:00:00   \n",
       "85786    3319362D-F6AD-498B-9B53-F59D0418915E 2021-01-14 14:00:00   \n",
       "85787    3319362D-F6AD-498B-9B53-F59D0418915E 2021-01-14 14:00:00   \n",
       "133279   A145C6F8-EDCB-47B1-BF5D-B328F6AF97CA 2021-01-20 16:00:00   \n",
       "...                                       ...                 ...   \n",
       "2165277  E99EFF35-01BE-49A9-8F61-641F752051E5 2021-11-08 15:00:00   \n",
       "2174627  1A4C0239-A7AB-4188-84DB-8F52FBF6E13C 2021-11-10 11:00:00   \n",
       "2174629  1A4C0239-A7AB-4188-84DB-8F52FBF6E13C 2021-11-10 11:00:00   \n",
       "2198034  C9D86AF9-373C-4531-92A4-8FC752DD5D75 2021-11-14 12:00:00   \n",
       "2198035  C9D86AF9-373C-4531-92A4-8FC752DD5D75 2021-11-14 12:00:00   \n",
       "\n",
       "            gest_Sum  gest_Discount        date  \n",
       "639       982.200012       0.000000  2021-01-02  \n",
       "663       982.200012       0.000000  2021-01-02  \n",
       "85786    1189.000000       0.000000  2021-01-14  \n",
       "85787    1189.000000       0.000000  2021-01-14  \n",
       "133279      0.000000       0.000000  2021-01-20  \n",
       "...              ...            ...         ...  \n",
       "2165277     0.000000       0.000000  2021-11-08  \n",
       "2174627   282.239990      37.759998  2021-11-10  \n",
       "2174629   282.239990      37.759998  2021-11-10  \n",
       "2198034     0.000000       0.000000  2021-11-14  \n",
       "2198035     0.000000       0.000000  2021-11-14  \n",
       "\n",
       "[225 rows x 5 columns]"
      ]
     },
     "execution_count": 11,
     "metadata": {},
     "output_type": "execute_result"
    }
   ],
   "source": [
    "df.loc[df.duplicated(keep=False)]"
   ]
  },
  {
   "cell_type": "markdown",
   "id": "2de29057-8b9d-4684-98c0-f2ddaa928b70",
   "metadata": {
    "tags": []
   },
   "source": [
    "Удалим дубликаты."
   ]
  },
  {
   "cell_type": "code",
   "execution_count": 12,
   "id": "007ee042-2d7d-4634-9962-c9bdcd324388",
   "metadata": {},
   "outputs": [],
   "source": [
    "df = df.drop_duplicates()"
   ]
  },
  {
   "cell_type": "code",
   "execution_count": 13,
   "id": "a50807cf-6b8d-4eaa-9a06-5b244e7ceecd",
   "metadata": {},
   "outputs": [
    {
     "data": {
      "text/plain": [
       "0"
      ]
     },
     "execution_count": 13,
     "metadata": {},
     "output_type": "execute_result"
    }
   ],
   "source": [
    "df.duplicated().sum()"
   ]
  },
  {
   "cell_type": "markdown",
   "id": "05de76ac-875f-4136-a9a5-d11b4f27d9a5",
   "metadata": {},
   "source": [
    "Дубликаты удалили."
   ]
  },
  {
   "cell_type": "markdown",
   "id": "739afd3e-619f-4dba-abfb-a91a3679d060",
   "metadata": {},
   "source": [
    "## Нужно создать фичи\n",
    "\n",
    "Для анализа нужно создать фичи"
   ]
  },
  {
   "cell_type": "markdown",
   "id": "c71b220c-f6fe-4a56-889b-e6b2b43eed96",
   "metadata": {},
   "source": [
    "**=====================================================**  \n",
    "**=====================================================**  \n",
    "**=====================================================**  \n",
    "**СТАВИМ НА ПАУЗУ, СНАЧАЛА СДЕЛАТЬ EDA БЕЗ НОВЫХ ФИЧЕЙ, И БЕЙСЛАЙН, ЗАТЕМ УЖЕ НОВЫЕ ФИЧИ И НОВЫЕ МОДЕЛИ**  \n",
    "**=====================================================**  \n",
    "**=====================================================**  \n",
    "**=====================================================**  "
   ]
  },
  {
   "cell_type": "markdown",
   "id": "be61da38-43d3-450b-8ce3-5aaf7ebf5b16",
   "metadata": {},
   "source": [
    "Общая стоимость заказа без скидки = `gest_Sum + gest_Discount`"
   ]
  },
  {
   "cell_type": "code",
   "execution_count": 14,
   "id": "9bbc80bc-bfbe-4671-9b10-aba979e31aff",
   "metadata": {},
   "outputs": [],
   "source": [
    "# df['gest_total'] = df['gest_Sum'] + df['gest_Discount']"
   ]
  },
  {
   "cell_type": "markdown",
   "id": "78d6e01b-2a20-4020-a391-cf42910f9545",
   "metadata": {},
   "source": [
    "**Как создавать сложные фичи?**\n",
    "\n",
    "* У нас есть целиковый датасет\n",
    "* Нужно группировать его по клиентам\n",
    "* Нужно к этим группам применять разные методы, чтобы уже эти фичи создать\n",
    "\n",
    "`df.groupby('cnlt_ID').transform(func)`"
   ]
  },
  {
   "cell_type": "markdown",
   "id": "711692f1-e4dc-44aa-8b61-75b36e2f52e7",
   "metadata": {},
   "source": [
    "**Какие создавать фичи?**\n",
    "* Сколько дней на момент текущей сделки прошло с момента первой сделки\n",
    "* Какой на текущий момент средний чек\n",
    "* Какая разница между среднем чеком и чеком сделки\n",
    "* Сколько сделок произошло на момент текущей сделки\n",
    "* Сколько сделок в месяц в среднем"
   ]
  },
  {
   "cell_type": "markdown",
   "id": "630a3913-a154-4d5e-8ac4-6c96dc2390d3",
   "metadata": {},
   "source": [
    "Сколько дней прошло с момента первой сделки\n",
    "\n",
    "1. Берем min(date)\n",
    "2. Вычитаем из текущей data min(date) (`df['date'] - df['first_buy_date']`)"
   ]
  },
  {
   "cell_type": "code",
   "execution_count": 15,
   "id": "a68f01ea-cc57-4a6a-b3b3-210fa0da07d7",
   "metadata": {},
   "outputs": [],
   "source": [
    "# def first_buy_date(col):\n",
    "# #     print(col.min())\n",
    "#     return col - col.min()\n",
    "# df['first_buy_date_delta'] = df.groupby('clnt_ID')['date'].transform(first_buy_date)\n",
    "# df['first_buy_timestamp_delta'] = df.groupby('clnt_ID')['timestamp'].transform(first_buy_date)"
   ]
  },
  {
   "cell_type": "code",
   "execution_count": 16,
   "id": "36bb87a6-26fb-4da6-b924-d30b0bfc1d72",
   "metadata": {},
   "outputs": [],
   "source": [
    "# df['first_buy_date_delta'].dt.days.astype('int').hist(bins=100)"
   ]
  },
  {
   "cell_type": "code",
   "execution_count": 17,
   "id": "fccf5ddd-b4da-4db1-89da-deff339bc2d4",
   "metadata": {},
   "outputs": [],
   "source": [
    "# df['first_buy_timestamp_delta'].dt.total_seconds().astype('int').hist(bins=100)"
   ]
  },
  {
   "cell_type": "markdown",
   "id": "742a0fe1-0070-40c3-b4a4-d03a57345617",
   "metadata": {},
   "source": [
    "**Какой на текущий момент средний чек**\n",
    "\n",
    "Берем кумулятивную сумму чека и делим на \n",
    "\n",
    "А лучше используем `series.expanding().mean()`\n",
    "`df.groupby('clnt_ID').transform()`\n",
    "\n",
    "При этом нам нужен среднее кол-во денег, которое отдал клиент, и средняя стоимость без учета скидки."
   ]
  },
  {
   "cell_type": "code",
   "execution_count": 18,
   "id": "64b76c6b-ef28-4105-b50a-633f399e0dfe",
   "metadata": {},
   "outputs": [],
   "source": [
    "# def expand_mean(col):\n",
    "#     return col.expanding().mean()\n",
    "# df['clnt_gest_Sum_avg'] = df.groupby('clnt_ID')['gest_Sum'].transform(expand_mean)\n",
    "# df['clnt_gest_total_avg'] = df.groupby('clnt_ID')['gest_total'].transform(expand_mean)"
   ]
  },
  {
   "cell_type": "code",
   "execution_count": 19,
   "id": "f9805abe-9866-4252-861b-7dc67d44bfcf",
   "metadata": {},
   "outputs": [],
   "source": [
    "# df.head()"
   ]
  },
  {
   "cell_type": "code",
   "execution_count": 20,
   "id": "91148ff7-9348-4abe-a846-310259e07208",
   "metadata": {},
   "outputs": [],
   "source": [
    "# df['clnt_gest_Sum_avg'].hist(bins=100)"
   ]
  },
  {
   "cell_type": "markdown",
   "id": "2a2bd924-eb6b-427b-a97e-c5d4c5325241",
   "metadata": {},
   "source": [
    "**Какая разница между среднем чеком и чеком сделки**\n",
    "Считаем для кол-ва денег и для стоимости без учета скидки (пока не ясно надо ли)\n",
    "\n",
    "Берем текущий чек и из него вычитаем средний.\n",
    "Тоже самое без учета скидки.\n",
    "\n",
    "`df['gest_Sum'] - df['clnt_gest_Sum_avg']`\n",
    "`df['gest_total'] - df['clnt_gest_total_avg']`"
   ]
  },
  {
   "cell_type": "code",
   "execution_count": 21,
   "id": "0c8f15c2-8679-4dd3-b572-27b9f205ad6a",
   "metadata": {},
   "outputs": [],
   "source": [
    "# df['gest_Sum_delta_from_avg'] = df['gest_Sum'] - df['clnt_gest_Sum_avg']\n",
    "# df['gest_total_delta_from_avg'] = df['gest_total'] - df['clnt_gest_total_avg']"
   ]
  },
  {
   "cell_type": "code",
   "execution_count": 22,
   "id": "1fdb9f36-6287-403a-97da-7c65c25188c8",
   "metadata": {},
   "outputs": [],
   "source": [
    "# df['gest_total_delta_from_avg'].hist(bins=100)"
   ]
  },
  {
   "cell_type": "markdown",
   "id": "529352ff-cbe9-45e9-b1db-e70011fc3594",
   "metadata": {},
   "source": [
    "**Сколько сделок произошло на момент текущей сделки**\n",
    "series.expanding().count()"
   ]
  },
  {
   "cell_type": "code",
   "execution_count": 23,
   "id": "ebc27545-6703-4c6c-91ab-07ba038ae831",
   "metadata": {},
   "outputs": [],
   "source": [
    "# def expand_count(col):\n",
    "#     return col.expanding().count()\n",
    "\n",
    "# df['clnt_buys_count'] = df.groupby('clnt_ID')['timestamp'].transform(expand_count)"
   ]
  },
  {
   "cell_type": "code",
   "execution_count": 24,
   "id": "d56aca0c-24db-428a-99ba-142eeb1a552f",
   "metadata": {},
   "outputs": [],
   "source": [
    "# df['clnt_buys_count'].describe()"
   ]
  },
  {
   "cell_type": "code",
   "execution_count": 25,
   "id": "8c47b6c3-8503-4629-b6a2-5967426c8c4b",
   "metadata": {},
   "outputs": [],
   "source": [
    "# df['clnt_buys_count'].hist(bins=100)"
   ]
  },
  {
   "cell_type": "markdown",
   "id": "f9e9e93d-2d68-4bcf-b48a-9b05d5cb5fc2",
   "metadata": {},
   "source": [
    "**=====================================================**  \n",
    "**=====================================================**  \n",
    "**=====================================================**  \n",
    "**СТАВИМ НА ПАУЗУ, СНАЧАЛА СДЕЛАТЬ EDA БЕЗ НОВЫХ ФИЧЕЙ, И БЕЙСЛАЙН, ЗАТЕМ УЖЕ НОВЫЕ ФИЧИ И НОВЫЕ МОДЕЛИ**  \n",
    "**=====================================================**  \n",
    "**=====================================================**  \n",
    "**=====================================================**  "
   ]
  },
  {
   "cell_type": "markdown",
   "id": "7d159a75-de7d-4f2f-b748-d40aebe766fe",
   "metadata": {
    "tags": []
   },
   "source": [
    "## EDA"
   ]
  },
  {
   "cell_type": "markdown",
   "id": "b5694768-75ac-453c-977d-c6b6174eb74c",
   "metadata": {},
   "source": [
    "Объединим датасеты для анализа."
   ]
  },
  {
   "cell_type": "code",
   "execution_count": 26,
   "id": "585bca00-579b-4a20-b27e-1088be7879e6",
   "metadata": {},
   "outputs": [
    {
     "name": "stdout",
     "output_type": "stream",
     "text": [
      "<class 'pandas.core.frame.DataFrame'>\n",
      "Int64Index: 2371506 entries, 0 to 2371505\n",
      "Data columns (total 6 columns):\n",
      " #   Column         Dtype         \n",
      "---  ------         -----         \n",
      " 0   clnt_ID        object        \n",
      " 1   timestamp      datetime64[ns]\n",
      " 2   gest_Sum       float64       \n",
      " 3   gest_Discount  float64       \n",
      " 4   date           object        \n",
      " 5   target         int64         \n",
      "dtypes: datetime64[ns](1), float64(2), int64(1), object(2)\n",
      "memory usage: 126.7+ MB\n"
     ]
    },
    {
     "data": {
      "text/html": [
       "<div>\n",
       "<style scoped>\n",
       "    .dataframe tbody tr th:only-of-type {\n",
       "        vertical-align: middle;\n",
       "    }\n",
       "\n",
       "    .dataframe tbody tr th {\n",
       "        vertical-align: top;\n",
       "    }\n",
       "\n",
       "    .dataframe thead th {\n",
       "        text-align: right;\n",
       "    }\n",
       "</style>\n",
       "<table border=\"1\" class=\"dataframe\">\n",
       "  <thead>\n",
       "    <tr style=\"text-align: right;\">\n",
       "      <th></th>\n",
       "      <th>clnt_ID</th>\n",
       "      <th>timestamp</th>\n",
       "      <th>gest_Sum</th>\n",
       "      <th>gest_Discount</th>\n",
       "      <th>date</th>\n",
       "      <th>target</th>\n",
       "    </tr>\n",
       "  </thead>\n",
       "  <tbody>\n",
       "    <tr>\n",
       "      <th>0</th>\n",
       "      <td>193B4268-0B4A-475E-B1D0-FF5515E29D29</td>\n",
       "      <td>2021-01-02 09:09:17.060</td>\n",
       "      <td>900.000000</td>\n",
       "      <td>300.000000</td>\n",
       "      <td>2021-01-02</td>\n",
       "      <td>0</td>\n",
       "    </tr>\n",
       "    <tr>\n",
       "      <th>1</th>\n",
       "      <td>193B4268-0B4A-475E-B1D0-FF5515E29D29</td>\n",
       "      <td>2021-01-07 17:09:04.120</td>\n",
       "      <td>393.700012</td>\n",
       "      <td>131.300003</td>\n",
       "      <td>2021-01-07</td>\n",
       "      <td>0</td>\n",
       "    </tr>\n",
       "    <tr>\n",
       "      <th>2</th>\n",
       "      <td>193B4268-0B4A-475E-B1D0-FF5515E29D29</td>\n",
       "      <td>2021-01-09 11:49:13.163</td>\n",
       "      <td>817.500000</td>\n",
       "      <td>272.500000</td>\n",
       "      <td>2021-01-09</td>\n",
       "      <td>0</td>\n",
       "    </tr>\n",
       "    <tr>\n",
       "      <th>3</th>\n",
       "      <td>193B4268-0B4A-475E-B1D0-FF5515E29D29</td>\n",
       "      <td>2021-01-11 18:38:07.737</td>\n",
       "      <td>337.500000</td>\n",
       "      <td>112.500000</td>\n",
       "      <td>2021-01-11</td>\n",
       "      <td>0</td>\n",
       "    </tr>\n",
       "    <tr>\n",
       "      <th>4</th>\n",
       "      <td>193B4268-0B4A-475E-B1D0-FF5515E29D29</td>\n",
       "      <td>2021-01-12 14:53:53.847</td>\n",
       "      <td>180.000000</td>\n",
       "      <td>60.000000</td>\n",
       "      <td>2021-01-12</td>\n",
       "      <td>0</td>\n",
       "    </tr>\n",
       "  </tbody>\n",
       "</table>\n",
       "</div>"
      ],
      "text/plain": [
       "                                clnt_ID               timestamp    gest_Sum  \\\n",
       "0  193B4268-0B4A-475E-B1D0-FF5515E29D29 2021-01-02 09:09:17.060  900.000000   \n",
       "1  193B4268-0B4A-475E-B1D0-FF5515E29D29 2021-01-07 17:09:04.120  393.700012   \n",
       "2  193B4268-0B4A-475E-B1D0-FF5515E29D29 2021-01-09 11:49:13.163  817.500000   \n",
       "3  193B4268-0B4A-475E-B1D0-FF5515E29D29 2021-01-11 18:38:07.737  337.500000   \n",
       "4  193B4268-0B4A-475E-B1D0-FF5515E29D29 2021-01-12 14:53:53.847  180.000000   \n",
       "\n",
       "   gest_Discount        date  target  \n",
       "0     300.000000  2021-01-02       0  \n",
       "1     131.300003  2021-01-07       0  \n",
       "2     272.500000  2021-01-09       0  \n",
       "3     112.500000  2021-01-11       0  \n",
       "4      60.000000  2021-01-12       0  "
      ]
     },
     "metadata": {},
     "output_type": "display_data"
    },
    {
     "data": {
      "text/plain": [
       "None"
      ]
     },
     "metadata": {},
     "output_type": "display_data"
    },
    {
     "data": {
      "text/plain": [
       "clnt_ID          0\n",
       "timestamp        0\n",
       "gest_Sum         0\n",
       "gest_Discount    0\n",
       "date             0\n",
       "target           0\n",
       "dtype: int64"
      ]
     },
     "metadata": {},
     "output_type": "display_data"
    }
   ],
   "source": [
    "\n",
    "df_eda = df.merge(df_target,on='clnt_ID')\n",
    "display(df_eda.head(),df_eda.info(),df_eda.isna().sum())"
   ]
  },
  {
   "cell_type": "markdown",
   "id": "3c2fbbc7-ad20-4a50-82ba-71da553ac408",
   "metadata": {
    "tags": []
   },
   "source": [
    "Посмотрим кол-во уникальный айдишников."
   ]
  },
  {
   "cell_type": "code",
   "execution_count": 27,
   "id": "c6989c03-0d42-4370-8b06-bf4098cd30cc",
   "metadata": {},
   "outputs": [
    {
     "data": {
      "text/plain": [
       "255109"
      ]
     },
     "metadata": {},
     "output_type": "display_data"
    },
    {
     "data": {
      "text/plain": [
       "255109"
      ]
     },
     "execution_count": 27,
     "metadata": {},
     "output_type": "execute_result"
    }
   ],
   "source": [
    "display(df['clnt_ID'].nunique())\n",
    "df_target['clnt_ID'].nunique()"
   ]
  },
  {
   "cell_type": "markdown",
   "id": "d90128a5-eb95-48e0-aa9e-82b184dd4d3d",
   "metadata": {},
   "source": [
    "255109 клиентов. При этом в датасете с таргетом тоже 255109 записей. Значит все верно."
   ]
  },
  {
   "cell_type": "markdown",
   "id": "f2f46fba-ab60-4111-9298-562dd5dc44aa",
   "metadata": {},
   "source": [
    "Посмотрим сколько из них с флагом."
   ]
  },
  {
   "cell_type": "code",
   "execution_count": 28,
   "id": "79664c33-8ead-4198-bb35-6644de825185",
   "metadata": {},
   "outputs": [
    {
     "data": {
      "text/plain": [
       "0    128857\n",
       "1    126252\n",
       "Name: target, dtype: int64"
      ]
     },
     "execution_count": 28,
     "metadata": {},
     "output_type": "execute_result"
    }
   ],
   "source": [
    "df_target['target'].value_counts()"
   ]
  },
  {
   "cell_type": "markdown",
   "id": "2d1a528a-b5f2-446c-a146-686b8b41993c",
   "metadata": {},
   "source": [
    "Примерно одинаково. Дисбаланса классов нет."
   ]
  },
  {
   "cell_type": "markdown",
   "id": "743e6333-4bc4-4707-b474-06b569d99f32",
   "metadata": {},
   "source": [
    "Проверим, что все правильно смержилось."
   ]
  },
  {
   "cell_type": "code",
   "execution_count": 29,
   "id": "7a7ef701-584e-4692-bf38-74914427580f",
   "metadata": {},
   "outputs": [
    {
     "data": {
      "text/plain": [
       "(128857, 126252)"
      ]
     },
     "execution_count": 29,
     "metadata": {},
     "output_type": "execute_result"
    }
   ],
   "source": [
    "(df_eda.loc[df_eda['target']==0,'clnt_ID'].nunique(),df_eda.loc[df_eda['target']==1,'clnt_ID'].nunique())"
   ]
  },
  {
   "cell_type": "markdown",
   "id": "fe2a4bfd-be89-490d-b68d-5ceb7ceb64e0",
   "metadata": {},
   "source": [
    "Да, кол-во уникальных айдишников в каждом классе осталось прежним."
   ]
  },
  {
   "cell_type": "markdown",
   "id": "b37fd031-ef6a-456f-acbf-cb069d535f87",
   "metadata": {},
   "source": [
    "Посмотрим сколько заказов (строк) приходится на каждый класс."
   ]
  },
  {
   "cell_type": "code",
   "execution_count": 32,
   "id": "63a9f973-cda0-4dba-8110-127c8cc3edf4",
   "metadata": {},
   "outputs": [
    {
     "data": {
      "text/plain": [
       "0    1699701\n",
       "1     671805\n",
       "Name: target, dtype: int64"
      ]
     },
     "metadata": {},
     "output_type": "display_data"
    },
    {
     "data": {
      "image/png": "[encoded data removed]",
      "text/plain": [
       "<Figure size 432x288 with 1 Axes>"
      ]
     },
     "metadata": {
      "needs_background": "light"
     },
     "output_type": "display_data"
    }
   ],
   "source": [
    "display(df_eda['target'].value_counts())\n",
    "sns.countplot(x='target',data=df_eda)\n",
    "plt.show()"
   ]
  },
  {
   "cell_type": "markdown",
   "id": "f3fd93ce-03fe-4549-b94c-74317e78c087",
   "metadata": {},
   "source": [
    "Тут мы видим сразу, что те, кто уходят, значительно меньше раз совершали покупки."
   ]
  },
  {
   "cell_type": "code",
   "execution_count": null,
   "id": "2e9520f2-23e7-43d5-9589-1138c6085455",
   "metadata": {},
   "outputs": [],
   "source": []
  },
  {
   "cell_type": "markdown",
   "id": "d19e3c49-8749-4074-8f84-b354dad68c59",
   "metadata": {},
   "source": [
    "### Задачи EDA\n",
    "\n",
    "Сначала нужно исследовать данные том виде, в котором пришли.\n",
    "Т.е. это даты, сумма чека с учетом скидки, размер скидки\n",
    "\n",
    "Потом можно посравнивать агрегированную информацию каждого клиенту по таргету."
   ]
  },
  {
   "cell_type": "markdown",
   "id": "24bb335a-86a4-41c1-bb67-af4b2baffc94",
   "metadata": {},
   "source": [
    "## Сделаем функцию дескрайб мою"
   ]
  },
  {
   "cell_type": "code",
   "execution_count": 123,
   "id": "e9492e40-4bed-4d38-a239-094ada593f48",
   "metadata": {},
   "outputs": [
    {
     "data": {
      "text/html": [
       "<div>\n",
       "<style scoped>\n",
       "    .dataframe tbody tr th:only-of-type {\n",
       "        vertical-align: middle;\n",
       "    }\n",
       "\n",
       "    .dataframe tbody tr th {\n",
       "        vertical-align: top;\n",
       "    }\n",
       "\n",
       "    .dataframe thead th {\n",
       "        text-align: right;\n",
       "    }\n",
       "</style>\n",
       "<table border=\"1\" class=\"dataframe\">\n",
       "  <thead>\n",
       "    <tr style=\"text-align: right;\">\n",
       "      <th></th>\n",
       "      <th>0</th>\n",
       "    </tr>\n",
       "  </thead>\n",
       "  <tbody>\n",
       "    <tr>\n",
       "      <th>count</th>\n",
       "      <td>128857.000</td>\n",
       "    </tr>\n",
       "    <tr>\n",
       "      <th>mean</th>\n",
       "      <td>13.191</td>\n",
       "    </tr>\n",
       "    <tr>\n",
       "      <th>mode</th>\n",
       "      <td>1.000</td>\n",
       "    </tr>\n",
       "    <tr>\n",
       "      <th>var</th>\n",
       "      <td>959.692</td>\n",
       "    </tr>\n",
       "    <tr>\n",
       "      <th>stddev</th>\n",
       "      <td>30.979</td>\n",
       "    </tr>\n",
       "    <tr>\n",
       "      <th>min</th>\n",
       "      <td>1.000</td>\n",
       "    </tr>\n",
       "    <tr>\n",
       "      <th>25%</th>\n",
       "      <td>1.000</td>\n",
       "    </tr>\n",
       "    <tr>\n",
       "      <th>50%</th>\n",
       "      <td>2.000</td>\n",
       "    </tr>\n",
       "    <tr>\n",
       "      <th>75%</th>\n",
       "      <td>8.000</td>\n",
       "    </tr>\n",
       "    <tr>\n",
       "      <th>max</th>\n",
       "      <td>1314.000</td>\n",
       "    </tr>\n",
       "    <tr>\n",
       "      <th>total_range</th>\n",
       "      <td>1313.000</td>\n",
       "    </tr>\n",
       "    <tr>\n",
       "      <th>interquartile_range</th>\n",
       "      <td>7.000</td>\n",
       "    </tr>\n",
       "    <tr>\n",
       "      <th>outlier_border_left</th>\n",
       "      <td>-9.500</td>\n",
       "    </tr>\n",
       "    <tr>\n",
       "      <th>outlier_border_right</th>\n",
       "      <td>18.500</td>\n",
       "    </tr>\n",
       "    <tr>\n",
       "      <th>outliers_count</th>\n",
       "      <td>23447.000</td>\n",
       "    </tr>\n",
       "    <tr>\n",
       "      <th>outliers_proportion</th>\n",
       "      <td>0.182</td>\n",
       "    </tr>\n",
       "  </tbody>\n",
       "</table>\n",
       "</div>"
      ],
      "text/plain": [
       "                              0\n",
       "count                128857.000\n",
       "mean                     13.191\n",
       "mode                      1.000\n",
       "var                     959.692\n",
       "stddev                   30.979\n",
       "min                       1.000\n",
       "25%                       1.000\n",
       "50%                       2.000\n",
       "75%                       8.000\n",
       "max                    1314.000\n",
       "total_range            1313.000\n",
       "interquartile_range       7.000\n",
       "outlier_border_left      -9.500\n",
       "outlier_border_right     18.500\n",
       "outliers_count        23447.000\n",
       "outliers_proportion       0.182"
      ]
     },
     "execution_count": 123,
     "metadata": {},
     "output_type": "execute_result"
    }
   ],
   "source": [
    "def describe(col):\n",
    "    \"\"\"Функция выводит подробное числовое описание данных, \n",
    "    возвращает Figure,Axis объекты matplotlib.pyplot для гистограммы и ящика с усами.\n",
    "    \"\"\"\n",
    "\n",
    "#     Подсчет количества значений\n",
    "    count_ = col.count()\n",
    "    \n",
    "#     Меры центральной тенденции:\n",
    "#     Среднее\n",
    "    mean = col.mean()\n",
    "#     Медиана\n",
    "    median = col.median()\n",
    "#     Мода\n",
    "    mode = col.mode()\n",
    "\n",
    "#     Меры разброса\n",
    "#     Дисперсия\n",
    "    var = col.var()\n",
    "#     Стандартное отклонение\n",
    "    stddev = col.std()\n",
    "#     Межквартильный размах\n",
    "    quartile_1 = col.quantile(0.25)\n",
    "    quartile_3 = col.quantile(0.75)\n",
    "    iqr = quartile_3 - quartile_1\n",
    "#     Мин, макс, размах\n",
    "    min_ = col.min()\n",
    "    max_ = col.max()\n",
    "    range_ = max_ - min_\n",
    "\n",
    "#     Левая граница ящика с усами\n",
    "    outlier_border_left = quartile_1 - 1.5 * iqr\n",
    "#     Правая граница ящика с усами\n",
    "    outlier_border_right = quartile_3 + 1.5 * iqr\n",
    "    \n",
    "#    Количество выбросов\n",
    "    outliers_mask = (col <= outlier_border_left) | (col >= outlier_border_right)\n",
    "    outliers_count = col.loc[outliers_mask].count()\n",
    "    outliers_proportion = outliers_count / count_\n",
    "    \n",
    "#     Создание и вывод таблицы с числовым описанием данных\n",
    "    describe_ = {\"count\": count_,\n",
    "                 \"mean\": mean,\n",
    "                 \"mode\": mode,\n",
    "                 \"var\": var,\n",
    "                 \"stddev\": stddev,\n",
    "                 \"min\": min_,\n",
    "                 \"25%\": quartile_1,\n",
    "                 \"50%\": median,\n",
    "                 \"75%\": quartile_3,\n",
    "                 \"max\": max_,\n",
    "                 \"total_range\": range_,\n",
    "                 \"interquartile_range\": iqr,\n",
    "                 \"outlier_border_left\": outlier_border_left,\n",
    "                 \"outlier_border_right\": outlier_border_right,\n",
    "                 \"outliers_count\": outliers_count,\n",
    "                 \"outliers_proportion\": outliers_proportion}\n",
    "    describe_ = pd.DataFrame(describe_).transpose()\n",
    "    describe_.columns = [col.name]\n",
    "    return describe_\n",
    "\n",
    "# describe(t_0)"
   ]
  },
  {
   "cell_type": "markdown",
   "id": "d6971f33-5c7f-47bc-93ed-61ea269daef9",
   "metadata": {},
   "source": [
    "### Функция построения двух гистограмм на одной фигуре"
   ]
  },
  {
   "cell_type": "code",
   "execution_count": 135,
   "id": "327cd1e4-3cc6-4ecc-be6a-6ff153a1e96d",
   "metadata": {},
   "outputs": [
    {
     "data": {
      "text/plain": [
       "(<Figure size 720x360 with 1 Axes>,\n",
       " <AxesSubplot:xlabel='Сравнение статистики по категориям', ylabel='Частота'>)"
      ]
     },
     "execution_count": 135,
     "metadata": {},
     "output_type": "execute_result"
    },
    {
     "data": {
      "image/png": "[encoded data removed]",
      "text/plain": [
       "<Figure size 720x360 with 1 Axes>"
      ]
     },
     "metadata": {
      "needs_background": "light"
     },
     "output_type": "display_data"
    }
   ],
   "source": [
    "def multiv_target_hist_normalized(data_0,data_1,bins=1000,xlabel=None,figsize=(10,5)):\n",
    "    \"\"\"\n",
    "    Построение двух полупрозрачных нормализованных гистограмм (с функцией плотности) на одной фигуре.\n",
    "    Каждая гистограмма это подгруппа признака по таргету.\n",
    "    \n",
    "    \"\"\"\n",
    "    \n",
    "#     canceled = data_train.loc[df['is_canceled'] == 1, column].sort_values()\n",
    "#     not_canceled = data_train.loc[df['is_canceled'] == 0, column].sort_values()\n",
    "    \n",
    "    fig,ax = plt.subplots(figsize=figsize)\n",
    "    \n",
    "#     if bins == False:\n",
    "#         bins = df[column].nunique()\n",
    "        \n",
    "    ax.hist(data_0,bins=bins,alpha=0.5,label=['target=0'])\n",
    "    ax.hist(data_1,bins=bins,alpha=0.5,label=['target=1'])\n",
    "    ax.set_ylabel('Частота')\n",
    "    if xlabel == None:\n",
    "        ax.set_xlabel(\"Сравнение статистики по категориям\")\n",
    "    else:\n",
    "        ax.set_xlabel(xlabel)\n",
    "    ax.legend()\n",
    "    return fig,ax\n",
    "\n",
    "multiv_target_hist_normalized(t_0,t_1,bins=[1,2,3,10,100,200,500,1000,10000])\n",
    "# plt.xlim(0,200)"
   ]
  },
  {
   "cell_type": "code",
   "execution_count": null,
   "id": "1ef7fc8a-6fcd-4f8f-b0f1-fcbb2d663ee9",
   "metadata": {},
   "outputs": [],
   "source": []
  },
  {
   "cell_type": "code",
   "execution_count": 119,
   "id": "1ad60fb1-d126-4f4c-8c36-e81957864df5",
   "metadata": {},
   "outputs": [],
   "source": []
  },
  {
   "cell_type": "markdown",
   "id": "4ab5dc5f-a2d7-45c9-a343-588e104b2659",
   "metadata": {},
   "source": [
    "### Исследуем данные как есть"
   ]
  },
  {
   "cell_type": "markdown",
   "id": "2cfab807-1b3e-47b3-8916-a1bd714c3443",
   "metadata": {},
   "source": [
    "**timestamp и date**"
   ]
  },
  {
   "cell_type": "code",
   "execution_count": 69,
   "id": "9141d560-64e3-4d4f-bd06-92d997fb686a",
   "metadata": {},
   "outputs": [
    {
     "data": {
      "text/plain": [
       "count                          2371506\n",
       "mean        2021-06-09 07:33:53.499232\n",
       "min         2021-01-02 09:09:17.060000\n",
       "25%      2021-03-15 21:59:01.061499904\n",
       "50%         2021-05-27 16:38:57.212000\n",
       "75%      2021-09-01 18:12:35.844999936\n",
       "max         2021-12-15 22:45:31.087000\n",
       "Name: timestamp, dtype: object"
      ]
     },
     "execution_count": 69,
     "metadata": {},
     "output_type": "execute_result"
    }
   ],
   "source": [
    "df['timestamp'].describe(datetime_is_numeric=True)"
   ]
  },
  {
   "cell_type": "code",
   "execution_count": 76,
   "id": "0fc30060-16a8-4a6f-953a-8d2ebc4b076a",
   "metadata": {},
   "outputs": [
    {
     "data": {
      "text/html": [
       "<div>\n",
       "<style scoped>\n",
       "    .dataframe tbody tr th:only-of-type {\n",
       "        vertical-align: middle;\n",
       "    }\n",
       "\n",
       "    .dataframe tbody tr th {\n",
       "        vertical-align: top;\n",
       "    }\n",
       "\n",
       "    .dataframe thead th {\n",
       "        text-align: right;\n",
       "    }\n",
       "</style>\n",
       "<table border=\"1\" class=\"dataframe\">\n",
       "  <thead>\n",
       "    <tr style=\"text-align: right;\">\n",
       "      <th></th>\n",
       "      <th>clnt_ID</th>\n",
       "      <th>timestamp</th>\n",
       "      <th>gest_Sum</th>\n",
       "      <th>gest_Discount</th>\n",
       "      <th>date</th>\n",
       "    </tr>\n",
       "  </thead>\n",
       "  <tbody>\n",
       "    <tr>\n",
       "      <th>257</th>\n",
       "      <td>A3D0C62A-C36E-4282-8CAE-F7182A344D94</td>\n",
       "      <td>2021-01-02 11:00:00</td>\n",
       "      <td>1630.000000</td>\n",
       "      <td>0.000000</td>\n",
       "      <td>2021-01-02</td>\n",
       "    </tr>\n",
       "    <tr>\n",
       "      <th>258</th>\n",
       "      <td>C109CE2C-595E-4626-8556-E1AA0C62C6C4</td>\n",
       "      <td>2021-01-02 11:00:00</td>\n",
       "      <td>857.520020</td>\n",
       "      <td>0.000000</td>\n",
       "      <td>2021-01-02</td>\n",
       "    </tr>\n",
       "    <tr>\n",
       "      <th>259</th>\n",
       "      <td>B7AD30FD-46CE-4FDE-9A4D-7B92D7C768B7</td>\n",
       "      <td>2021-01-02 11:00:00</td>\n",
       "      <td>529.000000</td>\n",
       "      <td>0.000000</td>\n",
       "      <td>2021-01-02</td>\n",
       "    </tr>\n",
       "    <tr>\n",
       "      <th>260</th>\n",
       "      <td>650265AE-9718-442C-9658-FF08120951AE</td>\n",
       "      <td>2021-01-02 11:00:00</td>\n",
       "      <td>1189.000000</td>\n",
       "      <td>0.000000</td>\n",
       "      <td>2021-01-02</td>\n",
       "    </tr>\n",
       "    <tr>\n",
       "      <th>261</th>\n",
       "      <td>B6C81087-749F-43E0-9C52-D6575F9042D6</td>\n",
       "      <td>2021-01-02 11:00:00</td>\n",
       "      <td>1658.880005</td>\n",
       "      <td>0.000000</td>\n",
       "      <td>2021-01-02</td>\n",
       "    </tr>\n",
       "    <tr>\n",
       "      <th>...</th>\n",
       "      <td>...</td>\n",
       "      <td>...</td>\n",
       "      <td>...</td>\n",
       "      <td>...</td>\n",
       "      <td>...</td>\n",
       "    </tr>\n",
       "    <tr>\n",
       "      <th>2371314</th>\n",
       "      <td>1DFCF34F-F1ED-4B15-BCD2-11FC4BBC710E</td>\n",
       "      <td>2021-12-15 20:30:00</td>\n",
       "      <td>241.500000</td>\n",
       "      <td>47.500000</td>\n",
       "      <td>2021-12-15</td>\n",
       "    </tr>\n",
       "    <tr>\n",
       "      <th>2371364</th>\n",
       "      <td>C37F5569-08CE-4599-AD90-BF593883FC98</td>\n",
       "      <td>2021-12-15 20:40:00</td>\n",
       "      <td>559.000000</td>\n",
       "      <td>0.000000</td>\n",
       "      <td>2021-12-15</td>\n",
       "    </tr>\n",
       "    <tr>\n",
       "      <th>2371365</th>\n",
       "      <td>A9FBBF96-6B09-48E0-8C55-E3E754414599</td>\n",
       "      <td>2021-12-15 20:40:00</td>\n",
       "      <td>1123.199951</td>\n",
       "      <td>46.799999</td>\n",
       "      <td>2021-12-15</td>\n",
       "    </tr>\n",
       "    <tr>\n",
       "      <th>2371527</th>\n",
       "      <td>5C5D0F65-AC7E-44BA-807D-9A97F01B8CC6</td>\n",
       "      <td>2021-12-15 21:25:00</td>\n",
       "      <td>215.250000</td>\n",
       "      <td>38.750000</td>\n",
       "      <td>2021-12-15</td>\n",
       "    </tr>\n",
       "    <tr>\n",
       "      <th>2371528</th>\n",
       "      <td>5C5D0F65-AC7E-44BA-807D-9A97F01B8CC6</td>\n",
       "      <td>2021-12-15 21:25:00</td>\n",
       "      <td>264.000000</td>\n",
       "      <td>55.000000</td>\n",
       "      <td>2021-12-15</td>\n",
       "    </tr>\n",
       "  </tbody>\n",
       "</table>\n",
       "<p>63341 rows × 5 columns</p>\n",
       "</div>"
      ],
      "text/plain": [
       "                                      clnt_ID           timestamp  \\\n",
       "257      A3D0C62A-C36E-4282-8CAE-F7182A344D94 2021-01-02 11:00:00   \n",
       "258      C109CE2C-595E-4626-8556-E1AA0C62C6C4 2021-01-02 11:00:00   \n",
       "259      B7AD30FD-46CE-4FDE-9A4D-7B92D7C768B7 2021-01-02 11:00:00   \n",
       "260      650265AE-9718-442C-9658-FF08120951AE 2021-01-02 11:00:00   \n",
       "261      B6C81087-749F-43E0-9C52-D6575F9042D6 2021-01-02 11:00:00   \n",
       "...                                       ...                 ...   \n",
       "2371314  1DFCF34F-F1ED-4B15-BCD2-11FC4BBC710E 2021-12-15 20:30:00   \n",
       "2371364  C37F5569-08CE-4599-AD90-BF593883FC98 2021-12-15 20:40:00   \n",
       "2371365  A9FBBF96-6B09-48E0-8C55-E3E754414599 2021-12-15 20:40:00   \n",
       "2371527  5C5D0F65-AC7E-44BA-807D-9A97F01B8CC6 2021-12-15 21:25:00   \n",
       "2371528  5C5D0F65-AC7E-44BA-807D-9A97F01B8CC6 2021-12-15 21:25:00   \n",
       "\n",
       "            gest_Sum  gest_Discount        date  \n",
       "257      1630.000000       0.000000  2021-01-02  \n",
       "258       857.520020       0.000000  2021-01-02  \n",
       "259       529.000000       0.000000  2021-01-02  \n",
       "260      1189.000000       0.000000  2021-01-02  \n",
       "261      1658.880005       0.000000  2021-01-02  \n",
       "...              ...            ...         ...  \n",
       "2371314   241.500000      47.500000  2021-12-15  \n",
       "2371364   559.000000       0.000000  2021-12-15  \n",
       "2371365  1123.199951      46.799999  2021-12-15  \n",
       "2371527   215.250000      38.750000  2021-12-15  \n",
       "2371528   264.000000      55.000000  2021-12-15  \n",
       "\n",
       "[63341 rows x 5 columns]"
      ]
     },
     "execution_count": 76,
     "metadata": {},
     "output_type": "execute_result"
    }
   ],
   "source": [
    "df.loc[df['timestamp'].duplicated(keep=False)]"
   ]
  },
  {
   "cell_type": "code",
   "execution_count": 67,
   "id": "55607d99-1f84-4fcd-b903-ed3a854aa93b",
   "metadata": {},
   "outputs": [
    {
     "data": {
      "text/plain": [
       "<AxesSubplot:>"
      ]
     },
     "execution_count": 67,
     "metadata": {},
     "output_type": "execute_result"
    },
    {
     "data": {
      "image/png": "[encoded data removed]",
      "text/plain": [
       "<Figure size 432x288 with 1 Axes>"
      ]
     },
     "metadata": {
      "needs_background": "light"
     },
     "output_type": "display_data"
    }
   ],
   "source": [
    "df['timestamp'].hist(bins=365)"
   ]
  },
  {
   "cell_type": "code",
   "execution_count": 78,
   "id": "51cb66c8-b96d-4c7a-8d17-16e1622eea5f",
   "metadata": {},
   "outputs": [
    {
     "data": {
      "text/plain": [
       "count        2371506\n",
       "unique           348\n",
       "top       2021-04-30\n",
       "freq           10823\n",
       "Name: date, dtype: object"
      ]
     },
     "execution_count": 78,
     "metadata": {},
     "output_type": "execute_result"
    }
   ],
   "source": [
    "df['date'].describe()"
   ]
  },
  {
   "cell_type": "code",
   "execution_count": 77,
   "id": "e7960a1e-c849-4bfe-b312-b44ed5357878",
   "metadata": {},
   "outputs": [
    {
     "data": {
      "text/plain": [
       "<AxesSubplot:>"
      ]
     },
     "execution_count": 77,
     "metadata": {},
     "output_type": "execute_result"
    },
    {
     "data": {
      "image/png": "[encoded data removed]",
      "text/plain": [
       "<Figure size 432x288 with 1 Axes>"
      ]
     },
     "metadata": {
      "needs_background": "light"
     },
     "output_type": "display_data"
    }
   ],
   "source": [
    "df['date'].hist(bins=365)"
   ]
  },
  {
   "cell_type": "markdown",
   "id": "12f53ce1-9b2b-4ec6-9200-d80c3f632104",
   "metadata": {},
   "source": [
    "* Да ничего неожиданного. Что я тут вообще ожидал найти?"
   ]
  },
  {
   "cell_type": "markdown",
   "id": "6184d120-d0d5-46d7-8154-7a690b964835",
   "metadata": {},
   "source": [
    "**gest_Sum**"
   ]
  },
  {
   "cell_type": "code",
   "execution_count": 86,
   "id": "2216c4de-a6d3-4394-bc18-efca14816de6",
   "metadata": {},
   "outputs": [
    {
     "data": {
      "text/plain": [
       "count    2.371506e+06\n",
       "mean     4.526220e+02\n",
       "std      4.147803e+02\n",
       "min      0.000000e+00\n",
       "25%      1.953000e+02\n",
       "50%      3.408000e+02\n",
       "75%      5.782000e+02\n",
       "max      2.350000e+04\n",
       "Name: gest_Sum, dtype: float64"
      ]
     },
     "execution_count": 86,
     "metadata": {},
     "output_type": "execute_result"
    }
   ],
   "source": [
    "# fig,ax = simple_uni_EDA(df,\"gest_Sum\")\n",
    "# ax.set_xlabel(\"Сумма чека за вычетом скидки\")\n",
    "# ax.set_title(\"Гистограмма и ящик с усами суммы чека за вычетом скидки\")\n",
    "# ax.set_xlim(0,5000)\n",
    "# plt.show()\n",
    "# **ПРОБЛЕМА С ФУНКЦИЕЙ**\n",
    "# Мне тут не нравится, что нельзя изменять кол-во бинов.\n",
    "# **ПРОБЛЕМА С ФУНКЦИЕЙ**\n",
    "\n",
    "df['gest_Sum'].describe()"
   ]
  },
  {
   "cell_type": "markdown",
   "id": "df4a2a06-8a53-40d7-8773-3222379c9d2f",
   "metadata": {},
   "source": []
  },
  {
   "cell_type": "markdown",
   "id": "d60370ea-e81b-49dc-8d62-50f847be6b82",
   "metadata": {},
   "source": [
    "Есть 0. Что это значит?"
   ]
  },
  {
   "cell_type": "markdown",
   "id": "6b006021-f916-41ec-8382-8e66cc08f196",
   "metadata": {},
   "source": [
    "Посмотрим на эти строки, где `'gest_Sum' == 0`"
   ]
  },
  {
   "cell_type": "code",
   "execution_count": 81,
   "id": "17c4dc93-855c-4c72-8113-940d7f56b159",
   "metadata": {},
   "outputs": [
    {
     "data": {
      "text/html": [
       "<div>\n",
       "<style scoped>\n",
       "    .dataframe tbody tr th:only-of-type {\n",
       "        vertical-align: middle;\n",
       "    }\n",
       "\n",
       "    .dataframe tbody tr th {\n",
       "        vertical-align: top;\n",
       "    }\n",
       "\n",
       "    .dataframe thead th {\n",
       "        text-align: right;\n",
       "    }\n",
       "</style>\n",
       "<table border=\"1\" class=\"dataframe\">\n",
       "  <thead>\n",
       "    <tr style=\"text-align: right;\">\n",
       "      <th></th>\n",
       "      <th>gest_Sum</th>\n",
       "      <th>gest_Discount</th>\n",
       "    </tr>\n",
       "  </thead>\n",
       "  <tbody>\n",
       "    <tr>\n",
       "      <th>count</th>\n",
       "      <td>3702.0</td>\n",
       "      <td>3702.0</td>\n",
       "    </tr>\n",
       "    <tr>\n",
       "      <th>mean</th>\n",
       "      <td>0.0</td>\n",
       "      <td>0.0</td>\n",
       "    </tr>\n",
       "    <tr>\n",
       "      <th>std</th>\n",
       "      <td>0.0</td>\n",
       "      <td>0.0</td>\n",
       "    </tr>\n",
       "    <tr>\n",
       "      <th>min</th>\n",
       "      <td>0.0</td>\n",
       "      <td>0.0</td>\n",
       "    </tr>\n",
       "    <tr>\n",
       "      <th>25%</th>\n",
       "      <td>0.0</td>\n",
       "      <td>0.0</td>\n",
       "    </tr>\n",
       "    <tr>\n",
       "      <th>50%</th>\n",
       "      <td>0.0</td>\n",
       "      <td>0.0</td>\n",
       "    </tr>\n",
       "    <tr>\n",
       "      <th>75%</th>\n",
       "      <td>0.0</td>\n",
       "      <td>0.0</td>\n",
       "    </tr>\n",
       "    <tr>\n",
       "      <th>max</th>\n",
       "      <td>0.0</td>\n",
       "      <td>0.0</td>\n",
       "    </tr>\n",
       "  </tbody>\n",
       "</table>\n",
       "</div>"
      ],
      "text/plain": [
       "       gest_Sum  gest_Discount\n",
       "count    3702.0         3702.0\n",
       "mean        0.0            0.0\n",
       "std         0.0            0.0\n",
       "min         0.0            0.0\n",
       "25%         0.0            0.0\n",
       "50%         0.0            0.0\n",
       "75%         0.0            0.0\n",
       "max         0.0            0.0"
      ]
     },
     "execution_count": 81,
     "metadata": {},
     "output_type": "execute_result"
    }
   ],
   "source": [
    "df.loc[df['gest_Sum']==0].describe()"
   ]
  },
  {
   "cell_type": "markdown",
   "id": "1d1d1577-876a-43a4-a25f-f169740f72ad",
   "metadata": {},
   "source": [
    "* Возможно это отмена заказа?"
   ]
  },
  {
   "cell_type": "code",
   "execution_count": 92,
   "id": "e5a90559-20b8-4342-b8f0-7dcaff77db8b",
   "metadata": {},
   "outputs": [
    {
     "data": {
      "image/png": "[encoded data removed]",
      "text/plain": [
       "<Figure size 432x288 with 1 Axes>"
      ]
     },
     "metadata": {
      "needs_background": "light"
     },
     "output_type": "display_data"
    }
   ],
   "source": [
    "df['gest_Sum'].hist(bins=10000)\n",
    "plt.xlim(0,200)\n",
    "plt.show()"
   ]
  },
  {
   "cell_type": "markdown",
   "id": "e62ad9a3-4745-4ee2-aa37-0de396d92779",
   "metadata": {},
   "source": [
    "Есть какой-то странный пик в районе от 75 до 100 руб. Это покупка кофе?"
   ]
  },
  {
   "cell_type": "code",
   "execution_count": 95,
   "id": "9514cca8-e720-4cb7-8b7a-1f5beb078990",
   "metadata": {},
   "outputs": [
    {
     "data": {
      "text/html": [
       "<div>\n",
       "<style scoped>\n",
       "    .dataframe tbody tr th:only-of-type {\n",
       "        vertical-align: middle;\n",
       "    }\n",
       "\n",
       "    .dataframe tbody tr th {\n",
       "        vertical-align: top;\n",
       "    }\n",
       "\n",
       "    .dataframe thead th {\n",
       "        text-align: right;\n",
       "    }\n",
       "</style>\n",
       "<table border=\"1\" class=\"dataframe\">\n",
       "  <thead>\n",
       "    <tr style=\"text-align: right;\">\n",
       "      <th></th>\n",
       "      <th>gest_Sum</th>\n",
       "      <th>gest_Discount</th>\n",
       "    </tr>\n",
       "  </thead>\n",
       "  <tbody>\n",
       "    <tr>\n",
       "      <th>count</th>\n",
       "      <td>146631.000000</td>\n",
       "      <td>146631.000000</td>\n",
       "    </tr>\n",
       "    <tr>\n",
       "      <th>mean</th>\n",
       "      <td>87.308680</td>\n",
       "      <td>17.606549</td>\n",
       "    </tr>\n",
       "    <tr>\n",
       "      <th>std</th>\n",
       "      <td>5.731060</td>\n",
       "      <td>82.426449</td>\n",
       "    </tr>\n",
       "    <tr>\n",
       "      <th>min</th>\n",
       "      <td>75.099998</td>\n",
       "      <td>0.000000</td>\n",
       "    </tr>\n",
       "    <tr>\n",
       "      <th>25%</th>\n",
       "      <td>83.199997</td>\n",
       "      <td>0.000000</td>\n",
       "    </tr>\n",
       "    <tr>\n",
       "      <th>50%</th>\n",
       "      <td>86.400002</td>\n",
       "      <td>2.800000</td>\n",
       "    </tr>\n",
       "    <tr>\n",
       "      <th>75%</th>\n",
       "      <td>92.000000</td>\n",
       "      <td>5.600000</td>\n",
       "    </tr>\n",
       "    <tr>\n",
       "      <th>max</th>\n",
       "      <td>99.900002</td>\n",
       "      <td>1545.640015</td>\n",
       "    </tr>\n",
       "  </tbody>\n",
       "</table>\n",
       "</div>"
      ],
      "text/plain": [
       "            gest_Sum  gest_Discount\n",
       "count  146631.000000  146631.000000\n",
       "mean       87.308680      17.606549\n",
       "std         5.731060      82.426449\n",
       "min        75.099998       0.000000\n",
       "25%        83.199997       0.000000\n",
       "50%        86.400002       2.800000\n",
       "75%        92.000000       5.600000\n",
       "max        99.900002    1545.640015"
      ]
     },
     "execution_count": 95,
     "metadata": {},
     "output_type": "execute_result"
    }
   ],
   "source": [
    "df.loc[(df['gest_Sum'] > 75)&(df['gest_Sum'] < 100)].describe()"
   ]
  },
  {
   "cell_type": "markdown",
   "id": "80ce6a79-6c9a-4632-a57e-ca9aacb7dcd8",
   "metadata": {},
   "source": [
    "Сложно сказать что-то конкретное."
   ]
  },
  {
   "cell_type": "code",
   "execution_count": 96,
   "id": "6cef1187-aad2-4d9a-98f0-04ba477b5c1c",
   "metadata": {},
   "outputs": [
    {
     "data": {
      "image/png": "[encoded data removed]",
      "text/plain": [
       "<Figure size 432x288 with 1 Axes>"
      ]
     },
     "metadata": {
      "needs_background": "light"
     },
     "output_type": "display_data"
    }
   ],
   "source": [
    "df['gest_Sum'].hist(bins=10000)\n",
    "plt.xlim(0,1500)\n",
    "plt.show()"
   ]
  },
  {
   "cell_type": "markdown",
   "id": "c8ca53de-5fab-4d2e-9a91-29a5997228f9",
   "metadata": {},
   "source": [
    "Что тут еще добавить? Я не знаю."
   ]
  },
  {
   "cell_type": "markdown",
   "id": "617720f6-38a6-474d-8188-6ca774f60792",
   "metadata": {},
   "source": [
    "**gest_Discount**"
   ]
  },
  {
   "cell_type": "code",
   "execution_count": 136,
   "id": "4f4915ad-0393-4f74-97ed-8068084b9244",
   "metadata": {},
   "outputs": [
    {
     "data": {
      "text/plain": [
       "count   2371506.000\n",
       "mean         41.469\n",
       "std          84.531\n",
       "min           0.000\n",
       "25%           3.100\n",
       "50%          14.000\n",
       "75%          44.700\n",
       "max        3957.500\n",
       "Name: gest_Discount, dtype: float64"
      ]
     },
     "execution_count": 136,
     "metadata": {},
     "output_type": "execute_result"
    }
   ],
   "source": [
    "df['gest_Discount'].describe()"
   ]
  },
  {
   "cell_type": "code",
   "execution_count": 102,
   "id": "e49545a1-b246-40ed-a0ee-cd336b20d6d5",
   "metadata": {},
   "outputs": [
    {
     "data": {
      "text/plain": [
       "(0.0, 100.0)"
      ]
     },
     "execution_count": 102,
     "metadata": {},
     "output_type": "execute_result"
    },
    {
     "data": {
      "image/png": "[encoded data removed]",
      "text/plain": [
       "<Figure size 432x288 with 1 Axes>"
      ]
     },
     "metadata": {
      "needs_background": "light"
     },
     "output_type": "display_data"
    }
   ],
   "source": [
    "df['gest_Discount'].hist(bins=1000)\n",
    "plt.xlim(0,100)"
   ]
  },
  {
   "cell_type": "markdown",
   "id": "de0f4ad8-1ef4-42cd-b119-258ff4c77797",
   "metadata": {},
   "source": [
    "Ну как бы и чо? Я не понимаю что я тут должен найти, кроме того что это не нормальное распределение."
   ]
  },
  {
   "cell_type": "markdown",
   "id": "dfaf5ad2-dbb4-4485-b499-a5ada76ad0ec",
   "metadata": {},
   "source": [
    "### Исследуем агрегированные данные"
   ]
  },
  {
   "cell_type": "markdown",
   "id": "84ca8c37-0bb4-47eb-8fb9-1c4f200e88c9",
   "metadata": {},
   "source": [
    "У нас есть кол-во сделок; мин, макс, среднее, медиана, мода, стандартное отклонение `'gest_Sum'`, `'gest_Discount'`. И нам надо их сравнить по таргету, чтобы выяснить как эти статистики отличаются по категориям."
   ]
  },
  {
   "cell_type": "markdown",
   "id": "fe3d50c4-609a-4106-8874-a2acd0ae330d",
   "metadata": {},
   "source": [
    "Напишем функцию, которая будет подготавливать такие датасеты со статистиками по категориям."
   ]
  },
  {
   "cell_type": "code",
   "execution_count": 108,
   "id": "dd261da0-53cd-4b45-b7ed-c54bca35f1bb",
   "metadata": {},
   "outputs": [],
   "source": [
    "def cat_split(value,aggfunc):\n",
    "    pivot_table = df_eda.pivot_table(index='clnt_ID', values=value, aggfunc=aggfunc,columns='target')\n",
    "    target_0 = pivot_table[0].dropna()\n",
    "    target_1 = pivot_table[1].dropna()\n",
    "    return target_0, target_1\n",
    "\n",
    "# cat_split('date','count')"
   ]
  },
  {
   "cell_type": "code",
   "execution_count": 125,
   "id": "5fcec452-7853-4427-971c-5503b7d68d40",
   "metadata": {},
   "outputs": [
    {
     "data": {
      "text/html": [
       "<div>\n",
       "<style scoped>\n",
       "    .dataframe tbody tr th:only-of-type {\n",
       "        vertical-align: middle;\n",
       "    }\n",
       "\n",
       "    .dataframe tbody tr th {\n",
       "        vertical-align: top;\n",
       "    }\n",
       "\n",
       "    .dataframe thead th {\n",
       "        text-align: right;\n",
       "    }\n",
       "</style>\n",
       "<table border=\"1\" class=\"dataframe\">\n",
       "  <thead>\n",
       "    <tr style=\"text-align: right;\">\n",
       "      <th></th>\n",
       "      <th>0</th>\n",
       "      <th>1</th>\n",
       "    </tr>\n",
       "  </thead>\n",
       "  <tbody>\n",
       "    <tr>\n",
       "      <th>count</th>\n",
       "      <td>128857.000</td>\n",
       "      <td>126252.000</td>\n",
       "    </tr>\n",
       "    <tr>\n",
       "      <th>mean</th>\n",
       "      <td>13.191</td>\n",
       "      <td>5.321</td>\n",
       "    </tr>\n",
       "    <tr>\n",
       "      <th>mode</th>\n",
       "      <td>1.000</td>\n",
       "      <td>1.000</td>\n",
       "    </tr>\n",
       "    <tr>\n",
       "      <th>var</th>\n",
       "      <td>959.692</td>\n",
       "      <td>72.673</td>\n",
       "    </tr>\n",
       "    <tr>\n",
       "      <th>stddev</th>\n",
       "      <td>30.979</td>\n",
       "      <td>8.525</td>\n",
       "    </tr>\n",
       "    <tr>\n",
       "      <th>min</th>\n",
       "      <td>1.000</td>\n",
       "      <td>1.000</td>\n",
       "    </tr>\n",
       "    <tr>\n",
       "      <th>25%</th>\n",
       "      <td>1.000</td>\n",
       "      <td>1.000</td>\n",
       "    </tr>\n",
       "    <tr>\n",
       "      <th>50%</th>\n",
       "      <td>2.000</td>\n",
       "      <td>2.000</td>\n",
       "    </tr>\n",
       "    <tr>\n",
       "      <th>75%</th>\n",
       "      <td>8.000</td>\n",
       "      <td>6.000</td>\n",
       "    </tr>\n",
       "    <tr>\n",
       "      <th>max</th>\n",
       "      <td>1314.000</td>\n",
       "      <td>400.000</td>\n",
       "    </tr>\n",
       "    <tr>\n",
       "      <th>total_range</th>\n",
       "      <td>1313.000</td>\n",
       "      <td>399.000</td>\n",
       "    </tr>\n",
       "    <tr>\n",
       "      <th>interquartile_range</th>\n",
       "      <td>7.000</td>\n",
       "      <td>5.000</td>\n",
       "    </tr>\n",
       "    <tr>\n",
       "      <th>outlier_border_left</th>\n",
       "      <td>-9.500</td>\n",
       "      <td>-6.500</td>\n",
       "    </tr>\n",
       "    <tr>\n",
       "      <th>outlier_border_right</th>\n",
       "      <td>18.500</td>\n",
       "      <td>13.500</td>\n",
       "    </tr>\n",
       "    <tr>\n",
       "      <th>outliers_count</th>\n",
       "      <td>23447.000</td>\n",
       "      <td>12140.000</td>\n",
       "    </tr>\n",
       "    <tr>\n",
       "      <th>outliers_proportion</th>\n",
       "      <td>0.182</td>\n",
       "      <td>0.096</td>\n",
       "    </tr>\n",
       "  </tbody>\n",
       "</table>\n",
       "</div>"
      ],
      "text/plain": [
       "                              0          1\n",
       "count                128857.000 126252.000\n",
       "mean                     13.191      5.321\n",
       "mode                      1.000      1.000\n",
       "var                     959.692     72.673\n",
       "stddev                   30.979      8.525\n",
       "min                       1.000      1.000\n",
       "25%                       1.000      1.000\n",
       "50%                       2.000      2.000\n",
       "75%                       8.000      6.000\n",
       "max                    1314.000    400.000\n",
       "total_range            1313.000    399.000\n",
       "interquartile_range       7.000      5.000\n",
       "outlier_border_left      -9.500     -6.500\n",
       "outlier_border_right     18.500     13.500\n",
       "outliers_count        23447.000  12140.000\n",
       "outliers_proportion       0.182      0.096"
      ]
     },
     "execution_count": 125,
     "metadata": {},
     "output_type": "execute_result"
    }
   ],
   "source": [
    "t_0, t_1 = cat_split('date','count')\n",
    "describe(t_0).join(describe(t_1))"
   ]
  },
  {
   "cell_type": "code",
   "execution_count": 124,
   "id": "c67d0362-34de-43c6-8bd0-cdbb9b41b7d9",
   "metadata": {},
   "outputs": [
    {
     "data": {
      "text/html": [
       "<div>\n",
       "<style scoped>\n",
       "    .dataframe tbody tr th:only-of-type {\n",
       "        vertical-align: middle;\n",
       "    }\n",
       "\n",
       "    .dataframe tbody tr th {\n",
       "        vertical-align: top;\n",
       "    }\n",
       "\n",
       "    .dataframe thead th {\n",
       "        text-align: right;\n",
       "    }\n",
       "</style>\n",
       "<table border=\"1\" class=\"dataframe\">\n",
       "  <thead>\n",
       "    <tr style=\"text-align: right;\">\n",
       "      <th></th>\n",
       "      <th>0</th>\n",
       "      <th>1</th>\n",
       "    </tr>\n",
       "  </thead>\n",
       "  <tbody>\n",
       "    <tr>\n",
       "      <th>count</th>\n",
       "      <td>128857.000</td>\n",
       "      <td>126252.000</td>\n",
       "    </tr>\n",
       "    <tr>\n",
       "      <th>mean</th>\n",
       "      <td>13.191</td>\n",
       "      <td>5.321</td>\n",
       "    </tr>\n",
       "    <tr>\n",
       "      <th>mode</th>\n",
       "      <td>1.000</td>\n",
       "      <td>1.000</td>\n",
       "    </tr>\n",
       "    <tr>\n",
       "      <th>var</th>\n",
       "      <td>959.692</td>\n",
       "      <td>72.673</td>\n",
       "    </tr>\n",
       "    <tr>\n",
       "      <th>stddev</th>\n",
       "      <td>30.979</td>\n",
       "      <td>8.525</td>\n",
       "    </tr>\n",
       "    <tr>\n",
       "      <th>min</th>\n",
       "      <td>1.000</td>\n",
       "      <td>1.000</td>\n",
       "    </tr>\n",
       "    <tr>\n",
       "      <th>25%</th>\n",
       "      <td>1.000</td>\n",
       "      <td>1.000</td>\n",
       "    </tr>\n",
       "    <tr>\n",
       "      <th>50%</th>\n",
       "      <td>2.000</td>\n",
       "      <td>2.000</td>\n",
       "    </tr>\n",
       "    <tr>\n",
       "      <th>75%</th>\n",
       "      <td>8.000</td>\n",
       "      <td>6.000</td>\n",
       "    </tr>\n",
       "    <tr>\n",
       "      <th>max</th>\n",
       "      <td>1314.000</td>\n",
       "      <td>400.000</td>\n",
       "    </tr>\n",
       "    <tr>\n",
       "      <th>total_range</th>\n",
       "      <td>1313.000</td>\n",
       "      <td>399.000</td>\n",
       "    </tr>\n",
       "    <tr>\n",
       "      <th>interquartile_range</th>\n",
       "      <td>7.000</td>\n",
       "      <td>5.000</td>\n",
       "    </tr>\n",
       "    <tr>\n",
       "      <th>outlier_border_left</th>\n",
       "      <td>-9.500</td>\n",
       "      <td>-6.500</td>\n",
       "    </tr>\n",
       "    <tr>\n",
       "      <th>outlier_border_right</th>\n",
       "      <td>18.500</td>\n",
       "      <td>13.500</td>\n",
       "    </tr>\n",
       "    <tr>\n",
       "      <th>outliers_count</th>\n",
       "      <td>23447.000</td>\n",
       "      <td>12140.000</td>\n",
       "    </tr>\n",
       "    <tr>\n",
       "      <th>outliers_proportion</th>\n",
       "      <td>0.182</td>\n",
       "      <td>0.096</td>\n",
       "    </tr>\n",
       "  </tbody>\n",
       "</table>\n",
       "</div>"
      ],
      "text/plain": [
       "                              0          1\n",
       "count                128857.000 126252.000\n",
       "mean                     13.191      5.321\n",
       "mode                      1.000      1.000\n",
       "var                     959.692     72.673\n",
       "stddev                   30.979      8.525\n",
       "min                       1.000      1.000\n",
       "25%                       1.000      1.000\n",
       "50%                       2.000      2.000\n",
       "75%                       8.000      6.000\n",
       "max                    1314.000    400.000\n",
       "total_range            1313.000    399.000\n",
       "interquartile_range       7.000      5.000\n",
       "outlier_border_left      -9.500     -6.500\n",
       "outlier_border_right     18.500     13.500\n",
       "outliers_count        23447.000  12140.000\n",
       "outliers_proportion       0.182      0.096"
      ]
     },
     "execution_count": 124,
     "metadata": {},
     "output_type": "execute_result"
    }
   ],
   "source": [
    "describe(t_0).join(describe(t_1))"
   ]
  },
  {
   "cell_type": "code",
   "execution_count": 115,
   "id": "54df2749-4a53-45a0-8b41-84c6d935dae1",
   "metadata": {},
   "outputs": [
    {
     "data": {
      "text/plain": [
       "(0.0, 100.0)"
      ]
     },
     "execution_count": 115,
     "metadata": {},
     "output_type": "execute_result"
    },
    {
     "data": {
      "image/png": "[encoded data removed]",
      "text/plain": [
       "<Figure size 432x288 with 1 Axes>"
      ]
     },
     "metadata": {
      "needs_background": "light"
     },
     "output_type": "display_data"
    }
   ],
   "source": [
    "sns.histplot(t_0)\n",
    "plt.xlim(0,100)"
   ]
  },
  {
   "cell_type": "code",
   "execution_count": null,
   "id": "6d9bb062-b06a-4244-a18d-5244e6a030bf",
   "metadata": {},
   "outputs": [],
   "source": []
  },
  {
   "cell_type": "code",
   "execution_count": 33,
   "id": "9323b433-e490-454a-9eb1-1d37e97643b7",
   "metadata": {
    "collapsed": true,
    "jupyter": {
     "outputs_hidden": true
    },
    "tags": []
   },
   "outputs": [
    {
     "data": {
      "text/html": [
       "<div>\n",
       "<style scoped>\n",
       "    .dataframe tbody tr th:only-of-type {\n",
       "        vertical-align: middle;\n",
       "    }\n",
       "\n",
       "    .dataframe tbody tr th {\n",
       "        vertical-align: top;\n",
       "    }\n",
       "\n",
       "    .dataframe thead tr th {\n",
       "        text-align: left;\n",
       "    }\n",
       "\n",
       "    .dataframe thead tr:last-of-type th {\n",
       "        text-align: right;\n",
       "    }\n",
       "</style>\n",
       "<table border=\"1\" class=\"dataframe\">\n",
       "  <thead>\n",
       "    <tr>\n",
       "      <th></th>\n",
       "      <th colspan=\"4\" halign=\"left\">count</th>\n",
       "      <th colspan=\"4\" halign=\"left\">min</th>\n",
       "      <th colspan=\"2\" halign=\"left\">max</th>\n",
       "      <th>...</th>\n",
       "      <th colspan=\"2\" halign=\"left\">median</th>\n",
       "      <th colspan=\"4\" halign=\"left\">mean</th>\n",
       "      <th colspan=\"4\" halign=\"left\">std</th>\n",
       "    </tr>\n",
       "    <tr>\n",
       "      <th></th>\n",
       "      <th colspan=\"2\" halign=\"left\">gest_Discount</th>\n",
       "      <th colspan=\"2\" halign=\"left\">gest_Sum</th>\n",
       "      <th colspan=\"2\" halign=\"left\">gest_Discount</th>\n",
       "      <th colspan=\"2\" halign=\"left\">gest_Sum</th>\n",
       "      <th colspan=\"2\" halign=\"left\">gest_Discount</th>\n",
       "      <th>...</th>\n",
       "      <th colspan=\"2\" halign=\"left\">gest_Sum</th>\n",
       "      <th colspan=\"2\" halign=\"left\">gest_Discount</th>\n",
       "      <th colspan=\"2\" halign=\"left\">gest_Sum</th>\n",
       "      <th colspan=\"2\" halign=\"left\">gest_Discount</th>\n",
       "      <th colspan=\"2\" halign=\"left\">gest_Sum</th>\n",
       "    </tr>\n",
       "    <tr>\n",
       "      <th>target</th>\n",
       "      <th>0</th>\n",
       "      <th>1</th>\n",
       "      <th>0</th>\n",
       "      <th>1</th>\n",
       "      <th>0</th>\n",
       "      <th>1</th>\n",
       "      <th>0</th>\n",
       "      <th>1</th>\n",
       "      <th>0</th>\n",
       "      <th>1</th>\n",
       "      <th>...</th>\n",
       "      <th>0</th>\n",
       "      <th>1</th>\n",
       "      <th>0</th>\n",
       "      <th>1</th>\n",
       "      <th>0</th>\n",
       "      <th>1</th>\n",
       "      <th>0</th>\n",
       "      <th>1</th>\n",
       "      <th>0</th>\n",
       "      <th>1</th>\n",
       "    </tr>\n",
       "    <tr>\n",
       "      <th>clnt_ID</th>\n",
       "      <th></th>\n",
       "      <th></th>\n",
       "      <th></th>\n",
       "      <th></th>\n",
       "      <th></th>\n",
       "      <th></th>\n",
       "      <th></th>\n",
       "      <th></th>\n",
       "      <th></th>\n",
       "      <th></th>\n",
       "      <th></th>\n",
       "      <th></th>\n",
       "      <th></th>\n",
       "      <th></th>\n",
       "      <th></th>\n",
       "      <th></th>\n",
       "      <th></th>\n",
       "      <th></th>\n",
       "      <th></th>\n",
       "      <th></th>\n",
       "      <th></th>\n",
       "    </tr>\n",
       "  </thead>\n",
       "  <tbody>\n",
       "    <tr>\n",
       "      <th>000070A8-DB9E-4AB7-8C4D-6169D4AEBB2A</th>\n",
       "      <td>NaN</td>\n",
       "      <td>3.0</td>\n",
       "      <td>NaN</td>\n",
       "      <td>3.0</td>\n",
       "      <td>NaN</td>\n",
       "      <td>10.0</td>\n",
       "      <td>NaN</td>\n",
       "      <td>490.0</td>\n",
       "      <td>NaN</td>\n",
       "      <td>44.799999</td>\n",
       "      <td>...</td>\n",
       "      <td>NaN</td>\n",
       "      <td>519.400024</td>\n",
       "      <td>NaN</td>\n",
       "      <td>21.800000</td>\n",
       "      <td>NaN</td>\n",
       "      <td>525.200012</td>\n",
       "      <td>NaN</td>\n",
       "      <td>19.920843</td>\n",
       "      <td>NaN</td>\n",
       "      <td>38.429681</td>\n",
       "    </tr>\n",
       "    <tr>\n",
       "      <th>00007EB0-6331-438E-A917-E9840C260876</th>\n",
       "      <td>1.0</td>\n",
       "      <td>NaN</td>\n",
       "      <td>1.0</td>\n",
       "      <td>NaN</td>\n",
       "      <td>6.0</td>\n",
       "      <td>NaN</td>\n",
       "      <td>214.0</td>\n",
       "      <td>NaN</td>\n",
       "      <td>6.000000</td>\n",
       "      <td>NaN</td>\n",
       "      <td>...</td>\n",
       "      <td>214.000000</td>\n",
       "      <td>NaN</td>\n",
       "      <td>6.0000</td>\n",
       "      <td>NaN</td>\n",
       "      <td>214.000000</td>\n",
       "      <td>NaN</td>\n",
       "      <td>NaN</td>\n",
       "      <td>NaN</td>\n",
       "      <td>NaN</td>\n",
       "      <td>NaN</td>\n",
       "    </tr>\n",
       "    <tr>\n",
       "      <th>0000993D-A30E-4233-AB3F-D368D9A0D2C4</th>\n",
       "      <td>NaN</td>\n",
       "      <td>1.0</td>\n",
       "      <td>NaN</td>\n",
       "      <td>1.0</td>\n",
       "      <td>NaN</td>\n",
       "      <td>0.0</td>\n",
       "      <td>NaN</td>\n",
       "      <td>470.0</td>\n",
       "      <td>NaN</td>\n",
       "      <td>0.000000</td>\n",
       "      <td>...</td>\n",
       "      <td>NaN</td>\n",
       "      <td>470.000000</td>\n",
       "      <td>NaN</td>\n",
       "      <td>0.000000</td>\n",
       "      <td>NaN</td>\n",
       "      <td>470.000000</td>\n",
       "      <td>NaN</td>\n",
       "      <td>NaN</td>\n",
       "      <td>NaN</td>\n",
       "      <td>NaN</td>\n",
       "    </tr>\n",
       "    <tr>\n",
       "      <th>0000A724-7BC5-408F-9F16-6CC3AB16322F</th>\n",
       "      <td>64.0</td>\n",
       "      <td>NaN</td>\n",
       "      <td>64.0</td>\n",
       "      <td>NaN</td>\n",
       "      <td>0.0</td>\n",
       "      <td>NaN</td>\n",
       "      <td>0.0</td>\n",
       "      <td>NaN</td>\n",
       "      <td>280.799988</td>\n",
       "      <td>NaN</td>\n",
       "      <td>...</td>\n",
       "      <td>260.550003</td>\n",
       "      <td>NaN</td>\n",
       "      <td>31.1625</td>\n",
       "      <td>NaN</td>\n",
       "      <td>274.228125</td>\n",
       "      <td>NaN</td>\n",
       "      <td>62.319919</td>\n",
       "      <td>NaN</td>\n",
       "      <td>118.274863</td>\n",
       "      <td>NaN</td>\n",
       "    </tr>\n",
       "    <tr>\n",
       "      <th>0000B90C-56DE-43C2-A213-624AFBE36DB2</th>\n",
       "      <td>1.0</td>\n",
       "      <td>NaN</td>\n",
       "      <td>1.0</td>\n",
       "      <td>NaN</td>\n",
       "      <td>0.0</td>\n",
       "      <td>NaN</td>\n",
       "      <td>549.0</td>\n",
       "      <td>NaN</td>\n",
       "      <td>0.000000</td>\n",
       "      <td>NaN</td>\n",
       "      <td>...</td>\n",
       "      <td>549.000000</td>\n",
       "      <td>NaN</td>\n",
       "      <td>0.0000</td>\n",
       "      <td>NaN</td>\n",
       "      <td>549.000000</td>\n",
       "      <td>NaN</td>\n",
       "      <td>NaN</td>\n",
       "      <td>NaN</td>\n",
       "      <td>NaN</td>\n",
       "      <td>NaN</td>\n",
       "    </tr>\n",
       "    <tr>\n",
       "      <th>...</th>\n",
       "      <td>...</td>\n",
       "      <td>...</td>\n",
       "      <td>...</td>\n",
       "      <td>...</td>\n",
       "      <td>...</td>\n",
       "      <td>...</td>\n",
       "      <td>...</td>\n",
       "      <td>...</td>\n",
       "      <td>...</td>\n",
       "      <td>...</td>\n",
       "      <td>...</td>\n",
       "      <td>...</td>\n",
       "      <td>...</td>\n",
       "      <td>...</td>\n",
       "      <td>...</td>\n",
       "      <td>...</td>\n",
       "      <td>...</td>\n",
       "      <td>...</td>\n",
       "      <td>...</td>\n",
       "      <td>...</td>\n",
       "      <td>...</td>\n",
       "    </tr>\n",
       "    <tr>\n",
       "      <th>FFFF1629-85B6-9DD3-994C-5E21A88A5BFF</th>\n",
       "      <td>1.0</td>\n",
       "      <td>NaN</td>\n",
       "      <td>1.0</td>\n",
       "      <td>NaN</td>\n",
       "      <td>0.0</td>\n",
       "      <td>NaN</td>\n",
       "      <td>1269.0</td>\n",
       "      <td>NaN</td>\n",
       "      <td>0.000000</td>\n",
       "      <td>NaN</td>\n",
       "      <td>...</td>\n",
       "      <td>1269.000000</td>\n",
       "      <td>NaN</td>\n",
       "      <td>0.0000</td>\n",
       "      <td>NaN</td>\n",
       "      <td>1269.000000</td>\n",
       "      <td>NaN</td>\n",
       "      <td>NaN</td>\n",
       "      <td>NaN</td>\n",
       "      <td>NaN</td>\n",
       "      <td>NaN</td>\n",
       "    </tr>\n",
       "    <tr>\n",
       "      <th>FFFF364C-972B-4F77-9A75-AF62F01E6B7B</th>\n",
       "      <td>NaN</td>\n",
       "      <td>1.0</td>\n",
       "      <td>NaN</td>\n",
       "      <td>1.0</td>\n",
       "      <td>NaN</td>\n",
       "      <td>27.0</td>\n",
       "      <td>NaN</td>\n",
       "      <td>383.0</td>\n",
       "      <td>NaN</td>\n",
       "      <td>27.000000</td>\n",
       "      <td>...</td>\n",
       "      <td>NaN</td>\n",
       "      <td>383.000000</td>\n",
       "      <td>NaN</td>\n",
       "      <td>27.000000</td>\n",
       "      <td>NaN</td>\n",
       "      <td>383.000000</td>\n",
       "      <td>NaN</td>\n",
       "      <td>NaN</td>\n",
       "      <td>NaN</td>\n",
       "      <td>NaN</td>\n",
       "    </tr>\n",
       "    <tr>\n",
       "      <th>FFFF3BC7-D0FB-4630-8D09-1D4088C5A297</th>\n",
       "      <td>NaN</td>\n",
       "      <td>2.0</td>\n",
       "      <td>NaN</td>\n",
       "      <td>2.0</td>\n",
       "      <td>NaN</td>\n",
       "      <td>0.0</td>\n",
       "      <td>NaN</td>\n",
       "      <td>1366.5</td>\n",
       "      <td>NaN</td>\n",
       "      <td>0.000000</td>\n",
       "      <td>...</td>\n",
       "      <td>NaN</td>\n",
       "      <td>1791.375000</td>\n",
       "      <td>NaN</td>\n",
       "      <td>0.000000</td>\n",
       "      <td>NaN</td>\n",
       "      <td>1791.375000</td>\n",
       "      <td>NaN</td>\n",
       "      <td>0.000000</td>\n",
       "      <td>NaN</td>\n",
       "      <td>600.863987</td>\n",
       "    </tr>\n",
       "    <tr>\n",
       "      <th>FFFF788D-F1CF-4A74-B825-FAF05BC062C1</th>\n",
       "      <td>NaN</td>\n",
       "      <td>1.0</td>\n",
       "      <td>NaN</td>\n",
       "      <td>1.0</td>\n",
       "      <td>NaN</td>\n",
       "      <td>37.0</td>\n",
       "      <td>NaN</td>\n",
       "      <td>37.0</td>\n",
       "      <td>NaN</td>\n",
       "      <td>37.000000</td>\n",
       "      <td>...</td>\n",
       "      <td>NaN</td>\n",
       "      <td>37.000000</td>\n",
       "      <td>NaN</td>\n",
       "      <td>37.000000</td>\n",
       "      <td>NaN</td>\n",
       "      <td>37.000000</td>\n",
       "      <td>NaN</td>\n",
       "      <td>NaN</td>\n",
       "      <td>NaN</td>\n",
       "      <td>NaN</td>\n",
       "    </tr>\n",
       "    <tr>\n",
       "      <th>FFFFBA18-758F-4CAF-8437-1E0A73670F7D</th>\n",
       "      <td>NaN</td>\n",
       "      <td>26.0</td>\n",
       "      <td>NaN</td>\n",
       "      <td>26.0</td>\n",
       "      <td>NaN</td>\n",
       "      <td>0.0</td>\n",
       "      <td>NaN</td>\n",
       "      <td>84.0</td>\n",
       "      <td>NaN</td>\n",
       "      <td>113.099998</td>\n",
       "      <td>...</td>\n",
       "      <td>NaN</td>\n",
       "      <td>270.000000</td>\n",
       "      <td>NaN</td>\n",
       "      <td>16.507692</td>\n",
       "      <td>NaN</td>\n",
       "      <td>306.723075</td>\n",
       "      <td>NaN</td>\n",
       "      <td>25.934825</td>\n",
       "      <td>NaN</td>\n",
       "      <td>204.153294</td>\n",
       "    </tr>\n",
       "  </tbody>\n",
       "</table>\n",
       "<p>255109 rows × 24 columns</p>\n",
       "</div>"
      ],
      "text/plain": [
       "                                             count                       \\\n",
       "                                     gest_Discount       gest_Sum         \n",
       "target                                           0     1        0     1   \n",
       "clnt_ID                                                                   \n",
       "000070A8-DB9E-4AB7-8C4D-6169D4AEBB2A           NaN   3.0      NaN   3.0   \n",
       "00007EB0-6331-438E-A917-E9840C260876           1.0   NaN      1.0   NaN   \n",
       "0000993D-A30E-4233-AB3F-D368D9A0D2C4           NaN   1.0      NaN   1.0   \n",
       "0000A724-7BC5-408F-9F16-6CC3AB16322F          64.0   NaN     64.0   NaN   \n",
       "0000B90C-56DE-43C2-A213-624AFBE36DB2           1.0   NaN      1.0   NaN   \n",
       "...                                            ...   ...      ...   ...   \n",
       "FFFF1629-85B6-9DD3-994C-5E21A88A5BFF           1.0   NaN      1.0   NaN   \n",
       "FFFF364C-972B-4F77-9A75-AF62F01E6B7B           NaN   1.0      NaN   1.0   \n",
       "FFFF3BC7-D0FB-4630-8D09-1D4088C5A297           NaN   2.0      NaN   2.0   \n",
       "FFFF788D-F1CF-4A74-B825-FAF05BC062C1           NaN   1.0      NaN   1.0   \n",
       "FFFFBA18-758F-4CAF-8437-1E0A73670F7D           NaN  26.0      NaN  26.0   \n",
       "\n",
       "                                               min                         \\\n",
       "                                     gest_Discount       gest_Sum           \n",
       "target                                           0     1        0       1   \n",
       "clnt_ID                                                                     \n",
       "000070A8-DB9E-4AB7-8C4D-6169D4AEBB2A           NaN  10.0      NaN   490.0   \n",
       "00007EB0-6331-438E-A917-E9840C260876           6.0   NaN    214.0     NaN   \n",
       "0000993D-A30E-4233-AB3F-D368D9A0D2C4           NaN   0.0      NaN   470.0   \n",
       "0000A724-7BC5-408F-9F16-6CC3AB16322F           0.0   NaN      0.0     NaN   \n",
       "0000B90C-56DE-43C2-A213-624AFBE36DB2           0.0   NaN    549.0     NaN   \n",
       "...                                            ...   ...      ...     ...   \n",
       "FFFF1629-85B6-9DD3-994C-5E21A88A5BFF           0.0   NaN   1269.0     NaN   \n",
       "FFFF364C-972B-4F77-9A75-AF62F01E6B7B           NaN  27.0      NaN   383.0   \n",
       "FFFF3BC7-D0FB-4630-8D09-1D4088C5A297           NaN   0.0      NaN  1366.5   \n",
       "FFFF788D-F1CF-4A74-B825-FAF05BC062C1           NaN  37.0      NaN    37.0   \n",
       "FFFFBA18-758F-4CAF-8437-1E0A73670F7D           NaN   0.0      NaN    84.0   \n",
       "\n",
       "                                               max              ...  \\\n",
       "                                     gest_Discount              ...   \n",
       "target                                           0           1  ...   \n",
       "clnt_ID                                                         ...   \n",
       "000070A8-DB9E-4AB7-8C4D-6169D4AEBB2A           NaN   44.799999  ...   \n",
       "00007EB0-6331-438E-A917-E9840C260876      6.000000         NaN  ...   \n",
       "0000993D-A30E-4233-AB3F-D368D9A0D2C4           NaN    0.000000  ...   \n",
       "0000A724-7BC5-408F-9F16-6CC3AB16322F    280.799988         NaN  ...   \n",
       "0000B90C-56DE-43C2-A213-624AFBE36DB2      0.000000         NaN  ...   \n",
       "...                                            ...         ...  ...   \n",
       "FFFF1629-85B6-9DD3-994C-5E21A88A5BFF      0.000000         NaN  ...   \n",
       "FFFF364C-972B-4F77-9A75-AF62F01E6B7B           NaN   27.000000  ...   \n",
       "FFFF3BC7-D0FB-4630-8D09-1D4088C5A297           NaN    0.000000  ...   \n",
       "FFFF788D-F1CF-4A74-B825-FAF05BC062C1           NaN   37.000000  ...   \n",
       "FFFFBA18-758F-4CAF-8437-1E0A73670F7D           NaN  113.099998  ...   \n",
       "\n",
       "                                           median                       mean  \\\n",
       "                                         gest_Sum              gest_Discount   \n",
       "target                                          0            1             0   \n",
       "clnt_ID                                                                        \n",
       "000070A8-DB9E-4AB7-8C4D-6169D4AEBB2A          NaN   519.400024           NaN   \n",
       "00007EB0-6331-438E-A917-E9840C260876   214.000000          NaN        6.0000   \n",
       "0000993D-A30E-4233-AB3F-D368D9A0D2C4          NaN   470.000000           NaN   \n",
       "0000A724-7BC5-408F-9F16-6CC3AB16322F   260.550003          NaN       31.1625   \n",
       "0000B90C-56DE-43C2-A213-624AFBE36DB2   549.000000          NaN        0.0000   \n",
       "...                                           ...          ...           ...   \n",
       "FFFF1629-85B6-9DD3-994C-5E21A88A5BFF  1269.000000          NaN        0.0000   \n",
       "FFFF364C-972B-4F77-9A75-AF62F01E6B7B          NaN   383.000000           NaN   \n",
       "FFFF3BC7-D0FB-4630-8D09-1D4088C5A297          NaN  1791.375000           NaN   \n",
       "FFFF788D-F1CF-4A74-B825-FAF05BC062C1          NaN    37.000000           NaN   \n",
       "FFFFBA18-758F-4CAF-8437-1E0A73670F7D          NaN   270.000000           NaN   \n",
       "\n",
       "                                                                           \\\n",
       "                                                    gest_Sum                \n",
       "target                                        1            0            1   \n",
       "clnt_ID                                                                     \n",
       "000070A8-DB9E-4AB7-8C4D-6169D4AEBB2A  21.800000          NaN   525.200012   \n",
       "00007EB0-6331-438E-A917-E9840C260876        NaN   214.000000          NaN   \n",
       "0000993D-A30E-4233-AB3F-D368D9A0D2C4   0.000000          NaN   470.000000   \n",
       "0000A724-7BC5-408F-9F16-6CC3AB16322F        NaN   274.228125          NaN   \n",
       "0000B90C-56DE-43C2-A213-624AFBE36DB2        NaN   549.000000          NaN   \n",
       "...                                         ...          ...          ...   \n",
       "FFFF1629-85B6-9DD3-994C-5E21A88A5BFF        NaN  1269.000000          NaN   \n",
       "FFFF364C-972B-4F77-9A75-AF62F01E6B7B  27.000000          NaN   383.000000   \n",
       "FFFF3BC7-D0FB-4630-8D09-1D4088C5A297   0.000000          NaN  1791.375000   \n",
       "FFFF788D-F1CF-4A74-B825-FAF05BC062C1  37.000000          NaN    37.000000   \n",
       "FFFFBA18-758F-4CAF-8437-1E0A73670F7D  16.507692          NaN   306.723075   \n",
       "\n",
       "                                               std                         \\\n",
       "                                     gest_Discount               gest_Sum   \n",
       "target                                           0          1           0   \n",
       "clnt_ID                                                                     \n",
       "000070A8-DB9E-4AB7-8C4D-6169D4AEBB2A           NaN  19.920843         NaN   \n",
       "00007EB0-6331-438E-A917-E9840C260876           NaN        NaN         NaN   \n",
       "0000993D-A30E-4233-AB3F-D368D9A0D2C4           NaN        NaN         NaN   \n",
       "0000A724-7BC5-408F-9F16-6CC3AB16322F     62.319919        NaN  118.274863   \n",
       "0000B90C-56DE-43C2-A213-624AFBE36DB2           NaN        NaN         NaN   \n",
       "...                                            ...        ...         ...   \n",
       "FFFF1629-85B6-9DD3-994C-5E21A88A5BFF           NaN        NaN         NaN   \n",
       "FFFF364C-972B-4F77-9A75-AF62F01E6B7B           NaN        NaN         NaN   \n",
       "FFFF3BC7-D0FB-4630-8D09-1D4088C5A297           NaN   0.000000         NaN   \n",
       "FFFF788D-F1CF-4A74-B825-FAF05BC062C1           NaN        NaN         NaN   \n",
       "FFFFBA18-758F-4CAF-8437-1E0A73670F7D           NaN  25.934825         NaN   \n",
       "\n",
       "                                                  \n",
       "                                                  \n",
       "target                                         1  \n",
       "clnt_ID                                           \n",
       "000070A8-DB9E-4AB7-8C4D-6169D4AEBB2A   38.429681  \n",
       "00007EB0-6331-438E-A917-E9840C260876         NaN  \n",
       "0000993D-A30E-4233-AB3F-D368D9A0D2C4         NaN  \n",
       "0000A724-7BC5-408F-9F16-6CC3AB16322F         NaN  \n",
       "0000B90C-56DE-43C2-A213-624AFBE36DB2         NaN  \n",
       "...                                          ...  \n",
       "FFFF1629-85B6-9DD3-994C-5E21A88A5BFF         NaN  \n",
       "FFFF364C-972B-4F77-9A75-AF62F01E6B7B         NaN  \n",
       "FFFF3BC7-D0FB-4630-8D09-1D4088C5A297  600.863987  \n",
       "FFFF788D-F1CF-4A74-B825-FAF05BC062C1         NaN  \n",
       "FFFFBA18-758F-4CAF-8437-1E0A73670F7D  204.153294  \n",
       "\n",
       "[255109 rows x 24 columns]"
      ]
     },
     "execution_count": 33,
     "metadata": {},
     "output_type": "execute_result"
    }
   ],
   "source": [
    "# В итоге мы пока откажемся от подхода с таймсериес, и возьмем просто описание истории покупок клиентов.\n",
    "# Т.е. берем фичи сумма чека, скидка, дней с последней покупки для каждого клиента и сравнимаем эти статистики по группам 0 и 1 (таргету)\n",
    "df_eda.pivot_table(index='clnt_ID', values=['gest_Sum','gest_Discount'],aggfunc=['count','min','max','median','mean','std'],columns='target')"
   ]
  },
  {
   "cell_type": "markdown",
   "id": "a17d0bfc-28e5-4e29-ae01-c7d2dc1e6e0f",
   "metadata": {},
   "source": [
    "Напишем функцию для упрощения анализа статистик по категориям."
   ]
  },
  {
   "cell_type": "code",
   "execution_count": 63,
   "id": "cfd78dae-b3bc-46d7-a6f6-8e6073c2c919",
   "metadata": {},
   "outputs": [],
   "source": [
    "def simple_uni_EDA(df,column):\n",
    "    \"\"\"Функция выводит подробное числовое описание данных, \n",
    "    возвращает Figure,Axis объекты matplotlib.pyplot для гистограммы и ящика с усами.\n",
    "    \"\"\"\n",
    "\n",
    "#     Подсчет количества значений\n",
    "    count_ = df[column].count()\n",
    "    \n",
    "#     Меры центральной тенденции:\n",
    "#     Среднее\n",
    "    mean = df[column].mean()\n",
    "#     Медиана\n",
    "    median = df[column].median()\n",
    "#     Мода\n",
    "    mode = df[column].mode()\n",
    "\n",
    "#     Меры разброса\n",
    "#     Дисперсия\n",
    "    var = df[column].var()\n",
    "#     Стандартное отклонение\n",
    "    stddev = df[column].std()\n",
    "#     Межквартильный размах\n",
    "    quartile_1 = df[column].quantile(0.25)\n",
    "    quartile_3 = df[column].quantile(0.75)\n",
    "    iqr = quartile_3 - quartile_1\n",
    "#     Мин, макс, размах\n",
    "    min_ = df[column].min()\n",
    "    max_ = df[column].max()\n",
    "    range_ = max_ - min_\n",
    "\n",
    "#     Левая граница ящика с усами\n",
    "    outlier_border_left = quartile_1 - 1.5 * iqr\n",
    "#     Правая граница ящика с усами\n",
    "    outlier_border_right = quartile_3 + 1.5 * iqr\n",
    "    \n",
    "#    Количество выбросов\n",
    "    outliers_mask = (df[column] <= outlier_border_left) | (df[column] >= outlier_border_right)\n",
    "    outliers_count = df.loc[outliers_mask,column].count()\n",
    "    outliers_proportion = outliers_count / count_\n",
    "    \n",
    "#     Создание и вывод таблицы с числовым описанием данных\n",
    "    describe_ = {\"count\": count_,\n",
    "                 \"mean\": mean,\n",
    "                 \"mode\": mode,\n",
    "                 \"var\": var,\n",
    "                 \"stddev\": stddev,\n",
    "                 \"min\": min_,\n",
    "                 \"25%\": quartile_1,\n",
    "                 \"50%\": median,\n",
    "                 \"75%\": quartile_3,\n",
    "                 \"max\": max_,\n",
    "                 \"total_range\": range_,\n",
    "                 \"interquartile_range\": iqr,\n",
    "                 \"outlier_border_left\": outlier_border_left,\n",
    "                 \"outlier_border_right\": outlier_border_right,\n",
    "                 \"outliers_count\": outliers_count,\n",
    "                 \"outliers_proportion\": outliers_proportion}\n",
    "    describe_ = pd.DataFrame(describe_).transpose()\n",
    "    describe_.columns = [column]\n",
    "    with pd.option_context(\"display.float_format\", '{:.3f}'.format):\n",
    "                           display(describe_)\n",
    "    \n",
    "\n",
    "#     Построение гистограммы, ящика с усами\n",
    "    fig,ax = plt.subplots(figsize=(16,8))\n",
    "    ax.hist(df[column],bins=30)\n",
    "    ax.set_ylabel(\"Частота\")\n",
    "    ax2=ax.twinx()\n",
    "    ax2.boxplot(df[column],vert=False)\n",
    "    \n",
    "    return fig,ax\n",
    "\n",
    "def qqplot(df,column):\n",
    "    \"\"\"Функция возвращает Figure,Axis объекты matplotlib.pyplot для normal qqplot.\"\"\"\n",
    "    fig,ax = plt.subplots(figsize=(8,8))\n",
    "    sm.qqplot(df[column], line='45',fit=True,ax=ax)\n",
    "    return fig,ax"
   ]
  },
  {
   "cell_type": "code",
   "execution_count": 64,
   "id": "eff362c8-93cb-4367-9a98-8b5e913bb08f",
   "metadata": {},
   "outputs": [
    {
     "data": {
      "text/html": [
       "<div>\n",
       "<style scoped>\n",
       "    .dataframe tbody tr th:only-of-type {\n",
       "        vertical-align: middle;\n",
       "    }\n",
       "\n",
       "    .dataframe tbody tr th {\n",
       "        vertical-align: top;\n",
       "    }\n",
       "\n",
       "    .dataframe thead th {\n",
       "        text-align: right;\n",
       "    }\n",
       "</style>\n",
       "<table border=\"1\" class=\"dataframe\">\n",
       "  <thead>\n",
       "    <tr style=\"text-align: right;\">\n",
       "      <th></th>\n",
       "      <th>gest_Sum</th>\n",
       "    </tr>\n",
       "  </thead>\n",
       "  <tbody>\n",
       "    <tr>\n",
       "      <th>count</th>\n",
       "      <td>2371506.000</td>\n",
       "    </tr>\n",
       "    <tr>\n",
       "      <th>mean</th>\n",
       "      <td>452.622</td>\n",
       "    </tr>\n",
       "    <tr>\n",
       "      <th>mode</th>\n",
       "      <td>201.600</td>\n",
       "    </tr>\n",
       "    <tr>\n",
       "      <th>var</th>\n",
       "      <td>172042.693</td>\n",
       "    </tr>\n",
       "    <tr>\n",
       "      <th>stddev</th>\n",
       "      <td>414.780</td>\n",
       "    </tr>\n",
       "    <tr>\n",
       "      <th>min</th>\n",
       "      <td>0.000</td>\n",
       "    </tr>\n",
       "    <tr>\n",
       "      <th>25%</th>\n",
       "      <td>195.300</td>\n",
       "    </tr>\n",
       "    <tr>\n",
       "      <th>50%</th>\n",
       "      <td>340.800</td>\n",
       "    </tr>\n",
       "    <tr>\n",
       "      <th>75%</th>\n",
       "      <td>578.200</td>\n",
       "    </tr>\n",
       "    <tr>\n",
       "      <th>max</th>\n",
       "      <td>23500.000</td>\n",
       "    </tr>\n",
       "    <tr>\n",
       "      <th>total_range</th>\n",
       "      <td>23500.000</td>\n",
       "    </tr>\n",
       "    <tr>\n",
       "      <th>interquartile_range</th>\n",
       "      <td>382.900</td>\n",
       "    </tr>\n",
       "    <tr>\n",
       "      <th>outlier_border_left</th>\n",
       "      <td>-379.050</td>\n",
       "    </tr>\n",
       "    <tr>\n",
       "      <th>outlier_border_right</th>\n",
       "      <td>1152.550</td>\n",
       "    </tr>\n",
       "    <tr>\n",
       "      <th>outliers_count</th>\n",
       "      <td>139329.000</td>\n",
       "    </tr>\n",
       "    <tr>\n",
       "      <th>outliers_proportion</th>\n",
       "      <td>0.059</td>\n",
       "    </tr>\n",
       "  </tbody>\n",
       "</table>\n",
       "</div>"
      ],
      "text/plain": [
       "                        gest_Sum\n",
       "count                2371506.000\n",
       "mean                     452.622\n",
       "mode                     201.600\n",
       "var                   172042.693\n",
       "stddev                   414.780\n",
       "min                        0.000\n",
       "25%                      195.300\n",
       "50%                      340.800\n",
       "75%                      578.200\n",
       "max                    23500.000\n",
       "total_range            23500.000\n",
       "interquartile_range      382.900\n",
       "outlier_border_left     -379.050\n",
       "outlier_border_right    1152.550\n",
       "outliers_count        139329.000\n",
       "outliers_proportion        0.059"
      ]
     },
     "metadata": {},
     "output_type": "display_data"
    },
    {
     "data": {
      "image/png": "[encoded data removed]",
      "text/plain": [
       "<Figure size 1152x576 with 2 Axes>"
      ]
     },
     "metadata": {
      "needs_background": "light"
     },
     "output_type": "display_data"
    },
    {
     "data": {
      "image/png": "[encoded data removed]",
      "text/plain": [
       "<Figure size 576x576 with 1 Axes>"
      ]
     },
     "metadata": {
      "needs_background": "light"
     },
     "output_type": "display_data"
    }
   ],
   "source": [
    "fig,ax = simple_uni_EDA(df,\"gest_Sum\")\n",
    "ax.set_xlabel(\"Кол-во звонков\")\n",
    "ax.set_title(\"Гистограмма и ящик с усами кол-ва звонков\")\n",
    "plt.show()\n",
    "# fig,ax = qqplot(df,\"gest_Sum\")\n",
    "# plt.show()"
   ]
  },
  {
   "cell_type": "code",
   "execution_count": 56,
   "id": "03df9c7e-ae4d-4d29-9453-0ad5b8171457",
   "metadata": {},
   "outputs": [
    {
     "data": {
      "text/plain": [
       "1.0      61461\n",
       "2.0      16207\n",
       "3.0       7392\n",
       "4.0       4511\n",
       "5.0       2992\n",
       "         ...  \n",
       "293.0        1\n",
       "434.0        1\n",
       "431.0        1\n",
       "304.0        1\n",
       "358.0        1\n",
       "Name: 0, Length: 390, dtype: int64"
      ]
     },
     "metadata": {},
     "output_type": "display_data"
    },
    {
     "data": {
      "text/plain": [
       "1.0      43704\n",
       "2.0      22235\n",
       "3.0      13127\n",
       "4.0       8472\n",
       "5.0       5982\n",
       "         ...  \n",
       "354.0        1\n",
       "144.0        1\n",
       "115.0        1\n",
       "143.0        1\n",
       "331.0        1\n",
       "Name: 1, Length: 145, dtype: int64"
      ]
     },
     "metadata": {},
     "output_type": "display_data"
    },
    {
     "data": {
      "image/png": "[encoded data removed]",
      "text/plain": [
       "<Figure size 432x288 with 1 Axes>"
      ]
     },
     "metadata": {
      "needs_background": "light"
     },
     "output_type": "display_data"
    }
   ],
   "source": [
    "def eda(value,aggfunc,bins):\n",
    "    eda = df_eda.pivot_table(index='clnt_ID',values=value,aggfunc=aggfunc,columns='target')\n",
    "    t_0 = eda.iloc[:,0].dropna()\n",
    "    t_1 = eda.iloc[:,1].dropna()\n",
    "    display(t_0.value_counts())\n",
    "    display(t_1.value_counts())\n",
    "    return plt.hist([t_0,t_1],bins=bins,label=['target=0','target=1'])\n",
    "    \n",
    "    \n",
    "eda('gest_Sum','count',200)\n",
    "plt.xlim(0,200)\n",
    "plt.legend()\n",
    "plt.show()"
   ]
  },
  {
   "cell_type": "code",
   "execution_count": null,
   "id": "5cde42b5-7aeb-4fd6-867c-a7e2e4e21c3e",
   "metadata": {},
   "outputs": [],
   "source": []
  },
  {
   "cell_type": "code",
   "execution_count": null,
   "id": "9f362f4a-2019-4e2f-ac8e-8c0ab69e0de0",
   "metadata": {},
   "outputs": [],
   "source": []
  },
  {
   "cell_type": "code",
   "execution_count": null,
   "id": "16250133-1b73-4fec-8338-2b45c79434f0",
   "metadata": {},
   "outputs": [],
   "source": []
  },
  {
   "cell_type": "markdown",
   "id": "f11d820e-a5e7-4663-a421-b265cd4ccff2",
   "metadata": {},
   "source": [
    "# BASELINE"
   ]
  },
  {
   "cell_type": "markdown",
   "id": "93b53c26-e672-4b0b-a56e-240d90880748",
   "metadata": {},
   "source": [
    "Для бейслайна используем данные в таком виде:\n",
    "Группируем по клиенту,\n",
    "берем общее число покупок\n",
    "мин,макс,медиана,среднее,стд отклонение по gest_Sum, gest_Discount, кол-во дней между покупками.\n",
    "\n",
    "Пробуем логистическую регрессию - для нее стандартизируем\n",
    "Пробуем дерево решение - можно ничего не делать с данными\n",
    "Пробуем случайный лет - тоже можно ничего не делать\n",
    "\n",
    "Оцениваем ф1 по кроссвалидации на 5 фолдах (?)"
   ]
  },
  {
   "cell_type": "code",
   "execution_count": 151,
   "id": "f50627ea-abef-4dc1-9303-93c9ed24e097",
   "metadata": {},
   "outputs": [],
   "source": [
    "df_baseline = df.copy()"
   ]
  },
  {
   "cell_type": "markdown",
   "id": "78507861-84ac-4846-8a41-0e2f7e75a072",
   "metadata": {},
   "source": [
    "Создадим фичу - кол-во дней между покупками.\n",
    "Потом ее переместим в нужное место."
   ]
  },
  {
   "cell_type": "code",
   "execution_count": 152,
   "id": "c35e0b99-938e-413a-9308-818dbec6fe78",
   "metadata": {},
   "outputs": [],
   "source": [
    "def expand_count(col):\n",
    "    return col.expanding().count()\n",
    "\n",
    "df_baseline['clnt_buys_count'] = df_baseline.groupby('clnt_ID')['timestamp'].transform(expand_count)"
   ]
  },
  {
   "cell_type": "code",
   "execution_count": 153,
   "id": "73825dff-5d42-4939-8a56-6b13479ea122",
   "metadata": {},
   "outputs": [],
   "source": [
    "df_baseline = df_baseline.drop(columns=['timestamp'])"
   ]
  },
  {
   "cell_type": "code",
   "execution_count": 154,
   "id": "aff6125c-9822-440b-8240-77da2cfb4683",
   "metadata": {},
   "outputs": [
    {
     "data": {
      "text/html": [
       "<div>\n",
       "<style scoped>\n",
       "    .dataframe tbody tr th:only-of-type {\n",
       "        vertical-align: middle;\n",
       "    }\n",
       "\n",
       "    .dataframe tbody tr th {\n",
       "        vertical-align: top;\n",
       "    }\n",
       "\n",
       "    .dataframe thead th {\n",
       "        text-align: right;\n",
       "    }\n",
       "</style>\n",
       "<table border=\"1\" class=\"dataframe\">\n",
       "  <thead>\n",
       "    <tr style=\"text-align: right;\">\n",
       "      <th></th>\n",
       "      <th>clnt_ID</th>\n",
       "      <th>gest_Sum</th>\n",
       "      <th>gest_Discount</th>\n",
       "      <th>date</th>\n",
       "      <th>clnt_buys_count</th>\n",
       "    </tr>\n",
       "  </thead>\n",
       "  <tbody>\n",
       "    <tr>\n",
       "      <th>0</th>\n",
       "      <td>193B4268-0B4A-475E-B1D0-FF5515E29D29</td>\n",
       "      <td>900.000</td>\n",
       "      <td>300.000</td>\n",
       "      <td>2021-01-02</td>\n",
       "      <td>1.000</td>\n",
       "    </tr>\n",
       "    <tr>\n",
       "      <th>1</th>\n",
       "      <td>8DA65A37-C1D0-41D4-98E1-AB6C5BF1367F</td>\n",
       "      <td>165.000</td>\n",
       "      <td>55.000</td>\n",
       "      <td>2021-01-02</td>\n",
       "      <td>1.000</td>\n",
       "    </tr>\n",
       "    <tr>\n",
       "      <th>2</th>\n",
       "      <td>26ACF3C8-25C8-4345-ABC2-33DA15EA6454</td>\n",
       "      <td>800.500</td>\n",
       "      <td>25.500</td>\n",
       "      <td>2021-01-02</td>\n",
       "      <td>1.000</td>\n",
       "    </tr>\n",
       "    <tr>\n",
       "      <th>3</th>\n",
       "      <td>0F77DDB3-A9A7-44BE-AAAB-9DF59B66A695</td>\n",
       "      <td>580.000</td>\n",
       "      <td>0.000</td>\n",
       "      <td>2021-01-02</td>\n",
       "      <td>1.000</td>\n",
       "    </tr>\n",
       "    <tr>\n",
       "      <th>4</th>\n",
       "      <td>F16BCF77-FA5A-4093-B7E3-FA86E2B1EA31</td>\n",
       "      <td>148.900</td>\n",
       "      <td>3.100</td>\n",
       "      <td>2021-01-02</td>\n",
       "      <td>1.000</td>\n",
       "    </tr>\n",
       "  </tbody>\n",
       "</table>\n",
       "</div>"
      ],
      "text/plain": [
       "                                clnt_ID  gest_Sum  gest_Discount        date  \\\n",
       "0  193B4268-0B4A-475E-B1D0-FF5515E29D29   900.000        300.000  2021-01-02   \n",
       "1  8DA65A37-C1D0-41D4-98E1-AB6C5BF1367F   165.000         55.000  2021-01-02   \n",
       "2  26ACF3C8-25C8-4345-ABC2-33DA15EA6454   800.500         25.500  2021-01-02   \n",
       "3  0F77DDB3-A9A7-44BE-AAAB-9DF59B66A695   580.000          0.000  2021-01-02   \n",
       "4  F16BCF77-FA5A-4093-B7E3-FA86E2B1EA31   148.900          3.100  2021-01-02   \n",
       "\n",
       "   clnt_buys_count  \n",
       "0            1.000  \n",
       "1            1.000  \n",
       "2            1.000  \n",
       "3            1.000  \n",
       "4            1.000  "
      ]
     },
     "execution_count": 154,
     "metadata": {},
     "output_type": "execute_result"
    }
   ],
   "source": [
    "df_baseline.head()"
   ]
  },
  {
   "cell_type": "markdown",
   "id": "3cc74b72-ed56-40d2-b2e0-480c8f54152f",
   "metadata": {},
   "source": [
    "Как использовать дату"
   ]
  },
  {
   "cell_type": "code",
   "execution_count": null,
   "id": "5136a581-1d25-49bc-8287-97dfd7005947",
   "metadata": {},
   "outputs": [],
   "source": [
    "df_eda.pivot_table(index='clnt_ID', values=['gest_Sum','gest_Discount'],aggfunc=['count','min','max','median','mean','std'],columns='target')"
   ]
  },
  {
   "cell_type": "code",
   "execution_count": 155,
   "id": "ae24b12e-0785-404d-94aa-8e2b5f231706",
   "metadata": {},
   "outputs": [
    {
     "data": {
      "text/plain": [
       "Index(['clnt_ID', 'gest_Sum', 'gest_Discount', 'date', 'clnt_buys_count'], dtype='object')"
      ]
     },
     "execution_count": 155,
     "metadata": {},
     "output_type": "execute_result"
    }
   ],
   "source": [
    "df_baseline.columns"
   ]
  },
  {
   "cell_type": "code",
   "execution_count": 169,
   "id": "66f83d0a-071d-404d-a39e-669fbde07ae2",
   "metadata": {},
   "outputs": [],
   "source": [
    "aggfunc_dict = {'date': ['count'],\n",
    "                'gest_Sum': ['min','max','median','mean','std'], \n",
    "                'gest_Discount': ['min','max','median','mean','std'], \n",
    "                'clnt_buys_count': ['max','median','mean','std']} # здесь min не нужен, т.к. везде будут 1"
   ]
  },
  {
   "cell_type": "code",
   "execution_count": 170,
   "id": "81f42f90-13eb-4146-babf-341b2afd250c",
   "metadata": {},
   "outputs": [],
   "source": [
    "pivot_baseline = df_baseline.pivot_table(index='clnt_ID', values=['date','gest_Sum','gest_Discount','clnt_buys_count'],aggfunc=aggfunc_dict, fill_value=0)"
   ]
  },
  {
   "cell_type": "code",
   "execution_count": 176,
   "id": "7da08761-4487-42ef-a6d7-aa03c112b49c",
   "metadata": {},
   "outputs": [
    {
     "data": {
      "text/plain": [
       "MultiIndex([('clnt_buys_count',    'max'),\n",
       "            ('clnt_buys_count',   'mean'),\n",
       "            ('clnt_buys_count', 'median'),\n",
       "            ('clnt_buys_count',    'std'),\n",
       "            (           'date',  'count'),\n",
       "            (  'gest_Discount',    'max'),\n",
       "            (  'gest_Discount',   'mean'),\n",
       "            (  'gest_Discount', 'median'),\n",
       "            (  'gest_Discount',    'min'),\n",
       "            (  'gest_Discount',    'std'),\n",
       "            (       'gest_Sum',    'max'),\n",
       "            (       'gest_Sum',   'mean'),\n",
       "            (       'gest_Sum', 'median'),\n",
       "            (       'gest_Sum',    'min'),\n",
       "            (       'gest_Sum',    'std')],\n",
       "           )"
      ]
     },
     "metadata": {},
     "output_type": "display_data"
    }
   ],
   "source": [
    "pivot_baseline.columns = ['_'.join(column) for column in pivot_baseline.columns]"
   ]
  },
  {
   "cell_type": "code",
   "execution_count": 178,
   "id": "8bd5e6dd-5012-4575-ac9f-b017e2a4f5f9",
   "metadata": {},
   "outputs": [
    {
     "data": {
      "text/html": [
       "<div>\n",
       "<style scoped>\n",
       "    .dataframe tbody tr th:only-of-type {\n",
       "        vertical-align: middle;\n",
       "    }\n",
       "\n",
       "    .dataframe tbody tr th {\n",
       "        vertical-align: top;\n",
       "    }\n",
       "\n",
       "    .dataframe thead th {\n",
       "        text-align: right;\n",
       "    }\n",
       "</style>\n",
       "<table border=\"1\" class=\"dataframe\">\n",
       "  <thead>\n",
       "    <tr style=\"text-align: right;\">\n",
       "      <th></th>\n",
       "      <th>clnt_buys_count_max</th>\n",
       "      <th>clnt_buys_count_mean</th>\n",
       "      <th>clnt_buys_count_median</th>\n",
       "      <th>clnt_buys_count_std</th>\n",
       "      <th>date_count</th>\n",
       "      <th>gest_Discount_max</th>\n",
       "      <th>gest_Discount_mean</th>\n",
       "      <th>gest_Discount_median</th>\n",
       "      <th>gest_Discount_min</th>\n",
       "      <th>gest_Discount_std</th>\n",
       "      <th>gest_Sum_max</th>\n",
       "      <th>gest_Sum_mean</th>\n",
       "      <th>gest_Sum_median</th>\n",
       "      <th>gest_Sum_min</th>\n",
       "      <th>gest_Sum_std</th>\n",
       "    </tr>\n",
       "  </thead>\n",
       "  <tbody>\n",
       "    <tr>\n",
       "      <th>count</th>\n",
       "      <td>255109.000</td>\n",
       "      <td>255109.000</td>\n",
       "      <td>255109.000</td>\n",
       "      <td>255109.000</td>\n",
       "      <td>255109.000</td>\n",
       "      <td>255109.000</td>\n",
       "      <td>255109.000</td>\n",
       "      <td>255109.000</td>\n",
       "      <td>255109.000</td>\n",
       "      <td>255109.000</td>\n",
       "      <td>255109.000</td>\n",
       "      <td>255109.000</td>\n",
       "      <td>255109.000</td>\n",
       "      <td>255109.000</td>\n",
       "      <td>255109.000</td>\n",
       "    </tr>\n",
       "    <tr>\n",
       "      <th>mean</th>\n",
       "      <td>9.296</td>\n",
       "      <td>5.148</td>\n",
       "      <td>5.148</td>\n",
       "      <td>2.645</td>\n",
       "      <td>9.296</td>\n",
       "      <td>96.011</td>\n",
       "      <td>46.174</td>\n",
       "      <td>40.298</td>\n",
       "      <td>30.937</td>\n",
       "      <td>21.568</td>\n",
       "      <td>885.385</td>\n",
       "      <td>609.003</td>\n",
       "      <td>586.838</td>\n",
       "      <td>449.685</td>\n",
       "      <td>161.768</td>\n",
       "    </tr>\n",
       "    <tr>\n",
       "      <th>std</th>\n",
       "      <td>23.156</td>\n",
       "      <td>11.578</td>\n",
       "      <td>11.578</td>\n",
       "      <td>6.752</td>\n",
       "      <td>23.156</td>\n",
       "      <td>185.499</td>\n",
       "      <td>138.910</td>\n",
       "      <td>139.234</td>\n",
       "      <td>137.689</td>\n",
       "      <td>46.447</td>\n",
       "      <td>724.995</td>\n",
       "      <td>538.335</td>\n",
       "      <td>543.737</td>\n",
       "      <td>553.309</td>\n",
       "      <td>244.786</td>\n",
       "    </tr>\n",
       "    <tr>\n",
       "      <th>min</th>\n",
       "      <td>1.000</td>\n",
       "      <td>1.000</td>\n",
       "      <td>1.000</td>\n",
       "      <td>0.000</td>\n",
       "      <td>1.000</td>\n",
       "      <td>0.000</td>\n",
       "      <td>0.000</td>\n",
       "      <td>0.000</td>\n",
       "      <td>0.000</td>\n",
       "      <td>0.000</td>\n",
       "      <td>0.000</td>\n",
       "      <td>0.000</td>\n",
       "      <td>0.000</td>\n",
       "      <td>0.000</td>\n",
       "      <td>0.000</td>\n",
       "    </tr>\n",
       "    <tr>\n",
       "      <th>25%</th>\n",
       "      <td>1.000</td>\n",
       "      <td>1.000</td>\n",
       "      <td>1.000</td>\n",
       "      <td>0.000</td>\n",
       "      <td>1.000</td>\n",
       "      <td>0.000</td>\n",
       "      <td>0.000</td>\n",
       "      <td>0.000</td>\n",
       "      <td>0.000</td>\n",
       "      <td>0.000</td>\n",
       "      <td>408.900</td>\n",
       "      <td>295.000</td>\n",
       "      <td>268.000</td>\n",
       "      <td>118.000</td>\n",
       "      <td>0.000</td>\n",
       "    </tr>\n",
       "    <tr>\n",
       "      <th>50%</th>\n",
       "      <td>2.000</td>\n",
       "      <td>1.500</td>\n",
       "      <td>1.500</td>\n",
       "      <td>0.707</td>\n",
       "      <td>2.000</td>\n",
       "      <td>26.800</td>\n",
       "      <td>11.213</td>\n",
       "      <td>0.000</td>\n",
       "      <td>0.000</td>\n",
       "      <td>0.000</td>\n",
       "      <td>728.000</td>\n",
       "      <td>470.171</td>\n",
       "      <td>438.000</td>\n",
       "      <td>260.000</td>\n",
       "      <td>77.737</td>\n",
       "    </tr>\n",
       "    <tr>\n",
       "      <th>75%</th>\n",
       "      <td>6.000</td>\n",
       "      <td>3.500</td>\n",
       "      <td>3.500</td>\n",
       "      <td>1.871</td>\n",
       "      <td>6.000</td>\n",
       "      <td>103.400</td>\n",
       "      <td>39.200</td>\n",
       "      <td>26.400</td>\n",
       "      <td>5.200</td>\n",
       "      <td>29.506</td>\n",
       "      <td>1189.000</td>\n",
       "      <td>760.000</td>\n",
       "      <td>737.500</td>\n",
       "      <td>582.000</td>\n",
       "      <td>254.650</td>\n",
       "    </tr>\n",
       "    <tr>\n",
       "      <th>max</th>\n",
       "      <td>1314.000</td>\n",
       "      <td>657.500</td>\n",
       "      <td>657.500</td>\n",
       "      <td>379.463</td>\n",
       "      <td>1314.000</td>\n",
       "      <td>3957.500</td>\n",
       "      <td>2780.500</td>\n",
       "      <td>2780.500</td>\n",
       "      <td>2780.500</td>\n",
       "      <td>1463.401</td>\n",
       "      <td>23500.000</td>\n",
       "      <td>23500.000</td>\n",
       "      <td>23500.000</td>\n",
       "      <td>23500.000</td>\n",
       "      <td>15247.626</td>\n",
       "    </tr>\n",
       "  </tbody>\n",
       "</table>\n",
       "</div>"
      ],
      "text/plain": [
       "       clnt_buys_count_max  clnt_buys_count_mean  clnt_buys_count_median  \\\n",
       "count           255109.000            255109.000              255109.000   \n",
       "mean                 9.296                 5.148                   5.148   \n",
       "std                 23.156                11.578                  11.578   \n",
       "min                  1.000                 1.000                   1.000   \n",
       "25%                  1.000                 1.000                   1.000   \n",
       "50%                  2.000                 1.500                   1.500   \n",
       "75%                  6.000                 3.500                   3.500   \n",
       "max               1314.000               657.500                 657.500   \n",
       "\n",
       "       clnt_buys_count_std  date_count  gest_Discount_max  gest_Discount_mean  \\\n",
       "count           255109.000  255109.000         255109.000          255109.000   \n",
       "mean                 2.645       9.296             96.011              46.174   \n",
       "std                  6.752      23.156            185.499             138.910   \n",
       "min                  0.000       1.000              0.000               0.000   \n",
       "25%                  0.000       1.000              0.000               0.000   \n",
       "50%                  0.707       2.000             26.800              11.213   \n",
       "75%                  1.871       6.000            103.400              39.200   \n",
       "max                379.463    1314.000           3957.500            2780.500   \n",
       "\n",
       "       gest_Discount_median  gest_Discount_min  gest_Discount_std  \\\n",
       "count            255109.000         255109.000         255109.000   \n",
       "mean                 40.298             30.937             21.568   \n",
       "std                 139.234            137.689             46.447   \n",
       "min                   0.000              0.000              0.000   \n",
       "25%                   0.000              0.000              0.000   \n",
       "50%                   0.000              0.000              0.000   \n",
       "75%                  26.400              5.200             29.506   \n",
       "max                2780.500           2780.500           1463.401   \n",
       "\n",
       "       gest_Sum_max  gest_Sum_mean  gest_Sum_median  gest_Sum_min  \\\n",
       "count    255109.000     255109.000       255109.000    255109.000   \n",
       "mean        885.385        609.003          586.838       449.685   \n",
       "std         724.995        538.335          543.737       553.309   \n",
       "min           0.000          0.000            0.000         0.000   \n",
       "25%         408.900        295.000          268.000       118.000   \n",
       "50%         728.000        470.171          438.000       260.000   \n",
       "75%        1189.000        760.000          737.500       582.000   \n",
       "max       23500.000      23500.000        23500.000     23500.000   \n",
       "\n",
       "       gest_Sum_std  \n",
       "count    255109.000  \n",
       "mean        161.768  \n",
       "std         244.786  \n",
       "min           0.000  \n",
       "25%           0.000  \n",
       "50%          77.737  \n",
       "75%         254.650  \n",
       "max       15247.626  "
      ]
     },
     "execution_count": 178,
     "metadata": {},
     "output_type": "execute_result"
    }
   ],
   "source": [
    "pivot_baseline.describe()"
   ]
  },
  {
   "cell_type": "code",
   "execution_count": 164,
   "id": "e5aff532-c9c9-4c68-b96c-03c8bd432f73",
   "metadata": {},
   "outputs": [
    {
     "data": {
      "text/plain": [
       "clnt_buys_count  max       0\n",
       "                 mean      0\n",
       "                 median    0\n",
       "                 min       0\n",
       "                 std       0\n",
       "date             count     0\n",
       "gest_Discount    max       0\n",
       "                 mean      0\n",
       "                 median    0\n",
       "                 min       0\n",
       "                 std       0\n",
       "gest_Sum         max       0\n",
       "                 mean      0\n",
       "                 median    0\n",
       "                 min       0\n",
       "                 std       0\n",
       "dtype: int64"
      ]
     },
     "execution_count": 164,
     "metadata": {},
     "output_type": "execute_result"
    }
   ],
   "source": [
    "pivot_baseline.isna().sum()"
   ]
  },
  {
   "cell_type": "code",
   "execution_count": 181,
   "id": "d2c6f7a6-7d9b-48c0-b8af-b535002c05aa",
   "metadata": {},
   "outputs": [],
   "source": [
    "# pivot_baseline_full = pivot_baseline.join(df_target)\n",
    "pivot_baseline_full = pivot_baseline.merge(df_target,on='clnt_ID')"
   ]
  },
  {
   "cell_type": "code",
   "execution_count": 183,
   "id": "4e9757df-c546-4396-8938-aa020980981c",
   "metadata": {},
   "outputs": [
    {
     "data": {
      "text/html": [
       "<div>\n",
       "<style scoped>\n",
       "    .dataframe tbody tr th:only-of-type {\n",
       "        vertical-align: middle;\n",
       "    }\n",
       "\n",
       "    .dataframe tbody tr th {\n",
       "        vertical-align: top;\n",
       "    }\n",
       "\n",
       "    .dataframe thead th {\n",
       "        text-align: right;\n",
       "    }\n",
       "</style>\n",
       "<table border=\"1\" class=\"dataframe\">\n",
       "  <thead>\n",
       "    <tr style=\"text-align: right;\">\n",
       "      <th></th>\n",
       "      <th>clnt_buys_count_max</th>\n",
       "      <th>clnt_buys_count_mean</th>\n",
       "      <th>clnt_buys_count_median</th>\n",
       "      <th>clnt_buys_count_std</th>\n",
       "      <th>date_count</th>\n",
       "      <th>gest_Discount_max</th>\n",
       "      <th>gest_Discount_mean</th>\n",
       "      <th>gest_Discount_median</th>\n",
       "      <th>gest_Discount_min</th>\n",
       "      <th>gest_Discount_std</th>\n",
       "      <th>gest_Sum_max</th>\n",
       "      <th>gest_Sum_mean</th>\n",
       "      <th>gest_Sum_median</th>\n",
       "      <th>gest_Sum_min</th>\n",
       "      <th>gest_Sum_std</th>\n",
       "      <th>target</th>\n",
       "    </tr>\n",
       "  </thead>\n",
       "  <tbody>\n",
       "    <tr>\n",
       "      <th>0</th>\n",
       "      <td>3</td>\n",
       "      <td>2.000</td>\n",
       "      <td>2.000</td>\n",
       "      <td>1.000</td>\n",
       "      <td>3</td>\n",
       "      <td>44.800</td>\n",
       "      <td>21.800</td>\n",
       "      <td>10.600</td>\n",
       "      <td>10.000</td>\n",
       "      <td>19.921</td>\n",
       "      <td>566.200</td>\n",
       "      <td>525.200</td>\n",
       "      <td>519.400</td>\n",
       "      <td>490.000</td>\n",
       "      <td>38.430</td>\n",
       "      <td>1</td>\n",
       "    </tr>\n",
       "    <tr>\n",
       "      <th>1</th>\n",
       "      <td>1</td>\n",
       "      <td>1.000</td>\n",
       "      <td>1.000</td>\n",
       "      <td>0.000</td>\n",
       "      <td>1</td>\n",
       "      <td>6.000</td>\n",
       "      <td>6.000</td>\n",
       "      <td>6.000</td>\n",
       "      <td>6.000</td>\n",
       "      <td>0.000</td>\n",
       "      <td>214.000</td>\n",
       "      <td>214.000</td>\n",
       "      <td>214.000</td>\n",
       "      <td>214.000</td>\n",
       "      <td>0.000</td>\n",
       "      <td>0</td>\n",
       "    </tr>\n",
       "    <tr>\n",
       "      <th>2</th>\n",
       "      <td>1</td>\n",
       "      <td>1.000</td>\n",
       "      <td>1.000</td>\n",
       "      <td>0.000</td>\n",
       "      <td>1</td>\n",
       "      <td>0.000</td>\n",
       "      <td>0.000</td>\n",
       "      <td>0.000</td>\n",
       "      <td>0.000</td>\n",
       "      <td>0.000</td>\n",
       "      <td>470.000</td>\n",
       "      <td>470.000</td>\n",
       "      <td>470.000</td>\n",
       "      <td>470.000</td>\n",
       "      <td>0.000</td>\n",
       "      <td>1</td>\n",
       "    </tr>\n",
       "    <tr>\n",
       "      <th>3</th>\n",
       "      <td>64</td>\n",
       "      <td>32.500</td>\n",
       "      <td>32.500</td>\n",
       "      <td>18.619</td>\n",
       "      <td>64</td>\n",
       "      <td>280.800</td>\n",
       "      <td>31.162</td>\n",
       "      <td>8.550</td>\n",
       "      <td>0.000</td>\n",
       "      <td>62.320</td>\n",
       "      <td>562.600</td>\n",
       "      <td>274.228</td>\n",
       "      <td>260.550</td>\n",
       "      <td>0.000</td>\n",
       "      <td>118.275</td>\n",
       "      <td>0</td>\n",
       "    </tr>\n",
       "    <tr>\n",
       "      <th>4</th>\n",
       "      <td>1</td>\n",
       "      <td>1.000</td>\n",
       "      <td>1.000</td>\n",
       "      <td>0.000</td>\n",
       "      <td>1</td>\n",
       "      <td>0.000</td>\n",
       "      <td>0.000</td>\n",
       "      <td>0.000</td>\n",
       "      <td>0.000</td>\n",
       "      <td>0.000</td>\n",
       "      <td>549.000</td>\n",
       "      <td>549.000</td>\n",
       "      <td>549.000</td>\n",
       "      <td>549.000</td>\n",
       "      <td>0.000</td>\n",
       "      <td>0</td>\n",
       "    </tr>\n",
       "  </tbody>\n",
       "</table>\n",
       "</div>"
      ],
      "text/plain": [
       "   clnt_buys_count_max  clnt_buys_count_mean  clnt_buys_count_median  \\\n",
       "0                    3                 2.000                   2.000   \n",
       "1                    1                 1.000                   1.000   \n",
       "2                    1                 1.000                   1.000   \n",
       "3                   64                32.500                  32.500   \n",
       "4                    1                 1.000                   1.000   \n",
       "\n",
       "   clnt_buys_count_std  date_count  gest_Discount_max  gest_Discount_mean  \\\n",
       "0                1.000           3             44.800              21.800   \n",
       "1                0.000           1              6.000               6.000   \n",
       "2                0.000           1              0.000               0.000   \n",
       "3               18.619          64            280.800              31.162   \n",
       "4                0.000           1              0.000               0.000   \n",
       "\n",
       "   gest_Discount_median  gest_Discount_min  gest_Discount_std  gest_Sum_max  \\\n",
       "0                10.600             10.000             19.921       566.200   \n",
       "1                 6.000              6.000              0.000       214.000   \n",
       "2                 0.000              0.000              0.000       470.000   \n",
       "3                 8.550              0.000             62.320       562.600   \n",
       "4                 0.000              0.000              0.000       549.000   \n",
       "\n",
       "   gest_Sum_mean  gest_Sum_median  gest_Sum_min  gest_Sum_std  target  \n",
       "0        525.200          519.400       490.000        38.430       1  \n",
       "1        214.000          214.000       214.000         0.000       0  \n",
       "2        470.000          470.000       470.000         0.000       1  \n",
       "3        274.228          260.550         0.000       118.275       0  \n",
       "4        549.000          549.000       549.000         0.000       0  "
      ]
     },
     "execution_count": 183,
     "metadata": {},
     "output_type": "execute_result"
    }
   ],
   "source": [
    "pivot_baseline_full = pivot_baseline_full.drop(columns=['clnt_ID'])\n",
    "pivot_baseline_full.head()"
   ]
  },
  {
   "cell_type": "code",
   "execution_count": 184,
   "id": "d01b9c33-6260-4ea6-9f1d-6f8b95926dda",
   "metadata": {},
   "outputs": [],
   "source": [
    "X = pivot_baseline_full.drop(columns=['target'])\n",
    "y = pivot_baseline_full['target']"
   ]
  },
  {
   "cell_type": "code",
   "execution_count": 185,
   "id": "f80c3966-2bfc-4afc-8b59-74ac8b8dad36",
   "metadata": {},
   "outputs": [
    {
     "data": {
      "text/html": [
       "<div>\n",
       "<style scoped>\n",
       "    .dataframe tbody tr th:only-of-type {\n",
       "        vertical-align: middle;\n",
       "    }\n",
       "\n",
       "    .dataframe tbody tr th {\n",
       "        vertical-align: top;\n",
       "    }\n",
       "\n",
       "    .dataframe thead th {\n",
       "        text-align: right;\n",
       "    }\n",
       "</style>\n",
       "<table border=\"1\" class=\"dataframe\">\n",
       "  <thead>\n",
       "    <tr style=\"text-align: right;\">\n",
       "      <th></th>\n",
       "      <th>clnt_buys_count_max</th>\n",
       "      <th>clnt_buys_count_mean</th>\n",
       "      <th>clnt_buys_count_median</th>\n",
       "      <th>clnt_buys_count_std</th>\n",
       "      <th>date_count</th>\n",
       "      <th>gest_Discount_max</th>\n",
       "      <th>gest_Discount_mean</th>\n",
       "      <th>gest_Discount_median</th>\n",
       "      <th>gest_Discount_min</th>\n",
       "      <th>gest_Discount_std</th>\n",
       "      <th>gest_Sum_max</th>\n",
       "      <th>gest_Sum_mean</th>\n",
       "      <th>gest_Sum_median</th>\n",
       "      <th>gest_Sum_min</th>\n",
       "      <th>gest_Sum_std</th>\n",
       "    </tr>\n",
       "  </thead>\n",
       "  <tbody>\n",
       "    <tr>\n",
       "      <th>0</th>\n",
       "      <td>3</td>\n",
       "      <td>2.000</td>\n",
       "      <td>2.000</td>\n",
       "      <td>1.000</td>\n",
       "      <td>3</td>\n",
       "      <td>44.800</td>\n",
       "      <td>21.800</td>\n",
       "      <td>10.600</td>\n",
       "      <td>10.000</td>\n",
       "      <td>19.921</td>\n",
       "      <td>566.200</td>\n",
       "      <td>525.200</td>\n",
       "      <td>519.400</td>\n",
       "      <td>490.000</td>\n",
       "      <td>38.430</td>\n",
       "    </tr>\n",
       "    <tr>\n",
       "      <th>1</th>\n",
       "      <td>1</td>\n",
       "      <td>1.000</td>\n",
       "      <td>1.000</td>\n",
       "      <td>0.000</td>\n",
       "      <td>1</td>\n",
       "      <td>6.000</td>\n",
       "      <td>6.000</td>\n",
       "      <td>6.000</td>\n",
       "      <td>6.000</td>\n",
       "      <td>0.000</td>\n",
       "      <td>214.000</td>\n",
       "      <td>214.000</td>\n",
       "      <td>214.000</td>\n",
       "      <td>214.000</td>\n",
       "      <td>0.000</td>\n",
       "    </tr>\n",
       "    <tr>\n",
       "      <th>2</th>\n",
       "      <td>1</td>\n",
       "      <td>1.000</td>\n",
       "      <td>1.000</td>\n",
       "      <td>0.000</td>\n",
       "      <td>1</td>\n",
       "      <td>0.000</td>\n",
       "      <td>0.000</td>\n",
       "      <td>0.000</td>\n",
       "      <td>0.000</td>\n",
       "      <td>0.000</td>\n",
       "      <td>470.000</td>\n",
       "      <td>470.000</td>\n",
       "      <td>470.000</td>\n",
       "      <td>470.000</td>\n",
       "      <td>0.000</td>\n",
       "    </tr>\n",
       "    <tr>\n",
       "      <th>3</th>\n",
       "      <td>64</td>\n",
       "      <td>32.500</td>\n",
       "      <td>32.500</td>\n",
       "      <td>18.619</td>\n",
       "      <td>64</td>\n",
       "      <td>280.800</td>\n",
       "      <td>31.162</td>\n",
       "      <td>8.550</td>\n",
       "      <td>0.000</td>\n",
       "      <td>62.320</td>\n",
       "      <td>562.600</td>\n",
       "      <td>274.228</td>\n",
       "      <td>260.550</td>\n",
       "      <td>0.000</td>\n",
       "      <td>118.275</td>\n",
       "    </tr>\n",
       "    <tr>\n",
       "      <th>4</th>\n",
       "      <td>1</td>\n",
       "      <td>1.000</td>\n",
       "      <td>1.000</td>\n",
       "      <td>0.000</td>\n",
       "      <td>1</td>\n",
       "      <td>0.000</td>\n",
       "      <td>0.000</td>\n",
       "      <td>0.000</td>\n",
       "      <td>0.000</td>\n",
       "      <td>0.000</td>\n",
       "      <td>549.000</td>\n",
       "      <td>549.000</td>\n",
       "      <td>549.000</td>\n",
       "      <td>549.000</td>\n",
       "      <td>0.000</td>\n",
       "    </tr>\n",
       "  </tbody>\n",
       "</table>\n",
       "</div>"
      ],
      "text/plain": [
       "   clnt_buys_count_max  clnt_buys_count_mean  clnt_buys_count_median  \\\n",
       "0                    3                 2.000                   2.000   \n",
       "1                    1                 1.000                   1.000   \n",
       "2                    1                 1.000                   1.000   \n",
       "3                   64                32.500                  32.500   \n",
       "4                    1                 1.000                   1.000   \n",
       "\n",
       "   clnt_buys_count_std  date_count  gest_Discount_max  gest_Discount_mean  \\\n",
       "0                1.000           3             44.800              21.800   \n",
       "1                0.000           1              6.000               6.000   \n",
       "2                0.000           1              0.000               0.000   \n",
       "3               18.619          64            280.800              31.162   \n",
       "4                0.000           1              0.000               0.000   \n",
       "\n",
       "   gest_Discount_median  gest_Discount_min  gest_Discount_std  gest_Sum_max  \\\n",
       "0                10.600             10.000             19.921       566.200   \n",
       "1                 6.000              6.000              0.000       214.000   \n",
       "2                 0.000              0.000              0.000       470.000   \n",
       "3                 8.550              0.000             62.320       562.600   \n",
       "4                 0.000              0.000              0.000       549.000   \n",
       "\n",
       "   gest_Sum_mean  gest_Sum_median  gest_Sum_min  gest_Sum_std  \n",
       "0        525.200          519.400       490.000        38.430  \n",
       "1        214.000          214.000       214.000         0.000  \n",
       "2        470.000          470.000       470.000         0.000  \n",
       "3        274.228          260.550         0.000       118.275  \n",
       "4        549.000          549.000       549.000         0.000  "
      ]
     },
     "execution_count": 185,
     "metadata": {},
     "output_type": "execute_result"
    }
   ],
   "source": [
    "X.head()"
   ]
  },
  {
   "cell_type": "code",
   "execution_count": 186,
   "id": "634430ba-ea7a-4350-a224-2aea6b0fdc0d",
   "metadata": {},
   "outputs": [
    {
     "data": {
      "text/plain": [
       "0    1\n",
       "1    0\n",
       "2    1\n",
       "3    0\n",
       "4    0\n",
       "Name: target, dtype: int64"
      ]
     },
     "execution_count": 186,
     "metadata": {},
     "output_type": "execute_result"
    }
   ],
   "source": [
    "y.head()"
   ]
  },
  {
   "cell_type": "code",
   "execution_count": 203,
   "id": "60fb5f2f-6b90-46ab-bc64-3ebc1b6c1587",
   "metadata": {},
   "outputs": [
    {
     "name": "stderr",
     "output_type": "stream",
     "text": [
      "c:\\Users\\SnakeRZR\\Desktop\\sample_project_1\\enc\\lib\\site-packages\\sklearn\\linear_model\\_logistic.py:814: ConvergenceWarning: lbfgs failed to converge (status=1):\n",
      "STOP: TOTAL NO. of ITERATIONS REACHED LIMIT.\n",
      "\n",
      "Increase the number of iterations (max_iter) or scale the data as shown in:\n",
      "    https://scikit-learn.org/stable/modules/preprocessing.html\n",
      "Please also refer to the documentation for alternative solver options:\n",
      "    https://scikit-learn.org/stable/modules/linear_model.html#logistic-regression\n",
      "  n_iter_i = _check_optimize_result(\n",
      "c:\\Users\\SnakeRZR\\Desktop\\sample_project_1\\enc\\lib\\site-packages\\sklearn\\linear_model\\_logistic.py:814: ConvergenceWarning: lbfgs failed to converge (status=1):\n",
      "STOP: TOTAL NO. of ITERATIONS REACHED LIMIT.\n",
      "\n",
      "Increase the number of iterations (max_iter) or scale the data as shown in:\n",
      "    https://scikit-learn.org/stable/modules/preprocessing.html\n",
      "Please also refer to the documentation for alternative solver options:\n",
      "    https://scikit-learn.org/stable/modules/linear_model.html#logistic-regression\n",
      "  n_iter_i = _check_optimize_result(\n",
      "c:\\Users\\SnakeRZR\\Desktop\\sample_project_1\\enc\\lib\\site-packages\\sklearn\\linear_model\\_logistic.py:814: ConvergenceWarning: lbfgs failed to converge (status=1):\n",
      "STOP: TOTAL NO. of ITERATIONS REACHED LIMIT.\n",
      "\n",
      "Increase the number of iterations (max_iter) or scale the data as shown in:\n",
      "    https://scikit-learn.org/stable/modules/preprocessing.html\n",
      "Please also refer to the documentation for alternative solver options:\n",
      "    https://scikit-learn.org/stable/modules/linear_model.html#logistic-regression\n",
      "  n_iter_i = _check_optimize_result(\n",
      "c:\\Users\\SnakeRZR\\Desktop\\sample_project_1\\enc\\lib\\site-packages\\sklearn\\linear_model\\_logistic.py:814: ConvergenceWarning: lbfgs failed to converge (status=1):\n",
      "STOP: TOTAL NO. of ITERATIONS REACHED LIMIT.\n",
      "\n",
      "Increase the number of iterations (max_iter) or scale the data as shown in:\n",
      "    https://scikit-learn.org/stable/modules/preprocessing.html\n",
      "Please also refer to the documentation for alternative solver options:\n",
      "    https://scikit-learn.org/stable/modules/linear_model.html#logistic-regression\n",
      "  n_iter_i = _check_optimize_result(\n",
      "c:\\Users\\SnakeRZR\\Desktop\\sample_project_1\\enc\\lib\\site-packages\\sklearn\\linear_model\\_logistic.py:814: ConvergenceWarning: lbfgs failed to converge (status=1):\n",
      "STOP: TOTAL NO. of ITERATIONS REACHED LIMIT.\n",
      "\n",
      "Increase the number of iterations (max_iter) or scale the data as shown in:\n",
      "    https://scikit-learn.org/stable/modules/preprocessing.html\n",
      "Please also refer to the documentation for alternative solver options:\n",
      "    https://scikit-learn.org/stable/modules/linear_model.html#logistic-regression\n",
      "  n_iter_i = _check_optimize_result(\n"
     ]
    }
   ],
   "source": [
    "log_reg = LogisticRegression()\n",
    "log_reg_cv = cross_validate(log_reg, X, y, cv=5, scoring='f1')"
   ]
  },
  {
   "cell_type": "code",
   "execution_count": 206,
   "id": "bc199100-56db-4eb2-a4e3-167a78f65fc1",
   "metadata": {},
   "outputs": [],
   "source": [
    "tree = DecisionTreeClassifier()\n",
    "tree_cv = cross_validate(tree,X,y,cv=5,scoring='f1')"
   ]
  },
  {
   "cell_type": "code",
   "execution_count": 207,
   "id": "0c281d87-dae3-4f7b-abd9-42ec653c2e43",
   "metadata": {},
   "outputs": [],
   "source": [
    "forest = RandomForestClassifier()\n",
    "forest_cv = cross_validate(forest,X,y,cv=5,scoring='f1')"
   ]
  },
  {
   "cell_type": "code",
   "execution_count": 209,
   "id": "d2ee4f22-656b-4084-ab39-98689c37597d",
   "metadata": {},
   "outputs": [
    {
     "data": {
      "text/plain": [
       "0.5824813921947174"
      ]
     },
     "execution_count": 209,
     "metadata": {},
     "output_type": "execute_result"
    }
   ],
   "source": [
    "tree_cv['test_score'].mean()"
   ]
  },
  {
   "cell_type": "code",
   "execution_count": 212,
   "id": "e105b64c-fec6-4241-bd79-44a8891509ea",
   "metadata": {},
   "outputs": [
    {
     "name": "stdout",
     "output_type": "stream",
     "text": [
      "log_reg_f1 = 0.49489292810094654 /n tree_f1 = 0.5824813921947174 /n forest_f1=0.6423907431852178\n"
     ]
    }
   ],
   "source": [
    "log_reg_f1 = log_reg_cv['test_score'].mean()\n",
    "tree_f1 = tree_cv['test_score'].mean()\n",
    "forest_f1 = forest_cv['test_score'].mean()\n",
    "print(f'log_reg_f1 = {log_reg_f1} /n tree_f1 = {tree_f1} /n forest_f1={forest_f1}')"
   ]
  }
 ],
 "metadata": {
  "kernelspec": {
   "display_name": "Python 3",
   "language": "python",
   "name": "python3"
  },
  "language_info": {
   "codemirror_mode": {
    "name": "ipython",
    "version": 3
   },
   "file_extension": ".py",
   "mimetype": "text/x-python",
   "name": "python",
   "nbconvert_exporter": "python",
   "pygments_lexer": "ipython3",
   "version": "3.9.5"
  }
 },
 "nbformat": 4,
 "nbformat_minor": 5
}
