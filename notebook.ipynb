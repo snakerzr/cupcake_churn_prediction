{
 "cells": [
  {
   "cell_type": "markdown",
   "id": "0e918b3b-b82d-4491-a266-f1204a6a60aa",
   "metadata": {},
   "source": [
    "Для прогнозирования используются данные о покупках юзеров за период 2021 года. Всего доступно больше 2 млн. строк.\n",
    "\n",
    "Флаг оттока проставляется, если после покупки юзера прошло больше 45 дней.\n",
    "\n",
    "Поведение юзера описывается историей его покупок, суммой чека и размером скидки к чеку. В компании действует программа лояльности, участвуя в которой юзеры получают скидку на любую покупку и могут получать дополнительные скидки по разным промо-акциями.\n",
    "\n",
    "Описание данных:\n",
    "data.csv\n",
    "* `'clnt_ID'` - уникальный айди юзера, str\n",
    "* `'timestamp'` - дата и время совершения покупки, datetime\n",
    "* `'gest_Sum'` - сумма покупки, float\n",
    "* `'gest_Discount'` - сумма скидки, float\n",
    "\n",
    "target.csv\n",
    "* `'clnt_ID'` - уникальный айди юзера, str\n",
    "* `'target'` - флаг оттока, int: 1 если юзер ушел в отток | 0 если НЕ отток"
   ]
  },
  {
   "cell_type": "markdown",
   "id": "c84a5095-84e0-48d0-86b1-8abf69d3a4e0",
   "metadata": {},
   "source": [
    "# Что здесь можно сделать? - Заметки \n",
    "**Нужно помнить, что по сути это тайм серия.**  \n",
    "Т.е. я предполагаю, что клиент покупает, покупает, покупает, потом фигак и перестал покупать. Один клиент - один вектор.\n",
    "А тут куча вектором принадлежат одному клиенту. \n",
    "\n",
    "Т.е. я бы даже сказал, что в том виде в котором оно есть, модель особо-то ничего не найдет. Как она сможет по дате, сумме покупки и скидке предсказать уйдет человек или нет, не зная его истории?\n",
    "\n",
    "**Что может говорить, что клиент собрался уйти и не вернуться?**  \n",
    "Т.е. гипотетически что может говорить о том, что клиент собирается уйти и не вернуться?\n",
    "1. Увеличивается интервал между покупками от покупки к покупке. Типа 1 день, потом 2, потом 5 и т.д.\n",
    "2. Как-то изменяется объем чека (уменьшается, увеличивается?) \n",
    "3. Как-то меняется ассортимент (типа вот он покупал одно и тоже, а тут вдруг перестал покупать одно и тоже (испортился товар на его вкус) и он либо сразу ушел, либо попробовал другое и остался, либо попробовал другое - ему не понравилось - ушел\n",
    "\n",
    "**Как должен работать предикт? Какие данные должны поступать на вход?**  \n",
    "Это видимо тоже относится к тому, что это своего рода таймсерия\n",
    "\n",
    "**Если сейчас дать модели на вход просто дату, сумму чека и скидку...**  \n",
    "То она будет пытаться предсказать отток исключительно по дате, сумме чеку и скидке - врядли у нее что-то получится взразумительное.\n",
    "\n",
    "\n",
    "**Сумма в месяц стабильна для юзера, а отклонение может указывать на отток**  \n",
    "По результатам уже проведенного анализа есть такой вывод:\n",
    "сумма, которую готов тратить юзер в месяц,  достаточна стабильна и слабо меняется со временем. Потратив в этом месяце больше обычного, юзер скорее всего в следующем не будет покупать;\n",
    "\n",
    "По каждому клиенту взять средний чек, каким-то образом определить порог отклонения от этого среднего чека и посмотреть насколько факт этого отклонения коррелирует с оттоком. Может это будет хорошая фича. Но проблема в том, что для предсказания не достаточно \n",
    "\n",
    "**Самый простой и очевидный способ подготовки данных**\n",
    "Это взять по каждому клиенту кол-во покупок, min,max,mean,median,stdev по gest_Sum, gest_Discount, и перерывом между покупками"
   ]
  },
  {
   "cell_type": "code",
   "execution_count": 1,
   "id": "cf9e2794-3933-48dd-9665-87d7ea6f5f13",
   "metadata": {},
   "outputs": [],
   "source": [
    "import numpy as np\n",
    "import pandas as pd\n",
    "\n",
    "import matplotlib.pyplot as plt\n",
    "import seaborn as sns"
   ]
  },
  {
   "cell_type": "code",
   "execution_count": 2,
   "id": "f049c0bd-bb38-4983-8627-8f10200cd4f1",
   "metadata": {},
   "outputs": [],
   "source": [
    "pd.set_option('display.max_rows', 100)"
   ]
  },
  {
   "cell_type": "code",
   "execution_count": 3,
   "id": "4215629b-2bbb-424b-b874-7ce4c61f5c21",
   "metadata": {},
   "outputs": [],
   "source": [
    "df = pd.read_csv('data/data.csv')\n",
    "df_target = pd.read_csv('data/target.csv')"
   ]
  },
  {
   "cell_type": "code",
   "execution_count": 4,
   "id": "a727e5a4-5600-4f31-acb2-68b05ebf84a5",
   "metadata": {},
   "outputs": [
    {
     "data": {
      "text/html": [
       "<div>\n",
       "<style scoped>\n",
       "    .dataframe tbody tr th:only-of-type {\n",
       "        vertical-align: middle;\n",
       "    }\n",
       "\n",
       "    .dataframe tbody tr th {\n",
       "        vertical-align: top;\n",
       "    }\n",
       "\n",
       "    .dataframe thead th {\n",
       "        text-align: right;\n",
       "    }\n",
       "</style>\n",
       "<table border=\"1\" class=\"dataframe\">\n",
       "  <thead>\n",
       "    <tr style=\"text-align: right;\">\n",
       "      <th></th>\n",
       "      <th>clnt_ID</th>\n",
       "      <th>timestamp</th>\n",
       "      <th>gest_Sum</th>\n",
       "      <th>gest_Discount</th>\n",
       "    </tr>\n",
       "  </thead>\n",
       "  <tbody>\n",
       "    <tr>\n",
       "      <th>0</th>\n",
       "      <td>193B4268-0B4A-475E-B1D0-FF5515E29D29</td>\n",
       "      <td>2021-01-02 09:09:17.060</td>\n",
       "      <td>900.000000</td>\n",
       "      <td>300.0</td>\n",
       "    </tr>\n",
       "    <tr>\n",
       "      <th>1</th>\n",
       "      <td>8DA65A37-C1D0-41D4-98E1-AB6C5BF1367F</td>\n",
       "      <td>2021-01-02 09:12:24.850</td>\n",
       "      <td>165.000000</td>\n",
       "      <td>55.0</td>\n",
       "    </tr>\n",
       "    <tr>\n",
       "      <th>2</th>\n",
       "      <td>26ACF3C8-25C8-4345-ABC2-33DA15EA6454</td>\n",
       "      <td>2021-01-02 09:38:21.643</td>\n",
       "      <td>800.500000</td>\n",
       "      <td>25.5</td>\n",
       "    </tr>\n",
       "    <tr>\n",
       "      <th>3</th>\n",
       "      <td>0F77DDB3-A9A7-44BE-AAAB-9DF59B66A695</td>\n",
       "      <td>2021-01-02 09:45:17.793</td>\n",
       "      <td>580.000000</td>\n",
       "      <td>0.0</td>\n",
       "    </tr>\n",
       "    <tr>\n",
       "      <th>4</th>\n",
       "      <td>F16BCF77-FA5A-4093-B7E3-FA86E2B1EA31</td>\n",
       "      <td>2021-01-02 09:59:50.453</td>\n",
       "      <td>148.899994</td>\n",
       "      <td>3.1</td>\n",
       "    </tr>\n",
       "  </tbody>\n",
       "</table>\n",
       "</div>"
      ],
      "text/plain": [
       "                                clnt_ID                timestamp    gest_Sum  \\\n",
       "0  193B4268-0B4A-475E-B1D0-FF5515E29D29  2021-01-02 09:09:17.060  900.000000   \n",
       "1  8DA65A37-C1D0-41D4-98E1-AB6C5BF1367F  2021-01-02 09:12:24.850  165.000000   \n",
       "2  26ACF3C8-25C8-4345-ABC2-33DA15EA6454  2021-01-02 09:38:21.643  800.500000   \n",
       "3  0F77DDB3-A9A7-44BE-AAAB-9DF59B66A695  2021-01-02 09:45:17.793  580.000000   \n",
       "4  F16BCF77-FA5A-4093-B7E3-FA86E2B1EA31  2021-01-02 09:59:50.453  148.899994   \n",
       "\n",
       "   gest_Discount  \n",
       "0          300.0  \n",
       "1           55.0  \n",
       "2           25.5  \n",
       "3            0.0  \n",
       "4            3.1  "
      ]
     },
     "metadata": {},
     "output_type": "display_data"
    },
    {
     "data": {
      "text/html": [
       "<div>\n",
       "<style scoped>\n",
       "    .dataframe tbody tr th:only-of-type {\n",
       "        vertical-align: middle;\n",
       "    }\n",
       "\n",
       "    .dataframe tbody tr th {\n",
       "        vertical-align: top;\n",
       "    }\n",
       "\n",
       "    .dataframe thead th {\n",
       "        text-align: right;\n",
       "    }\n",
       "</style>\n",
       "<table border=\"1\" class=\"dataframe\">\n",
       "  <thead>\n",
       "    <tr style=\"text-align: right;\">\n",
       "      <th></th>\n",
       "      <th>clnt_ID</th>\n",
       "      <th>target</th>\n",
       "    </tr>\n",
       "  </thead>\n",
       "  <tbody>\n",
       "    <tr>\n",
       "      <th>0</th>\n",
       "      <td>000070A8-DB9E-4AB7-8C4D-6169D4AEBB2A</td>\n",
       "      <td>1</td>\n",
       "    </tr>\n",
       "    <tr>\n",
       "      <th>1</th>\n",
       "      <td>00007EB0-6331-438E-A917-E9840C260876</td>\n",
       "      <td>0</td>\n",
       "    </tr>\n",
       "    <tr>\n",
       "      <th>2</th>\n",
       "      <td>0000993D-A30E-4233-AB3F-D368D9A0D2C4</td>\n",
       "      <td>1</td>\n",
       "    </tr>\n",
       "    <tr>\n",
       "      <th>3</th>\n",
       "      <td>0000A724-7BC5-408F-9F16-6CC3AB16322F</td>\n",
       "      <td>0</td>\n",
       "    </tr>\n",
       "    <tr>\n",
       "      <th>4</th>\n",
       "      <td>0000B90C-56DE-43C2-A213-624AFBE36DB2</td>\n",
       "      <td>0</td>\n",
       "    </tr>\n",
       "  </tbody>\n",
       "</table>\n",
       "</div>"
      ],
      "text/plain": [
       "                                clnt_ID  target\n",
       "0  000070A8-DB9E-4AB7-8C4D-6169D4AEBB2A       1\n",
       "1  00007EB0-6331-438E-A917-E9840C260876       0\n",
       "2  0000993D-A30E-4233-AB3F-D368D9A0D2C4       1\n",
       "3  0000A724-7BC5-408F-9F16-6CC3AB16322F       0\n",
       "4  0000B90C-56DE-43C2-A213-624AFBE36DB2       0"
      ]
     },
     "execution_count": 4,
     "metadata": {},
     "output_type": "execute_result"
    }
   ],
   "source": [
    "display(df.head())\n",
    "df_target.head()"
   ]
  },
  {
   "cell_type": "markdown",
   "id": "bee94788-bcf3-48c4-81d2-2a1cabebfab1",
   "metadata": {},
   "source": [
    "### Предобработка датасетов"
   ]
  },
  {
   "cell_type": "code",
   "execution_count": 5,
   "id": "ff02bd9e-7e24-4993-9166-7b00c6c520d6",
   "metadata": {},
   "outputs": [
    {
     "name": "stdout",
     "output_type": "stream",
     "text": [
      "<class 'pandas.core.frame.DataFrame'>\n",
      "RangeIndex: 2371635 entries, 0 to 2371634\n",
      "Data columns (total 4 columns):\n",
      " #   Column         Dtype  \n",
      "---  ------         -----  \n",
      " 0   clnt_ID        object \n",
      " 1   timestamp      object \n",
      " 2   gest_Sum       float64\n",
      " 3   gest_Discount  float64\n",
      "dtypes: float64(2), object(2)\n",
      "memory usage: 72.4+ MB\n"
     ]
    }
   ],
   "source": [
    "df.info()"
   ]
  },
  {
   "cell_type": "code",
   "execution_count": 6,
   "id": "44769d36-e3d7-4d70-90bf-eca19c73db1a",
   "metadata": {},
   "outputs": [
    {
     "name": "stdout",
     "output_type": "stream",
     "text": [
      "<class 'pandas.core.frame.DataFrame'>\n",
      "RangeIndex: 255109 entries, 0 to 255108\n",
      "Data columns (total 2 columns):\n",
      " #   Column   Non-Null Count   Dtype \n",
      "---  ------   --------------   ----- \n",
      " 0   clnt_ID  255109 non-null  object\n",
      " 1   target   255109 non-null  int64 \n",
      "dtypes: int64(1), object(1)\n",
      "memory usage: 3.9+ MB\n"
     ]
    }
   ],
   "source": [
    "df_target.info()"
   ]
  },
  {
   "cell_type": "markdown",
   "id": "b579359f-9b1a-4616-aa45-8dff88f146de",
   "metadata": {},
   "source": [
    "* timestamp - object, а не datetime"
   ]
  },
  {
   "cell_type": "markdown",
   "id": "49681f41-5d18-4b77-b609-55b3be247820",
   "metadata": {},
   "source": [
    "Проверим на дубликаты и пропуски."
   ]
  },
  {
   "cell_type": "code",
   "execution_count": 7,
   "id": "36c228d5-a5af-4969-a339-1f4a5618bab1",
   "metadata": {},
   "outputs": [
    {
     "data": {
      "text/plain": [
       "clnt_ID          0\n",
       "timestamp        0\n",
       "gest_Sum         0\n",
       "gest_Discount    0\n",
       "dtype: int64"
      ]
     },
     "execution_count": 7,
     "metadata": {},
     "output_type": "execute_result"
    }
   ],
   "source": [
    "df.isna().sum()"
   ]
  },
  {
   "cell_type": "markdown",
   "id": "c3441290-9e5d-4555-b62a-a45c0f1e90c8",
   "metadata": {},
   "source": [
    "Пропусков нет."
   ]
  },
  {
   "cell_type": "code",
   "execution_count": 8,
   "id": "ea49f18b-7ab0-43b3-a771-9902f773d3c4",
   "metadata": {},
   "outputs": [
    {
     "data": {
      "text/plain": [
       "129"
      ]
     },
     "execution_count": 8,
     "metadata": {},
     "output_type": "execute_result"
    }
   ],
   "source": [
    "df.duplicated().sum()"
   ]
  },
  {
   "cell_type": "markdown",
   "id": "fdc39adf-b1ad-4708-a276-5ea256cc29f9",
   "metadata": {},
   "source": [
    "Есть дубликаты, посмотрим на них."
   ]
  },
  {
   "cell_type": "code",
   "execution_count": 9,
   "id": "2b237787-c308-4d89-869d-8335098aa370",
   "metadata": {
    "tags": []
   },
   "outputs": [
    {
     "data": {
      "text/html": [
       "<div>\n",
       "<style scoped>\n",
       "    .dataframe tbody tr th:only-of-type {\n",
       "        vertical-align: middle;\n",
       "    }\n",
       "\n",
       "    .dataframe tbody tr th {\n",
       "        vertical-align: top;\n",
       "    }\n",
       "\n",
       "    .dataframe thead th {\n",
       "        text-align: right;\n",
       "    }\n",
       "</style>\n",
       "<table border=\"1\" class=\"dataframe\">\n",
       "  <thead>\n",
       "    <tr style=\"text-align: right;\">\n",
       "      <th></th>\n",
       "      <th>clnt_ID</th>\n",
       "      <th>timestamp</th>\n",
       "      <th>gest_Sum</th>\n",
       "      <th>gest_Discount</th>\n",
       "    </tr>\n",
       "  </thead>\n",
       "  <tbody>\n",
       "    <tr>\n",
       "      <th>639</th>\n",
       "      <td>1FA367BD-8E07-437E-AB6A-009D53533128</td>\n",
       "      <td>2021-01-02 12:00:00.000</td>\n",
       "      <td>982.200012</td>\n",
       "      <td>0.000000</td>\n",
       "    </tr>\n",
       "    <tr>\n",
       "      <th>663</th>\n",
       "      <td>1FA367BD-8E07-437E-AB6A-009D53533128</td>\n",
       "      <td>2021-01-02 12:00:00.000</td>\n",
       "      <td>982.200012</td>\n",
       "      <td>0.000000</td>\n",
       "    </tr>\n",
       "    <tr>\n",
       "      <th>85786</th>\n",
       "      <td>3319362D-F6AD-498B-9B53-F59D0418915E</td>\n",
       "      <td>2021-01-14 14:00:00.000</td>\n",
       "      <td>1189.000000</td>\n",
       "      <td>0.000000</td>\n",
       "    </tr>\n",
       "    <tr>\n",
       "      <th>85787</th>\n",
       "      <td>3319362D-F6AD-498B-9B53-F59D0418915E</td>\n",
       "      <td>2021-01-14 14:00:00.000</td>\n",
       "      <td>1189.000000</td>\n",
       "      <td>0.000000</td>\n",
       "    </tr>\n",
       "    <tr>\n",
       "      <th>133279</th>\n",
       "      <td>A145C6F8-EDCB-47B1-BF5D-B328F6AF97CA</td>\n",
       "      <td>2021-01-20 16:00:00.000</td>\n",
       "      <td>0.000000</td>\n",
       "      <td>0.000000</td>\n",
       "    </tr>\n",
       "    <tr>\n",
       "      <th>...</th>\n",
       "      <td>...</td>\n",
       "      <td>...</td>\n",
       "      <td>...</td>\n",
       "      <td>...</td>\n",
       "    </tr>\n",
       "    <tr>\n",
       "      <th>2165277</th>\n",
       "      <td>E99EFF35-01BE-49A9-8F61-641F752051E5</td>\n",
       "      <td>2021-11-08 15:00:00.000</td>\n",
       "      <td>0.000000</td>\n",
       "      <td>0.000000</td>\n",
       "    </tr>\n",
       "    <tr>\n",
       "      <th>2174627</th>\n",
       "      <td>1A4C0239-A7AB-4188-84DB-8F52FBF6E13C</td>\n",
       "      <td>2021-11-10 11:00:00.000</td>\n",
       "      <td>282.239990</td>\n",
       "      <td>37.759998</td>\n",
       "    </tr>\n",
       "    <tr>\n",
       "      <th>2174629</th>\n",
       "      <td>1A4C0239-A7AB-4188-84DB-8F52FBF6E13C</td>\n",
       "      <td>2021-11-10 11:00:00.000</td>\n",
       "      <td>282.239990</td>\n",
       "      <td>37.759998</td>\n",
       "    </tr>\n",
       "    <tr>\n",
       "      <th>2198034</th>\n",
       "      <td>C9D86AF9-373C-4531-92A4-8FC752DD5D75</td>\n",
       "      <td>2021-11-14 12:00:00.000</td>\n",
       "      <td>0.000000</td>\n",
       "      <td>0.000000</td>\n",
       "    </tr>\n",
       "    <tr>\n",
       "      <th>2198035</th>\n",
       "      <td>C9D86AF9-373C-4531-92A4-8FC752DD5D75</td>\n",
       "      <td>2021-11-14 12:00:00.000</td>\n",
       "      <td>0.000000</td>\n",
       "      <td>0.000000</td>\n",
       "    </tr>\n",
       "  </tbody>\n",
       "</table>\n",
       "<p>225 rows × 4 columns</p>\n",
       "</div>"
      ],
      "text/plain": [
       "                                      clnt_ID                timestamp  \\\n",
       "639      1FA367BD-8E07-437E-AB6A-009D53533128  2021-01-02 12:00:00.000   \n",
       "663      1FA367BD-8E07-437E-AB6A-009D53533128  2021-01-02 12:00:00.000   \n",
       "85786    3319362D-F6AD-498B-9B53-F59D0418915E  2021-01-14 14:00:00.000   \n",
       "85787    3319362D-F6AD-498B-9B53-F59D0418915E  2021-01-14 14:00:00.000   \n",
       "133279   A145C6F8-EDCB-47B1-BF5D-B328F6AF97CA  2021-01-20 16:00:00.000   \n",
       "...                                       ...                      ...   \n",
       "2165277  E99EFF35-01BE-49A9-8F61-641F752051E5  2021-11-08 15:00:00.000   \n",
       "2174627  1A4C0239-A7AB-4188-84DB-8F52FBF6E13C  2021-11-10 11:00:00.000   \n",
       "2174629  1A4C0239-A7AB-4188-84DB-8F52FBF6E13C  2021-11-10 11:00:00.000   \n",
       "2198034  C9D86AF9-373C-4531-92A4-8FC752DD5D75  2021-11-14 12:00:00.000   \n",
       "2198035  C9D86AF9-373C-4531-92A4-8FC752DD5D75  2021-11-14 12:00:00.000   \n",
       "\n",
       "            gest_Sum  gest_Discount  \n",
       "639       982.200012       0.000000  \n",
       "663       982.200012       0.000000  \n",
       "85786    1189.000000       0.000000  \n",
       "85787    1189.000000       0.000000  \n",
       "133279      0.000000       0.000000  \n",
       "...              ...            ...  \n",
       "2165277     0.000000       0.000000  \n",
       "2174627   282.239990      37.759998  \n",
       "2174629   282.239990      37.759998  \n",
       "2198034     0.000000       0.000000  \n",
       "2198035     0.000000       0.000000  \n",
       "\n",
       "[225 rows x 4 columns]"
      ]
     },
     "execution_count": 9,
     "metadata": {},
     "output_type": "execute_result"
    }
   ],
   "source": [
    "df.loc[df.duplicated(keep=False)]"
   ]
  },
  {
   "cell_type": "markdown",
   "id": "2de29057-8b9d-4684-98c0-f2ddaa928b70",
   "metadata": {
    "tags": []
   },
   "source": [
    "Удалим дубликаты."
   ]
  },
  {
   "cell_type": "code",
   "execution_count": 10,
   "id": "007ee042-2d7d-4634-9962-c9bdcd324388",
   "metadata": {},
   "outputs": [],
   "source": [
    "df = df.drop_duplicates()"
   ]
  },
  {
   "cell_type": "code",
   "execution_count": 11,
   "id": "a50807cf-6b8d-4eaa-9a06-5b244e7ceecd",
   "metadata": {},
   "outputs": [
    {
     "data": {
      "text/plain": [
       "0"
      ]
     },
     "execution_count": 11,
     "metadata": {},
     "output_type": "execute_result"
    }
   ],
   "source": [
    "df.duplicated().sum()"
   ]
  },
  {
   "cell_type": "markdown",
   "id": "05de76ac-875f-4136-a9a5-d11b4f27d9a5",
   "metadata": {},
   "source": [
    "Дубликаты удалили."
   ]
  },
  {
   "cell_type": "markdown",
   "id": "b5694768-75ac-453c-977d-c6b6174eb74c",
   "metadata": {},
   "source": [
    "Объединим датасеты."
   ]
  },
  {
   "cell_type": "code",
   "execution_count": 12,
   "id": "585bca00-579b-4a20-b27e-1088be7879e6",
   "metadata": {},
   "outputs": [],
   "source": [
    "df_full = df.merge(df_target,on='clnt_ID')"
   ]
  },
  {
   "cell_type": "code",
   "execution_count": 13,
   "id": "8f76b3c2-634d-43cb-aecf-ee3a1fa18511",
   "metadata": {},
   "outputs": [
    {
     "data": {
      "text/html": [
       "<div>\n",
       "<style scoped>\n",
       "    .dataframe tbody tr th:only-of-type {\n",
       "        vertical-align: middle;\n",
       "    }\n",
       "\n",
       "    .dataframe tbody tr th {\n",
       "        vertical-align: top;\n",
       "    }\n",
       "\n",
       "    .dataframe thead th {\n",
       "        text-align: right;\n",
       "    }\n",
       "</style>\n",
       "<table border=\"1\" class=\"dataframe\">\n",
       "  <thead>\n",
       "    <tr style=\"text-align: right;\">\n",
       "      <th></th>\n",
       "      <th>clnt_ID</th>\n",
       "      <th>timestamp</th>\n",
       "      <th>gest_Sum</th>\n",
       "      <th>gest_Discount</th>\n",
       "      <th>target</th>\n",
       "    </tr>\n",
       "  </thead>\n",
       "  <tbody>\n",
       "    <tr>\n",
       "      <th>0</th>\n",
       "      <td>193B4268-0B4A-475E-B1D0-FF5515E29D29</td>\n",
       "      <td>2021-01-02 09:09:17.060</td>\n",
       "      <td>900.000000</td>\n",
       "      <td>300.000000</td>\n",
       "      <td>0</td>\n",
       "    </tr>\n",
       "    <tr>\n",
       "      <th>1</th>\n",
       "      <td>193B4268-0B4A-475E-B1D0-FF5515E29D29</td>\n",
       "      <td>2021-01-07 17:09:04.120</td>\n",
       "      <td>393.700012</td>\n",
       "      <td>131.300003</td>\n",
       "      <td>0</td>\n",
       "    </tr>\n",
       "    <tr>\n",
       "      <th>2</th>\n",
       "      <td>193B4268-0B4A-475E-B1D0-FF5515E29D29</td>\n",
       "      <td>2021-01-09 11:49:13.163</td>\n",
       "      <td>817.500000</td>\n",
       "      <td>272.500000</td>\n",
       "      <td>0</td>\n",
       "    </tr>\n",
       "    <tr>\n",
       "      <th>3</th>\n",
       "      <td>193B4268-0B4A-475E-B1D0-FF5515E29D29</td>\n",
       "      <td>2021-01-11 18:38:07.737</td>\n",
       "      <td>337.500000</td>\n",
       "      <td>112.500000</td>\n",
       "      <td>0</td>\n",
       "    </tr>\n",
       "    <tr>\n",
       "      <th>4</th>\n",
       "      <td>193B4268-0B4A-475E-B1D0-FF5515E29D29</td>\n",
       "      <td>2021-01-12 14:53:53.847</td>\n",
       "      <td>180.000000</td>\n",
       "      <td>60.000000</td>\n",
       "      <td>0</td>\n",
       "    </tr>\n",
       "  </tbody>\n",
       "</table>\n",
       "</div>"
      ],
      "text/plain": [
       "                                clnt_ID                timestamp    gest_Sum  \\\n",
       "0  193B4268-0B4A-475E-B1D0-FF5515E29D29  2021-01-02 09:09:17.060  900.000000   \n",
       "1  193B4268-0B4A-475E-B1D0-FF5515E29D29  2021-01-07 17:09:04.120  393.700012   \n",
       "2  193B4268-0B4A-475E-B1D0-FF5515E29D29  2021-01-09 11:49:13.163  817.500000   \n",
       "3  193B4268-0B4A-475E-B1D0-FF5515E29D29  2021-01-11 18:38:07.737  337.500000   \n",
       "4  193B4268-0B4A-475E-B1D0-FF5515E29D29  2021-01-12 14:53:53.847  180.000000   \n",
       "\n",
       "   gest_Discount  target  \n",
       "0     300.000000       0  \n",
       "1     131.300003       0  \n",
       "2     272.500000       0  \n",
       "3     112.500000       0  \n",
       "4      60.000000       0  "
      ]
     },
     "execution_count": 13,
     "metadata": {},
     "output_type": "execute_result"
    }
   ],
   "source": [
    "df_full.head()"
   ]
  },
  {
   "cell_type": "code",
   "execution_count": 14,
   "id": "41d40f3d-ae1c-4bca-85a9-cca144adce22",
   "metadata": {},
   "outputs": [
    {
     "name": "stdout",
     "output_type": "stream",
     "text": [
      "<class 'pandas.core.frame.DataFrame'>\n",
      "Int64Index: 2371506 entries, 0 to 2371505\n",
      "Data columns (total 5 columns):\n",
      " #   Column         Dtype  \n",
      "---  ------         -----  \n",
      " 0   clnt_ID        object \n",
      " 1   timestamp      object \n",
      " 2   gest_Sum       float64\n",
      " 3   gest_Discount  float64\n",
      " 4   target         int64  \n",
      "dtypes: float64(2), int64(1), object(2)\n",
      "memory usage: 108.6+ MB\n"
     ]
    }
   ],
   "source": [
    "df_full.info()"
   ]
  },
  {
   "cell_type": "code",
   "execution_count": 15,
   "id": "e26daa59-ed61-47f6-9a44-200e87195b61",
   "metadata": {},
   "outputs": [
    {
     "data": {
      "text/plain": [
       "clnt_ID          0\n",
       "timestamp        0\n",
       "gest_Sum         0\n",
       "gest_Discount    0\n",
       "target           0\n",
       "dtype: int64"
      ]
     },
     "execution_count": 15,
     "metadata": {},
     "output_type": "execute_result"
    }
   ],
   "source": [
    "df_full.isna().sum()"
   ]
  },
  {
   "cell_type": "markdown",
   "id": "7d159a75-de7d-4f2f-b748-d40aebe766fe",
   "metadata": {},
   "source": [
    "### EDA"
   ]
  },
  {
   "cell_type": "markdown",
   "id": "3c2fbbc7-ad20-4a50-82ba-71da553ac408",
   "metadata": {
    "tags": []
   },
   "source": [
    "Посмотрим кол-во уникальный айдишников."
   ]
  },
  {
   "cell_type": "code",
   "execution_count": 16,
   "id": "c6989c03-0d42-4370-8b06-bf4098cd30cc",
   "metadata": {},
   "outputs": [
    {
     "data": {
      "text/plain": [
       "255109"
      ]
     },
     "metadata": {},
     "output_type": "display_data"
    },
    {
     "data": {
      "text/plain": [
       "255109"
      ]
     },
     "execution_count": 16,
     "metadata": {},
     "output_type": "execute_result"
    }
   ],
   "source": [
    "display(df['clnt_ID'].nunique())\n",
    "df_target['clnt_ID'].nunique()"
   ]
  },
  {
   "cell_type": "markdown",
   "id": "d90128a5-eb95-48e0-aa9e-82b184dd4d3d",
   "metadata": {},
   "source": [
    "255109 клиентов. При этом в датасете с таргетом тоже 255109 записей. Значит все верно."
   ]
  },
  {
   "cell_type": "markdown",
   "id": "f2f46fba-ab60-4111-9298-562dd5dc44aa",
   "metadata": {},
   "source": [
    "Посмотрим сколько из них с флагом."
   ]
  },
  {
   "cell_type": "code",
   "execution_count": 17,
   "id": "79664c33-8ead-4198-bb35-6644de825185",
   "metadata": {},
   "outputs": [
    {
     "data": {
      "text/plain": [
       "0    128857\n",
       "1    126252\n",
       "Name: target, dtype: int64"
      ]
     },
     "execution_count": 17,
     "metadata": {},
     "output_type": "execute_result"
    }
   ],
   "source": [
    "df_target['target'].value_counts()"
   ]
  },
  {
   "cell_type": "markdown",
   "id": "2d1a528a-b5f2-446c-a146-686b8b41993c",
   "metadata": {},
   "source": [
    "Примерно одинаково. Дисбаланса классов нет."
   ]
  },
  {
   "cell_type": "markdown",
   "id": "743e6333-4bc4-4707-b474-06b569d99f32",
   "metadata": {},
   "source": [
    "Проверим, что все правильно смержилось."
   ]
  },
  {
   "cell_type": "code",
   "execution_count": 18,
   "id": "7a7ef701-584e-4692-bf38-74914427580f",
   "metadata": {},
   "outputs": [
    {
     "data": {
      "text/plain": [
       "128857"
      ]
     },
     "execution_count": 18,
     "metadata": {},
     "output_type": "execute_result"
    }
   ],
   "source": [
    "df_full.loc[df_full['target']==0,'clnt_ID'].nunique()"
   ]
  },
  {
   "cell_type": "code",
   "execution_count": 19,
   "id": "a02b0a8e-eb71-4a74-964d-d1e7aefa567a",
   "metadata": {},
   "outputs": [
    {
     "data": {
      "text/plain": [
       "126252"
      ]
     },
     "execution_count": 19,
     "metadata": {},
     "output_type": "execute_result"
    }
   ],
   "source": [
    "df_full.loc[df_full['target']==1,'clnt_ID'].nunique()"
   ]
  },
  {
   "cell_type": "markdown",
   "id": "fe2a4bfd-be89-490d-b68d-5ceb7ceb64e0",
   "metadata": {},
   "source": [
    "Да, кол-во уникальных айдишников в каждом классе осталось прежним."
   ]
  },
  {
   "cell_type": "markdown",
   "id": "b37fd031-ef6a-456f-acbf-cb069d535f87",
   "metadata": {},
   "source": [
    "Посмотрим сколько заказов (строк) приходится на каждый класс."
   ]
  },
  {
   "cell_type": "code",
   "execution_count": 20,
   "id": "63a9f973-cda0-4dba-8110-127c8cc3edf4",
   "metadata": {},
   "outputs": [
    {
     "data": {
      "text/plain": [
       "0    1699701\n",
       "1     671805\n",
       "Name: target, dtype: int64"
      ]
     },
     "metadata": {},
     "output_type": "display_data"
    },
    {
     "data": {
      "image/png": "[encoded data removed]",
      "text/plain": [
       "<Figure size 432x288 with 1 Axes>"
      ]
     },
     "metadata": {
      "needs_background": "light"
     },
     "output_type": "display_data"
    }
   ],
   "source": [
    "display(df_full['target'].value_counts())\n",
    "sns.countplot(x='target',data=df_full)\n",
    "plt.show()"
   ]
  },
  {
   "cell_type": "markdown",
   "id": "f3fd93ce-03fe-4549-b94c-74317e78c087",
   "metadata": {},
   "source": [
    "Тут мы видим сразу, что те, кто уходят, значительно меньше раз совершали покупки."
   ]
  },
  {
   "cell_type": "markdown",
   "id": "90b27c20-96c9-448a-a0c0-ace2ddd21fd9",
   "metadata": {},
   "source": [
    "# Нужно создать фичу с кол-во дней с прошлой покупки"
   ]
  },
  {
   "cell_type": "markdown",
   "id": "bf875d70-a764-411f-98e2-3dfd52123900",
   "metadata": {},
   "source": []
  },
  {
   "cell_type": "code",
   "execution_count": null,
   "id": "16434356-fc98-4f25-8c52-868857a55e03",
   "metadata": {},
   "outputs": [],
   "source": []
  },
  {
   "cell_type": "code",
   "execution_count": null,
   "id": "449b1cc7-646e-4a25-b95a-3d3bb12800f0",
   "metadata": {},
   "outputs": [],
   "source": []
  },
  {
   "cell_type": "markdown",
   "id": "7ad0b133-aabf-4449-a68c-11f0d994f686",
   "metadata": {},
   "source": [
    "В итоге мы пока откажемся от подхода с таймсериес, и возьмем просто описание истории покупок клиентов.\n",
    "Т.е. берем фичи сумма чека, скидка, дней с последней покупки для каждого клиента и сравнимаем эти статистики по группам 0 и 1 (таргету)"
   ]
  },
  {
   "cell_type": "code",
   "execution_count": 29,
   "id": "9323b433-e490-454a-9eb1-1d37e97643b7",
   "metadata": {},
   "outputs": [
    {
     "data": {
      "text/html": [
       "<div>\n",
       "<style scoped>\n",
       "    .dataframe tbody tr th:only-of-type {\n",
       "        vertical-align: middle;\n",
       "    }\n",
       "\n",
       "    .dataframe tbody tr th {\n",
       "        vertical-align: top;\n",
       "    }\n",
       "\n",
       "    .dataframe thead tr th {\n",
       "        text-align: left;\n",
       "    }\n",
       "\n",
       "    .dataframe thead tr:last-of-type th {\n",
       "        text-align: right;\n",
       "    }\n",
       "</style>\n",
       "<table border=\"1\" class=\"dataframe\">\n",
       "  <thead>\n",
       "    <tr>\n",
       "      <th></th>\n",
       "      <th colspan=\"4\" halign=\"left\">count</th>\n",
       "      <th colspan=\"4\" halign=\"left\">min</th>\n",
       "      <th colspan=\"2\" halign=\"left\">max</th>\n",
       "      <th>...</th>\n",
       "      <th colspan=\"2\" halign=\"left\">median</th>\n",
       "      <th colspan=\"4\" halign=\"left\">mean</th>\n",
       "      <th colspan=\"4\" halign=\"left\">std</th>\n",
       "    </tr>\n",
       "    <tr>\n",
       "      <th></th>\n",
       "      <th colspan=\"2\" halign=\"left\">gest_Discount</th>\n",
       "      <th colspan=\"2\" halign=\"left\">gest_Sum</th>\n",
       "      <th colspan=\"2\" halign=\"left\">gest_Discount</th>\n",
       "      <th colspan=\"2\" halign=\"left\">gest_Sum</th>\n",
       "      <th colspan=\"2\" halign=\"left\">gest_Discount</th>\n",
       "      <th>...</th>\n",
       "      <th colspan=\"2\" halign=\"left\">gest_Sum</th>\n",
       "      <th colspan=\"2\" halign=\"left\">gest_Discount</th>\n",
       "      <th colspan=\"2\" halign=\"left\">gest_Sum</th>\n",
       "      <th colspan=\"2\" halign=\"left\">gest_Discount</th>\n",
       "      <th colspan=\"2\" halign=\"left\">gest_Sum</th>\n",
       "    </tr>\n",
       "    <tr>\n",
       "      <th>target</th>\n",
       "      <th>0</th>\n",
       "      <th>1</th>\n",
       "      <th>0</th>\n",
       "      <th>1</th>\n",
       "      <th>0</th>\n",
       "      <th>1</th>\n",
       "      <th>0</th>\n",
       "      <th>1</th>\n",
       "      <th>0</th>\n",
       "      <th>1</th>\n",
       "      <th>...</th>\n",
       "      <th>0</th>\n",
       "      <th>1</th>\n",
       "      <th>0</th>\n",
       "      <th>1</th>\n",
       "      <th>0</th>\n",
       "      <th>1</th>\n",
       "      <th>0</th>\n",
       "      <th>1</th>\n",
       "      <th>0</th>\n",
       "      <th>1</th>\n",
       "    </tr>\n",
       "    <tr>\n",
       "      <th>clnt_ID</th>\n",
       "      <th></th>\n",
       "      <th></th>\n",
       "      <th></th>\n",
       "      <th></th>\n",
       "      <th></th>\n",
       "      <th></th>\n",
       "      <th></th>\n",
       "      <th></th>\n",
       "      <th></th>\n",
       "      <th></th>\n",
       "      <th></th>\n",
       "      <th></th>\n",
       "      <th></th>\n",
       "      <th></th>\n",
       "      <th></th>\n",
       "      <th></th>\n",
       "      <th></th>\n",
       "      <th></th>\n",
       "      <th></th>\n",
       "      <th></th>\n",
       "      <th></th>\n",
       "    </tr>\n",
       "  </thead>\n",
       "  <tbody>\n",
       "    <tr>\n",
       "      <th>000070A8-DB9E-4AB7-8C4D-6169D4AEBB2A</th>\n",
       "      <td>NaN</td>\n",
       "      <td>3.0</td>\n",
       "      <td>NaN</td>\n",
       "      <td>3.0</td>\n",
       "      <td>NaN</td>\n",
       "      <td>10.0</td>\n",
       "      <td>NaN</td>\n",
       "      <td>490.0</td>\n",
       "      <td>NaN</td>\n",
       "      <td>44.799999</td>\n",
       "      <td>...</td>\n",
       "      <td>NaN</td>\n",
       "      <td>519.400024</td>\n",
       "      <td>NaN</td>\n",
       "      <td>21.800000</td>\n",
       "      <td>NaN</td>\n",
       "      <td>525.200012</td>\n",
       "      <td>NaN</td>\n",
       "      <td>19.920843</td>\n",
       "      <td>NaN</td>\n",
       "      <td>38.429681</td>\n",
       "    </tr>\n",
       "    <tr>\n",
       "      <th>00007EB0-6331-438E-A917-E9840C260876</th>\n",
       "      <td>1.0</td>\n",
       "      <td>NaN</td>\n",
       "      <td>1.0</td>\n",
       "      <td>NaN</td>\n",
       "      <td>6.0</td>\n",
       "      <td>NaN</td>\n",
       "      <td>214.0</td>\n",
       "      <td>NaN</td>\n",
       "      <td>6.000000</td>\n",
       "      <td>NaN</td>\n",
       "      <td>...</td>\n",
       "      <td>214.000000</td>\n",
       "      <td>NaN</td>\n",
       "      <td>6.0000</td>\n",
       "      <td>NaN</td>\n",
       "      <td>214.000000</td>\n",
       "      <td>NaN</td>\n",
       "      <td>NaN</td>\n",
       "      <td>NaN</td>\n",
       "      <td>NaN</td>\n",
       "      <td>NaN</td>\n",
       "    </tr>\n",
       "    <tr>\n",
       "      <th>0000993D-A30E-4233-AB3F-D368D9A0D2C4</th>\n",
       "      <td>NaN</td>\n",
       "      <td>1.0</td>\n",
       "      <td>NaN</td>\n",
       "      <td>1.0</td>\n",
       "      <td>NaN</td>\n",
       "      <td>0.0</td>\n",
       "      <td>NaN</td>\n",
       "      <td>470.0</td>\n",
       "      <td>NaN</td>\n",
       "      <td>0.000000</td>\n",
       "      <td>...</td>\n",
       "      <td>NaN</td>\n",
       "      <td>470.000000</td>\n",
       "      <td>NaN</td>\n",
       "      <td>0.000000</td>\n",
       "      <td>NaN</td>\n",
       "      <td>470.000000</td>\n",
       "      <td>NaN</td>\n",
       "      <td>NaN</td>\n",
       "      <td>NaN</td>\n",
       "      <td>NaN</td>\n",
       "    </tr>\n",
       "    <tr>\n",
       "      <th>0000A724-7BC5-408F-9F16-6CC3AB16322F</th>\n",
       "      <td>64.0</td>\n",
       "      <td>NaN</td>\n",
       "      <td>64.0</td>\n",
       "      <td>NaN</td>\n",
       "      <td>0.0</td>\n",
       "      <td>NaN</td>\n",
       "      <td>0.0</td>\n",
       "      <td>NaN</td>\n",
       "      <td>280.799988</td>\n",
       "      <td>NaN</td>\n",
       "      <td>...</td>\n",
       "      <td>260.550003</td>\n",
       "      <td>NaN</td>\n",
       "      <td>31.1625</td>\n",
       "      <td>NaN</td>\n",
       "      <td>274.228125</td>\n",
       "      <td>NaN</td>\n",
       "      <td>62.319919</td>\n",
       "      <td>NaN</td>\n",
       "      <td>118.274863</td>\n",
       "      <td>NaN</td>\n",
       "    </tr>\n",
       "    <tr>\n",
       "      <th>0000B90C-56DE-43C2-A213-624AFBE36DB2</th>\n",
       "      <td>1.0</td>\n",
       "      <td>NaN</td>\n",
       "      <td>1.0</td>\n",
       "      <td>NaN</td>\n",
       "      <td>0.0</td>\n",
       "      <td>NaN</td>\n",
       "      <td>549.0</td>\n",
       "      <td>NaN</td>\n",
       "      <td>0.000000</td>\n",
       "      <td>NaN</td>\n",
       "      <td>...</td>\n",
       "      <td>549.000000</td>\n",
       "      <td>NaN</td>\n",
       "      <td>0.0000</td>\n",
       "      <td>NaN</td>\n",
       "      <td>549.000000</td>\n",
       "      <td>NaN</td>\n",
       "      <td>NaN</td>\n",
       "      <td>NaN</td>\n",
       "      <td>NaN</td>\n",
       "      <td>NaN</td>\n",
       "    </tr>\n",
       "    <tr>\n",
       "      <th>...</th>\n",
       "      <td>...</td>\n",
       "      <td>...</td>\n",
       "      <td>...</td>\n",
       "      <td>...</td>\n",
       "      <td>...</td>\n",
       "      <td>...</td>\n",
       "      <td>...</td>\n",
       "      <td>...</td>\n",
       "      <td>...</td>\n",
       "      <td>...</td>\n",
       "      <td>...</td>\n",
       "      <td>...</td>\n",
       "      <td>...</td>\n",
       "      <td>...</td>\n",
       "      <td>...</td>\n",
       "      <td>...</td>\n",
       "      <td>...</td>\n",
       "      <td>...</td>\n",
       "      <td>...</td>\n",
       "      <td>...</td>\n",
       "      <td>...</td>\n",
       "    </tr>\n",
       "    <tr>\n",
       "      <th>FFFF1629-85B6-9DD3-994C-5E21A88A5BFF</th>\n",
       "      <td>1.0</td>\n",
       "      <td>NaN</td>\n",
       "      <td>1.0</td>\n",
       "      <td>NaN</td>\n",
       "      <td>0.0</td>\n",
       "      <td>NaN</td>\n",
       "      <td>1269.0</td>\n",
       "      <td>NaN</td>\n",
       "      <td>0.000000</td>\n",
       "      <td>NaN</td>\n",
       "      <td>...</td>\n",
       "      <td>1269.000000</td>\n",
       "      <td>NaN</td>\n",
       "      <td>0.0000</td>\n",
       "      <td>NaN</td>\n",
       "      <td>1269.000000</td>\n",
       "      <td>NaN</td>\n",
       "      <td>NaN</td>\n",
       "      <td>NaN</td>\n",
       "      <td>NaN</td>\n",
       "      <td>NaN</td>\n",
       "    </tr>\n",
       "    <tr>\n",
       "      <th>FFFF364C-972B-4F77-9A75-AF62F01E6B7B</th>\n",
       "      <td>NaN</td>\n",
       "      <td>1.0</td>\n",
       "      <td>NaN</td>\n",
       "      <td>1.0</td>\n",
       "      <td>NaN</td>\n",
       "      <td>27.0</td>\n",
       "      <td>NaN</td>\n",
       "      <td>383.0</td>\n",
       "      <td>NaN</td>\n",
       "      <td>27.000000</td>\n",
       "      <td>...</td>\n",
       "      <td>NaN</td>\n",
       "      <td>383.000000</td>\n",
       "      <td>NaN</td>\n",
       "      <td>27.000000</td>\n",
       "      <td>NaN</td>\n",
       "      <td>383.000000</td>\n",
       "      <td>NaN</td>\n",
       "      <td>NaN</td>\n",
       "      <td>NaN</td>\n",
       "      <td>NaN</td>\n",
       "    </tr>\n",
       "    <tr>\n",
       "      <th>FFFF3BC7-D0FB-4630-8D09-1D4088C5A297</th>\n",
       "      <td>NaN</td>\n",
       "      <td>2.0</td>\n",
       "      <td>NaN</td>\n",
       "      <td>2.0</td>\n",
       "      <td>NaN</td>\n",
       "      <td>0.0</td>\n",
       "      <td>NaN</td>\n",
       "      <td>1366.5</td>\n",
       "      <td>NaN</td>\n",
       "      <td>0.000000</td>\n",
       "      <td>...</td>\n",
       "      <td>NaN</td>\n",
       "      <td>1791.375000</td>\n",
       "      <td>NaN</td>\n",
       "      <td>0.000000</td>\n",
       "      <td>NaN</td>\n",
       "      <td>1791.375000</td>\n",
       "      <td>NaN</td>\n",
       "      <td>0.000000</td>\n",
       "      <td>NaN</td>\n",
       "      <td>600.863987</td>\n",
       "    </tr>\n",
       "    <tr>\n",
       "      <th>FFFF788D-F1CF-4A74-B825-FAF05BC062C1</th>\n",
       "      <td>NaN</td>\n",
       "      <td>1.0</td>\n",
       "      <td>NaN</td>\n",
       "      <td>1.0</td>\n",
       "      <td>NaN</td>\n",
       "      <td>37.0</td>\n",
       "      <td>NaN</td>\n",
       "      <td>37.0</td>\n",
       "      <td>NaN</td>\n",
       "      <td>37.000000</td>\n",
       "      <td>...</td>\n",
       "      <td>NaN</td>\n",
       "      <td>37.000000</td>\n",
       "      <td>NaN</td>\n",
       "      <td>37.000000</td>\n",
       "      <td>NaN</td>\n",
       "      <td>37.000000</td>\n",
       "      <td>NaN</td>\n",
       "      <td>NaN</td>\n",
       "      <td>NaN</td>\n",
       "      <td>NaN</td>\n",
       "    </tr>\n",
       "    <tr>\n",
       "      <th>FFFFBA18-758F-4CAF-8437-1E0A73670F7D</th>\n",
       "      <td>NaN</td>\n",
       "      <td>26.0</td>\n",
       "      <td>NaN</td>\n",
       "      <td>26.0</td>\n",
       "      <td>NaN</td>\n",
       "      <td>0.0</td>\n",
       "      <td>NaN</td>\n",
       "      <td>84.0</td>\n",
       "      <td>NaN</td>\n",
       "      <td>113.099998</td>\n",
       "      <td>...</td>\n",
       "      <td>NaN</td>\n",
       "      <td>270.000000</td>\n",
       "      <td>NaN</td>\n",
       "      <td>16.507692</td>\n",
       "      <td>NaN</td>\n",
       "      <td>306.723075</td>\n",
       "      <td>NaN</td>\n",
       "      <td>25.934825</td>\n",
       "      <td>NaN</td>\n",
       "      <td>204.153294</td>\n",
       "    </tr>\n",
       "  </tbody>\n",
       "</table>\n",
       "<p>255109 rows × 24 columns</p>\n",
       "</div>"
      ],
      "text/plain": [
       "                                             count                       \\\n",
       "                                     gest_Discount       gest_Sum         \n",
       "target                                           0     1        0     1   \n",
       "clnt_ID                                                                   \n",
       "000070A8-DB9E-4AB7-8C4D-6169D4AEBB2A           NaN   3.0      NaN   3.0   \n",
       "00007EB0-6331-438E-A917-E9840C260876           1.0   NaN      1.0   NaN   \n",
       "0000993D-A30E-4233-AB3F-D368D9A0D2C4           NaN   1.0      NaN   1.0   \n",
       "0000A724-7BC5-408F-9F16-6CC3AB16322F          64.0   NaN     64.0   NaN   \n",
       "0000B90C-56DE-43C2-A213-624AFBE36DB2           1.0   NaN      1.0   NaN   \n",
       "...                                            ...   ...      ...   ...   \n",
       "FFFF1629-85B6-9DD3-994C-5E21A88A5BFF           1.0   NaN      1.0   NaN   \n",
       "FFFF364C-972B-4F77-9A75-AF62F01E6B7B           NaN   1.0      NaN   1.0   \n",
       "FFFF3BC7-D0FB-4630-8D09-1D4088C5A297           NaN   2.0      NaN   2.0   \n",
       "FFFF788D-F1CF-4A74-B825-FAF05BC062C1           NaN   1.0      NaN   1.0   \n",
       "FFFFBA18-758F-4CAF-8437-1E0A73670F7D           NaN  26.0      NaN  26.0   \n",
       "\n",
       "                                               min                         \\\n",
       "                                     gest_Discount       gest_Sum           \n",
       "target                                           0     1        0       1   \n",
       "clnt_ID                                                                     \n",
       "000070A8-DB9E-4AB7-8C4D-6169D4AEBB2A           NaN  10.0      NaN   490.0   \n",
       "00007EB0-6331-438E-A917-E9840C260876           6.0   NaN    214.0     NaN   \n",
       "0000993D-A30E-4233-AB3F-D368D9A0D2C4           NaN   0.0      NaN   470.0   \n",
       "0000A724-7BC5-408F-9F16-6CC3AB16322F           0.0   NaN      0.0     NaN   \n",
       "0000B90C-56DE-43C2-A213-624AFBE36DB2           0.0   NaN    549.0     NaN   \n",
       "...                                            ...   ...      ...     ...   \n",
       "FFFF1629-85B6-9DD3-994C-5E21A88A5BFF           0.0   NaN   1269.0     NaN   \n",
       "FFFF364C-972B-4F77-9A75-AF62F01E6B7B           NaN  27.0      NaN   383.0   \n",
       "FFFF3BC7-D0FB-4630-8D09-1D4088C5A297           NaN   0.0      NaN  1366.5   \n",
       "FFFF788D-F1CF-4A74-B825-FAF05BC062C1           NaN  37.0      NaN    37.0   \n",
       "FFFFBA18-758F-4CAF-8437-1E0A73670F7D           NaN   0.0      NaN    84.0   \n",
       "\n",
       "                                               max              ...  \\\n",
       "                                     gest_Discount              ...   \n",
       "target                                           0           1  ...   \n",
       "clnt_ID                                                         ...   \n",
       "000070A8-DB9E-4AB7-8C4D-6169D4AEBB2A           NaN   44.799999  ...   \n",
       "00007EB0-6331-438E-A917-E9840C260876      6.000000         NaN  ...   \n",
       "0000993D-A30E-4233-AB3F-D368D9A0D2C4           NaN    0.000000  ...   \n",
       "0000A724-7BC5-408F-9F16-6CC3AB16322F    280.799988         NaN  ...   \n",
       "0000B90C-56DE-43C2-A213-624AFBE36DB2      0.000000         NaN  ...   \n",
       "...                                            ...         ...  ...   \n",
       "FFFF1629-85B6-9DD3-994C-5E21A88A5BFF      0.000000         NaN  ...   \n",
       "FFFF364C-972B-4F77-9A75-AF62F01E6B7B           NaN   27.000000  ...   \n",
       "FFFF3BC7-D0FB-4630-8D09-1D4088C5A297           NaN    0.000000  ...   \n",
       "FFFF788D-F1CF-4A74-B825-FAF05BC062C1           NaN   37.000000  ...   \n",
       "FFFFBA18-758F-4CAF-8437-1E0A73670F7D           NaN  113.099998  ...   \n",
       "\n",
       "                                           median                       mean  \\\n",
       "                                         gest_Sum              gest_Discount   \n",
       "target                                          0            1             0   \n",
       "clnt_ID                                                                        \n",
       "000070A8-DB9E-4AB7-8C4D-6169D4AEBB2A          NaN   519.400024           NaN   \n",
       "00007EB0-6331-438E-A917-E9840C260876   214.000000          NaN        6.0000   \n",
       "0000993D-A30E-4233-AB3F-D368D9A0D2C4          NaN   470.000000           NaN   \n",
       "0000A724-7BC5-408F-9F16-6CC3AB16322F   260.550003          NaN       31.1625   \n",
       "0000B90C-56DE-43C2-A213-624AFBE36DB2   549.000000          NaN        0.0000   \n",
       "...                                           ...          ...           ...   \n",
       "FFFF1629-85B6-9DD3-994C-5E21A88A5BFF  1269.000000          NaN        0.0000   \n",
       "FFFF364C-972B-4F77-9A75-AF62F01E6B7B          NaN   383.000000           NaN   \n",
       "FFFF3BC7-D0FB-4630-8D09-1D4088C5A297          NaN  1791.375000           NaN   \n",
       "FFFF788D-F1CF-4A74-B825-FAF05BC062C1          NaN    37.000000           NaN   \n",
       "FFFFBA18-758F-4CAF-8437-1E0A73670F7D          NaN   270.000000           NaN   \n",
       "\n",
       "                                                                           \\\n",
       "                                                    gest_Sum                \n",
       "target                                        1            0            1   \n",
       "clnt_ID                                                                     \n",
       "000070A8-DB9E-4AB7-8C4D-6169D4AEBB2A  21.800000          NaN   525.200012   \n",
       "00007EB0-6331-438E-A917-E9840C260876        NaN   214.000000          NaN   \n",
       "0000993D-A30E-4233-AB3F-D368D9A0D2C4   0.000000          NaN   470.000000   \n",
       "0000A724-7BC5-408F-9F16-6CC3AB16322F        NaN   274.228125          NaN   \n",
       "0000B90C-56DE-43C2-A213-624AFBE36DB2        NaN   549.000000          NaN   \n",
       "...                                         ...          ...          ...   \n",
       "FFFF1629-85B6-9DD3-994C-5E21A88A5BFF        NaN  1269.000000          NaN   \n",
       "FFFF364C-972B-4F77-9A75-AF62F01E6B7B  27.000000          NaN   383.000000   \n",
       "FFFF3BC7-D0FB-4630-8D09-1D4088C5A297   0.000000          NaN  1791.375000   \n",
       "FFFF788D-F1CF-4A74-B825-FAF05BC062C1  37.000000          NaN    37.000000   \n",
       "FFFFBA18-758F-4CAF-8437-1E0A73670F7D  16.507692          NaN   306.723075   \n",
       "\n",
       "                                               std                         \\\n",
       "                                     gest_Discount               gest_Sum   \n",
       "target                                           0          1           0   \n",
       "clnt_ID                                                                     \n",
       "000070A8-DB9E-4AB7-8C4D-6169D4AEBB2A           NaN  19.920843         NaN   \n",
       "00007EB0-6331-438E-A917-E9840C260876           NaN        NaN         NaN   \n",
       "0000993D-A30E-4233-AB3F-D368D9A0D2C4           NaN        NaN         NaN   \n",
       "0000A724-7BC5-408F-9F16-6CC3AB16322F     62.319919        NaN  118.274863   \n",
       "0000B90C-56DE-43C2-A213-624AFBE36DB2           NaN        NaN         NaN   \n",
       "...                                            ...        ...         ...   \n",
       "FFFF1629-85B6-9DD3-994C-5E21A88A5BFF           NaN        NaN         NaN   \n",
       "FFFF364C-972B-4F77-9A75-AF62F01E6B7B           NaN        NaN         NaN   \n",
       "FFFF3BC7-D0FB-4630-8D09-1D4088C5A297           NaN   0.000000         NaN   \n",
       "FFFF788D-F1CF-4A74-B825-FAF05BC062C1           NaN        NaN         NaN   \n",
       "FFFFBA18-758F-4CAF-8437-1E0A73670F7D           NaN  25.934825         NaN   \n",
       "\n",
       "                                                  \n",
       "                                                  \n",
       "target                                         1  \n",
       "clnt_ID                                           \n",
       "000070A8-DB9E-4AB7-8C4D-6169D4AEBB2A   38.429681  \n",
       "00007EB0-6331-438E-A917-E9840C260876         NaN  \n",
       "0000993D-A30E-4233-AB3F-D368D9A0D2C4         NaN  \n",
       "0000A724-7BC5-408F-9F16-6CC3AB16322F         NaN  \n",
       "0000B90C-56DE-43C2-A213-624AFBE36DB2         NaN  \n",
       "...                                          ...  \n",
       "FFFF1629-85B6-9DD3-994C-5E21A88A5BFF         NaN  \n",
       "FFFF364C-972B-4F77-9A75-AF62F01E6B7B         NaN  \n",
       "FFFF3BC7-D0FB-4630-8D09-1D4088C5A297  600.863987  \n",
       "FFFF788D-F1CF-4A74-B825-FAF05BC062C1         NaN  \n",
       "FFFFBA18-758F-4CAF-8437-1E0A73670F7D  204.153294  \n",
       "\n",
       "[255109 rows x 24 columns]"
      ]
     },
     "execution_count": 29,
     "metadata": {},
     "output_type": "execute_result"
    }
   ],
   "source": [
    "df_full.pivot_table(index='clnt_ID', values=['gest_Sum','gest_Discount'],aggfunc=['count','min','max','median','mean','std'],columns='target')"
   ]
  }
 ],
 "metadata": {
  "kernelspec": {
   "display_name": "Python 3",
   "language": "python",
   "name": "python3"
  },
  "language_info": {
   "codemirror_mode": {
    "name": "ipython",
    "version": 3
   },
   "file_extension": ".py",
   "mimetype": "text/x-python",
   "name": "python",
   "nbconvert_exporter": "python",
   "pygments_lexer": "ipython3",
   "version": "3.9.5"
  }
 },
 "nbformat": 4,
 "nbformat_minor": 5
}
