{
 "cells": [
  {
   "cell_type": "code",
   "execution_count": 1,
   "id": "46a86184-abbf-4f64-b185-cf4fa1a9f373",
   "metadata": {},
   "outputs": [],
   "source": [
    "to_do = {'Поменять метрику с ф1 на рок-аук': True,\n",
    "        'Добавить catboost': False,\n",
    "        'установить Pandas-profiling': True,\n",
    "        'Разобраться в Pandas-profiling': False}"
   ]
  },
  {
   "cell_type": "markdown",
   "id": "3a59d61f-e3bd-4565-9954-0b6f026b8bd4",
   "metadata": {
    "tags": [],
    "toc-hr-collapsed": true
   },
   "source": [
    "# Описание, заметки, размышления"
   ]
  },
  {
   "cell_type": "markdown",
   "id": "0e918b3b-b82d-4491-a266-f1204a6a60aa",
   "metadata": {},
   "source": [
    "Для прогнозирования используются данные о покупках юзеров за период 2021 года. Всего доступно больше 2 млн. строк.\n",
    "\n",
    "Флаг оттока проставляется, если после покупки юзера прошло больше 45 дней.\n",
    "\n",
    "Поведение юзера описывается историей его покупок, суммой чека и размером скидки к чеку. В компании действует программа лояльности, участвуя в которой юзеры получают скидку на любую покупку и могут получать дополнительные скидки по разным промо-акциями.\n",
    "\n",
    "Описание данных:\n",
    "data.csv\n",
    "* `'clnt_ID'` - уникальный айди юзера, str\n",
    "* `'timestamp'` - дата и время совершения покупки, datetime\n",
    "* `'gest_Sum'` - сумма покупки, float\n",
    "* `'gest_Discount'` - сумма скидки, float\n",
    "\n",
    "target.csv\n",
    "* `'clnt_ID'` - уникальный айди юзера, str\n",
    "* `'target'` - флаг оттока, int: 1 если юзер ушел в отток | 0 если НЕ отток"
   ]
  },
  {
   "cell_type": "markdown",
   "id": "c84a5095-84e0-48d0-86b1-8abf69d3a4e0",
   "metadata": {},
   "source": [
    "## Что здесь можно сделать? - Заметки \n",
    "**Нужно помнить, что по сути это тайм серия.**  -- **Внимательно!**  \n",
    "Т.е. я предполагаю, что клиент покупает, покупает, покупает, потом фигак и перестал покупать. Один клиент - один вектор.\n",
    "А тут куча вектором принадлежат одному клиенту. \n",
    "\n",
    "Т.е. я бы даже сказал, что в том виде в котором оно есть, модель особо-то ничего не найдет. Как она сможет по дате, сумме покупки и скидке предсказать уйдет человек или нет, не зная его истории?\n",
    "---ОТВЕТ---\n",
    "Да, это последовательность событий, но прям как таймсерию использовать не можем, потому что нерегулярные сигналы и из-за этого много сложностей.\n",
    "Но! Можно использовать эти же строки, но к ним добавлять \"память\" о клиенте, т.е. его историю к конкретной сделке.\n",
    "\n",
    "**Что может говорить, что клиент собрался уйти и не вернуться?**  \n",
    "Т.е. гипотетически что может говорить о том, что клиент собирается уйти и не вернуться?\n",
    "1. Увеличивается интервал между покупками от покупки к покупке. Типа 1 день, потом 2, потом 5 и т.д.\n",
    "2. Как-то изменяется объем чека (уменьшается, увеличивается?) \n",
    "3. Как-то меняется ассортимент (типа вот он покупал одно и тоже, а тут вдруг перестал покупать одно и тоже (испортился товар на его вкус) и он либо сразу ушел, либо попробовал другое и остался, либо попробовал другое - ему не понравилось - ушел\n",
    "\n",
    "**Как должен работать предикт? Какие данные должны поступать на вход?**  -- **Есть пол-ответа**  \n",
    "~~Это видимо тоже относится к тому, что это своего рода таймсерия~~\n",
    "Вся инфа находится в БД, которая обновляется ночью. И модель будет работать ночью и может использовать всю бд. Как именно пока я не понимаю.\n",
    "\n",
    "\n",
    "**Если сейчас дать модели на вход просто дату, сумму чека и скидку...**  \n",
    "То она будет пытаться предсказать отток исключительно по дате, сумме чеку и скидке - врядли у нее что-то получится взразумительное.\n",
    "\n",
    "\n",
    "**Сумма в месяц стабильна для юзера, а отклонение может указывать на отток**  \n",
    "По результатам уже проведенного анализа есть такой вывод:\n",
    "сумма, которую готов тратить юзер в месяц,  достаточна стабильна и слабо меняется со временем. Потратив в этом месяце больше обычного, юзер скорее всего в следующем не будет покупать;\n",
    "\n",
    "По каждому клиенту взять средний чек, каким-то образом определить порог отклонения от этого среднего чека и посмотреть насколько факт этого отклонения коррелирует с оттоком. Может это будет хорошая фича. Но проблема в том, что для предсказания не достаточно \n",
    "\n",
    "**Самый простой и очевидный способ подготовки данных**  \n",
    "Это взять по каждому клиенту кол-во покупок, min,max,mean,median,stdev по gest_Sum, gest_Discount, и перерывом между покупками\n",
    "\n",
    "**Вариант еще лучше!**  \n",
    "Используем каждую строку как есть, не переводим ее в строку по уникальному клиенту, а точно также одна строка одна сделка.\n",
    "К каждой такой строке мы накопительно добавляем кумулятивную инфу о клиенте, т.е.:\n",
    "* Сколько дней на момент сделки прошло с момента первой сделки\n",
    "* Какой на текущий момент средний чек\n",
    "* Какая разница между среднем чеком и чеком сделки\n",
    "* Сколько сделок произошло на момент текущей сделки\n",
    "* Сколько сделок в месяц в среднем\n",
    "\n",
    "\n",
    "\n",
    "## Вопросы:\n",
    "**>>>Что значат 0 в gest_sum?<<<**\n",
    "\n",
    "**Как работают скидки? Это накопительные баллы или просто скидки? Почему основные скидки не больше 100 руб, но бывают аж в 3000 руб.?**"
   ]
  },
  {
   "cell_type": "markdown",
   "id": "4f798059-214a-43dc-b358-7a4af5c73f6a",
   "metadata": {},
   "source": [
    "## Описание общего подхода - not actual\n",
    "\n",
    "Я вот вижу 3 общих подхода:\n",
    "1. Рассматривать покупки клиентов как таймсерию, и исходя из прошлого поведения прогнозировать будущее. \n",
    "    * Мы таймсерии не проходили, плюс задача оттока традиционно не решается предсказанием таймсерии, поэтому от этого варианта скорее откажемся. Даже несмотря на то, что можно как-то обучить модель на скользящем окне (я точно не знаю как).\n",
    "2. Преобразовать данные так, чтобы получилось по одной строке на каждого клиента, в которой будет какая-то агрегированная информация о покупках. В надежде, что модель найдет какие-то закономерности именно в общей репрезентации истории. \n",
    "3. Использовать данные в том виде, в котором они уже есть. Т.е. каждая строка это одна сделка. Но добавить к ним накопительную информацию об истории клиента. (Спасибо нашему ментору, который подсказал этот подход)\n",
    "    * Т.е. к каждой сделке добавить инфу о кол-ве уже совершенных покупок, кол-во прошедших дней с предыдущей покупки, и другое.\n",
    "    * Такой подход позволит модели сравнивать историю с текущей сделкой, что повышает ценность информации по сравнению с предыдущим подходом.\n",
    "    \n",
    "    \n",
    "Наверное, главный мой вопрос для всех: какие есть еще подходы к решению задачи?\n",
    "\n",
    "И перейдя на уровень ниже, предполагаю, что эффективность любого подхода зависит от того, какие фичи мы создадим/добавим.\n",
    "А какие фичи нужно добавить зависит от того, как мы себе представляем механику и причины оттока клиентов.\n",
    "\n",
    "Здесь можно как-то самостоятельно (коллективно) очертить эту механику, составить список фичей и уже отдать на откуп модели, чтобы она там сама определила какие фичи важны - какие нет.\n",
    "Либо воспользоваться уже какой-то готовой теорией, например тот же RFM-анализ, о котором говорил Родион.\n",
    "Не ясно какой подход эффективнее, т.е. стоит ли погружаться в теорию и если стоит то ради чего (только ради списка фичей, например)?\n",
    "Это вот второй вопрос, который хотел бы обсудить.\n",
    "\n",
    "\n",
    "И третий вопрос: про то, в каком виде будут приходить данные на предикт.\n",
    "Это может повлиять на то, как нужно будет обучать модель.\n",
    "Например, если предикт будет происходить исключительно по данным за последний месяц и только, то какой-то условный скрипт предобработки, который будет, например, считать средний чек может сильно ошибиться, т.к. ему будет не хватать данных. А модель мы обучали на целом годе и там статистики будут поточнее. И так возникает расхождение.\n",
    "Вот такого рода ограничения. Я, к сожалению, другие примеры придумать не могу, но это все может сильно повлиять на архитектуру обработки данных и как следствие на то, что стоит ожидать от модели.\n",
    "\n",
    "**not actual - end**"
   ]
  },
  {
   "cell_type": "markdown",
   "id": "6f763810",
   "metadata": {},
   "source": [
    "Структура:  \n",
    "0. Описание, заметки, размышления\n",
    "1. Импорты и настройки\n",
    "2. Предобработка\n",
    "3. EDA того, что есть\n",
    "4. Feature engineering\n",
    "5. New features EDA\n",
    "6. Baseline and model selection\n",
    "7. Model tuning"
   ]
  },
  {
   "cell_type": "markdown",
   "id": "c4946a18-ef6f-44c0-a336-da9167ab77d9",
   "metadata": {
    "tags": []
   },
   "source": [
    "# Импорты и настройки"
   ]
  },
  {
   "cell_type": "code",
   "execution_count": 2,
   "id": "cf9e2794-3933-48dd-9665-87d7ea6f5f13",
   "metadata": {},
   "outputs": [],
   "source": [
    "import numpy as np\n",
    "import pandas as pd\n",
    "\n",
    "import statsmodels.api as sm\n",
    "\n",
    "import matplotlib.pyplot as plt\n",
    "import seaborn as sns\n",
    "\n",
    "from pandas_profiling import ProfileReport\n",
    "\n",
    "from sklearn.preprocessing import StandardScaler\n",
    "\n",
    "from sklearn.linear_model import LogisticRegression\n",
    "from sklearn.tree import DecisionTreeClassifier\n",
    "from sklearn.ensemble import RandomForestClassifier\n",
    "\n",
    "from catboost import CatBoostClassifier, Pool\n",
    "\n",
    "from sklearn.model_selection import cross_val_score\n",
    "from sklearn.model_selection import cross_validate\n",
    "\n",
    "from sklearn.metrics import f1_score\n"
   ]
  },
  {
   "cell_type": "code",
   "execution_count": 3,
   "id": "f049c0bd-bb38-4983-8627-8f10200cd4f1",
   "metadata": {},
   "outputs": [],
   "source": [
    "# pd.set_option('display.max_rows', 100)\n",
    "pd.options.display.float_format = '{:.3f}'.format"
   ]
  },
  {
   "cell_type": "markdown",
   "id": "bee94788-bcf3-48c4-81d2-2a1cabebfab1",
   "metadata": {},
   "source": [
    "# Предобработка"
   ]
  },
  {
   "cell_type": "code",
   "execution_count": 4,
   "id": "4215629b-2bbb-424b-b874-7ce4c61f5c21",
   "metadata": {},
   "outputs": [],
   "source": [
    "df = pd.read_csv('data/data.csv')\n",
    "df_target = pd.read_csv('data/target.csv')"
   ]
  },
  {
   "cell_type": "code",
   "execution_count": 5,
   "id": "a727e5a4-5600-4f31-acb2-68b05ebf84a5",
   "metadata": {},
   "outputs": [
    {
     "data": {
      "text/html": [
       "<div>\n",
       "<style scoped>\n",
       "    .dataframe tbody tr th:only-of-type {\n",
       "        vertical-align: middle;\n",
       "    }\n",
       "\n",
       "    .dataframe tbody tr th {\n",
       "        vertical-align: top;\n",
       "    }\n",
       "\n",
       "    .dataframe thead th {\n",
       "        text-align: right;\n",
       "    }\n",
       "</style>\n",
       "<table border=\"1\" class=\"dataframe\">\n",
       "  <thead>\n",
       "    <tr style=\"text-align: right;\">\n",
       "      <th></th>\n",
       "      <th>clnt_ID</th>\n",
       "      <th>timestamp</th>\n",
       "      <th>gest_Sum</th>\n",
       "      <th>gest_Discount</th>\n",
       "    </tr>\n",
       "  </thead>\n",
       "  <tbody>\n",
       "    <tr>\n",
       "      <th>0</th>\n",
       "      <td>193B4268-0B4A-475E-B1D0-FF5515E29D29</td>\n",
       "      <td>2021-01-02 09:09:17.060</td>\n",
       "      <td>900.000</td>\n",
       "      <td>300.000</td>\n",
       "    </tr>\n",
       "    <tr>\n",
       "      <th>1</th>\n",
       "      <td>8DA65A37-C1D0-41D4-98E1-AB6C5BF1367F</td>\n",
       "      <td>2021-01-02 09:12:24.850</td>\n",
       "      <td>165.000</td>\n",
       "      <td>55.000</td>\n",
       "    </tr>\n",
       "    <tr>\n",
       "      <th>2</th>\n",
       "      <td>26ACF3C8-25C8-4345-ABC2-33DA15EA6454</td>\n",
       "      <td>2021-01-02 09:38:21.643</td>\n",
       "      <td>800.500</td>\n",
       "      <td>25.500</td>\n",
       "    </tr>\n",
       "    <tr>\n",
       "      <th>3</th>\n",
       "      <td>0F77DDB3-A9A7-44BE-AAAB-9DF59B66A695</td>\n",
       "      <td>2021-01-02 09:45:17.793</td>\n",
       "      <td>580.000</td>\n",
       "      <td>0.000</td>\n",
       "    </tr>\n",
       "    <tr>\n",
       "      <th>4</th>\n",
       "      <td>F16BCF77-FA5A-4093-B7E3-FA86E2B1EA31</td>\n",
       "      <td>2021-01-02 09:59:50.453</td>\n",
       "      <td>148.900</td>\n",
       "      <td>3.100</td>\n",
       "    </tr>\n",
       "  </tbody>\n",
       "</table>\n",
       "</div>"
      ],
      "text/plain": [
       "                                clnt_ID                timestamp  gest_Sum  \\\n",
       "0  193B4268-0B4A-475E-B1D0-FF5515E29D29  2021-01-02 09:09:17.060   900.000   \n",
       "1  8DA65A37-C1D0-41D4-98E1-AB6C5BF1367F  2021-01-02 09:12:24.850   165.000   \n",
       "2  26ACF3C8-25C8-4345-ABC2-33DA15EA6454  2021-01-02 09:38:21.643   800.500   \n",
       "3  0F77DDB3-A9A7-44BE-AAAB-9DF59B66A695  2021-01-02 09:45:17.793   580.000   \n",
       "4  F16BCF77-FA5A-4093-B7E3-FA86E2B1EA31  2021-01-02 09:59:50.453   148.900   \n",
       "\n",
       "   gest_Discount  \n",
       "0        300.000  \n",
       "1         55.000  \n",
       "2         25.500  \n",
       "3          0.000  \n",
       "4          3.100  "
      ]
     },
     "metadata": {},
     "output_type": "display_data"
    },
    {
     "data": {
      "text/html": [
       "<div>\n",
       "<style scoped>\n",
       "    .dataframe tbody tr th:only-of-type {\n",
       "        vertical-align: middle;\n",
       "    }\n",
       "\n",
       "    .dataframe tbody tr th {\n",
       "        vertical-align: top;\n",
       "    }\n",
       "\n",
       "    .dataframe thead th {\n",
       "        text-align: right;\n",
       "    }\n",
       "</style>\n",
       "<table border=\"1\" class=\"dataframe\">\n",
       "  <thead>\n",
       "    <tr style=\"text-align: right;\">\n",
       "      <th></th>\n",
       "      <th>clnt_ID</th>\n",
       "      <th>target</th>\n",
       "    </tr>\n",
       "  </thead>\n",
       "  <tbody>\n",
       "    <tr>\n",
       "      <th>0</th>\n",
       "      <td>000070A8-DB9E-4AB7-8C4D-6169D4AEBB2A</td>\n",
       "      <td>1</td>\n",
       "    </tr>\n",
       "    <tr>\n",
       "      <th>1</th>\n",
       "      <td>00007EB0-6331-438E-A917-E9840C260876</td>\n",
       "      <td>0</td>\n",
       "    </tr>\n",
       "    <tr>\n",
       "      <th>2</th>\n",
       "      <td>0000993D-A30E-4233-AB3F-D368D9A0D2C4</td>\n",
       "      <td>1</td>\n",
       "    </tr>\n",
       "    <tr>\n",
       "      <th>3</th>\n",
       "      <td>0000A724-7BC5-408F-9F16-6CC3AB16322F</td>\n",
       "      <td>0</td>\n",
       "    </tr>\n",
       "    <tr>\n",
       "      <th>4</th>\n",
       "      <td>0000B90C-56DE-43C2-A213-624AFBE36DB2</td>\n",
       "      <td>0</td>\n",
       "    </tr>\n",
       "  </tbody>\n",
       "</table>\n",
       "</div>"
      ],
      "text/plain": [
       "                                clnt_ID  target\n",
       "0  000070A8-DB9E-4AB7-8C4D-6169D4AEBB2A       1\n",
       "1  00007EB0-6331-438E-A917-E9840C260876       0\n",
       "2  0000993D-A30E-4233-AB3F-D368D9A0D2C4       1\n",
       "3  0000A724-7BC5-408F-9F16-6CC3AB16322F       0\n",
       "4  0000B90C-56DE-43C2-A213-624AFBE36DB2       0"
      ]
     },
     "execution_count": 5,
     "metadata": {},
     "output_type": "execute_result"
    }
   ],
   "source": [
    "display(df.head())\n",
    "df_target.head()"
   ]
  },
  {
   "cell_type": "code",
   "execution_count": 6,
   "id": "ff02bd9e-7e24-4993-9166-7b00c6c520d6",
   "metadata": {},
   "outputs": [
    {
     "name": "stdout",
     "output_type": "stream",
     "text": [
      "<class 'pandas.core.frame.DataFrame'>\n",
      "RangeIndex: 2371635 entries, 0 to 2371634\n",
      "Data columns (total 4 columns):\n",
      " #   Column         Dtype  \n",
      "---  ------         -----  \n",
      " 0   clnt_ID        object \n",
      " 1   timestamp      object \n",
      " 2   gest_Sum       float64\n",
      " 3   gest_Discount  float64\n",
      "dtypes: float64(2), object(2)\n",
      "memory usage: 72.4+ MB\n"
     ]
    }
   ],
   "source": [
    "df.info()"
   ]
  },
  {
   "cell_type": "code",
   "execution_count": 7,
   "id": "44769d36-e3d7-4d70-90bf-eca19c73db1a",
   "metadata": {},
   "outputs": [
    {
     "name": "stdout",
     "output_type": "stream",
     "text": [
      "<class 'pandas.core.frame.DataFrame'>\n",
      "RangeIndex: 255109 entries, 0 to 255108\n",
      "Data columns (total 2 columns):\n",
      " #   Column   Non-Null Count   Dtype \n",
      "---  ------   --------------   ----- \n",
      " 0   clnt_ID  255109 non-null  object\n",
      " 1   target   255109 non-null  int64 \n",
      "dtypes: int64(1), object(1)\n",
      "memory usage: 3.9+ MB\n"
     ]
    }
   ],
   "source": [
    "df_target.info()"
   ]
  },
  {
   "cell_type": "markdown",
   "id": "b579359f-9b1a-4616-aa45-8dff88f146de",
   "metadata": {},
   "source": [
    "* timestamp - object, а не datetime"
   ]
  },
  {
   "cell_type": "markdown",
   "id": "073a832f-489b-41a0-96fa-3ab2843406f9",
   "metadata": {},
   "source": [
    "Изменим тип данных в timestamp на datetime"
   ]
  },
  {
   "cell_type": "code",
   "execution_count": 8,
   "id": "781adff0-2e2b-4b8f-854f-e1117184d370",
   "metadata": {},
   "outputs": [],
   "source": [
    "df['timestamp'] = pd.to_datetime(df['timestamp'], format='%Y-%m-%d %H:%M:%S.%f')"
   ]
  },
  {
   "cell_type": "markdown",
   "id": "16f1c17b-9769-46c2-84c4-05e499f77fca",
   "metadata": {},
   "source": [
    "Добавим столбец с только датой."
   ]
  },
  {
   "cell_type": "code",
   "execution_count": 9,
   "id": "7cb51e48-ecff-40b6-92e5-788f28b9042a",
   "metadata": {},
   "outputs": [],
   "source": [
    "df['date'] = df['timestamp'].dt.date"
   ]
  },
  {
   "cell_type": "markdown",
   "id": "49681f41-5d18-4b77-b609-55b3be247820",
   "metadata": {},
   "source": [
    "Проверим на дубликаты и пропуски."
   ]
  },
  {
   "cell_type": "code",
   "execution_count": 10,
   "id": "36c228d5-a5af-4969-a339-1f4a5618bab1",
   "metadata": {},
   "outputs": [
    {
     "data": {
      "text/plain": [
       "clnt_ID          0\n",
       "timestamp        0\n",
       "gest_Sum         0\n",
       "gest_Discount    0\n",
       "date             0\n",
       "dtype: int64"
      ]
     },
     "execution_count": 10,
     "metadata": {},
     "output_type": "execute_result"
    }
   ],
   "source": [
    "df.isna().sum()"
   ]
  },
  {
   "cell_type": "markdown",
   "id": "c3441290-9e5d-4555-b62a-a45c0f1e90c8",
   "metadata": {},
   "source": [
    "Пропусков нет."
   ]
  },
  {
   "cell_type": "code",
   "execution_count": 11,
   "id": "ea49f18b-7ab0-43b3-a771-9902f773d3c4",
   "metadata": {},
   "outputs": [
    {
     "data": {
      "text/plain": [
       "129"
      ]
     },
     "execution_count": 11,
     "metadata": {},
     "output_type": "execute_result"
    }
   ],
   "source": [
    "df.duplicated().sum()"
   ]
  },
  {
   "cell_type": "markdown",
   "id": "fdc39adf-b1ad-4708-a276-5ea256cc29f9",
   "metadata": {},
   "source": [
    "Есть дубликаты, посмотрим на них."
   ]
  },
  {
   "cell_type": "code",
   "execution_count": 12,
   "id": "2b237787-c308-4d89-869d-8335098aa370",
   "metadata": {
    "tags": []
   },
   "outputs": [
    {
     "data": {
      "text/html": [
       "<div>\n",
       "<style scoped>\n",
       "    .dataframe tbody tr th:only-of-type {\n",
       "        vertical-align: middle;\n",
       "    }\n",
       "\n",
       "    .dataframe tbody tr th {\n",
       "        vertical-align: top;\n",
       "    }\n",
       "\n",
       "    .dataframe thead th {\n",
       "        text-align: right;\n",
       "    }\n",
       "</style>\n",
       "<table border=\"1\" class=\"dataframe\">\n",
       "  <thead>\n",
       "    <tr style=\"text-align: right;\">\n",
       "      <th></th>\n",
       "      <th>clnt_ID</th>\n",
       "      <th>timestamp</th>\n",
       "      <th>gest_Sum</th>\n",
       "      <th>gest_Discount</th>\n",
       "      <th>date</th>\n",
       "    </tr>\n",
       "  </thead>\n",
       "  <tbody>\n",
       "    <tr>\n",
       "      <th>639</th>\n",
       "      <td>1FA367BD-8E07-437E-AB6A-009D53533128</td>\n",
       "      <td>2021-01-02 12:00:00</td>\n",
       "      <td>982.200</td>\n",
       "      <td>0.000</td>\n",
       "      <td>2021-01-02</td>\n",
       "    </tr>\n",
       "    <tr>\n",
       "      <th>663</th>\n",
       "      <td>1FA367BD-8E07-437E-AB6A-009D53533128</td>\n",
       "      <td>2021-01-02 12:00:00</td>\n",
       "      <td>982.200</td>\n",
       "      <td>0.000</td>\n",
       "      <td>2021-01-02</td>\n",
       "    </tr>\n",
       "    <tr>\n",
       "      <th>85786</th>\n",
       "      <td>3319362D-F6AD-498B-9B53-F59D0418915E</td>\n",
       "      <td>2021-01-14 14:00:00</td>\n",
       "      <td>1189.000</td>\n",
       "      <td>0.000</td>\n",
       "      <td>2021-01-14</td>\n",
       "    </tr>\n",
       "    <tr>\n",
       "      <th>85787</th>\n",
       "      <td>3319362D-F6AD-498B-9B53-F59D0418915E</td>\n",
       "      <td>2021-01-14 14:00:00</td>\n",
       "      <td>1189.000</td>\n",
       "      <td>0.000</td>\n",
       "      <td>2021-01-14</td>\n",
       "    </tr>\n",
       "    <tr>\n",
       "      <th>133279</th>\n",
       "      <td>A145C6F8-EDCB-47B1-BF5D-B328F6AF97CA</td>\n",
       "      <td>2021-01-20 16:00:00</td>\n",
       "      <td>0.000</td>\n",
       "      <td>0.000</td>\n",
       "      <td>2021-01-20</td>\n",
       "    </tr>\n",
       "    <tr>\n",
       "      <th>...</th>\n",
       "      <td>...</td>\n",
       "      <td>...</td>\n",
       "      <td>...</td>\n",
       "      <td>...</td>\n",
       "      <td>...</td>\n",
       "    </tr>\n",
       "    <tr>\n",
       "      <th>2165277</th>\n",
       "      <td>E99EFF35-01BE-49A9-8F61-641F752051E5</td>\n",
       "      <td>2021-11-08 15:00:00</td>\n",
       "      <td>0.000</td>\n",
       "      <td>0.000</td>\n",
       "      <td>2021-11-08</td>\n",
       "    </tr>\n",
       "    <tr>\n",
       "      <th>2174627</th>\n",
       "      <td>1A4C0239-A7AB-4188-84DB-8F52FBF6E13C</td>\n",
       "      <td>2021-11-10 11:00:00</td>\n",
       "      <td>282.240</td>\n",
       "      <td>37.760</td>\n",
       "      <td>2021-11-10</td>\n",
       "    </tr>\n",
       "    <tr>\n",
       "      <th>2174629</th>\n",
       "      <td>1A4C0239-A7AB-4188-84DB-8F52FBF6E13C</td>\n",
       "      <td>2021-11-10 11:00:00</td>\n",
       "      <td>282.240</td>\n",
       "      <td>37.760</td>\n",
       "      <td>2021-11-10</td>\n",
       "    </tr>\n",
       "    <tr>\n",
       "      <th>2198034</th>\n",
       "      <td>C9D86AF9-373C-4531-92A4-8FC752DD5D75</td>\n",
       "      <td>2021-11-14 12:00:00</td>\n",
       "      <td>0.000</td>\n",
       "      <td>0.000</td>\n",
       "      <td>2021-11-14</td>\n",
       "    </tr>\n",
       "    <tr>\n",
       "      <th>2198035</th>\n",
       "      <td>C9D86AF9-373C-4531-92A4-8FC752DD5D75</td>\n",
       "      <td>2021-11-14 12:00:00</td>\n",
       "      <td>0.000</td>\n",
       "      <td>0.000</td>\n",
       "      <td>2021-11-14</td>\n",
       "    </tr>\n",
       "  </tbody>\n",
       "</table>\n",
       "<p>225 rows × 5 columns</p>\n",
       "</div>"
      ],
      "text/plain": [
       "                                      clnt_ID           timestamp  gest_Sum  \\\n",
       "639      1FA367BD-8E07-437E-AB6A-009D53533128 2021-01-02 12:00:00   982.200   \n",
       "663      1FA367BD-8E07-437E-AB6A-009D53533128 2021-01-02 12:00:00   982.200   \n",
       "85786    3319362D-F6AD-498B-9B53-F59D0418915E 2021-01-14 14:00:00  1189.000   \n",
       "85787    3319362D-F6AD-498B-9B53-F59D0418915E 2021-01-14 14:00:00  1189.000   \n",
       "133279   A145C6F8-EDCB-47B1-BF5D-B328F6AF97CA 2021-01-20 16:00:00     0.000   \n",
       "...                                       ...                 ...       ...   \n",
       "2165277  E99EFF35-01BE-49A9-8F61-641F752051E5 2021-11-08 15:00:00     0.000   \n",
       "2174627  1A4C0239-A7AB-4188-84DB-8F52FBF6E13C 2021-11-10 11:00:00   282.240   \n",
       "2174629  1A4C0239-A7AB-4188-84DB-8F52FBF6E13C 2021-11-10 11:00:00   282.240   \n",
       "2198034  C9D86AF9-373C-4531-92A4-8FC752DD5D75 2021-11-14 12:00:00     0.000   \n",
       "2198035  C9D86AF9-373C-4531-92A4-8FC752DD5D75 2021-11-14 12:00:00     0.000   \n",
       "\n",
       "         gest_Discount        date  \n",
       "639              0.000  2021-01-02  \n",
       "663              0.000  2021-01-02  \n",
       "85786            0.000  2021-01-14  \n",
       "85787            0.000  2021-01-14  \n",
       "133279           0.000  2021-01-20  \n",
       "...                ...         ...  \n",
       "2165277          0.000  2021-11-08  \n",
       "2174627         37.760  2021-11-10  \n",
       "2174629         37.760  2021-11-10  \n",
       "2198034          0.000  2021-11-14  \n",
       "2198035          0.000  2021-11-14  \n",
       "\n",
       "[225 rows x 5 columns]"
      ]
     },
     "execution_count": 12,
     "metadata": {},
     "output_type": "execute_result"
    }
   ],
   "source": [
    "df.loc[df.duplicated(keep=False)]"
   ]
  },
  {
   "cell_type": "markdown",
   "id": "2de29057-8b9d-4684-98c0-f2ddaa928b70",
   "metadata": {
    "tags": []
   },
   "source": [
    "Удалим дубликаты."
   ]
  },
  {
   "cell_type": "code",
   "execution_count": 13,
   "id": "007ee042-2d7d-4634-9962-c9bdcd324388",
   "metadata": {},
   "outputs": [],
   "source": [
    "df = df.drop_duplicates()"
   ]
  },
  {
   "cell_type": "code",
   "execution_count": 14,
   "id": "a50807cf-6b8d-4eaa-9a06-5b244e7ceecd",
   "metadata": {},
   "outputs": [
    {
     "data": {
      "text/plain": [
       "0"
      ]
     },
     "execution_count": 14,
     "metadata": {},
     "output_type": "execute_result"
    }
   ],
   "source": [
    "df.duplicated().sum()"
   ]
  },
  {
   "cell_type": "markdown",
   "id": "05de76ac-875f-4136-a9a5-d11b4f27d9a5",
   "metadata": {},
   "source": [
    "Дубликаты удалили."
   ]
  },
  {
   "cell_type": "markdown",
   "id": "4b97a434-748a-4fa4-8262-8b304a6a4a8c",
   "metadata": {},
   "source": [
    "# EDA того, что есть"
   ]
  },
  {
   "cell_type": "markdown",
   "id": "c649a25e-3aff-4dd4-9aab-9442cb803514",
   "metadata": {},
   "source": [
    "Анализируем.\n",
    "* Дата сет как есть\n",
    "* Дата сет агрегированный по клиентам"
   ]
  },
  {
   "cell_type": "markdown",
   "id": "aed4eb5e-5d7c-449f-97ef-88b0a151b427",
   "metadata": {},
   "source": [
    "## Анализируем дата сет как есть"
   ]
  },
  {
   "cell_type": "code",
   "execution_count": 24,
   "id": "29ae1c2a-60e1-4372-8ee0-3645b838ac5a",
   "metadata": {},
   "outputs": [],
   "source": [
    "# Обеъединим фичи с таргетами\n",
    "df_eda = df.merge(df_target,on='clnt_ID')\n",
    "# df_eda = df_eda.drop(columns=['timestamp'])"
   ]
  },
  {
   "cell_type": "code",
   "execution_count": 25,
   "id": "501d3dae-f0bf-4646-8825-78af22fda8c4",
   "metadata": {},
   "outputs": [],
   "source": [
    "profile = ProfileReport(df_eda,minimal=True)"
   ]
  },
  {
   "cell_type": "code",
   "execution_count": 26,
   "id": "c9f8cb9d-26b1-48bd-82b2-5a7cb235e0fa",
   "metadata": {},
   "outputs": [
    {
     "data": {
      "application/vnd.jupyter.widget-view+json": {
       "model_id": "ba4db80bc56d41d18a07547637d45d60",
       "version_major": 2,
       "version_minor": 0
      },
      "text/plain": [
       "Summarize dataset:   0%|          | 0/5 [00:00<?, ?it/s]"
      ]
     },
     "metadata": {},
     "output_type": "display_data"
    },
    {
     "data": {
      "application/vnd.jupyter.widget-view+json": {
       "model_id": "3d1b237662064e97b87c166fc888fab4",
       "version_major": 2,
       "version_minor": 0
      },
      "text/plain": [
       "Generate report structure:   0%|          | 0/1 [00:00<?, ?it/s]"
      ]
     },
     "metadata": {},
     "output_type": "display_data"
    },
    {
     "data": {
      "application/vnd.jupyter.widget-view+json": {
       "model_id": "",
       "version_major": 2,
       "version_minor": 0
      },
      "text/plain": [
       "Render widgets:   0%|          | 0/1 [00:00<?, ?it/s]"
      ]
     },
     "metadata": {},
     "output_type": "display_data"
    },
    {
     "data": {
      "application/vnd.jupyter.widget-view+json": {
       "model_id": "fbca67bee5a54eb3ae9ebaca97e7c7ba",
       "version_major": 2,
       "version_minor": 0
      },
      "text/plain": [
       "VBox(children=(Tab(children=(Tab(children=(GridBox(children=(VBox(children=(GridspecLayout(children=(HTML(valu…"
      ]
     },
     "metadata": {},
     "output_type": "display_data"
    }
   ],
   "source": [
    "profile.to_widgets()"
   ]
  },
  {
   "cell_type": "markdown",
   "id": "3af84d4e-7cdf-4dbb-9008-bfb0ea445385",
   "metadata": {},
   "source": [
    "## Анализируем агрегированный по юзерам датасет"
   ]
  },
  {
   "cell_type": "code",
   "execution_count": 35,
   "id": "888dbfe2-2aed-42c6-b02c-b4c4a5bc85ea",
   "metadata": {},
   "outputs": [],
   "source": [
    "df_eda_agg_by_user = df.pivot_table(index='clnt_ID',aggfunc=['count','min','max','median','mean','std'])"
   ]
  },
  {
   "cell_type": "code",
   "execution_count": 36,
   "id": "7e7a5b0e-18a0-4955-acb3-6a54be5c23a6",
   "metadata": {},
   "outputs": [
    {
     "data": {
      "text/plain": [
       "Index(['count_date', 'count_gest_Discount', 'count_gest_Sum',\n",
       "       'count_timestamp', 'min_date', 'min_gest_Discount', 'min_gest_Sum',\n",
       "       'min_timestamp', 'max_date', 'max_gest_Discount', 'max_gest_Sum',\n",
       "       'max_timestamp', 'median_gest_Discount', 'median_gest_Sum',\n",
       "       'mean_gest_Discount', 'mean_gest_Sum', 'std_gest_Discount',\n",
       "       'std_gest_Sum'],\n",
       "      dtype='object')"
      ]
     },
     "execution_count": 36,
     "metadata": {},
     "output_type": "execute_result"
    }
   ],
   "source": [
    "df_eda_agg_by_user.columns = ['_'.join(column) for column in df_eda_agg_by_user.columns]\n",
    "df_eda_agg_by_user.columns"
   ]
  },
  {
   "cell_type": "code",
   "execution_count": 39,
   "id": "a7f10d73-2f57-4f63-9c81-e2a5bf43ca30",
   "metadata": {},
   "outputs": [
    {
     "data": {
      "text/html": [
       "<div>\n",
       "<style scoped>\n",
       "    .dataframe tbody tr th:only-of-type {\n",
       "        vertical-align: middle;\n",
       "    }\n",
       "\n",
       "    .dataframe tbody tr th {\n",
       "        vertical-align: top;\n",
       "    }\n",
       "\n",
       "    .dataframe thead th {\n",
       "        text-align: right;\n",
       "    }\n",
       "</style>\n",
       "<table border=\"1\" class=\"dataframe\">\n",
       "  <thead>\n",
       "    <tr style=\"text-align: right;\">\n",
       "      <th></th>\n",
       "      <th>clnt_ID</th>\n",
       "      <th>count_date</th>\n",
       "      <th>count_gest_Discount</th>\n",
       "      <th>count_gest_Sum</th>\n",
       "      <th>count_timestamp</th>\n",
       "      <th>min_date</th>\n",
       "      <th>min_gest_Discount</th>\n",
       "      <th>min_gest_Sum</th>\n",
       "      <th>min_timestamp</th>\n",
       "      <th>max_date</th>\n",
       "      <th>max_gest_Discount</th>\n",
       "      <th>max_gest_Sum</th>\n",
       "      <th>max_timestamp</th>\n",
       "      <th>median_gest_Discount</th>\n",
       "      <th>median_gest_Sum</th>\n",
       "      <th>mean_gest_Discount</th>\n",
       "      <th>mean_gest_Sum</th>\n",
       "      <th>std_gest_Discount</th>\n",
       "      <th>std_gest_Sum</th>\n",
       "    </tr>\n",
       "  </thead>\n",
       "  <tbody>\n",
       "    <tr>\n",
       "      <th>0</th>\n",
       "      <td>000070A8-DB9E-4AB7-8C4D-6169D4AEBB2A</td>\n",
       "      <td>3</td>\n",
       "      <td>3</td>\n",
       "      <td>3</td>\n",
       "      <td>3</td>\n",
       "      <td>2021-01-24</td>\n",
       "      <td>10.000</td>\n",
       "      <td>490.000</td>\n",
       "      <td>2021-01-24 13:45:46.533</td>\n",
       "      <td>2021-02-21</td>\n",
       "      <td>44.800</td>\n",
       "      <td>566.200</td>\n",
       "      <td>2021-02-21 13:47:54.810</td>\n",
       "      <td>10.600</td>\n",
       "      <td>519.400</td>\n",
       "      <td>21.800</td>\n",
       "      <td>525.200</td>\n",
       "      <td>19.921</td>\n",
       "      <td>38.430</td>\n",
       "    </tr>\n",
       "    <tr>\n",
       "      <th>1</th>\n",
       "      <td>00007EB0-6331-438E-A917-E9840C260876</td>\n",
       "      <td>1</td>\n",
       "      <td>1</td>\n",
       "      <td>1</td>\n",
       "      <td>1</td>\n",
       "      <td>2021-01-12</td>\n",
       "      <td>6.000</td>\n",
       "      <td>214.000</td>\n",
       "      <td>2021-01-12 09:39:50.887</td>\n",
       "      <td>2021-01-12</td>\n",
       "      <td>6.000</td>\n",
       "      <td>214.000</td>\n",
       "      <td>2021-01-12 09:39:50.887</td>\n",
       "      <td>6.000</td>\n",
       "      <td>214.000</td>\n",
       "      <td>6.000</td>\n",
       "      <td>214.000</td>\n",
       "      <td>NaN</td>\n",
       "      <td>NaN</td>\n",
       "    </tr>\n",
       "    <tr>\n",
       "      <th>2</th>\n",
       "      <td>0000993D-A30E-4233-AB3F-D368D9A0D2C4</td>\n",
       "      <td>1</td>\n",
       "      <td>1</td>\n",
       "      <td>1</td>\n",
       "      <td>1</td>\n",
       "      <td>2021-07-25</td>\n",
       "      <td>0.000</td>\n",
       "      <td>470.000</td>\n",
       "      <td>2021-07-25 15:03:30.863</td>\n",
       "      <td>2021-07-25</td>\n",
       "      <td>0.000</td>\n",
       "      <td>470.000</td>\n",
       "      <td>2021-07-25 15:03:30.863</td>\n",
       "      <td>0.000</td>\n",
       "      <td>470.000</td>\n",
       "      <td>0.000</td>\n",
       "      <td>470.000</td>\n",
       "      <td>NaN</td>\n",
       "      <td>NaN</td>\n",
       "    </tr>\n",
       "    <tr>\n",
       "      <th>3</th>\n",
       "      <td>0000A724-7BC5-408F-9F16-6CC3AB16322F</td>\n",
       "      <td>64</td>\n",
       "      <td>64</td>\n",
       "      <td>64</td>\n",
       "      <td>64</td>\n",
       "      <td>2021-01-19</td>\n",
       "      <td>0.000</td>\n",
       "      <td>0.000</td>\n",
       "      <td>2021-01-19 12:24:35.337</td>\n",
       "      <td>2021-11-26</td>\n",
       "      <td>280.800</td>\n",
       "      <td>562.600</td>\n",
       "      <td>2021-11-26 17:14:12.610</td>\n",
       "      <td>8.550</td>\n",
       "      <td>260.550</td>\n",
       "      <td>31.162</td>\n",
       "      <td>274.228</td>\n",
       "      <td>62.320</td>\n",
       "      <td>118.275</td>\n",
       "    </tr>\n",
       "    <tr>\n",
       "      <th>4</th>\n",
       "      <td>0000B90C-56DE-43C2-A213-624AFBE36DB2</td>\n",
       "      <td>1</td>\n",
       "      <td>1</td>\n",
       "      <td>1</td>\n",
       "      <td>1</td>\n",
       "      <td>2021-10-27</td>\n",
       "      <td>0.000</td>\n",
       "      <td>549.000</td>\n",
       "      <td>2021-10-27 13:42:00.000</td>\n",
       "      <td>2021-10-27</td>\n",
       "      <td>0.000</td>\n",
       "      <td>549.000</td>\n",
       "      <td>2021-10-27 13:42:00.000</td>\n",
       "      <td>0.000</td>\n",
       "      <td>549.000</td>\n",
       "      <td>0.000</td>\n",
       "      <td>549.000</td>\n",
       "      <td>NaN</td>\n",
       "      <td>NaN</td>\n",
       "    </tr>\n",
       "  </tbody>\n",
       "</table>\n",
       "</div>"
      ],
      "text/plain": [
       "                                clnt_ID  count_date  count_gest_Discount  \\\n",
       "0  000070A8-DB9E-4AB7-8C4D-6169D4AEBB2A           3                    3   \n",
       "1  00007EB0-6331-438E-A917-E9840C260876           1                    1   \n",
       "2  0000993D-A30E-4233-AB3F-D368D9A0D2C4           1                    1   \n",
       "3  0000A724-7BC5-408F-9F16-6CC3AB16322F          64                   64   \n",
       "4  0000B90C-56DE-43C2-A213-624AFBE36DB2           1                    1   \n",
       "\n",
       "   count_gest_Sum  count_timestamp    min_date  min_gest_Discount  \\\n",
       "0               3                3  2021-01-24             10.000   \n",
       "1               1                1  2021-01-12              6.000   \n",
       "2               1                1  2021-07-25              0.000   \n",
       "3              64               64  2021-01-19              0.000   \n",
       "4               1                1  2021-10-27              0.000   \n",
       "\n",
       "   min_gest_Sum           min_timestamp    max_date  max_gest_Discount  \\\n",
       "0       490.000 2021-01-24 13:45:46.533  2021-02-21             44.800   \n",
       "1       214.000 2021-01-12 09:39:50.887  2021-01-12              6.000   \n",
       "2       470.000 2021-07-25 15:03:30.863  2021-07-25              0.000   \n",
       "3         0.000 2021-01-19 12:24:35.337  2021-11-26            280.800   \n",
       "4       549.000 2021-10-27 13:42:00.000  2021-10-27              0.000   \n",
       "\n",
       "   max_gest_Sum           max_timestamp  median_gest_Discount  \\\n",
       "0       566.200 2021-02-21 13:47:54.810                10.600   \n",
       "1       214.000 2021-01-12 09:39:50.887                 6.000   \n",
       "2       470.000 2021-07-25 15:03:30.863                 0.000   \n",
       "3       562.600 2021-11-26 17:14:12.610                 8.550   \n",
       "4       549.000 2021-10-27 13:42:00.000                 0.000   \n",
       "\n",
       "   median_gest_Sum  mean_gest_Discount  mean_gest_Sum  std_gest_Discount  \\\n",
       "0          519.400              21.800        525.200             19.921   \n",
       "1          214.000               6.000        214.000                NaN   \n",
       "2          470.000               0.000        470.000                NaN   \n",
       "3          260.550              31.162        274.228             62.320   \n",
       "4          549.000               0.000        549.000                NaN   \n",
       "\n",
       "   std_gest_Sum  \n",
       "0        38.430  \n",
       "1           NaN  \n",
       "2           NaN  \n",
       "3       118.275  \n",
       "4           NaN  "
      ]
     },
     "execution_count": 39,
     "metadata": {},
     "output_type": "execute_result"
    }
   ],
   "source": [
    "df_eda_agg_by_user.head().reset_index()"
   ]
  },
  {
   "cell_type": "code",
   "execution_count": 40,
   "id": "5b40f592-d497-4118-a9fe-aa67cc544512",
   "metadata": {
    "collapsed": true,
    "jupyter": {
     "outputs_hidden": true
    },
    "tags": []
   },
   "outputs": [
    {
     "ename": "TypeError",
     "evalue": "Setting a MultiIndex dtype to anything other than object is not supported",
     "output_type": "error",
     "traceback": [
      "\u001b[1;31m---------------------------------------------------------------------------\u001b[0m",
      "\u001b[1;31mTypeError\u001b[0m                                 Traceback (most recent call last)",
      "Input \u001b[1;32mIn [40]\u001b[0m, in \u001b[0;36m<cell line: 2>\u001b[1;34m()\u001b[0m\n\u001b[0;32m      1\u001b[0m profile \u001b[38;5;241m=\u001b[39m ProfileReport(df_eda_agg_by_used\u001b[38;5;241m.\u001b[39mreset_index(),minimal\u001b[38;5;241m=\u001b[39m\u001b[38;5;28;01mTrue\u001b[39;00m)\n\u001b[1;32m----> 2\u001b[0m \u001b[43mprofile\u001b[49m\u001b[38;5;241;43m.\u001b[39;49m\u001b[43mto_widgets\u001b[49m\u001b[43m(\u001b[49m\u001b[43m)\u001b[49m\n",
      "File \u001b[1;32m~\\Desktop\\projects\\bushe_churn_prediction_workshop\\env\\lib\\site-packages\\pandas_profiling\\profile_report.py:414\u001b[0m, in \u001b[0;36mProfileReport.to_widgets\u001b[1;34m(self)\u001b[0m\n\u001b[0;32m    410\u001b[0m     \u001b[38;5;28;01mpass\u001b[39;00m\n\u001b[0;32m    412\u001b[0m \u001b[38;5;28;01mfrom\u001b[39;00m \u001b[38;5;21;01mIPython\u001b[39;00m\u001b[38;5;21;01m.\u001b[39;00m\u001b[38;5;21;01mcore\u001b[39;00m\u001b[38;5;21;01m.\u001b[39;00m\u001b[38;5;21;01mdisplay\u001b[39;00m \u001b[38;5;28;01mimport\u001b[39;00m display\n\u001b[1;32m--> 414\u001b[0m display(\u001b[38;5;28;43mself\u001b[39;49m\u001b[38;5;241;43m.\u001b[39;49m\u001b[43mwidgets\u001b[49m)\n",
      "File \u001b[1;32m~\\Desktop\\projects\\bushe_churn_prediction_workshop\\env\\lib\\site-packages\\pandas_profiling\\profile_report.py:197\u001b[0m, in \u001b[0;36mProfileReport.widgets\u001b[1;34m(self)\u001b[0m\n\u001b[0;32m    194\u001b[0m \u001b[38;5;129m@property\u001b[39m\n\u001b[0;32m    195\u001b[0m \u001b[38;5;28;01mdef\u001b[39;00m \u001b[38;5;21mwidgets\u001b[39m(\u001b[38;5;28mself\u001b[39m) \u001b[38;5;241m-\u001b[39m\u001b[38;5;241m>\u001b[39m Renderable:\n\u001b[0;32m    196\u001b[0m     \u001b[38;5;28;01mif\u001b[39;00m \u001b[38;5;28mself\u001b[39m\u001b[38;5;241m.\u001b[39m_widgets \u001b[38;5;129;01mis\u001b[39;00m \u001b[38;5;28;01mNone\u001b[39;00m:\n\u001b[1;32m--> 197\u001b[0m         \u001b[38;5;28mself\u001b[39m\u001b[38;5;241m.\u001b[39m_widgets \u001b[38;5;241m=\u001b[39m \u001b[38;5;28;43mself\u001b[39;49m\u001b[38;5;241;43m.\u001b[39;49m\u001b[43m_render_widgets\u001b[49m\u001b[43m(\u001b[49m\u001b[43m)\u001b[49m\n\u001b[0;32m    198\u001b[0m     \u001b[38;5;28;01mreturn\u001b[39;00m \u001b[38;5;28mself\u001b[39m\u001b[38;5;241m.\u001b[39m_widgets\n",
      "File \u001b[1;32m~\\Desktop\\projects\\bushe_churn_prediction_workshop\\env\\lib\\site-packages\\pandas_profiling\\profile_report.py:315\u001b[0m, in \u001b[0;36mProfileReport._render_widgets\u001b[1;34m(self)\u001b[0m\n\u001b[0;32m    312\u001b[0m \u001b[38;5;28;01mdef\u001b[39;00m \u001b[38;5;21m_render_widgets\u001b[39m(\u001b[38;5;28mself\u001b[39m) \u001b[38;5;241m-\u001b[39m\u001b[38;5;241m>\u001b[39m Renderable:\n\u001b[0;32m    313\u001b[0m     \u001b[38;5;28;01mfrom\u001b[39;00m \u001b[38;5;21;01mpandas_profiling\u001b[39;00m\u001b[38;5;21;01m.\u001b[39;00m\u001b[38;5;21;01mreport\u001b[39;00m\u001b[38;5;21;01m.\u001b[39;00m\u001b[38;5;21;01mpresentation\u001b[39;00m\u001b[38;5;21;01m.\u001b[39;00m\u001b[38;5;21;01mflavours\u001b[39;00m \u001b[38;5;28;01mimport\u001b[39;00m WidgetReport\n\u001b[1;32m--> 315\u001b[0m     report \u001b[38;5;241m=\u001b[39m \u001b[38;5;28;43mself\u001b[39;49m\u001b[38;5;241;43m.\u001b[39;49m\u001b[43mreport\u001b[49m\n\u001b[0;32m    317\u001b[0m     \u001b[38;5;28;01mwith\u001b[39;00m tqdm(\n\u001b[0;32m    318\u001b[0m         total\u001b[38;5;241m=\u001b[39m\u001b[38;5;241m1\u001b[39m,\n\u001b[0;32m    319\u001b[0m         desc\u001b[38;5;241m=\u001b[39m\u001b[38;5;124m\"\u001b[39m\u001b[38;5;124mRender widgets\u001b[39m\u001b[38;5;124m\"\u001b[39m,\n\u001b[0;32m    320\u001b[0m         disable\u001b[38;5;241m=\u001b[39m\u001b[38;5;129;01mnot\u001b[39;00m \u001b[38;5;28mself\u001b[39m\u001b[38;5;241m.\u001b[39mconfig\u001b[38;5;241m.\u001b[39mprogress_bar,\n\u001b[0;32m    321\u001b[0m         leave\u001b[38;5;241m=\u001b[39m\u001b[38;5;28;01mFalse\u001b[39;00m,\n\u001b[0;32m    322\u001b[0m     ) \u001b[38;5;28;01mas\u001b[39;00m pbar:\n\u001b[0;32m    323\u001b[0m         widgets \u001b[38;5;241m=\u001b[39m WidgetReport(copy\u001b[38;5;241m.\u001b[39mdeepcopy(report))\u001b[38;5;241m.\u001b[39mrender()\n",
      "File \u001b[1;32m~\\Desktop\\projects\\bushe_churn_prediction_workshop\\env\\lib\\site-packages\\pandas_profiling\\profile_report.py:179\u001b[0m, in \u001b[0;36mProfileReport.report\u001b[1;34m(self)\u001b[0m\n\u001b[0;32m    176\u001b[0m \u001b[38;5;129m@property\u001b[39m\n\u001b[0;32m    177\u001b[0m \u001b[38;5;28;01mdef\u001b[39;00m \u001b[38;5;21mreport\u001b[39m(\u001b[38;5;28mself\u001b[39m) \u001b[38;5;241m-\u001b[39m\u001b[38;5;241m>\u001b[39m Root:\n\u001b[0;32m    178\u001b[0m     \u001b[38;5;28;01mif\u001b[39;00m \u001b[38;5;28mself\u001b[39m\u001b[38;5;241m.\u001b[39m_report \u001b[38;5;129;01mis\u001b[39;00m \u001b[38;5;28;01mNone\u001b[39;00m:\n\u001b[1;32m--> 179\u001b[0m         \u001b[38;5;28mself\u001b[39m\u001b[38;5;241m.\u001b[39m_report \u001b[38;5;241m=\u001b[39m get_report_structure(\u001b[38;5;28mself\u001b[39m\u001b[38;5;241m.\u001b[39mconfig, \u001b[38;5;28;43mself\u001b[39;49m\u001b[38;5;241;43m.\u001b[39;49m\u001b[43mdescription_set\u001b[49m)\n\u001b[0;32m    180\u001b[0m     \u001b[38;5;28;01mreturn\u001b[39;00m \u001b[38;5;28mself\u001b[39m\u001b[38;5;241m.\u001b[39m_report\n",
      "File \u001b[1;32m~\\Desktop\\projects\\bushe_churn_prediction_workshop\\env\\lib\\site-packages\\pandas_profiling\\profile_report.py:161\u001b[0m, in \u001b[0;36mProfileReport.description_set\u001b[1;34m(self)\u001b[0m\n\u001b[0;32m    158\u001b[0m \u001b[38;5;129m@property\u001b[39m\n\u001b[0;32m    159\u001b[0m \u001b[38;5;28;01mdef\u001b[39;00m \u001b[38;5;21mdescription_set\u001b[39m(\u001b[38;5;28mself\u001b[39m) \u001b[38;5;241m-\u001b[39m\u001b[38;5;241m>\u001b[39m Dict[\u001b[38;5;28mstr\u001b[39m, Any]:\n\u001b[0;32m    160\u001b[0m     \u001b[38;5;28;01mif\u001b[39;00m \u001b[38;5;28mself\u001b[39m\u001b[38;5;241m.\u001b[39m_description_set \u001b[38;5;129;01mis\u001b[39;00m \u001b[38;5;28;01mNone\u001b[39;00m:\n\u001b[1;32m--> 161\u001b[0m         \u001b[38;5;28mself\u001b[39m\u001b[38;5;241m.\u001b[39m_description_set \u001b[38;5;241m=\u001b[39m \u001b[43mdescribe_df\u001b[49m\u001b[43m(\u001b[49m\n\u001b[0;32m    162\u001b[0m \u001b[43m            \u001b[49m\u001b[38;5;28;43mself\u001b[39;49m\u001b[38;5;241;43m.\u001b[39;49m\u001b[43mconfig\u001b[49m\u001b[43m,\u001b[49m\n\u001b[0;32m    163\u001b[0m \u001b[43m            \u001b[49m\u001b[38;5;28;43mself\u001b[39;49m\u001b[38;5;241;43m.\u001b[39;49m\u001b[43mdf\u001b[49m\u001b[43m,\u001b[49m\n\u001b[0;32m    164\u001b[0m \u001b[43m            \u001b[49m\u001b[38;5;28;43mself\u001b[39;49m\u001b[38;5;241;43m.\u001b[39;49m\u001b[43msummarizer\u001b[49m\u001b[43m,\u001b[49m\n\u001b[0;32m    165\u001b[0m \u001b[43m            \u001b[49m\u001b[38;5;28;43mself\u001b[39;49m\u001b[38;5;241;43m.\u001b[39;49m\u001b[43mtypeset\u001b[49m\u001b[43m,\u001b[49m\n\u001b[0;32m    166\u001b[0m \u001b[43m            \u001b[49m\u001b[38;5;28;43mself\u001b[39;49m\u001b[38;5;241;43m.\u001b[39;49m\u001b[43m_sample\u001b[49m\u001b[43m,\u001b[49m\n\u001b[0;32m    167\u001b[0m \u001b[43m        \u001b[49m\u001b[43m)\u001b[49m\n\u001b[0;32m    168\u001b[0m     \u001b[38;5;28;01mreturn\u001b[39;00m \u001b[38;5;28mself\u001b[39m\u001b[38;5;241m.\u001b[39m_description_set\n",
      "File \u001b[1;32m~\\Desktop\\projects\\bushe_churn_prediction_workshop\\env\\lib\\site-packages\\pandas_profiling\\model\\describe.py:57\u001b[0m, in \u001b[0;36mdescribe\u001b[1;34m(config, df, summarizer, typeset, sample)\u001b[0m\n\u001b[0;32m     54\u001b[0m     \u001b[38;5;28;01mraise\u001b[39;00m \u001b[38;5;167;01mValueError\u001b[39;00m(\u001b[38;5;124m\"\u001b[39m\u001b[38;5;124mCan not describe a `lazy` ProfileReport without a DataFrame.\u001b[39m\u001b[38;5;124m\"\u001b[39m)\n\u001b[0;32m     56\u001b[0m check_dataframe(df)\n\u001b[1;32m---> 57\u001b[0m df \u001b[38;5;241m=\u001b[39m \u001b[43mpreprocess\u001b[49m\u001b[43m(\u001b[49m\u001b[43mconfig\u001b[49m\u001b[43m,\u001b[49m\u001b[43m \u001b[49m\u001b[43mdf\u001b[49m\u001b[43m)\u001b[49m\n\u001b[0;32m     59\u001b[0m number_of_tasks \u001b[38;5;241m=\u001b[39m \u001b[38;5;241m5\u001b[39m\n\u001b[0;32m     61\u001b[0m \u001b[38;5;28;01mwith\u001b[39;00m tqdm(\n\u001b[0;32m     62\u001b[0m     total\u001b[38;5;241m=\u001b[39mnumber_of_tasks,\n\u001b[0;32m     63\u001b[0m     desc\u001b[38;5;241m=\u001b[39m\u001b[38;5;124m\"\u001b[39m\u001b[38;5;124mSummarize dataset\u001b[39m\u001b[38;5;124m\"\u001b[39m,\n\u001b[0;32m     64\u001b[0m     disable\u001b[38;5;241m=\u001b[39m\u001b[38;5;129;01mnot\u001b[39;00m config\u001b[38;5;241m.\u001b[39mprogress_bar,\n\u001b[0;32m     65\u001b[0m     position\u001b[38;5;241m=\u001b[39m\u001b[38;5;241m0\u001b[39m,\n\u001b[0;32m     66\u001b[0m ) \u001b[38;5;28;01mas\u001b[39;00m pbar:\n",
      "File \u001b[1;32m~\\Desktop\\projects\\bushe_churn_prediction_workshop\\env\\lib\\site-packages\\multimethod\\__init__.py:184\u001b[0m, in \u001b[0;36mmultimethod.__call__\u001b[1;34m(self, *args, **kwargs)\u001b[0m\n\u001b[0;32m    182\u001b[0m \u001b[38;5;28;01mdef\u001b[39;00m \u001b[38;5;21m__call__\u001b[39m(\u001b[38;5;28mself\u001b[39m, \u001b[38;5;241m*\u001b[39margs, \u001b[38;5;241m*\u001b[39m\u001b[38;5;241m*\u001b[39mkwargs):\n\u001b[0;32m    183\u001b[0m     \u001b[38;5;124;03m\"\"\"Resolve and dispatch to best method.\"\"\"\u001b[39;00m\n\u001b[1;32m--> 184\u001b[0m     \u001b[38;5;28;01mreturn\u001b[39;00m \u001b[38;5;28mself\u001b[39m[\u001b[38;5;28mtuple\u001b[39m(\u001b[38;5;28mmap\u001b[39m(\u001b[38;5;28mself\u001b[39m\u001b[38;5;241m.\u001b[39mget_type, args))](\u001b[38;5;241m*\u001b[39margs, \u001b[38;5;241m*\u001b[39m\u001b[38;5;241m*\u001b[39mkwargs)\n",
      "File \u001b[1;32m~\\Desktop\\projects\\bushe_churn_prediction_workshop\\env\\lib\\site-packages\\pandas_profiling\\model\\pandas\\dataframe_pandas.py:43\u001b[0m, in \u001b[0;36mpandas_preprocess\u001b[1;34m(config, df)\u001b[0m\n\u001b[0;32m     40\u001b[0m df \u001b[38;5;241m=\u001b[39m rename_index(df)\n\u001b[0;32m     42\u001b[0m \u001b[38;5;66;03m# Ensure that columns are strings\u001b[39;00m\n\u001b[1;32m---> 43\u001b[0m df\u001b[38;5;241m.\u001b[39mcolumns \u001b[38;5;241m=\u001b[39m \u001b[43mdf\u001b[49m\u001b[38;5;241;43m.\u001b[39;49m\u001b[43mcolumns\u001b[49m\u001b[38;5;241;43m.\u001b[39;49m\u001b[43mastype\u001b[49m\u001b[43m(\u001b[49m\u001b[38;5;124;43m\"\u001b[39;49m\u001b[38;5;124;43mstr\u001b[39;49m\u001b[38;5;124;43m\"\u001b[39;49m\u001b[43m)\u001b[49m\n\u001b[0;32m     44\u001b[0m \u001b[38;5;28;01mreturn\u001b[39;00m df\n",
      "File \u001b[1;32m~\\Desktop\\projects\\bushe_churn_prediction_workshop\\env\\lib\\site-packages\\pandas\\core\\indexes\\multi.py:3729\u001b[0m, in \u001b[0;36mMultiIndex.astype\u001b[1;34m(self, dtype, copy)\u001b[0m\n\u001b[0;32m   3727\u001b[0m     \u001b[38;5;28;01mraise\u001b[39;00m \u001b[38;5;167;01mNotImplementedError\u001b[39;00m(msg)\n\u001b[0;32m   3728\u001b[0m \u001b[38;5;28;01melif\u001b[39;00m \u001b[38;5;129;01mnot\u001b[39;00m is_object_dtype(dtype):\n\u001b[1;32m-> 3729\u001b[0m     \u001b[38;5;28;01mraise\u001b[39;00m \u001b[38;5;167;01mTypeError\u001b[39;00m(\n\u001b[0;32m   3730\u001b[0m         \u001b[38;5;124m\"\u001b[39m\u001b[38;5;124mSetting a MultiIndex dtype to anything other than object \u001b[39m\u001b[38;5;124m\"\u001b[39m\n\u001b[0;32m   3731\u001b[0m         \u001b[38;5;124m\"\u001b[39m\u001b[38;5;124mis not supported\u001b[39m\u001b[38;5;124m\"\u001b[39m\n\u001b[0;32m   3732\u001b[0m     )\n\u001b[0;32m   3733\u001b[0m \u001b[38;5;28;01melif\u001b[39;00m copy \u001b[38;5;129;01mis\u001b[39;00m \u001b[38;5;28;01mTrue\u001b[39;00m:\n\u001b[0;32m   3734\u001b[0m     \u001b[38;5;28;01mreturn\u001b[39;00m \u001b[38;5;28mself\u001b[39m\u001b[38;5;241m.\u001b[39m_view()\n",
      "\u001b[1;31mTypeError\u001b[0m: Setting a MultiIndex dtype to anything other than object is not supported"
     ]
    }
   ],
   "source": [
    "profile = ProfileReport(df_eda_agg_by_used.reset_index(),minimal=True)\n",
    "profile.to_widgets()"
   ]
  },
  {
   "cell_type": "code",
   "execution_count": 42,
   "id": "fdc66d8e-d8cd-42c5-bbb3-a238f7e2e55d",
   "metadata": {
    "tags": []
   },
   "outputs": [
    {
     "data": {
      "text/html": [
       "<div>\n",
       "<style scoped>\n",
       "    .dataframe tbody tr th:only-of-type {\n",
       "        vertical-align: middle;\n",
       "    }\n",
       "\n",
       "    .dataframe tbody tr th {\n",
       "        vertical-align: top;\n",
       "    }\n",
       "\n",
       "    .dataframe thead th {\n",
       "        text-align: right;\n",
       "    }\n",
       "</style>\n",
       "<table border=\"1\" class=\"dataframe\">\n",
       "  <thead>\n",
       "    <tr style=\"text-align: right;\">\n",
       "      <th></th>\n",
       "      <th>clnt_ID</th>\n",
       "      <th>count_date</th>\n",
       "      <th>count_gest_Discount</th>\n",
       "      <th>count_gest_Sum</th>\n",
       "      <th>count_timestamp</th>\n",
       "      <th>min_date</th>\n",
       "      <th>min_gest_Discount</th>\n",
       "      <th>min_gest_Sum</th>\n",
       "      <th>min_timestamp</th>\n",
       "      <th>max_date</th>\n",
       "      <th>max_gest_Discount</th>\n",
       "      <th>max_gest_Sum</th>\n",
       "      <th>max_timestamp</th>\n",
       "      <th>median_gest_Discount</th>\n",
       "      <th>median_gest_Sum</th>\n",
       "      <th>mean_gest_Discount</th>\n",
       "      <th>mean_gest_Sum</th>\n",
       "      <th>std_gest_Discount</th>\n",
       "      <th>std_gest_Sum</th>\n",
       "      <th>target</th>\n",
       "    </tr>\n",
       "  </thead>\n",
       "  <tbody>\n",
       "    <tr>\n",
       "      <th>0</th>\n",
       "      <td>000070A8-DB9E-4AB7-8C4D-6169D4AEBB2A</td>\n",
       "      <td>3</td>\n",
       "      <td>3</td>\n",
       "      <td>3</td>\n",
       "      <td>3</td>\n",
       "      <td>2021-01-24</td>\n",
       "      <td>10.000</td>\n",
       "      <td>490.000</td>\n",
       "      <td>2021-01-24 13:45:46.533</td>\n",
       "      <td>2021-02-21</td>\n",
       "      <td>44.800</td>\n",
       "      <td>566.200</td>\n",
       "      <td>2021-02-21 13:47:54.810</td>\n",
       "      <td>10.600</td>\n",
       "      <td>519.400</td>\n",
       "      <td>21.800</td>\n",
       "      <td>525.200</td>\n",
       "      <td>19.921</td>\n",
       "      <td>38.430</td>\n",
       "      <td>1</td>\n",
       "    </tr>\n",
       "    <tr>\n",
       "      <th>1</th>\n",
       "      <td>00007EB0-6331-438E-A917-E9840C260876</td>\n",
       "      <td>1</td>\n",
       "      <td>1</td>\n",
       "      <td>1</td>\n",
       "      <td>1</td>\n",
       "      <td>2021-01-12</td>\n",
       "      <td>6.000</td>\n",
       "      <td>214.000</td>\n",
       "      <td>2021-01-12 09:39:50.887</td>\n",
       "      <td>2021-01-12</td>\n",
       "      <td>6.000</td>\n",
       "      <td>214.000</td>\n",
       "      <td>2021-01-12 09:39:50.887</td>\n",
       "      <td>6.000</td>\n",
       "      <td>214.000</td>\n",
       "      <td>6.000</td>\n",
       "      <td>214.000</td>\n",
       "      <td>NaN</td>\n",
       "      <td>NaN</td>\n",
       "      <td>0</td>\n",
       "    </tr>\n",
       "    <tr>\n",
       "      <th>2</th>\n",
       "      <td>0000993D-A30E-4233-AB3F-D368D9A0D2C4</td>\n",
       "      <td>1</td>\n",
       "      <td>1</td>\n",
       "      <td>1</td>\n",
       "      <td>1</td>\n",
       "      <td>2021-07-25</td>\n",
       "      <td>0.000</td>\n",
       "      <td>470.000</td>\n",
       "      <td>2021-07-25 15:03:30.863</td>\n",
       "      <td>2021-07-25</td>\n",
       "      <td>0.000</td>\n",
       "      <td>470.000</td>\n",
       "      <td>2021-07-25 15:03:30.863</td>\n",
       "      <td>0.000</td>\n",
       "      <td>470.000</td>\n",
       "      <td>0.000</td>\n",
       "      <td>470.000</td>\n",
       "      <td>NaN</td>\n",
       "      <td>NaN</td>\n",
       "      <td>1</td>\n",
       "    </tr>\n",
       "    <tr>\n",
       "      <th>3</th>\n",
       "      <td>0000A724-7BC5-408F-9F16-6CC3AB16322F</td>\n",
       "      <td>64</td>\n",
       "      <td>64</td>\n",
       "      <td>64</td>\n",
       "      <td>64</td>\n",
       "      <td>2021-01-19</td>\n",
       "      <td>0.000</td>\n",
       "      <td>0.000</td>\n",
       "      <td>2021-01-19 12:24:35.337</td>\n",
       "      <td>2021-11-26</td>\n",
       "      <td>280.800</td>\n",
       "      <td>562.600</td>\n",
       "      <td>2021-11-26 17:14:12.610</td>\n",
       "      <td>8.550</td>\n",
       "      <td>260.550</td>\n",
       "      <td>31.162</td>\n",
       "      <td>274.228</td>\n",
       "      <td>62.320</td>\n",
       "      <td>118.275</td>\n",
       "      <td>0</td>\n",
       "    </tr>\n",
       "    <tr>\n",
       "      <th>4</th>\n",
       "      <td>0000B90C-56DE-43C2-A213-624AFBE36DB2</td>\n",
       "      <td>1</td>\n",
       "      <td>1</td>\n",
       "      <td>1</td>\n",
       "      <td>1</td>\n",
       "      <td>2021-10-27</td>\n",
       "      <td>0.000</td>\n",
       "      <td>549.000</td>\n",
       "      <td>2021-10-27 13:42:00.000</td>\n",
       "      <td>2021-10-27</td>\n",
       "      <td>0.000</td>\n",
       "      <td>549.000</td>\n",
       "      <td>2021-10-27 13:42:00.000</td>\n",
       "      <td>0.000</td>\n",
       "      <td>549.000</td>\n",
       "      <td>0.000</td>\n",
       "      <td>549.000</td>\n",
       "      <td>NaN</td>\n",
       "      <td>NaN</td>\n",
       "      <td>0</td>\n",
       "    </tr>\n",
       "  </tbody>\n",
       "</table>\n",
       "</div>"
      ],
      "text/plain": [
       "                                clnt_ID  count_date  count_gest_Discount  \\\n",
       "0  000070A8-DB9E-4AB7-8C4D-6169D4AEBB2A           3                    3   \n",
       "1  00007EB0-6331-438E-A917-E9840C260876           1                    1   \n",
       "2  0000993D-A30E-4233-AB3F-D368D9A0D2C4           1                    1   \n",
       "3  0000A724-7BC5-408F-9F16-6CC3AB16322F          64                   64   \n",
       "4  0000B90C-56DE-43C2-A213-624AFBE36DB2           1                    1   \n",
       "\n",
       "   count_gest_Sum  count_timestamp    min_date  min_gest_Discount  \\\n",
       "0               3                3  2021-01-24             10.000   \n",
       "1               1                1  2021-01-12              6.000   \n",
       "2               1                1  2021-07-25              0.000   \n",
       "3              64               64  2021-01-19              0.000   \n",
       "4               1                1  2021-10-27              0.000   \n",
       "\n",
       "   min_gest_Sum           min_timestamp    max_date  max_gest_Discount  \\\n",
       "0       490.000 2021-01-24 13:45:46.533  2021-02-21             44.800   \n",
       "1       214.000 2021-01-12 09:39:50.887  2021-01-12              6.000   \n",
       "2       470.000 2021-07-25 15:03:30.863  2021-07-25              0.000   \n",
       "3         0.000 2021-01-19 12:24:35.337  2021-11-26            280.800   \n",
       "4       549.000 2021-10-27 13:42:00.000  2021-10-27              0.000   \n",
       "\n",
       "   max_gest_Sum           max_timestamp  median_gest_Discount  \\\n",
       "0       566.200 2021-02-21 13:47:54.810                10.600   \n",
       "1       214.000 2021-01-12 09:39:50.887                 6.000   \n",
       "2       470.000 2021-07-25 15:03:30.863                 0.000   \n",
       "3       562.600 2021-11-26 17:14:12.610                 8.550   \n",
       "4       549.000 2021-10-27 13:42:00.000                 0.000   \n",
       "\n",
       "   median_gest_Sum  mean_gest_Discount  mean_gest_Sum  std_gest_Discount  \\\n",
       "0          519.400              21.800        525.200             19.921   \n",
       "1          214.000               6.000        214.000                NaN   \n",
       "2          470.000               0.000        470.000                NaN   \n",
       "3          260.550              31.162        274.228             62.320   \n",
       "4          549.000               0.000        549.000                NaN   \n",
       "\n",
       "   std_gest_Sum  target  \n",
       "0        38.430       1  \n",
       "1           NaN       0  \n",
       "2           NaN       1  \n",
       "3       118.275       0  \n",
       "4           NaN       0  "
      ]
     },
     "execution_count": 42,
     "metadata": {},
     "output_type": "execute_result"
    }
   ],
   "source": [
    "new = df_eda_agg_by_user.merge(df_target,on='clnt_ID')\n"
   ]
  },
  {
   "cell_type": "code",
   "execution_count": null,
   "id": "55a19f97-df51-4db0-888e-662fb9716dd4",
   "metadata": {},
   "outputs": [],
   "source": []
  },
  {
   "cell_type": "code",
   "execution_count": 45,
   "id": "01120d07-e8c0-46a8-87d2-8f83c69b7d91",
   "metadata": {},
   "outputs": [
    {
     "data": {
      "text/html": [
       "<div>\n",
       "<style scoped>\n",
       "    .dataframe tbody tr th:only-of-type {\n",
       "        vertical-align: middle;\n",
       "    }\n",
       "\n",
       "    .dataframe tbody tr th {\n",
       "        vertical-align: top;\n",
       "    }\n",
       "\n",
       "    .dataframe thead th {\n",
       "        text-align: right;\n",
       "    }\n",
       "</style>\n",
       "<table border=\"1\" class=\"dataframe\">\n",
       "  <thead>\n",
       "    <tr style=\"text-align: right;\">\n",
       "      <th></th>\n",
       "      <th>clnt_ID</th>\n",
       "      <th>count_date</th>\n",
       "      <th>count_gest_Discount</th>\n",
       "      <th>count_gest_Sum</th>\n",
       "      <th>count_timestamp</th>\n",
       "      <th>min_date</th>\n",
       "      <th>min_gest_Discount</th>\n",
       "      <th>min_gest_Sum</th>\n",
       "      <th>min_timestamp</th>\n",
       "      <th>max_date</th>\n",
       "      <th>max_gest_Discount</th>\n",
       "      <th>max_gest_Sum</th>\n",
       "      <th>max_timestamp</th>\n",
       "      <th>median_gest_Discount</th>\n",
       "      <th>median_gest_Sum</th>\n",
       "      <th>mean_gest_Discount</th>\n",
       "      <th>mean_gest_Sum</th>\n",
       "      <th>std_gest_Discount</th>\n",
       "      <th>std_gest_Sum</th>\n",
       "      <th>target</th>\n",
       "    </tr>\n",
       "  </thead>\n",
       "  <tbody>\n",
       "    <tr>\n",
       "      <th>1</th>\n",
       "      <td>00007EB0-6331-438E-A917-E9840C260876</td>\n",
       "      <td>1</td>\n",
       "      <td>1</td>\n",
       "      <td>1</td>\n",
       "      <td>1</td>\n",
       "      <td>2021-01-12</td>\n",
       "      <td>6.000</td>\n",
       "      <td>214.000</td>\n",
       "      <td>2021-01-12 09:39:50.887</td>\n",
       "      <td>2021-01-12</td>\n",
       "      <td>6.000</td>\n",
       "      <td>214.000</td>\n",
       "      <td>2021-01-12 09:39:50.887</td>\n",
       "      <td>6.000</td>\n",
       "      <td>214.000</td>\n",
       "      <td>6.000</td>\n",
       "      <td>214.000</td>\n",
       "      <td>NaN</td>\n",
       "      <td>NaN</td>\n",
       "      <td>0</td>\n",
       "    </tr>\n",
       "    <tr>\n",
       "      <th>4</th>\n",
       "      <td>0000B90C-56DE-43C2-A213-624AFBE36DB2</td>\n",
       "      <td>1</td>\n",
       "      <td>1</td>\n",
       "      <td>1</td>\n",
       "      <td>1</td>\n",
       "      <td>2021-10-27</td>\n",
       "      <td>0.000</td>\n",
       "      <td>549.000</td>\n",
       "      <td>2021-10-27 13:42:00.000</td>\n",
       "      <td>2021-10-27</td>\n",
       "      <td>0.000</td>\n",
       "      <td>549.000</td>\n",
       "      <td>2021-10-27 13:42:00.000</td>\n",
       "      <td>0.000</td>\n",
       "      <td>549.000</td>\n",
       "      <td>0.000</td>\n",
       "      <td>549.000</td>\n",
       "      <td>NaN</td>\n",
       "      <td>NaN</td>\n",
       "      <td>0</td>\n",
       "    </tr>\n",
       "    <tr>\n",
       "      <th>12</th>\n",
       "      <td>0001CEBE-0496-4642-A3A7-D544B61DCB02</td>\n",
       "      <td>1</td>\n",
       "      <td>1</td>\n",
       "      <td>1</td>\n",
       "      <td>1</td>\n",
       "      <td>2021-08-08</td>\n",
       "      <td>72.000</td>\n",
       "      <td>138.000</td>\n",
       "      <td>2021-08-08 12:57:21.967</td>\n",
       "      <td>2021-08-08</td>\n",
       "      <td>72.000</td>\n",
       "      <td>138.000</td>\n",
       "      <td>2021-08-08 12:57:21.967</td>\n",
       "      <td>72.000</td>\n",
       "      <td>138.000</td>\n",
       "      <td>72.000</td>\n",
       "      <td>138.000</td>\n",
       "      <td>NaN</td>\n",
       "      <td>NaN</td>\n",
       "      <td>0</td>\n",
       "    </tr>\n",
       "    <tr>\n",
       "      <th>17</th>\n",
       "      <td>0003266D-BB90-45D7-B551-FB3B3EB331A5</td>\n",
       "      <td>1</td>\n",
       "      <td>1</td>\n",
       "      <td>1</td>\n",
       "      <td>1</td>\n",
       "      <td>2021-10-03</td>\n",
       "      <td>99.000</td>\n",
       "      <td>891.000</td>\n",
       "      <td>2021-10-03 14:00:00.000</td>\n",
       "      <td>2021-10-03</td>\n",
       "      <td>99.000</td>\n",
       "      <td>891.000</td>\n",
       "      <td>2021-10-03 14:00:00.000</td>\n",
       "      <td>99.000</td>\n",
       "      <td>891.000</td>\n",
       "      <td>99.000</td>\n",
       "      <td>891.000</td>\n",
       "      <td>NaN</td>\n",
       "      <td>NaN</td>\n",
       "      <td>0</td>\n",
       "    </tr>\n",
       "    <tr>\n",
       "      <th>25</th>\n",
       "      <td>00046D12-C3BA-464E-A87D-92CB82DCD1AA</td>\n",
       "      <td>1</td>\n",
       "      <td>1</td>\n",
       "      <td>1</td>\n",
       "      <td>1</td>\n",
       "      <td>2021-04-16</td>\n",
       "      <td>0.000</td>\n",
       "      <td>1090.000</td>\n",
       "      <td>2021-04-16 20:34:13.903</td>\n",
       "      <td>2021-04-16</td>\n",
       "      <td>0.000</td>\n",
       "      <td>1090.000</td>\n",
       "      <td>2021-04-16 20:34:13.903</td>\n",
       "      <td>0.000</td>\n",
       "      <td>1090.000</td>\n",
       "      <td>0.000</td>\n",
       "      <td>1090.000</td>\n",
       "      <td>NaN</td>\n",
       "      <td>NaN</td>\n",
       "      <td>0</td>\n",
       "    </tr>\n",
       "    <tr>\n",
       "      <th>...</th>\n",
       "      <td>...</td>\n",
       "      <td>...</td>\n",
       "      <td>...</td>\n",
       "      <td>...</td>\n",
       "      <td>...</td>\n",
       "      <td>...</td>\n",
       "      <td>...</td>\n",
       "      <td>...</td>\n",
       "      <td>...</td>\n",
       "      <td>...</td>\n",
       "      <td>...</td>\n",
       "      <td>...</td>\n",
       "      <td>...</td>\n",
       "      <td>...</td>\n",
       "      <td>...</td>\n",
       "      <td>...</td>\n",
       "      <td>...</td>\n",
       "      <td>...</td>\n",
       "      <td>...</td>\n",
       "      <td>...</td>\n",
       "    </tr>\n",
       "    <tr>\n",
       "      <th>255077</th>\n",
       "      <td>FFF79C51-497D-41A0-A9E8-8E87600301E9</td>\n",
       "      <td>1</td>\n",
       "      <td>1</td>\n",
       "      <td>1</td>\n",
       "      <td>1</td>\n",
       "      <td>2021-04-25</td>\n",
       "      <td>0.000</td>\n",
       "      <td>1084.000</td>\n",
       "      <td>2021-04-25 18:07:00.000</td>\n",
       "      <td>2021-04-25</td>\n",
       "      <td>0.000</td>\n",
       "      <td>1084.000</td>\n",
       "      <td>2021-04-25 18:07:00.000</td>\n",
       "      <td>0.000</td>\n",
       "      <td>1084.000</td>\n",
       "      <td>0.000</td>\n",
       "      <td>1084.000</td>\n",
       "      <td>NaN</td>\n",
       "      <td>NaN</td>\n",
       "      <td>0</td>\n",
       "    </tr>\n",
       "    <tr>\n",
       "      <th>255078</th>\n",
       "      <td>FFF7D539-3F90-4C35-BBA7-5C8A20EF8A22</td>\n",
       "      <td>1</td>\n",
       "      <td>1</td>\n",
       "      <td>1</td>\n",
       "      <td>1</td>\n",
       "      <td>2021-07-11</td>\n",
       "      <td>0.000</td>\n",
       "      <td>1000.000</td>\n",
       "      <td>2021-07-11 11:35:00.467</td>\n",
       "      <td>2021-07-11</td>\n",
       "      <td>0.000</td>\n",
       "      <td>1000.000</td>\n",
       "      <td>2021-07-11 11:35:00.467</td>\n",
       "      <td>0.000</td>\n",
       "      <td>1000.000</td>\n",
       "      <td>0.000</td>\n",
       "      <td>1000.000</td>\n",
       "      <td>NaN</td>\n",
       "      <td>NaN</td>\n",
       "      <td>0</td>\n",
       "    </tr>\n",
       "    <tr>\n",
       "      <th>255079</th>\n",
       "      <td>FFF92989-B4BC-48AF-92DE-603F1547631F</td>\n",
       "      <td>1</td>\n",
       "      <td>1</td>\n",
       "      <td>1</td>\n",
       "      <td>1</td>\n",
       "      <td>2021-10-07</td>\n",
       "      <td>12.000</td>\n",
       "      <td>55.000</td>\n",
       "      <td>2021-10-07 15:25:35.370</td>\n",
       "      <td>2021-10-07</td>\n",
       "      <td>12.000</td>\n",
       "      <td>55.000</td>\n",
       "      <td>2021-10-07 15:25:35.370</td>\n",
       "      <td>12.000</td>\n",
       "      <td>55.000</td>\n",
       "      <td>12.000</td>\n",
       "      <td>55.000</td>\n",
       "      <td>NaN</td>\n",
       "      <td>NaN</td>\n",
       "      <td>0</td>\n",
       "    </tr>\n",
       "    <tr>\n",
       "      <th>255082</th>\n",
       "      <td>FFF9BC13-DC72-4402-9E5F-606DED21972B</td>\n",
       "      <td>1</td>\n",
       "      <td>1</td>\n",
       "      <td>1</td>\n",
       "      <td>1</td>\n",
       "      <td>2021-11-23</td>\n",
       "      <td>0.000</td>\n",
       "      <td>426.000</td>\n",
       "      <td>2021-11-23 19:11:33.063</td>\n",
       "      <td>2021-11-23</td>\n",
       "      <td>0.000</td>\n",
       "      <td>426.000</td>\n",
       "      <td>2021-11-23 19:11:33.063</td>\n",
       "      <td>0.000</td>\n",
       "      <td>426.000</td>\n",
       "      <td>0.000</td>\n",
       "      <td>426.000</td>\n",
       "      <td>NaN</td>\n",
       "      <td>NaN</td>\n",
       "      <td>0</td>\n",
       "    </tr>\n",
       "    <tr>\n",
       "      <th>255104</th>\n",
       "      <td>FFFF1629-85B6-9DD3-994C-5E21A88A5BFF</td>\n",
       "      <td>1</td>\n",
       "      <td>1</td>\n",
       "      <td>1</td>\n",
       "      <td>1</td>\n",
       "      <td>2021-02-12</td>\n",
       "      <td>0.000</td>\n",
       "      <td>1269.000</td>\n",
       "      <td>2021-02-12 19:15:00.000</td>\n",
       "      <td>2021-02-12</td>\n",
       "      <td>0.000</td>\n",
       "      <td>1269.000</td>\n",
       "      <td>2021-02-12 19:15:00.000</td>\n",
       "      <td>0.000</td>\n",
       "      <td>1269.000</td>\n",
       "      <td>0.000</td>\n",
       "      <td>1269.000</td>\n",
       "      <td>NaN</td>\n",
       "      <td>NaN</td>\n",
       "      <td>0</td>\n",
       "    </tr>\n",
       "  </tbody>\n",
       "</table>\n",
       "<p>61461 rows × 20 columns</p>\n",
       "</div>"
      ],
      "text/plain": [
       "                                     clnt_ID  count_date  count_gest_Discount  \\\n",
       "1       00007EB0-6331-438E-A917-E9840C260876           1                    1   \n",
       "4       0000B90C-56DE-43C2-A213-624AFBE36DB2           1                    1   \n",
       "12      0001CEBE-0496-4642-A3A7-D544B61DCB02           1                    1   \n",
       "17      0003266D-BB90-45D7-B551-FB3B3EB331A5           1                    1   \n",
       "25      00046D12-C3BA-464E-A87D-92CB82DCD1AA           1                    1   \n",
       "...                                      ...         ...                  ...   \n",
       "255077  FFF79C51-497D-41A0-A9E8-8E87600301E9           1                    1   \n",
       "255078  FFF7D539-3F90-4C35-BBA7-5C8A20EF8A22           1                    1   \n",
       "255079  FFF92989-B4BC-48AF-92DE-603F1547631F           1                    1   \n",
       "255082  FFF9BC13-DC72-4402-9E5F-606DED21972B           1                    1   \n",
       "255104  FFFF1629-85B6-9DD3-994C-5E21A88A5BFF           1                    1   \n",
       "\n",
       "        count_gest_Sum  count_timestamp    min_date  min_gest_Discount  \\\n",
       "1                    1                1  2021-01-12              6.000   \n",
       "4                    1                1  2021-10-27              0.000   \n",
       "12                   1                1  2021-08-08             72.000   \n",
       "17                   1                1  2021-10-03             99.000   \n",
       "25                   1                1  2021-04-16              0.000   \n",
       "...                ...              ...         ...                ...   \n",
       "255077               1                1  2021-04-25              0.000   \n",
       "255078               1                1  2021-07-11              0.000   \n",
       "255079               1                1  2021-10-07             12.000   \n",
       "255082               1                1  2021-11-23              0.000   \n",
       "255104               1                1  2021-02-12              0.000   \n",
       "\n",
       "        min_gest_Sum           min_timestamp    max_date  max_gest_Discount  \\\n",
       "1            214.000 2021-01-12 09:39:50.887  2021-01-12              6.000   \n",
       "4            549.000 2021-10-27 13:42:00.000  2021-10-27              0.000   \n",
       "12           138.000 2021-08-08 12:57:21.967  2021-08-08             72.000   \n",
       "17           891.000 2021-10-03 14:00:00.000  2021-10-03             99.000   \n",
       "25          1090.000 2021-04-16 20:34:13.903  2021-04-16              0.000   \n",
       "...              ...                     ...         ...                ...   \n",
       "255077      1084.000 2021-04-25 18:07:00.000  2021-04-25              0.000   \n",
       "255078      1000.000 2021-07-11 11:35:00.467  2021-07-11              0.000   \n",
       "255079        55.000 2021-10-07 15:25:35.370  2021-10-07             12.000   \n",
       "255082       426.000 2021-11-23 19:11:33.063  2021-11-23              0.000   \n",
       "255104      1269.000 2021-02-12 19:15:00.000  2021-02-12              0.000   \n",
       "\n",
       "        max_gest_Sum           max_timestamp  median_gest_Discount  \\\n",
       "1            214.000 2021-01-12 09:39:50.887                 6.000   \n",
       "4            549.000 2021-10-27 13:42:00.000                 0.000   \n",
       "12           138.000 2021-08-08 12:57:21.967                72.000   \n",
       "17           891.000 2021-10-03 14:00:00.000                99.000   \n",
       "25          1090.000 2021-04-16 20:34:13.903                 0.000   \n",
       "...              ...                     ...                   ...   \n",
       "255077      1084.000 2021-04-25 18:07:00.000                 0.000   \n",
       "255078      1000.000 2021-07-11 11:35:00.467                 0.000   \n",
       "255079        55.000 2021-10-07 15:25:35.370                12.000   \n",
       "255082       426.000 2021-11-23 19:11:33.063                 0.000   \n",
       "255104      1269.000 2021-02-12 19:15:00.000                 0.000   \n",
       "\n",
       "        median_gest_Sum  mean_gest_Discount  mean_gest_Sum  std_gest_Discount  \\\n",
       "1               214.000               6.000        214.000                NaN   \n",
       "4               549.000               0.000        549.000                NaN   \n",
       "12              138.000              72.000        138.000                NaN   \n",
       "17              891.000              99.000        891.000                NaN   \n",
       "25             1090.000               0.000       1090.000                NaN   \n",
       "...                 ...                 ...            ...                ...   \n",
       "255077         1084.000               0.000       1084.000                NaN   \n",
       "255078         1000.000               0.000       1000.000                NaN   \n",
       "255079           55.000              12.000         55.000                NaN   \n",
       "255082          426.000               0.000        426.000                NaN   \n",
       "255104         1269.000               0.000       1269.000                NaN   \n",
       "\n",
       "        std_gest_Sum  target  \n",
       "1                NaN       0  \n",
       "4                NaN       0  \n",
       "12               NaN       0  \n",
       "17               NaN       0  \n",
       "25               NaN       0  \n",
       "...              ...     ...  \n",
       "255077           NaN       0  \n",
       "255078           NaN       0  \n",
       "255079           NaN       0  \n",
       "255082           NaN       0  \n",
       "255104           NaN       0  \n",
       "\n",
       "[61461 rows x 20 columns]"
      ]
     },
     "execution_count": 45,
     "metadata": {},
     "output_type": "execute_result"
    }
   ],
   "source": [
    "new.loc[(new['target']==0)&(new['count_date']==1)]"
   ]
  },
  {
   "cell_type": "markdown",
   "id": "7d159a75-de7d-4f2f-b748-d40aebe766fe",
   "metadata": {
    "jp-MarkdownHeadingCollapsed": true,
    "tags": [],
    "toc-hr-collapsed": true
   },
   "source": [
    "## OLD_EDA"
   ]
  },
  {
   "cell_type": "markdown",
   "id": "b5694768-75ac-453c-977d-c6b6174eb74c",
   "metadata": {},
   "source": [
    "Объединим датасеты для анализа."
   ]
  },
  {
   "cell_type": "code",
   "execution_count": null,
   "id": "585bca00-579b-4a20-b27e-1088be7879e6",
   "metadata": {},
   "outputs": [],
   "source": [
    "\n",
    "df_eda = df.merge(df_target,on='clnt_ID')\n",
    "display(df_eda.head(),df_eda.info(),df_eda.isna().sum())"
   ]
  },
  {
   "cell_type": "markdown",
   "id": "3c2fbbc7-ad20-4a50-82ba-71da553ac408",
   "metadata": {
    "tags": []
   },
   "source": [
    "Посмотрим кол-во уникальный айдишников."
   ]
  },
  {
   "cell_type": "code",
   "execution_count": null,
   "id": "c6989c03-0d42-4370-8b06-bf4098cd30cc",
   "metadata": {},
   "outputs": [],
   "source": [
    "display(df['clnt_ID'].nunique())\n",
    "df_target['clnt_ID'].nunique()"
   ]
  },
  {
   "cell_type": "markdown",
   "id": "d90128a5-eb95-48e0-aa9e-82b184dd4d3d",
   "metadata": {},
   "source": [
    "255109 клиентов. При этом в датасете с таргетом тоже 255109 записей. Значит все верно."
   ]
  },
  {
   "cell_type": "markdown",
   "id": "f2f46fba-ab60-4111-9298-562dd5dc44aa",
   "metadata": {},
   "source": [
    "Посмотрим сколько из них с флагом."
   ]
  },
  {
   "cell_type": "code",
   "execution_count": null,
   "id": "79664c33-8ead-4198-bb35-6644de825185",
   "metadata": {},
   "outputs": [],
   "source": [
    "df_target['target'].value_counts()"
   ]
  },
  {
   "cell_type": "markdown",
   "id": "2d1a528a-b5f2-446c-a146-686b8b41993c",
   "metadata": {},
   "source": [
    "Примерно одинаково. Дисбаланса классов нет."
   ]
  },
  {
   "cell_type": "markdown",
   "id": "743e6333-4bc4-4707-b474-06b569d99f32",
   "metadata": {},
   "source": [
    "Проверим, что все правильно смержилось."
   ]
  },
  {
   "cell_type": "code",
   "execution_count": null,
   "id": "7a7ef701-584e-4692-bf38-74914427580f",
   "metadata": {},
   "outputs": [],
   "source": [
    "(df_eda.loc[df_eda['target']==0,'clnt_ID'].nunique(),df_eda.loc[df_eda['target']==1,'clnt_ID'].nunique())"
   ]
  },
  {
   "cell_type": "markdown",
   "id": "fe2a4bfd-be89-490d-b68d-5ceb7ceb64e0",
   "metadata": {},
   "source": [
    "Да, кол-во уникальных айдишников в каждом классе осталось прежним."
   ]
  },
  {
   "cell_type": "markdown",
   "id": "b37fd031-ef6a-456f-acbf-cb069d535f87",
   "metadata": {},
   "source": [
    "Посмотрим сколько заказов (строк) приходится на каждый класс."
   ]
  },
  {
   "cell_type": "code",
   "execution_count": null,
   "id": "63a9f973-cda0-4dba-8110-127c8cc3edf4",
   "metadata": {},
   "outputs": [],
   "source": [
    "display(df_eda['target'].value_counts())\n",
    "sns.countplot(x='target',data=df_eda)\n",
    "plt.show()"
   ]
  },
  {
   "cell_type": "markdown",
   "id": "f3fd93ce-03fe-4549-b94c-74317e78c087",
   "metadata": {},
   "source": [
    "Тут мы видим сразу, что те, кто уходят, значительно меньше раз совершали покупки."
   ]
  },
  {
   "cell_type": "code",
   "execution_count": null,
   "id": "2e9520f2-23e7-43d5-9589-1138c6085455",
   "metadata": {},
   "outputs": [],
   "source": []
  },
  {
   "cell_type": "markdown",
   "id": "d19e3c49-8749-4074-8f84-b354dad68c59",
   "metadata": {},
   "source": [
    "### Задачи EDA\n",
    "\n",
    "Сначала нужно исследовать данные том виде, в котором пришли.\n",
    "Т.е. это даты, сумма чека с учетом скидки, размер скидки\n",
    "\n",
    "Потом можно посравнивать агрегированную информацию каждого клиенту по таргету."
   ]
  },
  {
   "cell_type": "markdown",
   "id": "24bb335a-86a4-41c1-bb67-af4b2baffc94",
   "metadata": {
    "jp-MarkdownHeadingCollapsed": true,
    "tags": []
   },
   "source": [
    "### Сделаем функцию дескрайб мою"
   ]
  },
  {
   "cell_type": "code",
   "execution_count": null,
   "id": "e9492e40-4bed-4d38-a239-094ada593f48",
   "metadata": {},
   "outputs": [],
   "source": [
    "def describe(col):\n",
    "    \"\"\"Функция выводит подробное числовое описание данных, \n",
    "    возвращает Figure,Axis объекты matplotlib.pyplot для гистограммы и ящика с усами.\n",
    "    \"\"\"\n",
    "\n",
    "#     Подсчет количества значений\n",
    "    count_ = col.count()\n",
    "    \n",
    "#     Меры центральной тенденции:\n",
    "#     Среднее\n",
    "    mean = col.mean()\n",
    "#     Медиана\n",
    "    median = col.median()\n",
    "#     Мода\n",
    "    mode = col.mode()\n",
    "\n",
    "#     Меры разброса\n",
    "#     Дисперсия\n",
    "    var = col.var()\n",
    "#     Стандартное отклонение\n",
    "    stddev = col.std()\n",
    "#     Межквартильный размах\n",
    "    quartile_1 = col.quantile(0.25)\n",
    "    quartile_3 = col.quantile(0.75)\n",
    "    iqr = quartile_3 - quartile_1\n",
    "#     Мин, макс, размах\n",
    "    min_ = col.min()\n",
    "    max_ = col.max()\n",
    "    range_ = max_ - min_\n",
    "\n",
    "#     Левая граница ящика с усами\n",
    "    outlier_border_left = quartile_1 - 1.5 * iqr\n",
    "#     Правая граница ящика с усами\n",
    "    outlier_border_right = quartile_3 + 1.5 * iqr\n",
    "    \n",
    "#    Количество выбросов\n",
    "    outliers_mask = (col <= outlier_border_left) | (col >= outlier_border_right)\n",
    "    outliers_count = col.loc[outliers_mask].count()\n",
    "    outliers_proportion = outliers_count / count_\n",
    "    \n",
    "#     Создание и вывод таблицы с числовым описанием данных\n",
    "    describe_ = {\"count\": count_,\n",
    "                 \"mean\": mean,\n",
    "                 \"mode\": mode,\n",
    "                 \"var\": var,\n",
    "                 \"stddev\": stddev,\n",
    "                 \"min\": min_,\n",
    "                 \"25%\": quartile_1,\n",
    "                 \"50%\": median,\n",
    "                 \"75%\": quartile_3,\n",
    "                 \"max\": max_,\n",
    "                 \"total_range\": range_,\n",
    "                 \"interquartile_range\": iqr,\n",
    "                 \"outlier_border_left\": outlier_border_left,\n",
    "                 \"outlier_border_right\": outlier_border_right,\n",
    "                 \"outliers_count\": outliers_count,\n",
    "                 \"outliers_proportion\": outliers_proportion}\n",
    "    describe_ = pd.DataFrame(describe_).transpose()\n",
    "    describe_.columns = [col.name]\n",
    "    return describe_\n",
    "\n",
    "# describe(t_0)"
   ]
  },
  {
   "cell_type": "markdown",
   "id": "d6971f33-5c7f-47bc-93ed-61ea269daef9",
   "metadata": {
    "jp-MarkdownHeadingCollapsed": true,
    "tags": []
   },
   "source": [
    "### Функция построения двух гистограмм на одной фигуре"
   ]
  },
  {
   "cell_type": "code",
   "execution_count": null,
   "id": "327cd1e4-3cc6-4ecc-be6a-6ff153a1e96d",
   "metadata": {},
   "outputs": [],
   "source": [
    "def multiv_target_hist_normalized(data_0,data_1,bins=1000,xlabel=None,figsize=(10,5)):\n",
    "    \"\"\"\n",
    "    Построение двух полупрозрачных нормализованных гистограмм (с функцией плотности) на одной фигуре.\n",
    "    Каждая гистограмма это подгруппа признака по таргету.\n",
    "    \n",
    "    \"\"\"\n",
    "    \n",
    "#     canceled = data_train.loc[df['is_canceled'] == 1, column].sort_values()\n",
    "#     not_canceled = data_train.loc[df['is_canceled'] == 0, column].sort_values()\n",
    "    \n",
    "    fig,ax = plt.subplots(figsize=figsize)\n",
    "    \n",
    "#     if bins == False:\n",
    "#         bins = df[column].nunique()\n",
    "        \n",
    "    ax.hist(data_0,bins=bins,alpha=0.5,label=['target=0'])\n",
    "    ax.hist(data_1,bins=bins,alpha=0.5,label=['target=1'])\n",
    "    ax.set_ylabel('Частота')\n",
    "    if xlabel == None:\n",
    "        ax.set_xlabel(\"Сравнение статистики по категориям\")\n",
    "    else:\n",
    "        ax.set_xlabel(xlabel)\n",
    "    ax.legend()\n",
    "    return fig,ax\n",
    "\n",
    "# multiv_target_hist_normalized(t_0,t_1,bins=[1,2,3,10,100,200,500,1000,10000])\n",
    "# plt.xlim(0,200)"
   ]
  },
  {
   "cell_type": "code",
   "execution_count": null,
   "id": "1ef7fc8a-6fcd-4f8f-b0f1-fcbb2d663ee9",
   "metadata": {},
   "outputs": [],
   "source": []
  },
  {
   "cell_type": "code",
   "execution_count": null,
   "id": "1ad60fb1-d126-4f4c-8c36-e81957864df5",
   "metadata": {},
   "outputs": [],
   "source": []
  },
  {
   "cell_type": "markdown",
   "id": "4ab5dc5f-a2d7-45c9-a343-588e104b2659",
   "metadata": {
    "jp-MarkdownHeadingCollapsed": true,
    "tags": []
   },
   "source": [
    "### Исследуем данные как есть"
   ]
  },
  {
   "cell_type": "markdown",
   "id": "2cfab807-1b3e-47b3-8916-a1bd714c3443",
   "metadata": {},
   "source": [
    "**timestamp и date**"
   ]
  },
  {
   "cell_type": "code",
   "execution_count": null,
   "id": "9141d560-64e3-4d4f-bd06-92d997fb686a",
   "metadata": {},
   "outputs": [],
   "source": [
    "df['timestamp'].describe(datetime_is_numeric=True)"
   ]
  },
  {
   "cell_type": "code",
   "execution_count": null,
   "id": "0fc30060-16a8-4a6f-953a-8d2ebc4b076a",
   "metadata": {},
   "outputs": [],
   "source": [
    "df.loc[df['timestamp'].duplicated(keep=False)]"
   ]
  },
  {
   "cell_type": "code",
   "execution_count": null,
   "id": "55607d99-1f84-4fcd-b903-ed3a854aa93b",
   "metadata": {},
   "outputs": [],
   "source": [
    "df['timestamp'].hist(bins=365)"
   ]
  },
  {
   "cell_type": "code",
   "execution_count": null,
   "id": "51cb66c8-b96d-4c7a-8d17-16e1622eea5f",
   "metadata": {},
   "outputs": [],
   "source": [
    "df['date'].describe()"
   ]
  },
  {
   "cell_type": "code",
   "execution_count": null,
   "id": "e7960a1e-c849-4bfe-b312-b44ed5357878",
   "metadata": {},
   "outputs": [],
   "source": [
    "df['date'].hist(bins=365)"
   ]
  },
  {
   "cell_type": "markdown",
   "id": "12f53ce1-9b2b-4ec6-9200-d80c3f632104",
   "metadata": {},
   "source": [
    "* Да ничего неожиданного. Что я тут вообще ожидал найти?"
   ]
  },
  {
   "cell_type": "markdown",
   "id": "6184d120-d0d5-46d7-8154-7a690b964835",
   "metadata": {},
   "source": [
    "**gest_Sum**"
   ]
  },
  {
   "cell_type": "code",
   "execution_count": null,
   "id": "2216c4de-a6d3-4394-bc18-efca14816de6",
   "metadata": {},
   "outputs": [],
   "source": [
    "# fig,ax = simple_uni_EDA(df,\"gest_Sum\")\n",
    "# ax.set_xlabel(\"Сумма чека за вычетом скидки\")\n",
    "# ax.set_title(\"Гистограмма и ящик с усами суммы чека за вычетом скидки\")\n",
    "# ax.set_xlim(0,5000)\n",
    "# plt.show()\n",
    "# **ПРОБЛЕМА С ФУНКЦИЕЙ**\n",
    "# Мне тут не нравится, что нельзя изменять кол-во бинов.\n",
    "# **ПРОБЛЕМА С ФУНКЦИЕЙ**\n",
    "\n",
    "df['gest_Sum'].describe()"
   ]
  },
  {
   "cell_type": "markdown",
   "id": "df4a2a06-8a53-40d7-8773-3222379c9d2f",
   "metadata": {},
   "source": []
  },
  {
   "cell_type": "markdown",
   "id": "d60370ea-e81b-49dc-8d62-50f847be6b82",
   "metadata": {},
   "source": [
    "Есть 0. Что это значит?"
   ]
  },
  {
   "cell_type": "markdown",
   "id": "6b006021-f916-41ec-8382-8e66cc08f196",
   "metadata": {},
   "source": [
    "Посмотрим на эти строки, где `'gest_Sum' == 0`"
   ]
  },
  {
   "cell_type": "code",
   "execution_count": null,
   "id": "17c4dc93-855c-4c72-8113-940d7f56b159",
   "metadata": {},
   "outputs": [],
   "source": [
    "df.loc[df['gest_Sum']==0].describe()"
   ]
  },
  {
   "cell_type": "markdown",
   "id": "1d1d1577-876a-43a4-a25f-f169740f72ad",
   "metadata": {},
   "source": [
    "* Возможно это отмена заказа?"
   ]
  },
  {
   "cell_type": "code",
   "execution_count": null,
   "id": "e5a90559-20b8-4342-b8f0-7dcaff77db8b",
   "metadata": {},
   "outputs": [],
   "source": [
    "df['gest_Sum'].hist(bins=10000)\n",
    "plt.xlim(0,200)\n",
    "plt.show()"
   ]
  },
  {
   "cell_type": "markdown",
   "id": "e62ad9a3-4745-4ee2-aa37-0de396d92779",
   "metadata": {},
   "source": [
    "Есть какой-то странный пик в районе от 75 до 100 руб. Это покупка кофе?"
   ]
  },
  {
   "cell_type": "code",
   "execution_count": null,
   "id": "9514cca8-e720-4cb7-8b7a-1f5beb078990",
   "metadata": {},
   "outputs": [],
   "source": [
    "df.loc[(df['gest_Sum'] > 75)&(df['gest_Sum'] < 100)].describe()"
   ]
  },
  {
   "cell_type": "markdown",
   "id": "80ce6a79-6c9a-4632-a57e-ca9aacb7dcd8",
   "metadata": {},
   "source": [
    "Сложно сказать что-то конкретное."
   ]
  },
  {
   "cell_type": "code",
   "execution_count": null,
   "id": "6cef1187-aad2-4d9a-98f0-04ba477b5c1c",
   "metadata": {},
   "outputs": [],
   "source": [
    "df['gest_Sum'].hist(bins=10000)\n",
    "plt.xlim(0,1500)\n",
    "plt.show()"
   ]
  },
  {
   "cell_type": "markdown",
   "id": "c8ca53de-5fab-4d2e-9a91-29a5997228f9",
   "metadata": {},
   "source": [
    "Что тут еще добавить? Я не знаю."
   ]
  },
  {
   "cell_type": "markdown",
   "id": "617720f6-38a6-474d-8188-6ca774f60792",
   "metadata": {},
   "source": [
    "**gest_Discount**"
   ]
  },
  {
   "cell_type": "code",
   "execution_count": null,
   "id": "4f4915ad-0393-4f74-97ed-8068084b9244",
   "metadata": {},
   "outputs": [],
   "source": [
    "df['gest_Discount'].describe()"
   ]
  },
  {
   "cell_type": "code",
   "execution_count": null,
   "id": "e49545a1-b246-40ed-a0ee-cd336b20d6d5",
   "metadata": {},
   "outputs": [],
   "source": [
    "df['gest_Discount'].hist(bins=1000)\n",
    "plt.xlim(0,100)"
   ]
  },
  {
   "cell_type": "markdown",
   "id": "de0f4ad8-1ef4-42cd-b119-258ff4c77797",
   "metadata": {},
   "source": [
    "Ну как бы и чо? Я не понимаю что я тут должен найти, кроме того что это не нормальное распределение."
   ]
  },
  {
   "cell_type": "markdown",
   "id": "dfaf5ad2-dbb4-4485-b499-a5ada76ad0ec",
   "metadata": {
    "jp-MarkdownHeadingCollapsed": true,
    "tags": [],
    "toc-hr-collapsed": true
   },
   "source": [
    "### Исследуем агрегированные данные"
   ]
  },
  {
   "cell_type": "markdown",
   "id": "84ca8c37-0bb4-47eb-8fb9-1c4f200e88c9",
   "metadata": {},
   "source": [
    "У нас есть кол-во сделок; мин, макс, среднее, медиана, мода, стандартное отклонение `'gest_Sum'`, `'gest_Discount'`. И нам надо их сравнить по таргету, чтобы выяснить как эти статистики отличаются по категориям."
   ]
  },
  {
   "cell_type": "markdown",
   "id": "fe3d50c4-609a-4106-8874-a2acd0ae330d",
   "metadata": {},
   "source": [
    "Напишем функцию, которая будет подготавливать такие датасеты со статистиками по категориям."
   ]
  },
  {
   "cell_type": "code",
   "execution_count": null,
   "id": "dd261da0-53cd-4b45-b7ed-c54bca35f1bb",
   "metadata": {},
   "outputs": [],
   "source": [
    "def cat_split(value,aggfunc):\n",
    "    pivot_table = df_eda.pivot_table(index='clnt_ID', values=value, aggfunc=aggfunc,columns='target')\n",
    "    target_0 = pivot_table[0].dropna()\n",
    "    target_1 = pivot_table[1].dropna()\n",
    "    return target_0, target_1\n",
    "\n",
    "# cat_split('date','count')"
   ]
  },
  {
   "cell_type": "code",
   "execution_count": null,
   "id": "5fcec452-7853-4427-971c-5503b7d68d40",
   "metadata": {},
   "outputs": [],
   "source": [
    "t_0, t_1 = cat_split('date','count')\n",
    "describe(t_0).join(describe(t_1))"
   ]
  },
  {
   "cell_type": "code",
   "execution_count": null,
   "id": "c67d0362-34de-43c6-8bd0-cdbb9b41b7d9",
   "metadata": {},
   "outputs": [],
   "source": [
    "describe(t_0).join(describe(t_1))"
   ]
  },
  {
   "cell_type": "code",
   "execution_count": null,
   "id": "54df2749-4a53-45a0-8b41-84c6d935dae1",
   "metadata": {},
   "outputs": [],
   "source": [
    "sns.histplot(t_0)\n",
    "plt.xlim(0,100)"
   ]
  },
  {
   "cell_type": "code",
   "execution_count": null,
   "id": "6d9bb062-b06a-4244-a18d-5244e6a030bf",
   "metadata": {},
   "outputs": [],
   "source": []
  },
  {
   "cell_type": "code",
   "execution_count": null,
   "id": "9323b433-e490-454a-9eb1-1d37e97643b7",
   "metadata": {
    "tags": []
   },
   "outputs": [],
   "source": [
    "# В итоге мы пока откажемся от подхода с таймсериес, и возьмем просто описание истории покупок клиентов.\n",
    "# Т.е. берем фичи сумма чека, скидка, дней с последней покупки для каждого клиента и сравнимаем эти статистики по группам 0 и 1 (таргету)\n",
    "# df_eda.pivot_table(index='clnt_ID', values=['gest_Sum','gest_Discount'],aggfunc=['count','min','max','median','mean','std'],columns='target')"
   ]
  },
  {
   "cell_type": "markdown",
   "id": "a17d0bfc-28e5-4e29-ae01-c7d2dc1e6e0f",
   "metadata": {},
   "source": [
    "Напишем функцию для упрощения анализа статистик по категориям."
   ]
  },
  {
   "cell_type": "code",
   "execution_count": null,
   "id": "cfd78dae-b3bc-46d7-a6f6-8e6073c2c919",
   "metadata": {},
   "outputs": [],
   "source": [
    "def simple_uni_EDA(df,column):\n",
    "    \"\"\"Функция выводит подробное числовое описание данных, \n",
    "    возвращает Figure,Axis объекты matplotlib.pyplot для гистограммы и ящика с усами.\n",
    "    \"\"\"\n",
    "\n",
    "#     Подсчет количества значений\n",
    "    count_ = df[column].count()\n",
    "    \n",
    "#     Меры центральной тенденции:\n",
    "#     Среднее\n",
    "    mean = df[column].mean()\n",
    "#     Медиана\n",
    "    median = df[column].median()\n",
    "#     Мода\n",
    "    mode = df[column].mode()\n",
    "\n",
    "#     Меры разброса\n",
    "#     Дисперсия\n",
    "    var = df[column].var()\n",
    "#     Стандартное отклонение\n",
    "    stddev = df[column].std()\n",
    "#     Межквартильный размах\n",
    "    quartile_1 = df[column].quantile(0.25)\n",
    "    quartile_3 = df[column].quantile(0.75)\n",
    "    iqr = quartile_3 - quartile_1\n",
    "#     Мин, макс, размах\n",
    "    min_ = df[column].min()\n",
    "    max_ = df[column].max()\n",
    "    range_ = max_ - min_\n",
    "\n",
    "#     Левая граница ящика с усами\n",
    "    outlier_border_left = quartile_1 - 1.5 * iqr\n",
    "#     Правая граница ящика с усами\n",
    "    outlier_border_right = quartile_3 + 1.5 * iqr\n",
    "    \n",
    "#    Количество выбросов\n",
    "    outliers_mask = (df[column] <= outlier_border_left) | (df[column] >= outlier_border_right)\n",
    "    outliers_count = df.loc[outliers_mask,column].count()\n",
    "    outliers_proportion = outliers_count / count_\n",
    "    \n",
    "#     Создание и вывод таблицы с числовым описанием данных\n",
    "    describe_ = {\"count\": count_,\n",
    "                 \"mean\": mean,\n",
    "                 \"mode\": mode,\n",
    "                 \"var\": var,\n",
    "                 \"stddev\": stddev,\n",
    "                 \"min\": min_,\n",
    "                 \"25%\": quartile_1,\n",
    "                 \"50%\": median,\n",
    "                 \"75%\": quartile_3,\n",
    "                 \"max\": max_,\n",
    "                 \"total_range\": range_,\n",
    "                 \"interquartile_range\": iqr,\n",
    "                 \"outlier_border_left\": outlier_border_left,\n",
    "                 \"outlier_border_right\": outlier_border_right,\n",
    "                 \"outliers_count\": outliers_count,\n",
    "                 \"outliers_proportion\": outliers_proportion}\n",
    "    describe_ = pd.DataFrame(describe_).transpose()\n",
    "    describe_.columns = [column]\n",
    "    with pd.option_context(\"display.float_format\", '{:.3f}'.format):\n",
    "                           display(describe_)\n",
    "    \n",
    "\n",
    "#     Построение гистограммы, ящика с усами\n",
    "    fig,ax = plt.subplots(figsize=(16,8))\n",
    "    ax.hist(df[column],bins=30)\n",
    "    ax.set_ylabel(\"Частота\")\n",
    "    ax2=ax.twinx()\n",
    "    ax2.boxplot(df[column],vert=False)\n",
    "    \n",
    "    return fig,ax\n",
    "\n",
    "def qqplot(df,column):\n",
    "    \"\"\"Функция возвращает Figure,Axis объекты matplotlib.pyplot для normal qqplot.\"\"\"\n",
    "    fig,ax = plt.subplots(figsize=(8,8))\n",
    "    sm.qqplot(df[column], line='45',fit=True,ax=ax)\n",
    "    return fig,ax"
   ]
  },
  {
   "cell_type": "code",
   "execution_count": null,
   "id": "eff362c8-93cb-4367-9a98-8b5e913bb08f",
   "metadata": {},
   "outputs": [],
   "source": [
    "fig,ax = simple_uni_EDA(df,\"gest_Sum\")\n",
    "ax.set_xlabel(\"Кол-во звонков\")\n",
    "ax.set_title(\"Гистограмма и ящик с усами кол-ва звонков\")\n",
    "plt.show()\n",
    "# fig,ax = qqplot(df,\"gest_Sum\")\n",
    "# plt.show()"
   ]
  },
  {
   "cell_type": "code",
   "execution_count": null,
   "id": "03df9c7e-ae4d-4d29-9453-0ad5b8171457",
   "metadata": {},
   "outputs": [],
   "source": [
    "def eda(value,aggfunc,bins):\n",
    "    eda = df_eda.pivot_table(index='clnt_ID',values=value,aggfunc=aggfunc,columns='target')\n",
    "    t_0 = eda.iloc[:,0].dropna()\n",
    "    t_1 = eda.iloc[:,1].dropna()\n",
    "    display(t_0.value_counts())\n",
    "    display(t_1.value_counts())\n",
    "    return plt.hist([t_0,t_1],bins=bins,label=['target=0','target=1'])\n",
    "    \n",
    "    \n",
    "eda('gest_Sum','count',200)\n",
    "plt.xlim(0,200)\n",
    "plt.legend()\n",
    "plt.show()"
   ]
  },
  {
   "cell_type": "code",
   "execution_count": null,
   "id": "5cde42b5-7aeb-4fd6-867c-a7e2e4e21c3e",
   "metadata": {},
   "outputs": [],
   "source": []
  },
  {
   "cell_type": "code",
   "execution_count": null,
   "id": "9f362f4a-2019-4e2f-ac8e-8c0ab69e0de0",
   "metadata": {},
   "outputs": [],
   "source": []
  },
  {
   "cell_type": "code",
   "execution_count": null,
   "id": "16250133-1b73-4fec-8338-2b45c79434f0",
   "metadata": {},
   "outputs": [],
   "source": []
  },
  {
   "cell_type": "markdown",
   "id": "739afd3e-619f-4dba-abfb-a91a3679d060",
   "metadata": {
    "tags": []
   },
   "source": [
    "# Feature engineering\n",
    "\n",
    "Для анализа нужно создать фичи"
   ]
  },
  {
   "cell_type": "markdown",
   "id": "c71b220c-f6fe-4a56-889b-e6b2b43eed96",
   "metadata": {},
   "source": [
    "**=====================================================**  \n",
    "**=====================================================**  \n",
    "**=====================================================**  \n",
    "**СТАВИМ НА ПАУЗУ, СНАЧАЛА СДЕЛАТЬ EDA БЕЗ НОВЫХ ФИЧЕЙ, И БЕЙСЛАЙН, ЗАТЕМ УЖЕ НОВЫЕ ФИЧИ И НОВЫЕ МОДЕЛИ**  \n",
    "**=====================================================**  \n",
    "**=====================================================**  \n",
    "**=====================================================**  "
   ]
  },
  {
   "cell_type": "markdown",
   "id": "be61da38-43d3-450b-8ce3-5aaf7ebf5b16",
   "metadata": {},
   "source": [
    "Общая стоимость заказа без скидки = `gest_Sum + gest_Discount`"
   ]
  },
  {
   "cell_type": "code",
   "execution_count": null,
   "id": "9bbc80bc-bfbe-4671-9b10-aba979e31aff",
   "metadata": {},
   "outputs": [],
   "source": [
    "# df['gest_total'] = df['gest_Sum'] + df['gest_Discount']"
   ]
  },
  {
   "cell_type": "markdown",
   "id": "78d6e01b-2a20-4020-a391-cf42910f9545",
   "metadata": {},
   "source": [
    "**Как создавать сложные фичи?**\n",
    "\n",
    "* У нас есть целиковый датасет\n",
    "* Нужно группировать его по клиентам\n",
    "* Нужно к этим группам применять разные методы, чтобы уже эти фичи создать\n",
    "\n",
    "`df.groupby('cnlt_ID').transform(func)`"
   ]
  },
  {
   "cell_type": "markdown",
   "id": "711692f1-e4dc-44aa-8b61-75b36e2f52e7",
   "metadata": {},
   "source": [
    "**Какие создавать фичи?**\n",
    "* Сколько дней на момент текущей сделки прошло с момента первой сделки\n",
    "* Какой на текущий момент средний чек\n",
    "* Какая разница между среднем чеком и чеком сделки\n",
    "* Сколько сделок произошло на момент текущей сделки\n",
    "* Сколько сделок в месяц в среднем"
   ]
  },
  {
   "cell_type": "markdown",
   "id": "630a3913-a154-4d5e-8ac4-6c96dc2390d3",
   "metadata": {},
   "source": [
    "Сколько дней прошло с момента первой сделки\n",
    "\n",
    "1. Берем min(date)\n",
    "2. Вычитаем из текущей data min(date) (`df['date'] - df['first_buy_date']`)"
   ]
  },
  {
   "cell_type": "code",
   "execution_count": null,
   "id": "a68f01ea-cc57-4a6a-b3b3-210fa0da07d7",
   "metadata": {},
   "outputs": [],
   "source": [
    "# def first_buy_date(col):\n",
    "# #     print(col.min())\n",
    "#     return col - col.min()\n",
    "# df['first_buy_date_delta'] = df.groupby('clnt_ID')['date'].transform(first_buy_date)\n",
    "# df['first_buy_timestamp_delta'] = df.groupby('clnt_ID')['timestamp'].transform(first_buy_date)"
   ]
  },
  {
   "cell_type": "code",
   "execution_count": null,
   "id": "36bb87a6-26fb-4da6-b924-d30b0bfc1d72",
   "metadata": {},
   "outputs": [],
   "source": [
    "# df['first_buy_date_delta'].dt.days.astype('int').hist(bins=100)"
   ]
  },
  {
   "cell_type": "code",
   "execution_count": null,
   "id": "fccf5ddd-b4da-4db1-89da-deff339bc2d4",
   "metadata": {},
   "outputs": [],
   "source": [
    "# df['first_buy_timestamp_delta'].dt.total_seconds().astype('int').hist(bins=100)"
   ]
  },
  {
   "cell_type": "markdown",
   "id": "742a0fe1-0070-40c3-b4a4-d03a57345617",
   "metadata": {},
   "source": [
    "**Какой на текущий момент средний чек**\n",
    "\n",
    "Берем кумулятивную сумму чека и делим на \n",
    "\n",
    "А лучше используем `series.expanding().mean()`\n",
    "`df.groupby('clnt_ID').transform()`\n",
    "\n",
    "При этом нам нужен среднее кол-во денег, которое отдал клиент, и средняя стоимость без учета скидки."
   ]
  },
  {
   "cell_type": "code",
   "execution_count": null,
   "id": "64b76c6b-ef28-4105-b50a-633f399e0dfe",
   "metadata": {},
   "outputs": [],
   "source": [
    "# def expand_mean(col):\n",
    "#     return col.expanding().mean()\n",
    "# df['clnt_gest_Sum_avg'] = df.groupby('clnt_ID')['gest_Sum'].transform(expand_mean)\n",
    "# df['clnt_gest_total_avg'] = df.groupby('clnt_ID')['gest_total'].transform(expand_mean)"
   ]
  },
  {
   "cell_type": "code",
   "execution_count": null,
   "id": "f9805abe-9866-4252-861b-7dc67d44bfcf",
   "metadata": {},
   "outputs": [],
   "source": [
    "# df.head()"
   ]
  },
  {
   "cell_type": "code",
   "execution_count": null,
   "id": "91148ff7-9348-4abe-a846-310259e07208",
   "metadata": {},
   "outputs": [],
   "source": [
    "# df['clnt_gest_Sum_avg'].hist(bins=100)"
   ]
  },
  {
   "cell_type": "markdown",
   "id": "2a2bd924-eb6b-427b-a97e-c5d4c5325241",
   "metadata": {},
   "source": [
    "**Какая разница между среднем чеком и чеком сделки**\n",
    "Считаем для кол-ва денег и для стоимости без учета скидки (пока не ясно надо ли)\n",
    "\n",
    "Берем текущий чек и из него вычитаем средний.\n",
    "Тоже самое без учета скидки.\n",
    "\n",
    "`df['gest_Sum'] - df['clnt_gest_Sum_avg']`\n",
    "`df['gest_total'] - df['clnt_gest_total_avg']`"
   ]
  },
  {
   "cell_type": "code",
   "execution_count": null,
   "id": "0c8f15c2-8679-4dd3-b572-27b9f205ad6a",
   "metadata": {},
   "outputs": [],
   "source": [
    "# df['gest_Sum_delta_from_avg'] = df['gest_Sum'] - df['clnt_gest_Sum_avg']\n",
    "# df['gest_total_delta_from_avg'] = df['gest_total'] - df['clnt_gest_total_avg']"
   ]
  },
  {
   "cell_type": "code",
   "execution_count": null,
   "id": "1fdb9f36-6287-403a-97da-7c65c25188c8",
   "metadata": {},
   "outputs": [],
   "source": [
    "# df['gest_total_delta_from_avg'].hist(bins=100)"
   ]
  },
  {
   "cell_type": "markdown",
   "id": "529352ff-cbe9-45e9-b1db-e70011fc3594",
   "metadata": {},
   "source": [
    "**Сколько сделок произошло на момент текущей сделки**\n",
    "series.expanding().count()"
   ]
  },
  {
   "cell_type": "code",
   "execution_count": null,
   "id": "ebc27545-6703-4c6c-91ab-07ba038ae831",
   "metadata": {},
   "outputs": [],
   "source": [
    "# def expand_count(col):\n",
    "#     return col.expanding().count()\n",
    "\n",
    "# df['clnt_buys_count'] = df.groupby('clnt_ID')['timestamp'].transform(expand_count)"
   ]
  },
  {
   "cell_type": "code",
   "execution_count": null,
   "id": "d56aca0c-24db-428a-99ba-142eeb1a552f",
   "metadata": {},
   "outputs": [],
   "source": [
    "# df['clnt_buys_count'].describe()"
   ]
  },
  {
   "cell_type": "code",
   "execution_count": null,
   "id": "8c47b6c3-8503-4629-b6a2-5967426c8c4b",
   "metadata": {},
   "outputs": [],
   "source": [
    "# df['clnt_buys_count'].hist(bins=100)"
   ]
  },
  {
   "cell_type": "markdown",
   "id": "f9e9e93d-2d68-4bcf-b48a-9b05d5cb5fc2",
   "metadata": {},
   "source": [
    "**=====================================================**  \n",
    "**=====================================================**  \n",
    "**=====================================================**  \n",
    "**СТАВИМ НА ПАУЗУ, СНАЧАЛА СДЕЛАТЬ EDA БЕЗ НОВЫХ ФИЧЕЙ, И БЕЙСЛАЙН, ЗАТЕМ УЖЕ НОВЫЕ ФИЧИ И НОВЫЕ МОДЕЛИ**  \n",
    "**=====================================================**  \n",
    "**=====================================================**  \n",
    "**=====================================================**  "
   ]
  },
  {
   "cell_type": "markdown",
   "id": "1e571401-3e5b-4475-ad4a-320b8d791082",
   "metadata": {
    "jp-MarkdownHeadingCollapsed": true,
    "tags": [],
    "toc-hr-collapsed": true
   },
   "source": [
    "# EDA включая новые фичи"
   ]
  },
  {
   "cell_type": "markdown",
   "id": "f11d820e-a5e7-4663-a421-b265cd4ccff2",
   "metadata": {
    "tags": [],
    "toc-hr-collapsed": true
   },
   "source": [
    "# BASELINE и model selection"
   ]
  },
  {
   "cell_type": "markdown",
   "id": "93b53c26-e672-4b0b-a56e-240d90880748",
   "metadata": {},
   "source": [
    "Для бейслайна используем данные в таком виде:\n",
    "Группируем по клиенту,\n",
    "берем общее число покупок\n",
    "мин,макс,медиана,среднее,стд отклонение по gest_Sum, gest_Discount, кол-во дней между покупками.\n",
    "\n",
    "Пробуем логистическую регрессию - для нее стандартизируем\n",
    "Пробуем дерево решение - можно ничего не делать с данными\n",
    "Пробуем случайный лет - тоже можно ничего не делать\n",
    "\n",
    "Оцениваем ф1 по кроссвалидации на 5 фолдах (?)"
   ]
  },
  {
   "cell_type": "code",
   "execution_count": null,
   "id": "f50627ea-abef-4dc1-9303-93c9ed24e097",
   "metadata": {},
   "outputs": [],
   "source": [
    "df_baseline = df.copy()"
   ]
  },
  {
   "cell_type": "markdown",
   "id": "78507861-84ac-4846-8a41-0e2f7e75a072",
   "metadata": {},
   "source": [
    "Создадим фичу - кол-во дней между покупками.\n",
    "Потом ее переместим в нужное место."
   ]
  },
  {
   "cell_type": "code",
   "execution_count": null,
   "id": "c35e0b99-938e-413a-9308-818dbec6fe78",
   "metadata": {},
   "outputs": [],
   "source": [
    "def expand_count(col):\n",
    "    return col.expanding().count()\n",
    "\n",
    "df_baseline['clnt_buys_count'] = df_baseline.groupby('clnt_ID')['timestamp'].transform(expand_count)"
   ]
  },
  {
   "cell_type": "code",
   "execution_count": null,
   "id": "73825dff-5d42-4939-8a56-6b13479ea122",
   "metadata": {},
   "outputs": [],
   "source": [
    "df_baseline = df_baseline.drop(columns=['timestamp'])"
   ]
  },
  {
   "cell_type": "code",
   "execution_count": null,
   "id": "aff6125c-9822-440b-8240-77da2cfb4683",
   "metadata": {},
   "outputs": [],
   "source": [
    "df_baseline.head()"
   ]
  },
  {
   "cell_type": "markdown",
   "id": "3cc74b72-ed56-40d2-b2e0-480c8f54152f",
   "metadata": {},
   "source": [
    "Как использовать дату"
   ]
  },
  {
   "cell_type": "code",
   "execution_count": null,
   "id": "5136a581-1d25-49bc-8287-97dfd7005947",
   "metadata": {},
   "outputs": [],
   "source": [
    "df_eda.pivot_table(index='clnt_ID', values=['gest_Sum','gest_Discount'],aggfunc=['count','min','max','median','mean','std'],columns='target')"
   ]
  },
  {
   "cell_type": "code",
   "execution_count": null,
   "id": "ae24b12e-0785-404d-94aa-8e2b5f231706",
   "metadata": {},
   "outputs": [],
   "source": [
    "df_baseline.columns"
   ]
  },
  {
   "cell_type": "code",
   "execution_count": null,
   "id": "66f83d0a-071d-404d-a39e-669fbde07ae2",
   "metadata": {},
   "outputs": [],
   "source": [
    "aggfunc_dict = {'date': ['count'],\n",
    "                'gest_Sum': ['min','max','median','mean','std'], \n",
    "                'gest_Discount': ['min','max','median','mean','std'], \n",
    "                'clnt_buys_count': ['max','median','mean','std']} # здесь min не нужен, т.к. везде будут 1"
   ]
  },
  {
   "cell_type": "code",
   "execution_count": null,
   "id": "81f42f90-13eb-4146-babf-341b2afd250c",
   "metadata": {},
   "outputs": [],
   "source": [
    "pivot_baseline = df_baseline.pivot_table(index='clnt_ID', values=['date','gest_Sum','gest_Discount','clnt_buys_count'],aggfunc=aggfunc_dict, fill_value=0)"
   ]
  },
  {
   "cell_type": "code",
   "execution_count": null,
   "id": "7da08761-4487-42ef-a6d7-aa03c112b49c",
   "metadata": {},
   "outputs": [],
   "source": [
    "pivot_baseline.columns = ['_'.join(column) for column in pivot_baseline.columns]"
   ]
  },
  {
   "cell_type": "code",
   "execution_count": null,
   "id": "8bd5e6dd-5012-4575-ac9f-b017e2a4f5f9",
   "metadata": {},
   "outputs": [],
   "source": [
    "pivot_baseline.describe()"
   ]
  },
  {
   "cell_type": "code",
   "execution_count": null,
   "id": "e5aff532-c9c9-4c68-b96c-03c8bd432f73",
   "metadata": {},
   "outputs": [],
   "source": [
    "pivot_baseline.isna().sum()"
   ]
  },
  {
   "cell_type": "code",
   "execution_count": null,
   "id": "d2c6f7a6-7d9b-48c0-b8af-b535002c05aa",
   "metadata": {},
   "outputs": [],
   "source": [
    "# pivot_baseline_full = pivot_baseline.join(df_target)\n",
    "pivot_baseline_full = pivot_baseline.merge(df_target,on='clnt_ID')"
   ]
  },
  {
   "cell_type": "code",
   "execution_count": null,
   "id": "4e9757df-c546-4396-8938-aa020980981c",
   "metadata": {},
   "outputs": [],
   "source": [
    "pivot_baseline_full = pivot_baseline_full.drop(columns=['clnt_ID'])\n",
    "# pivot_baseline_full.head()"
   ]
  },
  {
   "cell_type": "code",
   "execution_count": null,
   "id": "d01b9c33-6260-4ea6-9f1d-6f8b95926dda",
   "metadata": {},
   "outputs": [],
   "source": [
    "X = pivot_baseline_full.drop(columns=['target'])\n",
    "y = pivot_baseline_full['target']"
   ]
  },
  {
   "cell_type": "code",
   "execution_count": null,
   "id": "f80c3966-2bfc-4afc-8b59-74ac8b8dad36",
   "metadata": {},
   "outputs": [],
   "source": [
    "X.head()"
   ]
  },
  {
   "cell_type": "code",
   "execution_count": null,
   "id": "634430ba-ea7a-4350-a224-2aea6b0fdc0d",
   "metadata": {},
   "outputs": [],
   "source": [
    "y.head()"
   ]
  },
  {
   "cell_type": "code",
   "execution_count": null,
   "id": "60fb5f2f-6b90-46ab-bc64-3ebc1b6c1587",
   "metadata": {},
   "outputs": [],
   "source": [
    "log_reg = LogisticRegression()\n",
    "log_reg_cv = cross_validate(log_reg, X, y, cv=5, scoring='roc_auc')"
   ]
  },
  {
   "cell_type": "code",
   "execution_count": null,
   "id": "bc199100-56db-4eb2-a4e3-167a78f65fc1",
   "metadata": {},
   "outputs": [],
   "source": [
    "tree = DecisionTreeClassifier()\n",
    "tree_cv = cross_validate(tree,X,y,cv=5,scoring='roc_auc')"
   ]
  },
  {
   "cell_type": "code",
   "execution_count": null,
   "id": "0c281d87-dae3-4f7b-abd9-42ec653c2e43",
   "metadata": {},
   "outputs": [],
   "source": [
    "forest = RandomForestClassifier()\n",
    "forest_cv = cross_validate(forest,X,y,cv=5,scoring='roc_auc')"
   ]
  },
  {
   "cell_type": "code",
   "execution_count": null,
   "id": "d2ee4f22-656b-4084-ab39-98689c37597d",
   "metadata": {},
   "outputs": [],
   "source": [
    "tree_cv['test_score'].mean()"
   ]
  },
  {
   "cell_type": "code",
   "execution_count": null,
   "id": "e105b64c-fec6-4241-bd79-44a8891509ea",
   "metadata": {},
   "outputs": [],
   "source": [
    "log_reg_roc_auc = log_reg_cv['test_score'].mean()\n",
    "tree_roc_auc = tree_cv['test_score'].mean()\n",
    "forest_roc_auc = forest_cv['test_score'].mean()\n",
    "print(f'log_reg_roc_auc = {log_reg_roc_auc} /n tree_roc_auc = {tree_roc_auc} /n forest_roc_auc={forest_roc_auc}')"
   ]
  },
  {
   "cell_type": "markdown",
   "id": "a8427ea2-e532-4998-9b9d-7bdc120ed973",
   "metadata": {
    "jp-MarkdownHeadingCollapsed": true,
    "tags": []
   },
   "source": [
    "### catboost -- ON HOLD"
   ]
  },
  {
   "cell_type": "code",
   "execution_count": null,
   "id": "0dd4be17-eec5-40c1-9818-ccc755abc0de",
   "metadata": {},
   "outputs": [],
   "source": [
    "# ON HOLD\n",
    "\n",
    "# test_data = catboost_pool = Pool(train_data, \n",
    "#                                  train_labels)\n",
    "\n",
    "# model = CatBoostClassifier(iterations=2,\n",
    "#                            depth=2,\n",
    "#                            learning_rate=1,\n",
    "#                            loss_function='Logloss',\n",
    "#                            verbose=True)\n",
    "# # train the model\n",
    "# model.fit(train_data, train_labels)\n",
    "# # make the prediction using the resulting model\n",
    "# preds_class = model.predict(test_data)\n",
    "# preds_proba = model.predict_proba(test_data)\n",
    "# print(\"class = \", preds_class)\n",
    "# print(\"proba = \", preds_proba)"
   ]
  },
  {
   "cell_type": "markdown",
   "id": "0e88bd38-d3ed-4100-ac43-f676195a5139",
   "metadata": {
    "tags": []
   },
   "source": [
    "# Model tuning"
   ]
  }
 ],
 "metadata": {
  "kernelspec": {
   "display_name": "Python 3 (ipykernel)",
   "language": "python",
   "name": "python3"
  },
  "language_info": {
   "codemirror_mode": {
    "name": "ipython",
    "version": 3
   },
   "file_extension": ".py",
   "mimetype": "text/x-python",
   "name": "python",
   "nbconvert_exporter": "python",
   "pygments_lexer": "ipython3",
   "version": "3.10.2"
  }
 },
 "nbformat": 4,
 "nbformat_minor": 5
}
