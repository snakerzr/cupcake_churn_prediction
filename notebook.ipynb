{
 "cells": [
  {
   "cell_type": "markdown",
   "id": "0e918b3b-b82d-4491-a266-f1204a6a60aa",
   "metadata": {},
   "source": [
    "Для прогнозирования используются данные о покупках юзеров за период 2021 года. Всего доступно больше 2 млн. строк.\n",
    "\n",
    "Флаг оттока проставляется, если после покупки юзера прошло больше 45 дней.\n",
    "\n",
    "Поведение юзера описывается историей его покупок, суммой чека и размером скидки к чеку. В компании действует программа лояльности, участвуя в которой юзеры получают скидку на любую покупку и могут получать дополнительные скидки по разным промо-акциями.\n",
    "\n",
    "Описание данных:\n",
    "data.csv\n",
    "* `'clnt_ID'` - уникальный айди юзера, str\n",
    "* `'timestamp'` - дата и время совершения покупки, datetime\n",
    "* `'gest_Sum'` - сумма покупки, float\n",
    "* `'gest_Discount'` - сумма скидки, float\n",
    "\n",
    "target.csv\n",
    "* `'clnt_ID'` - уникальный айди юзера, str\n",
    "* `'target'` - флаг оттока, int: 1 если юзер ушел в отток | 0 если НЕ отток"
   ]
  },
  {
   "cell_type": "markdown",
   "id": "c84a5095-84e0-48d0-86b1-8abf69d3a4e0",
   "metadata": {},
   "source": [
    "## Что здесь можно сделать? - Заметки \n",
    "**Нужно помнить, что по сути это тайм серия.**  \n",
    "Т.е. я предполагаю, что клиент покупает, покупает, покупает, потом фигак и перестал покупать. Один клиент - один вектор.\n",
    "А тут куча вектором принадлежат одному клиенту. \n",
    "\n",
    "Т.е. я бы даже сказал, что в том виде в котором оно есть, модель особо-то ничего не найдет. Как она сможет по дате, сумме покупки и скидке предсказать уйдет человек или нет, не зная его истории?\n",
    "\n",
    "**Что может говорить, что клиент собрался уйти и не вернуться?**  \n",
    "Т.е. гипотетически что может говорить о том, что клиент собирается уйти и не вернуться?\n",
    "1. Увеличивается интервал между покупками от покупки к покупке. Типа 1 день, потом 2, потом 5 и т.д.\n",
    "2. Как-то изменяется объем чека (уменьшается, увеличивается?) \n",
    "3. Как-то меняется ассортимент (типа вот он покупал одно и тоже, а тут вдруг перестал покупать одно и тоже (испортился товар на его вкус) и он либо сразу ушел, либо попробовал другое и остался, либо попробовал другое - ему не понравилось - ушел\n",
    "\n",
    "**Как должен работать предикт? Какие данные должны поступать на вход?**  \n",
    "Это видимо тоже относится к тому, что это своего рода таймсерия\n",
    "\n",
    "**Если сейчас дать модели на вход просто дату, сумму чека и скидку...**  \n",
    "То она будет пытаться предсказать отток исключительно по дате, сумме чеку и скидке - врядли у нее что-то получится взразумительное.\n",
    "\n",
    "\n",
    "**Сумма в месяц стабильна для юзера, а отклонение может указывать на отток**  \n",
    "По результатам уже проведенного анализа есть такой вывод:\n",
    "сумма, которую готов тратить юзер в месяц,  достаточна стабильна и слабо меняется со временем. Потратив в этом месяце больше обычного, юзер скорее всего в следующем не будет покупать;\n",
    "\n",
    "По каждому клиенту взять средний чек, каким-то образом определить порог отклонения от этого среднего чека и посмотреть насколько факт этого отклонения коррелирует с оттоком. Может это будет хорошая фича. Но проблема в том, что для предсказания не достаточно \n",
    "\n",
    "**Самый простой и очевидный способ подготовки данных**  \n",
    "Это взять по каждому клиенту кол-во покупок, min,max,mean,median,stdev по gest_Sum, gest_Discount, и перерывом между покупками\n",
    "\n",
    "**Вариант еще лучше!**  \n",
    "Используем каждую строку как есть, не переводим ее в строку по уникальному клиенту, а точно также одна строка одна сделка.\n",
    "К каждой такой строке мы накопительно добавляем кумулятивную инфу о клиенте, т.е.:\n",
    "* Сколько дней на момент сделки прошло с момента первой сделки\n",
    "* Какой на текущий момент средний чек\n",
    "* Какая разница между среднем чеком и чеком сделки\n",
    "* Сколько сделок произошло на момент текущей сделки\n",
    "* Сколько сделок в месяц в среднем"
   ]
  },
  {
   "cell_type": "markdown",
   "id": "4f798059-214a-43dc-b358-7a4af5c73f6a",
   "metadata": {},
   "source": [
    "## Описание общего подхода\n",
    "\n",
    "Я вот вижу 3 общих подхода:\n",
    "1. Рассматривать покупки клиентов как таймсерию, и исходя из прошлого поведения прогнозировать будущее. \n",
    "    * Мы таймсерии не проходили, плюс задача оттока традиционно не решается предсказанием таймсерии, поэтому от этого варианта скорее откажемся. Даже несмотря на то, что можно как-то обучить модель на скользящем окне (я точно не знаю как).\n",
    "2. Преобразовать данные так, чтобы получилось по одной строке на каждого клиента, в которой будет какая-то агрегированная информация о покупках. В надежде, что модель найдет какие-то закономерности именно в общей репрезентации истории. \n",
    "3. Использовать данные в том виде, в котором они уже есть. Т.е. каждая строка это одна сделка. Но добавить к ним накопительную информацию об истории клиента. (Спасибо нашему ментору, который подсказал этот подход)\n",
    "    * Т.е. к каждой сделке добавить инфу о кол-ве уже совершенных покупок, кол-во прошедших дней с предыдущей покупки, и другое.\n",
    "    * Такой подход позволит модели сравнивать историю с текущей сделкой, что повышает ценность информации по сравнению с предыдущим подходом.\n",
    "    \n",
    "    \n",
    "Наверное, главный мой вопрос для всех: какие есть еще подходы к решению задачи?\n",
    "\n",
    "И перейдя на уровень ниже, предполагаю, что эффективность любого подхода зависит от того, какие фичи мы создадим/добавим.\n",
    "А какие фичи нужно добавить зависит от того, как мы себе представляем механику и причины оттока клиентов.\n",
    "\n",
    "Здесь можно как-то самостоятельно (коллективно) очертить эту механику, составить список фичей и уже отдать на откуп модели, чтобы она там сама определила какие фичи важны - какие нет.\n",
    "Либо воспользоваться уже какой-то готовой теорией, например тот же RFM-анализ, о котором говорил Родион.\n",
    "Не ясно какой подход эффективнее, т.е. стоит ли погружаться в теорию и если стоит то ради чего (только ради списка фичей, например)?\n",
    "Это вот второй вопрос, который хотел бы обсудить.\n",
    "\n",
    "\n",
    "И третий вопрос: про то, в каком виде будут приходить данные на предикт.\n",
    "Это может повлиять на то, как нужно будет обучать модель.\n",
    "Например, если предикт будет происходить исключительно по данным за последний месяц и только, то какой-то условный скрипт предобработки, который будет, например, считать средний чек может сильно ошибиться, т.к. ему будет не хватать данных. А модель мы обучали на целом годе и там статистики будут поточнее. И так возникает расхождение.\n",
    "Вот такого рода ограничения. Я, к сожалению, другие примеры придумать не могу, но это все может сильно повлиять на архитектуру обработки данных и как следствие на то, что стоит ожидать от модели.\n"
   ]
  },
  {
   "cell_type": "code",
   "execution_count": 1,
   "id": "cf9e2794-3933-48dd-9665-87d7ea6f5f13",
   "metadata": {},
   "outputs": [],
   "source": [
    "import numpy as np\n",
    "import pandas as pd\n",
    "\n",
    "import matplotlib.pyplot as plt\n",
    "import seaborn as sns"
   ]
  },
  {
   "cell_type": "code",
   "execution_count": 2,
   "id": "f049c0bd-bb38-4983-8627-8f10200cd4f1",
   "metadata": {},
   "outputs": [],
   "source": [
    "# pd.set_option('display.max_rows', 100)"
   ]
  },
  {
   "cell_type": "code",
   "execution_count": 3,
   "id": "4215629b-2bbb-424b-b874-7ce4c61f5c21",
   "metadata": {},
   "outputs": [],
   "source": [
    "df = pd.read_csv('data/data.csv')\n",
    "df_target = pd.read_csv('data/target.csv')"
   ]
  },
  {
   "cell_type": "code",
   "execution_count": 4,
   "id": "a727e5a4-5600-4f31-acb2-68b05ebf84a5",
   "metadata": {},
   "outputs": [
    {
     "data": {
      "text/html": [
       "<div>\n",
       "<style scoped>\n",
       "    .dataframe tbody tr th:only-of-type {\n",
       "        vertical-align: middle;\n",
       "    }\n",
       "\n",
       "    .dataframe tbody tr th {\n",
       "        vertical-align: top;\n",
       "    }\n",
       "\n",
       "    .dataframe thead th {\n",
       "        text-align: right;\n",
       "    }\n",
       "</style>\n",
       "<table border=\"1\" class=\"dataframe\">\n",
       "  <thead>\n",
       "    <tr style=\"text-align: right;\">\n",
       "      <th></th>\n",
       "      <th>clnt_ID</th>\n",
       "      <th>timestamp</th>\n",
       "      <th>gest_Sum</th>\n",
       "      <th>gest_Discount</th>\n",
       "    </tr>\n",
       "  </thead>\n",
       "  <tbody>\n",
       "    <tr>\n",
       "      <th>0</th>\n",
       "      <td>193B4268-0B4A-475E-B1D0-FF5515E29D29</td>\n",
       "      <td>2021-01-02 09:09:17.060</td>\n",
       "      <td>900.000000</td>\n",
       "      <td>300.0</td>\n",
       "    </tr>\n",
       "    <tr>\n",
       "      <th>1</th>\n",
       "      <td>8DA65A37-C1D0-41D4-98E1-AB6C5BF1367F</td>\n",
       "      <td>2021-01-02 09:12:24.850</td>\n",
       "      <td>165.000000</td>\n",
       "      <td>55.0</td>\n",
       "    </tr>\n",
       "    <tr>\n",
       "      <th>2</th>\n",
       "      <td>26ACF3C8-25C8-4345-ABC2-33DA15EA6454</td>\n",
       "      <td>2021-01-02 09:38:21.643</td>\n",
       "      <td>800.500000</td>\n",
       "      <td>25.5</td>\n",
       "    </tr>\n",
       "    <tr>\n",
       "      <th>3</th>\n",
       "      <td>0F77DDB3-A9A7-44BE-AAAB-9DF59B66A695</td>\n",
       "      <td>2021-01-02 09:45:17.793</td>\n",
       "      <td>580.000000</td>\n",
       "      <td>0.0</td>\n",
       "    </tr>\n",
       "    <tr>\n",
       "      <th>4</th>\n",
       "      <td>F16BCF77-FA5A-4093-B7E3-FA86E2B1EA31</td>\n",
       "      <td>2021-01-02 09:59:50.453</td>\n",
       "      <td>148.899994</td>\n",
       "      <td>3.1</td>\n",
       "    </tr>\n",
       "  </tbody>\n",
       "</table>\n",
       "</div>"
      ],
      "text/plain": [
       "                                clnt_ID                timestamp    gest_Sum  \\\n",
       "0  193B4268-0B4A-475E-B1D0-FF5515E29D29  2021-01-02 09:09:17.060  900.000000   \n",
       "1  8DA65A37-C1D0-41D4-98E1-AB6C5BF1367F  2021-01-02 09:12:24.850  165.000000   \n",
       "2  26ACF3C8-25C8-4345-ABC2-33DA15EA6454  2021-01-02 09:38:21.643  800.500000   \n",
       "3  0F77DDB3-A9A7-44BE-AAAB-9DF59B66A695  2021-01-02 09:45:17.793  580.000000   \n",
       "4  F16BCF77-FA5A-4093-B7E3-FA86E2B1EA31  2021-01-02 09:59:50.453  148.899994   \n",
       "\n",
       "   gest_Discount  \n",
       "0          300.0  \n",
       "1           55.0  \n",
       "2           25.5  \n",
       "3            0.0  \n",
       "4            3.1  "
      ]
     },
     "metadata": {},
     "output_type": "display_data"
    },
    {
     "data": {
      "text/html": [
       "<div>\n",
       "<style scoped>\n",
       "    .dataframe tbody tr th:only-of-type {\n",
       "        vertical-align: middle;\n",
       "    }\n",
       "\n",
       "    .dataframe tbody tr th {\n",
       "        vertical-align: top;\n",
       "    }\n",
       "\n",
       "    .dataframe thead th {\n",
       "        text-align: right;\n",
       "    }\n",
       "</style>\n",
       "<table border=\"1\" class=\"dataframe\">\n",
       "  <thead>\n",
       "    <tr style=\"text-align: right;\">\n",
       "      <th></th>\n",
       "      <th>clnt_ID</th>\n",
       "      <th>target</th>\n",
       "    </tr>\n",
       "  </thead>\n",
       "  <tbody>\n",
       "    <tr>\n",
       "      <th>0</th>\n",
       "      <td>000070A8-DB9E-4AB7-8C4D-6169D4AEBB2A</td>\n",
       "      <td>1</td>\n",
       "    </tr>\n",
       "    <tr>\n",
       "      <th>1</th>\n",
       "      <td>00007EB0-6331-438E-A917-E9840C260876</td>\n",
       "      <td>0</td>\n",
       "    </tr>\n",
       "    <tr>\n",
       "      <th>2</th>\n",
       "      <td>0000993D-A30E-4233-AB3F-D368D9A0D2C4</td>\n",
       "      <td>1</td>\n",
       "    </tr>\n",
       "    <tr>\n",
       "      <th>3</th>\n",
       "      <td>0000A724-7BC5-408F-9F16-6CC3AB16322F</td>\n",
       "      <td>0</td>\n",
       "    </tr>\n",
       "    <tr>\n",
       "      <th>4</th>\n",
       "      <td>0000B90C-56DE-43C2-A213-624AFBE36DB2</td>\n",
       "      <td>0</td>\n",
       "    </tr>\n",
       "  </tbody>\n",
       "</table>\n",
       "</div>"
      ],
      "text/plain": [
       "                                clnt_ID  target\n",
       "0  000070A8-DB9E-4AB7-8C4D-6169D4AEBB2A       1\n",
       "1  00007EB0-6331-438E-A917-E9840C260876       0\n",
       "2  0000993D-A30E-4233-AB3F-D368D9A0D2C4       1\n",
       "3  0000A724-7BC5-408F-9F16-6CC3AB16322F       0\n",
       "4  0000B90C-56DE-43C2-A213-624AFBE36DB2       0"
      ]
     },
     "execution_count": 4,
     "metadata": {},
     "output_type": "execute_result"
    }
   ],
   "source": [
    "display(df.head())\n",
    "df_target.head()"
   ]
  },
  {
   "cell_type": "markdown",
   "id": "bee94788-bcf3-48c4-81d2-2a1cabebfab1",
   "metadata": {},
   "source": [
    "## Предобработка датасетов"
   ]
  },
  {
   "cell_type": "code",
   "execution_count": 5,
   "id": "ff02bd9e-7e24-4993-9166-7b00c6c520d6",
   "metadata": {},
   "outputs": [
    {
     "name": "stdout",
     "output_type": "stream",
     "text": [
      "<class 'pandas.core.frame.DataFrame'>\n",
      "RangeIndex: 2371635 entries, 0 to 2371634\n",
      "Data columns (total 4 columns):\n",
      " #   Column         Dtype  \n",
      "---  ------         -----  \n",
      " 0   clnt_ID        object \n",
      " 1   timestamp      object \n",
      " 2   gest_Sum       float64\n",
      " 3   gest_Discount  float64\n",
      "dtypes: float64(2), object(2)\n",
      "memory usage: 72.4+ MB\n"
     ]
    }
   ],
   "source": [
    "df.info()"
   ]
  },
  {
   "cell_type": "code",
   "execution_count": 6,
   "id": "44769d36-e3d7-4d70-90bf-eca19c73db1a",
   "metadata": {},
   "outputs": [
    {
     "name": "stdout",
     "output_type": "stream",
     "text": [
      "<class 'pandas.core.frame.DataFrame'>\n",
      "RangeIndex: 255109 entries, 0 to 255108\n",
      "Data columns (total 2 columns):\n",
      " #   Column   Non-Null Count   Dtype \n",
      "---  ------   --------------   ----- \n",
      " 0   clnt_ID  255109 non-null  object\n",
      " 1   target   255109 non-null  int64 \n",
      "dtypes: int64(1), object(1)\n",
      "memory usage: 3.9+ MB\n"
     ]
    }
   ],
   "source": [
    "df_target.info()"
   ]
  },
  {
   "cell_type": "markdown",
   "id": "b579359f-9b1a-4616-aa45-8dff88f146de",
   "metadata": {},
   "source": [
    "* timestamp - object, а не datetime"
   ]
  },
  {
   "cell_type": "markdown",
   "id": "073a832f-489b-41a0-96fa-3ab2843406f9",
   "metadata": {},
   "source": [
    "Изменим тип данных в timestamp на datetime"
   ]
  },
  {
   "cell_type": "code",
   "execution_count": 7,
   "id": "781adff0-2e2b-4b8f-854f-e1117184d370",
   "metadata": {},
   "outputs": [],
   "source": [
    "df['timestamp'] = pd.to_datetime(df['timestamp'], format='%Y-%m-%d %H:%M:%S.%f')"
   ]
  },
  {
   "cell_type": "markdown",
   "id": "16f1c17b-9769-46c2-84c4-05e499f77fca",
   "metadata": {},
   "source": [
    "Добавим столбец с только датой."
   ]
  },
  {
   "cell_type": "code",
   "execution_count": 8,
   "id": "7cb51e48-ecff-40b6-92e5-788f28b9042a",
   "metadata": {},
   "outputs": [],
   "source": [
    "df['date'] = df['timestamp'].dt.date"
   ]
  },
  {
   "cell_type": "markdown",
   "id": "49681f41-5d18-4b77-b609-55b3be247820",
   "metadata": {},
   "source": [
    "Проверим на дубликаты и пропуски."
   ]
  },
  {
   "cell_type": "code",
   "execution_count": 9,
   "id": "36c228d5-a5af-4969-a339-1f4a5618bab1",
   "metadata": {},
   "outputs": [
    {
     "data": {
      "text/plain": [
       "clnt_ID          0\n",
       "timestamp        0\n",
       "gest_Sum         0\n",
       "gest_Discount    0\n",
       "date             0\n",
       "dtype: int64"
      ]
     },
     "execution_count": 9,
     "metadata": {},
     "output_type": "execute_result"
    }
   ],
   "source": [
    "df.isna().sum()"
   ]
  },
  {
   "cell_type": "markdown",
   "id": "c3441290-9e5d-4555-b62a-a45c0f1e90c8",
   "metadata": {},
   "source": [
    "Пропусков нет."
   ]
  },
  {
   "cell_type": "code",
   "execution_count": 10,
   "id": "ea49f18b-7ab0-43b3-a771-9902f773d3c4",
   "metadata": {},
   "outputs": [
    {
     "data": {
      "text/plain": [
       "129"
      ]
     },
     "execution_count": 10,
     "metadata": {},
     "output_type": "execute_result"
    }
   ],
   "source": [
    "df.duplicated().sum()"
   ]
  },
  {
   "cell_type": "markdown",
   "id": "fdc39adf-b1ad-4708-a276-5ea256cc29f9",
   "metadata": {},
   "source": [
    "Есть дубликаты, посмотрим на них."
   ]
  },
  {
   "cell_type": "code",
   "execution_count": 11,
   "id": "2b237787-c308-4d89-869d-8335098aa370",
   "metadata": {
    "tags": []
   },
   "outputs": [
    {
     "data": {
      "text/html": [
       "<div>\n",
       "<style scoped>\n",
       "    .dataframe tbody tr th:only-of-type {\n",
       "        vertical-align: middle;\n",
       "    }\n",
       "\n",
       "    .dataframe tbody tr th {\n",
       "        vertical-align: top;\n",
       "    }\n",
       "\n",
       "    .dataframe thead th {\n",
       "        text-align: right;\n",
       "    }\n",
       "</style>\n",
       "<table border=\"1\" class=\"dataframe\">\n",
       "  <thead>\n",
       "    <tr style=\"text-align: right;\">\n",
       "      <th></th>\n",
       "      <th>clnt_ID</th>\n",
       "      <th>timestamp</th>\n",
       "      <th>gest_Sum</th>\n",
       "      <th>gest_Discount</th>\n",
       "      <th>date</th>\n",
       "    </tr>\n",
       "  </thead>\n",
       "  <tbody>\n",
       "    <tr>\n",
       "      <th>639</th>\n",
       "      <td>1FA367BD-8E07-437E-AB6A-009D53533128</td>\n",
       "      <td>2021-01-02 12:00:00</td>\n",
       "      <td>982.200012</td>\n",
       "      <td>0.000000</td>\n",
       "      <td>2021-01-02</td>\n",
       "    </tr>\n",
       "    <tr>\n",
       "      <th>663</th>\n",
       "      <td>1FA367BD-8E07-437E-AB6A-009D53533128</td>\n",
       "      <td>2021-01-02 12:00:00</td>\n",
       "      <td>982.200012</td>\n",
       "      <td>0.000000</td>\n",
       "      <td>2021-01-02</td>\n",
       "    </tr>\n",
       "    <tr>\n",
       "      <th>85786</th>\n",
       "      <td>3319362D-F6AD-498B-9B53-F59D0418915E</td>\n",
       "      <td>2021-01-14 14:00:00</td>\n",
       "      <td>1189.000000</td>\n",
       "      <td>0.000000</td>\n",
       "      <td>2021-01-14</td>\n",
       "    </tr>\n",
       "    <tr>\n",
       "      <th>85787</th>\n",
       "      <td>3319362D-F6AD-498B-9B53-F59D0418915E</td>\n",
       "      <td>2021-01-14 14:00:00</td>\n",
       "      <td>1189.000000</td>\n",
       "      <td>0.000000</td>\n",
       "      <td>2021-01-14</td>\n",
       "    </tr>\n",
       "    <tr>\n",
       "      <th>133279</th>\n",
       "      <td>A145C6F8-EDCB-47B1-BF5D-B328F6AF97CA</td>\n",
       "      <td>2021-01-20 16:00:00</td>\n",
       "      <td>0.000000</td>\n",
       "      <td>0.000000</td>\n",
       "      <td>2021-01-20</td>\n",
       "    </tr>\n",
       "    <tr>\n",
       "      <th>...</th>\n",
       "      <td>...</td>\n",
       "      <td>...</td>\n",
       "      <td>...</td>\n",
       "      <td>...</td>\n",
       "      <td>...</td>\n",
       "    </tr>\n",
       "    <tr>\n",
       "      <th>2165277</th>\n",
       "      <td>E99EFF35-01BE-49A9-8F61-641F752051E5</td>\n",
       "      <td>2021-11-08 15:00:00</td>\n",
       "      <td>0.000000</td>\n",
       "      <td>0.000000</td>\n",
       "      <td>2021-11-08</td>\n",
       "    </tr>\n",
       "    <tr>\n",
       "      <th>2174627</th>\n",
       "      <td>1A4C0239-A7AB-4188-84DB-8F52FBF6E13C</td>\n",
       "      <td>2021-11-10 11:00:00</td>\n",
       "      <td>282.239990</td>\n",
       "      <td>37.759998</td>\n",
       "      <td>2021-11-10</td>\n",
       "    </tr>\n",
       "    <tr>\n",
       "      <th>2174629</th>\n",
       "      <td>1A4C0239-A7AB-4188-84DB-8F52FBF6E13C</td>\n",
       "      <td>2021-11-10 11:00:00</td>\n",
       "      <td>282.239990</td>\n",
       "      <td>37.759998</td>\n",
       "      <td>2021-11-10</td>\n",
       "    </tr>\n",
       "    <tr>\n",
       "      <th>2198034</th>\n",
       "      <td>C9D86AF9-373C-4531-92A4-8FC752DD5D75</td>\n",
       "      <td>2021-11-14 12:00:00</td>\n",
       "      <td>0.000000</td>\n",
       "      <td>0.000000</td>\n",
       "      <td>2021-11-14</td>\n",
       "    </tr>\n",
       "    <tr>\n",
       "      <th>2198035</th>\n",
       "      <td>C9D86AF9-373C-4531-92A4-8FC752DD5D75</td>\n",
       "      <td>2021-11-14 12:00:00</td>\n",
       "      <td>0.000000</td>\n",
       "      <td>0.000000</td>\n",
       "      <td>2021-11-14</td>\n",
       "    </tr>\n",
       "  </tbody>\n",
       "</table>\n",
       "<p>225 rows × 5 columns</p>\n",
       "</div>"
      ],
      "text/plain": [
       "                                      clnt_ID           timestamp  \\\n",
       "639      1FA367BD-8E07-437E-AB6A-009D53533128 2021-01-02 12:00:00   \n",
       "663      1FA367BD-8E07-437E-AB6A-009D53533128 2021-01-02 12:00:00   \n",
       "85786    3319362D-F6AD-498B-9B53-F59D0418915E 2021-01-14 14:00:00   \n",
       "85787    3319362D-F6AD-498B-9B53-F59D0418915E 2021-01-14 14:00:00   \n",
       "133279   A145C6F8-EDCB-47B1-BF5D-B328F6AF97CA 2021-01-20 16:00:00   \n",
       "...                                       ...                 ...   \n",
       "2165277  E99EFF35-01BE-49A9-8F61-641F752051E5 2021-11-08 15:00:00   \n",
       "2174627  1A4C0239-A7AB-4188-84DB-8F52FBF6E13C 2021-11-10 11:00:00   \n",
       "2174629  1A4C0239-A7AB-4188-84DB-8F52FBF6E13C 2021-11-10 11:00:00   \n",
       "2198034  C9D86AF9-373C-4531-92A4-8FC752DD5D75 2021-11-14 12:00:00   \n",
       "2198035  C9D86AF9-373C-4531-92A4-8FC752DD5D75 2021-11-14 12:00:00   \n",
       "\n",
       "            gest_Sum  gest_Discount        date  \n",
       "639       982.200012       0.000000  2021-01-02  \n",
       "663       982.200012       0.000000  2021-01-02  \n",
       "85786    1189.000000       0.000000  2021-01-14  \n",
       "85787    1189.000000       0.000000  2021-01-14  \n",
       "133279      0.000000       0.000000  2021-01-20  \n",
       "...              ...            ...         ...  \n",
       "2165277     0.000000       0.000000  2021-11-08  \n",
       "2174627   282.239990      37.759998  2021-11-10  \n",
       "2174629   282.239990      37.759998  2021-11-10  \n",
       "2198034     0.000000       0.000000  2021-11-14  \n",
       "2198035     0.000000       0.000000  2021-11-14  \n",
       "\n",
       "[225 rows x 5 columns]"
      ]
     },
     "execution_count": 11,
     "metadata": {},
     "output_type": "execute_result"
    }
   ],
   "source": [
    "df.loc[df.duplicated(keep=False)]"
   ]
  },
  {
   "cell_type": "markdown",
   "id": "2de29057-8b9d-4684-98c0-f2ddaa928b70",
   "metadata": {
    "tags": []
   },
   "source": [
    "Удалим дубликаты."
   ]
  },
  {
   "cell_type": "code",
   "execution_count": 12,
   "id": "007ee042-2d7d-4634-9962-c9bdcd324388",
   "metadata": {},
   "outputs": [],
   "source": [
    "df = df.drop_duplicates()"
   ]
  },
  {
   "cell_type": "code",
   "execution_count": 13,
   "id": "a50807cf-6b8d-4eaa-9a06-5b244e7ceecd",
   "metadata": {},
   "outputs": [
    {
     "data": {
      "text/plain": [
       "0"
      ]
     },
     "execution_count": 13,
     "metadata": {},
     "output_type": "execute_result"
    }
   ],
   "source": [
    "df.duplicated().sum()"
   ]
  },
  {
   "cell_type": "markdown",
   "id": "05de76ac-875f-4136-a9a5-d11b4f27d9a5",
   "metadata": {},
   "source": [
    "Дубликаты удалили."
   ]
  },
  {
   "cell_type": "markdown",
   "id": "739afd3e-619f-4dba-abfb-a91a3679d060",
   "metadata": {},
   "source": [
    "## Нужно создать фичи\n",
    "\n",
    "Для анализа нужно создать фичи"
   ]
  },
  {
   "cell_type": "markdown",
   "id": "be61da38-43d3-450b-8ce3-5aaf7ebf5b16",
   "metadata": {},
   "source": [
    "Общая стоимость заказа без скидки = `gest_Sum + gest_Discount`"
   ]
  },
  {
   "cell_type": "code",
   "execution_count": 14,
   "id": "9bbc80bc-bfbe-4671-9b10-aba979e31aff",
   "metadata": {},
   "outputs": [],
   "source": [
    "df['gest_total'] = df['gest_Sum'] + df['gest_Discount']"
   ]
  },
  {
   "cell_type": "markdown",
   "id": "78d6e01b-2a20-4020-a391-cf42910f9545",
   "metadata": {},
   "source": [
    "**Как создавать сложные фичи?**\n",
    "\n",
    "* У нас есть целиковый датасет\n",
    "* Нужно группировать его по клиентам\n",
    "* Нужно к этим группам применять разные методы, чтобы уже эти фичи создать\n",
    "\n",
    "`df.groupby('cnlt_ID').transform(func)`"
   ]
  },
  {
   "cell_type": "markdown",
   "id": "711692f1-e4dc-44aa-8b61-75b36e2f52e7",
   "metadata": {},
   "source": [
    "**Какие создавать фичи?**\n",
    "* Сколько дней на момент текущей сделки прошло с момента первой сделки\n",
    "* Какой на текущий момент средний чек\n",
    "* Какая разница между среднем чеком и чеком сделки\n",
    "* Сколько сделок произошло на момент текущей сделки\n",
    "* Сколько сделок в месяц в среднем"
   ]
  },
  {
   "cell_type": "markdown",
   "id": "630a3913-a154-4d5e-8ac4-6c96dc2390d3",
   "metadata": {},
   "source": [
    "Сколько дней прошло с момента первой сделки\n",
    "\n",
    "1. Берем min(date)\n",
    "2. Вычитаем из текущей data min(date) (`df['date'] - df['first_buy_date']`)"
   ]
  },
  {
   "cell_type": "code",
   "execution_count": 15,
   "id": "a68f01ea-cc57-4a6a-b3b3-210fa0da07d7",
   "metadata": {},
   "outputs": [],
   "source": [
    "def first_buy_date(col):\n",
    "#     print(col.min())\n",
    "    return col - col.min()\n",
    "df['first_buy_date_delta'] = df.groupby('clnt_ID')['date'].transform(first_buy_date)\n",
    "df['first_buy_timestamp_delta'] = df.groupby('clnt_ID')['timestamp'].transform(first_buy_date)"
   ]
  },
  {
   "cell_type": "code",
   "execution_count": 16,
   "id": "36bb87a6-26fb-4da6-b924-d30b0bfc1d72",
   "metadata": {},
   "outputs": [
    {
     "data": {
      "text/plain": [
       "<AxesSubplot:>"
      ]
     },
     "execution_count": 16,
     "metadata": {},
     "output_type": "execute_result"
    },
    {
     "data": {
      "image/png": "[encoded data removed]",
      "text/plain": [
       "<Figure size 432x288 with 1 Axes>"
      ]
     },
     "metadata": {
      "needs_background": "light"
     },
     "output_type": "display_data"
    }
   ],
   "source": [
    "df['first_buy_date_delta'].dt.days.astype('int').hist(bins=100)"
   ]
  },
  {
   "cell_type": "code",
   "execution_count": 17,
   "id": "fccf5ddd-b4da-4db1-89da-deff339bc2d4",
   "metadata": {},
   "outputs": [
    {
     "data": {
      "text/plain": [
       "<AxesSubplot:>"
      ]
     },
     "execution_count": 17,
     "metadata": {},
     "output_type": "execute_result"
    },
    {
     "data": {
      "image/png": "[encoded data removed]",
      "text/plain": [
       "<Figure size 432x288 with 1 Axes>"
      ]
     },
     "metadata": {
      "needs_background": "light"
     },
     "output_type": "display_data"
    }
   ],
   "source": [
    "df['first_buy_timestamp_delta'].dt.total_seconds().astype('int').hist(bins=100)"
   ]
  },
  {
   "cell_type": "markdown",
   "id": "742a0fe1-0070-40c3-b4a4-d03a57345617",
   "metadata": {},
   "source": [
    "**Какой на текущий момент средний чек**\n",
    "\n",
    "Берем кумулятивную сумму чека и делим на \n",
    "\n",
    "А лучше используем `series.expanding().mean()`\n",
    "`df.groupby('clnt_ID').transform()`\n",
    "\n",
    "При этом нам нужен среднее кол-во денег, которое отдал клиент, и средняя стоимость без учета скидки."
   ]
  },
  {
   "cell_type": "code",
   "execution_count": 18,
   "id": "64b76c6b-ef28-4105-b50a-633f399e0dfe",
   "metadata": {},
   "outputs": [],
   "source": [
    "def expand_mean(col):\n",
    "    return col.expanding().mean()\n",
    "df['clnt_gest_Sum_avg'] = df.groupby('clnt_ID')['gest_Sum'].transform(expand_mean)\n",
    "df['clnt_gest_total_avg'] = df.groupby('clnt_ID')['gest_total'].transform(expand_mean)"
   ]
  },
  {
   "cell_type": "code",
   "execution_count": 21,
   "id": "f9805abe-9866-4252-861b-7dc67d44bfcf",
   "metadata": {},
   "outputs": [
    {
     "data": {
      "text/html": [
       "<div>\n",
       "<style scoped>\n",
       "    .dataframe tbody tr th:only-of-type {\n",
       "        vertical-align: middle;\n",
       "    }\n",
       "\n",
       "    .dataframe tbody tr th {\n",
       "        vertical-align: top;\n",
       "    }\n",
       "\n",
       "    .dataframe thead th {\n",
       "        text-align: right;\n",
       "    }\n",
       "</style>\n",
       "<table border=\"1\" class=\"dataframe\">\n",
       "  <thead>\n",
       "    <tr style=\"text-align: right;\">\n",
       "      <th></th>\n",
       "      <th>clnt_ID</th>\n",
       "      <th>timestamp</th>\n",
       "      <th>gest_Sum</th>\n",
       "      <th>gest_Discount</th>\n",
       "      <th>date</th>\n",
       "      <th>gest_total</th>\n",
       "      <th>first_buy_date_delta</th>\n",
       "      <th>first_buy_timestamp_delta</th>\n",
       "      <th>clnt_gest_Sum_avg</th>\n",
       "      <th>clnt_gest_total_avg</th>\n",
       "    </tr>\n",
       "  </thead>\n",
       "  <tbody>\n",
       "    <tr>\n",
       "      <th>0</th>\n",
       "      <td>193B4268-0B4A-475E-B1D0-FF5515E29D29</td>\n",
       "      <td>2021-01-02 09:09:17.060</td>\n",
       "      <td>900.000000</td>\n",
       "      <td>300.0</td>\n",
       "      <td>2021-01-02</td>\n",
       "      <td>1200.000000</td>\n",
       "      <td>0 days</td>\n",
       "      <td>0 days</td>\n",
       "      <td>900.000000</td>\n",
       "      <td>1200.000000</td>\n",
       "    </tr>\n",
       "    <tr>\n",
       "      <th>1</th>\n",
       "      <td>8DA65A37-C1D0-41D4-98E1-AB6C5BF1367F</td>\n",
       "      <td>2021-01-02 09:12:24.850</td>\n",
       "      <td>165.000000</td>\n",
       "      <td>55.0</td>\n",
       "      <td>2021-01-02</td>\n",
       "      <td>220.000000</td>\n",
       "      <td>0 days</td>\n",
       "      <td>0 days</td>\n",
       "      <td>165.000000</td>\n",
       "      <td>220.000000</td>\n",
       "    </tr>\n",
       "    <tr>\n",
       "      <th>2</th>\n",
       "      <td>26ACF3C8-25C8-4345-ABC2-33DA15EA6454</td>\n",
       "      <td>2021-01-02 09:38:21.643</td>\n",
       "      <td>800.500000</td>\n",
       "      <td>25.5</td>\n",
       "      <td>2021-01-02</td>\n",
       "      <td>826.000000</td>\n",
       "      <td>0 days</td>\n",
       "      <td>0 days</td>\n",
       "      <td>800.500000</td>\n",
       "      <td>826.000000</td>\n",
       "    </tr>\n",
       "    <tr>\n",
       "      <th>3</th>\n",
       "      <td>0F77DDB3-A9A7-44BE-AAAB-9DF59B66A695</td>\n",
       "      <td>2021-01-02 09:45:17.793</td>\n",
       "      <td>580.000000</td>\n",
       "      <td>0.0</td>\n",
       "      <td>2021-01-02</td>\n",
       "      <td>580.000000</td>\n",
       "      <td>0 days</td>\n",
       "      <td>0 days</td>\n",
       "      <td>580.000000</td>\n",
       "      <td>580.000000</td>\n",
       "    </tr>\n",
       "    <tr>\n",
       "      <th>4</th>\n",
       "      <td>F16BCF77-FA5A-4093-B7E3-FA86E2B1EA31</td>\n",
       "      <td>2021-01-02 09:59:50.453</td>\n",
       "      <td>148.899994</td>\n",
       "      <td>3.1</td>\n",
       "      <td>2021-01-02</td>\n",
       "      <td>151.999994</td>\n",
       "      <td>0 days</td>\n",
       "      <td>0 days</td>\n",
       "      <td>148.899994</td>\n",
       "      <td>151.999994</td>\n",
       "    </tr>\n",
       "  </tbody>\n",
       "</table>\n",
       "</div>"
      ],
      "text/plain": [
       "                                clnt_ID               timestamp    gest_Sum  \\\n",
       "0  193B4268-0B4A-475E-B1D0-FF5515E29D29 2021-01-02 09:09:17.060  900.000000   \n",
       "1  8DA65A37-C1D0-41D4-98E1-AB6C5BF1367F 2021-01-02 09:12:24.850  165.000000   \n",
       "2  26ACF3C8-25C8-4345-ABC2-33DA15EA6454 2021-01-02 09:38:21.643  800.500000   \n",
       "3  0F77DDB3-A9A7-44BE-AAAB-9DF59B66A695 2021-01-02 09:45:17.793  580.000000   \n",
       "4  F16BCF77-FA5A-4093-B7E3-FA86E2B1EA31 2021-01-02 09:59:50.453  148.899994   \n",
       "\n",
       "   gest_Discount        date   gest_total first_buy_date_delta  \\\n",
       "0          300.0  2021-01-02  1200.000000               0 days   \n",
       "1           55.0  2021-01-02   220.000000               0 days   \n",
       "2           25.5  2021-01-02   826.000000               0 days   \n",
       "3            0.0  2021-01-02   580.000000               0 days   \n",
       "4            3.1  2021-01-02   151.999994               0 days   \n",
       "\n",
       "  first_buy_timestamp_delta  clnt_gest_Sum_avg  clnt_gest_total_avg  \n",
       "0                    0 days         900.000000          1200.000000  \n",
       "1                    0 days         165.000000           220.000000  \n",
       "2                    0 days         800.500000           826.000000  \n",
       "3                    0 days         580.000000           580.000000  \n",
       "4                    0 days         148.899994           151.999994  "
      ]
     },
     "execution_count": 21,
     "metadata": {},
     "output_type": "execute_result"
    }
   ],
   "source": [
    "df.head()"
   ]
  },
  {
   "cell_type": "code",
   "execution_count": 26,
   "id": "91148ff7-9348-4abe-a846-310259e07208",
   "metadata": {},
   "outputs": [
    {
     "data": {
      "text/plain": [
       "<AxesSubplot:>"
      ]
     },
     "execution_count": 26,
     "metadata": {},
     "output_type": "execute_result"
    },
    {
     "data": {
      "image/png": "[encoded data removed]",
      "text/plain": [
       "<Figure size 432x288 with 1 Axes>"
      ]
     },
     "metadata": {
      "needs_background": "light"
     },
     "output_type": "display_data"
    }
   ],
   "source": [
    "df['clnt_gest_Sum_avg'].hist(bins=100)"
   ]
  },
  {
   "cell_type": "markdown",
   "id": "2a2bd924-eb6b-427b-a97e-c5d4c5325241",
   "metadata": {},
   "source": [
    "**Какая разница между среднем чеком и чеком сделки**\n",
    "Считаем для кол-ва денег и для стоимости без учета скидки (пока не ясно надо ли)\n",
    "\n",
    "Берем текущий чек и из него вычитаем средний.\n",
    "Тоже самое без учета скидки.\n",
    "\n",
    "`df['gest_Sum'] - df['clnt_gest_Sum_avg']`\n",
    "`df['gest_total'] - df['clnt_gest_total_avg']`"
   ]
  },
  {
   "cell_type": "code",
   "execution_count": 27,
   "id": "0c8f15c2-8679-4dd3-b572-27b9f205ad6a",
   "metadata": {},
   "outputs": [],
   "source": [
    "df['gest_Sum_delta_from_avg'] = df['gest_Sum'] - df['clnt_gest_Sum_avg']\n",
    "df['gest_total_delta_from_avg'] = df['gest_total'] - df['clnt_gest_total_avg']"
   ]
  },
  {
   "cell_type": "code",
   "execution_count": 30,
   "id": "1fdb9f36-6287-403a-97da-7c65c25188c8",
   "metadata": {},
   "outputs": [
    {
     "data": {
      "text/plain": [
       "<AxesSubplot:>"
      ]
     },
     "execution_count": 30,
     "metadata": {},
     "output_type": "execute_result"
    },
    {
     "data": {
      "image/png": "[encoded data removed]",
      "text/plain": [
       "<Figure size 432x288 with 1 Axes>"
      ]
     },
     "metadata": {
      "needs_background": "light"
     },
     "output_type": "display_data"
    }
   ],
   "source": [
    "df['gest_total_delta_from_avg'].hist(bins=100)"
   ]
  },
  {
   "cell_type": "markdown",
   "id": "529352ff-cbe9-45e9-b1db-e70011fc3594",
   "metadata": {},
   "source": [
    "**Сколько сделок произошло на момент текущей сделки**\n",
    "series.expanding().count()"
   ]
  },
  {
   "cell_type": "code",
   "execution_count": 33,
   "id": "ebc27545-6703-4c6c-91ab-07ba038ae831",
   "metadata": {},
   "outputs": [],
   "source": [
    "def expand_count(col):\n",
    "    return col.expanding().count()\n",
    "\n",
    "df['clnt_buys_count'] = df.groupby('clnt_ID')['timestamp'].transform(expand_count)"
   ]
  },
  {
   "cell_type": "code",
   "execution_count": 38,
   "id": "d56aca0c-24db-428a-99ba-142eeb1a552f",
   "metadata": {},
   "outputs": [
    {
     "data": {
      "text/plain": [
       "count    2.371506e+06\n",
       "mean     3.398758e+01\n",
       "std      5.565126e+01\n",
       "min      1.000000e+00\n",
       "25%      4.000000e+00\n",
       "50%      1.600000e+01\n",
       "75%      4.200000e+01\n",
       "max      1.314000e+03\n",
       "Name: clnt_buys_count, dtype: float64"
      ]
     },
     "execution_count": 38,
     "metadata": {},
     "output_type": "execute_result"
    }
   ],
   "source": [
    "df['clnt_buys_count'].describe()"
   ]
  },
  {
   "cell_type": "code",
   "execution_count": 37,
   "id": "8c47b6c3-8503-4629-b6a2-5967426c8c4b",
   "metadata": {},
   "outputs": [
    {
     "data": {
      "text/plain": [
       "<AxesSubplot:>"
      ]
     },
     "execution_count": 37,
     "metadata": {},
     "output_type": "execute_result"
    },
    {
     "data": {
      "image/png": "[encoded data removed]",
      "text/plain": [
       "<Figure size 432x288 with 1 Axes>"
      ]
     },
     "metadata": {
      "needs_background": "light"
     },
     "output_type": "display_data"
    }
   ],
   "source": [
    "df['clnt_buys_count'].hist(bins=100)"
   ]
  },
  {
   "cell_type": "markdown",
   "id": "7d159a75-de7d-4f2f-b748-d40aebe766fe",
   "metadata": {
    "tags": []
   },
   "source": [
    "## EDA"
   ]
  },
  {
   "cell_type": "markdown",
   "id": "b5694768-75ac-453c-977d-c6b6174eb74c",
   "metadata": {},
   "source": [
    "Объединим датасеты для анализа."
   ]
  },
  {
   "cell_type": "code",
   "execution_count": null,
   "id": "585bca00-579b-4a20-b27e-1088be7879e6",
   "metadata": {},
   "outputs": [],
   "source": [
    "\n",
    "df_eda = df.merge(df_target,on='clnt_ID')\n",
    "display(df_eda.head(),df_eda.info(),df_eda.isna().sum())"
   ]
  },
  {
   "cell_type": "markdown",
   "id": "3c2fbbc7-ad20-4a50-82ba-71da553ac408",
   "metadata": {
    "tags": []
   },
   "source": [
    "Посмотрим кол-во уникальный айдишников."
   ]
  },
  {
   "cell_type": "code",
   "execution_count": null,
   "id": "c6989c03-0d42-4370-8b06-bf4098cd30cc",
   "metadata": {},
   "outputs": [],
   "source": [
    "display(df['clnt_ID'].nunique())\n",
    "df_target['clnt_ID'].nunique()"
   ]
  },
  {
   "cell_type": "markdown",
   "id": "d90128a5-eb95-48e0-aa9e-82b184dd4d3d",
   "metadata": {},
   "source": [
    "255109 клиентов. При этом в датасете с таргетом тоже 255109 записей. Значит все верно."
   ]
  },
  {
   "cell_type": "markdown",
   "id": "f2f46fba-ab60-4111-9298-562dd5dc44aa",
   "metadata": {},
   "source": [
    "Посмотрим сколько из них с флагом."
   ]
  },
  {
   "cell_type": "code",
   "execution_count": null,
   "id": "79664c33-8ead-4198-bb35-6644de825185",
   "metadata": {},
   "outputs": [],
   "source": [
    "df_target['target'].value_counts()"
   ]
  },
  {
   "cell_type": "markdown",
   "id": "2d1a528a-b5f2-446c-a146-686b8b41993c",
   "metadata": {},
   "source": [
    "Примерно одинаково. Дисбаланса классов нет."
   ]
  },
  {
   "cell_type": "markdown",
   "id": "743e6333-4bc4-4707-b474-06b569d99f32",
   "metadata": {},
   "source": [
    "Проверим, что все правильно смержилось."
   ]
  },
  {
   "cell_type": "code",
   "execution_count": null,
   "id": "7a7ef701-584e-4692-bf38-74914427580f",
   "metadata": {},
   "outputs": [],
   "source": [
    "(df_eda.loc[df_eda['target']==0,'clnt_ID'].nunique(),df_eda.loc[df_eda['target']==1,'clnt_ID'].nunique())"
   ]
  },
  {
   "cell_type": "markdown",
   "id": "fe2a4bfd-be89-490d-b68d-5ceb7ceb64e0",
   "metadata": {},
   "source": [
    "Да, кол-во уникальных айдишников в каждом классе осталось прежним."
   ]
  },
  {
   "cell_type": "markdown",
   "id": "b37fd031-ef6a-456f-acbf-cb069d535f87",
   "metadata": {},
   "source": [
    "Посмотрим сколько заказов (строк) приходится на каждый класс."
   ]
  },
  {
   "cell_type": "code",
   "execution_count": null,
   "id": "63a9f973-cda0-4dba-8110-127c8cc3edf4",
   "metadata": {},
   "outputs": [],
   "source": [
    "display(df_full['target'].value_counts())\n",
    "sns.countplot(x='target',data=df_full)\n",
    "plt.show()"
   ]
  },
  {
   "cell_type": "markdown",
   "id": "f3fd93ce-03fe-4549-b94c-74317e78c087",
   "metadata": {},
   "source": [
    "Тут мы видим сразу, что те, кто уходят, значительно меньше раз совершали покупки."
   ]
  },
  {
   "cell_type": "markdown",
   "id": "d19e3c49-8749-4074-8f84-b354dad68c59",
   "metadata": {},
   "source": [
    "### Задачи EDA\n",
    "\n",
    "1. "
   ]
  },
  {
   "cell_type": "markdown",
   "id": "90b27c20-96c9-448a-a0c0-ace2ddd21fd9",
   "metadata": {},
   "source": [
    "# Нужно создать фичу с кол-во дней с прошлой покупки"
   ]
  },
  {
   "cell_type": "markdown",
   "id": "bf875d70-a764-411f-98e2-3dfd52123900",
   "metadata": {},
   "source": [
    "Как создать такую фичу?\n",
    "1. Сгруппируем по юзерам\n",
    "2. С помощью shift измерим разницу"
   ]
  },
  {
   "cell_type": "code",
   "execution_count": null,
   "id": "e6df2677-0e67-466d-ae67-4f8308988723",
   "metadata": {},
   "outputs": [],
   "source": [
    "df.head()\n",
    "df['date'] = df['timestamp'].dt.date"
   ]
  },
  {
   "cell_type": "code",
   "execution_count": null,
   "id": "66e81917-4ec3-40db-b03e-39a25b960329",
   "metadata": {},
   "outputs": [],
   "source": [
    "for client, group in df.groupby('clnt_ID'):\n",
    "    break\n",
    "group"
   ]
  },
  {
   "cell_type": "code",
   "execution_count": null,
   "id": "bd96f220-0249-4a41-b43d-4a42b711d820",
   "metadata": {},
   "outputs": [],
   "source": [
    "group['date'].diff()"
   ]
  },
  {
   "cell_type": "code",
   "execution_count": null,
   "id": "16434356-fc98-4f25-8c52-868857a55e03",
   "metadata": {
    "tags": []
   },
   "outputs": [],
   "source": [
    "def trans_funk(col):\n",
    "#     print(col.diff())\n",
    "    return col.diff()\n",
    "#     print(col)\n",
    "df['buy_diff_in_days'] = df.groupby('clnt_ID')['date'].transform(trans_funk)"
   ]
  },
  {
   "cell_type": "code",
   "execution_count": null,
   "id": "9ee8add2-430a-4ba4-bd85-c9d300cbf4f2",
   "metadata": {},
   "outputs": [],
   "source": [
    "df.head()"
   ]
  },
  {
   "cell_type": "code",
   "execution_count": null,
   "id": "b5dcf85d-703f-43d8-9fd6-f0d3faf2065d",
   "metadata": {
    "tags": []
   },
   "outputs": [],
   "source": [
    "df.head(10)['timestamp'].diff()"
   ]
  },
  {
   "cell_type": "code",
   "execution_count": null,
   "id": "9323b433-e490-454a-9eb1-1d37e97643b7",
   "metadata": {},
   "outputs": [],
   "source": [
    "# В итоге мы пока откажемся от подхода с таймсериес, и возьмем просто описание истории покупок клиентов.\n",
    "# Т.е. берем фичи сумма чека, скидка, дней с последней покупки для каждого клиента и сравнимаем эти статистики по группам 0 и 1 (таргету)\n",
    "# df_full.pivot_table(index='clnt_ID', values=['gest_Sum','gest_Discount'],aggfunc=['count','min','max','median','mean','std'],columns='target')"
   ]
  }
 ],
 "metadata": {
  "kernelspec": {
   "display_name": "Python 3",
   "language": "python",
   "name": "python3"
  },
  "language_info": {
   "codemirror_mode": {
    "name": "ipython",
    "version": 3
   },
   "file_extension": ".py",
   "mimetype": "text/x-python",
   "name": "python",
   "nbconvert_exporter": "python",
   "pygments_lexer": "ipython3",
   "version": "3.9.5"
  }
 },
 "nbformat": 4,
 "nbformat_minor": 5
}
